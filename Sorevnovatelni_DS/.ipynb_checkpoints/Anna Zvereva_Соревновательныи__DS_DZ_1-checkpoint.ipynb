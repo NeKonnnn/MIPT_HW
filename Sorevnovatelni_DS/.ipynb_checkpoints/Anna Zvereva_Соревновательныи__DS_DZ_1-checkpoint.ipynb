{
 "cells": [
  {
   "cell_type": "markdown",
   "metadata": {
    "id": "_Yx1Mi7abuht"
   },
   "source": [
    "# План домашних заданий"
   ]
  },
  {
   "cell_type": "markdown",
   "metadata": {
    "id": "_HK3X8tveQhH"
   },
   "source": [
    "\n",
    "- Описание задачи и знакомство с данными\n",
    "- Домашнее задание 1. Генерация и фильтрация признаков\n",
    "- Домашнее задание 2. Прогноз времени и вида поломки машин, настройка ML-модели\n",
    "- Дополнительное задание. Визуализация прогнозов, ошибок модели и важности признаков\n",
    "- Домашнее задание 3. Оптимизация. Тюнинг гиперпараметров с помощью `Optuna`\n",
    "- Домашнее задание 4. Блендинг\n",
    "- Домашнее задание 5. Парсинг внешних данных и оптимизация памяти\n",
    "- Отправка финального решения на лидерборд на Kaggle"
   ]
  },
  {
   "cell_type": "code",
   "execution_count": 1,
   "metadata": {
    "id": "cfomgq3Sbuht",
    "tags": []
   },
   "outputs": [],
   "source": [
    "import pandas as pd\n",
    "import numpy as np\n",
    "import matplotlib.pyplot as plt\n",
    "import seaborn as sns"
   ]
  },
  {
   "cell_type": "markdown",
   "metadata": {
    "id": "fkeIBE5Kbuht"
   },
   "source": [
    "# <center id=\"part0\"> Описание задачи"
   ]
  },
  {
   "cell_type": "markdown",
   "metadata": {
    "id": "MKmknPZbbuht"
   },
   "source": [
    "**Предыстория:**  мы работаем с каршеринговой компанией, которая управляет крупным автопарком машин. Наша цель — предотвратить длительные периоды простоя машин из-за поломок через своевременное обслуживание и ремонт.\n",
    "\n",
    "\n",
    "**Идея для решения проблемы:** создать приоритизированный список обхода машин. Этот список поможет технической бригаде сосредоточиться на автомобилях, которые наиболее вероятно выйдут из строя в ближайшее время.\n",
    "\n",
    "\n",
    "**Как компания решает задачу:**\n",
    "\n",
    "* Собирает данные о поездках и состоянии машин до поломок.\n",
    "\n",
    "* Нанимает Data Scientist, чтобы он смог использовать эти данные для анализа и прогнозирования характера поломок.\n",
    "\n",
    "**Важный момент**: задачи этого специалиста (Data Scientist) предстоит выполнять вам."
   ]
  },
  {
   "cell_type": "markdown",
   "metadata": {
    "id": "-VMB1MVpbuhu"
   },
   "source": [
    "## <center> Знакомство с данными"
   ]
  },
  {
   "cell_type": "markdown",
   "metadata": {
    "id": "TtZE_Frrbuhu"
   },
   "source": [
    "### Информация про машины с таргетом (основной датасет)"
   ]
  },
  {
   "cell_type": "code",
   "execution_count": 2,
   "metadata": {
    "colab": {
     "base_uri": "https://localhost:8080/",
     "height": 206
    },
    "id": "DhA6zYqebuhu",
    "outputId": "ebb18705-3973-445f-a229-413b7e289a79",
    "tags": []
   },
   "outputs": [
    {
     "data": {
      "application/vnd.google.colaboratory.intrinsic+json": {
       "summary": "{\n  \"name\": \"car_train\",\n  \"rows\": 5,\n  \"fields\": [\n    {\n      \"column\": \"car_id\",\n      \"properties\": {\n        \"dtype\": \"string\",\n        \"num_unique_values\": 5,\n        \"samples\": [\n          \"B-2051518V\",\n          \"l-1026528H\",\n          \"L-1816115Y\"\n        ],\n        \"semantic_type\": \"\",\n        \"description\": \"\"\n      }\n    },\n    {\n      \"column\": \"model\",\n      \"properties\": {\n        \"dtype\": \"string\",\n        \"num_unique_values\": 3,\n        \"samples\": [\n          \"Kia Rio X\",\n          \"Mini Cooper\",\n          \"Smart Coupe\"\n        ],\n        \"semantic_type\": \"\",\n        \"description\": \"\"\n      }\n    },\n    {\n      \"column\": \"car_type\",\n      \"properties\": {\n        \"dtype\": \"category\",\n        \"num_unique_values\": 2,\n        \"samples\": [\n          \"business\",\n          \"economy\"\n        ],\n        \"semantic_type\": \"\",\n        \"description\": \"\"\n      }\n    },\n    {\n      \"column\": \"fuel_type\",\n      \"properties\": {\n        \"dtype\": \"category\",\n        \"num_unique_values\": 1,\n        \"samples\": [\n          \"petrol\"\n        ],\n        \"semantic_type\": \"\",\n        \"description\": \"\"\n      }\n    },\n    {\n      \"column\": \"car_rating\",\n      \"properties\": {\n        \"dtype\": \"number\",\n        \"std\": 0.7922625827337804,\n        \"min\": 4.1,\n        \"max\": 6.14,\n        \"num_unique_values\": 5,\n        \"samples\": [\n          6.14\n        ],\n        \"semantic_type\": \"\",\n        \"description\": \"\"\n      }\n    },\n    {\n      \"column\": \"year_to_start\",\n      \"properties\": {\n        \"dtype\": \"number\",\n        \"std\": 2,\n        \"min\": 2011,\n        \"max\": 2016,\n        \"num_unique_values\": 4,\n        \"samples\": [\n          2012\n        ],\n        \"semantic_type\": \"\",\n        \"description\": \"\"\n      }\n    },\n    {\n      \"column\": \"riders\",\n      \"properties\": {\n        \"dtype\": \"number\",\n        \"std\": 43981,\n        \"min\": 754,\n        \"max\": 107225,\n        \"num_unique_values\": 5,\n        \"samples\": [\n          21091\n        ],\n        \"semantic_type\": \"\",\n        \"description\": \"\"\n      }\n    },\n    {\n      \"column\": \"year_to_work\",\n      \"properties\": {\n        \"dtype\": \"number\",\n        \"std\": 1,\n        \"min\": 2015,\n        \"max\": 2020,\n        \"num_unique_values\": 4,\n        \"samples\": [\n          2016\n        ],\n        \"semantic_type\": \"\",\n        \"description\": \"\"\n      }\n    },\n    {\n      \"column\": \"target_reg\",\n      \"properties\": {\n        \"dtype\": \"number\",\n        \"std\": 9.560579480345321,\n        \"min\": 29.78,\n        \"max\": 53.52,\n        \"num_unique_values\": 5,\n        \"samples\": [\n          30.7\n        ],\n        \"semantic_type\": \"\",\n        \"description\": \"\"\n      }\n    },\n    {\n      \"column\": \"target_class\",\n      \"properties\": {\n        \"dtype\": \"string\",\n        \"num_unique_values\": 4,\n        \"samples\": [\n          \"electro_bug\"\n        ],\n        \"semantic_type\": \"\",\n        \"description\": \"\"\n      }\n    }\n  ]\n}",
       "type": "dataframe"
      },
      "text/html": [
       "\n",
       "  <div id=\"df-810a4655-1260-4c12-bceb-1e63b8685e50\" class=\"colab-df-container\">\n",
       "    <div>\n",
       "<style scoped>\n",
       "    .dataframe tbody tr th:only-of-type {\n",
       "        vertical-align: middle;\n",
       "    }\n",
       "\n",
       "    .dataframe tbody tr th {\n",
       "        vertical-align: top;\n",
       "    }\n",
       "\n",
       "    .dataframe thead th {\n",
       "        text-align: right;\n",
       "    }\n",
       "</style>\n",
       "<table border=\"1\" class=\"dataframe\">\n",
       "  <thead>\n",
       "    <tr style=\"text-align: right;\">\n",
       "      <th></th>\n",
       "      <th>car_id</th>\n",
       "      <th>model</th>\n",
       "      <th>car_type</th>\n",
       "      <th>fuel_type</th>\n",
       "      <th>car_rating</th>\n",
       "      <th>year_to_start</th>\n",
       "      <th>riders</th>\n",
       "      <th>year_to_work</th>\n",
       "      <th>target_reg</th>\n",
       "      <th>target_class</th>\n",
       "    </tr>\n",
       "  </thead>\n",
       "  <tbody>\n",
       "    <tr>\n",
       "      <th>489</th>\n",
       "      <td>I77886789f</td>\n",
       "      <td>Kia Rio X</td>\n",
       "      <td>economy</td>\n",
       "      <td>petrol</td>\n",
       "      <td>4.10</td>\n",
       "      <td>2013</td>\n",
       "      <td>43323</td>\n",
       "      <td>2017</td>\n",
       "      <td>39.64</td>\n",
       "      <td>wheel_shake</td>\n",
       "    </tr>\n",
       "    <tr>\n",
       "      <th>2287</th>\n",
       "      <td>B-2051518V</td>\n",
       "      <td>Mini Cooper</td>\n",
       "      <td>business</td>\n",
       "      <td>petrol</td>\n",
       "      <td>6.14</td>\n",
       "      <td>2012</td>\n",
       "      <td>21091</td>\n",
       "      <td>2017</td>\n",
       "      <td>30.70</td>\n",
       "      <td>electro_bug</td>\n",
       "    </tr>\n",
       "    <tr>\n",
       "      <th>1507</th>\n",
       "      <td>L-1816115Y</td>\n",
       "      <td>Kia Rio X</td>\n",
       "      <td>economy</td>\n",
       "      <td>petrol</td>\n",
       "      <td>5.04</td>\n",
       "      <td>2011</td>\n",
       "      <td>754</td>\n",
       "      <td>2016</td>\n",
       "      <td>53.52</td>\n",
       "      <td>engine_overheat</td>\n",
       "    </tr>\n",
       "    <tr>\n",
       "      <th>1679</th>\n",
       "      <td>Z-1064749o</td>\n",
       "      <td>Kia Rio X</td>\n",
       "      <td>economy</td>\n",
       "      <td>petrol</td>\n",
       "      <td>4.34</td>\n",
       "      <td>2011</td>\n",
       "      <td>2052</td>\n",
       "      <td>2020</td>\n",
       "      <td>39.94</td>\n",
       "      <td>wheel_shake</td>\n",
       "    </tr>\n",
       "    <tr>\n",
       "      <th>823</th>\n",
       "      <td>l-1026528H</td>\n",
       "      <td>Smart Coupe</td>\n",
       "      <td>economy</td>\n",
       "      <td>petrol</td>\n",
       "      <td>4.90</td>\n",
       "      <td>2016</td>\n",
       "      <td>107225</td>\n",
       "      <td>2015</td>\n",
       "      <td>29.78</td>\n",
       "      <td>break_bug</td>\n",
       "    </tr>\n",
       "  </tbody>\n",
       "</table>\n",
       "</div>\n",
       "    <div class=\"colab-df-buttons\">\n",
       "\n",
       "  <div class=\"colab-df-container\">\n",
       "    <button class=\"colab-df-convert\" onclick=\"convertToInteractive('df-810a4655-1260-4c12-bceb-1e63b8685e50')\"\n",
       "            title=\"Convert this dataframe to an interactive table.\"\n",
       "            style=\"display:none;\">\n",
       "\n",
       "  <svg xmlns=\"http://www.w3.org/2000/svg\" height=\"24px\" viewBox=\"0 -960 960 960\">\n",
       "    <path d=\"M120-120v-720h720v720H120Zm60-500h600v-160H180v160Zm220 220h160v-160H400v160Zm0 220h160v-160H400v160ZM180-400h160v-160H180v160Zm440 0h160v-160H620v160ZM180-180h160v-160H180v160Zm440 0h160v-160H620v160Z\"/>\n",
       "  </svg>\n",
       "    </button>\n",
       "\n",
       "  <style>\n",
       "    .colab-df-container {\n",
       "      display:flex;\n",
       "      gap: 12px;\n",
       "    }\n",
       "\n",
       "    .colab-df-convert {\n",
       "      background-color: #E8F0FE;\n",
       "      border: none;\n",
       "      border-radius: 50%;\n",
       "      cursor: pointer;\n",
       "      display: none;\n",
       "      fill: #1967D2;\n",
       "      height: 32px;\n",
       "      padding: 0 0 0 0;\n",
       "      width: 32px;\n",
       "    }\n",
       "\n",
       "    .colab-df-convert:hover {\n",
       "      background-color: #E2EBFA;\n",
       "      box-shadow: 0px 1px 2px rgba(60, 64, 67, 0.3), 0px 1px 3px 1px rgba(60, 64, 67, 0.15);\n",
       "      fill: #174EA6;\n",
       "    }\n",
       "\n",
       "    .colab-df-buttons div {\n",
       "      margin-bottom: 4px;\n",
       "    }\n",
       "\n",
       "    [theme=dark] .colab-df-convert {\n",
       "      background-color: #3B4455;\n",
       "      fill: #D2E3FC;\n",
       "    }\n",
       "\n",
       "    [theme=dark] .colab-df-convert:hover {\n",
       "      background-color: #434B5C;\n",
       "      box-shadow: 0px 1px 3px 1px rgba(0, 0, 0, 0.15);\n",
       "      filter: drop-shadow(0px 1px 2px rgba(0, 0, 0, 0.3));\n",
       "      fill: #FFFFFF;\n",
       "    }\n",
       "  </style>\n",
       "\n",
       "    <script>\n",
       "      const buttonEl =\n",
       "        document.querySelector('#df-810a4655-1260-4c12-bceb-1e63b8685e50 button.colab-df-convert');\n",
       "      buttonEl.style.display =\n",
       "        google.colab.kernel.accessAllowed ? 'block' : 'none';\n",
       "\n",
       "      async function convertToInteractive(key) {\n",
       "        const element = document.querySelector('#df-810a4655-1260-4c12-bceb-1e63b8685e50');\n",
       "        const dataTable =\n",
       "          await google.colab.kernel.invokeFunction('convertToInteractive',\n",
       "                                                    [key], {});\n",
       "        if (!dataTable) return;\n",
       "\n",
       "        const docLinkHtml = 'Like what you see? Visit the ' +\n",
       "          '<a target=\"_blank\" href=https://colab.research.google.com/notebooks/data_table.ipynb>data table notebook</a>'\n",
       "          + ' to learn more about interactive tables.';\n",
       "        element.innerHTML = '';\n",
       "        dataTable['output_type'] = 'display_data';\n",
       "        await google.colab.output.renderOutput(dataTable, element);\n",
       "        const docLink = document.createElement('div');\n",
       "        docLink.innerHTML = docLinkHtml;\n",
       "        element.appendChild(docLink);\n",
       "      }\n",
       "    </script>\n",
       "  </div>\n",
       "\n",
       "\n",
       "<div id=\"df-957c83c7-9359-402f-be41-30d9d319a033\">\n",
       "  <button class=\"colab-df-quickchart\" onclick=\"quickchart('df-957c83c7-9359-402f-be41-30d9d319a033')\"\n",
       "            title=\"Suggest charts\"\n",
       "            style=\"display:none;\">\n",
       "\n",
       "<svg xmlns=\"http://www.w3.org/2000/svg\" height=\"24px\"viewBox=\"0 0 24 24\"\n",
       "     width=\"24px\">\n",
       "    <g>\n",
       "        <path d=\"M19 3H5c-1.1 0-2 .9-2 2v14c0 1.1.9 2 2 2h14c1.1 0 2-.9 2-2V5c0-1.1-.9-2-2-2zM9 17H7v-7h2v7zm4 0h-2V7h2v10zm4 0h-2v-4h2v4z\"/>\n",
       "    </g>\n",
       "</svg>\n",
       "  </button>\n",
       "\n",
       "<style>\n",
       "  .colab-df-quickchart {\n",
       "      --bg-color: #E8F0FE;\n",
       "      --fill-color: #1967D2;\n",
       "      --hover-bg-color: #E2EBFA;\n",
       "      --hover-fill-color: #174EA6;\n",
       "      --disabled-fill-color: #AAA;\n",
       "      --disabled-bg-color: #DDD;\n",
       "  }\n",
       "\n",
       "  [theme=dark] .colab-df-quickchart {\n",
       "      --bg-color: #3B4455;\n",
       "      --fill-color: #D2E3FC;\n",
       "      --hover-bg-color: #434B5C;\n",
       "      --hover-fill-color: #FFFFFF;\n",
       "      --disabled-bg-color: #3B4455;\n",
       "      --disabled-fill-color: #666;\n",
       "  }\n",
       "\n",
       "  .colab-df-quickchart {\n",
       "    background-color: var(--bg-color);\n",
       "    border: none;\n",
       "    border-radius: 50%;\n",
       "    cursor: pointer;\n",
       "    display: none;\n",
       "    fill: var(--fill-color);\n",
       "    height: 32px;\n",
       "    padding: 0;\n",
       "    width: 32px;\n",
       "  }\n",
       "\n",
       "  .colab-df-quickchart:hover {\n",
       "    background-color: var(--hover-bg-color);\n",
       "    box-shadow: 0 1px 2px rgba(60, 64, 67, 0.3), 0 1px 3px 1px rgba(60, 64, 67, 0.15);\n",
       "    fill: var(--button-hover-fill-color);\n",
       "  }\n",
       "\n",
       "  .colab-df-quickchart-complete:disabled,\n",
       "  .colab-df-quickchart-complete:disabled:hover {\n",
       "    background-color: var(--disabled-bg-color);\n",
       "    fill: var(--disabled-fill-color);\n",
       "    box-shadow: none;\n",
       "  }\n",
       "\n",
       "  .colab-df-spinner {\n",
       "    border: 2px solid var(--fill-color);\n",
       "    border-color: transparent;\n",
       "    border-bottom-color: var(--fill-color);\n",
       "    animation:\n",
       "      spin 1s steps(1) infinite;\n",
       "  }\n",
       "\n",
       "  @keyframes spin {\n",
       "    0% {\n",
       "      border-color: transparent;\n",
       "      border-bottom-color: var(--fill-color);\n",
       "      border-left-color: var(--fill-color);\n",
       "    }\n",
       "    20% {\n",
       "      border-color: transparent;\n",
       "      border-left-color: var(--fill-color);\n",
       "      border-top-color: var(--fill-color);\n",
       "    }\n",
       "    30% {\n",
       "      border-color: transparent;\n",
       "      border-left-color: var(--fill-color);\n",
       "      border-top-color: var(--fill-color);\n",
       "      border-right-color: var(--fill-color);\n",
       "    }\n",
       "    40% {\n",
       "      border-color: transparent;\n",
       "      border-right-color: var(--fill-color);\n",
       "      border-top-color: var(--fill-color);\n",
       "    }\n",
       "    60% {\n",
       "      border-color: transparent;\n",
       "      border-right-color: var(--fill-color);\n",
       "    }\n",
       "    80% {\n",
       "      border-color: transparent;\n",
       "      border-right-color: var(--fill-color);\n",
       "      border-bottom-color: var(--fill-color);\n",
       "    }\n",
       "    90% {\n",
       "      border-color: transparent;\n",
       "      border-bottom-color: var(--fill-color);\n",
       "    }\n",
       "  }\n",
       "</style>\n",
       "\n",
       "  <script>\n",
       "    async function quickchart(key) {\n",
       "      const quickchartButtonEl =\n",
       "        document.querySelector('#' + key + ' button');\n",
       "      quickchartButtonEl.disabled = true;  // To prevent multiple clicks.\n",
       "      quickchartButtonEl.classList.add('colab-df-spinner');\n",
       "      try {\n",
       "        const charts = await google.colab.kernel.invokeFunction(\n",
       "            'suggestCharts', [key], {});\n",
       "      } catch (error) {\n",
       "        console.error('Error during call to suggestCharts:', error);\n",
       "      }\n",
       "      quickchartButtonEl.classList.remove('colab-df-spinner');\n",
       "      quickchartButtonEl.classList.add('colab-df-quickchart-complete');\n",
       "    }\n",
       "    (() => {\n",
       "      let quickchartButtonEl =\n",
       "        document.querySelector('#df-957c83c7-9359-402f-be41-30d9d319a033 button');\n",
       "      quickchartButtonEl.style.display =\n",
       "        google.colab.kernel.accessAllowed ? 'block' : 'none';\n",
       "    })();\n",
       "  </script>\n",
       "</div>\n",
       "    </div>\n",
       "  </div>\n"
      ],
      "text/plain": [
       "          car_id        model  car_type fuel_type  car_rating  year_to_start  \\\n",
       "489   I77886789f    Kia Rio X   economy    petrol        4.10           2013   \n",
       "2287  B-2051518V  Mini Cooper  business    petrol        6.14           2012   \n",
       "1507  L-1816115Y    Kia Rio X   economy    petrol        5.04           2011   \n",
       "1679  Z-1064749o    Kia Rio X   economy    petrol        4.34           2011   \n",
       "823   l-1026528H  Smart Coupe   economy    petrol        4.90           2016   \n",
       "\n",
       "      riders  year_to_work  target_reg     target_class  \n",
       "489    43323          2017       39.64      wheel_shake  \n",
       "2287   21091          2017       30.70      electro_bug  \n",
       "1507     754          2016       53.52  engine_overheat  \n",
       "1679    2052          2020       39.94      wheel_shake  \n",
       "823   107225          2015       29.78        break_bug  "
      ]
     },
     "execution_count": 2,
     "metadata": {},
     "output_type": "execute_result"
    }
   ],
   "source": [
    "car_train = pd.read_csv('https://raw.githubusercontent.com/a-milenkin/Competitive_Data_Science/main/data/car_train.csv')\n",
    "car_train.sample(5)"
   ]
  },
  {
   "cell_type": "markdown",
   "metadata": {
    "id": "AWvQSnafbuhu"
   },
   "source": [
    "- `car_id` — идентификатор машины\n",
    "- `model` / `car_type` / `fuel_type` — марка, класс и тип топлива машины\n",
    "- `car_rating` / `riders` — общий рейтинг и общее число поездок к концу 2021 года\n",
    "- `year_to_start` / `year_to_work` — год выпуска машины и год начала работы в автопарке\n",
    "- `target_reg` — количество дней до поломки\n",
    "- `target_class` — класс поломки (всего 9 видов)"
   ]
  },
  {
   "cell_type": "markdown",
   "metadata": {
    "id": "6KWf2LgObuhu"
   },
   "source": [
    "### Информация про поездки"
   ]
  },
  {
   "cell_type": "code",
   "execution_count": 3,
   "metadata": {
    "colab": {
     "base_uri": "https://localhost:8080/",
     "height": 206
    },
    "id": "pDc5gXzbbuhu",
    "outputId": "d4c254e8-d0ee-4eaf-e411-d74fe56fcec5",
    "tags": []
   },
   "outputs": [
    {
     "data": {
      "application/vnd.google.colaboratory.intrinsic+json": {
       "repr_error": "0",
       "type": "dataframe"
      },
      "text/html": [
       "\n",
       "  <div id=\"df-651e8ce2-50ac-448c-9be3-6577e6607d6c\" class=\"colab-df-container\">\n",
       "    <div>\n",
       "<style scoped>\n",
       "    .dataframe tbody tr th:only-of-type {\n",
       "        vertical-align: middle;\n",
       "    }\n",
       "\n",
       "    .dataframe tbody tr th {\n",
       "        vertical-align: top;\n",
       "    }\n",
       "\n",
       "    .dataframe thead th {\n",
       "        text-align: right;\n",
       "    }\n",
       "</style>\n",
       "<table border=\"1\" class=\"dataframe\">\n",
       "  <thead>\n",
       "    <tr style=\"text-align: right;\">\n",
       "      <th></th>\n",
       "      <th>user_id</th>\n",
       "      <th>car_id</th>\n",
       "      <th>ride_id</th>\n",
       "      <th>ride_date</th>\n",
       "      <th>rating</th>\n",
       "      <th>ride_duration</th>\n",
       "      <th>ride_cost</th>\n",
       "      <th>speed_avg</th>\n",
       "      <th>speed_max</th>\n",
       "      <th>stop_times</th>\n",
       "      <th>distance</th>\n",
       "      <th>refueling</th>\n",
       "      <th>user_ride_quality</th>\n",
       "      <th>deviation_normal</th>\n",
       "    </tr>\n",
       "  </thead>\n",
       "  <tbody>\n",
       "    <tr>\n",
       "      <th>543668</th>\n",
       "      <td>c15075180a</td>\n",
       "      <td>m-7073285w</td>\n",
       "      <td>l1D</td>\n",
       "      <td>2020-02-18</td>\n",
       "      <td>7.20</td>\n",
       "      <td>10467</td>\n",
       "      <td>104665</td>\n",
       "      <td>50</td>\n",
       "      <td>62.000000</td>\n",
       "      <td>1</td>\n",
       "      <td>532596.558241</td>\n",
       "      <td>0</td>\n",
       "      <td>-8.803336</td>\n",
       "      <td>0.000</td>\n",
       "    </tr>\n",
       "    <tr>\n",
       "      <th>80944</th>\n",
       "      <td>G18068780D</td>\n",
       "      <td>F21755120L</td>\n",
       "      <td>W1O</td>\n",
       "      <td>2020-01-19</td>\n",
       "      <td>4.97</td>\n",
       "      <td>62</td>\n",
       "      <td>738</td>\n",
       "      <td>50</td>\n",
       "      <td>73.183793</td>\n",
       "      <td>0</td>\n",
       "      <td>1601.115075</td>\n",
       "      <td>0</td>\n",
       "      <td>-3.913415</td>\n",
       "      <td>26.175</td>\n",
       "    </tr>\n",
       "    <tr>\n",
       "      <th>411478</th>\n",
       "      <td>b70877559A</td>\n",
       "      <td>d-1979148g</td>\n",
       "      <td>b1R</td>\n",
       "      <td>2020-03-16</td>\n",
       "      <td>8.15</td>\n",
       "      <td>46</td>\n",
       "      <td>455</td>\n",
       "      <td>45</td>\n",
       "      <td>83.000000</td>\n",
       "      <td>2</td>\n",
       "      <td>1880.243995</td>\n",
       "      <td>0</td>\n",
       "      <td>15.336884</td>\n",
       "      <td>-20.546</td>\n",
       "    </tr>\n",
       "    <tr>\n",
       "      <th>567948</th>\n",
       "      <td>k18824844Y</td>\n",
       "      <td>o-1663812b</td>\n",
       "      <td>A1a</td>\n",
       "      <td>2020-01-07</td>\n",
       "      <td>5.54</td>\n",
       "      <td>54</td>\n",
       "      <td>643</td>\n",
       "      <td>43</td>\n",
       "      <td>76.000000</td>\n",
       "      <td>2</td>\n",
       "      <td>1536.044724</td>\n",
       "      <td>0</td>\n",
       "      <td>7.873519</td>\n",
       "      <td>2.284</td>\n",
       "    </tr>\n",
       "    <tr>\n",
       "      <th>588336</th>\n",
       "      <td>T12302914Q</td>\n",
       "      <td>p22237238Z</td>\n",
       "      <td>b1y</td>\n",
       "      <td>2020-01-23</td>\n",
       "      <td>4.64</td>\n",
       "      <td>141</td>\n",
       "      <td>1687</td>\n",
       "      <td>45</td>\n",
       "      <td>84.000000</td>\n",
       "      <td>0</td>\n",
       "      <td>771.313353</td>\n",
       "      <td>0</td>\n",
       "      <td>-4.308584</td>\n",
       "      <td>-27.160</td>\n",
       "    </tr>\n",
       "  </tbody>\n",
       "</table>\n",
       "</div>\n",
       "    <div class=\"colab-df-buttons\">\n",
       "\n",
       "  <div class=\"colab-df-container\">\n",
       "    <button class=\"colab-df-convert\" onclick=\"convertToInteractive('df-651e8ce2-50ac-448c-9be3-6577e6607d6c')\"\n",
       "            title=\"Convert this dataframe to an interactive table.\"\n",
       "            style=\"display:none;\">\n",
       "\n",
       "  <svg xmlns=\"http://www.w3.org/2000/svg\" height=\"24px\" viewBox=\"0 -960 960 960\">\n",
       "    <path d=\"M120-120v-720h720v720H120Zm60-500h600v-160H180v160Zm220 220h160v-160H400v160Zm0 220h160v-160H400v160ZM180-400h160v-160H180v160Zm440 0h160v-160H620v160ZM180-180h160v-160H180v160Zm440 0h160v-160H620v160Z\"/>\n",
       "  </svg>\n",
       "    </button>\n",
       "\n",
       "  <style>\n",
       "    .colab-df-container {\n",
       "      display:flex;\n",
       "      gap: 12px;\n",
       "    }\n",
       "\n",
       "    .colab-df-convert {\n",
       "      background-color: #E8F0FE;\n",
       "      border: none;\n",
       "      border-radius: 50%;\n",
       "      cursor: pointer;\n",
       "      display: none;\n",
       "      fill: #1967D2;\n",
       "      height: 32px;\n",
       "      padding: 0 0 0 0;\n",
       "      width: 32px;\n",
       "    }\n",
       "\n",
       "    .colab-df-convert:hover {\n",
       "      background-color: #E2EBFA;\n",
       "      box-shadow: 0px 1px 2px rgba(60, 64, 67, 0.3), 0px 1px 3px 1px rgba(60, 64, 67, 0.15);\n",
       "      fill: #174EA6;\n",
       "    }\n",
       "\n",
       "    .colab-df-buttons div {\n",
       "      margin-bottom: 4px;\n",
       "    }\n",
       "\n",
       "    [theme=dark] .colab-df-convert {\n",
       "      background-color: #3B4455;\n",
       "      fill: #D2E3FC;\n",
       "    }\n",
       "\n",
       "    [theme=dark] .colab-df-convert:hover {\n",
       "      background-color: #434B5C;\n",
       "      box-shadow: 0px 1px 3px 1px rgba(0, 0, 0, 0.15);\n",
       "      filter: drop-shadow(0px 1px 2px rgba(0, 0, 0, 0.3));\n",
       "      fill: #FFFFFF;\n",
       "    }\n",
       "  </style>\n",
       "\n",
       "    <script>\n",
       "      const buttonEl =\n",
       "        document.querySelector('#df-651e8ce2-50ac-448c-9be3-6577e6607d6c button.colab-df-convert');\n",
       "      buttonEl.style.display =\n",
       "        google.colab.kernel.accessAllowed ? 'block' : 'none';\n",
       "\n",
       "      async function convertToInteractive(key) {\n",
       "        const element = document.querySelector('#df-651e8ce2-50ac-448c-9be3-6577e6607d6c');\n",
       "        const dataTable =\n",
       "          await google.colab.kernel.invokeFunction('convertToInteractive',\n",
       "                                                    [key], {});\n",
       "        if (!dataTable) return;\n",
       "\n",
       "        const docLinkHtml = 'Like what you see? Visit the ' +\n",
       "          '<a target=\"_blank\" href=https://colab.research.google.com/notebooks/data_table.ipynb>data table notebook</a>'\n",
       "          + ' to learn more about interactive tables.';\n",
       "        element.innerHTML = '';\n",
       "        dataTable['output_type'] = 'display_data';\n",
       "        await google.colab.output.renderOutput(dataTable, element);\n",
       "        const docLink = document.createElement('div');\n",
       "        docLink.innerHTML = docLinkHtml;\n",
       "        element.appendChild(docLink);\n",
       "      }\n",
       "    </script>\n",
       "  </div>\n",
       "\n",
       "\n",
       "<div id=\"df-c17dfb59-d698-43d0-9cbc-3c789ab9ecab\">\n",
       "  <button class=\"colab-df-quickchart\" onclick=\"quickchart('df-c17dfb59-d698-43d0-9cbc-3c789ab9ecab')\"\n",
       "            title=\"Suggest charts\"\n",
       "            style=\"display:none;\">\n",
       "\n",
       "<svg xmlns=\"http://www.w3.org/2000/svg\" height=\"24px\"viewBox=\"0 0 24 24\"\n",
       "     width=\"24px\">\n",
       "    <g>\n",
       "        <path d=\"M19 3H5c-1.1 0-2 .9-2 2v14c0 1.1.9 2 2 2h14c1.1 0 2-.9 2-2V5c0-1.1-.9-2-2-2zM9 17H7v-7h2v7zm4 0h-2V7h2v10zm4 0h-2v-4h2v4z\"/>\n",
       "    </g>\n",
       "</svg>\n",
       "  </button>\n",
       "\n",
       "<style>\n",
       "  .colab-df-quickchart {\n",
       "      --bg-color: #E8F0FE;\n",
       "      --fill-color: #1967D2;\n",
       "      --hover-bg-color: #E2EBFA;\n",
       "      --hover-fill-color: #174EA6;\n",
       "      --disabled-fill-color: #AAA;\n",
       "      --disabled-bg-color: #DDD;\n",
       "  }\n",
       "\n",
       "  [theme=dark] .colab-df-quickchart {\n",
       "      --bg-color: #3B4455;\n",
       "      --fill-color: #D2E3FC;\n",
       "      --hover-bg-color: #434B5C;\n",
       "      --hover-fill-color: #FFFFFF;\n",
       "      --disabled-bg-color: #3B4455;\n",
       "      --disabled-fill-color: #666;\n",
       "  }\n",
       "\n",
       "  .colab-df-quickchart {\n",
       "    background-color: var(--bg-color);\n",
       "    border: none;\n",
       "    border-radius: 50%;\n",
       "    cursor: pointer;\n",
       "    display: none;\n",
       "    fill: var(--fill-color);\n",
       "    height: 32px;\n",
       "    padding: 0;\n",
       "    width: 32px;\n",
       "  }\n",
       "\n",
       "  .colab-df-quickchart:hover {\n",
       "    background-color: var(--hover-bg-color);\n",
       "    box-shadow: 0 1px 2px rgba(60, 64, 67, 0.3), 0 1px 3px 1px rgba(60, 64, 67, 0.15);\n",
       "    fill: var(--button-hover-fill-color);\n",
       "  }\n",
       "\n",
       "  .colab-df-quickchart-complete:disabled,\n",
       "  .colab-df-quickchart-complete:disabled:hover {\n",
       "    background-color: var(--disabled-bg-color);\n",
       "    fill: var(--disabled-fill-color);\n",
       "    box-shadow: none;\n",
       "  }\n",
       "\n",
       "  .colab-df-spinner {\n",
       "    border: 2px solid var(--fill-color);\n",
       "    border-color: transparent;\n",
       "    border-bottom-color: var(--fill-color);\n",
       "    animation:\n",
       "      spin 1s steps(1) infinite;\n",
       "  }\n",
       "\n",
       "  @keyframes spin {\n",
       "    0% {\n",
       "      border-color: transparent;\n",
       "      border-bottom-color: var(--fill-color);\n",
       "      border-left-color: var(--fill-color);\n",
       "    }\n",
       "    20% {\n",
       "      border-color: transparent;\n",
       "      border-left-color: var(--fill-color);\n",
       "      border-top-color: var(--fill-color);\n",
       "    }\n",
       "    30% {\n",
       "      border-color: transparent;\n",
       "      border-left-color: var(--fill-color);\n",
       "      border-top-color: var(--fill-color);\n",
       "      border-right-color: var(--fill-color);\n",
       "    }\n",
       "    40% {\n",
       "      border-color: transparent;\n",
       "      border-right-color: var(--fill-color);\n",
       "      border-top-color: var(--fill-color);\n",
       "    }\n",
       "    60% {\n",
       "      border-color: transparent;\n",
       "      border-right-color: var(--fill-color);\n",
       "    }\n",
       "    80% {\n",
       "      border-color: transparent;\n",
       "      border-right-color: var(--fill-color);\n",
       "      border-bottom-color: var(--fill-color);\n",
       "    }\n",
       "    90% {\n",
       "      border-color: transparent;\n",
       "      border-bottom-color: var(--fill-color);\n",
       "    }\n",
       "  }\n",
       "</style>\n",
       "\n",
       "  <script>\n",
       "    async function quickchart(key) {\n",
       "      const quickchartButtonEl =\n",
       "        document.querySelector('#' + key + ' button');\n",
       "      quickchartButtonEl.disabled = true;  // To prevent multiple clicks.\n",
       "      quickchartButtonEl.classList.add('colab-df-spinner');\n",
       "      try {\n",
       "        const charts = await google.colab.kernel.invokeFunction(\n",
       "            'suggestCharts', [key], {});\n",
       "      } catch (error) {\n",
       "        console.error('Error during call to suggestCharts:', error);\n",
       "      }\n",
       "      quickchartButtonEl.classList.remove('colab-df-spinner');\n",
       "      quickchartButtonEl.classList.add('colab-df-quickchart-complete');\n",
       "    }\n",
       "    (() => {\n",
       "      let quickchartButtonEl =\n",
       "        document.querySelector('#df-c17dfb59-d698-43d0-9cbc-3c789ab9ecab button');\n",
       "      quickchartButtonEl.style.display =\n",
       "        google.colab.kernel.accessAllowed ? 'block' : 'none';\n",
       "    })();\n",
       "  </script>\n",
       "</div>\n",
       "    </div>\n",
       "  </div>\n"
      ],
      "text/plain": [
       "           user_id      car_id ride_id   ride_date  rating  ride_duration  \\\n",
       "543668  c15075180a  m-7073285w     l1D  2020-02-18    7.20          10467   \n",
       "80944   G18068780D  F21755120L     W1O  2020-01-19    4.97             62   \n",
       "411478  b70877559A  d-1979148g     b1R  2020-03-16    8.15             46   \n",
       "567948  k18824844Y  o-1663812b     A1a  2020-01-07    5.54             54   \n",
       "588336  T12302914Q  p22237238Z     b1y  2020-01-23    4.64            141   \n",
       "\n",
       "        ride_cost  speed_avg  speed_max  stop_times       distance  refueling  \\\n",
       "543668     104665         50  62.000000           1  532596.558241          0   \n",
       "80944         738         50  73.183793           0    1601.115075          0   \n",
       "411478        455         45  83.000000           2    1880.243995          0   \n",
       "567948        643         43  76.000000           2    1536.044724          0   \n",
       "588336       1687         45  84.000000           0     771.313353          0   \n",
       "\n",
       "        user_ride_quality  deviation_normal  \n",
       "543668          -8.803336             0.000  \n",
       "80944           -3.913415            26.175  \n",
       "411478          15.336884           -20.546  \n",
       "567948           7.873519             2.284  \n",
       "588336          -4.308584           -27.160  "
      ]
     },
     "execution_count": 3,
     "metadata": {},
     "output_type": "execute_result"
    }
   ],
   "source": [
    "rides_info = pd.read_csv('https://raw.githubusercontent.com/a-milenkin/Competitive_Data_Science/main/data/rides_info.csv')\n",
    "rides_info.sample(5)"
   ]
  },
  {
   "cell_type": "markdown",
   "metadata": {
    "id": "ZAn8S24sbuhv"
   },
   "source": [
    "- `user_id` / `car_id` / `ride_id` — идентификаторы водителя, машины, поездки соответственно\n",
    "- `ride_date` / `rating` — дата поездки и рейтинг, поставленный водителем\n",
    "- `ride_duration` / `distance` / `ride_cost` —  длительность (время),  пройденное расстояние, стоимость поездки\n",
    "- `speed_avg` / `speed_max` — средняя и максимальная скорости поездки соответственно\n",
    "- `stop_times` / `refueling` — количество остановок (паузы) и флаг: была ли дозаправка\n",
    "- `user_ride_quality` — оценка манеры вождения водителя машины, определенная скоринговой ML-системой сервиса\n",
    "- `deviation_normal` — общий показатель датчиков о состоянии машины, относительно эталонных показателей (нормы)"
   ]
  },
  {
   "cell_type": "markdown",
   "metadata": {
    "id": "O0Onuz4ybuhv"
   },
   "source": [
    "### Информация про водителей"
   ]
  },
  {
   "cell_type": "code",
   "execution_count": 4,
   "metadata": {
    "colab": {
     "base_uri": "https://localhost:8080/",
     "height": 206
    },
    "id": "WBEvQXhxbuhv",
    "outputId": "ca200b0e-e352-4751-c3d5-c2df97436a5b",
    "tags": []
   },
   "outputs": [
    {
     "data": {
      "application/vnd.google.colaboratory.intrinsic+json": {
       "repr_error": "0",
       "type": "dataframe"
      },
      "text/html": [
       "\n",
       "  <div id=\"df-19ddc2c7-2c61-415a-91e2-1ba9678e0553\" class=\"colab-df-container\">\n",
       "    <div>\n",
       "<style scoped>\n",
       "    .dataframe tbody tr th:only-of-type {\n",
       "        vertical-align: middle;\n",
       "    }\n",
       "\n",
       "    .dataframe tbody tr th {\n",
       "        vertical-align: top;\n",
       "    }\n",
       "\n",
       "    .dataframe thead th {\n",
       "        text-align: right;\n",
       "    }\n",
       "</style>\n",
       "<table border=\"1\" class=\"dataframe\">\n",
       "  <thead>\n",
       "    <tr style=\"text-align: right;\">\n",
       "      <th></th>\n",
       "      <th>age</th>\n",
       "      <th>user_rating</th>\n",
       "      <th>user_rides</th>\n",
       "      <th>user_time_accident</th>\n",
       "      <th>user_id</th>\n",
       "      <th>sex</th>\n",
       "      <th>first_ride_date</th>\n",
       "    </tr>\n",
       "  </thead>\n",
       "  <tbody>\n",
       "    <tr>\n",
       "      <th>1105</th>\n",
       "      <td>28</td>\n",
       "      <td>8.3</td>\n",
       "      <td>1129</td>\n",
       "      <td>9.0</td>\n",
       "      <td>j34205678P</td>\n",
       "      <td>1</td>\n",
       "      <td>2020-12-7</td>\n",
       "    </tr>\n",
       "    <tr>\n",
       "      <th>10928</th>\n",
       "      <td>45</td>\n",
       "      <td>6.9</td>\n",
       "      <td>177</td>\n",
       "      <td>7.0</td>\n",
       "      <td>N13257521q</td>\n",
       "      <td>0</td>\n",
       "      <td>2019-9-28</td>\n",
       "    </tr>\n",
       "    <tr>\n",
       "      <th>3911</th>\n",
       "      <td>48</td>\n",
       "      <td>7.7</td>\n",
       "      <td>1003</td>\n",
       "      <td>8.0</td>\n",
       "      <td>f41434429N</td>\n",
       "      <td>0</td>\n",
       "      <td>2021-1-28</td>\n",
       "    </tr>\n",
       "    <tr>\n",
       "      <th>4040</th>\n",
       "      <td>43</td>\n",
       "      <td>7.6</td>\n",
       "      <td>1026</td>\n",
       "      <td>69.0</td>\n",
       "      <td>X20009261U</td>\n",
       "      <td>0</td>\n",
       "      <td>2019-2-18</td>\n",
       "    </tr>\n",
       "    <tr>\n",
       "      <th>10048</th>\n",
       "      <td>36</td>\n",
       "      <td>7.8</td>\n",
       "      <td>774</td>\n",
       "      <td>3.0</td>\n",
       "      <td>y63851097t</td>\n",
       "      <td>0</td>\n",
       "      <td>2019-4-23</td>\n",
       "    </tr>\n",
       "  </tbody>\n",
       "</table>\n",
       "</div>\n",
       "    <div class=\"colab-df-buttons\">\n",
       "\n",
       "  <div class=\"colab-df-container\">\n",
       "    <button class=\"colab-df-convert\" onclick=\"convertToInteractive('df-19ddc2c7-2c61-415a-91e2-1ba9678e0553')\"\n",
       "            title=\"Convert this dataframe to an interactive table.\"\n",
       "            style=\"display:none;\">\n",
       "\n",
       "  <svg xmlns=\"http://www.w3.org/2000/svg\" height=\"24px\" viewBox=\"0 -960 960 960\">\n",
       "    <path d=\"M120-120v-720h720v720H120Zm60-500h600v-160H180v160Zm220 220h160v-160H400v160Zm0 220h160v-160H400v160ZM180-400h160v-160H180v160Zm440 0h160v-160H620v160ZM180-180h160v-160H180v160Zm440 0h160v-160H620v160Z\"/>\n",
       "  </svg>\n",
       "    </button>\n",
       "\n",
       "  <style>\n",
       "    .colab-df-container {\n",
       "      display:flex;\n",
       "      gap: 12px;\n",
       "    }\n",
       "\n",
       "    .colab-df-convert {\n",
       "      background-color: #E8F0FE;\n",
       "      border: none;\n",
       "      border-radius: 50%;\n",
       "      cursor: pointer;\n",
       "      display: none;\n",
       "      fill: #1967D2;\n",
       "      height: 32px;\n",
       "      padding: 0 0 0 0;\n",
       "      width: 32px;\n",
       "    }\n",
       "\n",
       "    .colab-df-convert:hover {\n",
       "      background-color: #E2EBFA;\n",
       "      box-shadow: 0px 1px 2px rgba(60, 64, 67, 0.3), 0px 1px 3px 1px rgba(60, 64, 67, 0.15);\n",
       "      fill: #174EA6;\n",
       "    }\n",
       "\n",
       "    .colab-df-buttons div {\n",
       "      margin-bottom: 4px;\n",
       "    }\n",
       "\n",
       "    [theme=dark] .colab-df-convert {\n",
       "      background-color: #3B4455;\n",
       "      fill: #D2E3FC;\n",
       "    }\n",
       "\n",
       "    [theme=dark] .colab-df-convert:hover {\n",
       "      background-color: #434B5C;\n",
       "      box-shadow: 0px 1px 3px 1px rgba(0, 0, 0, 0.15);\n",
       "      filter: drop-shadow(0px 1px 2px rgba(0, 0, 0, 0.3));\n",
       "      fill: #FFFFFF;\n",
       "    }\n",
       "  </style>\n",
       "\n",
       "    <script>\n",
       "      const buttonEl =\n",
       "        document.querySelector('#df-19ddc2c7-2c61-415a-91e2-1ba9678e0553 button.colab-df-convert');\n",
       "      buttonEl.style.display =\n",
       "        google.colab.kernel.accessAllowed ? 'block' : 'none';\n",
       "\n",
       "      async function convertToInteractive(key) {\n",
       "        const element = document.querySelector('#df-19ddc2c7-2c61-415a-91e2-1ba9678e0553');\n",
       "        const dataTable =\n",
       "          await google.colab.kernel.invokeFunction('convertToInteractive',\n",
       "                                                    [key], {});\n",
       "        if (!dataTable) return;\n",
       "\n",
       "        const docLinkHtml = 'Like what you see? Visit the ' +\n",
       "          '<a target=\"_blank\" href=https://colab.research.google.com/notebooks/data_table.ipynb>data table notebook</a>'\n",
       "          + ' to learn more about interactive tables.';\n",
       "        element.innerHTML = '';\n",
       "        dataTable['output_type'] = 'display_data';\n",
       "        await google.colab.output.renderOutput(dataTable, element);\n",
       "        const docLink = document.createElement('div');\n",
       "        docLink.innerHTML = docLinkHtml;\n",
       "        element.appendChild(docLink);\n",
       "      }\n",
       "    </script>\n",
       "  </div>\n",
       "\n",
       "\n",
       "<div id=\"df-ed3d7b4d-e8ce-40c1-a2a5-dc8859002ab2\">\n",
       "  <button class=\"colab-df-quickchart\" onclick=\"quickchart('df-ed3d7b4d-e8ce-40c1-a2a5-dc8859002ab2')\"\n",
       "            title=\"Suggest charts\"\n",
       "            style=\"display:none;\">\n",
       "\n",
       "<svg xmlns=\"http://www.w3.org/2000/svg\" height=\"24px\"viewBox=\"0 0 24 24\"\n",
       "     width=\"24px\">\n",
       "    <g>\n",
       "        <path d=\"M19 3H5c-1.1 0-2 .9-2 2v14c0 1.1.9 2 2 2h14c1.1 0 2-.9 2-2V5c0-1.1-.9-2-2-2zM9 17H7v-7h2v7zm4 0h-2V7h2v10zm4 0h-2v-4h2v4z\"/>\n",
       "    </g>\n",
       "</svg>\n",
       "  </button>\n",
       "\n",
       "<style>\n",
       "  .colab-df-quickchart {\n",
       "      --bg-color: #E8F0FE;\n",
       "      --fill-color: #1967D2;\n",
       "      --hover-bg-color: #E2EBFA;\n",
       "      --hover-fill-color: #174EA6;\n",
       "      --disabled-fill-color: #AAA;\n",
       "      --disabled-bg-color: #DDD;\n",
       "  }\n",
       "\n",
       "  [theme=dark] .colab-df-quickchart {\n",
       "      --bg-color: #3B4455;\n",
       "      --fill-color: #D2E3FC;\n",
       "      --hover-bg-color: #434B5C;\n",
       "      --hover-fill-color: #FFFFFF;\n",
       "      --disabled-bg-color: #3B4455;\n",
       "      --disabled-fill-color: #666;\n",
       "  }\n",
       "\n",
       "  .colab-df-quickchart {\n",
       "    background-color: var(--bg-color);\n",
       "    border: none;\n",
       "    border-radius: 50%;\n",
       "    cursor: pointer;\n",
       "    display: none;\n",
       "    fill: var(--fill-color);\n",
       "    height: 32px;\n",
       "    padding: 0;\n",
       "    width: 32px;\n",
       "  }\n",
       "\n",
       "  .colab-df-quickchart:hover {\n",
       "    background-color: var(--hover-bg-color);\n",
       "    box-shadow: 0 1px 2px rgba(60, 64, 67, 0.3), 0 1px 3px 1px rgba(60, 64, 67, 0.15);\n",
       "    fill: var(--button-hover-fill-color);\n",
       "  }\n",
       "\n",
       "  .colab-df-quickchart-complete:disabled,\n",
       "  .colab-df-quickchart-complete:disabled:hover {\n",
       "    background-color: var(--disabled-bg-color);\n",
       "    fill: var(--disabled-fill-color);\n",
       "    box-shadow: none;\n",
       "  }\n",
       "\n",
       "  .colab-df-spinner {\n",
       "    border: 2px solid var(--fill-color);\n",
       "    border-color: transparent;\n",
       "    border-bottom-color: var(--fill-color);\n",
       "    animation:\n",
       "      spin 1s steps(1) infinite;\n",
       "  }\n",
       "\n",
       "  @keyframes spin {\n",
       "    0% {\n",
       "      border-color: transparent;\n",
       "      border-bottom-color: var(--fill-color);\n",
       "      border-left-color: var(--fill-color);\n",
       "    }\n",
       "    20% {\n",
       "      border-color: transparent;\n",
       "      border-left-color: var(--fill-color);\n",
       "      border-top-color: var(--fill-color);\n",
       "    }\n",
       "    30% {\n",
       "      border-color: transparent;\n",
       "      border-left-color: var(--fill-color);\n",
       "      border-top-color: var(--fill-color);\n",
       "      border-right-color: var(--fill-color);\n",
       "    }\n",
       "    40% {\n",
       "      border-color: transparent;\n",
       "      border-right-color: var(--fill-color);\n",
       "      border-top-color: var(--fill-color);\n",
       "    }\n",
       "    60% {\n",
       "      border-color: transparent;\n",
       "      border-right-color: var(--fill-color);\n",
       "    }\n",
       "    80% {\n",
       "      border-color: transparent;\n",
       "      border-right-color: var(--fill-color);\n",
       "      border-bottom-color: var(--fill-color);\n",
       "    }\n",
       "    90% {\n",
       "      border-color: transparent;\n",
       "      border-bottom-color: var(--fill-color);\n",
       "    }\n",
       "  }\n",
       "</style>\n",
       "\n",
       "  <script>\n",
       "    async function quickchart(key) {\n",
       "      const quickchartButtonEl =\n",
       "        document.querySelector('#' + key + ' button');\n",
       "      quickchartButtonEl.disabled = true;  // To prevent multiple clicks.\n",
       "      quickchartButtonEl.classList.add('colab-df-spinner');\n",
       "      try {\n",
       "        const charts = await google.colab.kernel.invokeFunction(\n",
       "            'suggestCharts', [key], {});\n",
       "      } catch (error) {\n",
       "        console.error('Error during call to suggestCharts:', error);\n",
       "      }\n",
       "      quickchartButtonEl.classList.remove('colab-df-spinner');\n",
       "      quickchartButtonEl.classList.add('colab-df-quickchart-complete');\n",
       "    }\n",
       "    (() => {\n",
       "      let quickchartButtonEl =\n",
       "        document.querySelector('#df-ed3d7b4d-e8ce-40c1-a2a5-dc8859002ab2 button');\n",
       "      quickchartButtonEl.style.display =\n",
       "        google.colab.kernel.accessAllowed ? 'block' : 'none';\n",
       "    })();\n",
       "  </script>\n",
       "</div>\n",
       "    </div>\n",
       "  </div>\n"
      ],
      "text/plain": [
       "       age  user_rating  user_rides  user_time_accident     user_id  sex  \\\n",
       "1105    28          8.3        1129                 9.0  j34205678P    1   \n",
       "10928   45          6.9         177                 7.0  N13257521q    0   \n",
       "3911    48          7.7        1003                 8.0  f41434429N    0   \n",
       "4040    43          7.6        1026                69.0  X20009261U    0   \n",
       "10048   36          7.8         774                 3.0  y63851097t    0   \n",
       "\n",
       "      first_ride_date  \n",
       "1105        2020-12-7  \n",
       "10928       2019-9-28  \n",
       "3911        2021-1-28  \n",
       "4040        2019-2-18  \n",
       "10048       2019-4-23  "
      ]
     },
     "execution_count": 4,
     "metadata": {},
     "output_type": "execute_result"
    }
   ],
   "source": [
    "driver_info = pd.read_csv('https://raw.githubusercontent.com/a-milenkin/Competitive_Data_Science/main/data/driver_info.csv')\n",
    "driver_info.sample(5)"
   ]
  },
  {
   "cell_type": "markdown",
   "metadata": {
    "id": "ubFE8w-Kbuhv"
   },
   "source": [
    "- `user_id` / `age` / `sex` — идентификатор, возраст и пол водителя, соответственно\n",
    "- `user_rating` — общий рейтинг пользователя за все поездки к концу 2021 года\n",
    "- `user_rides` — общее количество поездок к концу 2021 года\n",
    "- `user_time_accident` — число инцидентов (это могли быть аварии/штрафы/эвакуация машины)  \n",
    "- `first_ride_date` — дата первой поездки"
   ]
  },
  {
   "cell_type": "markdown",
   "metadata": {
    "id": "cXDdvlHYbuhv"
   },
   "source": [
    "### Информация про ремонт машин"
   ]
  },
  {
   "cell_type": "code",
   "execution_count": 5,
   "metadata": {
    "colab": {
     "base_uri": "https://localhost:8080/",
     "height": 206
    },
    "id": "eVTjvBspbuhv",
    "outputId": "015e4152-95d2-45f4-cc13-b0fbb027e243",
    "tags": []
   },
   "outputs": [
    {
     "data": {
      "application/vnd.google.colaboratory.intrinsic+json": {
       "repr_error": "0",
       "type": "dataframe"
      },
      "text/html": [
       "\n",
       "  <div id=\"df-5708b851-ff15-4376-ba03-83e5e0f2e426\" class=\"colab-df-container\">\n",
       "    <div>\n",
       "<style scoped>\n",
       "    .dataframe tbody tr th:only-of-type {\n",
       "        vertical-align: middle;\n",
       "    }\n",
       "\n",
       "    .dataframe tbody tr th {\n",
       "        vertical-align: top;\n",
       "    }\n",
       "\n",
       "    .dataframe thead th {\n",
       "        text-align: right;\n",
       "    }\n",
       "</style>\n",
       "<table border=\"1\" class=\"dataframe\">\n",
       "  <thead>\n",
       "    <tr style=\"text-align: right;\">\n",
       "      <th></th>\n",
       "      <th>car_id</th>\n",
       "      <th>worker_id</th>\n",
       "      <th>fix_date</th>\n",
       "      <th>work_type</th>\n",
       "      <th>destroy_degree</th>\n",
       "      <th>work_duration</th>\n",
       "    </tr>\n",
       "  </thead>\n",
       "  <tbody>\n",
       "    <tr>\n",
       "      <th>71357</th>\n",
       "      <td>E-2002668A</td>\n",
       "      <td>RX</td>\n",
       "      <td>2019-6-12 23:57</td>\n",
       "      <td>reparking</td>\n",
       "      <td>1.0</td>\n",
       "      <td>22</td>\n",
       "    </tr>\n",
       "    <tr>\n",
       "      <th>134617</th>\n",
       "      <td>Y74309277t</td>\n",
       "      <td>KC</td>\n",
       "      <td>2020-5-25 7:51</td>\n",
       "      <td>reparking</td>\n",
       "      <td>1.0</td>\n",
       "      <td>28</td>\n",
       "    </tr>\n",
       "    <tr>\n",
       "      <th>114240</th>\n",
       "      <td>R16339581p</td>\n",
       "      <td>CP</td>\n",
       "      <td>2020-11-14 20:35</td>\n",
       "      <td>reparking</td>\n",
       "      <td>1.0</td>\n",
       "      <td>25</td>\n",
       "    </tr>\n",
       "    <tr>\n",
       "      <th>32323</th>\n",
       "      <td>M-1057522s</td>\n",
       "      <td>FF</td>\n",
       "      <td>2019-11-1 18:53</td>\n",
       "      <td>reparking</td>\n",
       "      <td>1.0</td>\n",
       "      <td>29</td>\n",
       "    </tr>\n",
       "    <tr>\n",
       "      <th>101445</th>\n",
       "      <td>b48529290x</td>\n",
       "      <td>JZ</td>\n",
       "      <td>2020-4-11 0:23</td>\n",
       "      <td>refuel</td>\n",
       "      <td>1.0</td>\n",
       "      <td>16</td>\n",
       "    </tr>\n",
       "  </tbody>\n",
       "</table>\n",
       "</div>\n",
       "    <div class=\"colab-df-buttons\">\n",
       "\n",
       "  <div class=\"colab-df-container\">\n",
       "    <button class=\"colab-df-convert\" onclick=\"convertToInteractive('df-5708b851-ff15-4376-ba03-83e5e0f2e426')\"\n",
       "            title=\"Convert this dataframe to an interactive table.\"\n",
       "            style=\"display:none;\">\n",
       "\n",
       "  <svg xmlns=\"http://www.w3.org/2000/svg\" height=\"24px\" viewBox=\"0 -960 960 960\">\n",
       "    <path d=\"M120-120v-720h720v720H120Zm60-500h600v-160H180v160Zm220 220h160v-160H400v160Zm0 220h160v-160H400v160ZM180-400h160v-160H180v160Zm440 0h160v-160H620v160ZM180-180h160v-160H180v160Zm440 0h160v-160H620v160Z\"/>\n",
       "  </svg>\n",
       "    </button>\n",
       "\n",
       "  <style>\n",
       "    .colab-df-container {\n",
       "      display:flex;\n",
       "      gap: 12px;\n",
       "    }\n",
       "\n",
       "    .colab-df-convert {\n",
       "      background-color: #E8F0FE;\n",
       "      border: none;\n",
       "      border-radius: 50%;\n",
       "      cursor: pointer;\n",
       "      display: none;\n",
       "      fill: #1967D2;\n",
       "      height: 32px;\n",
       "      padding: 0 0 0 0;\n",
       "      width: 32px;\n",
       "    }\n",
       "\n",
       "    .colab-df-convert:hover {\n",
       "      background-color: #E2EBFA;\n",
       "      box-shadow: 0px 1px 2px rgba(60, 64, 67, 0.3), 0px 1px 3px 1px rgba(60, 64, 67, 0.15);\n",
       "      fill: #174EA6;\n",
       "    }\n",
       "\n",
       "    .colab-df-buttons div {\n",
       "      margin-bottom: 4px;\n",
       "    }\n",
       "\n",
       "    [theme=dark] .colab-df-convert {\n",
       "      background-color: #3B4455;\n",
       "      fill: #D2E3FC;\n",
       "    }\n",
       "\n",
       "    [theme=dark] .colab-df-convert:hover {\n",
       "      background-color: #434B5C;\n",
       "      box-shadow: 0px 1px 3px 1px rgba(0, 0, 0, 0.15);\n",
       "      filter: drop-shadow(0px 1px 2px rgba(0, 0, 0, 0.3));\n",
       "      fill: #FFFFFF;\n",
       "    }\n",
       "  </style>\n",
       "\n",
       "    <script>\n",
       "      const buttonEl =\n",
       "        document.querySelector('#df-5708b851-ff15-4376-ba03-83e5e0f2e426 button.colab-df-convert');\n",
       "      buttonEl.style.display =\n",
       "        google.colab.kernel.accessAllowed ? 'block' : 'none';\n",
       "\n",
       "      async function convertToInteractive(key) {\n",
       "        const element = document.querySelector('#df-5708b851-ff15-4376-ba03-83e5e0f2e426');\n",
       "        const dataTable =\n",
       "          await google.colab.kernel.invokeFunction('convertToInteractive',\n",
       "                                                    [key], {});\n",
       "        if (!dataTable) return;\n",
       "\n",
       "        const docLinkHtml = 'Like what you see? Visit the ' +\n",
       "          '<a target=\"_blank\" href=https://colab.research.google.com/notebooks/data_table.ipynb>data table notebook</a>'\n",
       "          + ' to learn more about interactive tables.';\n",
       "        element.innerHTML = '';\n",
       "        dataTable['output_type'] = 'display_data';\n",
       "        await google.colab.output.renderOutput(dataTable, element);\n",
       "        const docLink = document.createElement('div');\n",
       "        docLink.innerHTML = docLinkHtml;\n",
       "        element.appendChild(docLink);\n",
       "      }\n",
       "    </script>\n",
       "  </div>\n",
       "\n",
       "\n",
       "<div id=\"df-0659988b-5710-49af-8abe-dca05eaf702c\">\n",
       "  <button class=\"colab-df-quickchart\" onclick=\"quickchart('df-0659988b-5710-49af-8abe-dca05eaf702c')\"\n",
       "            title=\"Suggest charts\"\n",
       "            style=\"display:none;\">\n",
       "\n",
       "<svg xmlns=\"http://www.w3.org/2000/svg\" height=\"24px\"viewBox=\"0 0 24 24\"\n",
       "     width=\"24px\">\n",
       "    <g>\n",
       "        <path d=\"M19 3H5c-1.1 0-2 .9-2 2v14c0 1.1.9 2 2 2h14c1.1 0 2-.9 2-2V5c0-1.1-.9-2-2-2zM9 17H7v-7h2v7zm4 0h-2V7h2v10zm4 0h-2v-4h2v4z\"/>\n",
       "    </g>\n",
       "</svg>\n",
       "  </button>\n",
       "\n",
       "<style>\n",
       "  .colab-df-quickchart {\n",
       "      --bg-color: #E8F0FE;\n",
       "      --fill-color: #1967D2;\n",
       "      --hover-bg-color: #E2EBFA;\n",
       "      --hover-fill-color: #174EA6;\n",
       "      --disabled-fill-color: #AAA;\n",
       "      --disabled-bg-color: #DDD;\n",
       "  }\n",
       "\n",
       "  [theme=dark] .colab-df-quickchart {\n",
       "      --bg-color: #3B4455;\n",
       "      --fill-color: #D2E3FC;\n",
       "      --hover-bg-color: #434B5C;\n",
       "      --hover-fill-color: #FFFFFF;\n",
       "      --disabled-bg-color: #3B4455;\n",
       "      --disabled-fill-color: #666;\n",
       "  }\n",
       "\n",
       "  .colab-df-quickchart {\n",
       "    background-color: var(--bg-color);\n",
       "    border: none;\n",
       "    border-radius: 50%;\n",
       "    cursor: pointer;\n",
       "    display: none;\n",
       "    fill: var(--fill-color);\n",
       "    height: 32px;\n",
       "    padding: 0;\n",
       "    width: 32px;\n",
       "  }\n",
       "\n",
       "  .colab-df-quickchart:hover {\n",
       "    background-color: var(--hover-bg-color);\n",
       "    box-shadow: 0 1px 2px rgba(60, 64, 67, 0.3), 0 1px 3px 1px rgba(60, 64, 67, 0.15);\n",
       "    fill: var(--button-hover-fill-color);\n",
       "  }\n",
       "\n",
       "  .colab-df-quickchart-complete:disabled,\n",
       "  .colab-df-quickchart-complete:disabled:hover {\n",
       "    background-color: var(--disabled-bg-color);\n",
       "    fill: var(--disabled-fill-color);\n",
       "    box-shadow: none;\n",
       "  }\n",
       "\n",
       "  .colab-df-spinner {\n",
       "    border: 2px solid var(--fill-color);\n",
       "    border-color: transparent;\n",
       "    border-bottom-color: var(--fill-color);\n",
       "    animation:\n",
       "      spin 1s steps(1) infinite;\n",
       "  }\n",
       "\n",
       "  @keyframes spin {\n",
       "    0% {\n",
       "      border-color: transparent;\n",
       "      border-bottom-color: var(--fill-color);\n",
       "      border-left-color: var(--fill-color);\n",
       "    }\n",
       "    20% {\n",
       "      border-color: transparent;\n",
       "      border-left-color: var(--fill-color);\n",
       "      border-top-color: var(--fill-color);\n",
       "    }\n",
       "    30% {\n",
       "      border-color: transparent;\n",
       "      border-left-color: var(--fill-color);\n",
       "      border-top-color: var(--fill-color);\n",
       "      border-right-color: var(--fill-color);\n",
       "    }\n",
       "    40% {\n",
       "      border-color: transparent;\n",
       "      border-right-color: var(--fill-color);\n",
       "      border-top-color: var(--fill-color);\n",
       "    }\n",
       "    60% {\n",
       "      border-color: transparent;\n",
       "      border-right-color: var(--fill-color);\n",
       "    }\n",
       "    80% {\n",
       "      border-color: transparent;\n",
       "      border-right-color: var(--fill-color);\n",
       "      border-bottom-color: var(--fill-color);\n",
       "    }\n",
       "    90% {\n",
       "      border-color: transparent;\n",
       "      border-bottom-color: var(--fill-color);\n",
       "    }\n",
       "  }\n",
       "</style>\n",
       "\n",
       "  <script>\n",
       "    async function quickchart(key) {\n",
       "      const quickchartButtonEl =\n",
       "        document.querySelector('#' + key + ' button');\n",
       "      quickchartButtonEl.disabled = true;  // To prevent multiple clicks.\n",
       "      quickchartButtonEl.classList.add('colab-df-spinner');\n",
       "      try {\n",
       "        const charts = await google.colab.kernel.invokeFunction(\n",
       "            'suggestCharts', [key], {});\n",
       "      } catch (error) {\n",
       "        console.error('Error during call to suggestCharts:', error);\n",
       "      }\n",
       "      quickchartButtonEl.classList.remove('colab-df-spinner');\n",
       "      quickchartButtonEl.classList.add('colab-df-quickchart-complete');\n",
       "    }\n",
       "    (() => {\n",
       "      let quickchartButtonEl =\n",
       "        document.querySelector('#df-0659988b-5710-49af-8abe-dca05eaf702c button');\n",
       "      quickchartButtonEl.style.display =\n",
       "        google.colab.kernel.accessAllowed ? 'block' : 'none';\n",
       "    })();\n",
       "  </script>\n",
       "</div>\n",
       "    </div>\n",
       "  </div>\n"
      ],
      "text/plain": [
       "            car_id worker_id          fix_date  work_type  destroy_degree  \\\n",
       "71357   E-2002668A        RX   2019-6-12 23:57  reparking             1.0   \n",
       "134617  Y74309277t        KC    2020-5-25 7:51  reparking             1.0   \n",
       "114240  R16339581p        CP  2020-11-14 20:35  reparking             1.0   \n",
       "32323   M-1057522s        FF   2019-11-1 18:53  reparking             1.0   \n",
       "101445  b48529290x        JZ    2020-4-11 0:23     refuel             1.0   \n",
       "\n",
       "        work_duration  \n",
       "71357              22  \n",
       "134617             28  \n",
       "114240             25  \n",
       "32323              29  \n",
       "101445             16  "
      ]
     },
     "execution_count": 5,
     "metadata": {},
     "output_type": "execute_result"
    }
   ],
   "source": [
    "fix_info = pd.read_csv('https://raw.githubusercontent.com/a-milenkin/Competitive_Data_Science/main/data/fix_info.csv')\n",
    "fix_info.sample(5)"
   ]
  },
  {
   "cell_type": "markdown",
   "metadata": {
    "id": "H01U-FFAbuhv"
   },
   "source": [
    "- `worker_id` / `car_id` — идентификатор работника и машины\n",
    "- `work_type` / `work_duration` — тип и длительность (в часах) проводимой работы\n",
    "- `destroy_degree` — степень износа/поврежденности машины в случае поломки\n",
    "- `fix_date` — время начала ремонта (снятия машины с линии)"
   ]
  },
  {
   "cell_type": "markdown",
   "metadata": {
    "id": "qY-lAjlhbuhv"
   },
   "source": [
    "# Домашнее задание 1. Генерация и фильтрация признаков"
   ]
  },
  {
   "cell_type": "markdown",
   "metadata": {
    "id": "9E2N9m5Cbuhv"
   },
   "source": [
    "<center> <img src=\"https://ucarecdn.com/bf4c772d-b67a-42ae-a48b-cfd83910b0a2/\" width=700>"
   ]
  },
  {
   "cell_type": "markdown",
   "metadata": {
    "id": "HaroHWSBbuhw"
   },
   "source": [
    "<div class=\"alert alert-info\">\n",
    "\n",
    "**Цель блока** — сгенерировать признаки из дополнительных датасетов и добавить их к основному датасету, произвести фильтрацию признаков."
   ]
  },
  {
   "cell_type": "markdown",
   "metadata": {
    "id": "wev7E_qlbuhw"
   },
   "source": [
    "    \n",
    "## Задание 1. Генерация признаков из дополнительных датасетов (6 баллов)"
   ]
  },
  {
   "cell_type": "markdown",
   "metadata": {
    "id": "CSX4pA5Kbuhw"
   },
   "source": [
    "<div class=\"alert alert-info\">\n",
    "\n",
    "1. Возьмите датасет `rides_info` с информацией о поездках и проведите группировку по каждой машине отдельно.\n",
    "\n",
    "2. Для каждой машины (то есть для каждого `car_id`) подсчитайте несколько признаков:\n",
    "  - минимальный рейтинг за все поездки;\n",
    "  - средний рейтинг за все поездки;\n",
    "  - общее количество километров, которое машина проехала;\n",
    "  - максимальная скорость;\n",
    "  - общее количество поездок для каждой машины.\n",
    "\n",
    "3. Добавьте минимум 3 признака на свой выбор.\n",
    "\n",
    "4. Сделайте соединение таблиц — вспомните про методы соединения и выберите подходящий для этого случая.\n",
    "\n",
    "5. Подключите информацию про водителей (`driver_info`) и про ремонт машин (`fix_info`). Добавьте минимум 3 любых признака с каждого датасета.\n",
    "\n",
    "\n",
    "<h4> Критерии оценивания </h4>\n",
    "    \n",
    "- Добавлены 5 обязательных и минимум 3 любых признака из датасета `rides_info` — 2 балла.\n",
    "- Добавлены минимум 3 любых признака из датасета `driver_info` — 2 балла.\n",
    "- Добавлены минимум 3 любых признака из датасета `fix_info` — 2 балла.\n",
    "\n",
    "</div>"
   ]
  },
  {
   "cell_type": "markdown",
   "metadata": {
    "id": "kfAs9dZHbuhw"
   },
   "source": [
    "<div class=\"alert alert-success\">\n",
    "    \n",
    "<h4> Советы по Feature Engineering</h4>\n",
    "    \n",
    "- Начинайте с сырых данных.\n",
    "- Используйте все доступные данные. Покрывайте признаками всю имеющуюся информацию в данных.\n",
    "- Формулируйте предположения: от чего зависит таргет?\n",
    "- Смотрите визуально на классы/ошибки и делайте предположения. Какие полезны?\n",
    "- Помните, что слишком много признаков может быть вредно. Потом придется отфильтровывать.\n",
    "    \n",
    "<h4> Полезные источники </h4>\n",
    "    \n",
    "- Занятие про Feature Engineering.\n",
    "- Занятие про Feature Selection.\n",
    "- [Max Kuhn and Kjell Johnson. Feature Engineering and Selection: A Practical Approach for Predictive Models](http://www.feat.engineering/)."
   ]
  },
  {
   "cell_type": "markdown",
   "metadata": {
    "id": "P2-BQ9Sah44N"
   },
   "source": [
    "#Выполнение задания"
   ]
  },
  {
   "cell_type": "markdown",
   "metadata": {
    "id": "7rK0OtpykaUf"
   },
   "source": [
    "**1. Возьмите датасет rides_info с информацией о поездках и проведите группировку по каждой машине отдельно.**"
   ]
  },
  {
   "cell_type": "markdown",
   "metadata": {
    "id": "9uDi1Sf7DkWU"
   },
   "source": [
    "**2. Для каждой машины (то есть для каждого car_id) подсчитайте несколько признаков:**\n",
    "\n",
    "минимальный рейтинг за все поездки;\n",
    "средний рейтинг за все поездки;\n",
    "общее количество километров, которое машина проехала;\n",
    "максимальная скорость;\n",
    "общее количество поездок для каждой машины."
   ]
  },
  {
   "cell_type": "code",
   "execution_count": 6,
   "metadata": {
    "colab": {
     "base_uri": "https://localhost:8080/",
     "height": 81
    },
    "id": "6605bce5",
    "outputId": "cc6fbe3f-5fbb-4b5c-9a60-d4091106ee9a"
   },
   "outputs": [
    {
     "data": {
      "application/vnd.google.colaboratory.intrinsic+json": {
       "summary": "{\n  \"name\": \"grouped_rides\",\n  \"rows\": 4250,\n  \"fields\": [\n    {\n      \"column\": \"car_id\",\n      \"properties\": {\n        \"dtype\": \"string\",\n        \"num_unique_values\": 4250,\n        \"samples\": [\n          \"M22148410M\",\n          \"b-1050475p\",\n          \"R15749283D\"\n        ],\n        \"semantic_type\": \"\",\n        \"description\": \"\"\n      }\n    },\n    {\n      \"column\": \"min_rating\",\n      \"properties\": {\n        \"dtype\": \"number\",\n        \"std\": 0.16721240795251452,\n        \"min\": 0.0,\n        \"max\": 1.5,\n        \"num_unique_values\": 107,\n        \"samples\": [\n          0.73,\n          0.38,\n          0.34\n        ],\n        \"semantic_type\": \"\",\n        \"description\": \"\"\n      }\n    },\n    {\n      \"column\": \"avg_rating\",\n      \"properties\": {\n        \"dtype\": \"number\",\n        \"std\": 0.42196425473707544,\n        \"min\": 3.529885057471265,\n        \"max\": 5.768793103448275,\n        \"num_unique_values\": 3892,\n        \"samples\": [\n          3.98367816091954,\n          4.307241379310345,\n          3.931551724137931\n        ],\n        \"semantic_type\": \"\",\n        \"description\": \"\"\n      }\n    },\n    {\n      \"column\": \"total_distance\",\n      \"properties\": {\n        \"dtype\": \"number\",\n        \"std\": 4207363.123978569,\n        \"min\": 1478866.3194710591,\n        \"max\": 32563653.0931651,\n        \"num_unique_values\": 4250,\n        \"samples\": [\n          8774392.789613284,\n          8423997.057547713,\n          16368396.940277258\n        ],\n        \"semantic_type\": \"\",\n        \"description\": \"\"\n      }\n    },\n    {\n      \"column\": \"max_speed\",\n      \"properties\": {\n        \"dtype\": \"number\",\n        \"std\": 32.909557285136536,\n        \"min\": 91.17291258259658,\n        \"max\": 209.98283950882248,\n        \"num_unique_values\": 3495,\n        \"samples\": [\n          180.13207820463953,\n          118.2603093332132,\n          182.69967588622168\n        ],\n        \"semantic_type\": \"\",\n        \"description\": \"\"\n      }\n    },\n    {\n      \"column\": \"total_rides\",\n      \"properties\": {\n        \"dtype\": \"number\",\n        \"std\": 0,\n        \"min\": 174,\n        \"max\": 174,\n        \"num_unique_values\": 1,\n        \"samples\": [\n          174\n        ],\n        \"semantic_type\": \"\",\n        \"description\": \"\"\n      }\n    }\n  ]\n}",
       "type": "dataframe",
       "variable_name": "grouped_rides"
      },
      "text/html": [
       "\n",
       "  <div id=\"df-cd2154f3-c361-42f7-af1c-7cc1c3ec13dc\" class=\"colab-df-container\">\n",
       "    <div>\n",
       "<style scoped>\n",
       "    .dataframe tbody tr th:only-of-type {\n",
       "        vertical-align: middle;\n",
       "    }\n",
       "\n",
       "    .dataframe tbody tr th {\n",
       "        vertical-align: top;\n",
       "    }\n",
       "\n",
       "    .dataframe thead th {\n",
       "        text-align: right;\n",
       "    }\n",
       "</style>\n",
       "<table border=\"1\" class=\"dataframe\">\n",
       "  <thead>\n",
       "    <tr style=\"text-align: right;\">\n",
       "      <th></th>\n",
       "      <th>car_id</th>\n",
       "      <th>min_rating</th>\n",
       "      <th>avg_rating</th>\n",
       "      <th>total_distance</th>\n",
       "      <th>max_speed</th>\n",
       "      <th>total_rides</th>\n",
       "    </tr>\n",
       "  </thead>\n",
       "  <tbody>\n",
       "    <tr>\n",
       "      <th>0</th>\n",
       "      <td>A-1049127W</td>\n",
       "      <td>0.1</td>\n",
       "      <td>4.255172</td>\n",
       "      <td>1.125753e+07</td>\n",
       "      <td>179.729652</td>\n",
       "      <td>174</td>\n",
       "    </tr>\n",
       "  </tbody>\n",
       "</table>\n",
       "</div>\n",
       "    <div class=\"colab-df-buttons\">\n",
       "\n",
       "  <div class=\"colab-df-container\">\n",
       "    <button class=\"colab-df-convert\" onclick=\"convertToInteractive('df-cd2154f3-c361-42f7-af1c-7cc1c3ec13dc')\"\n",
       "            title=\"Convert this dataframe to an interactive table.\"\n",
       "            style=\"display:none;\">\n",
       "\n",
       "  <svg xmlns=\"http://www.w3.org/2000/svg\" height=\"24px\" viewBox=\"0 -960 960 960\">\n",
       "    <path d=\"M120-120v-720h720v720H120Zm60-500h600v-160H180v160Zm220 220h160v-160H400v160Zm0 220h160v-160H400v160ZM180-400h160v-160H180v160Zm440 0h160v-160H620v160ZM180-180h160v-160H180v160Zm440 0h160v-160H620v160Z\"/>\n",
       "  </svg>\n",
       "    </button>\n",
       "\n",
       "  <style>\n",
       "    .colab-df-container {\n",
       "      display:flex;\n",
       "      gap: 12px;\n",
       "    }\n",
       "\n",
       "    .colab-df-convert {\n",
       "      background-color: #E8F0FE;\n",
       "      border: none;\n",
       "      border-radius: 50%;\n",
       "      cursor: pointer;\n",
       "      display: none;\n",
       "      fill: #1967D2;\n",
       "      height: 32px;\n",
       "      padding: 0 0 0 0;\n",
       "      width: 32px;\n",
       "    }\n",
       "\n",
       "    .colab-df-convert:hover {\n",
       "      background-color: #E2EBFA;\n",
       "      box-shadow: 0px 1px 2px rgba(60, 64, 67, 0.3), 0px 1px 3px 1px rgba(60, 64, 67, 0.15);\n",
       "      fill: #174EA6;\n",
       "    }\n",
       "\n",
       "    .colab-df-buttons div {\n",
       "      margin-bottom: 4px;\n",
       "    }\n",
       "\n",
       "    [theme=dark] .colab-df-convert {\n",
       "      background-color: #3B4455;\n",
       "      fill: #D2E3FC;\n",
       "    }\n",
       "\n",
       "    [theme=dark] .colab-df-convert:hover {\n",
       "      background-color: #434B5C;\n",
       "      box-shadow: 0px 1px 3px 1px rgba(0, 0, 0, 0.15);\n",
       "      filter: drop-shadow(0px 1px 2px rgba(0, 0, 0, 0.3));\n",
       "      fill: #FFFFFF;\n",
       "    }\n",
       "  </style>\n",
       "\n",
       "    <script>\n",
       "      const buttonEl =\n",
       "        document.querySelector('#df-cd2154f3-c361-42f7-af1c-7cc1c3ec13dc button.colab-df-convert');\n",
       "      buttonEl.style.display =\n",
       "        google.colab.kernel.accessAllowed ? 'block' : 'none';\n",
       "\n",
       "      async function convertToInteractive(key) {\n",
       "        const element = document.querySelector('#df-cd2154f3-c361-42f7-af1c-7cc1c3ec13dc');\n",
       "        const dataTable =\n",
       "          await google.colab.kernel.invokeFunction('convertToInteractive',\n",
       "                                                    [key], {});\n",
       "        if (!dataTable) return;\n",
       "\n",
       "        const docLinkHtml = 'Like what you see? Visit the ' +\n",
       "          '<a target=\"_blank\" href=https://colab.research.google.com/notebooks/data_table.ipynb>data table notebook</a>'\n",
       "          + ' to learn more about interactive tables.';\n",
       "        element.innerHTML = '';\n",
       "        dataTable['output_type'] = 'display_data';\n",
       "        await google.colab.output.renderOutput(dataTable, element);\n",
       "        const docLink = document.createElement('div');\n",
       "        docLink.innerHTML = docLinkHtml;\n",
       "        element.appendChild(docLink);\n",
       "      }\n",
       "    </script>\n",
       "  </div>\n",
       "\n",
       "    </div>\n",
       "  </div>\n"
      ],
      "text/plain": [
       "       car_id  min_rating  avg_rating  total_distance   max_speed  total_rides\n",
       "0  A-1049127W         0.1    4.255172    1.125753e+07  179.729652          174"
      ]
     },
     "execution_count": 6,
     "metadata": {},
     "output_type": "execute_result"
    }
   ],
   "source": [
    "# 1-2. Группировка по каждой машине отдельно (car_id) и вывод обязательных признаков из задания\n",
    "grouped_rides = rides_info.groupby('car_id').agg(\n",
    "\n",
    "    min_rating=('rating', 'min'),\n",
    "    avg_rating=('rating', 'mean'),\n",
    "    total_distance=('distance', 'sum'),\n",
    "    max_speed=('speed_max', 'max'),\n",
    "    total_rides=('ride_id', 'count')\n",
    ").reset_index()\n",
    "\n",
    "grouped_rides.head(1)"
   ]
  },
  {
   "cell_type": "markdown",
   "metadata": {
    "id": "qf12daI5mT7b"
   },
   "source": [
    "**3. Добавьте минимум 3 признака на свой выбор.**"
   ]
  },
  {
   "cell_type": "code",
   "execution_count": 7,
   "metadata": {
    "colab": {
     "base_uri": "https://localhost:8080/",
     "height": 81
    },
    "id": "SrDPS34IyCeu",
    "outputId": "7d009e3a-dbca-4d51-9387-750f756d5462"
   },
   "outputs": [
    {
     "data": {
      "application/vnd.google.colaboratory.intrinsic+json": {
       "summary": "{\n  \"name\": \"enhanced_grouped_rides\",\n  \"rows\": 4250,\n  \"fields\": [\n    {\n      \"column\": \"car_id\",\n      \"properties\": {\n        \"dtype\": \"string\",\n        \"num_unique_values\": 4250,\n        \"samples\": [\n          \"M22148410M\",\n          \"b-1050475p\",\n          \"R15749283D\"\n        ],\n        \"semantic_type\": \"\",\n        \"description\": \"\"\n      }\n    },\n    {\n      \"column\": \"min_rating\",\n      \"properties\": {\n        \"dtype\": \"number\",\n        \"std\": 0.16721240795251452,\n        \"min\": 0.0,\n        \"max\": 1.5,\n        \"num_unique_values\": 107,\n        \"samples\": [\n          0.73,\n          0.38,\n          0.34\n        ],\n        \"semantic_type\": \"\",\n        \"description\": \"\"\n      }\n    },\n    {\n      \"column\": \"avg_rating\",\n      \"properties\": {\n        \"dtype\": \"number\",\n        \"std\": 0.42196425473707544,\n        \"min\": 3.529885057471265,\n        \"max\": 5.768793103448275,\n        \"num_unique_values\": 3892,\n        \"samples\": [\n          3.98367816091954,\n          4.307241379310345,\n          3.931551724137931\n        ],\n        \"semantic_type\": \"\",\n        \"description\": \"\"\n      }\n    },\n    {\n      \"column\": \"total_distance\",\n      \"properties\": {\n        \"dtype\": \"number\",\n        \"std\": 4207363.123978569,\n        \"min\": 1478866.3194710591,\n        \"max\": 32563653.0931651,\n        \"num_unique_values\": 4250,\n        \"samples\": [\n          8774392.789613284,\n          8423997.057547713,\n          16368396.940277258\n        ],\n        \"semantic_type\": \"\",\n        \"description\": \"\"\n      }\n    },\n    {\n      \"column\": \"max_speed\",\n      \"properties\": {\n        \"dtype\": \"number\",\n        \"std\": 32.909557285136536,\n        \"min\": 91.17291258259658,\n        \"max\": 209.98283950882248,\n        \"num_unique_values\": 3495,\n        \"samples\": [\n          180.13207820463953,\n          118.2603093332132,\n          182.69967588622168\n        ],\n        \"semantic_type\": \"\",\n        \"description\": \"\"\n      }\n    },\n    {\n      \"column\": \"total_rides\",\n      \"properties\": {\n        \"dtype\": \"number\",\n        \"std\": 0,\n        \"min\": 174,\n        \"max\": 174,\n        \"num_unique_values\": 1,\n        \"samples\": [\n          174\n        ],\n        \"semantic_type\": \"\",\n        \"description\": \"\"\n      }\n    },\n    {\n      \"column\": \"average_speed\",\n      \"properties\": {\n        \"dtype\": \"number\",\n        \"std\": 2.7720297750572755,\n        \"min\": 42.0632183908046,\n        \"max\": 53.132183908045974,\n        \"num_unique_values\": 1290,\n        \"samples\": [\n          48.747126436781606\n        ],\n        \"semantic_type\": \"\",\n        \"description\": \"\"\n      }\n    },\n    {\n      \"column\": \"max_ride_cost\",\n      \"properties\": {\n        \"dtype\": \"number\",\n        \"std\": 276851,\n        \"min\": 160545,\n        \"max\": 2007346,\n        \"num_unique_values\": 4187,\n        \"samples\": [\n          475976\n        ],\n        \"semantic_type\": \"\",\n        \"description\": \"\"\n      }\n    },\n    {\n      \"column\": \"percentage_high_rated_rides\",\n      \"properties\": {\n        \"dtype\": \"number\",\n        \"std\": 8.938447764229817,\n        \"min\": 38.50574712643678,\n        \"max\": 85.63218390804597,\n        \"num_unique_values\": 81,\n        \"samples\": [\n          51.14942528735632\n        ],\n        \"semantic_type\": \"\",\n        \"description\": \"\"\n      }\n    }\n  ]\n}",
       "type": "dataframe",
       "variable_name": "enhanced_grouped_rides"
      },
      "text/html": [
       "\n",
       "  <div id=\"df-4081ed99-812e-4540-b673-dd00efd1f7dc\" class=\"colab-df-container\">\n",
       "    <div>\n",
       "<style scoped>\n",
       "    .dataframe tbody tr th:only-of-type {\n",
       "        vertical-align: middle;\n",
       "    }\n",
       "\n",
       "    .dataframe tbody tr th {\n",
       "        vertical-align: top;\n",
       "    }\n",
       "\n",
       "    .dataframe thead th {\n",
       "        text-align: right;\n",
       "    }\n",
       "</style>\n",
       "<table border=\"1\" class=\"dataframe\">\n",
       "  <thead>\n",
       "    <tr style=\"text-align: right;\">\n",
       "      <th></th>\n",
       "      <th>car_id</th>\n",
       "      <th>min_rating</th>\n",
       "      <th>avg_rating</th>\n",
       "      <th>total_distance</th>\n",
       "      <th>max_speed</th>\n",
       "      <th>total_rides</th>\n",
       "      <th>average_speed</th>\n",
       "      <th>max_ride_cost</th>\n",
       "      <th>percentage_high_rated_rides</th>\n",
       "    </tr>\n",
       "  </thead>\n",
       "  <tbody>\n",
       "    <tr>\n",
       "      <th>0</th>\n",
       "      <td>A-1049127W</td>\n",
       "      <td>0.1</td>\n",
       "      <td>4.255172</td>\n",
       "      <td>1.125753e+07</td>\n",
       "      <td>179.729652</td>\n",
       "      <td>174</td>\n",
       "      <td>49.45977</td>\n",
       "      <td>330149</td>\n",
       "      <td>54.022989</td>\n",
       "    </tr>\n",
       "  </tbody>\n",
       "</table>\n",
       "</div>\n",
       "    <div class=\"colab-df-buttons\">\n",
       "\n",
       "  <div class=\"colab-df-container\">\n",
       "    <button class=\"colab-df-convert\" onclick=\"convertToInteractive('df-4081ed99-812e-4540-b673-dd00efd1f7dc')\"\n",
       "            title=\"Convert this dataframe to an interactive table.\"\n",
       "            style=\"display:none;\">\n",
       "\n",
       "  <svg xmlns=\"http://www.w3.org/2000/svg\" height=\"24px\" viewBox=\"0 -960 960 960\">\n",
       "    <path d=\"M120-120v-720h720v720H120Zm60-500h600v-160H180v160Zm220 220h160v-160H400v160Zm0 220h160v-160H400v160ZM180-400h160v-160H180v160Zm440 0h160v-160H620v160ZM180-180h160v-160H180v160Zm440 0h160v-160H620v160Z\"/>\n",
       "  </svg>\n",
       "    </button>\n",
       "\n",
       "  <style>\n",
       "    .colab-df-container {\n",
       "      display:flex;\n",
       "      gap: 12px;\n",
       "    }\n",
       "\n",
       "    .colab-df-convert {\n",
       "      background-color: #E8F0FE;\n",
       "      border: none;\n",
       "      border-radius: 50%;\n",
       "      cursor: pointer;\n",
       "      display: none;\n",
       "      fill: #1967D2;\n",
       "      height: 32px;\n",
       "      padding: 0 0 0 0;\n",
       "      width: 32px;\n",
       "    }\n",
       "\n",
       "    .colab-df-convert:hover {\n",
       "      background-color: #E2EBFA;\n",
       "      box-shadow: 0px 1px 2px rgba(60, 64, 67, 0.3), 0px 1px 3px 1px rgba(60, 64, 67, 0.15);\n",
       "      fill: #174EA6;\n",
       "    }\n",
       "\n",
       "    .colab-df-buttons div {\n",
       "      margin-bottom: 4px;\n",
       "    }\n",
       "\n",
       "    [theme=dark] .colab-df-convert {\n",
       "      background-color: #3B4455;\n",
       "      fill: #D2E3FC;\n",
       "    }\n",
       "\n",
       "    [theme=dark] .colab-df-convert:hover {\n",
       "      background-color: #434B5C;\n",
       "      box-shadow: 0px 1px 3px 1px rgba(0, 0, 0, 0.15);\n",
       "      filter: drop-shadow(0px 1px 2px rgba(0, 0, 0, 0.3));\n",
       "      fill: #FFFFFF;\n",
       "    }\n",
       "  </style>\n",
       "\n",
       "    <script>\n",
       "      const buttonEl =\n",
       "        document.querySelector('#df-4081ed99-812e-4540-b673-dd00efd1f7dc button.colab-df-convert');\n",
       "      buttonEl.style.display =\n",
       "        google.colab.kernel.accessAllowed ? 'block' : 'none';\n",
       "\n",
       "      async function convertToInteractive(key) {\n",
       "        const element = document.querySelector('#df-4081ed99-812e-4540-b673-dd00efd1f7dc');\n",
       "        const dataTable =\n",
       "          await google.colab.kernel.invokeFunction('convertToInteractive',\n",
       "                                                    [key], {});\n",
       "        if (!dataTable) return;\n",
       "\n",
       "        const docLinkHtml = 'Like what you see? Visit the ' +\n",
       "          '<a target=\"_blank\" href=https://colab.research.google.com/notebooks/data_table.ipynb>data table notebook</a>'\n",
       "          + ' to learn more about interactive tables.';\n",
       "        element.innerHTML = '';\n",
       "        dataTable['output_type'] = 'display_data';\n",
       "        await google.colab.output.renderOutput(dataTable, element);\n",
       "        const docLink = document.createElement('div');\n",
       "        docLink.innerHTML = docLinkHtml;\n",
       "        element.appendChild(docLink);\n",
       "      }\n",
       "    </script>\n",
       "  </div>\n",
       "\n",
       "    </div>\n",
       "  </div>\n"
      ],
      "text/plain": [
       "       car_id  min_rating  avg_rating  total_distance   max_speed  \\\n",
       "0  A-1049127W         0.1    4.255172    1.125753e+07  179.729652   \n",
       "\n",
       "   total_rides  average_speed  max_ride_cost  percentage_high_rated_rides  \n",
       "0          174       49.45977         330149                    54.022989  "
      ]
     },
     "execution_count": 7,
     "metadata": {},
     "output_type": "execute_result"
    }
   ],
   "source": [
    "# Агрегирование новых признаков для каждого car_id в rides_info\n",
    "new_features = rides_info.groupby('car_id').agg(\n",
    "    average_speed=('speed_avg', 'mean'),  # Средняя скорость поездок\n",
    "    max_ride_cost=('ride_cost', 'max'),  # Максимальная стоимость поездки\n",
    "    percentage_high_rated_rides=('rating', lambda x: (x > 4).mean() * 100)  # Процент поездок с рейтингом выше 4\n",
    ").reset_index()\n",
    "\n",
    "# Объединяем с уже агрегированными данными в grouped_rides\n",
    "enhanced_grouped_rides = pd.merge(grouped_rides, new_features, on='car_id')\n",
    "\n",
    "# Вывод первой строки для проверки новых признаков\n",
    "enhanced_grouped_rides.head(1)\n"
   ]
  },
  {
   "cell_type": "markdown",
   "metadata": {
    "id": "OVLIb5JEmaRz"
   },
   "source": [
    "Я добавлю следующие признаки:\n",
    "\n",
    "1. Средняя скорость поездок (Average Speed of Rides): этот признак покажет среднюю скорость поездок для каждого автомобиля, что может быть полезно для анализа стилей вождения или определения машин, часто используемых для длительных поездок по шоссе.\n",
    "\n",
    "2. Максимальная стоимость поездки (Maximum Ride Cost): Максимальная стоимость поездки для каждого автомобиля может указывать на наиболее дорогостоящие поездки, что поможет идентифицировать экстраординарные случаи или аномалии в данных.\n",
    "\n",
    "3. Процент поездок с высоким рейтингом (Percentage of High-Rated Rides): Рассчитывая процент поездок с рейтингом выше определенного порога, можно оценить общее качество услуг, предоставляемых водителями, а также состояние автомобилей.\n"
   ]
  },
  {
   "cell_type": "markdown",
   "metadata": {
    "id": "l_L7hGSenE_s"
   },
   "source": [
    "**4. Сделайте соединение таблиц — вспомните про методы соединения и выберите подходящий для этого случая.**\n",
    "\n",
    "\n"
   ]
  },
  {
   "cell_type": "code",
   "execution_count": 8,
   "metadata": {
    "colab": {
     "base_uri": "https://localhost:8080/",
     "height": 81
    },
    "id": "eTPBtg76sHBZ",
    "outputId": "939b6df5-805a-4a12-9334-cd1b6f102461"
   },
   "outputs": [
    {
     "data": {
      "application/vnd.google.colaboratory.intrinsic+json": {
       "summary": "{\n  \"name\": \"merged_car_info\",\n  \"rows\": 2337,\n  \"fields\": [\n    {\n      \"column\": \"car_id\",\n      \"properties\": {\n        \"dtype\": \"string\",\n        \"num_unique_values\": 2337,\n        \"samples\": [\n          \"z14411100u\",\n          \"n-6604555n\",\n          \"d-1051262p\"\n        ],\n        \"semantic_type\": \"\",\n        \"description\": \"\"\n      }\n    },\n    {\n      \"column\": \"model\",\n      \"properties\": {\n        \"dtype\": \"category\",\n        \"num_unique_values\": 26,\n        \"samples\": [\n          \"Smart ForFour\",\n          \"Renault Kaptur\",\n          \"Kia Rio X-line\"\n        ],\n        \"semantic_type\": \"\",\n        \"description\": \"\"\n      }\n    },\n    {\n      \"column\": \"car_type\",\n      \"properties\": {\n        \"dtype\": \"category\",\n        \"num_unique_values\": 4,\n        \"samples\": [\n          \"standart\",\n          \"premium\",\n          \"economy\"\n        ],\n        \"semantic_type\": \"\",\n        \"description\": \"\"\n      }\n    },\n    {\n      \"column\": \"fuel_type\",\n      \"properties\": {\n        \"dtype\": \"category\",\n        \"num_unique_values\": 2,\n        \"samples\": [\n          \"electro\",\n          \"petrol\"\n        ],\n        \"semantic_type\": \"\",\n        \"description\": \"\"\n      }\n    },\n    {\n      \"column\": \"car_rating\",\n      \"properties\": {\n        \"dtype\": \"number\",\n        \"std\": 0.9969539766615568,\n        \"min\": 0.98,\n        \"max\": 8.9,\n        \"num_unique_values\": 269,\n        \"samples\": [\n          2.78,\n          2.1\n        ],\n        \"semantic_type\": \"\",\n        \"description\": \"\"\n      }\n    },\n    {\n      \"column\": \"year_to_start\",\n      \"properties\": {\n        \"dtype\": \"number\",\n        \"std\": 1,\n        \"min\": 2011,\n        \"max\": 2017,\n        \"num_unique_values\": 7,\n        \"samples\": [\n          2015,\n          2012\n        ],\n        \"semantic_type\": \"\",\n        \"description\": \"\"\n      }\n    },\n    {\n      \"column\": \"riders\",\n      \"properties\": {\n        \"dtype\": \"number\",\n        \"std\": 33755,\n        \"min\": 23,\n        \"max\": 142862,\n        \"num_unique_values\": 2306,\n        \"samples\": [\n          61719,\n          100108\n        ],\n        \"semantic_type\": \"\",\n        \"description\": \"\"\n      }\n    },\n    {\n      \"column\": \"year_to_work\",\n      \"properties\": {\n        \"dtype\": \"number\",\n        \"std\": 2,\n        \"min\": 2014,\n        \"max\": 2022,\n        \"num_unique_values\": 9,\n        \"samples\": [\n          2022,\n          2017\n        ],\n        \"semantic_type\": \"\",\n        \"description\": \"\"\n      }\n    },\n    {\n      \"column\": \"target_reg\",\n      \"properties\": {\n        \"dtype\": \"number\",\n        \"std\": 17.579568125863787,\n        \"min\": 18.92,\n        \"max\": 141.63,\n        \"num_unique_values\": 1891,\n        \"samples\": [\n          37.98,\n          58.11\n        ],\n        \"semantic_type\": \"\",\n        \"description\": \"\"\n      }\n    },\n    {\n      \"column\": \"target_class\",\n      \"properties\": {\n        \"dtype\": \"category\",\n        \"num_unique_values\": 9,\n        \"samples\": [\n          \"wheel_shake\",\n          \"electro_bug\"\n        ],\n        \"semantic_type\": \"\",\n        \"description\": \"\"\n      }\n    },\n    {\n      \"column\": \"min_rating\",\n      \"properties\": {\n        \"dtype\": \"number\",\n        \"std\": 0.16397828346003004,\n        \"min\": 0.0,\n        \"max\": 1.5,\n        \"num_unique_values\": 91,\n        \"samples\": [\n          0.67,\n          0.5\n        ],\n        \"semantic_type\": \"\",\n        \"description\": \"\"\n      }\n    },\n    {\n      \"column\": \"avg_rating\",\n      \"properties\": {\n        \"dtype\": \"number\",\n        \"std\": 0.4185875181615076,\n        \"min\": 3.529885057471265,\n        \"max\": 5.700747126436782,\n        \"num_unique_values\": 2223,\n        \"samples\": [\n          4.938505747126436,\n          4.750402298850575\n        ],\n        \"semantic_type\": \"\",\n        \"description\": \"\"\n      }\n    },\n    {\n      \"column\": \"total_distance\",\n      \"properties\": {\n        \"dtype\": \"number\",\n        \"std\": 4253208.772370099,\n        \"min\": 1478866.3194710591,\n        \"max\": 31197854.66144909,\n        \"num_unique_values\": 2337,\n        \"samples\": [\n          11634739.066408757,\n          17976546.948301077\n        ],\n        \"semantic_type\": \"\",\n        \"description\": \"\"\n      }\n    },\n    {\n      \"column\": \"max_speed\",\n      \"properties\": {\n        \"dtype\": \"number\",\n        \"std\": 33.211160987028705,\n        \"min\": 91.4235081222183,\n        \"max\": 209.98283950882248,\n        \"num_unique_values\": 1938,\n        \"samples\": [\n          109.38343955827206,\n          196.76859522747992\n        ],\n        \"semantic_type\": \"\",\n        \"description\": \"\"\n      }\n    },\n    {\n      \"column\": \"total_rides\",\n      \"properties\": {\n        \"dtype\": \"number\",\n        \"std\": 0,\n        \"min\": 174,\n        \"max\": 174,\n        \"num_unique_values\": 1,\n        \"samples\": [\n          174\n        ],\n        \"semantic_type\": \"\",\n        \"description\": \"\"\n      }\n    },\n    {\n      \"column\": \"average_speed\",\n      \"properties\": {\n        \"dtype\": \"number\",\n        \"std\": 2.761201815368068,\n        \"min\": 42.4367816091954,\n        \"max\": 53.132183908045974,\n        \"num_unique_values\": 1035,\n        \"samples\": [\n          51.14942528735632\n        ],\n        \"semantic_type\": \"\",\n        \"description\": \"\"\n      }\n    },\n    {\n      \"column\": \"max_ride_cost\",\n      \"properties\": {\n        \"dtype\": \"number\",\n        \"std\": 276753,\n        \"min\": 160545,\n        \"max\": 2007346,\n        \"num_unique_values\": 2321,\n        \"samples\": [\n          546346\n        ],\n        \"semantic_type\": \"\",\n        \"description\": \"\"\n      }\n    },\n    {\n      \"column\": \"percentage_high_rated_rides\",\n      \"properties\": {\n        \"dtype\": \"number\",\n        \"std\": 8.83481231958106,\n        \"min\": 38.50574712643678,\n        \"max\": 85.0574712643678,\n        \"num_unique_values\": 76,\n        \"samples\": [\n          54.02298850574713\n        ],\n        \"semantic_type\": \"\",\n        \"description\": \"\"\n      }\n    }\n  ]\n}",
       "type": "dataframe",
       "variable_name": "merged_car_info"
      },
      "text/html": [
       "\n",
       "  <div id=\"df-845f508c-5b6a-4398-a192-17b366c051ab\" class=\"colab-df-container\">\n",
       "    <div>\n",
       "<style scoped>\n",
       "    .dataframe tbody tr th:only-of-type {\n",
       "        vertical-align: middle;\n",
       "    }\n",
       "\n",
       "    .dataframe tbody tr th {\n",
       "        vertical-align: top;\n",
       "    }\n",
       "\n",
       "    .dataframe thead th {\n",
       "        text-align: right;\n",
       "    }\n",
       "</style>\n",
       "<table border=\"1\" class=\"dataframe\">\n",
       "  <thead>\n",
       "    <tr style=\"text-align: right;\">\n",
       "      <th></th>\n",
       "      <th>car_id</th>\n",
       "      <th>model</th>\n",
       "      <th>car_type</th>\n",
       "      <th>fuel_type</th>\n",
       "      <th>car_rating</th>\n",
       "      <th>year_to_start</th>\n",
       "      <th>riders</th>\n",
       "      <th>year_to_work</th>\n",
       "      <th>target_reg</th>\n",
       "      <th>target_class</th>\n",
       "      <th>min_rating</th>\n",
       "      <th>avg_rating</th>\n",
       "      <th>total_distance</th>\n",
       "      <th>max_speed</th>\n",
       "      <th>total_rides</th>\n",
       "      <th>average_speed</th>\n",
       "      <th>max_ride_cost</th>\n",
       "      <th>percentage_high_rated_rides</th>\n",
       "    </tr>\n",
       "  </thead>\n",
       "  <tbody>\n",
       "    <tr>\n",
       "      <th>0</th>\n",
       "      <td>y13744087j</td>\n",
       "      <td>Kia Rio X-line</td>\n",
       "      <td>economy</td>\n",
       "      <td>petrol</td>\n",
       "      <td>3.78</td>\n",
       "      <td>2015</td>\n",
       "      <td>76163</td>\n",
       "      <td>2021</td>\n",
       "      <td>108.53</td>\n",
       "      <td>another_bug</td>\n",
       "      <td>0.1</td>\n",
       "      <td>4.737759</td>\n",
       "      <td>1.214131e+07</td>\n",
       "      <td>180.855726</td>\n",
       "      <td>174</td>\n",
       "      <td>44.66092</td>\n",
       "      <td>523483</td>\n",
       "      <td>64.367816</td>\n",
       "    </tr>\n",
       "  </tbody>\n",
       "</table>\n",
       "</div>\n",
       "    <div class=\"colab-df-buttons\">\n",
       "\n",
       "  <div class=\"colab-df-container\">\n",
       "    <button class=\"colab-df-convert\" onclick=\"convertToInteractive('df-845f508c-5b6a-4398-a192-17b366c051ab')\"\n",
       "            title=\"Convert this dataframe to an interactive table.\"\n",
       "            style=\"display:none;\">\n",
       "\n",
       "  <svg xmlns=\"http://www.w3.org/2000/svg\" height=\"24px\" viewBox=\"0 -960 960 960\">\n",
       "    <path d=\"M120-120v-720h720v720H120Zm60-500h600v-160H180v160Zm220 220h160v-160H400v160Zm0 220h160v-160H400v160ZM180-400h160v-160H180v160Zm440 0h160v-160H620v160ZM180-180h160v-160H180v160Zm440 0h160v-160H620v160Z\"/>\n",
       "  </svg>\n",
       "    </button>\n",
       "\n",
       "  <style>\n",
       "    .colab-df-container {\n",
       "      display:flex;\n",
       "      gap: 12px;\n",
       "    }\n",
       "\n",
       "    .colab-df-convert {\n",
       "      background-color: #E8F0FE;\n",
       "      border: none;\n",
       "      border-radius: 50%;\n",
       "      cursor: pointer;\n",
       "      display: none;\n",
       "      fill: #1967D2;\n",
       "      height: 32px;\n",
       "      padding: 0 0 0 0;\n",
       "      width: 32px;\n",
       "    }\n",
       "\n",
       "    .colab-df-convert:hover {\n",
       "      background-color: #E2EBFA;\n",
       "      box-shadow: 0px 1px 2px rgba(60, 64, 67, 0.3), 0px 1px 3px 1px rgba(60, 64, 67, 0.15);\n",
       "      fill: #174EA6;\n",
       "    }\n",
       "\n",
       "    .colab-df-buttons div {\n",
       "      margin-bottom: 4px;\n",
       "    }\n",
       "\n",
       "    [theme=dark] .colab-df-convert {\n",
       "      background-color: #3B4455;\n",
       "      fill: #D2E3FC;\n",
       "    }\n",
       "\n",
       "    [theme=dark] .colab-df-convert:hover {\n",
       "      background-color: #434B5C;\n",
       "      box-shadow: 0px 1px 3px 1px rgba(0, 0, 0, 0.15);\n",
       "      filter: drop-shadow(0px 1px 2px rgba(0, 0, 0, 0.3));\n",
       "      fill: #FFFFFF;\n",
       "    }\n",
       "  </style>\n",
       "\n",
       "    <script>\n",
       "      const buttonEl =\n",
       "        document.querySelector('#df-845f508c-5b6a-4398-a192-17b366c051ab button.colab-df-convert');\n",
       "      buttonEl.style.display =\n",
       "        google.colab.kernel.accessAllowed ? 'block' : 'none';\n",
       "\n",
       "      async function convertToInteractive(key) {\n",
       "        const element = document.querySelector('#df-845f508c-5b6a-4398-a192-17b366c051ab');\n",
       "        const dataTable =\n",
       "          await google.colab.kernel.invokeFunction('convertToInteractive',\n",
       "                                                    [key], {});\n",
       "        if (!dataTable) return;\n",
       "\n",
       "        const docLinkHtml = 'Like what you see? Visit the ' +\n",
       "          '<a target=\"_blank\" href=https://colab.research.google.com/notebooks/data_table.ipynb>data table notebook</a>'\n",
       "          + ' to learn more about interactive tables.';\n",
       "        element.innerHTML = '';\n",
       "        dataTable['output_type'] = 'display_data';\n",
       "        await google.colab.output.renderOutput(dataTable, element);\n",
       "        const docLink = document.createElement('div');\n",
       "        docLink.innerHTML = docLinkHtml;\n",
       "        element.appendChild(docLink);\n",
       "      }\n",
       "    </script>\n",
       "  </div>\n",
       "\n",
       "    </div>\n",
       "  </div>\n"
      ],
      "text/plain": [
       "       car_id           model car_type fuel_type  car_rating  year_to_start  \\\n",
       "0  y13744087j  Kia Rio X-line  economy    petrol        3.78           2015   \n",
       "\n",
       "   riders  year_to_work  target_reg target_class  min_rating  avg_rating  \\\n",
       "0   76163          2021      108.53  another_bug         0.1    4.737759   \n",
       "\n",
       "   total_distance   max_speed  total_rides  average_speed  max_ride_cost  \\\n",
       "0    1.214131e+07  180.855726          174       44.66092         523483   \n",
       "\n",
       "   percentage_high_rated_rides  \n",
       "0                    64.367816  "
      ]
     },
     "execution_count": 8,
     "metadata": {},
     "output_type": "execute_result"
    }
   ],
   "source": [
    "# Используем merge для соединения car_train и grouped_rides по car_id\n",
    "merged_car_info = pd.merge(car_train, enhanced_grouped_rides, on='car_id', how='left')\n",
    "\n",
    "merged_car_info.head(1)"
   ]
  },
  {
   "cell_type": "code",
   "execution_count": null,
   "metadata": {
    "cellView": "form",
    "colab": {
     "base_uri": "https://localhost:8080/",
     "height": 452
    },
    "id": "091QC4AfOHOf",
    "outputId": "5e935555-8829-4986-8aad-6b8b7459ac97"
   },
   "outputs": [
    {
     "data": {
      "image/png": "[encoded data removed]",
      "text/plain": [
       "<Figure size 640x480 with 1 Axes>"
      ]
     },
     "metadata": {},
     "output_type": "display_data"
    }
   ],
   "source": [
    "# @title car_rating\n",
    "\n",
    "from matplotlib import pyplot as plt\n",
    "merged_car_info['car_rating'].plot(kind='hist', bins=20, title='car_rating')\n",
    "plt.gca().spines[['top', 'right',]].set_visible(False)"
   ]
  },
  {
   "cell_type": "code",
   "execution_count": null,
   "metadata": {
    "colab": {
     "base_uri": "https://localhost:8080/",
     "height": 430
    },
    "id": "Xx8-JGtrsUlA",
    "outputId": "63c17549-d161-4319-c66e-67c0b70ff9c6"
   },
   "outputs": [
    {
     "data": {
      "image/png": "[encoded data removed]",
      "text/plain": [
       "<Figure size 640x480 with 1 Axes>"
      ]
     },
     "metadata": {},
     "output_type": "display_data"
    }
   ],
   "source": [
    "# @title fuel_type\n",
    "\n",
    "from matplotlib import pyplot as plt\n",
    "import seaborn as sns\n",
    "merged_car_info.groupby('fuel_type').size().plot(kind='barh', color=sns.palettes.mpl_palette('Dark2'))\n",
    "plt.gca().spines[['top', 'right',]].set_visible(False)"
   ]
  },
  {
   "cell_type": "markdown",
   "metadata": {
    "id": "-5GvTmMAsojt"
   },
   "source": [
    "**5. Подключите информацию про водителей (driver_info) и про ремонт машин (fix_info). Добавьте минимум 3 любых признака с каждого датасета.**\n"
   ]
  },
  {
   "cell_type": "code",
   "execution_count": 9,
   "metadata": {
    "colab": {
     "base_uri": "https://localhost:8080/"
    },
    "id": "0YPFBL3ZtCzs",
    "outputId": "5141c664-7e1b-4434-99ca-f9f6d898bf7a"
   },
   "outputs": [
    {
     "name": "stdout",
     "output_type": "stream",
     "text": [
      "Index(['car_id', 'model', 'car_type', 'fuel_type', 'car_rating',\n",
      "       'year_to_start', 'riders', 'year_to_work', 'target_reg', 'target_class',\n",
      "       'min_rating', 'avg_rating', 'total_distance', 'max_speed',\n",
      "       'total_rides', 'average_speed', 'max_ride_cost',\n",
      "       'percentage_high_rated_rides', 'user_id', 'ride_id', 'ride_date',\n",
      "       'rating', 'ride_duration', 'ride_cost', 'speed_avg', 'speed_max',\n",
      "       'stop_times', 'distance', 'refueling', 'user_ride_quality',\n",
      "       'deviation_normal'],\n",
      "      dtype='object')\n"
     ]
    }
   ],
   "source": [
    "# Присоединяем rides_info к merged_car_info по car_id\n",
    "merged_car_and_rides = pd.merge(merged_car_info, rides_info, on='car_id', how='left')\n",
    "print(merged_car_and_rides.columns)"
   ]
  },
  {
   "cell_type": "code",
   "execution_count": 10,
   "metadata": {
    "colab": {
     "base_uri": "https://localhost:8080/"
    },
    "id": "4hQmV9rlsp4d",
    "outputId": "eb1d8e4a-88c8-4e2e-9c02-549d4eabf3ef"
   },
   "outputs": [
    {
     "name": "stdout",
     "output_type": "stream",
     "text": [
      "Index(['car_id', 'model', 'car_type', 'fuel_type', 'car_rating',\n",
      "       'year_to_start', 'riders', 'year_to_work', 'target_reg', 'target_class',\n",
      "       'min_rating', 'avg_rating', 'total_distance', 'max_speed',\n",
      "       'total_rides', 'average_speed', 'max_ride_cost',\n",
      "       'percentage_high_rated_rides', 'user_id', 'ride_id', 'ride_date',\n",
      "       'rating', 'ride_duration', 'ride_cost', 'speed_avg', 'speed_max',\n",
      "       'stop_times', 'distance', 'refueling', 'user_ride_quality',\n",
      "       'deviation_normal', 'age', 'user_rating', 'sex'],\n",
      "      dtype='object')\n"
     ]
    }
   ],
   "source": [
    "# Присоединяем driver_info к merged_car_and_rides по user_id\n",
    "merged_car_and_drivers = pd.merge(merged_car_and_rides, driver_info[['user_id', 'age', 'user_rating', 'sex']], on='user_id', how='left')\n",
    "print(merged_car_and_drivers.columns)"
   ]
  },
  {
   "cell_type": "code",
   "execution_count": null,
   "metadata": {
    "colab": {
     "base_uri": "https://localhost:8080/"
    },
    "id": "89-0n8XZuPz2",
    "outputId": "e8f4552c-ac28-4cc3-c9c0-9ab7467341f7"
   },
   "outputs": [
    {
     "name": "stdout",
     "output_type": "stream",
     "text": [
      "Index(['car_id', 'worker_id', 'fix_date', 'work_type', 'destroy_degree',\n",
      "       'work_duration'],\n",
      "      dtype='object')\n"
     ]
    }
   ],
   "source": [
    "print(fix_info.columns)"
   ]
  },
  {
   "cell_type": "code",
   "execution_count": 11,
   "metadata": {
    "id": "n3qmCORrtvDX"
   },
   "outputs": [],
   "source": [
    "# Присоединяем fix_info к full_car_drivers по car_id, выбирая нужные столбцы\n",
    "final_df = pd.merge(merged_car_and_drivers, fix_info[['car_id', 'fix_date', 'destroy_degree', 'work_duration']], on='car_id', how='left', suffixes=('', '_fix'))"
   ]
  },
  {
   "cell_type": "code",
   "execution_count": 12,
   "metadata": {
    "colab": {
     "base_uri": "https://localhost:8080/",
     "height": 110
    },
    "id": "0P1FRvqWF4na",
    "outputId": "e70f6e5b-39e3-4703-d099-b3cc5dd6d61f"
   },
   "outputs": [
    {
     "data": {
      "application/vnd.google.colaboratory.intrinsic+json": {
       "type": "dataframe",
       "variable_name": "final_df"
      },
      "text/html": [
       "\n",
       "  <div id=\"df-39546a88-2890-4a39-9c91-86b32b287555\" class=\"colab-df-container\">\n",
       "    <div>\n",
       "<style scoped>\n",
       "    .dataframe tbody tr th:only-of-type {\n",
       "        vertical-align: middle;\n",
       "    }\n",
       "\n",
       "    .dataframe tbody tr th {\n",
       "        vertical-align: top;\n",
       "    }\n",
       "\n",
       "    .dataframe thead th {\n",
       "        text-align: right;\n",
       "    }\n",
       "</style>\n",
       "<table border=\"1\" class=\"dataframe\">\n",
       "  <thead>\n",
       "    <tr style=\"text-align: right;\">\n",
       "      <th></th>\n",
       "      <th>car_id</th>\n",
       "      <th>model</th>\n",
       "      <th>car_type</th>\n",
       "      <th>fuel_type</th>\n",
       "      <th>car_rating</th>\n",
       "      <th>year_to_start</th>\n",
       "      <th>riders</th>\n",
       "      <th>year_to_work</th>\n",
       "      <th>target_reg</th>\n",
       "      <th>target_class</th>\n",
       "      <th>...</th>\n",
       "      <th>distance</th>\n",
       "      <th>refueling</th>\n",
       "      <th>user_ride_quality</th>\n",
       "      <th>deviation_normal</th>\n",
       "      <th>age</th>\n",
       "      <th>user_rating</th>\n",
       "      <th>sex</th>\n",
       "      <th>fix_date</th>\n",
       "      <th>destroy_degree</th>\n",
       "      <th>work_duration</th>\n",
       "    </tr>\n",
       "  </thead>\n",
       "  <tbody>\n",
       "    <tr>\n",
       "      <th>0</th>\n",
       "      <td>y13744087j</td>\n",
       "      <td>Kia Rio X-line</td>\n",
       "      <td>economy</td>\n",
       "      <td>petrol</td>\n",
       "      <td>3.78</td>\n",
       "      <td>2015</td>\n",
       "      <td>76163</td>\n",
       "      <td>2021</td>\n",
       "      <td>108.53</td>\n",
       "      <td>another_bug</td>\n",
       "      <td>...</td>\n",
       "      <td>1682.556402</td>\n",
       "      <td>0</td>\n",
       "      <td>0.52475</td>\n",
       "      <td>0.0</td>\n",
       "      <td>38</td>\n",
       "      <td>7.4</td>\n",
       "      <td>0</td>\n",
       "      <td>2019-8-10 9:29</td>\n",
       "      <td>1.0</td>\n",
       "      <td>28</td>\n",
       "    </tr>\n",
       "  </tbody>\n",
       "</table>\n",
       "<p>1 rows × 37 columns</p>\n",
       "</div>\n",
       "    <div class=\"colab-df-buttons\">\n",
       "\n",
       "  <div class=\"colab-df-container\">\n",
       "    <button class=\"colab-df-convert\" onclick=\"convertToInteractive('df-39546a88-2890-4a39-9c91-86b32b287555')\"\n",
       "            title=\"Convert this dataframe to an interactive table.\"\n",
       "            style=\"display:none;\">\n",
       "\n",
       "  <svg xmlns=\"http://www.w3.org/2000/svg\" height=\"24px\" viewBox=\"0 -960 960 960\">\n",
       "    <path d=\"M120-120v-720h720v720H120Zm60-500h600v-160H180v160Zm220 220h160v-160H400v160Zm0 220h160v-160H400v160ZM180-400h160v-160H180v160Zm440 0h160v-160H620v160ZM180-180h160v-160H180v160Zm440 0h160v-160H620v160Z\"/>\n",
       "  </svg>\n",
       "    </button>\n",
       "\n",
       "  <style>\n",
       "    .colab-df-container {\n",
       "      display:flex;\n",
       "      gap: 12px;\n",
       "    }\n",
       "\n",
       "    .colab-df-convert {\n",
       "      background-color: #E8F0FE;\n",
       "      border: none;\n",
       "      border-radius: 50%;\n",
       "      cursor: pointer;\n",
       "      display: none;\n",
       "      fill: #1967D2;\n",
       "      height: 32px;\n",
       "      padding: 0 0 0 0;\n",
       "      width: 32px;\n",
       "    }\n",
       "\n",
       "    .colab-df-convert:hover {\n",
       "      background-color: #E2EBFA;\n",
       "      box-shadow: 0px 1px 2px rgba(60, 64, 67, 0.3), 0px 1px 3px 1px rgba(60, 64, 67, 0.15);\n",
       "      fill: #174EA6;\n",
       "    }\n",
       "\n",
       "    .colab-df-buttons div {\n",
       "      margin-bottom: 4px;\n",
       "    }\n",
       "\n",
       "    [theme=dark] .colab-df-convert {\n",
       "      background-color: #3B4455;\n",
       "      fill: #D2E3FC;\n",
       "    }\n",
       "\n",
       "    [theme=dark] .colab-df-convert:hover {\n",
       "      background-color: #434B5C;\n",
       "      box-shadow: 0px 1px 3px 1px rgba(0, 0, 0, 0.15);\n",
       "      filter: drop-shadow(0px 1px 2px rgba(0, 0, 0, 0.3));\n",
       "      fill: #FFFFFF;\n",
       "    }\n",
       "  </style>\n",
       "\n",
       "    <script>\n",
       "      const buttonEl =\n",
       "        document.querySelector('#df-39546a88-2890-4a39-9c91-86b32b287555 button.colab-df-convert');\n",
       "      buttonEl.style.display =\n",
       "        google.colab.kernel.accessAllowed ? 'block' : 'none';\n",
       "\n",
       "      async function convertToInteractive(key) {\n",
       "        const element = document.querySelector('#df-39546a88-2890-4a39-9c91-86b32b287555');\n",
       "        const dataTable =\n",
       "          await google.colab.kernel.invokeFunction('convertToInteractive',\n",
       "                                                    [key], {});\n",
       "        if (!dataTable) return;\n",
       "\n",
       "        const docLinkHtml = 'Like what you see? Visit the ' +\n",
       "          '<a target=\"_blank\" href=https://colab.research.google.com/notebooks/data_table.ipynb>data table notebook</a>'\n",
       "          + ' to learn more about interactive tables.';\n",
       "        element.innerHTML = '';\n",
       "        dataTable['output_type'] = 'display_data';\n",
       "        await google.colab.output.renderOutput(dataTable, element);\n",
       "        const docLink = document.createElement('div');\n",
       "        docLink.innerHTML = docLinkHtml;\n",
       "        element.appendChild(docLink);\n",
       "      }\n",
       "    </script>\n",
       "  </div>\n",
       "\n",
       "    </div>\n",
       "  </div>\n"
      ],
      "text/plain": [
       "       car_id           model car_type fuel_type  car_rating  year_to_start  \\\n",
       "0  y13744087j  Kia Rio X-line  economy    petrol        3.78           2015   \n",
       "\n",
       "   riders  year_to_work  target_reg target_class  ...     distance  refueling  \\\n",
       "0   76163          2021      108.53  another_bug  ...  1682.556402          0   \n",
       "\n",
       "   user_ride_quality  deviation_normal  age  user_rating  sex        fix_date  \\\n",
       "0            0.52475               0.0   38          7.4    0  2019-8-10 9:29   \n",
       "\n",
       "  destroy_degree work_duration  \n",
       "0            1.0            28  \n",
       "\n",
       "[1 rows x 37 columns]"
      ]
     },
     "execution_count": 12,
     "metadata": {},
     "output_type": "execute_result"
    }
   ],
   "source": [
    "final_df.head(1)"
   ]
  },
  {
   "cell_type": "code",
   "execution_count": null,
   "metadata": {
    "colab": {
     "base_uri": "https://localhost:8080/"
    },
    "id": "GSIuRprTKWXT",
    "outputId": "53b0598c-9d42-4bc1-98d0-fb12ca70ad3d"
   },
   "outputs": [
    {
     "name": "stdout",
     "output_type": "stream",
     "text": [
      "<class 'pandas.core.frame.DataFrame'>\n",
      "Int64Index: 13970460 entries, 0 to 13970459\n",
      "Data columns (total 37 columns):\n",
      " #   Column                       Dtype  \n",
      "---  ------                       -----  \n",
      " 0   car_id                       object \n",
      " 1   model                        object \n",
      " 2   car_type                     object \n",
      " 3   fuel_type                    object \n",
      " 4   car_rating                   float64\n",
      " 5   year_to_start                int64  \n",
      " 6   riders                       int64  \n",
      " 7   year_to_work                 int64  \n",
      " 8   target_reg                   float64\n",
      " 9   target_class                 object \n",
      " 10  min_rating                   float64\n",
      " 11  avg_rating                   float64\n",
      " 12  total_distance               float64\n",
      " 13  max_speed                    float64\n",
      " 14  total_rides                  int64  \n",
      " 15  average_speed                float64\n",
      " 16  max_ride_cost                int64  \n",
      " 17  percentage_high_rated_rides  float64\n",
      " 18  user_id                      object \n",
      " 19  ride_id                      object \n",
      " 20  ride_date                    object \n",
      " 21  rating                       float64\n",
      " 22  ride_duration                int64  \n",
      " 23  ride_cost                    int64  \n",
      " 24  speed_avg                    int64  \n",
      " 25  speed_max                    float64\n",
      " 26  stop_times                   int64  \n",
      " 27  distance                     float64\n",
      " 28  refueling                    int64  \n",
      " 29  user_ride_quality            float64\n",
      " 30  deviation_normal             float64\n",
      " 31  age                          int64  \n",
      " 32  user_rating                  float64\n",
      " 33  sex                          int64  \n",
      " 34  fix_date                     object \n",
      " 35  destroy_degree               float64\n",
      " 36  work_duration                int64  \n",
      "dtypes: float64(15), int64(13), object(9)\n",
      "memory usage: 4.0+ GB\n"
     ]
    }
   ],
   "source": [
    "final_df.info()"
   ]
  },
  {
   "cell_type": "markdown",
   "metadata": {
    "id": "Q6Fa0zupbuhw"
   },
   "source": [
    "## Задание 2. Применение методов фильтрации признаков (4 балла)\n",
    "\n",
    "<center> <img src=\"https://ucarecdn.com/d1b4bc78-fd04-44fb-bdbf-0a63355b7384/\" width=700>"
   ]
  },
  {
   "cell_type": "markdown",
   "metadata": {
    "id": "c910L9jubuhx"
   },
   "source": [
    "1. Выберите и примените любые 3 (можно и больше) метода фильтрации, которые указаны выше или в ноутбуке по фильтрации из полезных ссылок.\n",
    "2. Проинтерпретируйте результаты и сделайте выводы.\n",
    "\n",
    "\n",
    "<h4> Критерии оценивания </h4>\n",
    "    \n",
    "- Применены методы фильтрации — 1 балл за каждый метод, максимум 3 балла.\n",
    "- Сделаны выводы на основе примененных методов —1 балл.\n",
    "</div>"
   ]
  },
  {
   "cell_type": "markdown",
   "metadata": {
    "id": "9flWgKVxf9Q1"
   },
   "source": [
    "### Советы по Feature Selection"
   ]
  },
  {
   "cell_type": "markdown",
   "metadata": {
    "id": "vYr9VNS5buhw"
   },
   "source": [
    "<div class=\"alert alert-info\">\n",
    "\n",
    "<h3><center>Зачем отбирать признаки</center></h3>\n",
    "    \n",
    "**Основные причины**:\n",
    "    \n",
    "- Главная причина: с увеличением количества признаков часто падает точность предсказания модели, а некоторые модели и вовсе перестают адекватно работать. Так происходит, если в данных большое количество мусорных фичей (почти не коррелирующих с таргетом).\n",
    "\n",
    "- Если фичей очень много, то данные перестают помещаться в память и существенно увеличивают время обучения модели, особенно если мы тестируем несколько алгоритмов или ансамбль. Также важно учитывать, что платформы имеют ограничения на длительность одной сессии (в Kaggle — 12 часов) и лимиты по потребляемой памяти.\n",
    "\n",
    "- Даже если точность не снижается, есть риск, что модель опирается на шумные фичи, что снизит стабильность прогноза на приватной выборке.\n"
   ]
  },
  {
   "cell_type": "markdown",
   "metadata": {
    "id": "P4JQwUS3buhw"
   },
   "source": [
    "<b>Что удалить сразу:</b>\n",
    "    \n",
    "- константы;\n",
    "- уникальные значения (в том числе в тесте; как правило, это ID-шники по типу `car_id`).\n",
    "    \n",
    "<b>Какие методы использовать:</b>\n",
    "    \n",
    "- `Линейная корреляция`.\n",
    "- `Phik` — тоже корреляция, но на стероидах ([туториал на Medium](https://towardsdatascience.com/phik-k-get-familiar-with-the-latest-correlation-coefficient-9ba0032b37e7)).\n",
    "- `Permutation importance` (из `scikit-learn`).\n",
    "- `SHAP values` (из библиотеки `shap`).\n",
    "- `CatBoost Feature Selection` (рекурсивные методы).\n",
    "    "
   ]
  },
  {
   "cell_type": "code",
   "execution_count": null,
   "metadata": {
    "colab": {
     "base_uri": "https://localhost:8080/"
    },
    "id": "dku2IuGBG7w9",
    "outputId": "fc520925-62c7-4299-e63c-8908aebc2ad7"
   },
   "outputs": [
    {
     "name": "stdout",
     "output_type": "stream",
     "text": [
      "Index(['car_id', 'model', 'car_type', 'fuel_type', 'car_rating',\n",
      "       'year_to_start', 'riders', 'year_to_work', 'target_reg', 'target_class',\n",
      "       'min_rating', 'avg_rating', 'total_distance', 'max_speed',\n",
      "       'total_rides', 'average_speed', 'max_ride_cost',\n",
      "       'percentage_high_rated_rides', 'user_id', 'ride_id', 'ride_date',\n",
      "       'rating', 'ride_duration', 'ride_cost', 'speed_avg', 'speed_max',\n",
      "       'stop_times', 'distance', 'refueling', 'user_ride_quality',\n",
      "       'deviation_normal', 'age', 'user_rating', 'sex', 'fix_date',\n",
      "       'destroy_degree', 'work_duration'],\n",
      "      dtype='object')\n"
     ]
    }
   ],
   "source": [
    "print(final_df.columns)"
   ]
  },
  {
   "cell_type": "markdown",
   "metadata": {
    "id": "lE9vxZG3JLXk"
   },
   "source": [
    "**1. Выберите и примените любые 3 (можно и больше) метода фильтрации, которые указаны выше или в ноутбуке по фильтрации из полезных ссылок.**"
   ]
  },
  {
   "cell_type": "markdown",
   "metadata": {
    "id": "ugcbxykBLEAv"
   },
   "source": [
    "Я сразу удалю все столбцы, содержащие id (так как они уникальны и не несут смысла для обучения), а также найду столбцы с константными значениями и также их удалю"
   ]
  },
  {
   "cell_type": "code",
   "execution_count": null,
   "metadata": {
    "colab": {
     "base_uri": "https://localhost:8080/"
    },
    "id": "2PTXgB6XJIjm",
    "outputId": "a92dc65c-9f15-4242-8def-c3b6bedb639f"
   },
   "outputs": [
    {
     "name": "stdout",
     "output_type": "stream",
     "text": [
      "Константные столбцы: ['total_rides']\n"
     ]
    }
   ],
   "source": [
    "constant_columns = []\n",
    "\n",
    "for column in final_df.columns:\n",
    "    unique_values = final_df[column].unique()\n",
    "    if len(unique_values) == 1:\n",
    "        constant_columns.append(column)\n",
    "    elif len(unique_values) == len(final_df):\n",
    "        unique_value_columns.append(column)\n",
    "\n",
    "print(\"Константные столбцы:\", constant_columns)\n"
   ]
  },
  {
   "cell_type": "code",
   "execution_count": 13,
   "metadata": {
    "id": "lyTndDh6LgzN"
   },
   "outputs": [],
   "source": [
    "final_df.drop(columns=['car_id', 'user_id', 'ride_id', 'total_rides'], inplace=True)"
   ]
  },
  {
   "cell_type": "code",
   "execution_count": 14,
   "metadata": {
    "colab": {
     "base_uri": "https://localhost:8080/"
    },
    "id": "oyo_yn6gLpB1",
    "outputId": "7f28f83b-d02d-4b16-8045-b15b075d1dc2"
   },
   "outputs": [
    {
     "name": "stdout",
     "output_type": "stream",
     "text": [
      "Index(['model', 'car_type', 'fuel_type', 'car_rating', 'year_to_start',\n",
      "       'riders', 'year_to_work', 'target_reg', 'target_class', 'min_rating',\n",
      "       'avg_rating', 'total_distance', 'max_speed', 'average_speed',\n",
      "       'max_ride_cost', 'percentage_high_rated_rides', 'ride_date', 'rating',\n",
      "       'ride_duration', 'ride_cost', 'speed_avg', 'speed_max', 'stop_times',\n",
      "       'distance', 'refueling', 'user_ride_quality', 'deviation_normal', 'age',\n",
      "       'user_rating', 'sex', 'fix_date', 'destroy_degree', 'work_duration'],\n",
      "      dtype='object')\n"
     ]
    }
   ],
   "source": [
    "print(final_df.columns)"
   ]
  },
  {
   "cell_type": "code",
   "execution_count": null,
   "metadata": {
    "id": "G5vQXYY2VT9n"
   },
   "outputs": [],
   "source": [
    "final_df.to_csv('final_df.csv')"
   ]
  },
  {
   "cell_type": "code",
   "execution_count": null,
   "metadata": {
    "colab": {
     "base_uri": "https://localhost:8080/",
     "height": 17
    },
    "id": "WJ6PQmi0WYvg",
    "outputId": "610a9b67-8ee4-4c8c-9129-4728c78e1de7"
   },
   "outputs": [
    {
     "data": {
      "application/javascript": [
       "\n",
       "    async function download(id, filename, size) {\n",
       "      if (!google.colab.kernel.accessAllowed) {\n",
       "        return;\n",
       "      }\n",
       "      const div = document.createElement('div');\n",
       "      const label = document.createElement('label');\n",
       "      label.textContent = `Downloading \"${filename}\": `;\n",
       "      div.appendChild(label);\n",
       "      const progress = document.createElement('progress');\n",
       "      progress.max = size;\n",
       "      div.appendChild(progress);\n",
       "      document.body.appendChild(div);\n",
       "\n",
       "      const buffers = [];\n",
       "      let downloaded = 0;\n",
       "\n",
       "      const channel = await google.colab.kernel.comms.open(id);\n",
       "      // Send a message to notify the kernel that we're ready.\n",
       "      channel.send({})\n",
       "\n",
       "      for await (const message of channel.messages) {\n",
       "        // Send a message to notify the kernel that we're ready.\n",
       "        channel.send({})\n",
       "        if (message.buffers) {\n",
       "          for (const buffer of message.buffers) {\n",
       "            buffers.push(buffer);\n",
       "            downloaded += buffer.byteLength;\n",
       "            progress.value = downloaded;\n",
       "          }\n",
       "        }\n",
       "      }\n",
       "      const blob = new Blob(buffers, {type: 'application/binary'});\n",
       "      const a = document.createElement('a');\n",
       "      a.href = window.URL.createObjectURL(blob);\n",
       "      a.download = filename;\n",
       "      div.appendChild(a);\n",
       "      a.click();\n",
       "      div.remove();\n",
       "    }\n",
       "  "
      ],
      "text/plain": [
       "<IPython.core.display.Javascript object>"
      ]
     },
     "metadata": {},
     "output_type": "display_data"
    },
    {
     "data": {
      "application/javascript": [
       "download(\"download_d4adf740-a15f-4494-9d45-8349496b074d\", \"final_df.csv\", 4062154611)"
      ],
      "text/plain": [
       "<IPython.core.display.Javascript object>"
      ]
     },
     "metadata": {},
     "output_type": "display_data"
    }
   ],
   "source": [
    "from google.colab import files\n",
    "files.download('final_df.csv')"
   ]
  },
  {
   "cell_type": "markdown",
   "metadata": {
    "id": "Oltr3fYqOv3e"
   },
   "source": [
    "##Линейная корреляция"
   ]
  },
  {
   "cell_type": "markdown",
   "metadata": {
    "id": "YhSqL3jiOzlk"
   },
   "source": [
    "Для фильтрации признаков на основе линейной корреляции я буду использовать использовать корреляционную матрицу. Корреляционная матрица покажет, как каждый признак связан с каждым другим, и поможет идентифицировать признаки, которые сильно коррелируют друг с другом. Сильно коррелирующие признаки могут нести избыточную информацию, что может привести к проблемам мультиколлинеарности в некоторых моделях машинного обучения. Обычно используется пороговое значение корреляции (я возьму 0.8), чтобы определить, какие признаки следует рассмотреть к удалению или дополнительному анализу.\n"
   ]
  },
  {
   "cell_type": "code",
   "execution_count": null,
   "metadata": {
    "colab": {
     "base_uri": "https://localhost:8080/"
    },
    "id": "i_gkep3JPwOC",
    "outputId": "79773c51-4d01-4709-b5a2-ad16f2752e70"
   },
   "outputs": [
    {
     "name": "stderr",
     "output_type": "stream",
     "text": [
      "<ipython-input-19-03161e86c57e>:2: FutureWarning: The default value of numeric_only in DataFrame.corr is deprecated. In a future version, it will default to False. Select only valid columns or specify the value of numeric_only to silence this warning.\n",
      "  corr_matrix = final_df.corr()\n"
     ]
    },
    {
     "name": "stdout",
     "output_type": "stream",
     "text": [
      "Пары признаков с высокой корреляцией и их корреляционные коэффициенты:\n",
      "riders и year_to_start: 0.9867577416440495\n",
      "percentage_high_rated_rides и avg_rating: 0.9559441442592234\n",
      "ride_cost и ride_duration: 0.9150797040991698\n",
      "distance и ride_duration: 0.9645640740722876\n",
      "distance и ride_cost: 0.8830040465323358\n"
     ]
    }
   ],
   "source": [
    "# Вычисляем корреляционную матрицу\n",
    "corr_matrix = final_df.corr()\n",
    "\n",
    "# Ищем пары признаков с высокой корреляцией\n",
    "high_corr_pairs = []\n",
    "threshold = 0.8  # Задаем порог для определения \"высокой\" корреляции\n",
    "\n",
    "for i in range(len(corr_matrix.columns)):\n",
    "    for j in range(i):\n",
    "        if abs(corr_matrix.iloc[i, j]) > threshold:\n",
    "            high_corr_pairs.append((corr_matrix.columns[i], corr_matrix.columns[j], abs(corr_matrix.iloc[i, j])))\n",
    "\n",
    "# Выводим пары признаков с корреляцией выше порогового значения\n",
    "print(\"Пары признаков с высокой корреляцией и их корреляционные коэффициенты:\")\n",
    "for pair in high_corr_pairs:\n",
    "    print(f\"{pair[0]} и {pair[1]}: {pair[2]}\")\n"
   ]
  },
  {
   "cell_type": "markdown",
   "metadata": {
    "id": "DRje3V6qQmIL"
   },
   "source": [
    "###Выводы по линейной корреляции\n",
    "1. `riders` (общее кол-во поездок) и `year_to_start`: логично, что они коррелируют. Чем старше машина, тем больше поездок на ней совершено.\n",
    "\n",
    "2. `percentage_high_rated_rides` и `avg_rating`: тоже логичная корреляция\n",
    "\n",
    "3. `ride_cost`, `ride_duration` и `distance`: Эти три признака сильно коррелируют друг с другом. Из них ride_duration и distance наиболее тесно связаны, что логично, поскольку большее расстояние часто требует больше времени на поездку.\n",
    "\n",
    "Применю еще два метода фильтрации для того, чтобы принять финальное решение."
   ]
  },
  {
   "cell_type": "markdown",
   "metadata": {
    "id": "t8XxafSNcWCo"
   },
   "source": [
    "## Phik"
   ]
  },
  {
   "cell_type": "markdown",
   "metadata": {
    "id": "PGnnsbZtsgXk"
   },
   "source": [
    "Phik корреляция рассчитывается на основе нелинейной корреляции между переменными и может эффективно работать с категориальными и числовыми данными. Расчет Phik корреляции может потребовать меньше памяти, чем методы, основанные на более сложных моделях машинного обучения. Подходит для анализа взаимосвязей между всеми типами переменных.\n",
    "\n"
   ]
  },
  {
   "cell_type": "code",
   "execution_count": null,
   "metadata": {
    "colab": {
     "base_uri": "https://localhost:8080/"
    },
    "id": "P3vEt56acYRo",
    "outputId": "21363243-0dd9-4b9c-f793-335b8c8752cb"
   },
   "outputs": [
    {
     "name": "stdout",
     "output_type": "stream",
     "text": [
      "Collecting phik\n",
      "  Downloading phik-0.12.4-cp310-cp310-manylinux_2_17_x86_64.manylinux2014_x86_64.whl (686 kB)\n",
      "\u001b[2K     \u001b[90m━━━━━━━━━━━━━━━━━━━━━━━━━━━━━━━━━━━━━━━━\u001b[0m \u001b[32m686.1/686.1 kB\u001b[0m \u001b[31m7.2 MB/s\u001b[0m eta \u001b[36m0:00:00\u001b[0m\n",
      "\u001b[?25hRequirement already satisfied: numpy>=1.18.0 in /usr/local/lib/python3.10/dist-packages (from phik) (1.25.2)\n",
      "Requirement already satisfied: scipy>=1.5.2 in /usr/local/lib/python3.10/dist-packages (from phik) (1.11.4)\n",
      "Requirement already satisfied: pandas>=0.25.1 in /usr/local/lib/python3.10/dist-packages (from phik) (1.5.3)\n",
      "Requirement already satisfied: matplotlib>=2.2.3 in /usr/local/lib/python3.10/dist-packages (from phik) (3.7.1)\n",
      "Requirement already satisfied: joblib>=0.14.1 in /usr/local/lib/python3.10/dist-packages (from phik) (1.3.2)\n",
      "Requirement already satisfied: contourpy>=1.0.1 in /usr/local/lib/python3.10/dist-packages (from matplotlib>=2.2.3->phik) (1.2.0)\n",
      "Requirement already satisfied: cycler>=0.10 in /usr/local/lib/python3.10/dist-packages (from matplotlib>=2.2.3->phik) (0.12.1)\n",
      "Requirement already satisfied: fonttools>=4.22.0 in /usr/local/lib/python3.10/dist-packages (from matplotlib>=2.2.3->phik) (4.49.0)\n",
      "Requirement already satisfied: kiwisolver>=1.0.1 in /usr/local/lib/python3.10/dist-packages (from matplotlib>=2.2.3->phik) (1.4.5)\n",
      "Requirement already satisfied: packaging>=20.0 in /usr/local/lib/python3.10/dist-packages (from matplotlib>=2.2.3->phik) (23.2)\n",
      "Requirement already satisfied: pillow>=6.2.0 in /usr/local/lib/python3.10/dist-packages (from matplotlib>=2.2.3->phik) (9.4.0)\n",
      "Requirement already satisfied: pyparsing>=2.3.1 in /usr/local/lib/python3.10/dist-packages (from matplotlib>=2.2.3->phik) (3.1.2)\n",
      "Requirement already satisfied: python-dateutil>=2.7 in /usr/local/lib/python3.10/dist-packages (from matplotlib>=2.2.3->phik) (2.8.2)\n",
      "Requirement already satisfied: pytz>=2020.1 in /usr/local/lib/python3.10/dist-packages (from pandas>=0.25.1->phik) (2023.4)\n",
      "Requirement already satisfied: six>=1.5 in /usr/local/lib/python3.10/dist-packages (from python-dateutil>=2.7->matplotlib>=2.2.3->phik) (1.16.0)\n",
      "Installing collected packages: phik\n",
      "Successfully installed phik-0.12.4\n"
     ]
    }
   ],
   "source": [
    "pip install phik"
   ]
  },
  {
   "cell_type": "code",
   "execution_count": null,
   "metadata": {
    "colab": {
     "base_uri": "https://localhost:8080/"
    },
    "id": "nYCVtu77kSiJ",
    "outputId": "3ccb3b89-b90c-4cf7-9920-6e40baba3f0d"
   },
   "outputs": [
    {
     "name": "stdout",
     "output_type": "stream",
     "text": [
      "interval columns not set, guessing: ['car_rating', 'year_to_start', 'riders', 'year_to_work', 'target_reg', 'min_rating', 'avg_rating', 'total_distance', 'max_speed', 'average_speed', 'max_ride_cost', 'percentage_high_rated_rides', 'rating', 'ride_duration', 'ride_cost', 'speed_avg', 'speed_max', 'stop_times', 'distance', 'refueling', 'user_ride_quality', 'deviation_normal', 'age', 'user_rating', 'sex', 'destroy_degree', 'work_duration']\n",
      "                                model  car_type  fuel_type  car_rating  \\\n",
      "model                        1.000000  1.000000   1.000000    0.249718   \n",
      "car_type                     1.000000  1.000000   0.694427    0.090503   \n",
      "fuel_type                    1.000000  0.694427   1.000000    0.073095   \n",
      "car_rating                   0.249718  0.090503   0.073095    1.000000   \n",
      "year_to_start                0.578220  0.281361   0.025406    0.132854   \n",
      "riders                       0.550906  0.312185   0.057774    0.218532   \n",
      "year_to_work                 0.317306  0.137838   0.054148    0.136937   \n",
      "target_reg                   0.423454  0.229485   0.405376    0.173593   \n",
      "target_class                 0.311372  0.203310   0.050828    0.135708   \n",
      "min_rating                   0.285254  0.102444   0.122980    0.232693   \n",
      "avg_rating                   0.299863  0.129722   0.057953    0.207927   \n",
      "total_distance               0.281252  0.090530   0.095416    0.171688   \n",
      "max_speed                    0.285323  0.131838   0.104178    0.166425   \n",
      "average_speed                0.284386  0.113178   0.074245    0.239470   \n",
      "max_ride_cost                0.723122  0.748733   0.551830    0.160153   \n",
      "percentage_high_rated_rides  0.296592  0.143742   0.068302    0.196177   \n",
      "ride_date                    0.011034  0.005247   0.002535    0.005970   \n",
      "rating                       0.039936  0.020456   0.005031    0.027463   \n",
      "ride_duration                0.022645  0.007639   0.008027    0.015845   \n",
      "ride_cost                    0.111772  0.109658   0.069594    0.013879   \n",
      "speed_avg                    0.037538  0.020988   0.008148    0.023814   \n",
      "speed_max                    0.053723  0.032832   0.009621    0.028081   \n",
      "stop_times                   0.080062  0.059660   0.006848    0.034476   \n",
      "distance                     0.020294  0.008247   0.005111    0.013671   \n",
      "refueling                    0.006863  0.002863   0.000206    0.004462   \n",
      "user_ride_quality            0.176093  0.072847   0.032464    0.115716   \n",
      "deviation_normal             0.144249  0.052965   0.042832    0.115756   \n",
      "age                          0.094838  0.060768   0.060821    0.017029   \n",
      "user_rating                  0.261916  0.155162   0.266044    0.024364   \n",
      "sex                          0.048682  0.018750   0.002922    0.010303   \n",
      "destroy_degree               0.067286  0.024690   0.022222    0.038725   \n",
      "work_duration                0.054264  0.023515   0.015674    0.034807   \n",
      "\n",
      "                             year_to_start    riders  year_to_work  \\\n",
      "model                             0.578220  0.550906      0.317306   \n",
      "car_type                          0.281361  0.312185      0.137838   \n",
      "fuel_type                         0.025406  0.057774      0.054148   \n",
      "car_rating                        0.132854  0.218532      0.136937   \n",
      "year_to_start                     1.000000  0.956550      0.100902   \n",
      "riders                            0.956550  1.000000      0.130009   \n",
      "year_to_work                      0.100902  0.130009      1.000000   \n",
      "target_reg                        0.121701  0.186264      0.133136   \n",
      "target_class                      0.112042  0.127224      0.163130   \n",
      "min_rating                        0.107369  0.192783      0.136704   \n",
      "avg_rating                        0.130682  0.213400      0.133864   \n",
      "total_distance                    0.099568  0.175195      0.143952   \n",
      "max_speed                         0.142928  0.217232      0.138605   \n",
      "average_speed                     0.110748  0.217072      0.148148   \n",
      "max_ride_cost                     0.154181  0.225462      0.152035   \n",
      "percentage_high_rated_rides       0.127081  0.186294      0.128624   \n",
      "ride_date                         0.004822  0.006060      0.006243   \n",
      "rating                            0.014018  0.023941      0.017065   \n",
      "ride_duration                     0.009187  0.014006      0.009653   \n",
      "ride_cost                         0.012817  0.018336      0.013846   \n",
      "speed_avg                         0.012494  0.022161      0.018181   \n",
      "speed_max                         0.022777  0.031597      0.021527   \n",
      "stop_times                        0.017652  0.026219      0.036349   \n",
      "distance                          0.007913  0.014887      0.010816   \n",
      "refueling                         0.002596  0.005231      0.004888   \n",
      "user_ride_quality                 0.063328  0.100785      0.072263   \n",
      "deviation_normal                  0.054374  0.090859      0.069514   \n",
      "age                               0.024745  0.033017      0.018547   \n",
      "user_rating                       0.021926  0.029932      0.021756   \n",
      "sex                               0.010727  0.014797      0.007971   \n",
      "destroy_degree                    0.021693  0.034670      0.026458   \n",
      "work_duration                     0.023654  0.039002      0.026064   \n",
      "\n",
      "                             target_reg  target_class  min_rating  ...  \\\n",
      "model                          0.423454      0.311372    0.285254  ...   \n",
      "car_type                       0.229485      0.203310    0.102444  ...   \n",
      "fuel_type                      0.405376      0.050828    0.122980  ...   \n",
      "car_rating                     0.173593      0.135708    0.232693  ...   \n",
      "year_to_start                  0.121701      0.112042    0.107369  ...   \n",
      "riders                         0.186264      0.127224    0.192783  ...   \n",
      "year_to_work                   0.133136      0.163130    0.136704  ...   \n",
      "target_reg                     1.000000      0.645159    0.202686  ...   \n",
      "target_class                   0.645159      1.000000    0.320609  ...   \n",
      "min_rating                     0.202686      0.320609    1.000000  ...   \n",
      "avg_rating                     0.494160      0.774554    0.452864  ...   \n",
      "total_distance                 0.189497      0.179203    0.167928  ...   \n",
      "max_speed                      0.514984      0.785274    0.321520  ...   \n",
      "average_speed                  0.278646      0.639481    0.385058  ...   \n",
      "max_ride_cost                  0.316380      0.144284    0.200915  ...   \n",
      "percentage_high_rated_rides    0.468013      0.757252    0.487617  ...   \n",
      "ride_date                      0.005869      0.006455    0.006534  ...   \n",
      "rating                         0.072716      0.209825    0.102898  ...   \n",
      "ride_duration                  0.015057      0.008804    0.015992  ...   \n",
      "ride_cost                      0.032935      0.012461    0.017650  ...   \n",
      "speed_avg                      0.051078      0.174108    0.087035  ...   \n",
      "speed_max                      0.176692      0.307309    0.117600  ...   \n",
      "stop_times                     0.266627      0.376720    0.089610  ...   \n",
      "distance                       0.017333      0.025456    0.016049  ...   \n",
      "refueling                      0.002748      0.004136    0.005357  ...   \n",
      "user_ride_quality              0.110319      0.107336    0.068801  ...   \n",
      "deviation_normal               0.176040      0.299142    0.130616  ...   \n",
      "age                            0.028742      0.042321    0.018341  ...   \n",
      "user_rating                    0.115877      0.135135    0.038935  ...   \n",
      "sex                            0.013157      0.061345    0.009966  ...   \n",
      "destroy_degree                 0.297807      0.319764    0.052153  ...   \n",
      "work_duration                  0.071126      0.104201    0.038868  ...   \n",
      "\n",
      "                             stop_times  distance  refueling  \\\n",
      "model                          0.080062  0.020294   0.006863   \n",
      "car_type                       0.059660  0.008247   0.002863   \n",
      "fuel_type                      0.006848  0.005111   0.000206   \n",
      "car_rating                     0.034476  0.013671   0.004462   \n",
      "year_to_start                  0.017652  0.007913   0.002596   \n",
      "riders                         0.026219  0.014887   0.005231   \n",
      "year_to_work                   0.036349  0.010816   0.004888   \n",
      "target_reg                     0.266627  0.017333   0.002748   \n",
      "target_class                   0.376720  0.025456   0.004136   \n",
      "min_rating                     0.089610  0.016049   0.005357   \n",
      "avg_rating                     0.338291  0.031617   0.004400   \n",
      "total_distance                 0.044165  0.084850   0.003107   \n",
      "max_speed                      0.200009  0.027796   0.005103   \n",
      "average_speed                  0.243398  0.037954   0.006396   \n",
      "max_ride_cost                  0.044659  0.031152   0.002549   \n",
      "percentage_high_rated_rides    0.334841  0.031410   0.005725   \n",
      "ride_date                      0.044032  0.045092   0.018180   \n",
      "rating                         0.135176  0.026729   0.004786   \n",
      "ride_duration                  0.019373  0.878145   0.021359   \n",
      "ride_cost                      0.036125  0.750381   0.010612   \n",
      "speed_avg                      0.087158  0.201216   0.004498   \n",
      "speed_max                      0.143134  0.084385   0.002353   \n",
      "stop_times                     1.000000  0.015908   0.000502   \n",
      "distance                       0.015908  1.000000   0.011454   \n",
      "refueling                      0.000502  0.011454   1.000000   \n",
      "user_ride_quality              0.031018  0.015906   0.002454   \n",
      "deviation_normal               0.027336  0.014661   0.002451   \n",
      "age                            0.018407  0.012457   0.005541   \n",
      "user_rating                    0.047042  0.014975   0.005256   \n",
      "sex                            0.011416  0.004823   0.003971   \n",
      "destroy_degree                 0.061252  0.003011   0.000000   \n",
      "work_duration                  0.010697  0.001862   0.000000   \n",
      "\n",
      "                             user_ride_quality  deviation_normal       age  \\\n",
      "model                                 0.176093          0.144249  0.094838   \n",
      "car_type                              0.072847          0.052965  0.060768   \n",
      "fuel_type                             0.032464          0.042832  0.060821   \n",
      "car_rating                            0.115716          0.115756  0.017029   \n",
      "year_to_start                         0.063328          0.054374  0.024745   \n",
      "riders                                0.100785          0.090859  0.033017   \n",
      "year_to_work                          0.072263          0.069514  0.018547   \n",
      "target_reg                            0.110319          0.176040  0.028742   \n",
      "target_class                          0.107336          0.299142  0.042321   \n",
      "min_rating                            0.068801          0.130616  0.018341   \n",
      "avg_rating                            0.106417          0.261765  0.035466   \n",
      "total_distance                        0.093386          0.108669  0.015673   \n",
      "max_speed                             0.094747          0.329567  0.022500   \n",
      "average_speed                         0.110632          0.227808  0.022411   \n",
      "max_ride_cost                         0.140351          0.088569  0.059555   \n",
      "percentage_high_rated_rides           0.118097          0.255068  0.035399   \n",
      "ride_date                             0.349224          0.177485  0.043582   \n",
      "rating                                0.021125          0.055275  0.014256   \n",
      "ride_duration                         0.014931          0.015166  0.014466   \n",
      "ride_cost                             0.026505          0.017517  0.014866   \n",
      "speed_avg                             0.018666          0.049126  0.016512   \n",
      "speed_max                             0.021023          0.105359  0.013728   \n",
      "stop_times                            0.031018          0.027336  0.018407   \n",
      "distance                              0.015906          0.014661  0.012457   \n",
      "refueling                             0.002454          0.002451  0.005541   \n",
      "user_ride_quality                     1.000000          0.109569  0.015047   \n",
      "deviation_normal                      0.109569          1.000000  0.017787   \n",
      "age                                   0.015047          0.017787  1.000000   \n",
      "user_rating                           0.016794          0.034559  0.154387   \n",
      "sex                                   0.007691          0.004920  0.938632   \n",
      "destroy_degree                        0.027412          0.095629  0.005599   \n",
      "work_duration                         0.016760          0.021367  0.003554   \n",
      "\n",
      "                             user_rating       sex  destroy_degree  \\\n",
      "model                           0.261916  0.048682        0.067286   \n",
      "car_type                        0.155162  0.018750        0.024690   \n",
      "fuel_type                       0.266044  0.002922        0.022222   \n",
      "car_rating                      0.024364  0.010303        0.038725   \n",
      "year_to_start                   0.021926  0.010727        0.021693   \n",
      "riders                          0.029932  0.014797        0.034670   \n",
      "year_to_work                    0.021756  0.007971        0.026458   \n",
      "target_reg                      0.115877  0.013157        0.297807   \n",
      "target_class                    0.135135  0.061345        0.319764   \n",
      "min_rating                      0.038935  0.009966        0.052153   \n",
      "avg_rating                      0.070930  0.041347        0.107367   \n",
      "total_distance                  0.029888  0.009320        0.042632   \n",
      "max_speed                       0.105715  0.017114        0.222967   \n",
      "average_speed                   0.033893  0.021324        0.059112   \n",
      "max_ride_cost                   0.120828  0.012914        0.038290   \n",
      "percentage_high_rated_rides     0.074640  0.043080        0.107149   \n",
      "ride_date                       0.044331  0.019206        0.000000   \n",
      "rating                          0.016855  0.009677        0.018537   \n",
      "ride_duration                   0.013127  0.005141        0.001699   \n",
      "ride_cost                       0.019848  0.004885        0.002209   \n",
      "speed_avg                       0.016424  0.004827        0.008616   \n",
      "speed_max                       0.021403  0.006494        0.040359   \n",
      "stop_times                      0.047042  0.011416        0.061252   \n",
      "distance                        0.014975  0.004823        0.003011   \n",
      "refueling                       0.005256  0.003971        0.000000   \n",
      "user_ride_quality               0.016794  0.007691        0.027412   \n",
      "deviation_normal                0.034559  0.004920        0.095629   \n",
      "age                             0.154387  0.938632        0.005599   \n",
      "user_rating                     1.000000  0.202940        0.018806   \n",
      "sex                             0.202940  1.000000        0.008279   \n",
      "destroy_degree                  0.018806  0.008279        1.000000   \n",
      "work_duration                   0.005177  0.005512        0.896363   \n",
      "\n",
      "                             work_duration  \n",
      "model                             0.054264  \n",
      "car_type                          0.023515  \n",
      "fuel_type                         0.015674  \n",
      "car_rating                        0.034807  \n",
      "year_to_start                     0.023654  \n",
      "riders                            0.039002  \n",
      "year_to_work                      0.026064  \n",
      "target_reg                        0.071126  \n",
      "target_class                      0.104201  \n",
      "min_rating                        0.038868  \n",
      "avg_rating                        0.043937  \n",
      "total_distance                    0.040912  \n",
      "max_speed                         0.056157  \n",
      "average_speed                     0.055792  \n",
      "max_ride_cost                     0.034446  \n",
      "percentage_high_rated_rides       0.046919  \n",
      "ride_date                         0.000000  \n",
      "rating                            0.017535  \n",
      "ride_duration                     0.000419  \n",
      "ride_cost                         0.001230  \n",
      "speed_avg                         0.011099  \n",
      "speed_max                         0.011175  \n",
      "stop_times                        0.010697  \n",
      "distance                          0.001862  \n",
      "refueling                         0.000000  \n",
      "user_ride_quality                 0.016760  \n",
      "deviation_normal                  0.021367  \n",
      "age                               0.003554  \n",
      "user_rating                       0.005177  \n",
      "sex                               0.005512  \n",
      "destroy_degree                    0.896363  \n",
      "work_duration                     1.000000  \n",
      "\n",
      "[32 rows x 32 columns]\n"
     ]
    },
    {
     "data": {
      "image/png": "[encoded data removed]",
      "text/plain": [
       "<Figure size 1200x1000 with 2 Axes>"
      ]
     },
     "metadata": {},
     "output_type": "display_data"
    }
   ],
   "source": [
    "import pandas as pd\n",
    "import phik\n",
    "from phik import resources, report\n",
    "import seaborn as sns\n",
    "import matplotlib.pyplot as plt\n",
    "\n",
    "# Исключаем столбец 'fix_date' из анализа, так как код выдавал предупреждение, что там слишком много уникальных значений\n",
    "final_df_filtered = final_df.drop(columns=['fix_date'])\n",
    "\n",
    "# Вычисляем корреляцию Phik для отфильтрованного DataFrame\n",
    "phik_matrix = final_df_filtered.phik_matrix()\n",
    "\n",
    "# Отображение корреляционной матрицы Phik\n",
    "print(phik_matrix)\n",
    "\n",
    "# Визуализация корреляционной матрицы с использованием seaborn\n",
    "plt.figure(figsize=(12, 10))\n",
    "sns.heatmap(phik_matrix, annot=True, fmt=\".2f\", cmap=\"viridis\")\n",
    "plt.title(\"Phik Correlation Matrix\")\n",
    "plt.show()\n"
   ]
  },
  {
   "cell_type": "markdown",
   "metadata": {
    "id": "98uwLNAzs50s"
   },
   "source": [
    "Хороший, наглядный вариант для всего пространства признаков. Видно, что результаты схожи в результатами от линейной корреляции. Видна сильная корреляция, например, между ride_duration и distance, между ride_cost и distance. При этом выявились и новые корреляции: например, max_ride_cost и model"
   ]
  },
  {
   "cell_type": "markdown",
   "metadata": {
    "id": "7TGV9rrCvCs4"
   },
   "source": [
    "#CatBoost Feature Selection"
   ]
  },
  {
   "cell_type": "code",
   "execution_count": null,
   "metadata": {
    "colab": {
     "base_uri": "https://localhost:8080/"
    },
    "id": "N6ttBYEyvbja",
    "outputId": "4cf33d63-1432-4bc8-ce80-c01ebff3a55b"
   },
   "outputs": [
    {
     "name": "stdout",
     "output_type": "stream",
     "text": [
      "Collecting catboost\n",
      "  Downloading catboost-1.2.3-cp310-cp310-manylinux2014_x86_64.whl (98.5 MB)\n",
      "\u001b[2K     \u001b[90m━━━━━━━━━━━━━━━━━━━━━━━━━━━━━━━━━━━━━━━━\u001b[0m \u001b[32m98.5/98.5 MB\u001b[0m \u001b[31m13.1 MB/s\u001b[0m eta \u001b[36m0:00:00\u001b[0m\n",
      "\u001b[?25hRequirement already satisfied: graphviz in /usr/local/lib/python3.10/dist-packages (from catboost) (0.20.1)\n",
      "Requirement already satisfied: matplotlib in /usr/local/lib/python3.10/dist-packages (from catboost) (3.7.1)\n",
      "Requirement already satisfied: numpy>=1.16.0 in /usr/local/lib/python3.10/dist-packages (from catboost) (1.25.2)\n",
      "Requirement already satisfied: pandas>=0.24 in /usr/local/lib/python3.10/dist-packages (from catboost) (1.5.3)\n",
      "Requirement already satisfied: scipy in /usr/local/lib/python3.10/dist-packages (from catboost) (1.11.4)\n",
      "Requirement already satisfied: plotly in /usr/local/lib/python3.10/dist-packages (from catboost) (5.15.0)\n",
      "Requirement already satisfied: six in /usr/local/lib/python3.10/dist-packages (from catboost) (1.16.0)\n",
      "Requirement already satisfied: python-dateutil>=2.8.1 in /usr/local/lib/python3.10/dist-packages (from pandas>=0.24->catboost) (2.8.2)\n",
      "Requirement already satisfied: pytz>=2020.1 in /usr/local/lib/python3.10/dist-packages (from pandas>=0.24->catboost) (2023.4)\n",
      "Requirement already satisfied: contourpy>=1.0.1 in /usr/local/lib/python3.10/dist-packages (from matplotlib->catboost) (1.2.0)\n",
      "Requirement already satisfied: cycler>=0.10 in /usr/local/lib/python3.10/dist-packages (from matplotlib->catboost) (0.12.1)\n",
      "Requirement already satisfied: fonttools>=4.22.0 in /usr/local/lib/python3.10/dist-packages (from matplotlib->catboost) (4.49.0)\n",
      "Requirement already satisfied: kiwisolver>=1.0.1 in /usr/local/lib/python3.10/dist-packages (from matplotlib->catboost) (1.4.5)\n",
      "Requirement already satisfied: packaging>=20.0 in /usr/local/lib/python3.10/dist-packages (from matplotlib->catboost) (24.0)\n",
      "Requirement already satisfied: pillow>=6.2.0 in /usr/local/lib/python3.10/dist-packages (from matplotlib->catboost) (9.4.0)\n",
      "Requirement already satisfied: pyparsing>=2.3.1 in /usr/local/lib/python3.10/dist-packages (from matplotlib->catboost) (3.1.2)\n",
      "Requirement already satisfied: tenacity>=6.2.0 in /usr/local/lib/python3.10/dist-packages (from plotly->catboost) (8.2.3)\n",
      "Installing collected packages: catboost\n",
      "Successfully installed catboost-1.2.3\n"
     ]
    }
   ],
   "source": [
    " pip install catboost"
   ]
  },
  {
   "cell_type": "code",
   "execution_count": null,
   "metadata": {
    "colab": {
     "base_uri": "https://localhost:8080/"
    },
    "id": "nfRBRjdirSFt",
    "outputId": "7591383c-2c72-4f1d-9f34-510951a29fb7"
   },
   "outputs": [
    {
     "name": "stdout",
     "output_type": "stream",
     "text": [
      "0:\tlearn: 16.1481518\ttest: 16.1546387\tbest: 16.1546387 (0)\ttotal: 10.7s\tremaining: 2h 58m 57s\n",
      "200:\tlearn: 1.1801516\ttest: 1.1372411\tbest: 1.1372411 (200)\ttotal: 31m 49s\tremaining: 2h 6m 31s\n",
      "400:\tlearn: 0.4846979\ttest: 0.4188429\tbest: 0.4188429 (400)\ttotal: 1h 5m 25s\tremaining: 1h 37m 43s\n",
      "600:\tlearn: 0.3149433\ttest: 0.2487155\tbest: 0.2487155 (600)\ttotal: 1h 40m 49s\tremaining: 1h 6m 56s\n",
      "800:\tlearn: 0.2371068\ttest: 0.1870421\tbest: 0.1870421 (800)\ttotal: 2h 18m 44s\tremaining: 34m 28s\n",
      "999:\tlearn: 0.1972657\ttest: 0.1534083\tbest: 0.1534083 (999)\ttotal: 2h 57m 43s\tremaining: 0us\n",
      "\n",
      "bestTest = 0.153408291\n",
      "bestIteration = 999\n",
      "\n",
      "                        feature  importance\n",
      "7                  target_class   19.143504\n",
      "12                average_speed   12.312966\n",
      "10               total_distance    9.590348\n",
      "5                        riders    8.585283\n",
      "3                    car_rating    6.753844\n",
      "0                         model    6.276395\n",
      "11                    max_speed    6.230081\n",
      "14  percentage_high_rated_rides    5.566342\n",
      "13                max_ride_cost    5.545226\n",
      "6                  year_to_work    5.282392\n",
      "29                     fix_date    4.759472\n",
      "9                    avg_rating    3.949440\n",
      "1                      car_type    2.340047\n",
      "15                    ride_date    1.609367\n",
      "8                    min_rating    0.705134\n",
      "2                     fuel_type    0.641721\n",
      "30               destroy_degree    0.340618\n",
      "4                 year_to_start    0.266975\n",
      "31                work_duration    0.054532\n",
      "24            user_ride_quality    0.038683\n",
      "25             deviation_normal    0.007506\n",
      "27                  user_rating    0.000039\n",
      "19                    speed_avg    0.000024\n",
      "26                          age    0.000016\n",
      "18                    ride_cost    0.000013\n",
      "22                     distance    0.000010\n",
      "17                ride_duration    0.000008\n",
      "20                    speed_max    0.000006\n",
      "16                       rating    0.000005\n",
      "28                          sex    0.000001\n",
      "21                   stop_times    0.000001\n",
      "23                    refueling    0.000000\n"
     ]
    }
   ],
   "source": [
    "from catboost import CatBoostRegressor, Pool\n",
    "from sklearn.model_selection import train_test_split\n",
    "\n",
    "y = final_df['target_reg']\n",
    "X = final_df.drop(columns=['target_reg'])\n",
    "\n",
    "categorical_features = ['model', 'car_type', 'fuel_type', 'target_class', 'ride_date', 'fix_date']\n",
    "\n",
    "# Разделение данных на обучающую и тестовую выборки\n",
    "X_train, X_test, y_train, y_test = train_test_split(X, y, test_size=0.2, random_state=42)\n",
    "\n",
    "# Создание объектов Pool, указывая категориальные признаки\n",
    "train_pool = Pool(X_train, y_train, cat_features=categorical_features)\n",
    "test_pool = Pool(X_test, y_test, cat_features=categorical_features)\n",
    "\n",
    "# Инициализация и обучение модели CatBoost\n",
    "model = CatBoostRegressor(\n",
    "    iterations=1000,\n",
    "    learning_rate=0.1,\n",
    "    depth=10,\n",
    "    loss_function='RMSE',\n",
    "    eval_metric='RMSE',\n",
    "    cat_features=categorical_features,\n",
    "    verbose=200,\n",
    "    random_seed=42\n",
    ")\n",
    "\n",
    "model.fit(train_pool, eval_set=test_pool, use_best_model=True)\n",
    "\n",
    "# Оценка важности признаков\n",
    "feature_importances = model.get_feature_importance()\n",
    "feature_names = X_train.columns\n",
    "importance_df = pd.DataFrame({'feature': feature_names, 'importance': feature_importances}).sort_values(by='importance', ascending=False)\n",
    "\n",
    "print(importance_df)\n"
   ]
  },
  {
   "cell_type": "markdown",
   "metadata": {
    "id": "zKG4JdOLySEr"
   },
   "source": [
    "Этот код демонстрирует процесс обучения и оценки модели регрессии с использованием библиотеки CatBoost, а также анализ важности признаков для прогнозируемой переменной (target_reg - количество дней до поломки, так как для нашей задачи это крайне важная информация).\n",
    "\n",
    "После обучения модели можно получить важность каждого признака для target_reg. Это позволяет понять, какие признаки вносят наибольший вклад в прогноз и могут быть использованы для интерпретации модели.\n",
    "\n",
    "Интересный вывод: после типа поломки (target_class) наибольшее влияние оказывает средняя скорость (average_speed) и пройденное расстояние (total_distance). Это выглядит логичным и подтверждает интуитивные выводы, что ломаться машина должна чем чаще, чем больше она проехала. При этом средняя скорость - интересное наблюдение, возьмем на заметку."
   ]
  },
  {
   "cell_type": "markdown",
   "metadata": {
    "id": "G8hTYmf0zsyH"
   },
   "source": [
    "#**Общие выводы по второй части**"
   ]
  },
  {
   "cell_type": "markdown",
   "metadata": {
    "id": "ulGX_KyR0EC7"
   },
   "source": [
    "Итак, я использовала три метода фильтрации: линейная корреляция, phik и catboost feature selection. Все три метода хорошо дополняют друг друга и мне стало понятнее, что из себя представляют мои признаки в данных.\n",
    "\n",
    "###Выводы после линейной корреляции\n",
    "1. `riders` (общее кол-во поездок) и `year_to_start`: логично, что они коррелируют. Чем старше машина, тем больше поездок на ней совершено.\n",
    "\n",
    "2. `percentage_high_rated_rides` и `avg_rating`: тоже логичная корреляция\n",
    "\n",
    "3. `ride_cost`, `ride_duration` и `distance`: Эти три признака сильно коррелируют друг с другом. Из них ride_duration и distance наиболее тесно связаны, что логично, поскольку большее расстояние часто требует больше времени на поездку.\n",
    "\n",
    "###Выводы после phik\n",
    "Хороший, наглядный вариант для всего пространства признаков. Видно, что результаты схожи в результатами от линейной корреляции. Видна сильная корреляция, например, между ride_duration и distance, между ride_cost и distance. При этом выявились и новые корреляции: например, max_ride_cost и model.\n",
    "\n",
    "###Выводы после CatBoost\n",
    "После типа поломки (target_class) наибольшее влияние оказывает средняя скорость (average_speed) и пройденное расстояние (total_distance). Это выглядит логичным и подтверждает интуитивные выводы, что ломаться машина должна чем чаще, чем больше она проехала. При этом средняя скорость - интересное наблюдение, возьмем на заметку.\n",
    "\n",
    "##Преобразования:\n",
    "Теперь мне наглядно видно, какие признаки будут мне только мешать (в плане качества модели, и в плане памяти). К сожалению, \"под нож\" пойдут и некоторые нагенерированные мной признаки (хотя некоторые наоброт оказались очень полезными и залезли в топ влияющих на таргер признаков - percentage_high_rated_rides).\n",
    "\n",
    "Удалю: 'user_rating', 'speed_avg', 'age', 'ride_cost', 'distance', 'ride_duration', 'speed_max', 'rating', 'sex', 'stop_times', 'refueling'.\n",
    "\"Пограничный\" признак 'deviation_normal' пока оставлю, хотя видно, что он вносит совсем небольшой вклад в таргет.\n"
   ]
  },
  {
   "cell_type": "code",
   "execution_count": 15,
   "metadata": {
    "id": "lUvZWxhxzq_S"
   },
   "outputs": [],
   "source": [
    "final_df.drop(columns=['user_rating', 'speed_avg', 'age', 'ride_cost', 'distance', 'ride_duration', 'speed_max', 'rating', 'sex', 'stop_times', 'refueling'], inplace=True)"
   ]
  },
  {
   "cell_type": "code",
   "execution_count": 16,
   "metadata": {
    "colab": {
     "base_uri": "https://localhost:8080/"
    },
    "id": "HH6bnQ3k8Sd7",
    "outputId": "c6a34bd7-c387-433a-fccb-f142ee9f90cb"
   },
   "outputs": [
    {
     "data": {
      "text/plain": [
       "Index(['model', 'car_type', 'fuel_type', 'car_rating', 'year_to_start',\n",
       "       'riders', 'year_to_work', 'target_reg', 'target_class', 'min_rating',\n",
       "       'avg_rating', 'total_distance', 'max_speed', 'average_speed',\n",
       "       'max_ride_cost', 'percentage_high_rated_rides', 'ride_date',\n",
       "       'user_ride_quality', 'deviation_normal', 'fix_date', 'destroy_degree',\n",
       "       'work_duration'],\n",
       "      dtype='object')"
      ]
     },
     "execution_count": 16,
     "metadata": {},
     "output_type": "execute_result"
    }
   ],
   "source": [
    "final_df.columns"
   ]
  },
  {
   "cell_type": "code",
   "execution_count": 18,
   "metadata": {
    "colab": {
     "base_uri": "https://localhost:8080/",
     "height": 165
    },
    "id": "q3Y6avuM8WC4",
    "outputId": "f01c7e77-cee5-4e9a-a22b-c152b4dc0f7b"
   },
   "outputs": [
    {
     "data": {
      "application/vnd.google.colaboratory.intrinsic+json": {
       "type": "dataframe",
       "variable_name": "final_df"
      },
      "text/html": [
       "\n",
       "  <div id=\"df-42a2255c-a445-4e47-8cfb-8c8f775d076d\" class=\"colab-df-container\">\n",
       "    <div>\n",
       "<style scoped>\n",
       "    .dataframe tbody tr th:only-of-type {\n",
       "        vertical-align: middle;\n",
       "    }\n",
       "\n",
       "    .dataframe tbody tr th {\n",
       "        vertical-align: top;\n",
       "    }\n",
       "\n",
       "    .dataframe thead th {\n",
       "        text-align: right;\n",
       "    }\n",
       "</style>\n",
       "<table border=\"1\" class=\"dataframe\">\n",
       "  <thead>\n",
       "    <tr style=\"text-align: right;\">\n",
       "      <th></th>\n",
       "      <th>model</th>\n",
       "      <th>car_type</th>\n",
       "      <th>fuel_type</th>\n",
       "      <th>car_rating</th>\n",
       "      <th>year_to_start</th>\n",
       "      <th>riders</th>\n",
       "      <th>year_to_work</th>\n",
       "      <th>target_reg</th>\n",
       "      <th>target_class</th>\n",
       "      <th>min_rating</th>\n",
       "      <th>...</th>\n",
       "      <th>max_speed</th>\n",
       "      <th>average_speed</th>\n",
       "      <th>max_ride_cost</th>\n",
       "      <th>percentage_high_rated_rides</th>\n",
       "      <th>ride_date</th>\n",
       "      <th>user_ride_quality</th>\n",
       "      <th>deviation_normal</th>\n",
       "      <th>fix_date</th>\n",
       "      <th>destroy_degree</th>\n",
       "      <th>work_duration</th>\n",
       "    </tr>\n",
       "  </thead>\n",
       "  <tbody>\n",
       "    <tr>\n",
       "      <th>0</th>\n",
       "      <td>Kia Rio X-line</td>\n",
       "      <td>economy</td>\n",
       "      <td>petrol</td>\n",
       "      <td>3.78</td>\n",
       "      <td>2015</td>\n",
       "      <td>76163</td>\n",
       "      <td>2021</td>\n",
       "      <td>108.53</td>\n",
       "      <td>another_bug</td>\n",
       "      <td>0.1</td>\n",
       "      <td>...</td>\n",
       "      <td>180.855726</td>\n",
       "      <td>44.66092</td>\n",
       "      <td>523483</td>\n",
       "      <td>64.367816</td>\n",
       "      <td>2020-01-01</td>\n",
       "      <td>0.52475</td>\n",
       "      <td>0.0</td>\n",
       "      <td>2019-8-10 9:29</td>\n",
       "      <td>1.0</td>\n",
       "      <td>28</td>\n",
       "    </tr>\n",
       "  </tbody>\n",
       "</table>\n",
       "<p>1 rows × 22 columns</p>\n",
       "</div>\n",
       "    <div class=\"colab-df-buttons\">\n",
       "\n",
       "  <div class=\"colab-df-container\">\n",
       "    <button class=\"colab-df-convert\" onclick=\"convertToInteractive('df-42a2255c-a445-4e47-8cfb-8c8f775d076d')\"\n",
       "            title=\"Convert this dataframe to an interactive table.\"\n",
       "            style=\"display:none;\">\n",
       "\n",
       "  <svg xmlns=\"http://www.w3.org/2000/svg\" height=\"24px\" viewBox=\"0 -960 960 960\">\n",
       "    <path d=\"M120-120v-720h720v720H120Zm60-500h600v-160H180v160Zm220 220h160v-160H400v160Zm0 220h160v-160H400v160ZM180-400h160v-160H180v160Zm440 0h160v-160H620v160ZM180-180h160v-160H180v160Zm440 0h160v-160H620v160Z\"/>\n",
       "  </svg>\n",
       "    </button>\n",
       "\n",
       "  <style>\n",
       "    .colab-df-container {\n",
       "      display:flex;\n",
       "      gap: 12px;\n",
       "    }\n",
       "\n",
       "    .colab-df-convert {\n",
       "      background-color: #E8F0FE;\n",
       "      border: none;\n",
       "      border-radius: 50%;\n",
       "      cursor: pointer;\n",
       "      display: none;\n",
       "      fill: #1967D2;\n",
       "      height: 32px;\n",
       "      padding: 0 0 0 0;\n",
       "      width: 32px;\n",
       "    }\n",
       "\n",
       "    .colab-df-convert:hover {\n",
       "      background-color: #E2EBFA;\n",
       "      box-shadow: 0px 1px 2px rgba(60, 64, 67, 0.3), 0px 1px 3px 1px rgba(60, 64, 67, 0.15);\n",
       "      fill: #174EA6;\n",
       "    }\n",
       "\n",
       "    .colab-df-buttons div {\n",
       "      margin-bottom: 4px;\n",
       "    }\n",
       "\n",
       "    [theme=dark] .colab-df-convert {\n",
       "      background-color: #3B4455;\n",
       "      fill: #D2E3FC;\n",
       "    }\n",
       "\n",
       "    [theme=dark] .colab-df-convert:hover {\n",
       "      background-color: #434B5C;\n",
       "      box-shadow: 0px 1px 3px 1px rgba(0, 0, 0, 0.15);\n",
       "      filter: drop-shadow(0px 1px 2px rgba(0, 0, 0, 0.3));\n",
       "      fill: #FFFFFF;\n",
       "    }\n",
       "  </style>\n",
       "\n",
       "    <script>\n",
       "      const buttonEl =\n",
       "        document.querySelector('#df-42a2255c-a445-4e47-8cfb-8c8f775d076d button.colab-df-convert');\n",
       "      buttonEl.style.display =\n",
       "        google.colab.kernel.accessAllowed ? 'block' : 'none';\n",
       "\n",
       "      async function convertToInteractive(key) {\n",
       "        const element = document.querySelector('#df-42a2255c-a445-4e47-8cfb-8c8f775d076d');\n",
       "        const dataTable =\n",
       "          await google.colab.kernel.invokeFunction('convertToInteractive',\n",
       "                                                    [key], {});\n",
       "        if (!dataTable) return;\n",
       "\n",
       "        const docLinkHtml = 'Like what you see? Visit the ' +\n",
       "          '<a target=\"_blank\" href=https://colab.research.google.com/notebooks/data_table.ipynb>data table notebook</a>'\n",
       "          + ' to learn more about interactive tables.';\n",
       "        element.innerHTML = '';\n",
       "        dataTable['output_type'] = 'display_data';\n",
       "        await google.colab.output.renderOutput(dataTable, element);\n",
       "        const docLink = document.createElement('div');\n",
       "        docLink.innerHTML = docLinkHtml;\n",
       "        element.appendChild(docLink);\n",
       "      }\n",
       "    </script>\n",
       "  </div>\n",
       "\n",
       "    </div>\n",
       "  </div>\n"
      ],
      "text/plain": [
       "            model car_type fuel_type  car_rating  year_to_start  riders  \\\n",
       "0  Kia Rio X-line  economy    petrol        3.78           2015   76163   \n",
       "\n",
       "   year_to_work  target_reg target_class  min_rating  ...   max_speed  \\\n",
       "0          2021      108.53  another_bug         0.1  ...  180.855726   \n",
       "\n",
       "   average_speed  max_ride_cost  percentage_high_rated_rides   ride_date  \\\n",
       "0       44.66092         523483                    64.367816  2020-01-01   \n",
       "\n",
       "   user_ride_quality deviation_normal        fix_date  destroy_degree  \\\n",
       "0            0.52475              0.0  2019-8-10 9:29             1.0   \n",
       "\n",
       "  work_duration  \n",
       "0            28  \n",
       "\n",
       "[1 rows x 22 columns]"
      ]
     },
     "execution_count": 18,
     "metadata": {},
     "output_type": "execute_result"
    }
   ],
   "source": [
    "final_df.head(1)"
   ]
  },
  {
   "cell_type": "markdown",
   "metadata": {
    "id": "iSjuXdlcbuhx"
   },
   "source": [
    "# Домашнее задание 2. Прогноз времени и вида поломки машин. Настройка ML-модели"
   ]
  },
  {
   "cell_type": "markdown",
   "metadata": {
    "id": "2qoVlxvUbuhx"
   },
   "source": [
    "<div class=\"alert alert-info\">\n",
    "\n",
    "**Цель блока** — составить тренировочную и валидационную выборки, произвести обучение модели `CatBoostClassifier` на тренировочной части и оценить качество на валидационной."
   ]
  },
  {
   "cell_type": "markdown",
   "metadata": {
    "id": "OfqcanLLbuhx"
   },
   "source": [
    "##Обучение первой модели (5 баллов)\n",
    "\n",
    "1.   Новый пункт\n",
    "2.   Новый пункт\n",
    "\n"
   ]
  },
  {
   "cell_type": "markdown",
   "metadata": {
    "id": "ZXhXYJt6buhx"
   },
   "source": [
    "1. Классифицируйте признаки на типы (категориальные, числовые, таргеты).\n",
    "\n",
    "2. Выделите в `X` только признаки, а в `Y` — таргет (для задачи классификации).\n",
    "\n",
    "3. Сделайте разделение данных на *обучающую* и *валидационную* выборки (не забывайте про воспроизводимость результатов).\n",
    "\n",
    "4. Создайте и обучите `CatBoostClassifier` модель (настраивать гиперпараметры сейчас не обязательно).\n",
    "\n",
    "5. Проведите оценку вашей модели, используя метрику `accuracy`.\n",
    "\n",
    "\n",
    "<h4> Критерии оценивания </h4>\n",
    "    \n",
    "- По 1 баллу за каждый корректно выполненный пункт.\n",
    "\n",
    "</div>"
   ]
  },
  {
   "cell_type": "code",
   "execution_count": null,
   "metadata": {
    "id": "klrOFoVpbuhx"
   },
   "outputs": [],
   "source": [
    "from catboost import CatBoostClassifier\n",
    "from sklearn.model_selection import train_test_split\n",
    "from sklearn.metrics import accuracy_score"
   ]
  },
  {
   "cell_type": "code",
   "execution_count": null,
   "metadata": {
    "id": "lqwlTU2gbuhz"
   },
   "outputs": [],
   "source": [
    "features2drop = [...] # то, что надо выбросить\n",
    "targets = [...] # таргеты\n",
    "cat_features = [...] # категориальные признаки\n",
    "\n",
    "num_features = [...] # числовые признаки\n",
    "\n",
    "print('Категориальные признаки:', len(cat_features), cat_features)\n",
    "print('Числовые признаки:', len(num_features), num_features)\n",
    "print('Целевые переменные', targets)"
   ]
  },
  {
   "cell_type": "code",
   "execution_count": null,
   "metadata": {
    "id": "tGK5sgaQbuhz"
   },
   "outputs": [],
   "source": [
    "# YOUR CODE HERE"
   ]
  },
  {
   "cell_type": "markdown",
   "metadata": {
    "id": "pWAOjGCIbuhz"
   },
   "source": [
    "# Дополнительное задание. Визуализация прогнозов, ошибок модели и важности признаков"
   ]
  },
  {
   "cell_type": "markdown",
   "metadata": {
    "id": "oCvZU_ksbuhz"
   },
   "source": [
    "<div class=\"alert alert-info\">\n",
    "\n",
    "**Цель блока** — визуализировать результаты прогнозирования, ошибки модели и важность признаков для лучшего понимания и анализа модели."
   ]
  },
  {
   "cell_type": "markdown",
   "metadata": {
    "id": "onsptUygbuhz"
   },
   "source": [
    "## Визуализация (5 баллов)"
   ]
  },
  {
   "cell_type": "markdown",
   "metadata": {
    "id": "t3gAT3YHbuhz"
   },
   "source": [
    "   \n",
    "1. Визуализируйте важность признаков встроенным методом в `CatBoost`  (помните, что не стоит сильно доверять этому рейтингу важности, т. к. для сильно скоррелированных признаков важность делится пополам — оба признака могут улететь вниз).\n",
    "\n",
    "2. Постройте `waterfall_plot` из библиотеки `SHAP` (подробнее во втором ноутбуке из полезных ссылок ниже).\n",
    "    \n",
    "3. Постройте `classification_report` из библиотеки `scikit-learn`.\n",
    "\n",
    "4. Постройте и визуализируйте матрицу смежности (`confusion_matrix`), посмотрите, в каких классах модель больше всего ошибается.\n",
    "    \n",
    "5. Для каждого графика/примененного метода проинтерпретируйте результаты и сделайте выводы.\n",
    "\n",
    "\n",
    "<h4> Критерии оценивания </h4>\n",
    "    \n",
    "- По 1 баллу за каждый корректно выполненный пункт.\n",
    "    \n",
    "</div>\n",
    "\n",
    "<div class=\"alert alert-success\">\n",
    "\n",
    "Визуализация может помочь даже после того, как мы **уже обучили** какую-нибудь модель. Например:\n",
    "\n",
    "- Понять, что мешает модели или чего не хватает, чтобы не допускать ошибки.\n",
    "- Сделать выводы, как можно улучшить точность в последующих экспериментах.\n",
    "- Визуализировать ошибки модели.\n",
    "- Отсеять лишние признаки.\n",
    "- Найти идеи для новых признаков.\n",
    "- Все зависит от типа ваших данных.\n",
    "\n",
    "<h3> Полезные источники </h3>\n",
    "    \n",
    "- Занятие про визуализацию и Seaborn.\n",
    "- Занятие про продвинутую визуализацию и анализ ошибок модели.\n",
    "\n",
    "</div>    "
   ]
  },
  {
   "cell_type": "code",
   "execution_count": null,
   "metadata": {
    "id": "EYvkiOcrbuh0"
   },
   "outputs": [],
   "source": [
    "# YOUR CODE HERE"
   ]
  },
  {
   "cell_type": "markdown",
   "metadata": {
    "id": "pL8evJIMbuh0"
   },
   "source": [
    "# Домашнее задание 3. Оптимизация. Тюнинг гиперпараметров с помощью `Optuna`"
   ]
  },
  {
   "cell_type": "markdown",
   "metadata": {
    "id": "ZmanV8V8buh0"
   },
   "source": [
    "<div class=\"alert alert-info\">\n",
    "\n",
    "**Цель блока** — улучшить качество предсказания, произведя подбор гиперпараметров для модели с помощью `Optuna`."
   ]
  },
  {
   "cell_type": "markdown",
   "metadata": {
    "id": "qEbxkZf8buh1"
   },
   "source": [
    "## Подбор гиперпараметров (3 балла)"
   ]
  },
  {
   "cell_type": "markdown",
   "metadata": {
    "id": "XogayH7Hbuh1"
   },
   "source": [
    "1. Напишите `objective` функцию и запустите `Optuna`.\n",
    "2. Подберите гиперпараметры для `CatBoostClassifier` (минимум 3).\n",
    "3. Обучите модель с новыми гиперпараметрами, сравните качество и сделайте выводы.\n",
    "\n",
    "    \n",
    "<h4> Критерии оценивания </h4>\n",
    "    \n",
    "- 1 балл за каждый корректно выполненный пункт.\n",
    "    \n",
    "</div>"
   ]
  },
  {
   "cell_type": "code",
   "execution_count": null,
   "metadata": {
    "id": "UrNbom9qbuh1"
   },
   "outputs": [],
   "source": [
    "# YOUR CODE HERE"
   ]
  },
  {
   "cell_type": "markdown",
   "metadata": {
    "id": "ayIdErsgjayi"
   },
   "source": [
    "### Общая информация по `Optuna`"
   ]
  },
  {
   "cell_type": "markdown",
   "metadata": {
    "id": "a6Y35ioqbuh0",
    "tags": []
   },
   "source": [
    "#### Ключевые особенности <code>Optuna</code>\n",
    "\n"
   ]
  },
  {
   "cell_type": "markdown",
   "metadata": {
    "id": "EFwQ3_NStdFY"
   },
   "source": [
    "- Легковесность и универсальность — можно подбирать оптимальные параметры под любые функции и метрики.\n",
    "- SOTA-алгоритмы, адаптированные для поиска гиперпараметров.\n",
    "- Параллелизация и различные методы прунинга.\n",
    "- Встроенная визуализация.\n",
    "- Интеграция со множеством популярных библиотек (бустинги, sklearn, PyTorch, W&B и другие).\n",
    "\n",
    "Разберем Optuna по частям, чтобы понять, как ее использовать."
   ]
  },
  {
   "cell_type": "markdown",
   "metadata": {
    "id": "GIT2J4INtxaf"
   },
   "source": [
    "#### <code>Study</code>: оптимизация, базирующаяся на <code>Objective</code> функции"
   ]
  },
  {
   "cell_type": "markdown",
   "metadata": {
    "id": "wqPh6XVybuh0"
   },
   "source": [
    "\n",
    "\n",
    "В `Objective`-функцию нужно написать код подсчета метрики, которую возвращаем. `Objective` вызывается Optuna много раз для подбора лучших параметров.\n",
    "```python\n",
    "def objective(trial, ...):\n",
    "    # calculate score...\n",
    "    return score\n",
    "```\n",
    "\n",
    "<h4> <code>Trial</code> — одно выполнение <code>Objective</code>-функции</h4>\n",
    "\n",
    "В `trial`-объекте мы передаем параметры для «перебора», используя для каждого типа свой метод. Например:\n",
    "\n",
    "```python\n",
    "# метод `suggest_float` показывает, что перебираем `float` значения, от 0 и до 1.5 границы\n",
    "param = trial.suggest_float('param', 0, 1.5)\n",
    "\n",
    "# Категориальное значение\n",
    "loss_function = trial.suggest_categorical('loss', ['Logloss', 'CrossEntropy'])\n",
    "\n",
    "# Целочисленное значение\n",
    "depth = trial.suggest_int('depth', 5, 8)\n",
    "\n",
    "# Равномерное распределение\n",
    "learning_rate = trial.suggest_uniform('learning_rate', 0.0, 1.0)\n",
    "```"
   ]
  },
  {
   "cell_type": "markdown",
   "metadata": {
    "id": "4huC_vW7uI4o"
   },
   "source": [
    "#### `Study` parameters"
   ]
  },
  {
   "cell_type": "markdown",
   "metadata": {
    "id": "Cq94BjhWbuh0"
   },
   "source": [
    "Инициализируем объект `study`, который начнет перебор и сохранит в себе историю результатов.\n",
    "Если мы стараемся увеличить метрику, а не уменьшить ошибку, то используем `create_study(direction='maximize')`.\n",
    "```python\n",
    "study = optuna.create_study()\n",
    "study.optimize(objective, n_trials=10)\n",
    "```"
   ]
  },
  {
   "cell_type": "markdown",
   "metadata": {
    "id": "x9AvfTv4buh0"
   },
   "source": [
    "<div class=\"alert alert-info\">\n",
    "    \n",
    "В [`Optuna`](https://optuna.readthedocs.io/en/stable/index.html) реализовано несколько методов (`sampler`) подбора параметров (в том числе классические):\n",
    "* `GridSampler`\n",
    "* `RandomSampler`\n",
    "* `Tree-Structed Parzen Estimator` (`TPESampler` — самый популярный, дефолтный)\n",
    "* `BruteForceSampler`\n",
    "* [Другие 4 метода](https://optuna.readthedocs.io/en/stable/reference/samplers/index.html#module-optuna.samplers) (можно написать собственный семплер)"
   ]
  },
  {
   "cell_type": "markdown",
   "metadata": {
    "id": "3g4-aEHabuh0",
    "tags": []
   },
   "source": [
    "### Советы по перебору параметров"
   ]
  },
  {
   "cell_type": "markdown",
   "metadata": {
    "id": "g3b8cs4Mt7pq"
   },
   "source": [
    "- Иметь понимание важности параметров.\n",
    "- Число `iterations` лучше взять с запасом и зафиксировать, при этом ограничив через `early_stopping_rounds`.\n",
    "- Подсмотреть или чувствовать диапазоны и шаг значений.\n",
    "- Исключить то, что перебирать не нужно (`random_seed` , `eval_metric`, `thread_count` и прочее).\n",
    "- Используйте информацию с прошлых попыток."
   ]
  },
  {
   "cell_type": "markdown",
   "metadata": {
    "id": "dXv8NCp_buh1"
   },
   "source": [
    "# Домашнее задание 4. Блендинг"
   ]
  },
  {
   "cell_type": "markdown",
   "metadata": {
    "id": "8-bhQKWGbuh1"
   },
   "source": [
    "<div class=\"alert alert-info\">\n",
    "\n",
    "**Цель блока** — улучшить качество предсказания, объединив несколько моделей вместе методом блендинга."
   ]
  },
  {
   "cell_type": "markdown",
   "metadata": {
    "id": "ZtI-eK3xbuh1"
   },
   "source": [
    "## Задание 6. Блендинг (10 баллов)"
   ]
  },
  {
   "cell_type": "markdown",
   "metadata": {
    "id": "8v9Onoo9buh1"
   },
   "source": [
    "1. Построить и обучить модели:\n",
    "    - `CatBoostClassifier`,\n",
    "    - `LightGBMClassifier (goss)`,\n",
    "    - `XGBoostClassifier (dart)`,\n",
    "    - `RandomForestClassifier`.\n",
    "2. Сделать предсказания каждой моделью, оценить качество.\n",
    "3. Реализовать блендинг двумя способами, оценить качество и сравнить с предыдущим пунктом:\n",
    "    - `Hard Voting` —  метод, при котором делаем голосование всех моделей и выбираем самый популярный класс.\n",
    "    - `Soft Voting` —  метод, при котором мы складываем вероятности предсказания всех моделей по каждому классу и потом выбираем самый класс с максимальной суммой.\n",
    "    \n",
    "<h4> Критерии оценивания </h4>\n",
    "    \n",
    "- Обучены 4 модели — 1 балл за каждую обученную модель, всего 4 балла.\n",
    "- Для модели проведен подбор гиперпараметров — 0,5 балла за каждый параметр, всего 2 балла.\n",
    "- Сделаны предсказания каждой модели и оценено качество — 1 балл.\n",
    "- Реализован `Hard Voting` — 1 балл.\n",
    "- Реализован `Soft Voting` — 1 балл.\n",
    "- Сделаны выводы — 1 балл.\n",
    "    \n",
    "</div>"
   ]
  },
  {
   "cell_type": "code",
   "execution_count": null,
   "metadata": {
    "id": "Mfi_sxnjbuh2"
   },
   "outputs": [],
   "source": [
    "# YOUR CODE HERE"
   ]
  },
  {
   "cell_type": "markdown",
   "metadata": {
    "id": "O2utYsm3mShl"
   },
   "source": [
    "### Общая информация о блендинге"
   ]
  },
  {
   "cell_type": "markdown",
   "metadata": {
    "id": "-JNyyolfbuh1"
   },
   "source": [
    "**Основная идея** — взять от каждого алгоритма лучшее и совместить несколько разных ML-моделей в одну.\n",
    "\n",
    "Что это дает:\n",
    "- Увеличивается обобщающая способность финальной модели и качество улучшается.\n",
    "- Модель становится более стабильной, что позволяет не слететь на приватном лидерборде.\n",
    "\n",
    "Особенно хорошо накидывает блендинг, если смешиваемые модели имеют разную природу — например, нейронные сети, kNN и решающие деревья. Они выучивают разные зависимости и хорошо дополняют друг друга.\n",
    "\n",
    "</div>"
   ]
  },
  {
   "cell_type": "markdown",
   "metadata": {
    "id": "C5w0RwnYbuh3"
   },
   "source": [
    "# <center id=\"part6\"> Отправка финального решения на лидерборд на Kaggle"
   ]
  },
  {
   "cell_type": "markdown",
   "metadata": {
    "id": "wpt2Bdimbuh3"
   },
   "source": [
    "<div class=\"alert alert-info\">\n",
    "\n",
    "**Цель блока** — сделать предсказание с помощью блендинга для тестовой части датасета, отправить результат [в соревнование на Kaggle](https://www.kaggle.com/competitions/competative-data-science-course-by-data-feeling/overview)."
   ]
  },
  {
   "cell_type": "markdown",
   "metadata": {
    "id": "gfYqF37Cbuh3"
   },
   "source": [
    "## Задание 8. Предсказание на тестовом датасете и отправка на Kaggle"
   ]
  },
  {
   "cell_type": "markdown",
   "metadata": {
    "id": "m_ExuGjabuh3"
   },
   "source": [
    "1. Сделать предобработку для тестового датасета, присоединить к нему информацию из других датасетов и добавить признаки, которые генерировали для тренировочного датасета.\n",
    "2. Сделать предсказания каждой моделью, которую хотите включить в ансамбль, но минимум их должно быть 3.\n",
    "3. Сделать блендинг с помощью `Hard Voting` или `Soft Voting` на ваш выбор.\n",
    "4. Сохранить результат предсказания в `csv` файл и отправить решение на Kaggle.\n",
    "    \n",
    "<h4> Критерии оценивания </h4>\n",
    "    \n",
    "- 0 баллов за задание, если итоговый скор на лидерборде меньше чем `0.9`.\n",
    "- 1 балл за каждый выполненный пункт.\n",
    "\n",
    "</div>"
   ]
  },
  {
   "cell_type": "code",
   "execution_count": null,
   "metadata": {
    "id": "Cnp6usAybuh4"
   },
   "outputs": [],
   "source": [
    "car_test = pd.read_csv('https://raw.githubusercontent.com/a-milenkin/Competitive_Data_Science/main/data/car_test.csv')\n",
    "car_test.head(3)"
   ]
  },
  {
   "cell_type": "code",
   "execution_count": null,
   "metadata": {
    "id": "ZEZhf8gabuh4"
   },
   "outputs": [],
   "source": [
    "# YOUR CODE HERE"
   ]
  },
  {
   "cell_type": "markdown",
   "metadata": {
    "id": "cUuphISJbuh4"
   },
   "source": [
    "### Советы по отправке кода на Kaggle\n"
   ]
  },
  {
   "cell_type": "markdown",
   "metadata": {
    "id": "ZAQLSpKWu4aI"
   },
   "source": [
    "\n",
    "Если пишете код на `Kaggle`, то для отправки решения:\n",
    "\n",
    "1. Нажать Save Version.\n",
    "2. Проверить, что в Advanced Settings выбрано «Всегда сохранять результаты ноутбука».\n",
    "3. Выбрать тип сохранения Save & Run All (Commit).\n",
    "4. Нажать кнопку Save."
   ]
  }
 ],
 "metadata": {
  "colab": {
   "machine_shape": "hm",
   "provenance": [],
   "toc_visible": true
  },
  "kernelspec": {
   "display_name": "Python 3 (ipykernel)",
   "language": "python",
   "name": "python3"
  },
  "language_info": {
   "codemirror_mode": {
    "name": "ipython",
    "version": 3
   },
   "file_extension": ".py",
   "mimetype": "text/x-python",
   "name": "python",
   "nbconvert_exporter": "python",
   "pygments_lexer": "ipython3",
   "version": "3.11.5"
  }
 },
 "nbformat": 4,
 "nbformat_minor": 1
}
