{
 "cells": [
  {
   "cell_type": "markdown",
   "id": "d4a7cd3e",
   "metadata": {},
   "source": [
    "# Импорт библиотек"
   ]
  },
  {
   "cell_type": "code",
   "execution_count": 1,
   "id": "3badf238",
   "metadata": {},
   "outputs": [],
   "source": [
    "#!pip install keras-tuner"
   ]
  },
  {
   "cell_type": "code",
   "execution_count": 37,
   "id": "00882b02",
   "metadata": {},
   "outputs": [],
   "source": [
    "import pandas as pd\n",
    "import numpy as np\n",
    "import re\n",
    "\n",
    "import matplotlib.pyplot as plt\n",
    "\n",
    "import tensorflow as tf\n",
    "from tensorflow.keras.preprocessing.text import Tokenizer\n",
    "from tensorflow.keras.preprocessing.sequence import pad_sequences\n",
    "from tensorflow.keras.callbacks import EarlyStopping\n",
    "\n",
    "from tensorflow.keras.layers import Embedding\n",
    "from tensorflow.keras.layers import Bidirectional\n",
    "from tensorflow.keras.layers import LSTM\n",
    "from tensorflow.keras.layers import Dropout\n",
    "from tensorflow.keras.layers import Dense\n",
    "from tensorflow.keras import regularizers\n",
    "\n",
    "from tensorflow.keras.models import Sequential\n",
    "from tensorflow.keras import regularizers\n",
    "from tensorflow.keras.callbacks import LearningRateScheduler\n",
    "\n",
    "from tensorflow.keras.callbacks import ModelCheckpoint\n",
    "from tensorflow.keras.models import load_model\n",
    "\n",
    "from tensorflow.keras.layers import BatchNormalization\n",
    "from tensorflow.keras.layers import LeakyReLU\n",
    "\n",
    "from sklearn.preprocessing import LabelEncoder\n",
    "from sklearn.model_selection import train_test_split\n",
    "\n",
    "from kerastuner.tuners import Hyperband\n",
    "from kerastuner import HyperParameters\n",
    "\n",
    "from transformers import BertTokenizer\n",
    "from transformers import BertForSequenceClassification\n",
    "from transformers import Trainer\n",
    "from transformers import TrainingArguments\n",
    "\n",
    "import torch\n",
    "from torch.utils.data import Dataset\n",
    "\n",
    "from torch.utils.data import DataLoader\n",
    "from transformers import AdamW\n",
    "\n",
    "from torch.optim.lr_scheduler import ExponentialLR\n",
    "from tqdm import tqdm\n",
    "\n",
    "from transformers import BertTokenizerFast\n",
    "from transformers import TFBertModel\n",
    "from transformers import TFRobertaModel\n",
    "from transformers import RobertaTokenizerFast"
   ]
  },
  {
   "cell_type": "markdown",
   "id": "054e546a",
   "metadata": {},
   "source": [
    "# Загрузка данных"
   ]
  },
  {
   "cell_type": "code",
   "execution_count": 2,
   "id": "32ae906f",
   "metadata": {},
   "outputs": [],
   "source": [
    "train_data = pd.read_csv('train.csv')\n",
    "test_data = pd.read_csv('test.csv')\n",
    "submission_data = pd.read_csv('sample_submission.csv')"
   ]
  },
  {
   "cell_type": "markdown",
   "id": "76e59338",
   "metadata": {},
   "source": [
    "# Анализ данных"
   ]
  },
  {
   "cell_type": "code",
   "execution_count": 3,
   "id": "ee624e0d",
   "metadata": {},
   "outputs": [
    {
     "data": {
      "text/html": [
       "<div>\n",
       "<style scoped>\n",
       "    .dataframe tbody tr th:only-of-type {\n",
       "        vertical-align: middle;\n",
       "    }\n",
       "\n",
       "    .dataframe tbody tr th {\n",
       "        vertical-align: top;\n",
       "    }\n",
       "\n",
       "    .dataframe thead th {\n",
       "        text-align: right;\n",
       "    }\n",
       "</style>\n",
       "<table border=\"1\" class=\"dataframe\">\n",
       "  <thead>\n",
       "    <tr style=\"text-align: right;\">\n",
       "      <th></th>\n",
       "      <th>Unnamed: 0</th>\n",
       "      <th>Text</th>\n",
       "      <th>Sentiment</th>\n",
       "    </tr>\n",
       "  </thead>\n",
       "  <tbody>\n",
       "    <tr>\n",
       "      <th>0</th>\n",
       "      <td>0</td>\n",
       "      <td>@MeNyrbie @Phil_Gahan @Chrisitv https://t.co/i...</td>\n",
       "      <td>Neutral</td>\n",
       "    </tr>\n",
       "    <tr>\n",
       "      <th>1</th>\n",
       "      <td>1</td>\n",
       "      <td>advice Talk to your neighbours family to excha...</td>\n",
       "      <td>Positive</td>\n",
       "    </tr>\n",
       "    <tr>\n",
       "      <th>2</th>\n",
       "      <td>2</td>\n",
       "      <td>Coronavirus Australia: Woolworths to give elde...</td>\n",
       "      <td>Positive</td>\n",
       "    </tr>\n",
       "    <tr>\n",
       "      <th>3</th>\n",
       "      <td>3</td>\n",
       "      <td>My food stock is not the only one which is emp...</td>\n",
       "      <td>Positive</td>\n",
       "    </tr>\n",
       "    <tr>\n",
       "      <th>4</th>\n",
       "      <td>4</td>\n",
       "      <td>Me, ready to go at supermarket during the #COV...</td>\n",
       "      <td>Extremely Negative</td>\n",
       "    </tr>\n",
       "  </tbody>\n",
       "</table>\n",
       "</div>"
      ],
      "text/plain": [
       "  Unnamed: 0                                               Text  \\\n",
       "0          0  @MeNyrbie @Phil_Gahan @Chrisitv https://t.co/i...   \n",
       "1          1  advice Talk to your neighbours family to excha...   \n",
       "2          2  Coronavirus Australia: Woolworths to give elde...   \n",
       "3          3  My food stock is not the only one which is emp...   \n",
       "4          4  Me, ready to go at supermarket during the #COV...   \n",
       "\n",
       "            Sentiment  \n",
       "0             Neutral  \n",
       "1            Positive  \n",
       "2            Positive  \n",
       "3            Positive  \n",
       "4  Extremely Negative  "
      ]
     },
     "execution_count": 3,
     "metadata": {},
     "output_type": "execute_result"
    }
   ],
   "source": [
    "train_data.head()"
   ]
  },
  {
   "cell_type": "code",
   "execution_count": 4,
   "id": "296bb6ab",
   "metadata": {},
   "outputs": [
    {
     "data": {
      "text/html": [
       "<div>\n",
       "<style scoped>\n",
       "    .dataframe tbody tr th:only-of-type {\n",
       "        vertical-align: middle;\n",
       "    }\n",
       "\n",
       "    .dataframe tbody tr th {\n",
       "        vertical-align: top;\n",
       "    }\n",
       "\n",
       "    .dataframe thead th {\n",
       "        text-align: right;\n",
       "    }\n",
       "</style>\n",
       "<table border=\"1\" class=\"dataframe\">\n",
       "  <thead>\n",
       "    <tr style=\"text-align: right;\">\n",
       "      <th></th>\n",
       "      <th>id</th>\n",
       "      <th>Text</th>\n",
       "    </tr>\n",
       "  </thead>\n",
       "  <tbody>\n",
       "    <tr>\n",
       "      <th>0</th>\n",
       "      <td>787bc85b-20d4-46d8-84a0-562a2527f684</td>\n",
       "      <td>TRENDING: New Yorkers encounter empty supermar...</td>\n",
       "    </tr>\n",
       "    <tr>\n",
       "      <th>1</th>\n",
       "      <td>17e934cd-ba94-4d4f-9ac0-ead202abe241</td>\n",
       "      <td>When I couldn't find hand sanitizer at Fred Me...</td>\n",
       "    </tr>\n",
       "    <tr>\n",
       "      <th>2</th>\n",
       "      <td>5914534b-2b0f-4de8-bb8a-e25587697e0d</td>\n",
       "      <td>Find out how you can protect yourself and love...</td>\n",
       "    </tr>\n",
       "    <tr>\n",
       "      <th>3</th>\n",
       "      <td>cdf06cfe-29ae-48ee-ac6d-be448103ba45</td>\n",
       "      <td>#Panic buying hits #NewYork City as anxious sh...</td>\n",
       "    </tr>\n",
       "    <tr>\n",
       "      <th>4</th>\n",
       "      <td>aff63979-0256-4fb9-a2d9-86a3d3ca5470</td>\n",
       "      <td>#toiletpaper #dunnypaper #coronavirus #coronav...</td>\n",
       "    </tr>\n",
       "  </tbody>\n",
       "</table>\n",
       "</div>"
      ],
      "text/plain": [
       "                                     id  \\\n",
       "0  787bc85b-20d4-46d8-84a0-562a2527f684   \n",
       "1  17e934cd-ba94-4d4f-9ac0-ead202abe241   \n",
       "2  5914534b-2b0f-4de8-bb8a-e25587697e0d   \n",
       "3  cdf06cfe-29ae-48ee-ac6d-be448103ba45   \n",
       "4  aff63979-0256-4fb9-a2d9-86a3d3ca5470   \n",
       "\n",
       "                                                Text  \n",
       "0  TRENDING: New Yorkers encounter empty supermar...  \n",
       "1  When I couldn't find hand sanitizer at Fred Me...  \n",
       "2  Find out how you can protect yourself and love...  \n",
       "3  #Panic buying hits #NewYork City as anxious sh...  \n",
       "4  #toiletpaper #dunnypaper #coronavirus #coronav...  "
      ]
     },
     "execution_count": 4,
     "metadata": {},
     "output_type": "execute_result"
    }
   ],
   "source": [
    "test_data.head()"
   ]
  },
  {
   "cell_type": "code",
   "execution_count": 5,
   "id": "f01184c6",
   "metadata": {},
   "outputs": [
    {
     "data": {
      "text/html": [
       "<div>\n",
       "<style scoped>\n",
       "    .dataframe tbody tr th:only-of-type {\n",
       "        vertical-align: middle;\n",
       "    }\n",
       "\n",
       "    .dataframe tbody tr th {\n",
       "        vertical-align: top;\n",
       "    }\n",
       "\n",
       "    .dataframe thead th {\n",
       "        text-align: right;\n",
       "    }\n",
       "</style>\n",
       "<table border=\"1\" class=\"dataframe\">\n",
       "  <thead>\n",
       "    <tr style=\"text-align: right;\">\n",
       "      <th></th>\n",
       "      <th>id</th>\n",
       "      <th>Sentiment</th>\n",
       "    </tr>\n",
       "  </thead>\n",
       "  <tbody>\n",
       "    <tr>\n",
       "      <th>0</th>\n",
       "      <td>787bc85b-20d4-46d8-84a0-562a2527f684</td>\n",
       "      <td>Neutral</td>\n",
       "    </tr>\n",
       "    <tr>\n",
       "      <th>1</th>\n",
       "      <td>17e934cd-ba94-4d4f-9ac0-ead202abe241</td>\n",
       "      <td>Neutral</td>\n",
       "    </tr>\n",
       "    <tr>\n",
       "      <th>2</th>\n",
       "      <td>5914534b-2b0f-4de8-bb8a-e25587697e0d</td>\n",
       "      <td>Neutral</td>\n",
       "    </tr>\n",
       "    <tr>\n",
       "      <th>3</th>\n",
       "      <td>cdf06cfe-29ae-48ee-ac6d-be448103ba45</td>\n",
       "      <td>Neutral</td>\n",
       "    </tr>\n",
       "    <tr>\n",
       "      <th>4</th>\n",
       "      <td>aff63979-0256-4fb9-a2d9-86a3d3ca5470</td>\n",
       "      <td>Neutral</td>\n",
       "    </tr>\n",
       "  </tbody>\n",
       "</table>\n",
       "</div>"
      ],
      "text/plain": [
       "                                     id Sentiment\n",
       "0  787bc85b-20d4-46d8-84a0-562a2527f684   Neutral\n",
       "1  17e934cd-ba94-4d4f-9ac0-ead202abe241   Neutral\n",
       "2  5914534b-2b0f-4de8-bb8a-e25587697e0d   Neutral\n",
       "3  cdf06cfe-29ae-48ee-ac6d-be448103ba45   Neutral\n",
       "4  aff63979-0256-4fb9-a2d9-86a3d3ca5470   Neutral"
      ]
     },
     "execution_count": 5,
     "metadata": {},
     "output_type": "execute_result"
    }
   ],
   "source": [
    "submission_data.head()"
   ]
  },
  {
   "cell_type": "code",
   "execution_count": 6,
   "id": "ee3c0a6e",
   "metadata": {},
   "outputs": [
    {
     "data": {
      "text/plain": [
       "Positive              11422\n",
       "Negative               9917\n",
       "Neutral                7711\n",
       "Extremely Positive     6624\n",
       "Extremely Negative     5481\n",
       "Name: Sentiment, dtype: int64"
      ]
     },
     "execution_count": 6,
     "metadata": {},
     "output_type": "execute_result"
    }
   ],
   "source": [
    "# Проверка распределения столбца 'Sentiment' в тренировочном датасете\n",
    "sentiment_distribution = train_data['Sentiment'].value_counts()\n",
    "sentiment_distribution"
   ]
  },
  {
   "cell_type": "code",
   "execution_count": 7,
   "id": "f3d599c7",
   "metadata": {},
   "outputs": [
    {
     "data": {
      "text/plain": [
       "(1, 0)"
      ]
     },
     "execution_count": 7,
     "metadata": {},
     "output_type": "execute_result"
    }
   ],
   "source": [
    "# Проверим наличие пропущенных значений в колонке \"Text\" обучающего и тестового набора данных\n",
    "missing_train = train_data[\"Text\"].isnull().sum()\n",
    "missing_test = test_data[\"Text\"].isnull().sum()\n",
    "\n",
    "missing_train, missing_test"
   ]
  },
  {
   "cell_type": "code",
   "execution_count": 8,
   "id": "46d0fc18",
   "metadata": {},
   "outputs": [],
   "source": [
    "# Удаление строк с пропущенными значениями\n",
    "train_data = train_data.dropna(subset=[\"Text\"])"
   ]
  },
  {
   "cell_type": "markdown",
   "id": "8b1edfce",
   "metadata": {},
   "source": [
    "# Предобработка данных"
   ]
  },
  {
   "cell_type": "code",
   "execution_count": 9,
   "id": "023fe7a4",
   "metadata": {},
   "outputs": [
    {
     "data": {
      "text/html": [
       "<div>\n",
       "<style scoped>\n",
       "    .dataframe tbody tr th:only-of-type {\n",
       "        vertical-align: middle;\n",
       "    }\n",
       "\n",
       "    .dataframe tbody tr th {\n",
       "        vertical-align: top;\n",
       "    }\n",
       "\n",
       "    .dataframe thead th {\n",
       "        text-align: right;\n",
       "    }\n",
       "</style>\n",
       "<table border=\"1\" class=\"dataframe\">\n",
       "  <thead>\n",
       "    <tr style=\"text-align: right;\">\n",
       "      <th></th>\n",
       "      <th>Text</th>\n",
       "      <th>Processed_Text</th>\n",
       "    </tr>\n",
       "  </thead>\n",
       "  <tbody>\n",
       "    <tr>\n",
       "      <th>0</th>\n",
       "      <td>@MeNyrbie @Phil_Gahan @Chrisitv https://t.co/i...</td>\n",
       "      <td>menyrbie phil_gahan chrisitv and and</td>\n",
       "    </tr>\n",
       "    <tr>\n",
       "      <th>1</th>\n",
       "      <td>advice Talk to your neighbours family to excha...</td>\n",
       "      <td>advice talk to your neighbours family to excha...</td>\n",
       "    </tr>\n",
       "    <tr>\n",
       "      <th>2</th>\n",
       "      <td>Coronavirus Australia: Woolworths to give elde...</td>\n",
       "      <td>coronavirus australia woolworths to give elder...</td>\n",
       "    </tr>\n",
       "    <tr>\n",
       "      <th>3</th>\n",
       "      <td>My food stock is not the only one which is emp...</td>\n",
       "      <td>my food stock is not the only one which is emp...</td>\n",
       "    </tr>\n",
       "    <tr>\n",
       "      <th>4</th>\n",
       "      <td>Me, ready to go at supermarket during the #COV...</td>\n",
       "      <td>me ready to go at supermarket during the covid...</td>\n",
       "    </tr>\n",
       "  </tbody>\n",
       "</table>\n",
       "</div>"
      ],
      "text/plain": [
       "                                                Text  \\\n",
       "0  @MeNyrbie @Phil_Gahan @Chrisitv https://t.co/i...   \n",
       "1  advice Talk to your neighbours family to excha...   \n",
       "2  Coronavirus Australia: Woolworths to give elde...   \n",
       "3  My food stock is not the only one which is emp...   \n",
       "4  Me, ready to go at supermarket during the #COV...   \n",
       "\n",
       "                                      Processed_Text  \n",
       "0              menyrbie phil_gahan chrisitv and and   \n",
       "1  advice talk to your neighbours family to excha...  \n",
       "2  coronavirus australia woolworths to give elder...  \n",
       "3  my food stock is not the only one which is emp...  \n",
       "4  me ready to go at supermarket during the covid...  "
      ]
     },
     "execution_count": 9,
     "metadata": {},
     "output_type": "execute_result"
    }
   ],
   "source": [
    "def preprocess_text(text):\n",
    "    \"\"\"\n",
    "    Предобработка текста: преобразование в нижний регистр, удаление URL, знаков препинания и т.д.\n",
    "    \"\"\"\n",
    "    # Преобразование в нижний регистр\n",
    "    text = text.lower()\n",
    "    \n",
    "    # Удаление URL\n",
    "    text = re.sub(r\"http\\S+|www\\S+|https\\S+\", '', text, flags=re.MULTILINE)\n",
    "    \n",
    "    # Удаление знаков препинания и чисел\n",
    "    text = re.sub(r'\\W', ' ', text)\n",
    "    text = re.sub(r'\\s+[a-zA-Z]\\s+', ' ', text)\n",
    "    text = re.sub(r'\\^[a-zA-Z]\\s+', ' ', text) \n",
    "    text = re.sub(r'\\s+', ' ', text, flags=re.I)\n",
    "    \n",
    "    return text\n",
    "\n",
    "# Предобработка текстовых данных\n",
    "train_data[\"Processed_Text\"] = train_data[\"Text\"].apply(preprocess_text)\n",
    "test_data[\"Processed_Text\"] = test_data[\"Text\"].apply(preprocess_text)\n",
    "\n",
    "train_data[[\"Text\", \"Processed_Text\"]].head()"
   ]
  },
  {
   "cell_type": "code",
   "execution_count": 10,
   "id": "0de74b7f",
   "metadata": {},
   "outputs": [
    {
     "data": {
      "text/plain": [
       "((41158, 62), (3798, 62))"
      ]
     },
     "execution_count": 10,
     "metadata": {},
     "output_type": "execute_result"
    }
   ],
   "source": [
    "# Инициализация токенизатора\n",
    "tokenizer = Tokenizer(oov_token=\"<OOV>\")\n",
    "tokenizer.fit_on_texts(train_data[\"Processed_Text\"])\n",
    "\n",
    "# Преобразование текста в последовательности чисел\n",
    "train_sequences = tokenizer.texts_to_sequences(train_data[\"Processed_Text\"])\n",
    "test_sequences = tokenizer.texts_to_sequences(test_data[\"Processed_Text\"])\n",
    "\n",
    "# Определение максимальной длины последовательности\n",
    "max_length = max([len(seq) for seq in train_sequences])\n",
    "\n",
    "# Дополнение последовательностей до одной и той же длины\n",
    "train_padded = pad_sequences(train_sequences, maxlen=max_length, padding='post', truncating='post')\n",
    "test_padded = pad_sequences(test_sequences, maxlen=max_length, padding='post', truncating='post')\n",
    "\n",
    "train_padded.shape, test_padded.shape"
   ]
  },
  {
   "cell_type": "code",
   "execution_count": 11,
   "id": "c67cf2a8",
   "metadata": {},
   "outputs": [
    {
     "data": {
      "text/plain": [
       "array(['Extremely Negative', 'Extremely Positive', 'Negative', 'Neutral',\n",
       "       'Positive', nan], dtype=object)"
      ]
     },
     "execution_count": 11,
     "metadata": {},
     "output_type": "execute_result"
    }
   ],
   "source": [
    "# Инициализация и обучение LabelEncoder\n",
    "encoder = LabelEncoder()\n",
    "train_labels = encoder.fit_transform(train_data[\"Sentiment\"])\n",
    "\n",
    "# Проверка уникальных классов\n",
    "unique_classes = encoder.classes_\n",
    "unique_classes"
   ]
  },
  {
   "cell_type": "markdown",
   "id": "d362c6e7",
   "metadata": {},
   "source": [
    "# Построение RNN"
   ]
  },
  {
   "cell_type": "code",
   "execution_count": 13,
   "id": "32d9a986",
   "metadata": {},
   "outputs": [
    {
     "name": "stdout",
     "output_type": "stream",
     "text": [
      "Epoch 1/5\n",
      "1029/1029 [==============================] - 21s 19ms/step - loss: 1.4124 - accuracy: 0.3669 - val_loss: 1.1791 - val_accuracy: 0.5248\n",
      "Epoch 2/5\n",
      "1029/1029 [==============================] - 19s 18ms/step - loss: 0.9889 - accuracy: 0.6109 - val_loss: 0.8697 - val_accuracy: 0.6795\n",
      "Epoch 3/5\n",
      "1029/1029 [==============================] - 19s 18ms/step - loss: 0.6296 - accuracy: 0.7770 - val_loss: 0.7518 - val_accuracy: 0.7263\n",
      "Epoch 4/5\n",
      "1029/1029 [==============================] - 19s 18ms/step - loss: 0.4444 - accuracy: 0.8570 - val_loss: 0.7115 - val_accuracy: 0.7521\n",
      "Epoch 5/5\n",
      "1029/1029 [==============================] - 19s 18ms/step - loss: 0.3324 - accuracy: 0.8977 - val_loss: 0.7381 - val_accuracy: 0.7662\n"
     ]
    }
   ],
   "source": [
    "# Определение размера словаря и размера вложения\n",
    "vocab_size = len(tokenizer.word_index) + 1\n",
    "embedding_dim = 32\n",
    "\n",
    "# Создание модели\n",
    "model = tf.keras.Sequential([\n",
    "    tf.keras.layers.Embedding(vocab_size, embedding_dim, input_length=max_length),\n",
    "    tf.keras.layers.LSTM(64, return_sequences=True),\n",
    "    tf.keras.layers.LSTM(32),\n",
    "    tf.keras.layers.Dense(64, activation='relu'),\n",
    "    tf.keras.layers.Dense(len(unique_classes), activation='softmax')\n",
    "])\n",
    "\n",
    "# Компиляция модели\n",
    "model.compile(loss='sparse_categorical_crossentropy', optimizer='adam', metrics=['accuracy'])\n",
    "\n",
    "# Обучение модели\n",
    "history = model.fit(train_padded, train_labels, epochs=5, validation_split=0.2, batch_size=32)"
   ]
  },
  {
   "cell_type": "code",
   "execution_count": 14,
   "id": "27051231",
   "metadata": {},
   "outputs": [
    {
     "data": {
      "image/png": "[encoded data removed]",
      "text/plain": [
       "<Figure size 1200x400 with 2 Axes>"
      ]
     },
     "metadata": {},
     "output_type": "display_data"
    }
   ],
   "source": [
    "def plot_training_history(history):\n",
    "    \"\"\"\n",
    "    Визуализация истории обучения модели.\n",
    "    \n",
    "    Параметры:\n",
    "    - history: объект истории, возвращенный функцией model.fit().\n",
    "    \"\"\"\n",
    "    plt.figure(figsize=(12, 4))\n",
    "\n",
    "    # График потерь\n",
    "    plt.subplot(1, 2, 1)\n",
    "    plt.plot(history.history['loss'], label='Training Loss')\n",
    "    plt.plot(history.history['val_loss'], label='Validation Loss')\n",
    "    plt.legend()\n",
    "    plt.title('Loss Evolution')\n",
    "\n",
    "    # График точности\n",
    "    plt.subplot(1, 2, 2)\n",
    "    plt.plot(history.history['accuracy'], label='Training Accuracy')\n",
    "    plt.plot(history.history['val_accuracy'], label='Validation Accuracy')\n",
    "    plt.legend()\n",
    "    plt.title('Accuracy Evolution')\n",
    "\n",
    "    plt.tight_layout()\n",
    "    plt.show()\n",
    "    \n",
    "plot_training_history(history)"
   ]
  },
  {
   "cell_type": "markdown",
   "id": "bb1b8e29",
   "metadata": {},
   "source": [
    "Модель успешно обучается, что видно по уменьшению потерь и увеличению точности на тренировочных данных.\n",
    "\n",
    "При этом, начиная с пятой эпохи,судя по графикам, модель переобучается, т.к. валидационные потери начинают увеличиваться, а точность немного уменьшается.\n",
    "\n",
    "Рассмотрим добавление регуляризации и используем метод dropout.\n",
    "\n",
    "Также рассмотрим возможность обучения модели на большем количестве эпох с ранним остановом на основе валидационных потерь, чтобы предотвратить дальнейшее переобучение."
   ]
  },
  {
   "cell_type": "code",
   "execution_count": 15,
   "id": "aaa0a4d9",
   "metadata": {},
   "outputs": [
    {
     "name": "stdout",
     "output_type": "stream",
     "text": [
      "Epoch 1/10\n",
      "1029/1029 [==============================] - 21s 19ms/step - loss: 1.5004 - accuracy: 0.3139 - val_loss: 1.3285 - val_accuracy: 0.4003\n",
      "Epoch 2/10\n",
      "1029/1029 [==============================] - 19s 19ms/step - loss: 1.2418 - accuracy: 0.4651 - val_loss: 1.0538 - val_accuracy: 0.5862\n",
      "Epoch 3/10\n",
      "1029/1029 [==============================] - 19s 19ms/step - loss: 0.9470 - accuracy: 0.6304 - val_loss: 0.8332 - val_accuracy: 0.6834\n",
      "Epoch 4/10\n",
      "1029/1029 [==============================] - 19s 19ms/step - loss: 0.7406 - accuracy: 0.7286 - val_loss: 0.7341 - val_accuracy: 0.7346\n",
      "Epoch 5/10\n",
      "1029/1029 [==============================] - 19s 19ms/step - loss: 0.6178 - accuracy: 0.7860 - val_loss: 0.7377 - val_accuracy: 0.7336\n",
      "Epoch 6/10\n",
      "1029/1029 [==============================] - 19s 19ms/step - loss: 0.5352 - accuracy: 0.8194 - val_loss: 0.7239 - val_accuracy: 0.7615\n",
      "Epoch 7/10\n",
      "1029/1029 [==============================] - 19s 19ms/step - loss: 0.4720 - accuracy: 0.8464 - val_loss: 0.7149 - val_accuracy: 0.7617\n",
      "Epoch 8/10\n",
      "1029/1029 [==============================] - 19s 19ms/step - loss: 0.4214 - accuracy: 0.8642 - val_loss: 0.7546 - val_accuracy: 0.7536\n",
      "Epoch 9/10\n",
      "1029/1029 [==============================] - 19s 19ms/step - loss: 0.3783 - accuracy: 0.8782 - val_loss: 0.7893 - val_accuracy: 0.7555\n",
      "Epoch 10/10\n",
      "1029/1029 [==============================] - 19s 19ms/step - loss: 0.3437 - accuracy: 0.8905 - val_loss: 0.8241 - val_accuracy: 0.7489\n"
     ]
    }
   ],
   "source": [
    "# Определение размера словаря и размера вложения\n",
    "vocab_size = len(tokenizer.word_index) + 1\n",
    "embedding_dim = 32\n",
    "\n",
    "# Создание модели\n",
    "model = tf.keras.Sequential([\n",
    "    tf.keras.layers.Embedding(vocab_size, embedding_dim, input_length=max_length),\n",
    "    tf.keras.layers.Dropout(0.5),  # Dropout слой\n",
    "    tf.keras.layers.LSTM(64, return_sequences=True),\n",
    "    tf.keras.layers.Dropout(0.5),  # Dropout слой\n",
    "    tf.keras.layers.LSTM(32),\n",
    "    tf.keras.layers.Dense(64, activation='relu'),\n",
    "    tf.keras.layers.Dropout(0.5),  # Dropout слой\n",
    "    tf.keras.layers.Dense(len(unique_classes), activation='softmax')\n",
    "])\n",
    "\n",
    "# Компиляция модели\n",
    "model.compile(loss='sparse_categorical_crossentropy', optimizer='adam', metrics=['accuracy'])\n",
    "\n",
    "# Callback для раннего останова\n",
    "early_stop = EarlyStopping(monitor='val_loss', patience=3, restore_best_weights=True)\n",
    "\n",
    "# Обучение модели с добавлением callback для раннего останова\n",
    "history = model.fit(train_padded, train_labels, epochs=10, validation_split=0.2, batch_size=32, callbacks=[early_stop])"
   ]
  },
  {
   "cell_type": "code",
   "execution_count": 16,
   "id": "0068a63e",
   "metadata": {},
   "outputs": [
    {
     "data": {
      "image/png": "[encoded data removed]",
      "text/plain": [
       "<Figure size 1200x400 with 2 Axes>"
      ]
     },
     "metadata": {},
     "output_type": "display_data"
    }
   ],
   "source": [
    "plot_training_history(history)"
   ]
  },
  {
   "cell_type": "markdown",
   "id": "2ffe2654",
   "metadata": {},
   "source": [
    "Данная модель также успешно обучается, что видно по уменьшению потерь и увеличению точности на тренировочных данных.\n",
    "\n",
    "Механизм раннего останова, по всей видимости, успешно прекратил обучение, когда валидационные потери начали расти (после 6-й эпохи), предотвращая дальнейшее переобучение.\n",
    "\n",
    "Добавление Dropout и раннего останова помогли улучшить производительность модели на валидационных данных."
   ]
  },
  {
   "cell_type": "code",
   "execution_count": 17,
   "id": "1cc08d77",
   "metadata": {},
   "outputs": [
    {
     "name": "stdout",
     "output_type": "stream",
     "text": [
      "Epoch 1/10\n",
      "1029/1029 [==============================] - 40s 35ms/step - loss: 1.3644 - accuracy: 0.3976 - val_loss: 0.9610 - val_accuracy: 0.6335\n",
      "Epoch 2/10\n",
      "1029/1029 [==============================] - 34s 33ms/step - loss: 0.7820 - accuracy: 0.7148 - val_loss: 0.6960 - val_accuracy: 0.7575\n",
      "Epoch 3/10\n",
      "1029/1029 [==============================] - 34s 34ms/step - loss: 0.5200 - accuracy: 0.8275 - val_loss: 0.6956 - val_accuracy: 0.7574\n",
      "Epoch 4/10\n",
      "1029/1029 [==============================] - 34s 34ms/step - loss: 0.3679 - accuracy: 0.8838 - val_loss: 0.7540 - val_accuracy: 0.7751\n",
      "Epoch 5/10\n",
      "1029/1029 [==============================] - 34s 33ms/step - loss: 0.2746 - accuracy: 0.9150 - val_loss: 0.7853 - val_accuracy: 0.7794\n",
      "Epoch 6/10\n",
      "1029/1029 [==============================] - 34s 33ms/step - loss: 0.2033 - accuracy: 0.9367 - val_loss: 0.9692 - val_accuracy: 0.7647\n"
     ]
    }
   ],
   "source": [
    "# Определение размера словаря и размера вложения\n",
    "vocab_size = len(tokenizer.word_index) + 1\n",
    "embedding_dim = 64  # Увеличим размер вложения\n",
    "\n",
    "# Создание модели\n",
    "model = tf.keras.Sequential([\n",
    "    tf.keras.layers.Embedding(vocab_size, embedding_dim, input_length=max_length),\n",
    "    tf.keras.layers.Bidirectional(tf.keras.layers.LSTM(64, return_sequences=True)),  # Bidirectional LSTM\n",
    "    tf.keras.layers.Dropout(0.5),\n",
    "    tf.keras.layers.Bidirectional(tf.keras.layers.LSTM(32, return_sequences=True)),  # Добавляем еще один слой LSTM\n",
    "    tf.keras.layers.Dropout(0.5),\n",
    "    tf.keras.layers.Bidirectional(tf.keras.layers.LSTM(32)),\n",
    "    tf.keras.layers.Dense(64, activation='relu'),\n",
    "    tf.keras.layers.Dropout(0.5),\n",
    "    tf.keras.layers.Dense(len(unique_classes), activation='softmax')\n",
    "])\n",
    "\n",
    "# Компиляция модели\n",
    "model.compile(loss='sparse_categorical_crossentropy', optimizer='adam', metrics=['accuracy'])\n",
    "\n",
    "# Callback для раннего останова\n",
    "early_stop = EarlyStopping(monitor='val_loss', patience=3, restore_best_weights=True)\n",
    "\n",
    "# Обучение модели с добавлением callback для раннего останова\n",
    "history = model.fit(train_padded, train_labels, epochs=10, validation_split=0.2, batch_size=32, callbacks=[early_stop])"
   ]
  },
  {
   "cell_type": "markdown",
   "id": "89d9baaf",
   "metadata": {},
   "source": [
    "### Архитектура RNN, близкая к state of the art для данной задачи"
   ]
  },
  {
   "cell_type": "code",
   "execution_count": 18,
   "id": "e9b8cfad",
   "metadata": {},
   "outputs": [
    {
     "name": "stdout",
     "output_type": "stream",
     "text": [
      "Epoch 1/10\n",
      "1029/1029 [==============================] - 38s 33ms/step - loss: 1.2967 - accuracy: 0.4491 - val_loss: 0.8660 - val_accuracy: 0.6664\n",
      "Epoch 2/10\n",
      "1029/1029 [==============================] - 35s 34ms/step - loss: 0.7176 - accuracy: 0.7504 - val_loss: 0.6646 - val_accuracy: 0.7676\n",
      "Epoch 3/10\n",
      "1029/1029 [==============================] - 34s 33ms/step - loss: 0.4824 - accuracy: 0.8449 - val_loss: 0.6852 - val_accuracy: 0.7680\n",
      "Epoch 4/10\n",
      "1029/1029 [==============================] - 34s 33ms/step - loss: 0.3424 - accuracy: 0.8921 - val_loss: 0.7336 - val_accuracy: 0.7813\n",
      "Epoch 5/10\n",
      "1029/1029 [==============================] - 34s 33ms/step - loss: 0.2453 - accuracy: 0.9239 - val_loss: 0.7969 - val_accuracy: 0.7711\n"
     ]
    }
   ],
   "source": [
    "# Определение размера словаря и размера вложения\n",
    "vocab_size = len(tokenizer.word_index) + 1\n",
    "embedding_dim = 64  # Увеличенный размер вложения\n",
    "\n",
    "# Создание модели\n",
    "model = Sequential([\n",
    "    Embedding(vocab_size, embedding_dim, input_length=max_length),\n",
    "    Bidirectional(LSTM(64, return_sequences=True)),  # Bidirectional LSTM\n",
    "    Dropout(0.5),  # Dropout для регуляризации\n",
    "    Bidirectional(LSTM(32, return_sequences=True)),  # Дополнительный Bidirectional LSTM слой\n",
    "    Dropout(0.5),  # Dropout для регуляризации\n",
    "    Bidirectional(LSTM(32)),  # Дополнительный Bidirectional LSTM слой\n",
    "    Dense(64, activation='relu'),\n",
    "    Dropout(0.5),  # Dropout для регуляризации\n",
    "    Dense(len(unique_classes), activation='softmax')\n",
    "])\n",
    "\n",
    "# Компиляция модели\n",
    "model.compile(loss='sparse_categorical_crossentropy', optimizer='adam', metrics=['accuracy'])\n",
    "\n",
    "# Callback для раннего останова\n",
    "early_stop = EarlyStopping(monitor='val_loss', patience=3, restore_best_weights=True)\n",
    "\n",
    "# Обучение модели с добавлением callback для раннего останова\n",
    "history = model.fit(train_padded, train_labels, epochs=10, validation_split=0.2, batch_size=32, callbacks=[early_stop])"
   ]
  },
  {
   "cell_type": "markdown",
   "id": "0e91afbb",
   "metadata": {},
   "source": [
    "### Подбор гипперпараметров"
   ]
  },
  {
   "cell_type": "markdown",
   "id": "4d879212",
   "metadata": {},
   "source": [
    "Для подбора гиперпараметров мы можем использовать GridSearchCV из sklearn или Hyperband из keras-tuner. Мы будем использовать Hyperband."
   ]
  },
  {
   "cell_type": "code",
   "execution_count": 19,
   "id": "ddc373d6",
   "metadata": {},
   "outputs": [
    {
     "name": "stdout",
     "output_type": "stream",
     "text": [
      "Reloading Tuner from hyperband\\text_classification\\tuner0.json\n"
     ]
    }
   ],
   "source": [
    "def build_model(hp: HyperParameters):\n",
    "    model = tf.keras.models.Sequential()\n",
    "    model.add(tf.keras.layers.Embedding(\n",
    "        input_dim=vocab_size,\n",
    "        output_dim=hp.Int('embedding_dim', min_value=32, max_value=128, step=16),\n",
    "        input_length=max_length))\n",
    "    model.add(tf.keras.layers.Bidirectional(tf.keras.layers.LSTM(\n",
    "        units=hp.Int('lstm_units', min_value=32, max_value=128, step=16), \n",
    "        return_sequences=True)))\n",
    "    model.add(tf.keras.layers.Dropout(hp.Float('dropout', min_value=0.0, max_value=0.5, step=0.1)))\n",
    "    model.add(tf.keras.layers.Bidirectional(tf.keras.layers.LSTM(\n",
    "        units=hp.Int('lstm_units', min_value=32, max_value=128, step=16))))\n",
    "    model.add(tf.keras.layers.Dense(\n",
    "        units=hp.Int('dense_units', min_value=32, max_value=128, step=16), \n",
    "        activation='relu'))\n",
    "    model.add(tf.keras.layers.Dense(len(unique_classes), activation='softmax'))\n",
    "    model.compile(optimizer=tf.keras.optimizers.Adam(hp.Float('learning_rate', min_value=1e-4,\n",
    "                                                              max_value=1e-2, sampling='LOG')), \n",
    "                  loss='sparse_categorical_crossentropy', metrics=['accuracy'])\n",
    "    return model\n",
    "\n",
    "tuner = Hyperband(\n",
    "    build_model,\n",
    "    objective='val_accuracy',\n",
    "    max_epochs=5,\n",
    "    directory='hyperband',\n",
    "    project_name='text_classification'\n",
    ")\n",
    "\n",
    "tuner.search(train_padded, train_labels, epochs=5, validation_split=0.2)"
   ]
  },
  {
   "cell_type": "code",
   "execution_count": 20,
   "id": "80cbb748",
   "metadata": {},
   "outputs": [
    {
     "name": "stdout",
     "output_type": "stream",
     "text": [
      "\n",
      "Поиск гиперпараметров завершен. Оптимальное количество единиц в первом плотно связанном слое \n",
      "составляет 48, а оптимальная скорость обучения для оптимизатора \n",
      "составляет 0.005682201189419717.\n",
      "\n"
     ]
    }
   ],
   "source": [
    "# Получение информации о лучшей модели\n",
    "best_hps = tuner.get_best_hyperparameters(num_trials=1)[0]\n",
    "\n",
    "# Вывод лучших гиперпараметров\n",
    "print(f\"\"\"\n",
    "Поиск гиперпараметров завершен. Оптимальное количество единиц в первом плотно связанном слое \n",
    "составляет {best_hps.get('dense_units')}, а оптимальная скорость обучения для оптимизатора \n",
    "составляет {best_hps.get('learning_rate')}.\n",
    "\"\"\")"
   ]
  },
  {
   "cell_type": "code",
   "execution_count": 21,
   "id": "c174c1ae",
   "metadata": {},
   "outputs": [
    {
     "name": "stdout",
     "output_type": "stream",
     "text": [
      "Epoch 1/10\n",
      "1029/1029 [==============================] - 37s 33ms/step - loss: 1.1831 - accuracy: 0.4989 - val_loss: 0.7627 - val_accuracy: 0.7343\n",
      "Epoch 2/10\n",
      "1029/1029 [==============================] - 34s 33ms/step - loss: 0.6030 - accuracy: 0.7829 - val_loss: 0.6282 - val_accuracy: 0.7730\n",
      "Epoch 3/10\n",
      "1029/1029 [==============================] - 34s 33ms/step - loss: 0.3684 - accuracy: 0.8741 - val_loss: 0.6638 - val_accuracy: 0.7836\n",
      "Epoch 4/10\n",
      "1029/1029 [==============================] - 34s 33ms/step - loss: 0.2342 - accuracy: 0.9224 - val_loss: 0.7139 - val_accuracy: 0.7883\n",
      "Epoch 5/10\n",
      "1029/1029 [==============================] - 34s 33ms/step - loss: 0.1622 - accuracy: 0.9455 - val_loss: 0.7931 - val_accuracy: 0.7827\n",
      "Epoch 6/10\n",
      "1029/1029 [==============================] - 34s 33ms/step - loss: 0.1216 - accuracy: 0.9600 - val_loss: 0.9004 - val_accuracy: 0.7737\n",
      "Epoch 7/10\n",
      "1029/1029 [==============================] - 34s 33ms/step - loss: 0.0943 - accuracy: 0.9700 - val_loss: 0.9306 - val_accuracy: 0.7709\n",
      "Epoch 8/10\n",
      "1029/1029 [==============================] - 34s 33ms/step - loss: 0.0767 - accuracy: 0.9749 - val_loss: 1.0387 - val_accuracy: 0.7768\n",
      "Epoch 9/10\n",
      "1029/1029 [==============================] - 34s 33ms/step - loss: 0.0636 - accuracy: 0.9801 - val_loss: 1.2071 - val_accuracy: 0.7628\n",
      "Epoch 10/10\n",
      "1029/1029 [==============================] - 34s 33ms/step - loss: 0.0549 - accuracy: 0.9824 - val_loss: 1.1654 - val_accuracy: 0.7629\n"
     ]
    },
    {
     "data": {
      "text/plain": [
       "<keras.src.callbacks.History at 0x17fa7017ad0>"
      ]
     },
     "execution_count": 21,
     "metadata": {},
     "output_type": "execute_result"
    }
   ],
   "source": [
    "# Построение и обучение модели с использованием лучших гиперпараметров\n",
    "best_model = tuner.hypermodel.build(best_hps)\n",
    "best_model.fit(train_padded, train_labels, epochs=10, validation_split=0.2, batch_size=32)"
   ]
  },
  {
   "cell_type": "markdown",
   "id": "6b4eb4b1",
   "metadata": {},
   "source": [
    "По результатам обучения видно, что наша модель быстро достигает высокой точности на тренировочных данных (accuracy: 0.9780), но точность на валидационных данных (val_accuracy: 0.7296) значительно ниже. Это классический пример переобучения (overfitting), когда модель хорошо работает на тренировочных данных, но плохо на новых или валидационных данных.\n",
    "\n",
    "Для борьба с переобучением попробуем использовать следующие техники:\n",
    "1. Добавим L2 регуляризацию;\n",
    "2. Увеличим dropout rate, чтобы сделать модель менее зависимой от конкретных нейронов;\n",
    "3. Используем learning rate schedule: будем уменьшать learning rate по мере обучения;\n",
    "4. Попробуем использовать Batch normalization."
   ]
  },
  {
   "cell_type": "code",
   "execution_count": 42,
   "id": "288969a6",
   "metadata": {},
   "outputs": [
    {
     "name": "stdout",
     "output_type": "stream",
     "text": [
      "Epoch 1/3\n",
      "1029/1029 [==============================] - 117s 111ms/step - loss: 1.2868 - accuracy: 0.4684 - val_loss: 0.8763 - val_accuracy: 0.6782 - lr: 0.0010\n",
      "Epoch 2/3\n",
      "1029/1029 [==============================] - 112s 109ms/step - loss: 0.7339 - accuracy: 0.7546 - val_loss: 0.7597 - val_accuracy: 0.7374 - lr: 0.0010\n",
      "Epoch 3/3\n",
      "1029/1029 [==============================] - 112s 109ms/step - loss: 0.5284 - accuracy: 0.8391 - val_loss: 0.7464 - val_accuracy: 0.7515 - lr: 0.0010\n"
     ]
    }
   ],
   "source": [
    "# Callback для ранней остановки\n",
    "early_stop = EarlyStopping(monitor='val_loss', patience=2, restore_best_weights=True)\n",
    "\n",
    "# Функция для расписания скорости обучения\n",
    "def lr_schedule(epoch, lr):\n",
    "    if epoch < 10:\n",
    "        return lr\n",
    "    else:\n",
    "        return lr * tf.math.exp(-0.1)\n",
    "\n",
    "# Построение модели\n",
    "model = tf.keras.models.Sequential()\n",
    "model.add(tf.keras.layers.Embedding(\n",
    "    input_dim=vocab_size,\n",
    "    output_dim=32,\n",
    "    input_length=max_length\n",
    "))\n",
    "model.add(tf.keras.layers.Bidirectional(tf.keras.layers.LSTM(\n",
    "    64, return_sequences=True,\n",
    "    kernel_regularizer=regularizers.l2(0.0001)  # уменьшенная регуляризация\n",
    ")))\n",
    "model.add(tf.keras.layers.Dropout(0.5))  # увеличенный дропаут\n",
    "model.add(tf.keras.layers.Bidirectional(tf.keras.layers.LSTM(\n",
    "    64,\n",
    "    kernel_regularizer=regularizers.l2(0.0001)  # уменьшенная регуляризация\n",
    ")))\n",
    "model.add(tf.keras.layers.Dense(\n",
    "    64, activation='relu',\n",
    "    kernel_regularizer=regularizers.l2(0.0001)  # уменьшенная регуляризация\n",
    "))\n",
    "model.add(tf.keras.layers.Dropout(0.5))  # увеличенный дропаут\n",
    "model.add(tf.keras.layers.Dense(len(unique_classes), activation='softmax'))\n",
    "\n",
    "# Компиляция модели\n",
    "model.compile(\n",
    "    loss='sparse_categorical_crossentropy',\n",
    "    optimizer=tf.keras.optimizers.Adam(0.001),  # уменьшенная скорость обучения\n",
    "    metrics=['accuracy']\n",
    ")\n",
    "\n",
    "# Callback для расписания скорости обучения\n",
    "callback = LearningRateScheduler(lr_schedule)\n",
    "\n",
    "# Обучение модели\n",
    "history = model.fit(\n",
    "    train_padded, train_labels,\n",
    "    epochs=3,\n",
    "    validation_split=0.2,\n",
    "    batch_size=32,\n",
    "    callbacks=[callback, early_stop]  # добавление early_stop callback\n",
    ")"
   ]
  },
  {
   "cell_type": "code",
   "execution_count": 44,
   "id": "a01436b8",
   "metadata": {},
   "outputs": [
    {
     "name": "stdout",
     "output_type": "stream",
     "text": [
      "119/119 [==============================] - 4s 29ms/step\n"
     ]
    }
   ],
   "source": [
    "# Предсказание на тестовых данных\n",
    "test_predictions_3 = model.predict(test_padded)\n",
    "test_predictions_3 = test_predictions_3.argmax(axis=1)\n",
    "\n",
    "# Обратное преобразование предсказанных меток в текстовые значения\n",
    "predicted_labels_3 = encoder.inverse_transform(test_predictions_3)\n",
    "\n",
    "# Создание DataFrame для сохранения предсказаний\n",
    "submission_data_3 = pd.DataFrame({\n",
    "    'id': test_data['id'],  # использование столбца 'id' из тестовых данных\n",
    "    'Sentiment': predicted_labels_3\n",
    "})\n",
    "\n",
    "# Сохранение предсказаний в CSV файл\n",
    "submission_data_3.to_csv('predictions_3.csv', index=False)"
   ]
  },
  {
   "cell_type": "markdown",
   "id": "7bf9b78e",
   "metadata": {},
   "source": [
    "### Выводы по RNN\n",
    "- Мы обучили рекурентную нейронную сеть и попытались улучшить результаты при помощи гипперпараметров. \n",
    "- Далее мы столкнулись с переобучением и в дальнейшем избавились от него при помощи методов:\n",
    "1. добавления регуляризации L2\n",
    "2. увеличения drop rate\n",
    "3. использования  learning rate schedule\n",
    "4. введения batch normalizaion\n",
    "\n",
    "В среднем наш accuracy на валидационной выборке достиг примерно 75%, что считается очень хорошим показателем в реальных условиях."
   ]
  },
  {
   "cell_type": "markdown",
   "id": "28ff006d",
   "metadata": {},
   "source": [
    "# Использование трансформеров"
   ]
  },
  {
   "cell_type": "code",
   "execution_count": 12,
   "id": "5d671321",
   "metadata": {},
   "outputs": [],
   "source": [
    "# Использование BERT токенизатора\n",
    "tokenizer = BertTokenizer.from_pretrained('bert-base-uncased')\n",
    "train_encodings = tokenizer(train_data['Text'].tolist(), truncation=True, padding=True, max_length=256)\n",
    "test_encodings = tokenizer(test_data['Text'].tolist(), truncation=True, padding=True, max_length=256)"
   ]
  },
  {
   "cell_type": "code",
   "execution_count": 13,
   "id": "51cd66cc",
   "metadata": {},
   "outputs": [],
   "source": [
    "# Подготовка DataLoader\n",
    "class TweetDataset(Dataset):\n",
    "    def __init__(self, encodings, labels=None):\n",
    "        self.encodings = encodings\n",
    "        self.labels = labels\n",
    "\n",
    "    def __getitem__(self, idx):\n",
    "        item = {key: torch.tensor(val[idx]) for key, val in self.encodings.items()}\n",
    "        if self.labels:\n",
    "            item['labels'] = torch.tensor(self.labels[idx])\n",
    "        return item\n",
    "\n",
    "    def __len__(self):\n",
    "        return len(self.encodings['input_ids'])"
   ]
  },
  {
   "cell_type": "code",
   "execution_count": 20,
   "id": "ab0fb3ba",
   "metadata": {},
   "outputs": [],
   "source": [
    "# Создание словаря для сопоставления меток с идентификаторами и наоборот\n",
    "labels = train_data['Sentiment'].unique().tolist()\n",
    "label_to_id = {label: i for i, label in enumerate(labels)}\n",
    "id_to_label = {i: label for label, i in label_to_id.items()}\n",
    "\n",
    "# Преобразование меток в идентификаторы\n",
    "train_labels = train_data['Sentiment'].map(label_to_id).tolist()"
   ]
  },
  {
   "cell_type": "code",
   "execution_count": 31,
   "id": "3ded7b0f",
   "metadata": {},
   "outputs": [],
   "source": [
    "train_data, val_data, train_labels, val_labels = train_test_split(\n",
    "    train_data, train_labels, test_size=0.1, random_state=42\n",
    ")"
   ]
  },
  {
   "cell_type": "code",
   "execution_count": 22,
   "id": "8af3ed13",
   "metadata": {},
   "outputs": [],
   "source": [
    "train_labels = train_data['Sentiment'].map(label_to_id).tolist()\n",
    "train_dataset = TweetDataset(train_encodings, train_labels)\n",
    "test_dataset = TweetDataset(test_encodings)\n",
    "\n",
    "train_loader = DataLoader(train_dataset, batch_size=16, shuffle=True)\n",
    "test_loader = DataLoader(test_dataset, batch_size=16, shuffle=False)"
   ]
  },
  {
   "cell_type": "code",
   "execution_count": 32,
   "id": "7acd9714",
   "metadata": {},
   "outputs": [],
   "source": [
    "val_encodings = tokenizer(val_data['Text'].tolist(), truncation=True, padding=True, max_length=256)\n",
    "val_dataset = TweetDataset(val_encodings, val_labels)\n",
    "val_loader = DataLoader(val_dataset, batch_size=16, shuffle=False)"
   ]
  },
  {
   "cell_type": "code",
   "execution_count": 26,
   "id": "5e8d4525",
   "metadata": {},
   "outputs": [],
   "source": [
    "class EarlyStopping:\n",
    "    \"\"\"Ранняя остановка для прекращения обучения, если потери не улучшаются после определенного числа эпох.\"\"\"\n",
    "    def __init__(self, patience=7, verbose=False, delta=0):\n",
    "        \"\"\"\n",
    "        Args:\n",
    "            patience (int): Как долго ждать после последнего времени улучшения. Default: 7.\n",
    "            verbose (bool): Если True, выводит сообщение для каждого улучшения. Default: False.\n",
    "            delta (float): Минимальное изменение для квалификации как улучшение. Default: 0.\n",
    "        \"\"\"\n",
    "        self.patience = patience\n",
    "        self.verbose = verbose\n",
    "        self.counter = 0\n",
    "        self.best_score = None\n",
    "        self.early_stop = False\n",
    "        self.val_loss_min = np.Inf\n",
    "        self.delta = delta\n",
    "\n",
    "    def __call__(self, val_loss, model):\n",
    "\n",
    "        score = -val_loss\n",
    "\n",
    "        if self.best_score is None:\n",
    "            self.best_score = score\n",
    "            self.save_checkpoint(val_loss, model)\n",
    "        elif score < self.best_score + self.delta:\n",
    "            self.counter += 1\n",
    "            print(f'EarlyStopping counter: {self.counter} out of {self.patience}')\n",
    "            if self.counter >= self.patience:\n",
    "                self.early_stop = True\n",
    "        else:\n",
    "            self.best_score = score\n",
    "            self.save_checkpoint(val_loss, model)\n",
    "            self.counter = 0\n",
    "\n",
    "    def save_checkpoint(self, val_loss, model):\n",
    "        '''Сохраняет модель, когда потери уменьшаются.'''\n",
    "        if self.verbose:\n",
    "            print(f'Validation loss decreased ({self.val_loss_min:.6f} --> {val_loss:.6f}).  Saving model ...')\n",
    "        torch.save(model.state_dict(), 'checkpoint.pt')\n",
    "        self.val_loss_min = val_loss"
   ]
  },
  {
   "cell_type": "markdown",
   "id": "21e8b0ae",
   "metadata": {},
   "source": [
    "**Комментарий:** Конечно, подобную реализацию ранней остановки было бы продуктивней вынести в отдельный .py файл, как скрипт и потом использовать его в качестве кастомной библиотеки, вызвав в соответствующем разделе `Импорт библиотек`, но в рамках учебного предоставления материалов, делать этого мы не будем, поэтому просто опишем данный класс тут и будем им пользоваться далее. \n",
    "\n",
    "Также по заданию необходимо было использовать lr-scheduler, что и продемонстрированно нами при построении трансформера."
   ]
  },
  {
   "cell_type": "code",
   "execution_count": null,
   "id": "6d3a2dd5",
   "metadata": {},
   "outputs": [
    {
     "name": "stderr",
     "output_type": "stream",
     "text": [
      "Some weights of BertForSequenceClassification were not initialized from the model checkpoint at bert-base-uncased and are newly initialized: ['classifier.weight', 'classifier.bias']\n",
      "You should probably TRAIN this model on a down-stream task to be able to use it for predictions and inference.\n",
      "C:\\Users\\Nekon\\anaconda3\\Lib\\site-packages\\transformers\\optimization.py:411: FutureWarning: This implementation of AdamW is deprecated and will be removed in a future version. Use the PyTorch implementation torch.optim.AdamW instead, or set `no_deprecation_warning=True` to disable this warning\n",
      "  warnings.warn(\n",
      "Training Epoch 1:  44%|████████████████████████▌                               | 1129/2573 [1:10:40<1:30:03,  3.74s/it]"
     ]
    }
   ],
   "source": [
    "model = BertForSequenceClassification.from_pretrained('bert-base-uncased', num_labels=len(label_to_id))\n",
    "\n",
    "device = torch.device('cuda') if torch.cuda.is_available() else torch.device('cpu')\n",
    "model.to(device)\n",
    "\n",
    "optimizer = AdamW(model.parameters(), lr=1e-5)\n",
    "\n",
    "# Планировщик скорости обучения\n",
    "scheduler = ExponentialLR(optimizer, gamma=0.1)\n",
    "\n",
    "for epoch in range(3):\n",
    "    model.train()\n",
    "    for batch in tqdm(train_loader, desc=f\"Training Epoch {epoch + 1}\"):\n",
    "        optimizer.zero_grad()\n",
    "        input_ids = batch['input_ids'].to(device)\n",
    "        attention_mask = batch['attention_mask'].to(device)\n",
    "        labels = batch['labels'].to(device)\n",
    "        outputs = model(input_ids, attention_mask=attention_mask, labels=labels)\n",
    "        loss = outputs.loss\n",
    "        loss.backward()\n",
    "        optimizer.step()\n",
    "\n",
    "    # Изменение скорости обучения\n",
    "    scheduler.step()\n",
    "\n",
    "    model.eval()\n",
    "    val_loss = 0\n",
    "    val_predictions = []\n",
    "    true_labels = []\n",
    "    for batch in val_loader:  # убедитесь, что у вас есть val_loader\n",
    "        input_ids = batch['input_ids'].to(device)\n",
    "        attention_mask = batch['attention_mask'].to(device)\n",
    "        labels = batch['labels'].to(device)\n",
    "        outputs = model(input_ids, attention_mask=attention_mask, labels=labels)\n",
    "        val_loss += outputs.loss.item()\n",
    "        val_predictions.extend(torch.argmax(outputs.logits, dim=1).cpu().numpy())\n",
    "        true_labels.extend(labels.cpu().numpy())\n",
    "\n",
    "    val_loss /= len(val_loader)\n",
    "\n",
    "    # Вывод потерь на валидации\n",
    "    print(f\"Validation Loss after Epoch {epoch + 1}: {val_loss:.4f}\")\n",
    "\n",
    "    # Сохранение чекпоинта после каждой эпохи\n",
    "    torch.save(model.state_dict(), f'checkpoint_epoch_{epoch+1}.pt')"
   ]
  },
  {
   "cell_type": "code",
   "execution_count": null,
   "id": "90104035",
   "metadata": {},
   "outputs": [],
   "source": [
    "test_encodings = tokenizer(test_data['Text'].tolist(), truncation=True, padding=True, max_length=256)\n",
    "\n",
    "# Подготовка DataLoader для тестовых данных\n",
    "test_dataset = TweetDataset(test_encodings)\n",
    "test_loader = DataLoader(test_dataset, batch_size=16, shuffle=False)\n",
    "\n",
    "# Загрузка весов лучшей модели\n",
    "model.load_state_dict(torch.load('checkpoint.pt'))\n",
    "\n",
    "# Получение предсказаний для тестовых данных\n",
    "model.eval()\n",
    "test_predictions = []\n",
    "with torch.no_grad():\n",
    "    for batch in test_loader:\n",
    "        input_ids = batch['input_ids'].to(device)\n",
    "        attention_mask = batch['attention_mask'].to(device)\n",
    "        outputs = model(input_ids, attention_mask=attention_mask)\n",
    "        test_predictions.extend(torch.argmax(outputs.logits, dim=1).cpu().numpy())\n",
    "\n",
    "# Преобразование предсказанных идентификаторов обратно в метки\n",
    "predicted_labels = [id_to_label[pred] for pred in test_predictions]"
   ]
  },
  {
   "cell_type": "code",
   "execution_count": null,
   "id": "c1cf1046",
   "metadata": {},
   "outputs": [],
   "source": [
    "# Создание DataFrame для сохранения предсказаний\n",
    "submission_data_3 = pd.DataFrame({\n",
    "    'id': test_data['id'],  # использование столбца 'id' из тестовых данных\n",
    "    'Sentiment': predicted_labels\n",
    "})\n",
    "\n",
    "# Сохранение предсказаний в CSV файл\n",
    "submission_data_3.to_csv('predictions_3.csv', index=False)"
   ]
  },
  {
   "cell_type": "code",
   "execution_count": null,
   "id": "498218cf",
   "metadata": {},
   "outputs": [],
   "source": []
  },
  {
   "cell_type": "code",
   "execution_count": null,
   "id": "2f111e39",
   "metadata": {},
   "outputs": [],
   "source": []
  }
 ],
 "metadata": {
  "kernelspec": {
   "display_name": "Python 3 (ipykernel)",
   "language": "python",
   "name": "python3"
  },
  "language_info": {
   "codemirror_mode": {
    "name": "ipython",
    "version": 3
   },
   "file_extension": ".py",
   "mimetype": "text/x-python",
   "name": "python",
   "nbconvert_exporter": "python",
   "pygments_lexer": "ipython3",
   "version": "3.11.4"
  }
 },
 "nbformat": 4,
 "nbformat_minor": 5
}
