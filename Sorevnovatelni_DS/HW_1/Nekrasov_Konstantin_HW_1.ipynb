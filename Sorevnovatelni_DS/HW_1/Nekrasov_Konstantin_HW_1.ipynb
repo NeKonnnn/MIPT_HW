{
 "cells": [
  {
   "cell_type": "markdown",
   "metadata": {
    "id": "_Yx1Mi7abuht"
   },
   "source": [
    "# План домашних заданий"
   ]
  },
  {
   "cell_type": "markdown",
   "metadata": {
    "id": "_HK3X8tveQhH"
   },
   "source": [
    "\n",
    "- Описание задачи и знакомство с данными\n",
    "- Домашнее задание 1. Генерация и фильтрация признаков\n",
    "- Домашнее задание 2. Прогноз времени и вида поломки машин, настройка ML-модели\n",
    "- Дополнительное задание. Визуализация прогнозов, ошибок модели и важности признаков\n",
    "- Домашнее задание 3. Оптимизация. Тюнинг гиперпараметров с помощью `Optuna`\n",
    "- Домашнее задание 4. Блендинг\n",
    "- Домашнее задание 5. Парсинг внешних данных и оптимизация памяти\n",
    "- Отправка финального решения на лидерборд на Kaggle"
   ]
  },
  {
   "cell_type": "code",
   "execution_count": 1,
   "metadata": {
    "id": "cfomgq3Sbuht",
    "tags": []
   },
   "outputs": [],
   "source": [
    "import pandas as pd\n",
    "import numpy as np\n",
    "import matplotlib.pyplot as plt\n",
    "import seaborn as sns"
   ]
  },
  {
   "cell_type": "markdown",
   "metadata": {
    "id": "fkeIBE5Kbuht"
   },
   "source": [
    "# <center id=\"part0\"> Описание задачи"
   ]
  },
  {
   "cell_type": "markdown",
   "metadata": {
    "id": "MKmknPZbbuht"
   },
   "source": [
    "**Предыстория:**  мы работаем с каршеринговой компанией, которая управляет крупным автопарком машин. Наша цель — предотвратить длительные периоды простоя машин из-за поломок через своевременное обслуживание и ремонт.\n",
    "\n",
    "\n",
    "**Идея для решения проблемы:** создать приоритизированный список обхода машин. Этот список поможет технической бригаде сосредоточиться на автомобилях, которые наиболее вероятно выйдут из строя в ближайшее время.\n",
    "\n",
    "\n",
    "**Как компания решает задачу:**\n",
    "\n",
    "* Собирает данные о поездках и состоянии машин до поломок.\n",
    "\n",
    "* Нанимает Data Scientist, чтобы он смог использовать эти данные для анализа и прогнозирования характера поломок.\n",
    "\n",
    "**Важный момент**: задачи этого специалиста (Data Scientist) предстоит выполнять вам."
   ]
  },
  {
   "cell_type": "markdown",
   "metadata": {
    "id": "-VMB1MVpbuhu"
   },
   "source": [
    "## <center> Знакомство с данными"
   ]
  },
  {
   "cell_type": "markdown",
   "metadata": {
    "id": "TtZE_Frrbuhu"
   },
   "source": [
    "### Информация про машины с таргетом (основной датасет)"
   ]
  },
  {
   "cell_type": "code",
   "execution_count": 2,
   "metadata": {},
   "outputs": [],
   "source": [
    "def check_missing_values(df):\n",
    "    # Вычисляем количество пропущенных значений для каждого столбца\n",
    "    missing_values = df.isnull().sum()\n",
    "\n",
    "    # Вычисляем процент пропущенных значений для каждого столбца\n",
    "    total_values = len(df)\n",
    "    missing_percent = ((missing_values / total_values) * 100).round(2)\n",
    "\n",
    "    # Создаем новый столбец \"строк пропущено\" и вычисляем количество строк с хотя бы одним пропущенным значением\n",
    "    missing_data = pd.DataFrame({'Столбец': missing_values.index, 'Пропущено в %': missing_percent.values})\n",
    "    missing_data['Строк пропущено'] = df.isnull().any(axis=1).sum()\n",
    "\n",
    "    # Сортируем датафрейм по убыванию процента пропущенных значений\n",
    "    missing_data = missing_data.sort_values(by='Пропущено в %', ascending=False)\n",
    "\n",
    "    return missing_data"
   ]
  },
  {
   "cell_type": "code",
   "execution_count": 3,
   "metadata": {
    "id": "DhA6zYqebuhu",
    "outputId": "6d64cd41-646a-4d14-b9cb-63330516265c",
    "tags": []
   },
   "outputs": [
    {
     "data": {
      "text/html": [
       "<div>\n",
       "<style scoped>\n",
       "    .dataframe tbody tr th:only-of-type {\n",
       "        vertical-align: middle;\n",
       "    }\n",
       "\n",
       "    .dataframe tbody tr th {\n",
       "        vertical-align: top;\n",
       "    }\n",
       "\n",
       "    .dataframe thead th {\n",
       "        text-align: right;\n",
       "    }\n",
       "</style>\n",
       "<table border=\"1\" class=\"dataframe\">\n",
       "  <thead>\n",
       "    <tr style=\"text-align: right;\">\n",
       "      <th></th>\n",
       "      <th>car_id</th>\n",
       "      <th>model</th>\n",
       "      <th>car_type</th>\n",
       "      <th>fuel_type</th>\n",
       "      <th>car_rating</th>\n",
       "      <th>year_to_start</th>\n",
       "      <th>riders</th>\n",
       "      <th>year_to_work</th>\n",
       "      <th>target_reg</th>\n",
       "      <th>target_class</th>\n",
       "    </tr>\n",
       "  </thead>\n",
       "  <tbody>\n",
       "    <tr>\n",
       "      <th>792</th>\n",
       "      <td>e12051793m</td>\n",
       "      <td>VW Polo VI</td>\n",
       "      <td>economy</td>\n",
       "      <td>petrol</td>\n",
       "      <td>4.02</td>\n",
       "      <td>2015</td>\n",
       "      <td>87263</td>\n",
       "      <td>2015</td>\n",
       "      <td>34.07</td>\n",
       "      <td>electro_bug</td>\n",
       "    </tr>\n",
       "    <tr>\n",
       "      <th>97</th>\n",
       "      <td>N18957837j</td>\n",
       "      <td>VW Polo</td>\n",
       "      <td>economy</td>\n",
       "      <td>petrol</td>\n",
       "      <td>4.28</td>\n",
       "      <td>2012</td>\n",
       "      <td>25882</td>\n",
       "      <td>2017</td>\n",
       "      <td>44.69</td>\n",
       "      <td>engine_fuel</td>\n",
       "    </tr>\n",
       "    <tr>\n",
       "      <th>356</th>\n",
       "      <td>j-2201624B</td>\n",
       "      <td>Kia Sportage</td>\n",
       "      <td>standart</td>\n",
       "      <td>petrol</td>\n",
       "      <td>5.24</td>\n",
       "      <td>2014</td>\n",
       "      <td>55640</td>\n",
       "      <td>2017</td>\n",
       "      <td>39.54</td>\n",
       "      <td>engine_overheat</td>\n",
       "    </tr>\n",
       "    <tr>\n",
       "      <th>301</th>\n",
       "      <td>Q-1696362K</td>\n",
       "      <td>Skoda Rapid</td>\n",
       "      <td>economy</td>\n",
       "      <td>petrol</td>\n",
       "      <td>4.82</td>\n",
       "      <td>2013</td>\n",
       "      <td>39096</td>\n",
       "      <td>2018</td>\n",
       "      <td>43.78</td>\n",
       "      <td>gear_stick</td>\n",
       "    </tr>\n",
       "    <tr>\n",
       "      <th>352</th>\n",
       "      <td>s16218530z</td>\n",
       "      <td>Smart ForTwo</td>\n",
       "      <td>economy</td>\n",
       "      <td>petrol</td>\n",
       "      <td>2.88</td>\n",
       "      <td>2013</td>\n",
       "      <td>39450</td>\n",
       "      <td>2019</td>\n",
       "      <td>30.60</td>\n",
       "      <td>gear_stick</td>\n",
       "    </tr>\n",
       "  </tbody>\n",
       "</table>\n",
       "</div>"
      ],
      "text/plain": [
       "         car_id         model  car_type fuel_type  car_rating  year_to_start  \\\n",
       "792  e12051793m    VW Polo VI   economy    petrol        4.02           2015   \n",
       "97   N18957837j       VW Polo   economy    petrol        4.28           2012   \n",
       "356  j-2201624B  Kia Sportage  standart    petrol        5.24           2014   \n",
       "301  Q-1696362K   Skoda Rapid   economy    petrol        4.82           2013   \n",
       "352  s16218530z  Smart ForTwo   economy    petrol        2.88           2013   \n",
       "\n",
       "     riders  year_to_work  target_reg     target_class  \n",
       "792   87263          2015       34.07      electro_bug  \n",
       "97    25882          2017       44.69      engine_fuel  \n",
       "356   55640          2017       39.54  engine_overheat  \n",
       "301   39096          2018       43.78       gear_stick  \n",
       "352   39450          2019       30.60       gear_stick  "
      ]
     },
     "execution_count": 3,
     "metadata": {},
     "output_type": "execute_result"
    }
   ],
   "source": [
    "car_train = pd.read_csv('https://raw.githubusercontent.com/a-milenkin/Competitive_Data_Science/main/data/car_train.csv')\n",
    "car_train.sample(5)"
   ]
  },
  {
   "cell_type": "markdown",
   "metadata": {
    "id": "AWvQSnafbuhu"
   },
   "source": [
    "- `car_id` — идентификатор машины\n",
    "- `model` / `car_type` / `fuel_type` — марка, класс и тип топлива машины\n",
    "- `car_rating` / `riders` — общий рейтинг и общее число поездок к концу 2021 года\n",
    "- `year_to_start` / `year_to_work` — год выпуска машины и год начала работы в автопарке\n",
    "- `target_reg` — количество дней до поломки\n",
    "- `target_class` — класс поломки (всего 9 видов)"
   ]
  },
  {
   "cell_type": "markdown",
   "metadata": {
    "id": "6KWf2LgObuhu"
   },
   "source": [
    "### Информация про поездки"
   ]
  },
  {
   "cell_type": "code",
   "execution_count": 4,
   "metadata": {
    "id": "pDc5gXzbbuhu",
    "outputId": "53849f03-cf5e-4773-e68e-7d4ba6ed5e37",
    "tags": []
   },
   "outputs": [
    {
     "data": {
      "text/html": [
       "<div>\n",
       "<style scoped>\n",
       "    .dataframe tbody tr th:only-of-type {\n",
       "        vertical-align: middle;\n",
       "    }\n",
       "\n",
       "    .dataframe tbody tr th {\n",
       "        vertical-align: top;\n",
       "    }\n",
       "\n",
       "    .dataframe thead th {\n",
       "        text-align: right;\n",
       "    }\n",
       "</style>\n",
       "<table border=\"1\" class=\"dataframe\">\n",
       "  <thead>\n",
       "    <tr style=\"text-align: right;\">\n",
       "      <th></th>\n",
       "      <th>user_id</th>\n",
       "      <th>car_id</th>\n",
       "      <th>ride_id</th>\n",
       "      <th>ride_date</th>\n",
       "      <th>rating</th>\n",
       "      <th>ride_duration</th>\n",
       "      <th>ride_cost</th>\n",
       "      <th>speed_avg</th>\n",
       "      <th>speed_max</th>\n",
       "      <th>stop_times</th>\n",
       "      <th>distance</th>\n",
       "      <th>refueling</th>\n",
       "      <th>user_ride_quality</th>\n",
       "      <th>deviation_normal</th>\n",
       "    </tr>\n",
       "  </thead>\n",
       "  <tbody>\n",
       "    <tr>\n",
       "      <th>379744</th>\n",
       "      <td>k21732040N</td>\n",
       "      <td>b-1350184G</td>\n",
       "      <td>v1H</td>\n",
       "      <td>2020-02-10</td>\n",
       "      <td>0.92</td>\n",
       "      <td>93</td>\n",
       "      <td>1298</td>\n",
       "      <td>58</td>\n",
       "      <td>93.165548</td>\n",
       "      <td>0</td>\n",
       "      <td>5402.480389</td>\n",
       "      <td>0</td>\n",
       "      <td>6.167405</td>\n",
       "      <td>0.001</td>\n",
       "    </tr>\n",
       "    <tr>\n",
       "      <th>619725</th>\n",
       "      <td>C74570848M</td>\n",
       "      <td>r67742622z</td>\n",
       "      <td>n1n</td>\n",
       "      <td>2020-02-29</td>\n",
       "      <td>4.84</td>\n",
       "      <td>52</td>\n",
       "      <td>671</td>\n",
       "      <td>35</td>\n",
       "      <td>72.000000</td>\n",
       "      <td>1</td>\n",
       "      <td>1797.722974</td>\n",
       "      <td>0</td>\n",
       "      <td>-2.235432</td>\n",
       "      <td>6.225</td>\n",
       "    </tr>\n",
       "    <tr>\n",
       "      <th>98546</th>\n",
       "      <td>T11392225L</td>\n",
       "      <td>H-1873611C</td>\n",
       "      <td>v1V</td>\n",
       "      <td>2020-02-02</td>\n",
       "      <td>4.18</td>\n",
       "      <td>281</td>\n",
       "      <td>3929</td>\n",
       "      <td>32</td>\n",
       "      <td>63.000000</td>\n",
       "      <td>1</td>\n",
       "      <td>971.306524</td>\n",
       "      <td>0</td>\n",
       "      <td>12.097646</td>\n",
       "      <td>-1.506</td>\n",
       "    </tr>\n",
       "    <tr>\n",
       "      <th>655918</th>\n",
       "      <td>B11922223Q</td>\n",
       "      <td>u-2300894n</td>\n",
       "      <td>D1w</td>\n",
       "      <td>2020-02-29</td>\n",
       "      <td>4.30</td>\n",
       "      <td>850</td>\n",
       "      <td>10195</td>\n",
       "      <td>38</td>\n",
       "      <td>83.000000</td>\n",
       "      <td>3</td>\n",
       "      <td>1927.977025</td>\n",
       "      <td>0</td>\n",
       "      <td>2.972538</td>\n",
       "      <td>43.230</td>\n",
       "    </tr>\n",
       "    <tr>\n",
       "      <th>395471</th>\n",
       "      <td>b22756062P</td>\n",
       "      <td>c-1171224N</td>\n",
       "      <td>g1T</td>\n",
       "      <td>2020-03-16</td>\n",
       "      <td>5.26</td>\n",
       "      <td>14</td>\n",
       "      <td>109</td>\n",
       "      <td>38</td>\n",
       "      <td>67.000000</td>\n",
       "      <td>1</td>\n",
       "      <td>502.767924</td>\n",
       "      <td>0</td>\n",
       "      <td>1.511819</td>\n",
       "      <td>41.484</td>\n",
       "    </tr>\n",
       "  </tbody>\n",
       "</table>\n",
       "</div>"
      ],
      "text/plain": [
       "           user_id      car_id ride_id   ride_date  rating  ride_duration  \\\n",
       "379744  k21732040N  b-1350184G     v1H  2020-02-10    0.92             93   \n",
       "619725  C74570848M  r67742622z     n1n  2020-02-29    4.84             52   \n",
       "98546   T11392225L  H-1873611C     v1V  2020-02-02    4.18            281   \n",
       "655918  B11922223Q  u-2300894n     D1w  2020-02-29    4.30            850   \n",
       "395471  b22756062P  c-1171224N     g1T  2020-03-16    5.26             14   \n",
       "\n",
       "        ride_cost  speed_avg  speed_max  stop_times     distance  refueling  \\\n",
       "379744       1298         58  93.165548           0  5402.480389          0   \n",
       "619725        671         35  72.000000           1  1797.722974          0   \n",
       "98546        3929         32  63.000000           1   971.306524          0   \n",
       "655918      10195         38  83.000000           3  1927.977025          0   \n",
       "395471        109         38  67.000000           1   502.767924          0   \n",
       "\n",
       "        user_ride_quality  deviation_normal  \n",
       "379744           6.167405             0.001  \n",
       "619725          -2.235432             6.225  \n",
       "98546           12.097646            -1.506  \n",
       "655918           2.972538            43.230  \n",
       "395471           1.511819            41.484  "
      ]
     },
     "execution_count": 4,
     "metadata": {},
     "output_type": "execute_result"
    }
   ],
   "source": [
    "rides_info = pd.read_csv('https://raw.githubusercontent.com/a-milenkin/Competitive_Data_Science/main/data/rides_info.csv')\n",
    "rides_info.sample(5)"
   ]
  },
  {
   "cell_type": "markdown",
   "metadata": {
    "id": "ZAn8S24sbuhv"
   },
   "source": [
    "- `user_id` / `car_id` / `ride_id` — идентификаторы водителя, машины, поездки соответственно\n",
    "- `ride_date` / `rating` — дата поездки и рейтинг, поставленный водителем\n",
    "- `ride_duration` / `distance` / `ride_cost` —  длительность (время),  пройденное расстояние, стоимость поездки\n",
    "- `speed_avg` / `speed_max` — средняя и максимальная скорости поездки соответственно\n",
    "- `stop_times` / `refueling` — количество остановок (паузы) и флаг: была ли дозаправка\n",
    "- `user_ride_quality` — оценка манеры вождения водителя машины, определенная скоринговой ML-системой сервиса\n",
    "- `deviation_normal` — общий показатель датчиков о состоянии машины, относительно эталонных показателей (нормы)"
   ]
  },
  {
   "cell_type": "markdown",
   "metadata": {
    "id": "O0Onuz4ybuhv"
   },
   "source": [
    "### Информация про водителей"
   ]
  },
  {
   "cell_type": "code",
   "execution_count": 5,
   "metadata": {
    "id": "WBEvQXhxbuhv",
    "outputId": "80c61226-f3e4-445c-e122-d019200a5fbb",
    "tags": []
   },
   "outputs": [
    {
     "data": {
      "text/html": [
       "<div>\n",
       "<style scoped>\n",
       "    .dataframe tbody tr th:only-of-type {\n",
       "        vertical-align: middle;\n",
       "    }\n",
       "\n",
       "    .dataframe tbody tr th {\n",
       "        vertical-align: top;\n",
       "    }\n",
       "\n",
       "    .dataframe thead th {\n",
       "        text-align: right;\n",
       "    }\n",
       "</style>\n",
       "<table border=\"1\" class=\"dataframe\">\n",
       "  <thead>\n",
       "    <tr style=\"text-align: right;\">\n",
       "      <th></th>\n",
       "      <th>age</th>\n",
       "      <th>user_rating</th>\n",
       "      <th>user_rides</th>\n",
       "      <th>user_time_accident</th>\n",
       "      <th>user_id</th>\n",
       "      <th>sex</th>\n",
       "      <th>first_ride_date</th>\n",
       "    </tr>\n",
       "  </thead>\n",
       "  <tbody>\n",
       "    <tr>\n",
       "      <th>3547</th>\n",
       "      <td>26</td>\n",
       "      <td>8.7</td>\n",
       "      <td>178</td>\n",
       "      <td>18.0</td>\n",
       "      <td>G18731004m</td>\n",
       "      <td>1</td>\n",
       "      <td>2019-10-1</td>\n",
       "    </tr>\n",
       "    <tr>\n",
       "      <th>10165</th>\n",
       "      <td>25</td>\n",
       "      <td>6.2</td>\n",
       "      <td>1426</td>\n",
       "      <td>3.0</td>\n",
       "      <td>L21966981S</td>\n",
       "      <td>1</td>\n",
       "      <td>2018-8-9</td>\n",
       "    </tr>\n",
       "    <tr>\n",
       "      <th>5673</th>\n",
       "      <td>24</td>\n",
       "      <td>8.5</td>\n",
       "      <td>305</td>\n",
       "      <td>12.0</td>\n",
       "      <td>U13341664e</td>\n",
       "      <td>1</td>\n",
       "      <td>2020-5-3</td>\n",
       "    </tr>\n",
       "    <tr>\n",
       "      <th>7414</th>\n",
       "      <td>44</td>\n",
       "      <td>8.6</td>\n",
       "      <td>1019</td>\n",
       "      <td>16.0</td>\n",
       "      <td>n14237361v</td>\n",
       "      <td>0</td>\n",
       "      <td>2021-2-5</td>\n",
       "    </tr>\n",
       "    <tr>\n",
       "      <th>2621</th>\n",
       "      <td>36</td>\n",
       "      <td>9.8</td>\n",
       "      <td>74</td>\n",
       "      <td>20.0</td>\n",
       "      <td>g77944625d</td>\n",
       "      <td>1</td>\n",
       "      <td>2019-12-6</td>\n",
       "    </tr>\n",
       "  </tbody>\n",
       "</table>\n",
       "</div>"
      ],
      "text/plain": [
       "       age  user_rating  user_rides  user_time_accident     user_id  sex  \\\n",
       "3547    26          8.7         178                18.0  G18731004m    1   \n",
       "10165   25          6.2        1426                 3.0  L21966981S    1   \n",
       "5673    24          8.5         305                12.0  U13341664e    1   \n",
       "7414    44          8.6        1019                16.0  n14237361v    0   \n",
       "2621    36          9.8          74                20.0  g77944625d    1   \n",
       "\n",
       "      first_ride_date  \n",
       "3547        2019-10-1  \n",
       "10165        2018-8-9  \n",
       "5673         2020-5-3  \n",
       "7414         2021-2-5  \n",
       "2621        2019-12-6  "
      ]
     },
     "execution_count": 5,
     "metadata": {},
     "output_type": "execute_result"
    }
   ],
   "source": [
    "driver_info = pd.read_csv('https://raw.githubusercontent.com/a-milenkin/Competitive_Data_Science/main/data/driver_info.csv')\n",
    "driver_info.sample(5)"
   ]
  },
  {
   "cell_type": "markdown",
   "metadata": {
    "id": "ubFE8w-Kbuhv"
   },
   "source": [
    "- `user_id` / `age` / `sex` — идентификатор, возраст и пол водителя, соответственно\n",
    "- `user_rating` — общий рейтинг пользователя за все поездки к концу 2021 года\n",
    "- `user_rides` — общее количество поездок к концу 2021 года\n",
    "- `user_time_accident` — число инцидентов (это могли быть аварии/штрафы/эвакуация машины)  \n",
    "- `first_ride_date` — дата первой поездки"
   ]
  },
  {
   "cell_type": "markdown",
   "metadata": {
    "id": "cXDdvlHYbuhv"
   },
   "source": [
    "### Информация про ремонт машин"
   ]
  },
  {
   "cell_type": "code",
   "execution_count": 6,
   "metadata": {
    "id": "eVTjvBspbuhv",
    "outputId": "6ac51c57-542d-45d3-9465-5e4da7a4e4ae",
    "tags": []
   },
   "outputs": [
    {
     "data": {
      "text/html": [
       "<div>\n",
       "<style scoped>\n",
       "    .dataframe tbody tr th:only-of-type {\n",
       "        vertical-align: middle;\n",
       "    }\n",
       "\n",
       "    .dataframe tbody tr th {\n",
       "        vertical-align: top;\n",
       "    }\n",
       "\n",
       "    .dataframe thead th {\n",
       "        text-align: right;\n",
       "    }\n",
       "</style>\n",
       "<table border=\"1\" class=\"dataframe\">\n",
       "  <thead>\n",
       "    <tr style=\"text-align: right;\">\n",
       "      <th></th>\n",
       "      <th>car_id</th>\n",
       "      <th>worker_id</th>\n",
       "      <th>fix_date</th>\n",
       "      <th>work_type</th>\n",
       "      <th>destroy_degree</th>\n",
       "      <th>work_duration</th>\n",
       "    </tr>\n",
       "  </thead>\n",
       "  <tbody>\n",
       "    <tr>\n",
       "      <th>83081</th>\n",
       "      <td>w12773963K</td>\n",
       "      <td>EL</td>\n",
       "      <td>2020-3-8 18:2</td>\n",
       "      <td>reparking</td>\n",
       "      <td>1.0</td>\n",
       "      <td>28</td>\n",
       "    </tr>\n",
       "    <tr>\n",
       "      <th>70551</th>\n",
       "      <td>v22456431E</td>\n",
       "      <td>NW</td>\n",
       "      <td>2021-9-11 10:25</td>\n",
       "      <td>repair</td>\n",
       "      <td>6.1</td>\n",
       "      <td>23</td>\n",
       "    </tr>\n",
       "    <tr>\n",
       "      <th>130682</th>\n",
       "      <td>w-1633549j</td>\n",
       "      <td>WB</td>\n",
       "      <td>2021-5-18 20:47</td>\n",
       "      <td>repair</td>\n",
       "      <td>6.1</td>\n",
       "      <td>23</td>\n",
       "    </tr>\n",
       "    <tr>\n",
       "      <th>57966</th>\n",
       "      <td>W17258092O</td>\n",
       "      <td>WW</td>\n",
       "      <td>2019-5-16 20:0</td>\n",
       "      <td>repair</td>\n",
       "      <td>5.0</td>\n",
       "      <td>18</td>\n",
       "    </tr>\n",
       "    <tr>\n",
       "      <th>22503</th>\n",
       "      <td>B11239506t</td>\n",
       "      <td>YZ</td>\n",
       "      <td>2020-3-4 11:46</td>\n",
       "      <td>reparking</td>\n",
       "      <td>1.0</td>\n",
       "      <td>32</td>\n",
       "    </tr>\n",
       "  </tbody>\n",
       "</table>\n",
       "</div>"
      ],
      "text/plain": [
       "            car_id worker_id         fix_date  work_type  destroy_degree  \\\n",
       "83081   w12773963K        EL    2020-3-8 18:2  reparking             1.0   \n",
       "70551   v22456431E        NW  2021-9-11 10:25     repair             6.1   \n",
       "130682  w-1633549j        WB  2021-5-18 20:47     repair             6.1   \n",
       "57966   W17258092O        WW   2019-5-16 20:0     repair             5.0   \n",
       "22503   B11239506t        YZ   2020-3-4 11:46  reparking             1.0   \n",
       "\n",
       "        work_duration  \n",
       "83081              28  \n",
       "70551              23  \n",
       "130682             23  \n",
       "57966              18  \n",
       "22503              32  "
      ]
     },
     "execution_count": 6,
     "metadata": {},
     "output_type": "execute_result"
    }
   ],
   "source": [
    "fix_info = pd.read_csv('https://raw.githubusercontent.com/a-milenkin/Competitive_Data_Science/main/data/fix_info.csv')\n",
    "fix_info.sample(5)"
   ]
  },
  {
   "cell_type": "markdown",
   "metadata": {
    "id": "H01U-FFAbuhv"
   },
   "source": [
    "- `worker_id` / `car_id` — идентификатор работника и машины\n",
    "- `work_type` / `work_duration` — тип и длительность (в часах) проводимой работы\n",
    "- `destroy_degree` — степень износа/поврежденности машины в случае поломки\n",
    "- `fix_date` — время начала ремонта (снятия машины с линии)"
   ]
  },
  {
   "cell_type": "markdown",
   "metadata": {
    "id": "qY-lAjlhbuhv"
   },
   "source": [
    "# Домашнее задание 1. Генерация и фильтрация признаков"
   ]
  },
  {
   "cell_type": "markdown",
   "metadata": {
    "id": "9E2N9m5Cbuhv"
   },
   "source": [
    "<center> <img src=\"https://ucarecdn.com/bf4c772d-b67a-42ae-a48b-cfd83910b0a2/\" width=700>"
   ]
  },
  {
   "cell_type": "markdown",
   "metadata": {
    "id": "HaroHWSBbuhw"
   },
   "source": [
    "<div class=\"alert alert-info\">\n",
    "\n",
    "**Цель блока** — сгенерировать признаки из дополнительных датасетов и добавить их к основному датасету, произвести фильтрацию признаков."
   ]
  },
  {
   "cell_type": "markdown",
   "metadata": {
    "id": "wev7E_qlbuhw"
   },
   "source": [
    "    \n",
    "## Задание 1. Генерация признаков из дополнительных датасетов (6 баллов)"
   ]
  },
  {
   "cell_type": "markdown",
   "metadata": {
    "id": "CSX4pA5Kbuhw"
   },
   "source": [
    "<div class=\"alert alert-info\">\n",
    "\n",
    "1. Возьмите датасет `rides_info` с информацией о поездках и проведите группировку по каждой машине отдельно.\n",
    "\n",
    "2. Для каждой машины (то есть для каждого `car_id`) подсчитайте несколько признаков:\n",
    "  - минимальный рейтинг за все поездки;\n",
    "  - средний рейтинг за все поездки;\n",
    "  - общее количество километров, которое машина проехала;\n",
    "  - максимальная скорость;\n",
    "  - общее количество поездок для каждой машины.\n",
    "\n",
    "3. Добавьте минимум 3 признака на свой выбор.\n",
    "\n",
    "4. Сделайте соединение таблиц — вспомните про методы соединения и выберите подходящий для этого случая.\n",
    "\n",
    "5. Подключите информацию про водителей (`driver_info`) и про ремонт машин (`fix_info`). Добавьте минимум 3 любых признака с каждого датасета.\n",
    "\n",
    "\n",
    "<h4> Критерии оценивания </h4>\n",
    "    \n",
    "- Добавлены 5 обязательных и минимум 3 любых признака из датасета `rides_info` — 2 балла.\n",
    "- Добавлены минимум 3 любых признака из датасета `driver_info` — 2 балла.\n",
    "- Добавлены минимум 3 любых признака из датасета `fix_info` — 2 балла.\n",
    "\n",
    "</div>"
   ]
  },
  {
   "cell_type": "markdown",
   "metadata": {
    "id": "kfAs9dZHbuhw"
   },
   "source": [
    "<div class=\"alert alert-success\">\n",
    "    \n",
    "<h4> Советы по Feature Engineering</h4>\n",
    "    \n",
    "- Начинайте с сырых данных.\n",
    "- Используйте все доступные данные. Покрывайте признаками всю имеющуюся информацию в данных.\n",
    "- Формулируйте предположения: от чего зависит таргет?\n",
    "- Смотрите визуально на классы/ошибки и делайте предположения. Какие полезны?\n",
    "- Помните, что слишком много признаков может быть вредно. Потом придется отфильтровывать.\n",
    "    \n",
    "<h4> Полезные источники </h4>\n",
    "    \n",
    "- Занятие про Feature Engineering.\n",
    "- Занятие про Feature Selection.\n",
    "- [Max Kuhn and Kjell Johnson. Feature Engineering and Selection: A Practical Approach for Predictive Models](http://www.feat.engineering/)."
   ]
  },
  {
   "cell_type": "markdown",
   "metadata": {
    "id": "n5pkVaw0eszI"
   },
   "source": [
    "### Пример расчета признака"
   ]
  },
  {
   "cell_type": "markdown",
   "metadata": {
    "id": "7_jt9yAabuhw",
    "tags": []
   },
   "source": [
    "### Идеи для новых признаков\n",
    "\n",
    "1.   Новый пункт\n",
    "2.   Новый пункт\n",
    "\n"
   ]
  },
  {
   "cell_type": "markdown",
   "metadata": {
    "id": "kLgu7UaofIyr"
   },
   "source": [
    "* `feature_min_max_diff` — разница между максимальным и минимальным значениями `deviation_normal` для каждой машины\n",
    "* `feature_corner` — угол наклона по признаку `user_ride_quality` для каждой машины\n",
    "* `feature_mean` — среднее значение `deviation_normal` для каждой машины\n",
    "* `feature_shift` — точка перегиба/сдвига для `deviation_normal`\n",
    "* `feature_start` — значение точки старта для `deviation_normal`\n",
    "* `feature_nans` — сумма пропусков для столбца `...` для каждой машины\n",
    "* `feature_quant` — `X %` квантиль для столбца `...` для каждой машины\n",
    "\n",
    "Подумайте, какие из признаков могут оказаться самыми полезными?"
   ]
  },
  {
   "cell_type": "markdown",
   "metadata": {},
   "source": [
    "## 1.Возьмите датасет rides_info с информацией о поездках и проведите группировку по каждой машине отдельно.\n",
    "## 2.Для каждой машины (то есть для каждого car_id) подсчитайте несколько признаков:\n",
    "- минимальный рейтинг за все поездки;\n",
    "- средний рейтинг за все поездки;\n",
    "- общее количество километров, которое машина проехала;\n",
    "- максимальная скорость;\n",
    "- общее количество поездок для каждой машины."
   ]
  },
  {
   "cell_type": "code",
   "execution_count": 7,
   "metadata": {},
   "outputs": [
    {
     "data": {
      "text/html": [
       "<div>\n",
       "<style scoped>\n",
       "    .dataframe tbody tr th:only-of-type {\n",
       "        vertical-align: middle;\n",
       "    }\n",
       "\n",
       "    .dataframe tbody tr th {\n",
       "        vertical-align: top;\n",
       "    }\n",
       "\n",
       "    .dataframe thead th {\n",
       "        text-align: right;\n",
       "    }\n",
       "</style>\n",
       "<table border=\"1\" class=\"dataframe\">\n",
       "  <thead>\n",
       "    <tr style=\"text-align: right;\">\n",
       "      <th></th>\n",
       "      <th>car_id</th>\n",
       "      <th>min_rating</th>\n",
       "      <th>avg_rating</th>\n",
       "      <th>total_distance</th>\n",
       "      <th>max_speed</th>\n",
       "      <th>total_rides</th>\n",
       "    </tr>\n",
       "  </thead>\n",
       "  <tbody>\n",
       "    <tr>\n",
       "      <th>0</th>\n",
       "      <td>A-1049127W</td>\n",
       "      <td>0.1</td>\n",
       "      <td>4.255172</td>\n",
       "      <td>1.125753e+07</td>\n",
       "      <td>179.729652</td>\n",
       "      <td>174</td>\n",
       "    </tr>\n",
       "  </tbody>\n",
       "</table>\n",
       "</div>"
      ],
      "text/plain": [
       "       car_id  min_rating  avg_rating  total_distance   max_speed  total_rides\n",
       "0  A-1049127W         0.1    4.255172    1.125753e+07  179.729652          174"
      ]
     },
     "execution_count": 7,
     "metadata": {},
     "output_type": "execute_result"
    }
   ],
   "source": [
    "# Группировка по каждой машине и расчет статистик\n",
    "grouped_rides = rides_info.groupby('car_id').agg(\n",
    "    \n",
    "    min_rating=('rating', 'min'),\n",
    "    avg_rating=('rating', 'mean'),\n",
    "    total_distance=('distance', 'sum'),\n",
    "    max_speed=('speed_max', 'max'),\n",
    "    total_rides=('ride_id', 'count')\n",
    ").reset_index()\n",
    "\n",
    "grouped_rides.head(1)"
   ]
  },
  {
   "cell_type": "markdown",
   "metadata": {},
   "source": [
    "## 3. Добавьте минимум 3 признака на свой выбор"
   ]
  },
  {
   "cell_type": "code",
   "execution_count": 8,
   "metadata": {},
   "outputs": [
    {
     "data": {
      "text/html": [
       "<div>\n",
       "<style scoped>\n",
       "    .dataframe tbody tr th:only-of-type {\n",
       "        vertical-align: middle;\n",
       "    }\n",
       "\n",
       "    .dataframe tbody tr th {\n",
       "        vertical-align: top;\n",
       "    }\n",
       "\n",
       "    .dataframe thead th {\n",
       "        text-align: right;\n",
       "    }\n",
       "</style>\n",
       "<table border=\"1\" class=\"dataframe\">\n",
       "  <thead>\n",
       "    <tr style=\"text-align: right;\">\n",
       "      <th></th>\n",
       "      <th>car_id</th>\n",
       "      <th>min_rating</th>\n",
       "      <th>avg_rating</th>\n",
       "      <th>total_distance</th>\n",
       "      <th>max_speed</th>\n",
       "      <th>total_rides</th>\n",
       "      <th>stops_per_100km</th>\n",
       "      <th>percentage_speed_over_45</th>\n",
       "      <th>avg_speed_deviation_from_avg</th>\n",
       "      <th>avg_stop_times</th>\n",
       "      <th>avg_deviation_normal</th>\n",
       "    </tr>\n",
       "  </thead>\n",
       "  <tbody>\n",
       "    <tr>\n",
       "      <th>0</th>\n",
       "      <td>A-1049127W</td>\n",
       "      <td>0.1</td>\n",
       "      <td>4.255172</td>\n",
       "      <td>1.125753e+07</td>\n",
       "      <td>179.729652</td>\n",
       "      <td>174</td>\n",
       "      <td>0.118979</td>\n",
       "      <td>51.724138</td>\n",
       "      <td>11.85128</td>\n",
       "      <td>0.816092</td>\n",
       "      <td>-6.136672</td>\n",
       "    </tr>\n",
       "  </tbody>\n",
       "</table>\n",
       "</div>"
      ],
      "text/plain": [
       "       car_id  min_rating  avg_rating  total_distance   max_speed  \\\n",
       "0  A-1049127W         0.1    4.255172    1.125753e+07  179.729652   \n",
       "\n",
       "   total_rides  stops_per_100km  percentage_speed_over_45  \\\n",
       "0          174         0.118979                 51.724138   \n",
       "\n",
       "   avg_speed_deviation_from_avg  avg_stop_times  avg_deviation_normal  \n",
       "0                      11.85128        0.816092             -6.136672  "
      ]
     },
     "execution_count": 8,
     "metadata": {},
     "output_type": "execute_result"
    }
   ],
   "source": [
    "# 1. Расчет частоты остановок и стартов на 100 км\n",
    "rides_info['stops_per_100km'] = (rides_info['stop_times'] / rides_info['distance']) * 100\n",
    "\n",
    "# 2. Расчет процента поездок с превышением средней скорости выше 45 км/ч\n",
    "rides_info['speed_over_45'] = rides_info['speed_avg'] > 45\n",
    "percentage_over_45 = rides_info.groupby('car_id')['speed_over_45'].mean() * 100\n",
    "\n",
    "# 3. Среднее отклонение скорости от средней по автопарку\n",
    "avg_speed_overall = rides_info['speed_avg'].mean()\n",
    "rides_info['speed_deviation_from_avg'] = abs(rides_info['speed_avg'] - avg_speed_overall)\n",
    "avg_speed_deviation_per_car = rides_info.groupby('car_id')['speed_deviation_from_avg'].mean()\n",
    "\n",
    "# Объединение новых признаков с уже существующими данными\n",
    "new_features = pd.DataFrame({\n",
    "    'car_id': rides_info['car_id'].unique(),\n",
    "    'stops_per_100km': rides_info.groupby('car_id')['stops_per_100km'].mean(),\n",
    "    'percentage_speed_over_45': percentage_over_45,\n",
    "    'avg_speed_deviation_from_avg': avg_speed_deviation_per_car\n",
    "}).reset_index(drop=True)\n",
    "\n",
    "grouped_rides = pd.merge(grouped_rides, new_features, on='car_id', how='left')\n",
    "\n",
    "# Дополнительные признаки\n",
    "additional_features = rides_info.groupby('car_id').agg(\n",
    "    avg_stop_times=('stop_times', 'mean'),\n",
    "    avg_deviation_normal=('deviation_normal', 'mean')\n",
    ").reset_index()\n",
    "\n",
    "# Объединение дополнительных признаков с уже существующими данными\n",
    "enhanced_grouped_rides = pd.merge(grouped_rides, additional_features, on='car_id', how='left')\n",
    "\n",
    "# Вывод первой строки обновленного DataFrame для проверки\n",
    "enhanced_grouped_rides.head(1)"
   ]
  },
  {
   "cell_type": "markdown",
   "metadata": {},
   "source": [
    "- Частота остановок и стартов на 100 км `stops_per_100km`. Показывает, сколько раз в среднем автомобиль останавливается и снова начинает движение на каждые 100 км пройденного пути. Это может помочь выявить потенциальный износ тормозной системы и двигателя.\n",
    "\n",
    "- Процент поездок с превышением средней скорости выше 45 км/ч `percentage_speed_over_45`. Отражает долю поездок, во время которых средняя скорость превышала 45 км/ч. Этот признак может указывать на агрессивное вождение, что увеличивает риск износа и поломок.\n",
    "\n",
    "-  Среднее отклонение скорости от средней по автопарку `avg_speed_deviation_from_avg`. Представляет собой среднее абсолютное отклонение средней скорости каждого автомобиля от средней скорости по всему автопарку. Это может помочь выявить автомобили, чья эксплуатация значительно отличается от средней, что потенциально может свидетельствовать о повышенном риске износа или поломок.\n",
    "\n",
    "- Среднее количество остановок на поездку `avg_stop_times`. Это может указывать на стиль вождения или типы маршрутов, которые выбирает водитель.\n",
    "\n",
    "- Среднее отклонение от нормы `avg_deviation_normal`."
   ]
  },
  {
   "cell_type": "markdown",
   "metadata": {},
   "source": [
    "# 4. Сделайте соединение таблиц — вспомните про методы соединения и выберите подходящий для этого случая."
   ]
  },
  {
   "cell_type": "code",
   "execution_count": 10,
   "metadata": {},
   "outputs": [
    {
     "data": {
      "text/html": [
       "<div>\n",
       "<style scoped>\n",
       "    .dataframe tbody tr th:only-of-type {\n",
       "        vertical-align: middle;\n",
       "    }\n",
       "\n",
       "    .dataframe tbody tr th {\n",
       "        vertical-align: top;\n",
       "    }\n",
       "\n",
       "    .dataframe thead th {\n",
       "        text-align: right;\n",
       "    }\n",
       "</style>\n",
       "<table border=\"1\" class=\"dataframe\">\n",
       "  <thead>\n",
       "    <tr style=\"text-align: right;\">\n",
       "      <th></th>\n",
       "      <th>car_id</th>\n",
       "      <th>model</th>\n",
       "      <th>car_type</th>\n",
       "      <th>fuel_type</th>\n",
       "      <th>car_rating</th>\n",
       "      <th>year_to_start</th>\n",
       "      <th>riders</th>\n",
       "      <th>year_to_work</th>\n",
       "      <th>target_reg</th>\n",
       "      <th>target_class</th>\n",
       "      <th>min_rating</th>\n",
       "      <th>avg_rating</th>\n",
       "      <th>total_distance</th>\n",
       "      <th>max_speed</th>\n",
       "      <th>total_rides</th>\n",
       "      <th>stops_per_100km</th>\n",
       "      <th>percentage_speed_over_45</th>\n",
       "      <th>avg_speed_deviation_from_avg</th>\n",
       "      <th>avg_stop_times</th>\n",
       "      <th>avg_deviation_normal</th>\n",
       "    </tr>\n",
       "  </thead>\n",
       "  <tbody>\n",
       "    <tr>\n",
       "      <th>0</th>\n",
       "      <td>y13744087j</td>\n",
       "      <td>Kia Rio X-line</td>\n",
       "      <td>economy</td>\n",
       "      <td>petrol</td>\n",
       "      <td>3.78</td>\n",
       "      <td>2015</td>\n",
       "      <td>76163</td>\n",
       "      <td>2021</td>\n",
       "      <td>108.53</td>\n",
       "      <td>another_bug</td>\n",
       "      <td>0.1</td>\n",
       "      <td>4.737759</td>\n",
       "      <td>1.214131e+07</td>\n",
       "      <td>180.855726</td>\n",
       "      <td>174</td>\n",
       "      <td>0.287586</td>\n",
       "      <td>45.402299</td>\n",
       "      <td>8.088746</td>\n",
       "      <td>3.62069</td>\n",
       "      <td>-0.120391</td>\n",
       "    </tr>\n",
       "  </tbody>\n",
       "</table>\n",
       "</div>"
      ],
      "text/plain": [
       "       car_id           model car_type fuel_type  car_rating  year_to_start  \\\n",
       "0  y13744087j  Kia Rio X-line  economy    petrol        3.78           2015   \n",
       "\n",
       "   riders  year_to_work  target_reg target_class  min_rating  avg_rating  \\\n",
       "0   76163          2021      108.53  another_bug         0.1    4.737759   \n",
       "\n",
       "   total_distance   max_speed  total_rides  stops_per_100km  \\\n",
       "0    1.214131e+07  180.855726          174         0.287586   \n",
       "\n",
       "   percentage_speed_over_45  avg_speed_deviation_from_avg  avg_stop_times  \\\n",
       "0                 45.402299                      8.088746         3.62069   \n",
       "\n",
       "   avg_deviation_normal  \n",
       "0             -0.120391  "
      ]
     },
     "execution_count": 10,
     "metadata": {},
     "output_type": "execute_result"
    }
   ],
   "source": [
    "# Используем merge для соединения car_train и enhanced_grouped_rides по car_id\n",
    "full_car_info = pd.merge(car_train, enhanced_grouped_rides, on='car_id', how='left')\n",
    "\n",
    "full_car_info.head(1)"
   ]
  },
  {
   "cell_type": "markdown",
   "metadata": {},
   "source": [
    "## 5.Подключите информацию про водителей (driver_info) и про ремонт машин (fix_info).  Добавьте минимум 3 любых признака с каждого датасета\n",
    "\n",
    "Я буду использовать метод merge() для объединения датасетов по соответствующим ключам. \n"
   ]
  },
  {
   "cell_type": "code",
   "execution_count": 11,
   "metadata": {},
   "outputs": [
    {
     "data": {
      "text/html": [
       "<div>\n",
       "<style scoped>\n",
       "    .dataframe tbody tr th:only-of-type {\n",
       "        vertical-align: middle;\n",
       "    }\n",
       "\n",
       "    .dataframe tbody tr th {\n",
       "        vertical-align: top;\n",
       "    }\n",
       "\n",
       "    .dataframe thead th {\n",
       "        text-align: right;\n",
       "    }\n",
       "</style>\n",
       "<table border=\"1\" class=\"dataframe\">\n",
       "  <thead>\n",
       "    <tr style=\"text-align: right;\">\n",
       "      <th></th>\n",
       "      <th>car_id</th>\n",
       "      <th>model</th>\n",
       "      <th>car_type</th>\n",
       "      <th>fuel_type</th>\n",
       "      <th>car_rating</th>\n",
       "      <th>year_to_start</th>\n",
       "      <th>riders</th>\n",
       "      <th>year_to_work</th>\n",
       "      <th>target_reg</th>\n",
       "      <th>target_class</th>\n",
       "      <th>...</th>\n",
       "      <th>deviation_normal</th>\n",
       "      <th>stops_per_100km_y</th>\n",
       "      <th>speed_over_45</th>\n",
       "      <th>speed_deviation_from_avg</th>\n",
       "      <th>age</th>\n",
       "      <th>user_rating</th>\n",
       "      <th>user_time_accident</th>\n",
       "      <th>fix_date</th>\n",
       "      <th>work_type</th>\n",
       "      <th>destroy_degree</th>\n",
       "    </tr>\n",
       "  </thead>\n",
       "  <tbody>\n",
       "    <tr>\n",
       "      <th>0</th>\n",
       "      <td>y13744087j</td>\n",
       "      <td>Kia Rio X-line</td>\n",
       "      <td>economy</td>\n",
       "      <td>petrol</td>\n",
       "      <td>3.78</td>\n",
       "      <td>2015</td>\n",
       "      <td>76163</td>\n",
       "      <td>2021</td>\n",
       "      <td>108.53</td>\n",
       "      <td>another_bug</td>\n",
       "      <td>...</td>\n",
       "      <td>0.0</td>\n",
       "      <td>0.3566</td>\n",
       "      <td>False</td>\n",
       "      <td>5.01227</td>\n",
       "      <td>38</td>\n",
       "      <td>7.4</td>\n",
       "      <td>2.0</td>\n",
       "      <td>2019-8-10 9:29</td>\n",
       "      <td>reparking</td>\n",
       "      <td>1.0</td>\n",
       "    </tr>\n",
       "  </tbody>\n",
       "</table>\n",
       "<p>1 rows × 42 columns</p>\n",
       "</div>"
      ],
      "text/plain": [
       "       car_id           model car_type fuel_type  car_rating  year_to_start  \\\n",
       "0  y13744087j  Kia Rio X-line  economy    petrol        3.78           2015   \n",
       "\n",
       "   riders  year_to_work  target_reg target_class  ...  deviation_normal  \\\n",
       "0   76163          2021      108.53  another_bug  ...               0.0   \n",
       "\n",
       "   stops_per_100km_y  speed_over_45  speed_deviation_from_avg  age  \\\n",
       "0             0.3566          False                   5.01227   38   \n",
       "\n",
       "   user_rating  user_time_accident        fix_date  work_type  destroy_degree  \n",
       "0          7.4                 2.0  2019-8-10 9:29  reparking             1.0  \n",
       "\n",
       "[1 rows x 42 columns]"
      ]
     },
     "execution_count": 11,
     "metadata": {},
     "output_type": "execute_result"
    }
   ],
   "source": [
    "# Присоединяем rides_info к full_car_info по car_id\n",
    "full_car_rides = pd.merge(full_car_info, rides_info, on='car_id', how='left')\n",
    "\n",
    "# Присоединяем driver_info к full_car_rides по user_id\n",
    "full_car_drivers = pd.merge(full_car_rides, driver_info[['user_id', 'age', 'user_rating', 'user_time_accident']], on='user_id', how='left')\n",
    "\n",
    "# Присоединяем fix_info к full_car_drivers по car_id, выбирая нужные столбцы\n",
    "final_df = pd.merge(full_car_drivers, fix_info[['car_id', 'fix_date', 'work_type', 'destroy_degree']], on='car_id', how='left', suffixes=('', '_fix'))\n",
    "\n",
    "final_df.head(1)"
   ]
  },
  {
   "cell_type": "code",
   "execution_count": 12,
   "metadata": {},
   "outputs": [
    {
     "data": {
      "text/html": [
       "<div>\n",
       "<style scoped>\n",
       "    .dataframe tbody tr th:only-of-type {\n",
       "        vertical-align: middle;\n",
       "    }\n",
       "\n",
       "    .dataframe tbody tr th {\n",
       "        vertical-align: top;\n",
       "    }\n",
       "\n",
       "    .dataframe thead th {\n",
       "        text-align: right;\n",
       "    }\n",
       "</style>\n",
       "<table border=\"1\" class=\"dataframe\">\n",
       "  <thead>\n",
       "    <tr style=\"text-align: right;\">\n",
       "      <th></th>\n",
       "      <th>Столбец</th>\n",
       "      <th>Пропущено в %</th>\n",
       "      <th>Строк пропущено</th>\n",
       "    </tr>\n",
       "  </thead>\n",
       "  <tbody>\n",
       "    <tr>\n",
       "      <th>38</th>\n",
       "      <td>user_time_accident</td>\n",
       "      <td>13.17</td>\n",
       "      <td>1943425</td>\n",
       "    </tr>\n",
       "    <tr>\n",
       "      <th>27</th>\n",
       "      <td>speed_max</td>\n",
       "      <td>0.45</td>\n",
       "      <td>1943425</td>\n",
       "    </tr>\n",
       "    <tr>\n",
       "      <th>31</th>\n",
       "      <td>user_ride_quality</td>\n",
       "      <td>0.37</td>\n",
       "      <td>1943425</td>\n",
       "    </tr>\n",
       "    <tr>\n",
       "      <th>0</th>\n",
       "      <td>car_id</td>\n",
       "      <td>0.00</td>\n",
       "      <td>1943425</td>\n",
       "    </tr>\n",
       "    <tr>\n",
       "      <th>23</th>\n",
       "      <td>rating</td>\n",
       "      <td>0.00</td>\n",
       "      <td>1943425</td>\n",
       "    </tr>\n",
       "    <tr>\n",
       "      <th>24</th>\n",
       "      <td>ride_duration</td>\n",
       "      <td>0.00</td>\n",
       "      <td>1943425</td>\n",
       "    </tr>\n",
       "    <tr>\n",
       "      <th>25</th>\n",
       "      <td>ride_cost</td>\n",
       "      <td>0.00</td>\n",
       "      <td>1943425</td>\n",
       "    </tr>\n",
       "    <tr>\n",
       "      <th>26</th>\n",
       "      <td>speed_avg</td>\n",
       "      <td>0.00</td>\n",
       "      <td>1943425</td>\n",
       "    </tr>\n",
       "    <tr>\n",
       "      <th>28</th>\n",
       "      <td>stop_times</td>\n",
       "      <td>0.00</td>\n",
       "      <td>1943425</td>\n",
       "    </tr>\n",
       "    <tr>\n",
       "      <th>29</th>\n",
       "      <td>distance</td>\n",
       "      <td>0.00</td>\n",
       "      <td>1943425</td>\n",
       "    </tr>\n",
       "    <tr>\n",
       "      <th>30</th>\n",
       "      <td>refueling</td>\n",
       "      <td>0.00</td>\n",
       "      <td>1943425</td>\n",
       "    </tr>\n",
       "    <tr>\n",
       "      <th>32</th>\n",
       "      <td>deviation_normal</td>\n",
       "      <td>0.00</td>\n",
       "      <td>1943425</td>\n",
       "    </tr>\n",
       "    <tr>\n",
       "      <th>1</th>\n",
       "      <td>model</td>\n",
       "      <td>0.00</td>\n",
       "      <td>1943425</td>\n",
       "    </tr>\n",
       "    <tr>\n",
       "      <th>33</th>\n",
       "      <td>stops_per_100km_y</td>\n",
       "      <td>0.00</td>\n",
       "      <td>1943425</td>\n",
       "    </tr>\n",
       "    <tr>\n",
       "      <th>34</th>\n",
       "      <td>speed_over_45</td>\n",
       "      <td>0.00</td>\n",
       "      <td>1943425</td>\n",
       "    </tr>\n",
       "    <tr>\n",
       "      <th>35</th>\n",
       "      <td>speed_deviation_from_avg</td>\n",
       "      <td>0.00</td>\n",
       "      <td>1943425</td>\n",
       "    </tr>\n",
       "    <tr>\n",
       "      <th>36</th>\n",
       "      <td>age</td>\n",
       "      <td>0.00</td>\n",
       "      <td>1943425</td>\n",
       "    </tr>\n",
       "    <tr>\n",
       "      <th>37</th>\n",
       "      <td>user_rating</td>\n",
       "      <td>0.00</td>\n",
       "      <td>1943425</td>\n",
       "    </tr>\n",
       "    <tr>\n",
       "      <th>39</th>\n",
       "      <td>fix_date</td>\n",
       "      <td>0.00</td>\n",
       "      <td>1943425</td>\n",
       "    </tr>\n",
       "    <tr>\n",
       "      <th>40</th>\n",
       "      <td>work_type</td>\n",
       "      <td>0.00</td>\n",
       "      <td>1943425</td>\n",
       "    </tr>\n",
       "    <tr>\n",
       "      <th>22</th>\n",
       "      <td>ride_date</td>\n",
       "      <td>0.00</td>\n",
       "      <td>1943425</td>\n",
       "    </tr>\n",
       "    <tr>\n",
       "      <th>21</th>\n",
       "      <td>ride_id</td>\n",
       "      <td>0.00</td>\n",
       "      <td>1943425</td>\n",
       "    </tr>\n",
       "    <tr>\n",
       "      <th>20</th>\n",
       "      <td>user_id</td>\n",
       "      <td>0.00</td>\n",
       "      <td>1943425</td>\n",
       "    </tr>\n",
       "    <tr>\n",
       "      <th>19</th>\n",
       "      <td>avg_deviation_normal</td>\n",
       "      <td>0.00</td>\n",
       "      <td>1943425</td>\n",
       "    </tr>\n",
       "    <tr>\n",
       "      <th>2</th>\n",
       "      <td>car_type</td>\n",
       "      <td>0.00</td>\n",
       "      <td>1943425</td>\n",
       "    </tr>\n",
       "    <tr>\n",
       "      <th>3</th>\n",
       "      <td>fuel_type</td>\n",
       "      <td>0.00</td>\n",
       "      <td>1943425</td>\n",
       "    </tr>\n",
       "    <tr>\n",
       "      <th>4</th>\n",
       "      <td>car_rating</td>\n",
       "      <td>0.00</td>\n",
       "      <td>1943425</td>\n",
       "    </tr>\n",
       "    <tr>\n",
       "      <th>5</th>\n",
       "      <td>year_to_start</td>\n",
       "      <td>0.00</td>\n",
       "      <td>1943425</td>\n",
       "    </tr>\n",
       "    <tr>\n",
       "      <th>6</th>\n",
       "      <td>riders</td>\n",
       "      <td>0.00</td>\n",
       "      <td>1943425</td>\n",
       "    </tr>\n",
       "    <tr>\n",
       "      <th>7</th>\n",
       "      <td>year_to_work</td>\n",
       "      <td>0.00</td>\n",
       "      <td>1943425</td>\n",
       "    </tr>\n",
       "    <tr>\n",
       "      <th>8</th>\n",
       "      <td>target_reg</td>\n",
       "      <td>0.00</td>\n",
       "      <td>1943425</td>\n",
       "    </tr>\n",
       "    <tr>\n",
       "      <th>9</th>\n",
       "      <td>target_class</td>\n",
       "      <td>0.00</td>\n",
       "      <td>1943425</td>\n",
       "    </tr>\n",
       "    <tr>\n",
       "      <th>10</th>\n",
       "      <td>min_rating</td>\n",
       "      <td>0.00</td>\n",
       "      <td>1943425</td>\n",
       "    </tr>\n",
       "    <tr>\n",
       "      <th>11</th>\n",
       "      <td>avg_rating</td>\n",
       "      <td>0.00</td>\n",
       "      <td>1943425</td>\n",
       "    </tr>\n",
       "    <tr>\n",
       "      <th>12</th>\n",
       "      <td>total_distance</td>\n",
       "      <td>0.00</td>\n",
       "      <td>1943425</td>\n",
       "    </tr>\n",
       "    <tr>\n",
       "      <th>13</th>\n",
       "      <td>max_speed</td>\n",
       "      <td>0.00</td>\n",
       "      <td>1943425</td>\n",
       "    </tr>\n",
       "    <tr>\n",
       "      <th>14</th>\n",
       "      <td>total_rides</td>\n",
       "      <td>0.00</td>\n",
       "      <td>1943425</td>\n",
       "    </tr>\n",
       "    <tr>\n",
       "      <th>15</th>\n",
       "      <td>stops_per_100km_x</td>\n",
       "      <td>0.00</td>\n",
       "      <td>1943425</td>\n",
       "    </tr>\n",
       "    <tr>\n",
       "      <th>16</th>\n",
       "      <td>percentage_speed_over_45</td>\n",
       "      <td>0.00</td>\n",
       "      <td>1943425</td>\n",
       "    </tr>\n",
       "    <tr>\n",
       "      <th>17</th>\n",
       "      <td>avg_speed_deviation_from_avg</td>\n",
       "      <td>0.00</td>\n",
       "      <td>1943425</td>\n",
       "    </tr>\n",
       "    <tr>\n",
       "      <th>18</th>\n",
       "      <td>avg_stop_times</td>\n",
       "      <td>0.00</td>\n",
       "      <td>1943425</td>\n",
       "    </tr>\n",
       "    <tr>\n",
       "      <th>41</th>\n",
       "      <td>destroy_degree</td>\n",
       "      <td>0.00</td>\n",
       "      <td>1943425</td>\n",
       "    </tr>\n",
       "  </tbody>\n",
       "</table>\n",
       "</div>"
      ],
      "text/plain": [
       "                         Столбец  Пропущено в %  Строк пропущено\n",
       "38            user_time_accident          13.17          1943425\n",
       "27                     speed_max           0.45          1943425\n",
       "31             user_ride_quality           0.37          1943425\n",
       "0                         car_id           0.00          1943425\n",
       "23                        rating           0.00          1943425\n",
       "24                 ride_duration           0.00          1943425\n",
       "25                     ride_cost           0.00          1943425\n",
       "26                     speed_avg           0.00          1943425\n",
       "28                    stop_times           0.00          1943425\n",
       "29                      distance           0.00          1943425\n",
       "30                     refueling           0.00          1943425\n",
       "32              deviation_normal           0.00          1943425\n",
       "1                          model           0.00          1943425\n",
       "33             stops_per_100km_y           0.00          1943425\n",
       "34                 speed_over_45           0.00          1943425\n",
       "35      speed_deviation_from_avg           0.00          1943425\n",
       "36                           age           0.00          1943425\n",
       "37                   user_rating           0.00          1943425\n",
       "39                      fix_date           0.00          1943425\n",
       "40                     work_type           0.00          1943425\n",
       "22                     ride_date           0.00          1943425\n",
       "21                       ride_id           0.00          1943425\n",
       "20                       user_id           0.00          1943425\n",
       "19          avg_deviation_normal           0.00          1943425\n",
       "2                       car_type           0.00          1943425\n",
       "3                      fuel_type           0.00          1943425\n",
       "4                     car_rating           0.00          1943425\n",
       "5                  year_to_start           0.00          1943425\n",
       "6                         riders           0.00          1943425\n",
       "7                   year_to_work           0.00          1943425\n",
       "8                     target_reg           0.00          1943425\n",
       "9                   target_class           0.00          1943425\n",
       "10                    min_rating           0.00          1943425\n",
       "11                    avg_rating           0.00          1943425\n",
       "12                total_distance           0.00          1943425\n",
       "13                     max_speed           0.00          1943425\n",
       "14                   total_rides           0.00          1943425\n",
       "15             stops_per_100km_x           0.00          1943425\n",
       "16      percentage_speed_over_45           0.00          1943425\n",
       "17  avg_speed_deviation_from_avg           0.00          1943425\n",
       "18                avg_stop_times           0.00          1943425\n",
       "41                destroy_degree           0.00          1943425"
      ]
     },
     "execution_count": 12,
     "metadata": {},
     "output_type": "execute_result"
    }
   ],
   "source": [
    "# Используем функцию для анализа датафрейма train_df_cleaned\n",
    "missing_data_summary_5 = check_missing_values(final_df)\n",
    "missing_data_summary_5"
   ]
  },
  {
   "cell_type": "markdown",
   "metadata": {},
   "source": [
    "Метод был выбран с учётом необходимости объединения информации из различных источников для получения полной картины состояния автопарка, включая характеристики водителей и историю обслуживания каждого автомобиля. В данном случае, ключевой элемент связи — `rides_info`, который позволяет связать информацию о водителях `driver_info` и информацию о ремонтах `fix_info` с конкретными автомобилями `full_car_info` через поездки. Выбор такого подхода направлен на создание основы для комплексного анализа, который может включать изучение взаимосвязи между характеристиками водителя и состоянием автомобиля, анализ влияния ремонтов на общую оценку автомобилей, и др. аспекты, важные для управления автопарком и повышения качества обслуживания клиентов.\n",
    "\n",
    "Из `driver_info` выбраны колонки: `age`, `user_rating`, `sex`\n",
    "\n",
    "- `age`: Возраст водителя может быть важным фактором, влияющим на стиль вождения, опыт и, потенциально, на безопасность поездок.\n",
    "- `user_rating`: Рейтинг водителя напрямую отражает удовлетворенность клиентов услугами водителя. Это ключевой показатель качества сервиса.\n",
    "- `sex`: Предполагаю, что пол водителя включён в анализ, возможно, для исследования статистических различий в показателях вождения или предпочтениях клиентов.\n",
    "\n",
    "Из `fix_info`выбраны колонки: `fix_date`, `work_type`, `destroy_degree`\n",
    "\n",
    "`fix_date`: Дата последнего ремонта может помочь оценить текущее техническое состояние автомобиля и планировать будущее обслуживание.\n",
    "`work_type`: Тип проведённых работ дает понимание о характере вмешательства в автомобиль, будь то регулярное техобслуживание или устранение неисправности.\n",
    "`destroy_degree`: Степень повреждения автомобиля при последнем ремонте может указывать на серьёзность происшествий или износа, с которыми автомобиль сталкивался в прошлом."
   ]
  },
  {
   "cell_type": "markdown",
   "metadata": {
    "id": "Q6Fa0zupbuhw"
   },
   "source": [
    "## Задание 2. Применение методов фильтрации признаков (4 балла)\n",
    "\n",
    "<center> <img src=\"https://ucarecdn.com/d1b4bc78-fd04-44fb-bdbf-0a63355b7384/\" width=700>"
   ]
  },
  {
   "cell_type": "markdown",
   "metadata": {
    "id": "c910L9jubuhx"
   },
   "source": [
    "1. Выберите и примените любые 3 (можно и больше) метода фильтрации, которые указаны выше или в ноутбуке по фильтрации из полезных ссылок.\n",
    "2. Проинтерпретируйте результаты и сделайте выводы.\n",
    "\n",
    "\n",
    "<h4> Критерии оценивания </h4>\n",
    "    \n",
    "- Применены методы фильтрации — 1 балл за каждый метод, максимум 3 балла.\n",
    "- Сделаны выводы на основе примененных методов —1 балл.\n",
    "</div>"
   ]
  },
  {
   "cell_type": "markdown",
   "metadata": {
    "id": "9flWgKVxf9Q1"
   },
   "source": [
    "### Советы по Feature Selection"
   ]
  },
  {
   "cell_type": "markdown",
   "metadata": {
    "id": "vYr9VNS5buhw"
   },
   "source": [
    "<div class=\"alert alert-info\">\n",
    "\n",
    "<h3><center>Зачем отбирать признаки</center></h3>\n",
    "    \n",
    "**Основные причины**:\n",
    "    \n",
    "- Главная причина: с увеличением количества признаков часто падает точность предсказания модели, а некоторые модели и вовсе перестают адекватно работать. Так происходит, если в данных большое количество мусорных фичей (почти не коррелирующих с таргетом).\n",
    "\n",
    "- Если фичей очень много, то данные перестают помещаться в память и существенно увеличивают время обучения модели, особенно если мы тестируем несколько алгоритмов или ансамбль. Также важно учитывать, что платформы имеют ограничения на длительность одной сессии (в Kaggle — 12 часов) и лимиты по потребляемой памяти.\n",
    "\n",
    "- Даже если точность не снижается, есть риск, что модель опирается на шумные фичи, что снизит стабильность прогноза на приватной выборке.\n"
   ]
  },
  {
   "cell_type": "markdown",
   "metadata": {
    "id": "P4JQwUS3buhw"
   },
   "source": [
    "<b>Что удалить сразу:</b>\n",
    "    \n",
    "- константы;\n",
    "- уникальные значения (в том числе в тесте; как правило, это ID-шники по типу `car_id`).\n",
    "    \n",
    "<b>Какие методы использовать:</b>\n",
    "    \n",
    "- `Линейная корреляция`.\n",
    "- `Phik` — тоже корреляция, но на стероидах ([туториал на Medium](https://towardsdatascience.com/phik-k-get-familiar-with-the-latest-correlation-coefficient-9ba0032b37e7)).\n",
    "- `Permutation importance` (из `scikit-learn`).\n",
    "- `SHAP values` (из библиотеки `shap`).\n",
    "- `CatBoost Feature Selection` (рекурсивные методы).\n",
    "    "
   ]
  },
  {
   "cell_type": "code",
   "execution_count": 10,
   "metadata": {
    "id": "UT2ndUSHbuhx"
   },
   "outputs": [],
   "source": [
    "#!pip install catboost shap -q"
   ]
  },
  {
   "cell_type": "code",
   "execution_count": 13,
   "metadata": {},
   "outputs": [
    {
     "name": "stdout",
     "output_type": "stream",
     "text": [
      "Удалены столбцы: ['user_id', 'total_rides', 'ride_id', 'car_id']\n"
     ]
    },
    {
     "data": {
      "text/html": [
       "<div>\n",
       "<style scoped>\n",
       "    .dataframe tbody tr th:only-of-type {\n",
       "        vertical-align: middle;\n",
       "    }\n",
       "\n",
       "    .dataframe tbody tr th {\n",
       "        vertical-align: top;\n",
       "    }\n",
       "\n",
       "    .dataframe thead th {\n",
       "        text-align: right;\n",
       "    }\n",
       "</style>\n",
       "<table border=\"1\" class=\"dataframe\">\n",
       "  <thead>\n",
       "    <tr style=\"text-align: right;\">\n",
       "      <th></th>\n",
       "      <th>model</th>\n",
       "      <th>car_type</th>\n",
       "      <th>fuel_type</th>\n",
       "      <th>car_rating</th>\n",
       "      <th>year_to_start</th>\n",
       "      <th>riders</th>\n",
       "      <th>year_to_work</th>\n",
       "      <th>target_reg</th>\n",
       "      <th>target_class</th>\n",
       "      <th>min_rating</th>\n",
       "      <th>avg_rating</th>\n",
       "      <th>total_distance</th>\n",
       "      <th>max_speed</th>\n",
       "      <th>stops_per_100km_x</th>\n",
       "      <th>percentage_speed_over_45</th>\n",
       "      <th>avg_speed_deviation_from_avg</th>\n",
       "      <th>avg_stop_times</th>\n",
       "      <th>avg_deviation_normal</th>\n",
       "      <th>ride_date</th>\n",
       "      <th>rating</th>\n",
       "      <th>ride_duration</th>\n",
       "      <th>ride_cost</th>\n",
       "      <th>speed_avg</th>\n",
       "      <th>speed_max</th>\n",
       "      <th>stop_times</th>\n",
       "      <th>distance</th>\n",
       "      <th>refueling</th>\n",
       "      <th>user_ride_quality</th>\n",
       "      <th>deviation_normal</th>\n",
       "      <th>stops_per_100km_y</th>\n",
       "      <th>speed_over_45</th>\n",
       "      <th>speed_deviation_from_avg</th>\n",
       "      <th>age</th>\n",
       "      <th>user_rating</th>\n",
       "      <th>user_time_accident</th>\n",
       "      <th>fix_date</th>\n",
       "      <th>work_type</th>\n",
       "      <th>destroy_degree</th>\n",
       "    </tr>\n",
       "  </thead>\n",
       "  <tbody>\n",
       "    <tr>\n",
       "      <th>0</th>\n",
       "      <td>Kia Rio X-line</td>\n",
       "      <td>economy</td>\n",
       "      <td>petrol</td>\n",
       "      <td>3.78</td>\n",
       "      <td>2015</td>\n",
       "      <td>76163</td>\n",
       "      <td>2021</td>\n",
       "      <td>108.53</td>\n",
       "      <td>another_bug</td>\n",
       "      <td>0.1</td>\n",
       "      <td>4.737759</td>\n",
       "      <td>1.214131e+07</td>\n",
       "      <td>180.855726</td>\n",
       "      <td>0.287586</td>\n",
       "      <td>45.402299</td>\n",
       "      <td>8.088746</td>\n",
       "      <td>3.62069</td>\n",
       "      <td>-0.120391</td>\n",
       "      <td>2020-01-01</td>\n",
       "      <td>5.72</td>\n",
       "      <td>220</td>\n",
       "      <td>3514</td>\n",
       "      <td>42</td>\n",
       "      <td>NaN</td>\n",
       "      <td>6</td>\n",
       "      <td>1682.556402</td>\n",
       "      <td>0</td>\n",
       "      <td>0.52475</td>\n",
       "      <td>0.0</td>\n",
       "      <td>0.3566</td>\n",
       "      <td>False</td>\n",
       "      <td>5.01227</td>\n",
       "      <td>38</td>\n",
       "      <td>7.4</td>\n",
       "      <td>2.0</td>\n",
       "      <td>2019-8-10 9:29</td>\n",
       "      <td>reparking</td>\n",
       "      <td>1.0</td>\n",
       "    </tr>\n",
       "  </tbody>\n",
       "</table>\n",
       "</div>"
      ],
      "text/plain": [
       "            model car_type fuel_type  car_rating  year_to_start  riders  \\\n",
       "0  Kia Rio X-line  economy    petrol        3.78           2015   76163   \n",
       "\n",
       "   year_to_work  target_reg target_class  min_rating  avg_rating  \\\n",
       "0          2021      108.53  another_bug         0.1    4.737759   \n",
       "\n",
       "   total_distance   max_speed  stops_per_100km_x  percentage_speed_over_45  \\\n",
       "0    1.214131e+07  180.855726           0.287586                 45.402299   \n",
       "\n",
       "   avg_speed_deviation_from_avg  avg_stop_times  avg_deviation_normal  \\\n",
       "0                      8.088746         3.62069             -0.120391   \n",
       "\n",
       "    ride_date  rating  ride_duration  ride_cost  speed_avg  speed_max  \\\n",
       "0  2020-01-01    5.72            220       3514         42        NaN   \n",
       "\n",
       "   stop_times     distance  refueling  user_ride_quality  deviation_normal  \\\n",
       "0           6  1682.556402          0            0.52475               0.0   \n",
       "\n",
       "   stops_per_100km_y  speed_over_45  speed_deviation_from_avg  age  \\\n",
       "0             0.3566          False                   5.01227   38   \n",
       "\n",
       "   user_rating  user_time_accident        fix_date  work_type  destroy_degree  \n",
       "0          7.4                 2.0  2019-8-10 9:29  reparking             1.0  "
      ]
     },
     "execution_count": 13,
     "metadata": {},
     "output_type": "execute_result"
    }
   ],
   "source": [
    "# Сразу дропаем \n",
    "# - константы;\n",
    "# - уникальные значения (в том числе в тесте; как правило, это ID-шники по типу car_id).\n",
    "\n",
    "## Определение столбцов с константными значениями\n",
    "constant_columns = [col for col in final_df.columns if final_df[col].nunique() == 1]\n",
    "\n",
    "# Определение столбцов с уникальными значениями (исключая NaN)\n",
    "unique_value_columns = [col for col in final_df.columns if final_df[col].nunique() == final_df.shape[0]]\n",
    "\n",
    "# Уникальные значения\n",
    "id_columns = ['user_id', 'car_id', 'ride_id']\n",
    "\n",
    "# Объединение списков столбцов для удаления\n",
    "columns_to_drop = list(set(constant_columns + unique_value_columns + id_columns))\n",
    "\n",
    "# Удаление столбцов из final_df\n",
    "final_df_cleaned = final_df.drop(columns=columns_to_drop)\n",
    "\n",
    "print(f\"Удалены столбцы: {columns_to_drop}\")\n",
    "\n",
    "pd.set_option('display.max_columns', None)\n",
    "final_df_cleaned.head(1)"
   ]
  },
  {
   "cell_type": "markdown",
   "metadata": {},
   "source": [
    "Датасет весьма большой и чтобы начать оптимизировать компьют, изначально переведу типы данных из 64 разрядных в 32 разрядные. Для этого напишу функцию `convert_dtypes`."
   ]
  },
  {
   "cell_type": "code",
   "execution_count": 14,
   "metadata": {},
   "outputs": [],
   "source": [
    "def convert_dtypes(final_df_cleaned):\n",
    "    \"\"\"\n",
    "    Преобразует типы данных столбцов в датасете final_df_cleaned:\n",
    "    int64 в int32 и float64 в float32.\n",
    "\n",
    "    Параметры:\n",
    "    final_df_cleaned (pd.DataFrame): Исходный датасет для преобразования.\n",
    "\n",
    "    Возвращает:\n",
    "    pd.DataFrame: Датасет с преобразованными типами данных.\n",
    "    \"\"\"\n",
    "    for column in final_df_cleaned.columns:\n",
    "        if final_df_cleaned[column].dtype == 'int64':\n",
    "            final_df_cleaned[column] = final_df_cleaned[column].astype('int32')\n",
    "        elif final_df_cleaned[column].dtype == 'float64':\n",
    "            final_df_cleaned[column] = final_df_cleaned[column].astype('float32')\n",
    "    \n",
    "    return final_df_cleaned\n",
    "\n",
    "final_df_cleaned = convert_dtypes(final_df_cleaned)"
   ]
  },
  {
   "cell_type": "code",
   "execution_count": 15,
   "metadata": {},
   "outputs": [
    {
     "data": {
      "text/plain": [
       "(13970460, 38)"
      ]
     },
     "execution_count": 15,
     "metadata": {},
     "output_type": "execute_result"
    }
   ],
   "source": [
    "final_df_cleaned.shape"
   ]
  },
  {
   "cell_type": "markdown",
   "metadata": {},
   "source": [
    "Почти 14 миллионов наблюдений, это очень много. Для того чтобы продолжить выполнение задания, оптимизируем процесс и сократим выборку до 20% от первоначальой выборки."
   ]
  },
  {
   "cell_type": "code",
   "execution_count": 16,
   "metadata": {},
   "outputs": [
    {
     "data": {
      "text/plain": [
       "(2794092, 38)"
      ]
     },
     "execution_count": 16,
     "metadata": {},
     "output_type": "execute_result"
    }
   ],
   "source": [
    "sampled_df = final_df_cleaned.sample(frac=0.2, random_state=42)\n",
    "sampled_df.shape"
   ]
  },
  {
   "cell_type": "markdown",
   "metadata": {},
   "source": [
    "Осталось почти 3 миллиона наблюдений, все еще много, но думается, с таким набором шансов на успешный feature importance повышаются :)"
   ]
  },
  {
   "cell_type": "code",
   "execution_count": null,
   "metadata": {},
   "outputs": [],
   "source": [
    "# Посмотрим на репрезентативность нашей выборки, на основании следующих переменных\n",
    "variables = ['car_rating', 'avg_rating', 'user_rating', 'age', 'total_distance']\n",
    "\n",
    "for var in variables:\n",
    "    plt.figure(figsize=(10, 4))\n",
    "    sns.histplot(final_df_cleaned[var], color=\"blue\", label=\"Исходный датасет\", kde=True, stat=\"density\", linewidth=0)\n",
    "    sns.histplot(sampled_df[var], color=\"red\", label=\"Выборка\", kde=True, stat=\"density\", linewidth=0, alpha=0.5)\n",
    "    plt.legend()\n",
    "    plt.title(f'Распределение {var}')\n",
    "    plt.show()"
   ]
  },
  {
   "cell_type": "markdown",
   "metadata": {},
   "source": [
    "Проведем t-test"
   ]
  },
  {
   "cell_type": "code",
   "execution_count": null,
   "metadata": {},
   "outputs": [],
   "source": [
    "from scipy.stats import ttest_ind\n",
    "\n",
    "# Для каждой ключевой переменной выполним t-тест\n",
    "results = []\n",
    "for var in variables:\n",
    "    stat, p = ttest_ind(final_df_cleaned[var], sampled_df[var])\n",
    "    results.append((var, stat, p))\n",
    "\n",
    "# Выведем результаты\n",
    "print(\"Переменная\\tСтатистика t\\tP-value\")\n",
    "for res in results:\n",
    "    print(f\"{res[0]}\\t{res[1]:.2f}\\t{res[2]:.3f}\")"
   ]
  },
  {
   "cell_type": "markdown",
   "metadata": {},
   "source": [
    "### Способ № 1 Feature importance (CatBoost)"
   ]
  },
  {
   "cell_type": "code",
   "execution_count": 19,
   "metadata": {},
   "outputs": [],
   "source": [
    "from catboost import CatBoostRegressor, Pool, CatBoostClassifier\n",
    "from sklearn.metrics import classification_report, accuracy_score\n",
    "from sklearn.model_selection import train_test_split\n",
    "\n",
    "# Подготовка данных\n",
    "X = sampled_df.drop(['target_class'], axis=1, errors='ignore')  # Удаляем только целевую переменную\n",
    "y = sampled_df['target_class'].fillna(0)\n",
    "\n",
    "# Категориальные колонки\n",
    "cat_features = ['model', 'car_type', 'fuel_type', 'ride_date', 'fix_date', 'work_type']\n",
    "\n",
    "# Разделение данных на обучающую и тестовую выборки\n",
    "X_train, X_test, y_train, y_test = train_test_split(X, y, test_size=0.2, random_state=42)"
   ]
  },
  {
   "cell_type": "code",
   "execution_count": 17,
   "metadata": {},
   "outputs": [
    {
     "name": "stdout",
     "output_type": "stream",
     "text": [
      "0:\tlearn: 1.5341200\ttest: 1.5339644\tbest: 1.5339644 (0)\ttotal: 15.4s\tremaining: 25m 26s\n",
      "99:\tlearn: 0.0038430\ttest: 0.0012890\tbest: 0.0012890 (99)\ttotal: 30m 51s\tremaining: 0us\n",
      "\n",
      "bestTest = 0.001289038056\n",
      "bestIteration = 99\n",
      "\n"
     ]
    },
    {
     "data": {
      "text/html": [
       "<div>\n",
       "<style scoped>\n",
       "    .dataframe tbody tr th:only-of-type {\n",
       "        vertical-align: middle;\n",
       "    }\n",
       "\n",
       "    .dataframe tbody tr th {\n",
       "        vertical-align: top;\n",
       "    }\n",
       "\n",
       "    .dataframe thead th {\n",
       "        text-align: right;\n",
       "    }\n",
       "</style>\n",
       "<table border=\"1\" class=\"dataframe\">\n",
       "  <thead>\n",
       "    <tr style=\"text-align: right;\">\n",
       "      <th></th>\n",
       "      <th>Importance</th>\n",
       "    </tr>\n",
       "  </thead>\n",
       "  <tbody>\n",
       "    <tr>\n",
       "      <th>avg_stop_times</th>\n",
       "      <td>13.661148</td>\n",
       "    </tr>\n",
       "    <tr>\n",
       "      <th>avg_rating</th>\n",
       "      <td>13.550781</td>\n",
       "    </tr>\n",
       "    <tr>\n",
       "      <th>min_rating</th>\n",
       "      <td>13.081249</td>\n",
       "    </tr>\n",
       "    <tr>\n",
       "      <th>max_speed</th>\n",
       "      <td>12.977432</td>\n",
       "    </tr>\n",
       "    <tr>\n",
       "      <th>fix_date</th>\n",
       "      <td>12.110997</td>\n",
       "    </tr>\n",
       "    <tr>\n",
       "      <th>target_reg</th>\n",
       "      <td>11.537035</td>\n",
       "    </tr>\n",
       "    <tr>\n",
       "      <th>avg_speed_deviation_from_avg</th>\n",
       "      <td>10.773911</td>\n",
       "    </tr>\n",
       "    <tr>\n",
       "      <th>percentage_speed_over_45</th>\n",
       "      <td>2.391606</td>\n",
       "    </tr>\n",
       "    <tr>\n",
       "      <th>user_time_accident</th>\n",
       "      <td>1.967124</td>\n",
       "    </tr>\n",
       "    <tr>\n",
       "      <th>stops_per_100km_x</th>\n",
       "      <td>1.781896</td>\n",
       "    </tr>\n",
       "    <tr>\n",
       "      <th>destroy_degree</th>\n",
       "      <td>1.551753</td>\n",
       "    </tr>\n",
       "    <tr>\n",
       "      <th>avg_deviation_normal</th>\n",
       "      <td>1.139357</td>\n",
       "    </tr>\n",
       "    <tr>\n",
       "      <th>total_distance</th>\n",
       "      <td>0.693896</td>\n",
       "    </tr>\n",
       "    <tr>\n",
       "      <th>model</th>\n",
       "      <td>0.578895</td>\n",
       "    </tr>\n",
       "    <tr>\n",
       "      <th>car_rating</th>\n",
       "      <td>0.531828</td>\n",
       "    </tr>\n",
       "    <tr>\n",
       "      <th>year_to_work</th>\n",
       "      <td>0.381782</td>\n",
       "    </tr>\n",
       "    <tr>\n",
       "      <th>speed_max</th>\n",
       "      <td>0.343910</td>\n",
       "    </tr>\n",
       "    <tr>\n",
       "      <th>riders</th>\n",
       "      <td>0.291633</td>\n",
       "    </tr>\n",
       "    <tr>\n",
       "      <th>year_to_start</th>\n",
       "      <td>0.170041</td>\n",
       "    </tr>\n",
       "    <tr>\n",
       "      <th>car_type</th>\n",
       "      <td>0.127876</td>\n",
       "    </tr>\n",
       "    <tr>\n",
       "      <th>deviation_normal</th>\n",
       "      <td>0.122973</td>\n",
       "    </tr>\n",
       "    <tr>\n",
       "      <th>user_rating</th>\n",
       "      <td>0.081720</td>\n",
       "    </tr>\n",
       "    <tr>\n",
       "      <th>fuel_type</th>\n",
       "      <td>0.040901</td>\n",
       "    </tr>\n",
       "    <tr>\n",
       "      <th>user_ride_quality</th>\n",
       "      <td>0.033265</td>\n",
       "    </tr>\n",
       "    <tr>\n",
       "      <th>speed_deviation_from_avg</th>\n",
       "      <td>0.015332</td>\n",
       "    </tr>\n",
       "    <tr>\n",
       "      <th>ride_date</th>\n",
       "      <td>0.012937</td>\n",
       "    </tr>\n",
       "    <tr>\n",
       "      <th>rating</th>\n",
       "      <td>0.011500</td>\n",
       "    </tr>\n",
       "    <tr>\n",
       "      <th>stops_per_100km_y</th>\n",
       "      <td>0.011259</td>\n",
       "    </tr>\n",
       "    <tr>\n",
       "      <th>speed_avg</th>\n",
       "      <td>0.008702</td>\n",
       "    </tr>\n",
       "    <tr>\n",
       "      <th>age</th>\n",
       "      <td>0.007136</td>\n",
       "    </tr>\n",
       "    <tr>\n",
       "      <th>ride_duration</th>\n",
       "      <td>0.006163</td>\n",
       "    </tr>\n",
       "    <tr>\n",
       "      <th>distance</th>\n",
       "      <td>0.003898</td>\n",
       "    </tr>\n",
       "    <tr>\n",
       "      <th>work_type</th>\n",
       "      <td>0.000063</td>\n",
       "    </tr>\n",
       "    <tr>\n",
       "      <th>speed_over_45</th>\n",
       "      <td>0.000000</td>\n",
       "    </tr>\n",
       "    <tr>\n",
       "      <th>stop_times</th>\n",
       "      <td>0.000000</td>\n",
       "    </tr>\n",
       "    <tr>\n",
       "      <th>ride_cost</th>\n",
       "      <td>0.000000</td>\n",
       "    </tr>\n",
       "    <tr>\n",
       "      <th>refueling</th>\n",
       "      <td>0.000000</td>\n",
       "    </tr>\n",
       "  </tbody>\n",
       "</table>\n",
       "</div>"
      ],
      "text/plain": [
       "                              Importance\n",
       "avg_stop_times                 13.661148\n",
       "avg_rating                     13.550781\n",
       "min_rating                     13.081249\n",
       "max_speed                      12.977432\n",
       "fix_date                       12.110997\n",
       "target_reg                     11.537035\n",
       "avg_speed_deviation_from_avg   10.773911\n",
       "percentage_speed_over_45        2.391606\n",
       "user_time_accident              1.967124\n",
       "stops_per_100km_x               1.781896\n",
       "destroy_degree                  1.551753\n",
       "avg_deviation_normal            1.139357\n",
       "total_distance                  0.693896\n",
       "model                           0.578895\n",
       "car_rating                      0.531828\n",
       "year_to_work                    0.381782\n",
       "speed_max                       0.343910\n",
       "riders                          0.291633\n",
       "year_to_start                   0.170041\n",
       "car_type                        0.127876\n",
       "deviation_normal                0.122973\n",
       "user_rating                     0.081720\n",
       "fuel_type                       0.040901\n",
       "user_ride_quality               0.033265\n",
       "speed_deviation_from_avg        0.015332\n",
       "ride_date                       0.012937\n",
       "rating                          0.011500\n",
       "stops_per_100km_y               0.011259\n",
       "speed_avg                       0.008702\n",
       "age                             0.007136\n",
       "ride_duration                   0.006163\n",
       "distance                        0.003898\n",
       "work_type                       0.000063\n",
       "speed_over_45                   0.000000\n",
       "stop_times                      0.000000\n",
       "ride_cost                       0.000000\n",
       "refueling                       0.000000"
      ]
     },
     "execution_count": 17,
     "metadata": {},
     "output_type": "execute_result"
    }
   ],
   "source": [
    "# Создание объектов Pool\n",
    "pool_train = Pool(X_train, y_train, cat_features=cat_features)\n",
    "pool_test = Pool(X_test, y_test, cat_features=cat_features)\n",
    "\n",
    "# Инициализация и обучение модели CatBoost\n",
    "model = CatBoostClassifier(\n",
    "    iterations=100,\n",
    "    learning_rate=0.1,\n",
    "    depth=10,\n",
    "    cat_features=cat_features,\n",
    "    verbose=100,\n",
    "    early_stopping_rounds=100,\n",
    "    random_seed=42\n",
    ")\n",
    "\n",
    "model.fit(pool_train, eval_set=pool_test, use_best_model=True)\n",
    "\n",
    "# Вывод важности признаков\n",
    "feature_importances = model.get_feature_importance()\n",
    "importance_df = pd.DataFrame(feature_importances, index=X_train.columns, columns=[\"Importance\"]).sort_values(by=\"Importance\", ascending=False)\n",
    "importance_df"
   ]
  },
  {
   "cell_type": "code",
   "execution_count": 18,
   "metadata": {},
   "outputs": [
    {
     "data": {
      "image/png": "[encoded data removed]",
      "text/plain": [
       "<Figure size 1000x800 with 1 Axes>"
      ]
     },
     "metadata": {},
     "output_type": "display_data"
    }
   ],
   "source": [
    "# Сортировка значений важности признаков по убыванию\n",
    "importance_df_sorted = importance_df.sort_values(by=\"Importance\", ascending=True)\n",
    "\n",
    "# Создание горизонтальной столбчатой диаграммы\n",
    "plt.figure(figsize=(10, 8))\n",
    "bars = plt.barh(importance_df_sorted.index, importance_df_sorted['Importance'], color='skyblue')\n",
    "\n",
    "# Добавление значений на диаграмме\n",
    "for bar in bars:\n",
    "    plt.text(bar.get_width(), bar.get_y() + bar.get_height()/2,\n",
    "             f\"{bar.get_width():.2f}\", \n",
    "             va='center', ha='left')\n",
    "\n",
    "plt.xlabel('Важность признака')\n",
    "plt.ylabel('Признаки')\n",
    "plt.title('Важность признаков модели CatBoost')\n",
    "plt.show()"
   ]
  },
  {
   "cell_type": "markdown",
   "metadata": {},
   "source": [
    "### Способ № 2 Phink"
   ]
  },
  {
   "cell_type": "code",
   "execution_count": 15,
   "metadata": {},
   "outputs": [],
   "source": [
    "# !pip install phik -q"
   ]
  },
  {
   "cell_type": "code",
   "execution_count": null,
   "metadata": {},
   "outputs": [],
   "source": [
    "# import phik\n",
    "# from phik import resources, report\n",
    "# import seaborn as sns\n",
    "\n",
    "# # Вычисляем корреляцию Phik \n",
    "# phik_matrix = final_df_cleaned.phik_matrix()\n",
    "\n",
    "# # Отображение корреляционной матрицы Phik\n",
    "# print(phik_matrix)\n",
    "\n",
    "# # Визуализация корреляционной матрицы \n",
    "# plt.figure(figsize=(12, 10))\n",
    "# sns.heatmap(phik_matrix, annot=True, fmt=\".2f\", cmap=\"viridis\")\n",
    "# plt.title(\"Phik Correlation Matrix\")\n",
    "# plt.show()"
   ]
  },
  {
   "cell_type": "markdown",
   "metadata": {},
   "source": [
    "‪![ошибка](1.jpg)\n",
    "Способ мне не понравился, т.к., на мой взгляд, он пораждает различного рода проблемы, основной из которых является необходимость решить что-то с колонкой `fix_date`. Самым разумным представляется использовать какие-то конкретные данные из нее, например день или время поломки, а не всю дату целиком. Можно еще и дропнуть ее, но в таком случае, мы можем потерять потенциальный признак, который может быть важным для нашего анализа. Чтобы выполнить задание и не терять время, я дропнул эту колонку, но на самом деле, не будь это частью задания и будь у меня больше времени на исследование, я бы так не поступил!"
   ]
  },
  {
   "cell_type": "code",
   "execution_count": 19,
   "metadata": {},
   "outputs": [
    {
     "name": "stdout",
     "output_type": "stream",
     "text": [
      "interval columns not set, guessing: ['car_rating', 'year_to_start', 'riders', 'year_to_work', 'target_reg', 'min_rating', 'avg_rating', 'total_distance', 'max_speed', 'stops_per_100km_x', 'percentage_speed_over_45', 'avg_speed_deviation_from_avg', 'avg_stop_times', 'avg_deviation_normal', 'rating', 'ride_duration', 'ride_cost', 'speed_avg', 'speed_max', 'stop_times', 'distance', 'refueling', 'user_ride_quality', 'deviation_normal', 'stops_per_100km_y', 'speed_deviation_from_avg', 'age', 'user_rating', 'user_time_accident', 'destroy_degree']\n",
      "                                 model  car_type  fuel_type  car_rating  \\\n",
      "model                         1.000000  1.000000   1.000000    0.249718   \n",
      "car_type                      1.000000  1.000000   0.694427    0.090503   \n",
      "fuel_type                     1.000000  0.694427   1.000000    0.073095   \n",
      "car_rating                    0.249718  0.090503   0.073095    1.000000   \n",
      "year_to_start                 0.578220  0.281361   0.025406    0.132854   \n",
      "riders                        0.550906  0.312185   0.057774    0.218532   \n",
      "year_to_work                  0.317306  0.137838   0.054148    0.136937   \n",
      "target_reg                    0.423454  0.229485   0.405376    0.173593   \n",
      "target_class                  0.311372  0.203310   0.050828    0.135708   \n",
      "min_rating                    0.274110  0.095377   0.113514    0.219367   \n",
      "avg_rating                    0.299863  0.129722   0.057953    0.207927   \n",
      "total_distance                0.281252  0.090530   0.095416    0.171688   \n",
      "max_speed                     0.285323  0.131838   0.104178    0.166425   \n",
      "stops_per_100km_x             0.329388  0.251171   0.098372    0.181346   \n",
      "percentage_speed_over_45      0.291928  0.128710   0.076277    0.314252   \n",
      "avg_speed_deviation_from_avg  0.302515  0.122192   0.093976    0.189154   \n",
      "avg_stop_times                0.246366  0.109380   0.026921    0.126906   \n",
      "avg_deviation_normal          0.296048  0.115786   0.101322    0.243232   \n",
      "ride_date                     0.011034  0.005247   0.002535    0.005970   \n",
      "rating                        0.039936  0.020456   0.005031    0.027463   \n",
      "ride_duration                 0.022645  0.007639   0.008027    0.015845   \n",
      "ride_cost                     0.111772  0.109658   0.069594    0.013879   \n",
      "speed_avg                     0.037538  0.020988   0.008148    0.023814   \n",
      "speed_max                     0.053723  0.032832   0.009621    0.028081   \n",
      "stop_times                    0.080062  0.059660   0.006848    0.034476   \n",
      "distance                      0.020294  0.008247   0.005111    0.013671   \n",
      "refueling                     0.006863  0.002863   0.000206    0.004462   \n",
      "user_ride_quality             0.176093  0.072847   0.032464    0.115716   \n",
      "deviation_normal              0.144249  0.052965   0.042832    0.115756   \n",
      "stops_per_100km_y             0.022414  0.014081   0.004776    0.008007   \n",
      "speed_over_45                 0.026101  0.016969   0.002834    0.013695   \n",
      "speed_deviation_from_avg      0.032339  0.016861   0.008006    0.022866   \n",
      "age                           0.094838  0.060768   0.060821    0.017029   \n",
      "user_rating                   0.261916  0.155162   0.266044    0.024364   \n",
      "user_time_accident            0.087427  0.045113   0.076248    0.030874   \n",
      "work_type                     0.038810  0.009587   0.016191    0.022562   \n",
      "destroy_degree                0.068398  0.024597   0.021034    0.038586   \n",
      "\n",
      "                              year_to_start    riders  year_to_work  \\\n",
      "model                              0.578220  0.550906      0.317306   \n",
      "car_type                           0.281361  0.312185      0.137838   \n",
      "fuel_type                          0.025406  0.057774      0.054148   \n",
      "car_rating                         0.132854  0.218532      0.136937   \n",
      "year_to_start                      1.000000  0.956550      0.100902   \n",
      "riders                             0.956550  1.000000      0.130009   \n",
      "year_to_work                       0.100902  0.130009      1.000000   \n",
      "target_reg                         0.121701  0.186264      0.133136   \n",
      "target_class                       0.112042  0.127224      0.163130   \n",
      "min_rating                         0.108395  0.192021      0.133316   \n",
      "avg_rating                         0.130682  0.213400      0.133864   \n",
      "total_distance                     0.099568  0.175195      0.143952   \n",
      "max_speed                          0.142928  0.217232      0.138605   \n",
      "stops_per_100km_x                  0.139505  0.213959      0.148609   \n",
      "percentage_speed_over_45           0.106246  0.179646      0.144552   \n",
      "avg_speed_deviation_from_avg       0.115894  0.198068      0.148826   \n",
      "avg_stop_times                     0.150669  0.122450      0.136948   \n",
      "avg_deviation_normal               0.125364  0.212303      0.140171   \n",
      "ride_date                          0.004822  0.006060      0.006243   \n",
      "rating                             0.014018  0.023941      0.017065   \n",
      "ride_duration                      0.009187  0.014006      0.009653   \n",
      "ride_cost                          0.012817  0.018336      0.013846   \n",
      "speed_avg                          0.012494  0.022161      0.018181   \n",
      "speed_max                          0.022777  0.031597      0.021527   \n",
      "stop_times                         0.017652  0.026219      0.036349   \n",
      "distance                           0.007913  0.014887      0.010816   \n",
      "refueling                          0.002596  0.005231      0.004888   \n",
      "user_ride_quality                  0.063328  0.100785      0.072263   \n",
      "deviation_normal                   0.054374  0.090859      0.069514   \n",
      "stops_per_100km_y                  0.008157  0.009773      0.014955   \n",
      "speed_over_45                      0.004872  0.009168      0.011171   \n",
      "speed_deviation_from_avg           0.012287  0.021948      0.016605   \n",
      "age                                0.024745  0.033017      0.018547   \n",
      "user_rating                        0.021926  0.029932      0.021756   \n",
      "user_time_accident                 0.014178  0.020724      0.023294   \n",
      "work_type                          0.012905  0.018044      0.017758   \n",
      "destroy_degree                     0.021782  0.035162      0.027976   \n",
      "\n",
      "                              target_reg  target_class  min_rating  \\\n",
      "model                           0.423454      0.311372    0.274110   \n",
      "car_type                        0.229485      0.203310    0.095377   \n",
      "fuel_type                       0.405376      0.050828    0.113514   \n",
      "car_rating                      0.173593      0.135708    0.219367   \n",
      "year_to_start                   0.121701      0.112042    0.108395   \n",
      "riders                          0.186264      0.127224    0.192021   \n",
      "year_to_work                    0.133136      0.163130    0.133316   \n",
      "target_reg                      1.000000      0.645159    0.192663   \n",
      "target_class                    0.645159      1.000000    0.322039   \n",
      "min_rating                      0.192663      0.322039    1.000000   \n",
      "avg_rating                      0.494160      0.774554    0.454206   \n",
      "total_distance                  0.189497      0.179203    0.167805   \n",
      "max_speed                       0.514984      0.785274    0.320551   \n",
      "stops_per_100km_x               0.490839      0.657194    0.306256   \n",
      "percentage_speed_over_45        0.286831      0.604616    0.378755   \n",
      "avg_speed_deviation_from_avg    0.275916      0.629777    0.379301   \n",
      "avg_stop_times                  0.412322      0.646102    0.144270   \n",
      "avg_deviation_normal            0.275927      0.423901    0.204060   \n",
      "ride_date                       0.005869      0.006455    0.006700   \n",
      "rating                          0.072716      0.209825    0.104417   \n",
      "ride_duration                   0.015057      0.008804    0.017061   \n",
      "ride_cost                       0.032935      0.012461    0.016991   \n",
      "speed_avg                       0.051078      0.174108    0.088597   \n",
      "speed_max                       0.176692      0.307309    0.119322   \n",
      "stop_times                      0.266627      0.376720    0.084214   \n",
      "distance                        0.017333      0.025456    0.016017   \n",
      "refueling                       0.002748      0.004136    0.005179   \n",
      "user_ride_quality               0.110319      0.107336    0.068494   \n",
      "deviation_normal                0.176040      0.299142    0.133615   \n",
      "stops_per_100km_y               0.007319      0.016276    0.007881   \n",
      "speed_over_45                   0.035042      0.117100    0.056191   \n",
      "speed_deviation_from_avg        0.044129      0.151748    0.076093   \n",
      "age                             0.028742      0.042321    0.018443   \n",
      "user_rating                     0.115877      0.135135    0.038874   \n",
      "user_time_accident              0.154673      0.296368    0.046337   \n",
      "work_type                       0.038706      0.022636    0.019659   \n",
      "destroy_degree                  0.302868      0.325303    0.054689   \n",
      "\n",
      "                              avg_rating  total_distance  max_speed  \\\n",
      "model                           0.299863        0.281252   0.285323   \n",
      "car_type                        0.129722        0.090530   0.131838   \n",
      "fuel_type                       0.057953        0.095416   0.104178   \n",
      "car_rating                      0.207927        0.171688   0.166425   \n",
      "year_to_start                   0.130682        0.099568   0.142928   \n",
      "riders                          0.213400        0.175195   0.217232   \n",
      "year_to_work                    0.133864        0.143952   0.138605   \n",
      "target_reg                      0.494160        0.189497   0.514984   \n",
      "target_class                    0.774554        0.179203   0.785274   \n",
      "min_rating                      0.454206        0.167805   0.320551   \n",
      "avg_rating                      1.000000        0.229460   0.680446   \n",
      "total_distance                  0.229460        1.000000   0.230986   \n",
      "max_speed                       0.680446        0.230986   1.000000   \n",
      "stops_per_100km_x               0.641838        0.267375   0.531210   \n",
      "percentage_speed_over_45        0.682818        0.289560   0.597502   \n",
      "avg_speed_deviation_from_avg    0.705982        0.277318   0.625581   \n",
      "avg_stop_times                  0.491566        0.098978   0.315668   \n",
      "avg_deviation_normal            0.392846        0.202488   0.476170   \n",
      "ride_date                       0.006154        0.005037   0.008233   \n",
      "rating                          0.258819        0.047498   0.176806   \n",
      "ride_duration                   0.015690        0.079662   0.015056   \n",
      "ride_cost                       0.015988        0.071917   0.016633   \n",
      "speed_avg                       0.209214        0.049321   0.172317   \n",
      "speed_max                       0.301627        0.060595   0.383864   \n",
      "stop_times                      0.338291        0.044165   0.200009   \n",
      "distance                        0.031617        0.084850   0.027796   \n",
      "refueling                       0.004400        0.003107   0.005103   \n",
      "user_ride_quality               0.106417        0.093386   0.094747   \n",
      "deviation_normal                0.261765        0.108669   0.329567   \n",
      "stops_per_100km_y               0.011310        0.009864   0.014189   \n",
      "speed_over_45                   0.133324        0.031783   0.106603   \n",
      "speed_deviation_from_avg        0.181717        0.043838   0.151548   \n",
      "age                             0.035466        0.015673   0.022500   \n",
      "user_rating                     0.070930        0.029888   0.105715   \n",
      "user_time_accident              0.234002        0.028297   0.243261   \n",
      "work_type                       0.020630        0.027557   0.018026   \n",
      "destroy_degree                  0.109549        0.042566   0.225749   \n",
      "\n",
      "                              stops_per_100km_x  percentage_speed_over_45  \\\n",
      "model                                  0.329388                  0.291928   \n",
      "car_type                               0.251171                  0.128710   \n",
      "fuel_type                              0.098372                  0.076277   \n",
      "car_rating                             0.181346                  0.314252   \n",
      "year_to_start                          0.139505                  0.106246   \n",
      "riders                                 0.213959                  0.179646   \n",
      "year_to_work                           0.148609                  0.144552   \n",
      "target_reg                             0.490839                  0.286831   \n",
      "target_class                           0.657194                  0.604616   \n",
      "min_rating                             0.306256                  0.378755   \n",
      "avg_rating                             0.641838                  0.682818   \n",
      "total_distance                         0.267375                  0.289560   \n",
      "max_speed                              0.531210                  0.597502   \n",
      "stops_per_100km_x                      1.000000                  0.605278   \n",
      "percentage_speed_over_45               0.605278                  1.000000   \n",
      "avg_speed_deviation_from_avg           0.604413                  0.740814   \n",
      "avg_stop_times                         0.659494                  0.351099   \n",
      "avg_deviation_normal                   0.279047                  0.303570   \n",
      "ride_date                              0.006460                  0.008899   \n",
      "rating                                 0.165972                  0.216625   \n",
      "ride_duration                          0.016602                  0.014927   \n",
      "ride_cost                              0.025627                  0.017692   \n",
      "speed_avg                              0.166578                  0.232488   \n",
      "speed_max                              0.204662                  0.273275   \n",
      "stop_times                             0.460080                  0.235773   \n",
      "distance                               0.025467                  0.034486   \n",
      "refueling                              0.007632                  0.008056   \n",
      "user_ride_quality                      0.101653                  0.100820   \n",
      "deviation_normal                       0.150928                  0.216947   \n",
      "stops_per_100km_y                      0.044588                  0.011698   \n",
      "speed_over_45                          0.112840                  0.177945   \n",
      "speed_deviation_from_avg               0.142122                  0.196411   \n",
      "age                                    0.023878                  0.019165   \n",
      "user_rating                            0.075463                  0.037236   \n",
      "user_time_accident                     0.215430                  0.119131   \n",
      "work_type                              0.021316                  0.018366   \n",
      "destroy_degree                         0.119388                  0.059144   \n",
      "\n",
      "                              avg_speed_deviation_from_avg  avg_stop_times  \\\n",
      "model                                             0.302515        0.246366   \n",
      "car_type                                          0.122192        0.109380   \n",
      "fuel_type                                         0.093976        0.026921   \n",
      "car_rating                                        0.189154        0.126906   \n",
      "year_to_start                                     0.115894        0.150669   \n",
      "riders                                            0.198068        0.122450   \n",
      "year_to_work                                      0.148826        0.136948   \n",
      "target_reg                                        0.275916        0.412322   \n",
      "target_class                                      0.629777        0.646102   \n",
      "min_rating                                        0.379301        0.144270   \n",
      "avg_rating                                        0.705982        0.491566   \n",
      "total_distance                                    0.277318        0.098978   \n",
      "max_speed                                         0.625581        0.315668   \n",
      "stops_per_100km_x                                 0.604413        0.659494   \n",
      "percentage_speed_over_45                          0.740814        0.351099   \n",
      "avg_speed_deviation_from_avg                      1.000000        0.348947   \n",
      "avg_stop_times                                    0.348947        1.000000   \n",
      "avg_deviation_normal                              0.308548        0.151458   \n",
      "ride_date                                         0.006975        0.005632   \n",
      "rating                                            0.230490        0.088391   \n",
      "ride_duration                                     0.014899        0.009175   \n",
      "ride_cost                                         0.015936        0.009739   \n",
      "speed_avg                                         0.247273        0.082685   \n",
      "speed_max                                         0.291460        0.077346   \n",
      "stop_times                                        0.234388        0.393211   \n",
      "distance                                          0.035856        0.012789   \n",
      "refueling                                         0.005446        0.003837   \n",
      "user_ride_quality                                 0.113035        0.056269   \n",
      "deviation_normal                                  0.216795        0.060610   \n",
      "stops_per_100km_y                                 0.010676        0.007599   \n",
      "speed_over_45                                     0.148813        0.053563   \n",
      "speed_deviation_from_avg                          0.221698        0.070020   \n",
      "age                                               0.025488        0.016414   \n",
      "user_rating                                       0.034065        0.061306   \n",
      "user_time_accident                                0.125917        0.182107   \n",
      "work_type                                         0.019058        0.011674   \n",
      "destroy_degree                                    0.054653        0.095075   \n",
      "\n",
      "                              avg_deviation_normal  ride_date    rating  \\\n",
      "model                                     0.296048   0.011034  0.039936   \n",
      "car_type                                  0.115786   0.005247  0.020456   \n",
      "fuel_type                                 0.101322   0.002535  0.005031   \n",
      "car_rating                                0.243232   0.005970  0.027463   \n",
      "year_to_start                             0.125364   0.004822  0.014018   \n",
      "riders                                    0.212303   0.006060  0.023941   \n",
      "year_to_work                              0.140171   0.006243  0.017065   \n",
      "target_reg                                0.275927   0.005869  0.072716   \n",
      "target_class                              0.423901   0.006455  0.209825   \n",
      "min_rating                                0.204060   0.006700  0.104417   \n",
      "avg_rating                                0.392846   0.006154  0.258819   \n",
      "total_distance                            0.202488   0.005037  0.047498   \n",
      "max_speed                                 0.476170   0.008233  0.176806   \n",
      "stops_per_100km_x                         0.279047   0.006460  0.165972   \n",
      "percentage_speed_over_45                  0.303570   0.008899  0.216625   \n",
      "avg_speed_deviation_from_avg              0.308548   0.006975  0.230490   \n",
      "avg_stop_times                            0.151458   0.005632  0.088391   \n",
      "avg_deviation_normal                      1.000000   0.005713  0.076904   \n",
      "ride_date                                 0.005713   1.000000  0.043306   \n",
      "rating                                    0.076904   0.043306  1.000000   \n",
      "ride_duration                             0.012770   0.044205  0.014059   \n",
      "ride_cost                                 0.015531   0.043993  0.015128   \n",
      "speed_avg                                 0.067292   0.040717  0.185459   \n",
      "speed_max                                 0.165266   0.043678  0.265184   \n",
      "stop_times                                0.086916   0.044032  0.135176   \n",
      "distance                                  0.015847   0.045092  0.026729   \n",
      "refueling                                 0.002033   0.018180  0.004786   \n",
      "user_ride_quality                         0.109207   0.349224  0.021125   \n",
      "deviation_normal                          0.840734   0.177485  0.055275   \n",
      "stops_per_100km_y                         0.010311   0.043570  0.012630   \n",
      "speed_over_45                             0.044153   0.017110  0.040211   \n",
      "speed_deviation_from_avg                  0.058423   0.042870  0.185151   \n",
      "age                                       0.017286   0.043582  0.014256   \n",
      "user_rating                               0.054065   0.044331  0.016855   \n",
      "user_time_accident                        0.098549   0.046542  0.041199   \n",
      "work_type                                 0.018904   0.000000  0.001479   \n",
      "destroy_degree                            0.123487   0.000000  0.018962   \n",
      "\n",
      "                              ride_duration  ride_cost  speed_avg  speed_max  \\\n",
      "model                              0.022645   0.111772   0.037538   0.053723   \n",
      "car_type                           0.007639   0.109658   0.020988   0.032832   \n",
      "fuel_type                          0.008027   0.069594   0.008148   0.009621   \n",
      "car_rating                         0.015845   0.013879   0.023814   0.028081   \n",
      "year_to_start                      0.009187   0.012817   0.012494   0.022777   \n",
      "riders                             0.014006   0.018336   0.022161   0.031597   \n",
      "year_to_work                       0.009653   0.013846   0.018181   0.021527   \n",
      "target_reg                         0.015057   0.032935   0.051078   0.176692   \n",
      "target_class                       0.008804   0.012461   0.174108   0.307309   \n",
      "min_rating                         0.017061   0.016991   0.088597   0.119322   \n",
      "avg_rating                         0.015690   0.015988   0.209214   0.301627   \n",
      "total_distance                     0.079662   0.071917   0.049321   0.060595   \n",
      "max_speed                          0.015056   0.016633   0.172317   0.383864   \n",
      "stops_per_100km_x                  0.016602   0.025627   0.166578   0.204662   \n",
      "percentage_speed_over_45           0.014927   0.017692   0.232488   0.273275   \n",
      "avg_speed_deviation_from_avg       0.014899   0.015936   0.247273   0.291460   \n",
      "avg_stop_times                     0.009175   0.009739   0.082685   0.077346   \n",
      "avg_deviation_normal               0.012770   0.015531   0.067292   0.165266   \n",
      "ride_date                          0.044205   0.043993   0.040717   0.043678   \n",
      "rating                             0.014059   0.015128   0.185459   0.265184   \n",
      "ride_duration                      1.000000   0.790738   0.016508   0.014637   \n",
      "ride_cost                          0.790738   1.000000   0.014810   0.013950   \n",
      "speed_avg                          0.016508   0.014810   1.000000   0.581907   \n",
      "speed_max                          0.014637   0.013950   0.581907   1.000000   \n",
      "stop_times                         0.019373   0.036125   0.087158   0.143134   \n",
      "distance                           0.878145   0.750381   0.201216   0.084385   \n",
      "refueling                          0.021359   0.010612   0.004498   0.002353   \n",
      "user_ride_quality                  0.014931   0.026505   0.018666   0.021023   \n",
      "deviation_normal                   0.015166   0.017517   0.049126   0.105359   \n",
      "stops_per_100km_y                  0.006796   0.005376   0.022111   0.018512   \n",
      "speed_over_45                      0.004036   0.007265   0.982606   0.513476   \n",
      "speed_deviation_from_avg           0.015845   0.012125   0.974696   0.482761   \n",
      "age                                0.014466   0.014866   0.016512   0.013728   \n",
      "user_rating                        0.013127   0.019848   0.016424   0.021403   \n",
      "user_time_accident                 0.017275   0.016872   0.032593   0.037986   \n",
      "work_type                          0.000737   0.000956   0.001445   0.002355   \n",
      "destroy_degree                     0.001566   0.002250   0.008977   0.041395   \n",
      "\n",
      "                              stop_times  distance  refueling  \\\n",
      "model                           0.080062  0.020294   0.006863   \n",
      "car_type                        0.059660  0.008247   0.002863   \n",
      "fuel_type                       0.006848  0.005111   0.000206   \n",
      "car_rating                      0.034476  0.013671   0.004462   \n",
      "year_to_start                   0.017652  0.007913   0.002596   \n",
      "riders                          0.026219  0.014887   0.005231   \n",
      "year_to_work                    0.036349  0.010816   0.004888   \n",
      "target_reg                      0.266627  0.017333   0.002748   \n",
      "target_class                    0.376720  0.025456   0.004136   \n",
      "min_rating                      0.084214  0.016017   0.005179   \n",
      "avg_rating                      0.338291  0.031617   0.004400   \n",
      "total_distance                  0.044165  0.084850   0.003107   \n",
      "max_speed                       0.200009  0.027796   0.005103   \n",
      "stops_per_100km_x               0.460080  0.025467   0.007632   \n",
      "percentage_speed_over_45        0.235773  0.034486   0.008056   \n",
      "avg_speed_deviation_from_avg    0.234388  0.035856   0.005446   \n",
      "avg_stop_times                  0.393211  0.012789   0.003837   \n",
      "avg_deviation_normal            0.086916  0.015847   0.002033   \n",
      "ride_date                       0.044032  0.045092   0.018180   \n",
      "rating                          0.135176  0.026729   0.004786   \n",
      "ride_duration                   0.019373  0.878145   0.021359   \n",
      "ride_cost                       0.036125  0.750381   0.010612   \n",
      "speed_avg                       0.087158  0.201216   0.004498   \n",
      "speed_max                       0.143134  0.084385   0.002353   \n",
      "stop_times                      1.000000  0.015908   0.000502   \n",
      "distance                        0.015908  1.000000   0.011454   \n",
      "refueling                       0.000502  0.011454   1.000000   \n",
      "user_ride_quality               0.031018  0.015906   0.002454   \n",
      "deviation_normal                0.027336  0.014661   0.002451   \n",
      "stops_per_100km_y               0.036881  0.006559   0.000000   \n",
      "speed_over_45                   0.067420  0.130175   0.001297   \n",
      "speed_deviation_from_avg        0.056999  0.168723   0.001981   \n",
      "age                             0.018407  0.012457   0.005541   \n",
      "user_rating                     0.047042  0.014975   0.005256   \n",
      "user_time_accident              0.131076  0.017384   0.001244   \n",
      "work_type                       0.003355  0.000000   0.001885   \n",
      "destroy_degree                  0.062700  0.003050   0.000000   \n",
      "\n",
      "                              user_ride_quality  deviation_normal  \\\n",
      "model                                  0.176093          0.144249   \n",
      "car_type                               0.072847          0.052965   \n",
      "fuel_type                              0.032464          0.042832   \n",
      "car_rating                             0.115716          0.115756   \n",
      "year_to_start                          0.063328          0.054374   \n",
      "riders                                 0.100785          0.090859   \n",
      "year_to_work                           0.072263          0.069514   \n",
      "target_reg                             0.110319          0.176040   \n",
      "target_class                           0.107336          0.299142   \n",
      "min_rating                             0.068494          0.133615   \n",
      "avg_rating                             0.106417          0.261765   \n",
      "total_distance                         0.093386          0.108669   \n",
      "max_speed                              0.094747          0.329567   \n",
      "stops_per_100km_x                      0.101653          0.150928   \n",
      "percentage_speed_over_45               0.100820          0.216947   \n",
      "avg_speed_deviation_from_avg           0.113035          0.216795   \n",
      "avg_stop_times                         0.056269          0.060610   \n",
      "avg_deviation_normal                   0.109207          0.840734   \n",
      "ride_date                              0.349224          0.177485   \n",
      "rating                                 0.021125          0.055275   \n",
      "ride_duration                          0.014931          0.015166   \n",
      "ride_cost                              0.026505          0.017517   \n",
      "speed_avg                              0.018666          0.049126   \n",
      "speed_max                              0.021023          0.105359   \n",
      "stop_times                             0.031018          0.027336   \n",
      "distance                               0.015906          0.014661   \n",
      "refueling                              0.002454          0.002451   \n",
      "user_ride_quality                      1.000000          0.109569   \n",
      "deviation_normal                       0.109569          1.000000   \n",
      "stops_per_100km_y                      0.006283          0.006902   \n",
      "speed_over_45                          0.009823          0.034182   \n",
      "speed_deviation_from_avg               0.018263          0.041139   \n",
      "age                                    0.015047          0.017787   \n",
      "user_rating                            0.016794          0.034559   \n",
      "user_time_accident                     0.016910          0.070803   \n",
      "work_type                              0.009910          0.009035   \n",
      "destroy_degree                         0.027229          0.097046   \n",
      "\n",
      "                              stops_per_100km_y  speed_over_45  \\\n",
      "model                                  0.022414       0.026101   \n",
      "car_type                               0.014081       0.016969   \n",
      "fuel_type                              0.004776       0.002834   \n",
      "car_rating                             0.008007       0.013695   \n",
      "year_to_start                          0.008157       0.004872   \n",
      "riders                                 0.009773       0.009168   \n",
      "year_to_work                           0.014955       0.011171   \n",
      "target_reg                             0.007319       0.035042   \n",
      "target_class                           0.016276       0.117100   \n",
      "min_rating                             0.007881       0.056191   \n",
      "avg_rating                             0.011310       0.133324   \n",
      "total_distance                         0.009864       0.031783   \n",
      "max_speed                              0.014189       0.106603   \n",
      "stops_per_100km_x                      0.044588       0.112840   \n",
      "percentage_speed_over_45               0.011698       0.177945   \n",
      "avg_speed_deviation_from_avg           0.010676       0.148813   \n",
      "avg_stop_times                         0.007599       0.053563   \n",
      "avg_deviation_normal                   0.010311       0.044153   \n",
      "ride_date                              0.043570       0.017110   \n",
      "rating                                 0.012630       0.040211   \n",
      "ride_duration                          0.006796       0.004036   \n",
      "ride_cost                              0.005376       0.007265   \n",
      "speed_avg                              0.022111       0.982606   \n",
      "speed_max                              0.018512       0.513476   \n",
      "stop_times                             0.036881       0.067420   \n",
      "distance                               0.006559       0.130175   \n",
      "refueling                              0.000000       0.001297   \n",
      "user_ride_quality                      0.006283       0.009823   \n",
      "deviation_normal                       0.006902       0.034182   \n",
      "stops_per_100km_y                      1.000000       0.023278   \n",
      "speed_over_45                          0.023278       1.000000   \n",
      "speed_deviation_from_avg               0.013680       0.545248   \n",
      "age                                    0.010449       0.006894   \n",
      "user_rating                            0.008917       0.006459   \n",
      "user_time_accident                     0.011017       0.018204   \n",
      "work_type                              0.000480       0.000730   \n",
      "destroy_degree                         0.001242       0.007317   \n",
      "\n",
      "                              speed_deviation_from_avg       age  user_rating  \\\n",
      "model                                         0.032339  0.094838     0.261916   \n",
      "car_type                                      0.016861  0.060768     0.155162   \n",
      "fuel_type                                     0.008006  0.060821     0.266044   \n",
      "car_rating                                    0.022866  0.017029     0.024364   \n",
      "year_to_start                                 0.012287  0.024745     0.021926   \n",
      "riders                                        0.021948  0.033017     0.029932   \n",
      "year_to_work                                  0.016605  0.018547     0.021756   \n",
      "target_reg                                    0.044129  0.028742     0.115877   \n",
      "target_class                                  0.151748  0.042321     0.135135   \n",
      "min_rating                                    0.076093  0.018443     0.038874   \n",
      "avg_rating                                    0.181717  0.035466     0.070930   \n",
      "total_distance                                0.043838  0.015673     0.029888   \n",
      "max_speed                                     0.151548  0.022500     0.105715   \n",
      "stops_per_100km_x                             0.142122  0.023878     0.075463   \n",
      "percentage_speed_over_45                      0.196411  0.019165     0.037236   \n",
      "avg_speed_deviation_from_avg                  0.221698  0.025488     0.034065   \n",
      "avg_stop_times                                0.070020  0.016414     0.061306   \n",
      "avg_deviation_normal                          0.058423  0.017286     0.054065   \n",
      "ride_date                                     0.042870  0.043582     0.044331   \n",
      "rating                                        0.185151  0.014256     0.016855   \n",
      "ride_duration                                 0.015845  0.014466     0.013127   \n",
      "ride_cost                                     0.012125  0.014866     0.019848   \n",
      "speed_avg                                     0.974696  0.016512     0.016424   \n",
      "speed_max                                     0.482761  0.013728     0.021403   \n",
      "stop_times                                    0.056999  0.018407     0.047042   \n",
      "distance                                      0.168723  0.012457     0.014975   \n",
      "refueling                                     0.001981  0.005541     0.005256   \n",
      "user_ride_quality                             0.018263  0.015047     0.016794   \n",
      "deviation_normal                              0.041139  0.017787     0.034559   \n",
      "stops_per_100km_y                             0.013680  0.010449     0.008917   \n",
      "speed_over_45                                 0.545248  0.006894     0.006459   \n",
      "speed_deviation_from_avg                      1.000000  0.017151     0.016277   \n",
      "age                                           0.017151  1.000000     0.154387   \n",
      "user_rating                                   0.016277  0.154387     1.000000   \n",
      "user_time_accident                            0.028936  0.264963     0.448394   \n",
      "work_type                                     0.001154  0.000000     0.002663   \n",
      "destroy_degree                                0.006563  0.005619     0.018934   \n",
      "\n",
      "                              user_time_accident  work_type  destroy_degree  \n",
      "model                                   0.087427   0.038810        0.068398  \n",
      "car_type                                0.045113   0.009587        0.024597  \n",
      "fuel_type                               0.076248   0.016191        0.021034  \n",
      "car_rating                              0.030874   0.022562        0.038586  \n",
      "year_to_start                           0.014178   0.012905        0.021782  \n",
      "riders                                  0.020724   0.018044        0.035162  \n",
      "year_to_work                            0.023294   0.017758        0.027976  \n",
      "target_reg                              0.154673   0.038706        0.302868  \n",
      "target_class                            0.296368   0.022636        0.325303  \n",
      "min_rating                              0.046337   0.019659        0.054689  \n",
      "avg_rating                              0.234002   0.020630        0.109549  \n",
      "total_distance                          0.028297   0.027557        0.042566  \n",
      "max_speed                               0.243261   0.018026        0.225749  \n",
      "stops_per_100km_x                       0.215430   0.021316        0.119388  \n",
      "percentage_speed_over_45                0.119131   0.018366        0.059144  \n",
      "avg_speed_deviation_from_avg            0.125917   0.019058        0.054653  \n",
      "avg_stop_times                          0.182107   0.011674        0.095075  \n",
      "avg_deviation_normal                    0.098549   0.018904        0.123487  \n",
      "ride_date                               0.046542   0.000000        0.000000  \n",
      "rating                                  0.041199   0.001479        0.018962  \n",
      "ride_duration                           0.017275   0.000737        0.001566  \n",
      "ride_cost                               0.016872   0.000956        0.002250  \n",
      "speed_avg                               0.032593   0.001445        0.008977  \n",
      "speed_max                               0.037986   0.002355        0.041395  \n",
      "stop_times                              0.131076   0.003355        0.062700  \n",
      "distance                                0.017384   0.000000        0.003050  \n",
      "refueling                               0.001244   0.001885        0.000000  \n",
      "user_ride_quality                       0.016910   0.009910        0.027229  \n",
      "deviation_normal                        0.070803   0.009035        0.097046  \n",
      "stops_per_100km_y                       0.011017   0.000480        0.001242  \n",
      "speed_over_45                           0.018204   0.000730        0.007317  \n",
      "speed_deviation_from_avg                0.028936   0.001154        0.006563  \n",
      "age                                     0.264963   0.000000        0.005619  \n",
      "user_rating                             0.448394   0.002663        0.018934  \n",
      "user_time_accident                      1.000000   0.003205        0.019221  \n",
      "work_type                               0.003205   1.000000        0.657631  \n",
      "destroy_degree                          0.019221   0.657631        1.000000  \n"
     ]
    },
    {
     "data": {
      "image/png": "[encoded data removed]",
      "text/plain": [
       "<Figure size 1200x1000 with 2 Axes>"
      ]
     },
     "metadata": {},
     "output_type": "display_data"
    }
   ],
   "source": [
    "import phik\n",
    "from phik import resources, report\n",
    "import seaborn as sns\n",
    "\n",
    "# Дропаю 'fix_date'\n",
    "final_df_drop = final_df_cleaned.drop(columns=['fix_date'])\n",
    "\n",
    "# Вычисляем корреляцию Phik \n",
    "phik_matrix = final_df_drop.phik_matrix()\n",
    "\n",
    "# Отображение корреляционной матрицы Phik\n",
    "print(phik_matrix)\n",
    "\n",
    "# Визуализация корреляционной матрицы \n",
    "plt.figure(figsize=(12, 10))\n",
    "sns.heatmap(phik_matrix, annot=True, fmt=\".2f\", cmap=\"viridis\")\n",
    "plt.title(\"Phik Correlation Matrix\")\n",
    "plt.show()"
   ]
  },
  {
   "cell_type": "markdown",
   "metadata": {},
   "source": [
    "### Способ № 3 Permutation Importance"
   ]
  },
  {
   "cell_type": "code",
   "execution_count": 21,
   "metadata": {},
   "outputs": [
    {
     "data": {
      "image/png": "[encoded data removed]",
      "text/plain": [
       "<Figure size 1200x600 with 1 Axes>"
      ]
     },
     "metadata": {},
     "output_type": "display_data"
    }
   ],
   "source": [
    "from sklearn.inspection import permutation_importance\n",
    "\n",
    "perm_importance = permutation_importance(model, X_test, y_test, n_repeats=10, random_state=1066)\n",
    "sorted_idx = perm_importance.importances_mean.argsort()\n",
    "fig = plt.figure(figsize=(12, 6))\n",
    "plt.barh(range(len(sorted_idx)), perm_importance.importances_mean[sorted_idx], align='center')\n",
    "plt.yticks(range(len(sorted_idx)), np.array(X.columns)[sorted_idx])\n",
    "plt.title('Permutation Importance');"
   ]
  },
  {
   "cell_type": "code",
   "execution_count": null,
   "metadata": {},
   "outputs": [],
   "source": [
    "# import shap\n",
    "# # Создание объекта TreeExplainer \n",
    "# explainer = shap.TreeExplainer(model)\n",
    "\n",
    "# # Вычисление SHAP values\n",
    "# shap_values = explainer.shap_values(pool_test)\n",
    "\n",
    "# # Визуализация средней абсолютной величины значений SHAP для каждого признака\n",
    "# shap.summary_plot(shap_values, X_test, max_display=25)"
   ]
  },
  {
   "cell_type": "markdown",
   "metadata": {},
   "source": [
    "**Вывод**: На мой взгляд, лучше всего показал себя метод с Catboost feature importance. Он более прост в использовании, не нужна и устойчив к различному типу данных. Также более наглядный и показательный, по моему мнению. \n",
    "\n",
    "- Наиболее значимыми признаками для модели, согласно полученным значениям важности признаков, являются target_class, avg_stop_times, total_distance, car_rating, и avg_deviation_normal. Эти признаки оказывают наибольшее влияние на прогнозируемую переменную, что указывает на их потенциальную релевантность и важность в контексте нашей задачи.\n",
    "\n",
    "- Матрица корреляции Phik показывает взаимосвязи между различными признаками и целевой переменной. Например, признаки model, car_type, и fuel_type имеют высокие значения корреляции друг с другом, что может указывать на наличие мультиколлинеарности. Важно отметить, что Phik корреляция адаптирована для работы как с числовыми, так и с категориальными данными, предоставляя более широкий анализ взаимосвязей.\n",
    "\n",
    "- Наличие высоких корреляций между некоторыми признаками, например между model, car_type, и fuel_type, может указывать на мультиколлинеарность, которая потенциально может влиять на стабильность и интерпретируемость модели. Возможно, стоит рассмотреть исключение или комбинацию некоторых из этих признаков для улучшения качества модели."
   ]
  },
  {
   "cell_type": "markdown",
   "metadata": {
    "id": "iSjuXdlcbuhx"
   },
   "source": [
    "# Домашнее задание 2. Прогноз времени и вида поломки машин. Настройка ML-модели"
   ]
  },
  {
   "cell_type": "markdown",
   "metadata": {
    "id": "2qoVlxvUbuhx"
   },
   "source": [
    "<div class=\"alert alert-info\">\n",
    "\n",
    "**Цель блока** — составить тренировочную и валидационную выборки, произвести обучение модели `CatBoostClassifier` на тренировочной части и оценить качество на валидационной."
   ]
  },
  {
   "cell_type": "markdown",
   "metadata": {
    "id": "OfqcanLLbuhx"
   },
   "source": [
    "##Обучение первой модели (5 баллов)\n",
    "\n",
    "1.   Новый пункт\n",
    "2.   Новый пункт\n",
    "\n"
   ]
  },
  {
   "cell_type": "markdown",
   "metadata": {
    "id": "ZXhXYJt6buhx"
   },
   "source": [
    "1. Классифицируйте признаки на типы (категориальные, числовые, таргеты).\n",
    "\n",
    "2. Выделите в `X` только признаки, а в `Y` — таргет (для задачи классификации).\n",
    "\n",
    "3. Сделайте разделение данных на *обучающую* и *валидационную* выборки (не забывайте про воспроизводимость результатов).\n",
    "\n",
    "4. Создайте и обучите `CatBoostClassifier` модель (настраивать гиперпараметры сейчас не обязательно).\n",
    "\n",
    "5. Проведите оценку вашей модели, используя метрику `accuracy`.\n",
    "\n",
    "\n",
    "<h4> Критерии оценивания </h4>\n",
    "    \n",
    "- По 1 баллу за каждый корректно выполненный пункт.\n",
    "\n",
    "</div>"
   ]
  },
  {
   "cell_type": "code",
   "execution_count": null,
   "metadata": {
    "id": "klrOFoVpbuhx"
   },
   "outputs": [],
   "source": [
    "from catboost import CatBoostClassifier\n",
    "from sklearn.model_selection import train_test_split\n",
    "from sklearn.metrics import accuracy_score"
   ]
  },
  {
   "cell_type": "code",
   "execution_count": null,
   "metadata": {
    "id": "lqwlTU2gbuhz"
   },
   "outputs": [],
   "source": [
    "features2drop = [...] # то, что надо выбросить\n",
    "targets = [...] # таргеты\n",
    "cat_features = [...] # категориальные признаки\n",
    "\n",
    "num_features = [...] # числовые признаки\n",
    "\n",
    "print('Категориальные признаки:', len(cat_features), cat_features)\n",
    "print('Числовые признаки:', len(num_features), num_features)\n",
    "print('Целевые переменные', targets)"
   ]
  },
  {
   "cell_type": "code",
   "execution_count": null,
   "metadata": {
    "id": "tGK5sgaQbuhz"
   },
   "outputs": [],
   "source": [
    "# YOUR CODE HERE"
   ]
  },
  {
   "cell_type": "markdown",
   "metadata": {
    "id": "pWAOjGCIbuhz"
   },
   "source": [
    "# Дополнительное задание. Визуализация прогнозов, ошибок модели и важности признаков"
   ]
  },
  {
   "cell_type": "markdown",
   "metadata": {
    "id": "oCvZU_ksbuhz"
   },
   "source": [
    "<div class=\"alert alert-info\">\n",
    "\n",
    "**Цель блока** — визуализировать результаты прогнозирования, ошибки модели и важность признаков для лучшего понимания и анализа модели."
   ]
  },
  {
   "cell_type": "markdown",
   "metadata": {
    "id": "onsptUygbuhz"
   },
   "source": [
    "## Визуализация (5 баллов)"
   ]
  },
  {
   "cell_type": "markdown",
   "metadata": {
    "id": "t3gAT3YHbuhz"
   },
   "source": [
    "   \n",
    "1. Визуализируйте важность признаков встроенным методом в `CatBoost`  (помните, что не стоит сильно доверять этому рейтингу важности, т. к. для сильно скоррелированных признаков важность делится пополам — оба признака могут улететь вниз).\n",
    "\n",
    "2. Постройте `waterfall_plot` из библиотеки `SHAP` (подробнее во втором ноутбуке из полезных ссылок ниже).\n",
    "    \n",
    "3. Постройте `classification_report` из библиотеки `scikit-learn`.\n",
    "\n",
    "4. Постройте и визуализируйте матрицу смежности (`confusion_matrix`), посмотрите, в каких классах модель больше всего ошибается.\n",
    "    \n",
    "5. Для каждого графика/примененного метода проинтерпретируйте результаты и сделайте выводы.\n",
    "\n",
    "\n",
    "<h4> Критерии оценивания </h4>\n",
    "    \n",
    "- По 1 баллу за каждый корректно выполненный пункт.\n",
    "    \n",
    "</div>\n",
    "\n",
    "<div class=\"alert alert-success\">\n",
    "\n",
    "Визуализация может помочь даже после того, как мы **уже обучили** какую-нибудь модель. Например:\n",
    "\n",
    "- Понять, что мешает модели или чего не хватает, чтобы не допускать ошибки.\n",
    "- Сделать выводы, как можно улучшить точность в последующих экспериментах.\n",
    "- Визуализировать ошибки модели.\n",
    "- Отсеять лишние признаки.\n",
    "- Найти идеи для новых признаков.\n",
    "- Все зависит от типа ваших данных.\n",
    "\n",
    "<h3> Полезные источники </h3>\n",
    "    \n",
    "- Занятие про визуализацию и Seaborn.\n",
    "- Занятие про продвинутую визуализацию и анализ ошибок модели.\n",
    "\n",
    "</div>    "
   ]
  },
  {
   "cell_type": "code",
   "execution_count": null,
   "metadata": {
    "id": "EYvkiOcrbuh0"
   },
   "outputs": [],
   "source": [
    "# YOUR CODE HERE"
   ]
  },
  {
   "cell_type": "markdown",
   "metadata": {
    "id": "pL8evJIMbuh0"
   },
   "source": [
    "# Домашнее задание 3. Оптимизация. Тюнинг гиперпараметров с помощью `Optuna`"
   ]
  },
  {
   "cell_type": "markdown",
   "metadata": {
    "id": "ZmanV8V8buh0"
   },
   "source": [
    "<div class=\"alert alert-info\">\n",
    "\n",
    "**Цель блока** — улучшить качество предсказания, произведя подбор гиперпараметров для модели с помощью `Optuna`."
   ]
  },
  {
   "cell_type": "markdown",
   "metadata": {
    "id": "qEbxkZf8buh1"
   },
   "source": [
    "## Подбор гиперпараметров (3 балла)"
   ]
  },
  {
   "cell_type": "markdown",
   "metadata": {
    "id": "XogayH7Hbuh1"
   },
   "source": [
    "1. Напишите `objective` функцию и запустите `Optuna`.\n",
    "2. Подберите гиперпараметры для `CatBoostClassifier` (минимум 3).\n",
    "3. Обучите модель с новыми гиперпараметрами, сравните качество и сделайте выводы.\n",
    "\n",
    "    \n",
    "<h4> Критерии оценивания </h4>\n",
    "    \n",
    "- 1 балл за каждый корректно выполненный пункт.\n",
    "    \n",
    "</div>"
   ]
  },
  {
   "cell_type": "code",
   "execution_count": null,
   "metadata": {
    "id": "UrNbom9qbuh1"
   },
   "outputs": [],
   "source": [
    "# YOUR CODE HERE"
   ]
  },
  {
   "cell_type": "markdown",
   "metadata": {
    "id": "ayIdErsgjayi"
   },
   "source": [
    "### Общая информация по `Optuna`"
   ]
  },
  {
   "cell_type": "markdown",
   "metadata": {
    "id": "a6Y35ioqbuh0",
    "tags": []
   },
   "source": [
    "#### Ключевые особенности <code>Optuna</code>\n",
    "\n"
   ]
  },
  {
   "cell_type": "markdown",
   "metadata": {
    "id": "EFwQ3_NStdFY"
   },
   "source": [
    "- Легковесность и универсальность — можно подбирать оптимальные параметры под любые функции и метрики.\n",
    "- SOTA-алгоритмы, адаптированные для поиска гиперпараметров.\n",
    "- Параллелизация и различные методы прунинга.\n",
    "- Встроенная визуализация.\n",
    "- Интеграция со множеством популярных библиотек (бустинги, sklearn, PyTorch, W&B и другие).\n",
    "\n",
    "Разберем Optuna по частям, чтобы понять, как ее использовать."
   ]
  },
  {
   "cell_type": "markdown",
   "metadata": {
    "id": "GIT2J4INtxaf"
   },
   "source": [
    "#### <code>Study</code>: оптимизация, базирующаяся на <code>Objective</code> функции"
   ]
  },
  {
   "cell_type": "markdown",
   "metadata": {
    "id": "wqPh6XVybuh0"
   },
   "source": [
    "\n",
    "\n",
    "В `Objective`-функцию нужно написать код подсчета метрики, которую возвращаем. `Objective` вызывается Optuna много раз для подбора лучших параметров.\n",
    "```python\n",
    "def objective(trial, ...):\n",
    "    # calculate score...\n",
    "    return score\n",
    "```\n",
    "\n",
    "<h4> <code>Trial</code> — одно выполнение <code>Objective</code>-функции</h4>\n",
    "\n",
    "В `trial`-объекте мы передаем параметры для «перебора», используя для каждого типа свой метод. Например:\n",
    "\n",
    "```python\n",
    "# метод `suggest_float` показывает, что перебираем `float` значения, от 0 и до 1.5 границы\n",
    "param = trial.suggest_float('param', 0, 1.5)\n",
    "\n",
    "# Категориальное значение\n",
    "loss_function = trial.suggest_categorical('loss', ['Logloss', 'CrossEntropy'])\n",
    "\n",
    "# Целочисленное значение\n",
    "depth = trial.suggest_int('depth', 5, 8)\n",
    "\n",
    "# Равномерное распределение\n",
    "learning_rate = trial.suggest_uniform('learning_rate', 0.0, 1.0)\n",
    "```"
   ]
  },
  {
   "cell_type": "markdown",
   "metadata": {
    "id": "4huC_vW7uI4o"
   },
   "source": [
    "#### `Study` parameters"
   ]
  },
  {
   "cell_type": "markdown",
   "metadata": {
    "id": "Cq94BjhWbuh0"
   },
   "source": [
    "Инициализируем объект `study`, который начнет перебор и сохранит в себе историю результатов.\n",
    "Если мы стараемся увеличить метрику, а не уменьшить ошибку, то используем `create_study(direction='maximize')`.\n",
    "```python\n",
    "study = optuna.create_study()\n",
    "study.optimize(objective, n_trials=10)\n",
    "```"
   ]
  },
  {
   "cell_type": "markdown",
   "metadata": {
    "id": "x9AvfTv4buh0"
   },
   "source": [
    "<div class=\"alert alert-info\">\n",
    "    \n",
    "В [`Optuna`](https://optuna.readthedocs.io/en/stable/index.html) реализовано несколько методов (`sampler`) подбора параметров (в том числе классические):\n",
    "* `GridSampler`\n",
    "* `RandomSampler`\n",
    "* `Tree-Structed Parzen Estimator` (`TPESampler` — самый популярный, дефолтный)\n",
    "* `BruteForceSampler`\n",
    "* [Другие 4 метода](https://optuna.readthedocs.io/en/stable/reference/samplers/index.html#module-optuna.samplers) (можно написать собственный семплер)"
   ]
  },
  {
   "cell_type": "markdown",
   "metadata": {
    "id": "3g4-aEHabuh0",
    "tags": []
   },
   "source": [
    "### Советы по перебору параметров"
   ]
  },
  {
   "cell_type": "markdown",
   "metadata": {
    "id": "g3b8cs4Mt7pq"
   },
   "source": [
    "- Иметь понимание важности параметров.\n",
    "- Число `iterations` лучше взять с запасом и зафиксировать, при этом ограничив через `early_stopping_rounds`.\n",
    "- Подсмотреть или чувствовать диапазоны и шаг значений.\n",
    "- Исключить то, что перебирать не нужно (`random_seed` , `eval_metric`, `thread_count` и прочее).\n",
    "- Используйте информацию с прошлых попыток."
   ]
  },
  {
   "cell_type": "markdown",
   "metadata": {
    "id": "dXv8NCp_buh1"
   },
   "source": [
    "# Домашнее задание 4. Блендинг"
   ]
  },
  {
   "cell_type": "markdown",
   "metadata": {
    "id": "8-bhQKWGbuh1"
   },
   "source": [
    "<div class=\"alert alert-info\">\n",
    "\n",
    "**Цель блока** — улучшить качество предсказания, объединив несколько моделей вместе методом блендинга."
   ]
  },
  {
   "cell_type": "markdown",
   "metadata": {
    "id": "ZtI-eK3xbuh1"
   },
   "source": [
    "## Задание 6. Блендинг (10 баллов)"
   ]
  },
  {
   "cell_type": "markdown",
   "metadata": {
    "id": "8v9Onoo9buh1"
   },
   "source": [
    "1. Построить и обучить модели:\n",
    "    - `CatBoostClassifier`,\n",
    "    - `LightGBMClassifier (goss)`,\n",
    "    - `XGBoostClassifier (dart)`,\n",
    "    - `RandomForestClassifier`.\n",
    "2. Сделать предсказания каждой моделью, оценить качество.\n",
    "3. Реализовать блендинг двумя способами, оценить качество и сравнить с предыдущим пунктом:\n",
    "    - `Hard Voting` —  метод, при котором делаем голосование всех моделей и выбираем самый популярный класс.\n",
    "    - `Soft Voting` —  метод, при котором мы складываем вероятности предсказания всех моделей по каждому классу и потом выбираем самый класс с максимальной суммой.\n",
    "    \n",
    "<h4> Критерии оценивания </h4>\n",
    "    \n",
    "- Обучены 4 модели — 1 балл за каждую обученную модель, всего 4 балла.\n",
    "- Для модели проведен подбор гиперпараметров — 0,5 балла за каждый параметр, всего 2 балла.\n",
    "- Сделаны предсказания каждой модели и оценено качество — 1 балл.\n",
    "- Реализован `Hard Voting` — 1 балл.\n",
    "- Реализован `Soft Voting` — 1 балл.\n",
    "- Сделаны выводы — 1 балл.\n",
    "    \n",
    "</div>"
   ]
  },
  {
   "cell_type": "code",
   "execution_count": null,
   "metadata": {
    "id": "Mfi_sxnjbuh2"
   },
   "outputs": [],
   "source": [
    "# YOUR CODE HERE"
   ]
  },
  {
   "cell_type": "markdown",
   "metadata": {
    "id": "O2utYsm3mShl"
   },
   "source": [
    "### Общая информация о блендинге"
   ]
  },
  {
   "cell_type": "markdown",
   "metadata": {
    "id": "-JNyyolfbuh1"
   },
   "source": [
    "**Основная идея** — взять от каждого алгоритма лучшее и совместить несколько разных ML-моделей в одну.\n",
    "\n",
    "Что это дает:\n",
    "- Увеличивается обобщающая способность финальной модели и качество улучшается.\n",
    "- Модель становится более стабильной, что позволяет не слететь на приватном лидерборде.\n",
    "\n",
    "Особенно хорошо накидывает блендинг, если смешиваемые модели имеют разную природу — например, нейронные сети, kNN и решающие деревья. Они выучивают разные зависимости и хорошо дополняют друг друга.\n",
    "\n",
    "</div>"
   ]
  },
  {
   "cell_type": "markdown",
   "metadata": {
    "id": "C5w0RwnYbuh3"
   },
   "source": [
    "# <center id=\"part6\"> Отправка финального решения на лидерборд на Kaggle"
   ]
  },
  {
   "cell_type": "markdown",
   "metadata": {
    "id": "wpt2Bdimbuh3"
   },
   "source": [
    "<div class=\"alert alert-info\">\n",
    "\n",
    "**Цель блока** — сделать предсказание с помощью блендинга для тестовой части датасета, отправить результат [в соревнование на Kaggle](https://www.kaggle.com/competitions/competative-data-science-course-by-data-feeling/overview)."
   ]
  },
  {
   "cell_type": "markdown",
   "metadata": {
    "id": "gfYqF37Cbuh3"
   },
   "source": [
    "## Задание 8. Предсказание на тестовом датасете и отправка на Kaggle"
   ]
  },
  {
   "cell_type": "markdown",
   "metadata": {
    "id": "m_ExuGjabuh3"
   },
   "source": [
    "1. Сделать предобработку для тестового датасета, присоединить к нему информацию из других датасетов и добавить признаки, которые генерировали для тренировочного датасета.\n",
    "2. Сделать предсказания каждой моделью, которую хотите включить в ансамбль, но минимум их должно быть 3.\n",
    "3. Сделать блендинг с помощью `Hard Voting` или `Soft Voting` на ваш выбор.\n",
    "4. Сохранить результат предсказания в `csv` файл и отправить решение на Kaggle.\n",
    "    \n",
    "<h4> Критерии оценивания </h4>\n",
    "    \n",
    "- 0 баллов за задание, если итоговый скор на лидерборде меньше чем `0.9`.\n",
    "- 1 балл за каждый выполненный пункт.\n",
    "\n",
    "</div>"
   ]
  },
  {
   "cell_type": "code",
   "execution_count": null,
   "metadata": {
    "id": "Cnp6usAybuh4"
   },
   "outputs": [],
   "source": [
    "car_test = pd.read_csv('https://raw.githubusercontent.com/a-milenkin/Competitive_Data_Science/main/data/car_test.csv')\n",
    "car_test.head(3)"
   ]
  },
  {
   "cell_type": "code",
   "execution_count": null,
   "metadata": {
    "id": "ZEZhf8gabuh4"
   },
   "outputs": [],
   "source": [
    "# YOUR CODE HERE"
   ]
  },
  {
   "cell_type": "markdown",
   "metadata": {
    "id": "cUuphISJbuh4"
   },
   "source": [
    "### Советы по отправке кода на Kaggle\n"
   ]
  },
  {
   "cell_type": "markdown",
   "metadata": {
    "id": "ZAQLSpKWu4aI"
   },
   "source": [
    "\n",
    "Если пишете код на `Kaggle`, то для отправки решения:\n",
    "\n",
    "1. Нажать Save Version.\n",
    "2. Проверить, что в Advanced Settings выбрано «Всегда сохранять результаты ноутбука».\n",
    "3. Выбрать тип сохранения Save & Run All (Commit).\n",
    "4. Нажать кнопку Save."
   ]
  }
 ],
 "metadata": {
  "colab": {
   "provenance": []
  },
  "kernelspec": {
   "display_name": "Python 3 (ipykernel)",
   "language": "python",
   "name": "python3"
  },
  "language_info": {
   "codemirror_mode": {
    "name": "ipython",
    "version": 3
   },
   "file_extension": ".py",
   "mimetype": "text/x-python",
   "name": "python",
   "nbconvert_exporter": "python",
   "pygments_lexer": "ipython3",
   "version": "3.11.5"
  }
 },
 "nbformat": 4,
 "nbformat_minor": 1
}
