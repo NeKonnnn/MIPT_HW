{
 "cells": [
  {
   "cell_type": "markdown",
   "id": "f213e0a7",
   "metadata": {},
   "source": [
    "# Импорт библиотек"
   ]
  },
  {
   "cell_type": "code",
   "execution_count": 31,
   "id": "d8e65c68",
   "metadata": {},
   "outputs": [
    {
     "name": "stdout",
     "output_type": "stream",
     "text": [
      "Collecting keras-tuner\n",
      "  Obtaining dependency information for keras-tuner from https://files.pythonhosted.org/packages/1b/4b/5fcc5590cdc22fd1d6d75879a95da780f93731ae699042b273e0ea339e9a/keras_tuner-1.4.3-py3-none-any.whl.metadata\n",
      "  Downloading keras_tuner-1.4.3-py3-none-any.whl.metadata (5.4 kB)\n",
      "Collecting keras-core (from keras-tuner)\n",
      "  Obtaining dependency information for keras-core from https://files.pythonhosted.org/packages/95/f7/b8dcff937ea64f822f0d3fe8c6010793406b82d14467cd0e9eecea458a40/keras_core-0.1.7-py3-none-any.whl.metadata\n",
      "  Downloading keras_core-0.1.7-py3-none-any.whl.metadata (4.3 kB)\n",
      "Requirement already satisfied: packaging in c:\\users\\nekon\\anaconda3\\lib\\site-packages (from keras-tuner) (23.0)\n",
      "Requirement already satisfied: requests in c:\\users\\nekon\\anaconda3\\lib\\site-packages (from keras-tuner) (2.31.0)\n",
      "Collecting kt-legacy (from keras-tuner)\n",
      "  Downloading kt_legacy-1.0.5-py3-none-any.whl (9.6 kB)\n",
      "Requirement already satisfied: absl-py in c:\\users\\nekon\\anaconda3\\lib\\site-packages (from keras-core->keras-tuner) (1.4.0)\n",
      "Requirement already satisfied: numpy in c:\\users\\nekon\\anaconda3\\lib\\site-packages (from keras-core->keras-tuner) (1.24.3)\n",
      "Collecting rich (from keras-core->keras-tuner)\n",
      "  Obtaining dependency information for rich from https://files.pythonhosted.org/packages/be/2a/4e62ff633612f746f88618852a626bbe24226eba5e7ac90e91dcfd6a414e/rich-13.6.0-py3-none-any.whl.metadata\n",
      "  Downloading rich-13.6.0-py3-none-any.whl.metadata (18 kB)\n",
      "Collecting namex (from keras-core->keras-tuner)\n",
      "  Downloading namex-0.0.7-py3-none-any.whl (5.8 kB)\n",
      "Requirement already satisfied: h5py in c:\\users\\nekon\\anaconda3\\lib\\site-packages (from keras-core->keras-tuner) (3.7.0)\n",
      "Collecting dm-tree (from keras-core->keras-tuner)\n",
      "  Downloading dm_tree-0.1.8-cp311-cp311-win_amd64.whl (101 kB)\n",
      "     ---------------------------------------- 0.0/101.3 kB ? eta -:--:--\n",
      "     ---------------------------------------- 0.0/101.3 kB ? eta -:--:--\n",
      "     ---- ----------------------------------- 10.2/101.3 kB ? eta -:--:--\n",
      "     ---- ----------------------------------- 10.2/101.3 kB ? eta -:--:--\n",
      "     ----------- ------------------------- 30.7/101.3 kB 217.9 kB/s eta 0:00:01\n",
      "     ----------- ------------------------- 30.7/101.3 kB 217.9 kB/s eta 0:00:01\n",
      "     ----------- ------------------------- 30.7/101.3 kB 217.9 kB/s eta 0:00:01\n",
      "     ----------- ------------------------- 30.7/101.3 kB 217.9 kB/s eta 0:00:01\n",
      "     ----------- ------------------------- 30.7/101.3 kB 217.9 kB/s eta 0:00:01\n",
      "     ----------- ------------------------- 30.7/101.3 kB 217.9 kB/s eta 0:00:01\n",
      "     --------------- ---------------------- 41.0/101.3 kB 85.3 kB/s eta 0:00:01\n",
      "     ---------------------- -------------- 61.4/101.3 kB 126.1 kB/s eta 0:00:01\n",
      "     -------------------------- ---------- 71.7/101.3 kB 131.0 kB/s eta 0:00:01\n",
      "     --------------------------------- --- 92.2/101.3 kB 158.8 kB/s eta 0:00:01\n",
      "     ------------------------------------ 101.3/101.3 kB 171.6 kB/s eta 0:00:00\n",
      "Requirement already satisfied: charset-normalizer<4,>=2 in c:\\users\\nekon\\anaconda3\\lib\\site-packages (from requests->keras-tuner) (2.0.4)\n",
      "Requirement already satisfied: idna<4,>=2.5 in c:\\users\\nekon\\anaconda3\\lib\\site-packages (from requests->keras-tuner) (3.4)\n",
      "Requirement already satisfied: urllib3<3,>=1.21.1 in c:\\users\\nekon\\anaconda3\\lib\\site-packages (from requests->keras-tuner) (1.26.16)\n",
      "Requirement already satisfied: certifi>=2017.4.17 in c:\\users\\nekon\\anaconda3\\lib\\site-packages (from requests->keras-tuner) (2023.7.22)\n",
      "Requirement already satisfied: markdown-it-py>=2.2.0 in c:\\users\\nekon\\anaconda3\\lib\\site-packages (from rich->keras-core->keras-tuner) (2.2.0)\n",
      "Requirement already satisfied: pygments<3.0.0,>=2.13.0 in c:\\users\\nekon\\anaconda3\\lib\\site-packages (from rich->keras-core->keras-tuner) (2.15.1)\n",
      "Requirement already satisfied: mdurl~=0.1 in c:\\users\\nekon\\anaconda3\\lib\\site-packages (from markdown-it-py>=2.2.0->rich->keras-core->keras-tuner) (0.1.0)\n",
      "Downloading keras_tuner-1.4.3-py3-none-any.whl (127 kB)\n",
      "   ---------------------------------------- 0.0/127.9 kB ? eta -:--:--\n",
      "   ---------------------------------------- 0.0/127.9 kB ? eta -:--:--\n",
      "   --- ------------------------------------ 10.2/127.9 kB ? eta -:--:--\n",
      "   --------- ----------------------------- 30.7/127.9 kB 325.1 kB/s eta 0:00:01\n",
      "   ------------ -------------------------- 41.0/127.9 kB 245.8 kB/s eta 0:00:01\n",
      "   ------------------ -------------------- 61.4/127.9 kB 326.1 kB/s eta 0:00:01\n",
      "   ------------------------ -------------- 81.9/127.9 kB 327.3 kB/s eta 0:00:01\n",
      "   ------------------------ -------------- 81.9/127.9 kB 327.3 kB/s eta 0:00:01\n",
      "   ---------------------------- ---------- 92.2/127.9 kB 290.5 kB/s eta 0:00:01\n",
      "   --------------------------------- ---- 112.6/127.9 kB 284.4 kB/s eta 0:00:01\n",
      "   -------------------------------------- 127.9/127.9 kB 289.0 kB/s eta 0:00:00\n",
      "Downloading keras_core-0.1.7-py3-none-any.whl (950 kB)\n",
      "   ---------------------------------------- 0.0/950.8 kB ? eta -:--:--\n",
      "   ---------------------------------------- 10.2/950.8 kB ? eta -:--:--\n",
      "   - ------------------------------------- 30.7/950.8 kB 435.7 kB/s eta 0:00:03\n",
      "   - ------------------------------------- 41.0/950.8 kB 326.8 kB/s eta 0:00:03\n",
      "   -- ------------------------------------ 61.4/950.8 kB 409.6 kB/s eta 0:00:03\n",
      "   -- ------------------------------------ 71.7/950.8 kB 357.2 kB/s eta 0:00:03\n",
      "   --- ----------------------------------- 92.2/950.8 kB 374.1 kB/s eta 0:00:03\n",
      "   ---- --------------------------------- 112.6/950.8 kB 409.6 kB/s eta 0:00:03\n",
      "   ---- --------------------------------- 112.6/950.8 kB 409.6 kB/s eta 0:00:03\n",
      "   ----- -------------------------------- 143.4/950.8 kB 355.0 kB/s eta 0:00:03\n",
      "   ------ ------------------------------- 153.6/950.8 kB 339.7 kB/s eta 0:00:03\n",
      "   ------ ------------------------------- 174.1/950.8 kB 361.7 kB/s eta 0:00:03\n",
      "   ------- ------------------------------ 194.6/950.8 kB 368.6 kB/s eta 0:00:03\n",
      "   --------- ---------------------------- 225.3/950.8 kB 372.0 kB/s eta 0:00:02\n",
      "   --------- ---------------------------- 225.3/950.8 kB 372.0 kB/s eta 0:00:02\n",
      "   --------- ---------------------------- 235.5/950.8 kB 351.4 kB/s eta 0:00:03\n",
      "   ---------- --------------------------- 256.0/950.8 kB 357.2 kB/s eta 0:00:02\n",
      "   ----------- -------------------------- 286.7/950.8 kB 360.9 kB/s eta 0:00:02\n",
      "   ------------ ------------------------- 307.2/950.8 kB 372.6 kB/s eta 0:00:02\n",
      "   ------------ ------------------------- 317.4/950.8 kB 364.0 kB/s eta 0:00:02\n",
      "   ------------- ------------------------ 337.9/950.8 kB 374.5 kB/s eta 0:00:02\n",
      "   -------------- ----------------------- 358.4/950.8 kB 377.6 kB/s eta 0:00:02\n",
      "   -------------- ----------------------- 368.6/950.8 kB 363.9 kB/s eta 0:00:02\n",
      "   --------------- ---------------------- 389.1/950.8 kB 367.1 kB/s eta 0:00:02\n",
      "   --------------- ---------------------- 399.4/950.8 kB 371.7 kB/s eta 0:00:02\n",
      "   ---------------- --------------------- 409.6/950.8 kB 365.0 kB/s eta 0:00:02\n",
      "   ----------------- -------------------- 430.1/950.8 kB 368.0 kB/s eta 0:00:02\n",
      "   ------------------ ------------------- 450.6/950.8 kB 370.6 kB/s eta 0:00:02\n",
      "   ------------------ ------------------- 460.8/950.8 kB 364.8 kB/s eta 0:00:02\n",
      "   ------------------- ------------------ 481.3/950.8 kB 367.4 kB/s eta 0:00:02\n",
      "   ------------------- ------------------ 481.3/950.8 kB 367.4 kB/s eta 0:00:02\n",
      "   -------------------- ----------------- 512.0/950.8 kB 356.6 kB/s eta 0:00:02\n",
      "   --------------------- ---------------- 532.5/950.8 kB 359.4 kB/s eta 0:00:02\n",
      "   --------------------- ---------------- 542.7/950.8 kB 355.0 kB/s eta 0:00:02\n",
      "   ---------------------- --------------- 563.2/950.8 kB 357.4 kB/s eta 0:00:02\n",
      "   ---------------------- --------------- 573.4/950.8 kB 356.9 kB/s eta 0:00:02\n",
      "   ----------------------- -------------- 593.9/950.8 kB 359.2 kB/s eta 0:00:01\n",
      "   ------------------------ ------------- 614.4/950.8 kB 364.6 kB/s eta 0:00:01\n",
      "   ------------------------ ------------- 624.6/950.8 kB 360.8 kB/s eta 0:00:01\n",
      "   ------------------------- ------------ 645.1/950.8 kB 356.3 kB/s eta 0:00:01\n",
      "   -------------------------- ----------- 655.4/950.8 kB 352.9 kB/s eta 0:00:01\n",
      "   --------------------------- ---------- 675.8/950.8 kB 357.8 kB/s eta 0:00:01\n",
      "   --------------------------- ---------- 696.3/950.8 kB 359.8 kB/s eta 0:00:01\n",
      "   ---------------------------- --------- 706.6/950.8 kB 359.3 kB/s eta 0:00:01\n",
      "   ----------------------------- -------- 737.3/950.8 kB 360.6 kB/s eta 0:00:01\n",
      "   ------------------------------ ------- 757.8/950.8 kB 365.2 kB/s eta 0:00:01\n",
      "   ------------------------------- ------ 778.2/950.8 kB 369.6 kB/s eta 0:00:01\n",
      "   ------------------------------- ------ 788.5/950.8 kB 366.2 kB/s eta 0:00:01\n",
      "   -------------------------------- ----- 819.2/950.8 kB 367.2 kB/s eta 0:00:01\n",
      "   --------------------------------- ---- 839.7/950.8 kB 371.1 kB/s eta 0:00:01\n",
      "   ---------------------------------- --- 870.4/950.8 kB 374.5 kB/s eta 0:00:01\n",
      "   ----------------------------------- -- 890.9/950.8 kB 378.3 kB/s eta 0:00:01\n",
      "   ------------------------------------ - 921.6/950.8 kB 383.7 kB/s eta 0:00:01\n",
      "   -------------------------------------  942.1/950.8 kB 384.7 kB/s eta 0:00:01\n",
      "   -------------------------------------- 950.8/950.8 kB 385.8 kB/s eta 0:00:00\n",
      "Downloading rich-13.6.0-py3-none-any.whl (239 kB)\n",
      "   ---------------------------------------- 0.0/239.8 kB ? eta -:--:--\n",
      "   - -------------------------------------- 10.2/239.8 kB ? eta -:--:--\n",
      "   ------ -------------------------------- 41.0/239.8 kB 653.6 kB/s eta 0:00:01\n",
      "   ------------- ------------------------- 81.9/239.8 kB 762.6 kB/s eta 0:00:01\n",
      "   ----------------- -------------------- 112.6/239.8 kB 726.2 kB/s eta 0:00:01\n",
      "   ---------------------- --------------- 143.4/239.8 kB 708.1 kB/s eta 0:00:01\n",
      "   ---------------------- --------------- 143.4/239.8 kB 708.1 kB/s eta 0:00:01\n",
      "   ------------------------- ------------ 163.8/239.8 kB 544.7 kB/s eta 0:00:01\n",
      "   ------------------------------ ------- 194.6/239.8 kB 562.0 kB/s eta 0:00:01\n",
      "   ----------------------------------- -- 225.3/239.8 kB 550.0 kB/s eta 0:00:01\n",
      "   -------------------------------------- 239.8/239.8 kB 564.0 kB/s eta 0:00:00\n",
      "Installing collected packages: namex, kt-legacy, dm-tree, rich, keras-core, keras-tuner\n",
      "Successfully installed dm-tree-0.1.8 keras-core-0.1.7 keras-tuner-1.4.3 kt-legacy-1.0.5 namex-0.0.7 rich-13.6.0\n"
     ]
    }
   ],
   "source": [
    "!pip install keras-tuner"
   ]
  },
  {
   "cell_type": "code",
   "execution_count": 33,
   "id": "00882b02",
   "metadata": {},
   "outputs": [],
   "source": [
    "import pandas as pd\n",
    "import re\n",
    "\n",
    "import matplotlib.pyplot as plt\n",
    "\n",
    "import tensorflow as tf\n",
    "from tensorflow.keras.preprocessing.text import Tokenizer\n",
    "from tensorflow.keras.preprocessing.sequence import pad_sequences\n",
    "from tensorflow.keras.callbacks import EarlyStopping\n",
    "\n",
    "from tensorflow.keras.layers import Embedding\n",
    "from tensorflow.keras.layers import Bidirectional\n",
    "from tensorflow.keras.layers import LSTM\n",
    "from tensorflow.keras.layers import Dropout\n",
    "from tensorflow.keras.layers import Dense\n",
    "\n",
    "from tensorflow.keras.models import Sequential\n",
    "\n",
    "\n",
    "from sklearn.preprocessing import LabelEncoder\n",
    "\n",
    "from kerastuner.tuners import Hyperband\n",
    "from kerastuner import HyperParameters"
   ]
  },
  {
   "cell_type": "markdown",
   "id": "1d8eb281",
   "metadata": {},
   "source": [
    "# Загрузка данных"
   ]
  },
  {
   "cell_type": "code",
   "execution_count": 2,
   "id": "32ae906f",
   "metadata": {},
   "outputs": [],
   "source": [
    "train_data = pd.read_csv('train.csv')\n",
    "test_data = pd.read_csv('test.csv')\n",
    "submission_data = pd.read_csv('sample_submission.csv')"
   ]
  },
  {
   "cell_type": "markdown",
   "id": "e87799ce",
   "metadata": {},
   "source": [
    "# Анализ данных"
   ]
  },
  {
   "cell_type": "code",
   "execution_count": 3,
   "id": "ee624e0d",
   "metadata": {},
   "outputs": [
    {
     "data": {
      "text/html": [
       "<div>\n",
       "<style scoped>\n",
       "    .dataframe tbody tr th:only-of-type {\n",
       "        vertical-align: middle;\n",
       "    }\n",
       "\n",
       "    .dataframe tbody tr th {\n",
       "        vertical-align: top;\n",
       "    }\n",
       "\n",
       "    .dataframe thead th {\n",
       "        text-align: right;\n",
       "    }\n",
       "</style>\n",
       "<table border=\"1\" class=\"dataframe\">\n",
       "  <thead>\n",
       "    <tr style=\"text-align: right;\">\n",
       "      <th></th>\n",
       "      <th>Unnamed: 0</th>\n",
       "      <th>Text</th>\n",
       "      <th>Sentiment</th>\n",
       "    </tr>\n",
       "  </thead>\n",
       "  <tbody>\n",
       "    <tr>\n",
       "      <th>0</th>\n",
       "      <td>0</td>\n",
       "      <td>@MeNyrbie @Phil_Gahan @Chrisitv https://t.co/i...</td>\n",
       "      <td>Neutral</td>\n",
       "    </tr>\n",
       "    <tr>\n",
       "      <th>1</th>\n",
       "      <td>1</td>\n",
       "      <td>advice Talk to your neighbours family to excha...</td>\n",
       "      <td>Positive</td>\n",
       "    </tr>\n",
       "    <tr>\n",
       "      <th>2</th>\n",
       "      <td>2</td>\n",
       "      <td>Coronavirus Australia: Woolworths to give elde...</td>\n",
       "      <td>Positive</td>\n",
       "    </tr>\n",
       "    <tr>\n",
       "      <th>3</th>\n",
       "      <td>3</td>\n",
       "      <td>My food stock is not the only one which is emp...</td>\n",
       "      <td>Positive</td>\n",
       "    </tr>\n",
       "    <tr>\n",
       "      <th>4</th>\n",
       "      <td>4</td>\n",
       "      <td>Me, ready to go at supermarket during the #COV...</td>\n",
       "      <td>Extremely Negative</td>\n",
       "    </tr>\n",
       "  </tbody>\n",
       "</table>\n",
       "</div>"
      ],
      "text/plain": [
       "  Unnamed: 0                                               Text  \\\n",
       "0          0  @MeNyrbie @Phil_Gahan @Chrisitv https://t.co/i...   \n",
       "1          1  advice Talk to your neighbours family to excha...   \n",
       "2          2  Coronavirus Australia: Woolworths to give elde...   \n",
       "3          3  My food stock is not the only one which is emp...   \n",
       "4          4  Me, ready to go at supermarket during the #COV...   \n",
       "\n",
       "            Sentiment  \n",
       "0             Neutral  \n",
       "1            Positive  \n",
       "2            Positive  \n",
       "3            Positive  \n",
       "4  Extremely Negative  "
      ]
     },
     "execution_count": 3,
     "metadata": {},
     "output_type": "execute_result"
    }
   ],
   "source": [
    "train_data.head()"
   ]
  },
  {
   "cell_type": "code",
   "execution_count": 4,
   "id": "296bb6ab",
   "metadata": {},
   "outputs": [
    {
     "data": {
      "text/html": [
       "<div>\n",
       "<style scoped>\n",
       "    .dataframe tbody tr th:only-of-type {\n",
       "        vertical-align: middle;\n",
       "    }\n",
       "\n",
       "    .dataframe tbody tr th {\n",
       "        vertical-align: top;\n",
       "    }\n",
       "\n",
       "    .dataframe thead th {\n",
       "        text-align: right;\n",
       "    }\n",
       "</style>\n",
       "<table border=\"1\" class=\"dataframe\">\n",
       "  <thead>\n",
       "    <tr style=\"text-align: right;\">\n",
       "      <th></th>\n",
       "      <th>id</th>\n",
       "      <th>Text</th>\n",
       "    </tr>\n",
       "  </thead>\n",
       "  <tbody>\n",
       "    <tr>\n",
       "      <th>0</th>\n",
       "      <td>787bc85b-20d4-46d8-84a0-562a2527f684</td>\n",
       "      <td>TRENDING: New Yorkers encounter empty supermar...</td>\n",
       "    </tr>\n",
       "    <tr>\n",
       "      <th>1</th>\n",
       "      <td>17e934cd-ba94-4d4f-9ac0-ead202abe241</td>\n",
       "      <td>When I couldn't find hand sanitizer at Fred Me...</td>\n",
       "    </tr>\n",
       "    <tr>\n",
       "      <th>2</th>\n",
       "      <td>5914534b-2b0f-4de8-bb8a-e25587697e0d</td>\n",
       "      <td>Find out how you can protect yourself and love...</td>\n",
       "    </tr>\n",
       "    <tr>\n",
       "      <th>3</th>\n",
       "      <td>cdf06cfe-29ae-48ee-ac6d-be448103ba45</td>\n",
       "      <td>#Panic buying hits #NewYork City as anxious sh...</td>\n",
       "    </tr>\n",
       "    <tr>\n",
       "      <th>4</th>\n",
       "      <td>aff63979-0256-4fb9-a2d9-86a3d3ca5470</td>\n",
       "      <td>#toiletpaper #dunnypaper #coronavirus #coronav...</td>\n",
       "    </tr>\n",
       "  </tbody>\n",
       "</table>\n",
       "</div>"
      ],
      "text/plain": [
       "                                     id  \\\n",
       "0  787bc85b-20d4-46d8-84a0-562a2527f684   \n",
       "1  17e934cd-ba94-4d4f-9ac0-ead202abe241   \n",
       "2  5914534b-2b0f-4de8-bb8a-e25587697e0d   \n",
       "3  cdf06cfe-29ae-48ee-ac6d-be448103ba45   \n",
       "4  aff63979-0256-4fb9-a2d9-86a3d3ca5470   \n",
       "\n",
       "                                                Text  \n",
       "0  TRENDING: New Yorkers encounter empty supermar...  \n",
       "1  When I couldn't find hand sanitizer at Fred Me...  \n",
       "2  Find out how you can protect yourself and love...  \n",
       "3  #Panic buying hits #NewYork City as anxious sh...  \n",
       "4  #toiletpaper #dunnypaper #coronavirus #coronav...  "
      ]
     },
     "execution_count": 4,
     "metadata": {},
     "output_type": "execute_result"
    }
   ],
   "source": [
    "test_data.head()"
   ]
  },
  {
   "cell_type": "code",
   "execution_count": 5,
   "id": "f01184c6",
   "metadata": {},
   "outputs": [
    {
     "data": {
      "text/html": [
       "<div>\n",
       "<style scoped>\n",
       "    .dataframe tbody tr th:only-of-type {\n",
       "        vertical-align: middle;\n",
       "    }\n",
       "\n",
       "    .dataframe tbody tr th {\n",
       "        vertical-align: top;\n",
       "    }\n",
       "\n",
       "    .dataframe thead th {\n",
       "        text-align: right;\n",
       "    }\n",
       "</style>\n",
       "<table border=\"1\" class=\"dataframe\">\n",
       "  <thead>\n",
       "    <tr style=\"text-align: right;\">\n",
       "      <th></th>\n",
       "      <th>id</th>\n",
       "      <th>Sentiment</th>\n",
       "    </tr>\n",
       "  </thead>\n",
       "  <tbody>\n",
       "    <tr>\n",
       "      <th>0</th>\n",
       "      <td>787bc85b-20d4-46d8-84a0-562a2527f684</td>\n",
       "      <td>Neutral</td>\n",
       "    </tr>\n",
       "    <tr>\n",
       "      <th>1</th>\n",
       "      <td>17e934cd-ba94-4d4f-9ac0-ead202abe241</td>\n",
       "      <td>Neutral</td>\n",
       "    </tr>\n",
       "    <tr>\n",
       "      <th>2</th>\n",
       "      <td>5914534b-2b0f-4de8-bb8a-e25587697e0d</td>\n",
       "      <td>Neutral</td>\n",
       "    </tr>\n",
       "    <tr>\n",
       "      <th>3</th>\n",
       "      <td>cdf06cfe-29ae-48ee-ac6d-be448103ba45</td>\n",
       "      <td>Neutral</td>\n",
       "    </tr>\n",
       "    <tr>\n",
       "      <th>4</th>\n",
       "      <td>aff63979-0256-4fb9-a2d9-86a3d3ca5470</td>\n",
       "      <td>Neutral</td>\n",
       "    </tr>\n",
       "  </tbody>\n",
       "</table>\n",
       "</div>"
      ],
      "text/plain": [
       "                                     id Sentiment\n",
       "0  787bc85b-20d4-46d8-84a0-562a2527f684   Neutral\n",
       "1  17e934cd-ba94-4d4f-9ac0-ead202abe241   Neutral\n",
       "2  5914534b-2b0f-4de8-bb8a-e25587697e0d   Neutral\n",
       "3  cdf06cfe-29ae-48ee-ac6d-be448103ba45   Neutral\n",
       "4  aff63979-0256-4fb9-a2d9-86a3d3ca5470   Neutral"
      ]
     },
     "execution_count": 5,
     "metadata": {},
     "output_type": "execute_result"
    }
   ],
   "source": [
    "submission_data.head()"
   ]
  },
  {
   "cell_type": "code",
   "execution_count": 6,
   "id": "ee3c0a6e",
   "metadata": {},
   "outputs": [
    {
     "data": {
      "text/plain": [
       "Positive              11422\n",
       "Negative               9917\n",
       "Neutral                7711\n",
       "Extremely Positive     6624\n",
       "Extremely Negative     5481\n",
       "Name: Sentiment, dtype: int64"
      ]
     },
     "execution_count": 6,
     "metadata": {},
     "output_type": "execute_result"
    }
   ],
   "source": [
    "# Проверка распределения столбца 'Sentiment' в тренировочном датасете\n",
    "sentiment_distribution = train_data['Sentiment'].value_counts()\n",
    "sentiment_distribution"
   ]
  },
  {
   "cell_type": "code",
   "execution_count": 7,
   "id": "f3d599c7",
   "metadata": {},
   "outputs": [
    {
     "data": {
      "text/plain": [
       "(1, 0)"
      ]
     },
     "execution_count": 7,
     "metadata": {},
     "output_type": "execute_result"
    }
   ],
   "source": [
    "# Проверим наличие пропущенных значений в колонке \"Text\" обучающего и тестового набора данных\n",
    "missing_train = train_data[\"Text\"].isnull().sum()\n",
    "missing_test = test_data[\"Text\"].isnull().sum()\n",
    "\n",
    "missing_train, missing_test"
   ]
  },
  {
   "cell_type": "code",
   "execution_count": 8,
   "id": "46d0fc18",
   "metadata": {},
   "outputs": [],
   "source": [
    "# Удаление строк с пропущенными значениями\n",
    "train_data = train_data.dropna(subset=[\"Text\"])"
   ]
  },
  {
   "cell_type": "markdown",
   "id": "807fb7d6",
   "metadata": {},
   "source": [
    "# Предобработка данных"
   ]
  },
  {
   "cell_type": "code",
   "execution_count": 9,
   "id": "023fe7a4",
   "metadata": {},
   "outputs": [
    {
     "data": {
      "text/html": [
       "<div>\n",
       "<style scoped>\n",
       "    .dataframe tbody tr th:only-of-type {\n",
       "        vertical-align: middle;\n",
       "    }\n",
       "\n",
       "    .dataframe tbody tr th {\n",
       "        vertical-align: top;\n",
       "    }\n",
       "\n",
       "    .dataframe thead th {\n",
       "        text-align: right;\n",
       "    }\n",
       "</style>\n",
       "<table border=\"1\" class=\"dataframe\">\n",
       "  <thead>\n",
       "    <tr style=\"text-align: right;\">\n",
       "      <th></th>\n",
       "      <th>Text</th>\n",
       "      <th>Processed_Text</th>\n",
       "    </tr>\n",
       "  </thead>\n",
       "  <tbody>\n",
       "    <tr>\n",
       "      <th>0</th>\n",
       "      <td>@MeNyrbie @Phil_Gahan @Chrisitv https://t.co/i...</td>\n",
       "      <td>menyrbie phil_gahan chrisitv and and</td>\n",
       "    </tr>\n",
       "    <tr>\n",
       "      <th>1</th>\n",
       "      <td>advice Talk to your neighbours family to excha...</td>\n",
       "      <td>advice talk to your neighbours family to excha...</td>\n",
       "    </tr>\n",
       "    <tr>\n",
       "      <th>2</th>\n",
       "      <td>Coronavirus Australia: Woolworths to give elde...</td>\n",
       "      <td>coronavirus australia woolworths to give elder...</td>\n",
       "    </tr>\n",
       "    <tr>\n",
       "      <th>3</th>\n",
       "      <td>My food stock is not the only one which is emp...</td>\n",
       "      <td>my food stock is not the only one which is emp...</td>\n",
       "    </tr>\n",
       "    <tr>\n",
       "      <th>4</th>\n",
       "      <td>Me, ready to go at supermarket during the #COV...</td>\n",
       "      <td>me ready to go at supermarket during the covid...</td>\n",
       "    </tr>\n",
       "  </tbody>\n",
       "</table>\n",
       "</div>"
      ],
      "text/plain": [
       "                                                Text  \\\n",
       "0  @MeNyrbie @Phil_Gahan @Chrisitv https://t.co/i...   \n",
       "1  advice Talk to your neighbours family to excha...   \n",
       "2  Coronavirus Australia: Woolworths to give elde...   \n",
       "3  My food stock is not the only one which is emp...   \n",
       "4  Me, ready to go at supermarket during the #COV...   \n",
       "\n",
       "                                      Processed_Text  \n",
       "0              menyrbie phil_gahan chrisitv and and   \n",
       "1  advice talk to your neighbours family to excha...  \n",
       "2  coronavirus australia woolworths to give elder...  \n",
       "3  my food stock is not the only one which is emp...  \n",
       "4  me ready to go at supermarket during the covid...  "
      ]
     },
     "execution_count": 9,
     "metadata": {},
     "output_type": "execute_result"
    }
   ],
   "source": [
    "def preprocess_text(text):\n",
    "    \"\"\"\n",
    "    Предобработка текста: преобразование в нижний регистр, удаление URL, знаков препинания и т.д.\n",
    "    \"\"\"\n",
    "    # Преобразование в нижний регистр\n",
    "    text = text.lower()\n",
    "    \n",
    "    # Удаление URL\n",
    "    text = re.sub(r\"http\\S+|www\\S+|https\\S+\", '', text, flags=re.MULTILINE)\n",
    "    \n",
    "    # Удаление знаков препинания и чисел\n",
    "    text = re.sub(r'\\W', ' ', text)\n",
    "    text = re.sub(r'\\s+[a-zA-Z]\\s+', ' ', text)\n",
    "    text = re.sub(r'\\^[a-zA-Z]\\s+', ' ', text) \n",
    "    text = re.sub(r'\\s+', ' ', text, flags=re.I)\n",
    "    \n",
    "    return text\n",
    "\n",
    "# Предобработка текстовых данных\n",
    "train_data[\"Processed_Text\"] = train_data[\"Text\"].apply(preprocess_text)\n",
    "test_data[\"Processed_Text\"] = test_data[\"Text\"].apply(preprocess_text)\n",
    "\n",
    "train_data[[\"Text\", \"Processed_Text\"]].head()"
   ]
  },
  {
   "cell_type": "code",
   "execution_count": 10,
   "id": "0de74b7f",
   "metadata": {},
   "outputs": [
    {
     "data": {
      "text/plain": [
       "((41158, 62), (3798, 62))"
      ]
     },
     "execution_count": 10,
     "metadata": {},
     "output_type": "execute_result"
    }
   ],
   "source": [
    "# Инициализация токенизатора\n",
    "tokenizer = Tokenizer(oov_token=\"<OOV>\")\n",
    "tokenizer.fit_on_texts(train_data[\"Processed_Text\"])\n",
    "\n",
    "# Преобразование текста в последовательности чисел\n",
    "train_sequences = tokenizer.texts_to_sequences(train_data[\"Processed_Text\"])\n",
    "test_sequences = tokenizer.texts_to_sequences(test_data[\"Processed_Text\"])\n",
    "\n",
    "# Определение максимальной длины последовательности\n",
    "max_length = max([len(seq) for seq in train_sequences])\n",
    "\n",
    "# Дополнение последовательностей до одной и той же длины\n",
    "train_padded = pad_sequences(train_sequences, maxlen=max_length, padding='post', truncating='post')\n",
    "test_padded = pad_sequences(test_sequences, maxlen=max_length, padding='post', truncating='post')\n",
    "\n",
    "train_padded.shape, test_padded.shape"
   ]
  },
  {
   "cell_type": "code",
   "execution_count": 11,
   "id": "c67cf2a8",
   "metadata": {},
   "outputs": [
    {
     "data": {
      "text/plain": [
       "array(['Extremely Negative', 'Extremely Positive', 'Negative', 'Neutral',\n",
       "       'Positive', nan], dtype=object)"
      ]
     },
     "execution_count": 11,
     "metadata": {},
     "output_type": "execute_result"
    }
   ],
   "source": [
    "# Инициализация и обучение LabelEncoder\n",
    "encoder = LabelEncoder()\n",
    "train_labels = encoder.fit_transform(train_data[\"Sentiment\"])\n",
    "\n",
    "# Проверка уникальных классов\n",
    "unique_classes = encoder.classes_\n",
    "unique_classes"
   ]
  },
  {
   "cell_type": "code",
   "execution_count": null,
   "id": "b0e382d2",
   "metadata": {},
   "outputs": [],
   "source": [
    "# Загрузка предварительно обученных векторов слов \n",
    "word2vec_model = KeyedVectors.load_word2vec_format('GoogleNews-vectors-negative300.bin', binary=True)"
   ]
  },
  {
   "cell_type": "markdown",
   "id": "3bcfb32e",
   "metadata": {},
   "source": [
    "# Построение RNN"
   ]
  },
  {
   "cell_type": "code",
   "execution_count": 12,
   "id": "32d9a986",
   "metadata": {},
   "outputs": [
    {
     "name": "stdout",
     "output_type": "stream",
     "text": [
      "Epoch 1/5\n",
      "1029/1029 [==============================] - 21s 19ms/step - loss: 1.5853 - accuracy: 0.2645 - val_loss: 1.5750 - val_accuracy: 0.2229\n",
      "Epoch 2/5\n",
      "1029/1029 [==============================] - 19s 19ms/step - loss: 1.5791 - accuracy: 0.2678 - val_loss: 1.5753 - val_accuracy: 0.2880\n",
      "Epoch 3/5\n",
      "1029/1029 [==============================] - 19s 18ms/step - loss: 1.5781 - accuracy: 0.2720 - val_loss: 1.5772 - val_accuracy: 0.2880\n",
      "Epoch 4/5\n",
      "1029/1029 [==============================] - 19s 18ms/step - loss: 1.5773 - accuracy: 0.2719 - val_loss: 1.5743 - val_accuracy: 0.2880\n",
      "Epoch 5/5\n",
      "1029/1029 [==============================] - 19s 18ms/step - loss: 1.5774 - accuracy: 0.2719 - val_loss: 1.5737 - val_accuracy: 0.2880\n"
     ]
    }
   ],
   "source": [
    "# Создание матрицы весов для слоя Embedding\n",
    "vocab_size = len(tokenizer.word_index) + 1\n",
    "embedding_matrix = np.zeros((vocab_size, 300))  # используем размерность 300 для word2vec \n",
    "\n",
    "for word, i in tokenizer.word_index.items():\n",
    "    if word in word2vec_model:\n",
    "        embedding_vector = word2vec_model[word]\n",
    "        embedding_matrix[i] = embedding_vector  \n",
    "\n",
    "# Определение размера словаря и размера вложения\n",
    "vocab_size = len(tokenizer.word_index) + 1\n",
    "\n",
    "# Создание модели\n",
    "model = tf.keras.Sequential([\n",
    "    tf.keras.layers.Embedding(vocab_size, 300, weights=[embedding_matrix],\n",
    "                              input_length=max_length, trainable=False),  \n",
    "    tf.keras.layers.LSTM(64, return_sequences=True),\n",
    "    tf.keras.layers.LSTM(32),\n",
    "    tf.keras.layers.Dense(64, activation='relu'),\n",
    "    tf.keras.layers.Dense(len(train_data['Sentiment'].unique()), activation='softmax')\n",
    "])\n",
    "\n",
    "# Компиляция модели\n",
    "model.compile(loss='sparse_categorical_crossentropy', optimizer='adam', metrics=['accuracy'])\n",
    "\n",
    "# Обучение модели\n",
    "history = model.fit(train_padded, train_labels, epochs=5, validation_split=0.2, batch_size=32)"
   ]
  },
  {
   "cell_type": "code",
   "execution_count": 13,
   "id": "27051231",
   "metadata": {},
   "outputs": [
    {
     "data": {
      "image/png": "[encoded data removed]",
      "text/plain": [
       "<Figure size 1200x400 with 2 Axes>"
      ]
     },
     "metadata": {},
     "output_type": "display_data"
    }
   ],
   "source": [
    "def plot_training_history(history):\n",
    "    \"\"\"\n",
    "    Визуализация истории обучения модели.\n",
    "    \n",
    "    Параметры:\n",
    "    - history: объект истории, возвращенный функцией model.fit().\n",
    "    \"\"\"\n",
    "    plt.figure(figsize=(12, 4))\n",
    "\n",
    "    # График потерь\n",
    "    plt.subplot(1, 2, 1)\n",
    "    plt.plot(history.history['loss'], label='Training Loss')\n",
    "    plt.plot(history.history['val_loss'], label='Validation Loss')\n",
    "    plt.legend()\n",
    "    plt.title('Loss Evolution')\n",
    "\n",
    "    # График точности\n",
    "    plt.subplot(1, 2, 2)\n",
    "    plt.plot(history.history['accuracy'], label='Training Accuracy')\n",
    "    plt.plot(history.history['val_accuracy'], label='Validation Accuracy')\n",
    "    plt.legend()\n",
    "    plt.title('Accuracy Evolution')\n",
    "\n",
    "    plt.tight_layout()\n",
    "    plt.show()\n",
    "    \n",
    "plot_training_history(history)"
   ]
  },
  {
   "cell_type": "markdown",
   "id": "bb1b8e29",
   "metadata": {},
   "source": [
    "Модель успешно обучается, что видно по уменьшению потерь и увеличению точности на тренировочных данных.\n",
    "\n",
    "При этом, начиная с пятой эпохи,судя по графикам, модель переобучается, т.к. валидационные потери начинают увеличиваться, а точность немного уменьшается.\n",
    "\n",
    "Рассмотрим добавление регуляризации и используем метод dropout.\n",
    "\n",
    "Также рассмотрим возможность обучения модели на большем количестве эпох с ранним остановом на основе валидационных потерь, чтобы предотвратить дальнейшее переобучение."
   ]
  },
  {
   "cell_type": "code",
   "execution_count": 14,
   "id": "aaa0a4d9",
   "metadata": {},
   "outputs": [
    {
     "name": "stdout",
     "output_type": "stream",
     "text": [
      "Epoch 1/10\n",
      "1029/1029 [==============================] - 21s 19ms/step - loss: 1.4754 - accuracy: 0.3365 - val_loss: 1.2793 - val_accuracy: 0.4715\n",
      "Epoch 2/10\n",
      "1029/1029 [==============================] - 19s 19ms/step - loss: 1.2181 - accuracy: 0.4903 - val_loss: 1.2329 - val_accuracy: 0.4775\n",
      "Epoch 3/10\n",
      "1029/1029 [==============================] - 19s 19ms/step - loss: 0.9756 - accuracy: 0.6251 - val_loss: 0.9454 - val_accuracy: 0.6393\n",
      "Epoch 4/10\n",
      "1029/1029 [==============================] - 20s 19ms/step - loss: 0.7536 - accuracy: 0.7300 - val_loss: 0.7634 - val_accuracy: 0.7252\n",
      "Epoch 5/10\n",
      "1029/1029 [==============================] - 20s 19ms/step - loss: 0.6220 - accuracy: 0.7850 - val_loss: 0.7456 - val_accuracy: 0.7473\n",
      "Epoch 6/10\n",
      "1029/1029 [==============================] - 20s 19ms/step - loss: 0.5344 - accuracy: 0.8214 - val_loss: 0.7350 - val_accuracy: 0.7471\n",
      "Epoch 7/10\n",
      "1029/1029 [==============================] - 20s 19ms/step - loss: 0.4770 - accuracy: 0.8438 - val_loss: 0.7358 - val_accuracy: 0.7474\n",
      "Epoch 8/10\n",
      "1029/1029 [==============================] - 20s 19ms/step - loss: 0.4156 - accuracy: 0.8688 - val_loss: 0.7363 - val_accuracy: 0.7500\n",
      "Epoch 9/10\n",
      "1029/1029 [==============================] - 20s 19ms/step - loss: 0.3738 - accuracy: 0.8805 - val_loss: 0.7652 - val_accuracy: 0.7490\n"
     ]
    }
   ],
   "source": [
    "# Определение размера словаря и размера вложения\n",
    "vocab_size = len(tokenizer.word_index) + 189\n",
    "\n",
    "# Создание модели\n",
    "model = tf.keras.Sequential([\n",
    "    tf.keras.layers.Embedding(vocab_size, 300, weights=[embedding_matrix],\n",
    "                              input_length=max_length, trainable=False),\n",
    "    tf.keras.layers.Dropout(0.5),  # Dropout слой\n",
    "    tf.keras.layers.LSTM(64, return_sequences=True),\n",
    "    tf.keras.layers.Dropout(0.5),  # Dropout слой\n",
    "    tf.keras.layers.LSTM(32),\n",
    "    tf.keras.layers.Dense(64, activation='relu'),\n",
    "    tf.keras.layers.Dropout(0.5),  # Dropout слой\n",
    "    tf.keras.layers.Dense(len(unique_classes), activation='softmax')\n",
    "])\n",
    "\n",
    "# Компиляция модели\n",
    "model.compile(loss='sparse_categorical_crossentropy', optimizer='adam', metrics=['accuracy'])\n",
    "\n",
    "# Callback для раннего останова\n",
    "early_stop = EarlyStopping(monitor='val_loss', patience=3, restore_best_weights=True)\n",
    "\n",
    "# Обучение модели с добавлением callback для раннего останова\n",
    "history = model.fit(train_padded, train_labels, epochs=10, validation_split=0.2, batch_size=32, callbacks=[early_stop])"
   ]
  },
  {
   "cell_type": "code",
   "execution_count": 15,
   "id": "0068a63e",
   "metadata": {},
   "outputs": [
    {
     "data": {
      "image/png": "[encoded data removed]",
      "text/plain": [
       "<Figure size 1200x400 with 2 Axes>"
      ]
     },
     "metadata": {},
     "output_type": "display_data"
    }
   ],
   "source": [
    "plot_training_history(history)"
   ]
  },
  {
   "cell_type": "markdown",
   "id": "2ffe2654",
   "metadata": {},
   "source": [
    "Данная модель также успешно обучается, что видно по уменьшению потерь и увеличению точности на тренировочных данных.\n",
    "\n",
    "Механизм раннего останова, по всей видимости, успешно прекратил обучение, когда валидационные потери начали расти (после 6-й эпохи), предотвращая дальнейшее переобучение.\n",
    "\n",
    "Добавление Dropout и раннего останова помогли улучшить производительность модели на валидационных данных."
   ]
  },
  {
   "cell_type": "code",
   "execution_count": 16,
   "id": "1cc08d77",
   "metadata": {},
   "outputs": [
    {
     "name": "stdout",
     "output_type": "stream",
     "text": [
      "Epoch 1/10\n",
      "1029/1029 [==============================] - 40s 35ms/step - loss: 1.3480 - accuracy: 0.4189 - val_loss: 0.9219 - val_accuracy: 0.6419\n",
      "Epoch 2/10\n",
      "1029/1029 [==============================] - 35s 34ms/step - loss: 0.7628 - accuracy: 0.7280 - val_loss: 0.7107 - val_accuracy: 0.7391\n",
      "Epoch 3/10\n",
      "1029/1029 [==============================] - 35s 34ms/step - loss: 0.5016 - accuracy: 0.8358 - val_loss: 0.6810 - val_accuracy: 0.7726\n",
      "Epoch 4/10\n",
      "1029/1029 [==============================] - 35s 34ms/step - loss: 0.3486 - accuracy: 0.8896 - val_loss: 0.7157 - val_accuracy: 0.7813\n",
      "Epoch 5/10\n",
      "1029/1029 [==============================] - 35s 34ms/step - loss: 0.2530 - accuracy: 0.9188 - val_loss: 0.8180 - val_accuracy: 0.7853\n",
      "Epoch 6/10\n",
      "1029/1029 [==============================] - 35s 34ms/step - loss: 0.1861 - accuracy: 0.9421 - val_loss: 0.8361 - val_accuracy: 0.7767\n"
     ]
    }
   ],
   "source": [
    "# Определение размера словаря и размера вложения\n",
    "vocab_size = len(tokenizer.word_index) + 1\n",
    "\n",
    "# Создание модели\n",
    "model = tf.keras.Sequential([\n",
    "    tf.keras.layers.Embedding(vocab_size, 300, weights=[embedding_matrix],\n",
    "                              input_length=max_length, trainable=False),\n",
    "    tf.keras.layers.Bidirectional(tf.keras.layers.LSTM(64, return_sequences=True)),  # Bidirectional LSTM\n",
    "    tf.keras.layers.Dropout(0.5),\n",
    "    tf.keras.layers.Bidirectional(tf.keras.layers.LSTM(32, return_sequences=True)),  # Добавляем еще один слой LSTM\n",
    "    tf.keras.layers.Dropout(0.5),\n",
    "    tf.keras.layers.Bidirectional(tf.keras.layers.LSTM(32)),\n",
    "    tf.keras.layers.Dense(64, activation='relu'),\n",
    "    tf.keras.layers.Dropout(0.5),\n",
    "    tf.keras.layers.Dense(len(unique_classes), activation='softmax')\n",
    "])\n",
    "\n",
    "# Компиляция модели\n",
    "model.compile(loss='sparse_categorical_crossentropy', optimizer='adam', metrics=['accuracy'])\n",
    "\n",
    "# Callback для раннего останова\n",
    "early_stop = EarlyStopping(monitor='val_loss', patience=3, restore_best_weights=True)\n",
    "\n",
    "# Обучение модели с добавлением callback для раннего останова\n",
    "history = model.fit(train_padded, train_labels, epochs=10, validation_split=0.2, batch_size=32, callbacks=[early_stop])"
   ]
  },
  {
   "cell_type": "code",
   "execution_count": 17,
   "id": "154b7e28",
   "metadata": {},
   "outputs": [
    {
     "name": "stdout",
     "output_type": "stream",
     "text": [
      "119/119 [==============================] - 2s 7ms/step\n"
     ]
    }
   ],
   "source": [
    "# Предсказание на тестовых данных\n",
    "test_predictions = model.predict(test_padded)\n",
    "test_predictions = test_predictions.argmax(axis=1)\n",
    "\n",
    "# Обратное преобразование предсказанных меток в текстовые значения\n",
    "predicted_labels = encoder.inverse_transform(test_predictions)\n",
    "\n",
    "# Создание DataFrame для сохранения предсказаний\n",
    "submission_data = pd.DataFrame({\n",
    "    'id': test_data['id'],  # использование столбца 'id' из тестовых данных\n",
    "    'Sentiment': predicted_labels\n",
    "})\n",
    "\n",
    "# Сохранение предсказаний в CSV файл\n",
    "submission_data.to_csv('predictions.csv', index=False)"
   ]
  },
  {
   "cell_type": "code",
   "execution_count": 18,
   "id": "10c6c525",
   "metadata": {},
   "outputs": [
    {
     "data": {
      "text/html": [
       "<div>\n",
       "<style scoped>\n",
       "    .dataframe tbody tr th:only-of-type {\n",
       "        vertical-align: middle;\n",
       "    }\n",
       "\n",
       "    .dataframe tbody tr th {\n",
       "        vertical-align: top;\n",
       "    }\n",
       "\n",
       "    .dataframe thead th {\n",
       "        text-align: right;\n",
       "    }\n",
       "</style>\n",
       "<table border=\"1\" class=\"dataframe\">\n",
       "  <thead>\n",
       "    <tr style=\"text-align: right;\">\n",
       "      <th></th>\n",
       "      <th>id</th>\n",
       "      <th>Sentiment</th>\n",
       "    </tr>\n",
       "  </thead>\n",
       "  <tbody>\n",
       "    <tr>\n",
       "      <th>0</th>\n",
       "      <td>787bc85b-20d4-46d8-84a0-562a2527f684</td>\n",
       "      <td>Negative</td>\n",
       "    </tr>\n",
       "    <tr>\n",
       "      <th>1</th>\n",
       "      <td>17e934cd-ba94-4d4f-9ac0-ead202abe241</td>\n",
       "      <td>Positive</td>\n",
       "    </tr>\n",
       "    <tr>\n",
       "      <th>2</th>\n",
       "      <td>5914534b-2b0f-4de8-bb8a-e25587697e0d</td>\n",
       "      <td>Extremely Positive</td>\n",
       "    </tr>\n",
       "    <tr>\n",
       "      <th>3</th>\n",
       "      <td>cdf06cfe-29ae-48ee-ac6d-be448103ba45</td>\n",
       "      <td>Negative</td>\n",
       "    </tr>\n",
       "    <tr>\n",
       "      <th>4</th>\n",
       "      <td>aff63979-0256-4fb9-a2d9-86a3d3ca5470</td>\n",
       "      <td>Negative</td>\n",
       "    </tr>\n",
       "    <tr>\n",
       "      <th>...</th>\n",
       "      <td>...</td>\n",
       "      <td>...</td>\n",
       "    </tr>\n",
       "    <tr>\n",
       "      <th>3793</th>\n",
       "      <td>65712d27-5c41-4863-b74f-0bd66199b7df</td>\n",
       "      <td>Positive</td>\n",
       "    </tr>\n",
       "    <tr>\n",
       "      <th>3794</th>\n",
       "      <td>9fd189c5-e79c-49d7-8985-576450a4e6e3</td>\n",
       "      <td>Positive</td>\n",
       "    </tr>\n",
       "    <tr>\n",
       "      <th>3795</th>\n",
       "      <td>3a06785f-6f9b-4f4d-9880-22562ad3e296</td>\n",
       "      <td>Positive</td>\n",
       "    </tr>\n",
       "    <tr>\n",
       "      <th>3796</th>\n",
       "      <td>dd29ff09-9bc2-40f4-8201-4b6361aca760</td>\n",
       "      <td>Extremely Negative</td>\n",
       "    </tr>\n",
       "    <tr>\n",
       "      <th>3797</th>\n",
       "      <td>8d09ea68-a130-4f3a-8777-f821b354542d</td>\n",
       "      <td>Extremely Positive</td>\n",
       "    </tr>\n",
       "  </tbody>\n",
       "</table>\n",
       "<p>3798 rows × 2 columns</p>\n",
       "</div>"
      ],
      "text/plain": [
       "                                        id           Sentiment\n",
       "0     787bc85b-20d4-46d8-84a0-562a2527f684            Negative\n",
       "1     17e934cd-ba94-4d4f-9ac0-ead202abe241            Positive\n",
       "2     5914534b-2b0f-4de8-bb8a-e25587697e0d  Extremely Positive\n",
       "3     cdf06cfe-29ae-48ee-ac6d-be448103ba45            Negative\n",
       "4     aff63979-0256-4fb9-a2d9-86a3d3ca5470            Negative\n",
       "...                                    ...                 ...\n",
       "3793  65712d27-5c41-4863-b74f-0bd66199b7df            Positive\n",
       "3794  9fd189c5-e79c-49d7-8985-576450a4e6e3            Positive\n",
       "3795  3a06785f-6f9b-4f4d-9880-22562ad3e296            Positive\n",
       "3796  dd29ff09-9bc2-40f4-8201-4b6361aca760  Extremely Negative\n",
       "3797  8d09ea68-a130-4f3a-8777-f821b354542d  Extremely Positive\n",
       "\n",
       "[3798 rows x 2 columns]"
      ]
     },
     "execution_count": 18,
     "metadata": {},
     "output_type": "execute_result"
    }
   ],
   "source": [
    "submission_data"
   ]
  },
  {
   "cell_type": "markdown",
   "id": "7591fbcb",
   "metadata": {},
   "source": [
    "### Архитектура RNN, близкая к state of the art для данной задачи"
   ]
  },
  {
   "cell_type": "code",
   "execution_count": 20,
   "id": "c159594f",
   "metadata": {},
   "outputs": [
    {
     "name": "stdout",
     "output_type": "stream",
     "text": [
      "Epoch 1/10\n",
      "1029/1029 [==============================] - 38s 33ms/step - loss: 1.3460 - accuracy: 0.4139 - val_loss: 0.9237 - val_accuracy: 0.6523\n",
      "Epoch 2/10\n",
      "1029/1029 [==============================] - 33s 32ms/step - loss: 0.7655 - accuracy: 0.7327 - val_loss: 0.6683 - val_accuracy: 0.7688\n",
      "Epoch 3/10\n",
      "1029/1029 [==============================] - 33s 32ms/step - loss: 0.5071 - accuracy: 0.8333 - val_loss: 0.7125 - val_accuracy: 0.7703\n",
      "Epoch 4/10\n",
      "1029/1029 [==============================] - 33s 32ms/step - loss: 0.3467 - accuracy: 0.8903 - val_loss: 0.7415 - val_accuracy: 0.7785\n",
      "Epoch 5/10\n",
      "1029/1029 [==============================] - 33s 32ms/step - loss: 0.2528 - accuracy: 0.9218 - val_loss: 0.7656 - val_accuracy: 0.7713\n"
     ]
    }
   ],
   "source": [
    "# Определение размера словаря и размера вложения\n",
    "vocab_size = len(tokenizer.word_index) + 1\n",
    "\n",
    "\n",
    "# Создание модели\n",
    "model = Sequential([\n",
    "    tf.keras.layers.Embedding(vocab_size, 300, weights=[embedding_matrix],\n",
    "                              input_length=max_length, trainable=False),\n",
    "    Bidirectional(LSTM(64, return_sequences=True)),  # Bidirectional LSTM\n",
    "    Dropout(0.5),  # Dropout для регуляризации\n",
    "    Bidirectional(LSTM(32, return_sequences=True)),  # Дополнительный Bidirectional LSTM слой\n",
    "    Dropout(0.5),  # Dropout для регуляризации\n",
    "    Bidirectional(LSTM(32)),  # Дополнительный Bidirectional LSTM слой\n",
    "    Dense(64, activation='relu'),\n",
    "    Dropout(0.5),  # Dropout для регуляризации\n",
    "    Dense(len(unique_classes), activation='softmax')\n",
    "])\n",
    "\n",
    "# Компиляция модели\n",
    "model.compile(loss='sparse_categorical_crossentropy', optimizer='adam', metrics=['accuracy'])\n",
    "\n",
    "# Callback для раннего останова\n",
    "early_stop = EarlyStopping(monitor='val_loss', patience=3, restore_best_weights=True)\n",
    "\n",
    "# Обучение модели с добавлением callback для раннего останова\n",
    "history = model.fit(train_padded, train_labels, epochs=10, validation_split=0.2, batch_size=32, callbacks=[early_stop])"
   ]
  },
  {
   "cell_type": "markdown",
   "id": "4ee6c34e",
   "metadata": {},
   "source": [
    "### Подбор гипперпараметров"
   ]
  },
  {
   "cell_type": "code",
   "execution_count": null,
   "id": "45f445c6",
   "metadata": {},
   "outputs": [
    {
     "name": "stdout",
     "output_type": "stream",
     "text": [
      "Trial 9 Complete [00h 19m 44s]\n",
      "val_accuracy: 0.7458697557449341\n",
      "\n",
      "Best val_accuracy So Far: 0.8046647310256958\n",
      "Total elapsed time: 00h 58m 56s\n",
      "\n",
      "Search: Running Trial #10\n",
      "\n",
      "Value             |Best Value So Far |Hyperparameter\n",
      "128               |32                |embedding_dim\n",
      "80                |64                |lstm_units\n",
      "0                 |0                 |dropout\n",
      "64                |48                |dense_units\n",
      "0.00012054        |0.0056822         |learning_rate\n",
      "5                 |5                 |tuner/epochs\n",
      "0                 |0                 |tuner/initial_epoch\n",
      "0                 |0                 |tuner/bracket\n",
      "0                 |0                 |tuner/round\n",
      "\n",
      "Epoch 1/5\n",
      "1029/1029 [==============================] - 134s 127ms/step - loss: 1.4749 - accuracy: 0.3290 - val_loss: 1.3345 - val_accuracy: 0.4310\n",
      "Epoch 2/5\n",
      "1029/1029 [==============================] - 109s 106ms/step - loss: 1.1982 - accuracy: 0.4854 - val_loss: 1.1358 - val_accuracy: 0.5490\n",
      "Epoch 3/5\n",
      " 782/1029 [=====================>........] - ETA: 24s - loss: 0.8439 - accuracy: 0.6731"
     ]
    }
   ],
   "source": [
    "def build_model(hp: HyperParameters):\n",
    "    model = tf.keras.models.Sequential()\n",
    "    \n",
    "    # Зафиксируем размер embedding слоя, используя веса из Word2Vec\n",
    "    model.add(tf.keras.layers.Embedding(\n",
    "        input_dim=vocab_size,\n",
    "        output_dim=300,  # фиксированный размер вектора из Word2Vec\n",
    "        weights=[embedding_matrix],  # используем предварительно обученные веса\n",
    "        input_length=max_length,\n",
    "        trainable=False  # не обучаем этот слой во время тренировки\n",
    "    ))\n",
    "    model.add(tf.keras.layers.Bidirectional(tf.keras.layers.LSTM(\n",
    "        units=hp.Int('lstm_units', min_value=32, max_value=128, step=16), \n",
    "        return_sequences=True)))\n",
    "    model.add(tf.keras.layers.Dropout(hp.Float('dropout', min_value=0.0, max_value=0.5, step=0.1)))\n",
    "    model.add(tf.keras.layers.Bidirectional(tf.keras.layers.LSTM(\n",
    "        units=hp.Int('lstm_units', min_value=32, max_value=128, step=16))))\n",
    "    model.add(tf.keras.layers.Dense(\n",
    "        units=hp.Int('dense_units', min_value=32, max_value=128, step=16), \n",
    "        activation='relu'))\n",
    "    model.add(tf.keras.layers.Dense(len(unique_classes), activation='softmax'))\n",
    "    model.compile(optimizer=tf.keras.optimizers.Adam(hp.Float('learning_rate', min_value=1e-4, max_value=1e-2, sampling='LOG')), \n",
    "                  loss='sparse_categorical_crossentropy', metrics=['accuracy'])\n",
    "    return model\n",
    "\n",
    "tuner = Hyperband(\n",
    "    build_model,\n",
    "    objective='val_accuracy',\n",
    "    max_epochs=5,\n",
    "    directory='hyperband',\n",
    "    project_name='text_classification'\n",
    ")\n",
    "\n",
    "tuner.search(train_padded, train_labels, epochs=5, validation_split=0.2)"
   ]
  },
  {
   "cell_type": "code",
   "execution_count": null,
   "id": "fbfc6042",
   "metadata": {},
   "outputs": [],
   "source": [
    "# Получение информации о лучшей модели\n",
    "best_hps = tuner.get_best_hyperparameters(num_trials=1)[0]\n",
    "\n",
    "# Вывод лучших гиперпараметров\n",
    "print(f\"\"\"\n",
    "The hyperparameter search is complete. The optimal number of units in the first densely-connected\n",
    "layer is {best_hps.get('dense_units')} and the optimal learning rate for the optimizer\n",
    "is {best_hps.get('learning_rate')}.\n",
    "\"\"\")\n",
    "\n",
    "# Получение и компиляция лучшей модели\n",
    "best_model = tuner.hypermodel.build(best_hps)\n",
    "\n",
    "# Обучение лучшей модели\n",
    "best_model.fit(train_padded, train_labels, epochs=best_hps.get('epochs'), validation_split=0.2, batch_size=best_hps.get('batch_size'))"
   ]
  },
  {
   "cell_type": "code",
   "execution_count": 21,
   "id": "1aeaa8dc",
   "metadata": {},
   "outputs": [
    {
     "name": "stdout",
     "output_type": "stream",
     "text": [
      "119/119 [==============================] - 2s 7ms/step\n"
     ]
    }
   ],
   "source": [
    "# Предсказание на тестовых данных\n",
    "test_predictions_3 = best_model.predict(test_padded)\n",
    "test_predictions_3 = test_predictions_3.argmax(axis=1)\n",
    "\n",
    "# Обратное преобразование предсказанных меток в текстовые значения\n",
    "predicted_labels_3 = encoder.inverse_transform(test_predictions_3)\n",
    "\n",
    "# Создание DataFrame для сохранения предсказаний\n",
    "submission_data_3 = pd.DataFrame({\n",
    "    'id': test_data['id'],  # использование столбца 'id' из тестовых данных\n",
    "    'Sentiment': predicted_labels_3\n",
    "})\n",
    "\n",
    "# Сохранение предсказаний в CSV файл\n",
    "submission_data_3.to_csv('predictions_3.csv', index=False)"
   ]
  }
 ],
 "metadata": {
  "kernelspec": {
   "display_name": "Python 3 (ipykernel)",
   "language": "python",
   "name": "python3"
  },
  "language_info": {
   "codemirror_mode": {
    "name": "ipython",
    "version": 3
   },
   "file_extension": ".py",
   "mimetype": "text/x-python",
   "name": "python",
   "nbconvert_exporter": "python",
   "pygments_lexer": "ipython3",
   "version": "3.11.4"
  }
 },
 "nbformat": 4,
 "nbformat_minor": 5
}
