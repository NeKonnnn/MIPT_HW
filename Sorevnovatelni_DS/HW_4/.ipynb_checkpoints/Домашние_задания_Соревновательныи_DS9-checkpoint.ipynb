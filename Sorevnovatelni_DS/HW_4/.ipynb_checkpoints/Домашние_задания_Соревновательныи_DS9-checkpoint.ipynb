{
 "cells": [
  {
   "cell_type": "code",
   "execution_count": 1,
   "metadata": {},
   "outputs": [],
   "source": [
    "import pandas as pd\n",
    "import numpy as np\n",
    "import matplotlib.pyplot as plt\n",
    "import seaborn as sns\n",
    "\n",
    "from sklearn.metrics import accuracy_score\n",
    "from catboost import CatBoostClassifier\n",
    "from lightgbm import LGBMClassifier\n",
    "from xgboost import XGBClassifier\n",
    "from typing import List, Tuple\n",
    "\n",
    "from sklearn.model_selection import train_test_split\n",
    "from sklearn.preprocessing import LabelEncoder\n",
    "import optuna\n",
    "from sklearn.ensemble import VotingClassifier"
   ]
  },
  {
   "cell_type": "code",
   "execution_count": 2,
   "metadata": {},
   "outputs": [],
   "source": [
    "def check_missing_values(df):\n",
    "    # Вычисляем количество пропущенных значений для каждого столбца\n",
    "    missing_values = df.isnull().sum()\n",
    "\n",
    "    # Вычисляем процент пропущенных значений для каждого столбца\n",
    "    total_values = len(df)\n",
    "    missing_percent = ((missing_values / total_values) * 100).round(2)\n",
    "\n",
    "    # Для каждого столбца вычисляем количество строк с пропущенными значениями\n",
    "    missing_rows = df.isnull().sum(axis=0) \n",
    "\n",
    "    # Создаем датафрейм с результатами\n",
    "    missing_data = pd.DataFrame({\n",
    "        'Столбец': missing_values.index, \n",
    "        'Пропущено в %': missing_percent.values, \n",
    "        'Строк пропущено': missing_rows.values  # Используем подсчитанные значения\n",
    "    })\n",
    "\n",
    "    # Сортируем датафрейм по убыванию процента пропущенных значений\n",
    "    missing_data = missing_data.sort_values(by='Пропущено в %', ascending=False)\n",
    "\n",
    "    return missing_data"
   ]
  },
  {
   "cell_type": "code",
   "execution_count": 3,
   "metadata": {},
   "outputs": [
    {
     "name": "stdout",
     "output_type": "stream",
     "text": [
      "размер: (2337, 10)\n"
     ]
    },
    {
     "data": {
      "text/html": [
       "<div>\n",
       "<style scoped>\n",
       "    .dataframe tbody tr th:only-of-type {\n",
       "        vertical-align: middle;\n",
       "    }\n",
       "\n",
       "    .dataframe tbody tr th {\n",
       "        vertical-align: top;\n",
       "    }\n",
       "\n",
       "    .dataframe thead th {\n",
       "        text-align: right;\n",
       "    }\n",
       "</style>\n",
       "<table border=\"1\" class=\"dataframe\">\n",
       "  <thead>\n",
       "    <tr style=\"text-align: right;\">\n",
       "      <th></th>\n",
       "      <th>car_id</th>\n",
       "      <th>model</th>\n",
       "      <th>car_type</th>\n",
       "      <th>fuel_type</th>\n",
       "      <th>car_rating</th>\n",
       "      <th>year_to_start</th>\n",
       "      <th>riders</th>\n",
       "      <th>year_to_work</th>\n",
       "      <th>target_reg</th>\n",
       "      <th>target_class</th>\n",
       "    </tr>\n",
       "  </thead>\n",
       "  <tbody>\n",
       "    <tr>\n",
       "      <th>1263</th>\n",
       "      <td>S45472418H</td>\n",
       "      <td>VW Tiguan</td>\n",
       "      <td>economy</td>\n",
       "      <td>petrol</td>\n",
       "      <td>3.64</td>\n",
       "      <td>2017</td>\n",
       "      <td>133098</td>\n",
       "      <td>2017</td>\n",
       "      <td>32.26</td>\n",
       "      <td>wheel_shake</td>\n",
       "    </tr>\n",
       "    <tr>\n",
       "      <th>667</th>\n",
       "      <td>U57863590w</td>\n",
       "      <td>Renault Sandero</td>\n",
       "      <td>standart</td>\n",
       "      <td>petrol</td>\n",
       "      <td>3.52</td>\n",
       "      <td>2015</td>\n",
       "      <td>85666</td>\n",
       "      <td>2016</td>\n",
       "      <td>44.57</td>\n",
       "      <td>gear_stick</td>\n",
       "    </tr>\n",
       "    <tr>\n",
       "      <th>561</th>\n",
       "      <td>i93529341g</td>\n",
       "      <td>VW Polo</td>\n",
       "      <td>economy</td>\n",
       "      <td>petrol</td>\n",
       "      <td>3.62</td>\n",
       "      <td>2014</td>\n",
       "      <td>55979</td>\n",
       "      <td>2020</td>\n",
       "      <td>59.83</td>\n",
       "      <td>engine_check</td>\n",
       "    </tr>\n",
       "    <tr>\n",
       "      <th>1049</th>\n",
       "      <td>m-1183503n</td>\n",
       "      <td>Smart ForFour</td>\n",
       "      <td>economy</td>\n",
       "      <td>petrol</td>\n",
       "      <td>4.34</td>\n",
       "      <td>2015</td>\n",
       "      <td>83508</td>\n",
       "      <td>2019</td>\n",
       "      <td>47.66</td>\n",
       "      <td>engine_check</td>\n",
       "    </tr>\n",
       "    <tr>\n",
       "      <th>102</th>\n",
       "      <td>C38293729H</td>\n",
       "      <td>Smart ForTwo</td>\n",
       "      <td>economy</td>\n",
       "      <td>petrol</td>\n",
       "      <td>4.72</td>\n",
       "      <td>2016</td>\n",
       "      <td>111683</td>\n",
       "      <td>2016</td>\n",
       "      <td>43.06</td>\n",
       "      <td>engine_fuel</td>\n",
       "    </tr>\n",
       "  </tbody>\n",
       "</table>\n",
       "</div>"
      ],
      "text/plain": [
       "          car_id            model  car_type fuel_type  car_rating  \\\n",
       "1263  S45472418H        VW Tiguan   economy    petrol        3.64   \n",
       "667   U57863590w  Renault Sandero  standart    petrol        3.52   \n",
       "561   i93529341g          VW Polo   economy    petrol        3.62   \n",
       "1049  m-1183503n    Smart ForFour   economy    petrol        4.34   \n",
       "102   C38293729H     Smart ForTwo   economy    petrol        4.72   \n",
       "\n",
       "      year_to_start  riders  year_to_work  target_reg  target_class  \n",
       "1263           2017  133098          2017       32.26   wheel_shake  \n",
       "667            2015   85666          2016       44.57    gear_stick  \n",
       "561            2014   55979          2020       59.83  engine_check  \n",
       "1049           2015   83508          2019       47.66  engine_check  \n",
       "102            2016  111683          2016       43.06   engine_fuel  "
      ]
     },
     "execution_count": 3,
     "metadata": {},
     "output_type": "execute_result"
    }
   ],
   "source": [
    "car_train = pd.read_csv('https://raw.githubusercontent.com/a-milenkin/Competitive_Data_Science/main/data/car_train.csv')\n",
    "print(f'размер: {car_train.shape}')\n",
    "car_train.sample(5)"
   ]
  },
  {
   "cell_type": "code",
   "execution_count": 4,
   "metadata": {},
   "outputs": [
    {
     "name": "stdout",
     "output_type": "stream",
     "text": [
      "размер: (739500, 14)\n"
     ]
    },
    {
     "data": {
      "text/html": [
       "<div>\n",
       "<style scoped>\n",
       "    .dataframe tbody tr th:only-of-type {\n",
       "        vertical-align: middle;\n",
       "    }\n",
       "\n",
       "    .dataframe tbody tr th {\n",
       "        vertical-align: top;\n",
       "    }\n",
       "\n",
       "    .dataframe thead th {\n",
       "        text-align: right;\n",
       "    }\n",
       "</style>\n",
       "<table border=\"1\" class=\"dataframe\">\n",
       "  <thead>\n",
       "    <tr style=\"text-align: right;\">\n",
       "      <th></th>\n",
       "      <th>user_id</th>\n",
       "      <th>car_id</th>\n",
       "      <th>ride_id</th>\n",
       "      <th>ride_date</th>\n",
       "      <th>rating</th>\n",
       "      <th>ride_duration</th>\n",
       "      <th>ride_cost</th>\n",
       "      <th>speed_avg</th>\n",
       "      <th>speed_max</th>\n",
       "      <th>stop_times</th>\n",
       "      <th>distance</th>\n",
       "      <th>refueling</th>\n",
       "      <th>user_ride_quality</th>\n",
       "      <th>deviation_normal</th>\n",
       "    </tr>\n",
       "  </thead>\n",
       "  <tbody>\n",
       "    <tr>\n",
       "      <th>66091</th>\n",
       "      <td>e89938736n</td>\n",
       "      <td>E15850759P</td>\n",
       "      <td>O1w</td>\n",
       "      <td>2020-03-17</td>\n",
       "      <td>1.16</td>\n",
       "      <td>25</td>\n",
       "      <td>270</td>\n",
       "      <td>46</td>\n",
       "      <td>140.000000</td>\n",
       "      <td>1</td>\n",
       "      <td>7.769975e+02</td>\n",
       "      <td>0</td>\n",
       "      <td>13.323046</td>\n",
       "      <td>-29.120</td>\n",
       "    </tr>\n",
       "    <tr>\n",
       "      <th>318847</th>\n",
       "      <td>M11342554P</td>\n",
       "      <td>W16150857p</td>\n",
       "      <td>S1d</td>\n",
       "      <td>2020-02-11</td>\n",
       "      <td>3.05</td>\n",
       "      <td>43</td>\n",
       "      <td>339</td>\n",
       "      <td>40</td>\n",
       "      <td>82.000000</td>\n",
       "      <td>3</td>\n",
       "      <td>9.253413e+01</td>\n",
       "      <td>0</td>\n",
       "      <td>9.924616</td>\n",
       "      <td>12.870</td>\n",
       "    </tr>\n",
       "    <tr>\n",
       "      <th>55553</th>\n",
       "      <td>g67369412k</td>\n",
       "      <td>D44517833b</td>\n",
       "      <td>W1I</td>\n",
       "      <td>2020-01-26</td>\n",
       "      <td>3.76</td>\n",
       "      <td>115</td>\n",
       "      <td>1260</td>\n",
       "      <td>34</td>\n",
       "      <td>49.000000</td>\n",
       "      <td>1</td>\n",
       "      <td>1.673296e+03</td>\n",
       "      <td>0</td>\n",
       "      <td>-5.749485</td>\n",
       "      <td>27.646</td>\n",
       "    </tr>\n",
       "    <tr>\n",
       "      <th>679587</th>\n",
       "      <td>G18233768V</td>\n",
       "      <td>v53440686O</td>\n",
       "      <td>r1C</td>\n",
       "      <td>2020-03-02</td>\n",
       "      <td>2.05</td>\n",
       "      <td>14874</td>\n",
       "      <td>178482</td>\n",
       "      <td>78</td>\n",
       "      <td>104.813080</td>\n",
       "      <td>0</td>\n",
       "      <td>1.170087e+06</td>\n",
       "      <td>0</td>\n",
       "      <td>-2.195740</td>\n",
       "      <td>-5.779</td>\n",
       "    </tr>\n",
       "    <tr>\n",
       "      <th>245190</th>\n",
       "      <td>K13410024u</td>\n",
       "      <td>R-1701492N</td>\n",
       "      <td>P1i</td>\n",
       "      <td>2020-01-13</td>\n",
       "      <td>5.52</td>\n",
       "      <td>84</td>\n",
       "      <td>668</td>\n",
       "      <td>34</td>\n",
       "      <td>105.167259</td>\n",
       "      <td>0</td>\n",
       "      <td>5.917658e+02</td>\n",
       "      <td>0</td>\n",
       "      <td>-2.822354</td>\n",
       "      <td>-0.000</td>\n",
       "    </tr>\n",
       "  </tbody>\n",
       "</table>\n",
       "</div>"
      ],
      "text/plain": [
       "           user_id      car_id ride_id   ride_date  rating  ride_duration  \\\n",
       "66091   e89938736n  E15850759P     O1w  2020-03-17    1.16             25   \n",
       "318847  M11342554P  W16150857p     S1d  2020-02-11    3.05             43   \n",
       "55553   g67369412k  D44517833b     W1I  2020-01-26    3.76            115   \n",
       "679587  G18233768V  v53440686O     r1C  2020-03-02    2.05          14874   \n",
       "245190  K13410024u  R-1701492N     P1i  2020-01-13    5.52             84   \n",
       "\n",
       "        ride_cost  speed_avg   speed_max  stop_times      distance  refueling  \\\n",
       "66091         270         46  140.000000           1  7.769975e+02          0   \n",
       "318847        339         40   82.000000           3  9.253413e+01          0   \n",
       "55553        1260         34   49.000000           1  1.673296e+03          0   \n",
       "679587     178482         78  104.813080           0  1.170087e+06          0   \n",
       "245190        668         34  105.167259           0  5.917658e+02          0   \n",
       "\n",
       "        user_ride_quality  deviation_normal  \n",
       "66091           13.323046           -29.120  \n",
       "318847           9.924616            12.870  \n",
       "55553           -5.749485            27.646  \n",
       "679587          -2.195740            -5.779  \n",
       "245190          -2.822354            -0.000  "
      ]
     },
     "execution_count": 4,
     "metadata": {},
     "output_type": "execute_result"
    }
   ],
   "source": [
    "rides_info = pd.read_csv('https://raw.githubusercontent.com/a-milenkin/Competitive_Data_Science/main/data/rides_info.csv')\n",
    "print(f'размер: {rides_info.shape}')\n",
    "rides_info.sample(5)"
   ]
  },
  {
   "cell_type": "code",
   "execution_count": 5,
   "metadata": {},
   "outputs": [
    {
     "name": "stdout",
     "output_type": "stream",
     "text": [
      "размер: (15153, 7)\n"
     ]
    },
    {
     "data": {
      "text/html": [
       "<div>\n",
       "<style scoped>\n",
       "    .dataframe tbody tr th:only-of-type {\n",
       "        vertical-align: middle;\n",
       "    }\n",
       "\n",
       "    .dataframe tbody tr th {\n",
       "        vertical-align: top;\n",
       "    }\n",
       "\n",
       "    .dataframe thead th {\n",
       "        text-align: right;\n",
       "    }\n",
       "</style>\n",
       "<table border=\"1\" class=\"dataframe\">\n",
       "  <thead>\n",
       "    <tr style=\"text-align: right;\">\n",
       "      <th></th>\n",
       "      <th>age</th>\n",
       "      <th>user_rating</th>\n",
       "      <th>user_rides</th>\n",
       "      <th>user_time_accident</th>\n",
       "      <th>user_id</th>\n",
       "      <th>sex</th>\n",
       "      <th>first_ride_date</th>\n",
       "    </tr>\n",
       "  </thead>\n",
       "  <tbody>\n",
       "    <tr>\n",
       "      <th>6339</th>\n",
       "      <td>38</td>\n",
       "      <td>7.2</td>\n",
       "      <td>472</td>\n",
       "      <td>5.0</td>\n",
       "      <td>n10467710X</td>\n",
       "      <td>0</td>\n",
       "      <td>2020-6-15</td>\n",
       "    </tr>\n",
       "    <tr>\n",
       "      <th>10110</th>\n",
       "      <td>49</td>\n",
       "      <td>8.3</td>\n",
       "      <td>537</td>\n",
       "      <td>13.0</td>\n",
       "      <td>L99796268U</td>\n",
       "      <td>0</td>\n",
       "      <td>2020-6-30</td>\n",
       "    </tr>\n",
       "    <tr>\n",
       "      <th>14728</th>\n",
       "      <td>41</td>\n",
       "      <td>7.7</td>\n",
       "      <td>859</td>\n",
       "      <td>9.0</td>\n",
       "      <td>k77432002o</td>\n",
       "      <td>0</td>\n",
       "      <td>2019-3-30</td>\n",
       "    </tr>\n",
       "    <tr>\n",
       "      <th>11375</th>\n",
       "      <td>27</td>\n",
       "      <td>9.6</td>\n",
       "      <td>784</td>\n",
       "      <td>16.0</td>\n",
       "      <td>y16371035s</td>\n",
       "      <td>1</td>\n",
       "      <td>2020-9-7</td>\n",
       "    </tr>\n",
       "    <tr>\n",
       "      <th>10859</th>\n",
       "      <td>35</td>\n",
       "      <td>9.3</td>\n",
       "      <td>78</td>\n",
       "      <td>19.0</td>\n",
       "      <td>i34450975W</td>\n",
       "      <td>1</td>\n",
       "      <td>2019-12-7</td>\n",
       "    </tr>\n",
       "  </tbody>\n",
       "</table>\n",
       "</div>"
      ],
      "text/plain": [
       "       age  user_rating  user_rides  user_time_accident     user_id  sex  \\\n",
       "6339    38          7.2         472                 5.0  n10467710X    0   \n",
       "10110   49          8.3         537                13.0  L99796268U    0   \n",
       "14728   41          7.7         859                 9.0  k77432002o    0   \n",
       "11375   27          9.6         784                16.0  y16371035s    1   \n",
       "10859   35          9.3          78                19.0  i34450975W    1   \n",
       "\n",
       "      first_ride_date  \n",
       "6339        2020-6-15  \n",
       "10110       2020-6-30  \n",
       "14728       2019-3-30  \n",
       "11375        2020-9-7  \n",
       "10859       2019-12-7  "
      ]
     },
     "execution_count": 5,
     "metadata": {},
     "output_type": "execute_result"
    }
   ],
   "source": [
    "driver_info = pd.read_csv('https://raw.githubusercontent.com/a-milenkin/Competitive_Data_Science/main/data/driver_info.csv')\n",
    "print(f'размер: {driver_info.shape}')\n",
    "driver_info.sample(5)"
   ]
  },
  {
   "cell_type": "code",
   "execution_count": 6,
   "metadata": {},
   "outputs": [
    {
     "name": "stdout",
     "output_type": "stream",
     "text": [
      "размер: (146000, 6)\n"
     ]
    },
    {
     "data": {
      "text/html": [
       "<div>\n",
       "<style scoped>\n",
       "    .dataframe tbody tr th:only-of-type {\n",
       "        vertical-align: middle;\n",
       "    }\n",
       "\n",
       "    .dataframe tbody tr th {\n",
       "        vertical-align: top;\n",
       "    }\n",
       "\n",
       "    .dataframe thead th {\n",
       "        text-align: right;\n",
       "    }\n",
       "</style>\n",
       "<table border=\"1\" class=\"dataframe\">\n",
       "  <thead>\n",
       "    <tr style=\"text-align: right;\">\n",
       "      <th></th>\n",
       "      <th>car_id</th>\n",
       "      <th>worker_id</th>\n",
       "      <th>fix_date</th>\n",
       "      <th>work_type</th>\n",
       "      <th>destroy_degree</th>\n",
       "      <th>work_duration</th>\n",
       "    </tr>\n",
       "  </thead>\n",
       "  <tbody>\n",
       "    <tr>\n",
       "      <th>125580</th>\n",
       "      <td>o-2117199c</td>\n",
       "      <td>US</td>\n",
       "      <td>2020-10-30 0:26</td>\n",
       "      <td>reparking</td>\n",
       "      <td>1.0</td>\n",
       "      <td>21</td>\n",
       "    </tr>\n",
       "    <tr>\n",
       "      <th>46133</th>\n",
       "      <td>l79825102V</td>\n",
       "      <td>JF</td>\n",
       "      <td>2020-1-29 18:26</td>\n",
       "      <td>reparking</td>\n",
       "      <td>1.0</td>\n",
       "      <td>28</td>\n",
       "    </tr>\n",
       "    <tr>\n",
       "      <th>65631</th>\n",
       "      <td>j19148530u</td>\n",
       "      <td>DS</td>\n",
       "      <td>2020-7-11 10:14</td>\n",
       "      <td>repair</td>\n",
       "      <td>5.0</td>\n",
       "      <td>18</td>\n",
       "    </tr>\n",
       "    <tr>\n",
       "      <th>56569</th>\n",
       "      <td>L-1227525r</td>\n",
       "      <td>GV</td>\n",
       "      <td>2020-11-19 17:28</td>\n",
       "      <td>reparking</td>\n",
       "      <td>1.0</td>\n",
       "      <td>29</td>\n",
       "    </tr>\n",
       "    <tr>\n",
       "      <th>81948</th>\n",
       "      <td>y-1806571O</td>\n",
       "      <td>VS</td>\n",
       "      <td>2020-3-1 6:19</td>\n",
       "      <td>repair</td>\n",
       "      <td>10.0</td>\n",
       "      <td>65</td>\n",
       "    </tr>\n",
       "  </tbody>\n",
       "</table>\n",
       "</div>"
      ],
      "text/plain": [
       "            car_id worker_id          fix_date  work_type  destroy_degree  \\\n",
       "125580  o-2117199c        US   2020-10-30 0:26  reparking             1.0   \n",
       "46133   l79825102V        JF   2020-1-29 18:26  reparking             1.0   \n",
       "65631   j19148530u        DS   2020-7-11 10:14     repair             5.0   \n",
       "56569   L-1227525r        GV  2020-11-19 17:28  reparking             1.0   \n",
       "81948   y-1806571O        VS     2020-3-1 6:19     repair            10.0   \n",
       "\n",
       "        work_duration  \n",
       "125580             21  \n",
       "46133              28  \n",
       "65631              18  \n",
       "56569              29  \n",
       "81948              65  "
      ]
     },
     "execution_count": 6,
     "metadata": {},
     "output_type": "execute_result"
    }
   ],
   "source": [
    "fix_info = pd.read_csv('https://raw.githubusercontent.com/a-milenkin/Competitive_Data_Science/main/data/fix_info.csv')\n",
    "print(f'размер: {fix_info.shape}')\n",
    "fix_info.sample(5)"
   ]
  },
  {
   "cell_type": "code",
   "execution_count": 7,
   "metadata": {},
   "outputs": [
    {
     "data": {
      "text/html": [
       "<div>\n",
       "<style scoped>\n",
       "    .dataframe tbody tr th:only-of-type {\n",
       "        vertical-align: middle;\n",
       "    }\n",
       "\n",
       "    .dataframe tbody tr th {\n",
       "        vertical-align: top;\n",
       "    }\n",
       "\n",
       "    .dataframe thead th {\n",
       "        text-align: right;\n",
       "    }\n",
       "</style>\n",
       "<table border=\"1\" class=\"dataframe\">\n",
       "  <thead>\n",
       "    <tr style=\"text-align: right;\">\n",
       "      <th></th>\n",
       "      <th>car_id</th>\n",
       "      <th>min_rating</th>\n",
       "      <th>avg_rating</th>\n",
       "      <th>total_distance</th>\n",
       "      <th>max_speed</th>\n",
       "      <th>total_rides</th>\n",
       "    </tr>\n",
       "  </thead>\n",
       "  <tbody>\n",
       "    <tr>\n",
       "      <th>0</th>\n",
       "      <td>A-1049127W</td>\n",
       "      <td>0.1</td>\n",
       "      <td>4.255172</td>\n",
       "      <td>1.125753e+07</td>\n",
       "      <td>179.729652</td>\n",
       "      <td>174</td>\n",
       "    </tr>\n",
       "  </tbody>\n",
       "</table>\n",
       "</div>"
      ],
      "text/plain": [
       "       car_id  min_rating  avg_rating  total_distance   max_speed  total_rides\n",
       "0  A-1049127W         0.1    4.255172    1.125753e+07  179.729652          174"
      ]
     },
     "execution_count": 7,
     "metadata": {},
     "output_type": "execute_result"
    }
   ],
   "source": [
    "# Группировка данных по каждой машине в датасете rides_info\n",
    "grouped_rides = rides_info.groupby('car_id').agg(\n",
    "    min_rating=('rating', 'min'),\n",
    "    avg_rating=('rating', 'mean'),\n",
    "    total_distance=('distance', 'sum'),\n",
    "    max_speed=('speed_max', 'max'),\n",
    "    total_rides=('ride_id', 'count')\n",
    ").reset_index()\n",
    "\n",
    "\n",
    "grouped_rides.head(1)"
   ]
  },
  {
   "cell_type": "code",
   "execution_count": 8,
   "metadata": {},
   "outputs": [],
   "source": [
    "# Добавление трех дополнительных признаков:\n",
    "# 1. Частота остановок на 100 км\n",
    "grouped_rides['stops_per_100km'] = rides_info.groupby('car_id').apply(lambda x: (x['stop_times'].sum() / x['distance'].sum()) * 100).reset_index(level=0, drop=True)\n",
    "\n",
    "# 2. Процент поездок с превышением средней скорости выше 45 км/ч\n",
    "grouped_rides['percentage_speed_over_45'] = rides_info.groupby('car_id').apply(lambda x: ((x['speed_avg'] > 45).mean()) * 100).reset_index(level=0, drop=True)\n",
    "\n",
    "# 3. Среднее отклонение скорости от средней по автопарку\n",
    "grouped_rides['speed_deviation_from_avg'] = rides_info.groupby('car_id').apply(lambda x: abs(x['speed_avg'] - rides_info['speed_avg'].mean()).mean()).reset_index(level=0, drop=True)"
   ]
  },
  {
   "cell_type": "code",
   "execution_count": 9,
   "metadata": {},
   "outputs": [
    {
     "data": {
      "text/html": [
       "<div>\n",
       "<style scoped>\n",
       "    .dataframe tbody tr th:only-of-type {\n",
       "        vertical-align: middle;\n",
       "    }\n",
       "\n",
       "    .dataframe tbody tr th {\n",
       "        vertical-align: top;\n",
       "    }\n",
       "\n",
       "    .dataframe thead th {\n",
       "        text-align: right;\n",
       "    }\n",
       "</style>\n",
       "<table border=\"1\" class=\"dataframe\">\n",
       "  <thead>\n",
       "    <tr style=\"text-align: right;\">\n",
       "      <th></th>\n",
       "      <th>car_id</th>\n",
       "      <th>model</th>\n",
       "      <th>car_type</th>\n",
       "      <th>fuel_type</th>\n",
       "      <th>car_rating</th>\n",
       "      <th>year_to_start</th>\n",
       "      <th>riders</th>\n",
       "      <th>year_to_work</th>\n",
       "      <th>target_reg</th>\n",
       "      <th>target_class</th>\n",
       "      <th>min_rating</th>\n",
       "      <th>avg_rating</th>\n",
       "      <th>total_distance</th>\n",
       "      <th>max_speed</th>\n",
       "      <th>total_rides</th>\n",
       "      <th>stops_per_100km</th>\n",
       "      <th>percentage_speed_over_45</th>\n",
       "      <th>speed_deviation_from_avg</th>\n",
       "    </tr>\n",
       "  </thead>\n",
       "  <tbody>\n",
       "    <tr>\n",
       "      <th>0</th>\n",
       "      <td>y13744087j</td>\n",
       "      <td>Kia Rio X-line</td>\n",
       "      <td>economy</td>\n",
       "      <td>petrol</td>\n",
       "      <td>3.78</td>\n",
       "      <td>2015</td>\n",
       "      <td>76163</td>\n",
       "      <td>2021</td>\n",
       "      <td>108.53</td>\n",
       "      <td>another_bug</td>\n",
       "      <td>0.1</td>\n",
       "      <td>4.737759</td>\n",
       "      <td>1.214131e+07</td>\n",
       "      <td>180.855726</td>\n",
       "      <td>174</td>\n",
       "      <td>0.005189</td>\n",
       "      <td>45.402299</td>\n",
       "      <td>8.088746</td>\n",
       "    </tr>\n",
       "  </tbody>\n",
       "</table>\n",
       "</div>"
      ],
      "text/plain": [
       "       car_id           model car_type fuel_type  car_rating  year_to_start  \\\n",
       "0  y13744087j  Kia Rio X-line  economy    petrol        3.78           2015   \n",
       "\n",
       "   riders  year_to_work  target_reg target_class  min_rating  avg_rating  \\\n",
       "0   76163          2021      108.53  another_bug         0.1    4.737759   \n",
       "\n",
       "   total_distance   max_speed  total_rides  stops_per_100km  \\\n",
       "0    1.214131e+07  180.855726          174         0.005189   \n",
       "\n",
       "   percentage_speed_over_45  speed_deviation_from_avg  \n",
       "0                 45.402299                  8.088746  "
      ]
     },
     "execution_count": 9,
     "metadata": {},
     "output_type": "execute_result"
    }
   ],
   "source": [
    "# Объединение grouped_rides с car_train\n",
    "full_car_info = pd.merge(car_train, grouped_rides, on='car_id', how='left')\n",
    "\n",
    "full_car_info.head(1)"
   ]
  },
  {
   "cell_type": "code",
   "execution_count": 10,
   "metadata": {},
   "outputs": [
    {
     "name": "stdout",
     "output_type": "stream",
     "text": [
      "Размер итогового датасета: (401086, 25)\n"
     ]
    },
    {
     "data": {
      "text/html": [
       "<div>\n",
       "<style scoped>\n",
       "    .dataframe tbody tr th:only-of-type {\n",
       "        vertical-align: middle;\n",
       "    }\n",
       "\n",
       "    .dataframe tbody tr th {\n",
       "        vertical-align: top;\n",
       "    }\n",
       "\n",
       "    .dataframe thead th {\n",
       "        text-align: right;\n",
       "    }\n",
       "</style>\n",
       "<table border=\"1\" class=\"dataframe\">\n",
       "  <thead>\n",
       "    <tr style=\"text-align: right;\">\n",
       "      <th></th>\n",
       "      <th>car_id</th>\n",
       "      <th>model</th>\n",
       "      <th>car_type</th>\n",
       "      <th>fuel_type</th>\n",
       "      <th>car_rating</th>\n",
       "      <th>year_to_start</th>\n",
       "      <th>riders</th>\n",
       "      <th>year_to_work</th>\n",
       "      <th>target_reg</th>\n",
       "      <th>target_class</th>\n",
       "      <th>...</th>\n",
       "      <th>stops_per_100km</th>\n",
       "      <th>percentage_speed_over_45</th>\n",
       "      <th>speed_deviation_from_avg</th>\n",
       "      <th>user_id</th>\n",
       "      <th>avg_age</th>\n",
       "      <th>avg_user_rating</th>\n",
       "      <th>user_time_accidents_total</th>\n",
       "      <th>last_fix_date</th>\n",
       "      <th>total_destroy_degree</th>\n",
       "      <th>fix_count</th>\n",
       "    </tr>\n",
       "  </thead>\n",
       "  <tbody>\n",
       "    <tr>\n",
       "      <th>0</th>\n",
       "      <td>y13744087j</td>\n",
       "      <td>Kia Rio X-line</td>\n",
       "      <td>economy</td>\n",
       "      <td>petrol</td>\n",
       "      <td>3.78</td>\n",
       "      <td>2015</td>\n",
       "      <td>76163</td>\n",
       "      <td>2021</td>\n",
       "      <td>108.53</td>\n",
       "      <td>another_bug</td>\n",
       "      <td>...</td>\n",
       "      <td>0.005189</td>\n",
       "      <td>45.402299</td>\n",
       "      <td>8.088746</td>\n",
       "      <td>n14703870u</td>\n",
       "      <td>38.0</td>\n",
       "      <td>7.4</td>\n",
       "      <td>2.0</td>\n",
       "      <td>2021-12-1 11:33</td>\n",
       "      <td>106.7</td>\n",
       "      <td>35</td>\n",
       "    </tr>\n",
       "  </tbody>\n",
       "</table>\n",
       "<p>1 rows × 25 columns</p>\n",
       "</div>"
      ],
      "text/plain": [
       "       car_id           model car_type fuel_type  car_rating  year_to_start  \\\n",
       "0  y13744087j  Kia Rio X-line  economy    petrol        3.78           2015   \n",
       "\n",
       "   riders  year_to_work  target_reg target_class  ...  stops_per_100km  \\\n",
       "0   76163          2021      108.53  another_bug  ...         0.005189   \n",
       "\n",
       "   percentage_speed_over_45  speed_deviation_from_avg     user_id  avg_age  \\\n",
       "0                 45.402299                  8.088746  n14703870u     38.0   \n",
       "\n",
       "   avg_user_rating  user_time_accidents_total    last_fix_date  \\\n",
       "0              7.4                        2.0  2021-12-1 11:33   \n",
       "\n",
       "  total_destroy_degree  fix_count  \n",
       "0                106.7         35  \n",
       "\n",
       "[1 rows x 25 columns]"
      ]
     },
     "execution_count": 10,
     "metadata": {},
     "output_type": "execute_result"
    }
   ],
   "source": [
    "# Агрегация данных из driver_info\n",
    "aggregated_driver_info = driver_info.groupby('user_id').agg(\n",
    "    avg_age=('age', 'mean'),\n",
    "    avg_user_rating=('user_rating', 'mean'),\n",
    "    user_time_accidents_total=('user_time_accident', 'sum')\n",
    ").reset_index()\n",
    "\n",
    "# Агрегация данных из fix_info\n",
    "aggregated_fix_info = fix_info.groupby('car_id').agg(\n",
    "    last_fix_date=('fix_date', 'max'),\n",
    "    total_destroy_degree=('destroy_degree', 'sum'),\n",
    "    fix_count=('car_id', 'count')\n",
    ").reset_index()\n",
    "\n",
    "# Добавляем информацию из driver_info к full_car_info через промежуточное объединение с rides_info для получения user_id\n",
    "rides_with_user_info = pd.merge(rides_info[['car_id', 'user_id']].drop_duplicates(), aggregated_driver_info, on='user_id', how='left')\n",
    "\n",
    "# Объединяем full_car_info с информацией о водителях и ремонтах\n",
    "full_car_info_with_drivers = pd.merge(full_car_info, rides_with_user_info, on='car_id', how='left')\n",
    "final_df = pd.merge(full_car_info_with_drivers, aggregated_fix_info, on='car_id', how='left')\n",
    "\n",
    "print(f\"Размер итогового датасета: {final_df.shape}\")\n",
    "final_df.head(1)"
   ]
  },
  {
   "cell_type": "code",
   "execution_count": 11,
   "metadata": {},
   "outputs": [],
   "source": [
    "final_df = final_df.drop_duplicates(subset=['car_id'])"
   ]
  },
  {
   "cell_type": "code",
   "execution_count": 12,
   "metadata": {},
   "outputs": [
    {
     "name": "stdout",
     "output_type": "stream",
     "text": [
      "Удалены столбцы: ['total_distance', 'car_id', 'user_id', 'stops_per_100km', 'total_rides']\n"
     ]
    },
    {
     "data": {
      "text/html": [
       "<div>\n",
       "<style scoped>\n",
       "    .dataframe tbody tr th:only-of-type {\n",
       "        vertical-align: middle;\n",
       "    }\n",
       "\n",
       "    .dataframe tbody tr th {\n",
       "        vertical-align: top;\n",
       "    }\n",
       "\n",
       "    .dataframe thead th {\n",
       "        text-align: right;\n",
       "    }\n",
       "</style>\n",
       "<table border=\"1\" class=\"dataframe\">\n",
       "  <thead>\n",
       "    <tr style=\"text-align: right;\">\n",
       "      <th></th>\n",
       "      <th>model</th>\n",
       "      <th>car_type</th>\n",
       "      <th>fuel_type</th>\n",
       "      <th>car_rating</th>\n",
       "      <th>year_to_start</th>\n",
       "      <th>riders</th>\n",
       "      <th>year_to_work</th>\n",
       "      <th>target_reg</th>\n",
       "      <th>target_class</th>\n",
       "      <th>min_rating</th>\n",
       "      <th>avg_rating</th>\n",
       "      <th>max_speed</th>\n",
       "      <th>percentage_speed_over_45</th>\n",
       "      <th>speed_deviation_from_avg</th>\n",
       "      <th>avg_age</th>\n",
       "      <th>avg_user_rating</th>\n",
       "      <th>user_time_accidents_total</th>\n",
       "      <th>last_fix_date</th>\n",
       "      <th>total_destroy_degree</th>\n",
       "      <th>fix_count</th>\n",
       "    </tr>\n",
       "  </thead>\n",
       "  <tbody>\n",
       "    <tr>\n",
       "      <th>0</th>\n",
       "      <td>Kia Rio X-line</td>\n",
       "      <td>economy</td>\n",
       "      <td>petrol</td>\n",
       "      <td>3.78</td>\n",
       "      <td>2015</td>\n",
       "      <td>76163</td>\n",
       "      <td>2021</td>\n",
       "      <td>108.53</td>\n",
       "      <td>another_bug</td>\n",
       "      <td>0.1</td>\n",
       "      <td>4.737759</td>\n",
       "      <td>180.855726</td>\n",
       "      <td>45.402299</td>\n",
       "      <td>8.088746</td>\n",
       "      <td>38.0</td>\n",
       "      <td>7.4</td>\n",
       "      <td>2.0</td>\n",
       "      <td>2021-12-1 11:33</td>\n",
       "      <td>106.7</td>\n",
       "      <td>35</td>\n",
       "    </tr>\n",
       "  </tbody>\n",
       "</table>\n",
       "</div>"
      ],
      "text/plain": [
       "            model car_type fuel_type  car_rating  year_to_start  riders  \\\n",
       "0  Kia Rio X-line  economy    petrol        3.78           2015   76163   \n",
       "\n",
       "   year_to_work  target_reg target_class  min_rating  avg_rating   max_speed  \\\n",
       "0          2021      108.53  another_bug         0.1    4.737759  180.855726   \n",
       "\n",
       "   percentage_speed_over_45  speed_deviation_from_avg  avg_age  \\\n",
       "0                 45.402299                  8.088746     38.0   \n",
       "\n",
       "   avg_user_rating  user_time_accidents_total    last_fix_date  \\\n",
       "0              7.4                        2.0  2021-12-1 11:33   \n",
       "\n",
       "   total_destroy_degree  fix_count  \n",
       "0                 106.7         35  "
      ]
     },
     "execution_count": 12,
     "metadata": {},
     "output_type": "execute_result"
    }
   ],
   "source": [
    "## Определение столбцов с константными значениями\n",
    "constant_columns = [col for col in final_df.columns if final_df[col].nunique() == 1]\n",
    "\n",
    "# Определение столбцов с уникальными значениями (исключая NaN)\n",
    "unique_value_columns = [col for col in final_df.columns if final_df[col].nunique() == final_df.shape[0]]\n",
    "\n",
    "# Уникальные значения\n",
    "id_columns = ['user_id', 'car_id']\n",
    "\n",
    "# Объединение списков столбцов для удаления\n",
    "columns_to_drop = list(set(constant_columns + unique_value_columns + id_columns))\n",
    "\n",
    "# Удаление столбцов из final_df\n",
    "final_df_cleaned = final_df.drop(columns=columns_to_drop)\n",
    "\n",
    "print(f\"Удалены столбцы: {columns_to_drop}\")\n",
    "\n",
    "pd.set_option('display.max_columns', None)\n",
    "final_df_cleaned.head(1)"
   ]
  },
  {
   "cell_type": "code",
   "execution_count": 13,
   "metadata": {},
   "outputs": [
    {
     "name": "stdout",
     "output_type": "stream",
     "text": [
      "cat_features ['model', 'car_type', 'fuel_type', 'car_rating']\n",
      "num_features ['min_rating', 'avg_rating', 'max_speed', 'percentage_speed_over_45', 'speed_deviation_from_avg', 'avg_user_rating', 'user_time_accidents_total', 'total_destroy_degree']\n",
      "targets ['target_class', 'target_reg']\n"
     ]
    }
   ],
   "source": [
    "features2drop = ['year_to_start', 'riders', 'year_to_work', 'avg_age', 'last_fix_date','fix_count'] # то, что надо выбросить\n",
    "targets = ['target_class', 'target_reg'] # таргеты \n",
    "cat_features = ['model', 'car_type', 'fuel_type', 'car_rating'] \n",
    "\n",
    "num_features = ['avg_user_rating', 'max_speed', 'min_rating','total_destroy_degree',\n",
    "               'avg_rating', 'user_time_accidents_total', 'speed_deviation_from_avg',\n",
    "               'percentage_speed_over_45'] # числовые признаки\n",
    "\n",
    "# Отбираем итоговый набор признаков для использования моделью\n",
    "filtered_features = [i for i in final_df_cleaned.columns if (i not in targets and i not in features2drop)]\n",
    "num_features = [i for i in filtered_features if i not in cat_features]\n",
    "print(\"cat_features\", cat_features)\n",
    "print(\"num_features\", num_features)\n",
    "print(\"targets\", targets)"
   ]
  },
  {
   "cell_type": "code",
   "execution_count": 14,
   "metadata": {},
   "outputs": [],
   "source": [
    "# Объединение категориальных и числовых признаков для создания списка всех признаков X\n",
    "all_features_X = cat_features + num_features\n",
    "\n",
    "# Выборка признаков для X из final_df_cleaned\n",
    "X = final_df_cleaned[all_features_X]\n",
    "\n",
    "# Выборка целевой переменной 'target_class' для y\n",
    "y = final_df_cleaned['target_class']"
   ]
  },
  {
   "cell_type": "code",
   "execution_count": 15,
   "metadata": {},
   "outputs": [
    {
     "name": "stderr",
     "output_type": "stream",
     "text": [
      "C:\\Users\\NeKonn\\AppData\\Local\\Temp\\ipykernel_23980\\3510347403.py:3: SettingWithCopyWarning: \n",
      "A value is trying to be set on a copy of a slice from a DataFrame.\n",
      "Try using .loc[row_indexer,col_indexer] = value instead\n",
      "\n",
      "See the caveats in the documentation: https://pandas.pydata.org/pandas-docs/stable/user_guide/indexing.html#returning-a-view-versus-a-copy\n",
      "  X[cat_features] = X[cat_features].astype(str)\n"
     ]
    },
    {
     "name": "stdout",
     "output_type": "stream",
     "text": [
      "[LightGBM] [Warning] Found boosting=goss. For backwards compatibility reasons, LightGBM interprets this as boosting=gbdt, data_sample_strategy=goss.To suppress this warning, set data_sample_strategy=goss instead.\n",
      "[LightGBM] [Warning] Found boosting=goss. For backwards compatibility reasons, LightGBM interprets this as boosting=gbdt, data_sample_strategy=goss.To suppress this warning, set data_sample_strategy=goss instead.\n",
      "[LightGBM] [Info] Auto-choosing col-wise multi-threading, the overhead of testing was 0.000243 seconds.\n",
      "You can set `force_col_wise=true` to remove the overhead.\n",
      "[LightGBM] [Info] Total Bins 1434\n",
      "[LightGBM] [Info] Number of data points in the train set: 1869, number of used features: 12\n",
      "[LightGBM] [Info] Using GOSS\n",
      "[LightGBM] [Info] Start training from score -2.134996\n",
      "[LightGBM] [Info] Start training from score -2.167183\n",
      "[LightGBM] [Info] Start training from score -2.244892\n",
      "[LightGBM] [Info] Start training from score -2.134996\n",
      "[LightGBM] [Info] Start training from score -2.215039\n",
      "[LightGBM] [Info] Start training from score -2.181301\n",
      "[LightGBM] [Info] Start training from score -2.048362\n",
      "[LightGBM] [Info] Start training from score -2.082120\n",
      "[LightGBM] [Info] Start training from score -2.696877\n",
      "[LightGBM] [Warning] No further splits with positive gain, best gain: -inf\n",
      "[LightGBM] [Warning] No further splits with positive gain, best gain: -inf\n",
      "[LightGBM] [Warning] No further splits with positive gain, best gain: -inf\n",
      "[LightGBM] [Warning] No further splits with positive gain, best gain: -inf\n",
      "[LightGBM] [Warning] No further splits with positive gain, best gain: -inf\n",
      "[LightGBM] [Warning] No further splits with positive gain, best gain: -inf\n",
      "[LightGBM] [Warning] No further splits with positive gain, best gain: -inf\n",
      "[LightGBM] [Warning] No further splits with positive gain, best gain: -inf\n",
      "[LightGBM] [Warning] No further splits with positive gain, best gain: -inf\n",
      "[LightGBM] [Warning] No further splits with positive gain, best gain: -inf\n",
      "[LightGBM] [Warning] No further splits with positive gain, best gain: -inf\n",
      "[LightGBM] [Warning] No further splits with positive gain, best gain: -inf\n",
      "[LightGBM] [Warning] No further splits with positive gain, best gain: -inf\n",
      "[LightGBM] [Warning] No further splits with positive gain, best gain: -inf\n",
      "[LightGBM] [Warning] No further splits with positive gain, best gain: -inf\n",
      "[LightGBM] [Warning] No further splits with positive gain, best gain: -inf\n",
      "[LightGBM] [Warning] No further splits with positive gain, best gain: -inf\n",
      "[LightGBM] [Warning] No further splits with positive gain, best gain: -inf\n",
      "[LightGBM] [Warning] No further splits with positive gain, best gain: -inf\n",
      "[LightGBM] [Warning] No further splits with positive gain, best gain: -inf\n",
      "[LightGBM] [Warning] No further splits with positive gain, best gain: -inf\n",
      "[LightGBM] [Warning] No further splits with positive gain, best gain: -inf\n",
      "[LightGBM] [Warning] No further splits with positive gain, best gain: -inf\n",
      "[LightGBM] [Warning] No further splits with positive gain, best gain: -inf\n",
      "[LightGBM] [Warning] No further splits with positive gain, best gain: -inf\n",
      "[LightGBM] [Warning] No further splits with positive gain, best gain: -inf\n",
      "[LightGBM] [Warning] No further splits with positive gain, best gain: -inf\n",
      "[LightGBM] [Warning] No further splits with positive gain, best gain: -inf\n",
      "[LightGBM] [Warning] No further splits with positive gain, best gain: -inf\n",
      "[LightGBM] [Warning] No further splits with positive gain, best gain: -inf\n",
      "[LightGBM] [Warning] No further splits with positive gain, best gain: -inf\n",
      "[LightGBM] [Warning] No further splits with positive gain, best gain: -inf\n",
      "[LightGBM] [Warning] No further splits with positive gain, best gain: -inf\n",
      "[LightGBM] [Warning] No further splits with positive gain, best gain: -inf\n",
      "[LightGBM] [Warning] No further splits with positive gain, best gain: -inf\n",
      "[LightGBM] [Warning] No further splits with positive gain, best gain: -inf\n",
      "[LightGBM] [Warning] No further splits with positive gain, best gain: -inf\n",
      "[LightGBM] [Warning] No further splits with positive gain, best gain: -inf\n",
      "[LightGBM] [Warning] No further splits with positive gain, best gain: -inf\n",
      "[LightGBM] [Warning] No further splits with positive gain, best gain: -inf\n",
      "[LightGBM] [Warning] No further splits with positive gain, best gain: -inf\n",
      "[LightGBM] [Warning] No further splits with positive gain, best gain: -inf\n",
      "[LightGBM] [Warning] No further splits with positive gain, best gain: -inf\n",
      "[LightGBM] [Warning] No further splits with positive gain, best gain: -inf\n",
      "[LightGBM] [Warning] No further splits with positive gain, best gain: -inf\n",
      "[LightGBM] [Warning] No further splits with positive gain, best gain: -inf\n",
      "[LightGBM] [Warning] No further splits with positive gain, best gain: -inf\n",
      "[LightGBM] [Warning] No further splits with positive gain, best gain: -inf\n",
      "[LightGBM] [Warning] No further splits with positive gain, best gain: -inf\n",
      "[LightGBM] [Warning] No further splits with positive gain, best gain: -inf\n",
      "[LightGBM] [Warning] No further splits with positive gain, best gain: -inf\n",
      "[LightGBM] [Warning] No further splits with positive gain, best gain: -inf\n",
      "[LightGBM] [Warning] No further splits with positive gain, best gain: -inf\n",
      "[LightGBM] [Warning] No further splits with positive gain, best gain: -inf\n",
      "[LightGBM] [Warning] No further splits with positive gain, best gain: -inf\n",
      "[LightGBM] [Warning] No further splits with positive gain, best gain: -inf\n",
      "[LightGBM] [Warning] No further splits with positive gain, best gain: -inf\n",
      "[LightGBM] [Warning] No further splits with positive gain, best gain: -inf\n",
      "[LightGBM] [Warning] No further splits with positive gain, best gain: -inf\n",
      "[LightGBM] [Warning] No further splits with positive gain, best gain: -inf\n",
      "[LightGBM] [Warning] No further splits with positive gain, best gain: -inf\n",
      "[LightGBM] [Warning] No further splits with positive gain, best gain: -inf\n",
      "[LightGBM] [Warning] No further splits with positive gain, best gain: -inf\n",
      "[LightGBM] [Warning] No further splits with positive gain, best gain: -inf\n",
      "[LightGBM] [Warning] No further splits with positive gain, best gain: -inf\n",
      "[LightGBM] [Warning] No further splits with positive gain, best gain: -inf\n",
      "[LightGBM] [Warning] No further splits with positive gain, best gain: -inf\n",
      "[LightGBM] [Warning] No further splits with positive gain, best gain: -inf\n",
      "[LightGBM] [Warning] No further splits with positive gain, best gain: -inf\n",
      "[LightGBM] [Warning] No further splits with positive gain, best gain: -inf\n",
      "[LightGBM] [Warning] No further splits with positive gain, best gain: -inf\n",
      "[LightGBM] [Warning] No further splits with positive gain, best gain: -inf\n",
      "[LightGBM] [Warning] No further splits with positive gain, best gain: -inf\n",
      "[LightGBM] [Warning] No further splits with positive gain, best gain: -inf\n",
      "[LightGBM] [Warning] No further splits with positive gain, best gain: -inf\n",
      "[LightGBM] [Warning] No further splits with positive gain, best gain: -inf\n",
      "[LightGBM] [Warning] No further splits with positive gain, best gain: -inf\n",
      "[LightGBM] [Warning] No further splits with positive gain, best gain: -inf\n",
      "[LightGBM] [Warning] No further splits with positive gain, best gain: -inf\n",
      "[LightGBM] [Warning] No further splits with positive gain, best gain: -inf\n",
      "[LightGBM] [Warning] No further splits with positive gain, best gain: -inf\n",
      "[LightGBM] [Warning] No further splits with positive gain, best gain: -inf\n",
      "[LightGBM] [Warning] No further splits with positive gain, best gain: -inf\n",
      "[LightGBM] [Warning] No further splits with positive gain, best gain: -inf\n",
      "[LightGBM] [Warning] No further splits with positive gain, best gain: -inf\n",
      "[LightGBM] [Warning] No further splits with positive gain, best gain: -inf\n",
      "[LightGBM] [Warning] No further splits with positive gain, best gain: -inf\n",
      "[LightGBM] [Warning] No further splits with positive gain, best gain: -inf\n",
      "[LightGBM] [Warning] No further splits with positive gain, best gain: -inf\n",
      "[LightGBM] [Warning] No further splits with positive gain, best gain: -inf\n",
      "[LightGBM] [Warning] No further splits with positive gain, best gain: -inf\n",
      "[LightGBM] [Warning] No further splits with positive gain, best gain: -inf\n",
      "[LightGBM] [Warning] No further splits with positive gain, best gain: -inf\n",
      "[LightGBM] [Warning] No further splits with positive gain, best gain: -inf\n",
      "[LightGBM] [Warning] No further splits with positive gain, best gain: -inf\n",
      "[LightGBM] [Warning] No further splits with positive gain, best gain: -inf\n",
      "[LightGBM] [Warning] No further splits with positive gain, best gain: -inf\n",
      "[LightGBM] [Warning] No further splits with positive gain, best gain: -inf\n",
      "[LightGBM] [Warning] No further splits with positive gain, best gain: -inf\n",
      "[LightGBM] [Warning] No further splits with positive gain, best gain: -inf\n",
      "[LightGBM] [Warning] No further splits with positive gain, best gain: -inf\n",
      "[LightGBM] [Warning] No further splits with positive gain, best gain: -inf\n",
      "[LightGBM] [Warning] No further splits with positive gain, best gain: -inf\n",
      "[LightGBM] [Warning] No further splits with positive gain, best gain: -inf\n",
      "[LightGBM] [Warning] No further splits with positive gain, best gain: -inf\n",
      "[LightGBM] [Warning] No further splits with positive gain, best gain: -inf\n",
      "[LightGBM] [Warning] No further splits with positive gain, best gain: -inf\n",
      "[LightGBM] [Warning] No further splits with positive gain, best gain: -inf\n",
      "[LightGBM] [Warning] No further splits with positive gain, best gain: -inf\n",
      "[LightGBM] [Warning] No further splits with positive gain, best gain: -inf\n",
      "[LightGBM] [Warning] No further splits with positive gain, best gain: -inf\n",
      "[LightGBM] [Warning] No further splits with positive gain, best gain: -inf\n",
      "[LightGBM] [Warning] No further splits with positive gain, best gain: -inf\n",
      "[LightGBM] [Warning] No further splits with positive gain, best gain: -inf\n",
      "[LightGBM] [Warning] No further splits with positive gain, best gain: -inf\n",
      "[LightGBM] [Warning] No further splits with positive gain, best gain: -inf\n",
      "[LightGBM] [Warning] No further splits with positive gain, best gain: -inf\n",
      "[LightGBM] [Warning] No further splits with positive gain, best gain: -inf\n",
      "[LightGBM] [Warning] No further splits with positive gain, best gain: -inf\n",
      "[LightGBM] [Warning] No further splits with positive gain, best gain: -inf\n",
      "[LightGBM] [Warning] No further splits with positive gain, best gain: -inf\n",
      "[LightGBM] [Warning] No further splits with positive gain, best gain: -inf\n",
      "[LightGBM] [Warning] No further splits with positive gain, best gain: -inf\n",
      "[LightGBM] [Warning] No further splits with positive gain, best gain: -inf\n",
      "[LightGBM] [Warning] No further splits with positive gain, best gain: -inf\n",
      "[LightGBM] [Warning] No further splits with positive gain, best gain: -inf\n",
      "[LightGBM] [Warning] No further splits with positive gain, best gain: -inf\n",
      "[LightGBM] [Warning] No further splits with positive gain, best gain: -inf\n",
      "[LightGBM] [Warning] No further splits with positive gain, best gain: -inf\n",
      "[LightGBM] [Warning] No further splits with positive gain, best gain: -inf\n",
      "[LightGBM] [Warning] No further splits with positive gain, best gain: -inf\n",
      "[LightGBM] [Warning] No further splits with positive gain, best gain: -inf\n"
     ]
    },
    {
     "name": "stdout",
     "output_type": "stream",
     "text": [
      "[LightGBM] [Warning] No further splits with positive gain, best gain: -inf\n",
      "[LightGBM] [Warning] No further splits with positive gain, best gain: -inf\n",
      "[LightGBM] [Warning] No further splits with positive gain, best gain: -inf\n",
      "[LightGBM] [Warning] No further splits with positive gain, best gain: -inf\n",
      "[LightGBM] [Warning] No further splits with positive gain, best gain: -inf\n",
      "[LightGBM] [Warning] No further splits with positive gain, best gain: -inf\n",
      "[LightGBM] [Warning] No further splits with positive gain, best gain: -inf\n",
      "[LightGBM] [Warning] No further splits with positive gain, best gain: -inf\n",
      "[LightGBM] [Warning] No further splits with positive gain, best gain: -inf\n",
      "[LightGBM] [Warning] No further splits with positive gain, best gain: -inf\n",
      "[LightGBM] [Warning] No further splits with positive gain, best gain: -inf\n",
      "[LightGBM] [Warning] No further splits with positive gain, best gain: -inf\n",
      "[LightGBM] [Warning] No further splits with positive gain, best gain: -inf\n",
      "[LightGBM] [Warning] No further splits with positive gain, best gain: -inf\n",
      "[LightGBM] [Warning] No further splits with positive gain, best gain: -inf\n",
      "[LightGBM] [Warning] No further splits with positive gain, best gain: -inf\n",
      "[LightGBM] [Warning] No further splits with positive gain, best gain: -inf\n",
      "[LightGBM] [Warning] No further splits with positive gain, best gain: -inf\n",
      "[LightGBM] [Warning] No further splits with positive gain, best gain: -inf\n",
      "[LightGBM] [Warning] No further splits with positive gain, best gain: -inf\n",
      "[LightGBM] [Warning] No further splits with positive gain, best gain: -inf\n",
      "[LightGBM] [Warning] No further splits with positive gain, best gain: -inf\n",
      "[LightGBM] [Warning] No further splits with positive gain, best gain: -inf\n",
      "[LightGBM] [Warning] No further splits with positive gain, best gain: -inf\n",
      "[LightGBM] [Warning] No further splits with positive gain, best gain: -inf\n",
      "[LightGBM] [Warning] No further splits with positive gain, best gain: -inf\n",
      "[LightGBM] [Warning] No further splits with positive gain, best gain: -inf\n",
      "[LightGBM] [Warning] No further splits with positive gain, best gain: -inf\n",
      "[LightGBM] [Warning] No further splits with positive gain, best gain: -inf\n",
      "[LightGBM] [Warning] No further splits with positive gain, best gain: -inf\n",
      "[LightGBM] [Warning] No further splits with positive gain, best gain: -inf\n",
      "[LightGBM] [Warning] No further splits with positive gain, best gain: -inf\n",
      "[LightGBM] [Warning] No further splits with positive gain, best gain: -inf\n",
      "[LightGBM] [Warning] No further splits with positive gain, best gain: -inf\n",
      "[LightGBM] [Warning] No further splits with positive gain, best gain: -inf\n",
      "[LightGBM] [Warning] No further splits with positive gain, best gain: -inf\n",
      "[LightGBM] [Warning] No further splits with positive gain, best gain: -inf\n",
      "[LightGBM] [Warning] No further splits with positive gain, best gain: -inf\n",
      "[LightGBM] [Warning] No further splits with positive gain, best gain: -inf\n",
      "[LightGBM] [Warning] No further splits with positive gain, best gain: -inf\n",
      "[LightGBM] [Warning] No further splits with positive gain, best gain: -inf\n",
      "[LightGBM] [Warning] No further splits with positive gain, best gain: -inf\n",
      "[LightGBM] [Warning] No further splits with positive gain, best gain: -inf\n",
      "[LightGBM] [Warning] No further splits with positive gain, best gain: -inf\n",
      "[LightGBM] [Warning] No further splits with positive gain, best gain: -inf\n",
      "[LightGBM] [Warning] No further splits with positive gain, best gain: -inf\n",
      "[LightGBM] [Warning] No further splits with positive gain, best gain: -inf\n",
      "[LightGBM] [Warning] No further splits with positive gain, best gain: -inf\n",
      "[LightGBM] [Warning] No further splits with positive gain, best gain: -inf\n",
      "[LightGBM] [Warning] No further splits with positive gain, best gain: -inf\n",
      "[LightGBM] [Warning] No further splits with positive gain, best gain: -inf\n",
      "[LightGBM] [Warning] No further splits with positive gain, best gain: -inf\n",
      "[LightGBM] [Warning] No further splits with positive gain, best gain: -inf\n",
      "[LightGBM] [Warning] No further splits with positive gain, best gain: -inf\n",
      "[LightGBM] [Warning] No further splits with positive gain, best gain: -inf\n",
      "[LightGBM] [Warning] No further splits with positive gain, best gain: -inf\n",
      "[LightGBM] [Warning] No further splits with positive gain, best gain: -inf\n",
      "[LightGBM] [Warning] No further splits with positive gain, best gain: -inf\n",
      "[LightGBM] [Warning] No further splits with positive gain, best gain: -inf\n",
      "[LightGBM] [Warning] No further splits with positive gain, best gain: -inf\n",
      "[LightGBM] [Warning] No further splits with positive gain, best gain: -inf\n",
      "[LightGBM] [Warning] No further splits with positive gain, best gain: -inf\n",
      "[LightGBM] [Warning] No further splits with positive gain, best gain: -inf\n",
      "[LightGBM] [Warning] No further splits with positive gain, best gain: -inf\n",
      "[LightGBM] [Warning] No further splits with positive gain, best gain: -inf\n",
      "[LightGBM] [Warning] No further splits with positive gain, best gain: -inf\n",
      "[LightGBM] [Warning] No further splits with positive gain, best gain: -inf\n",
      "[LightGBM] [Warning] No further splits with positive gain, best gain: -inf\n",
      "[LightGBM] [Warning] No further splits with positive gain, best gain: -inf\n",
      "[LightGBM] [Warning] No further splits with positive gain, best gain: -inf\n",
      "[LightGBM] [Warning] No further splits with positive gain, best gain: -inf\n",
      "[LightGBM] [Warning] No further splits with positive gain, best gain: -inf\n",
      "[LightGBM] [Warning] No further splits with positive gain, best gain: -inf\n",
      "[LightGBM] [Warning] No further splits with positive gain, best gain: -inf\n",
      "[LightGBM] [Warning] No further splits with positive gain, best gain: -inf\n",
      "[LightGBM] [Warning] No further splits with positive gain, best gain: -inf\n",
      "[LightGBM] [Warning] No further splits with positive gain, best gain: -inf\n",
      "[LightGBM] [Warning] No further splits with positive gain, best gain: -inf\n",
      "[LightGBM] [Warning] No further splits with positive gain, best gain: -inf\n",
      "[LightGBM] [Warning] No further splits with positive gain, best gain: -inf\n",
      "[LightGBM] [Warning] No further splits with positive gain, best gain: -inf\n",
      "[LightGBM] [Warning] No further splits with positive gain, best gain: -inf\n",
      "[LightGBM] [Warning] No further splits with positive gain, best gain: -inf\n",
      "[LightGBM] [Warning] No further splits with positive gain, best gain: -inf\n",
      "[LightGBM] [Warning] No further splits with positive gain, best gain: -inf\n",
      "[LightGBM] [Warning] No further splits with positive gain, best gain: -inf\n",
      "[LightGBM] [Warning] No further splits with positive gain, best gain: -inf\n",
      "[LightGBM] [Warning] No further splits with positive gain, best gain: -inf\n",
      "[LightGBM] [Warning] No further splits with positive gain, best gain: -inf\n",
      "[LightGBM] [Warning] No further splits with positive gain, best gain: -inf\n",
      "[LightGBM] [Warning] No further splits with positive gain, best gain: -inf\n",
      "[LightGBM] [Warning] No further splits with positive gain, best gain: -inf\n",
      "[LightGBM] [Warning] No further splits with positive gain, best gain: -inf\n",
      "[LightGBM] [Warning] No further splits with positive gain, best gain: -inf\n",
      "[LightGBM] [Warning] No further splits with positive gain, best gain: -inf\n",
      "[LightGBM] [Warning] No further splits with positive gain, best gain: -inf\n",
      "[LightGBM] [Warning] No further splits with positive gain, best gain: -inf\n",
      "[LightGBM] [Warning] No further splits with positive gain, best gain: -inf\n",
      "[LightGBM] [Warning] No further splits with positive gain, best gain: -inf\n",
      "[LightGBM] [Warning] No further splits with positive gain, best gain: -inf\n",
      "[LightGBM] [Warning] No further splits with positive gain, best gain: -inf\n",
      "[LightGBM] [Warning] No further splits with positive gain, best gain: -inf\n",
      "[LightGBM] [Warning] No further splits with positive gain, best gain: -inf\n",
      "[LightGBM] [Warning] No further splits with positive gain, best gain: -inf\n",
      "[LightGBM] [Warning] No further splits with positive gain, best gain: -inf\n",
      "[LightGBM] [Warning] No further splits with positive gain, best gain: -inf\n",
      "[LightGBM] [Warning] No further splits with positive gain, best gain: -inf\n",
      "[LightGBM] [Warning] No further splits with positive gain, best gain: -inf\n",
      "[LightGBM] [Warning] No further splits with positive gain, best gain: -inf\n",
      "[LightGBM] [Warning] No further splits with positive gain, best gain: -inf\n",
      "[LightGBM] [Warning] No further splits with positive gain, best gain: -inf\n",
      "[LightGBM] [Warning] No further splits with positive gain, best gain: -inf\n",
      "[LightGBM] [Warning] No further splits with positive gain, best gain: -inf\n",
      "[LightGBM] [Warning] No further splits with positive gain, best gain: -inf\n",
      "[LightGBM] [Warning] No further splits with positive gain, best gain: -inf\n",
      "[LightGBM] [Warning] No further splits with positive gain, best gain: -inf\n",
      "[LightGBM] [Warning] No further splits with positive gain, best gain: -inf\n",
      "[LightGBM] [Warning] No further splits with positive gain, best gain: -inf\n",
      "[LightGBM] [Warning] No further splits with positive gain, best gain: -inf\n",
      "[LightGBM] [Warning] No further splits with positive gain, best gain: -inf\n",
      "[LightGBM] [Warning] No further splits with positive gain, best gain: -inf\n"
     ]
    },
    {
     "name": "stdout",
     "output_type": "stream",
     "text": [
      "[LightGBM] [Warning] No further splits with positive gain, best gain: -inf\n",
      "[LightGBM] [Warning] No further splits with positive gain, best gain: -inf\n",
      "[LightGBM] [Warning] No further splits with positive gain, best gain: -inf\n",
      "[LightGBM] [Warning] No further splits with positive gain, best gain: -inf\n",
      "[LightGBM] [Warning] No further splits with positive gain, best gain: -inf\n",
      "[LightGBM] [Warning] No further splits with positive gain, best gain: -inf\n",
      "[LightGBM] [Warning] No further splits with positive gain, best gain: -inf\n",
      "[LightGBM] [Warning] No further splits with positive gain, best gain: -inf\n",
      "[LightGBM] [Warning] No further splits with positive gain, best gain: -inf\n",
      "[LightGBM] [Warning] No further splits with positive gain, best gain: -inf\n",
      "[LightGBM] [Warning] No further splits with positive gain, best gain: -inf\n",
      "[LightGBM] [Warning] No further splits with positive gain, best gain: -inf\n",
      "[LightGBM] [Warning] No further splits with positive gain, best gain: -inf\n",
      "[LightGBM] [Warning] No further splits with positive gain, best gain: -inf\n",
      "[LightGBM] [Warning] No further splits with positive gain, best gain: -inf\n",
      "[LightGBM] [Warning] No further splits with positive gain, best gain: -inf\n",
      "[LightGBM] [Warning] No further splits with positive gain, best gain: -inf\n",
      "[LightGBM] [Warning] No further splits with positive gain, best gain: -inf\n",
      "[LightGBM] [Warning] No further splits with positive gain, best gain: -inf\n",
      "[LightGBM] [Warning] No further splits with positive gain, best gain: -inf\n",
      "[LightGBM] [Warning] No further splits with positive gain, best gain: -inf\n",
      "[LightGBM] [Warning] No further splits with positive gain, best gain: -inf\n",
      "[LightGBM] [Warning] No further splits with positive gain, best gain: -inf\n",
      "[LightGBM] [Warning] No further splits with positive gain, best gain: -inf\n",
      "[LightGBM] [Warning] No further splits with positive gain, best gain: -inf\n",
      "[LightGBM] [Warning] No further splits with positive gain, best gain: -inf\n",
      "[LightGBM] [Warning] No further splits with positive gain, best gain: -inf\n",
      "[LightGBM] [Warning] No further splits with positive gain, best gain: -inf\n",
      "[LightGBM] [Warning] No further splits with positive gain, best gain: -inf\n",
      "[LightGBM] [Warning] No further splits with positive gain, best gain: -inf\n",
      "[LightGBM] [Warning] No further splits with positive gain, best gain: -inf\n",
      "[LightGBM] [Warning] No further splits with positive gain, best gain: -inf\n",
      "[LightGBM] [Warning] No further splits with positive gain, best gain: -inf\n",
      "[LightGBM] [Warning] No further splits with positive gain, best gain: -inf\n",
      "[LightGBM] [Warning] No further splits with positive gain, best gain: -inf\n",
      "[LightGBM] [Warning] No further splits with positive gain, best gain: -inf\n",
      "[LightGBM] [Warning] No further splits with positive gain, best gain: -inf\n",
      "[LightGBM] [Warning] No further splits with positive gain, best gain: -inf\n",
      "[LightGBM] [Warning] No further splits with positive gain, best gain: -inf\n",
      "[LightGBM] [Warning] No further splits with positive gain, best gain: -inf\n",
      "[LightGBM] [Warning] No further splits with positive gain, best gain: -inf\n",
      "[LightGBM] [Warning] No further splits with positive gain, best gain: -inf\n",
      "[LightGBM] [Warning] No further splits with positive gain, best gain: -inf\n",
      "[LightGBM] [Warning] No further splits with positive gain, best gain: -inf\n",
      "[LightGBM] [Warning] No further splits with positive gain, best gain: -inf\n",
      "[LightGBM] [Warning] No further splits with positive gain, best gain: -inf\n",
      "[LightGBM] [Warning] No further splits with positive gain, best gain: -inf\n",
      "[LightGBM] [Warning] No further splits with positive gain, best gain: -inf\n",
      "[LightGBM] [Warning] No further splits with positive gain, best gain: -inf\n",
      "[LightGBM] [Warning] No further splits with positive gain, best gain: -inf\n",
      "[LightGBM] [Warning] No further splits with positive gain, best gain: -inf\n",
      "[LightGBM] [Warning] No further splits with positive gain, best gain: -inf\n",
      "[LightGBM] [Warning] No further splits with positive gain, best gain: -inf\n",
      "[LightGBM] [Warning] No further splits with positive gain, best gain: -inf\n",
      "[LightGBM] [Warning] No further splits with positive gain, best gain: -inf\n",
      "[LightGBM] [Warning] No further splits with positive gain, best gain: -inf\n",
      "[LightGBM] [Warning] No further splits with positive gain, best gain: -inf\n",
      "[LightGBM] [Warning] No further splits with positive gain, best gain: -inf\n",
      "[LightGBM] [Warning] No further splits with positive gain, best gain: -inf\n",
      "[LightGBM] [Warning] No further splits with positive gain, best gain: -inf\n",
      "[LightGBM] [Warning] No further splits with positive gain, best gain: -inf\n",
      "[LightGBM] [Warning] No further splits with positive gain, best gain: -inf\n",
      "[LightGBM] [Warning] No further splits with positive gain, best gain: -inf\n",
      "[LightGBM] [Warning] No further splits with positive gain, best gain: -inf\n",
      "[LightGBM] [Warning] No further splits with positive gain, best gain: -inf\n",
      "[LightGBM] [Warning] No further splits with positive gain, best gain: -inf\n",
      "[LightGBM] [Warning] No further splits with positive gain, best gain: -inf\n",
      "[LightGBM] [Warning] No further splits with positive gain, best gain: -inf\n",
      "[LightGBM] [Warning] No further splits with positive gain, best gain: -inf\n",
      "[LightGBM] [Warning] No further splits with positive gain, best gain: -inf\n",
      "[LightGBM] [Warning] No further splits with positive gain, best gain: -inf\n",
      "[LightGBM] [Warning] No further splits with positive gain, best gain: -inf\n",
      "[LightGBM] [Warning] No further splits with positive gain, best gain: -inf\n",
      "[LightGBM] [Warning] No further splits with positive gain, best gain: -inf\n",
      "[LightGBM] [Warning] No further splits with positive gain, best gain: -inf\n",
      "[LightGBM] [Warning] No further splits with positive gain, best gain: -inf\n",
      "[LightGBM] [Warning] No further splits with positive gain, best gain: -inf\n",
      "[LightGBM] [Warning] No further splits with positive gain, best gain: -inf\n",
      "[LightGBM] [Warning] No further splits with positive gain, best gain: -inf\n",
      "[LightGBM] [Warning] No further splits with positive gain, best gain: -inf\n",
      "[LightGBM] [Warning] No further splits with positive gain, best gain: -inf\n",
      "[LightGBM] [Warning] No further splits with positive gain, best gain: -inf\n",
      "[LightGBM] [Warning] No further splits with positive gain, best gain: -inf\n",
      "[LightGBM] [Warning] No further splits with positive gain, best gain: -inf\n",
      "[LightGBM] [Warning] No further splits with positive gain, best gain: -inf\n",
      "[LightGBM] [Warning] No further splits with positive gain, best gain: -inf\n",
      "[LightGBM] [Warning] No further splits with positive gain, best gain: -inf\n",
      "[LightGBM] [Warning] No further splits with positive gain, best gain: -inf\n",
      "[LightGBM] [Warning] No further splits with positive gain, best gain: -inf\n",
      "[LightGBM] [Warning] No further splits with positive gain, best gain: -inf\n",
      "[LightGBM] [Warning] No further splits with positive gain, best gain: -inf\n",
      "[LightGBM] [Warning] No further splits with positive gain, best gain: -inf\n",
      "[LightGBM] [Warning] No further splits with positive gain, best gain: -inf\n",
      "[LightGBM] [Warning] No further splits with positive gain, best gain: -inf\n",
      "[LightGBM] [Warning] No further splits with positive gain, best gain: -inf\n",
      "[LightGBM] [Warning] No further splits with positive gain, best gain: -inf\n",
      "[LightGBM] [Warning] No further splits with positive gain, best gain: -inf\n",
      "[LightGBM] [Warning] No further splits with positive gain, best gain: -inf\n",
      "[LightGBM] [Warning] No further splits with positive gain, best gain: -inf\n",
      "[LightGBM] [Warning] No further splits with positive gain, best gain: -inf\n",
      "[LightGBM] [Warning] No further splits with positive gain, best gain: -inf\n",
      "[LightGBM] [Warning] No further splits with positive gain, best gain: -inf\n",
      "[LightGBM] [Warning] No further splits with positive gain, best gain: -inf\n",
      "[LightGBM] [Warning] No further splits with positive gain, best gain: -inf\n",
      "[LightGBM] [Warning] No further splits with positive gain, best gain: -inf\n",
      "[LightGBM] [Warning] No further splits with positive gain, best gain: -inf\n",
      "[LightGBM] [Warning] No further splits with positive gain, best gain: -inf\n",
      "[LightGBM] [Warning] No further splits with positive gain, best gain: -inf\n",
      "[LightGBM] [Warning] No further splits with positive gain, best gain: -inf\n",
      "[LightGBM] [Warning] No further splits with positive gain, best gain: -inf\n",
      "[LightGBM] [Warning] No further splits with positive gain, best gain: -inf\n",
      "[LightGBM] [Warning] No further splits with positive gain, best gain: -inf\n",
      "[LightGBM] [Warning] No further splits with positive gain, best gain: -inf\n",
      "[LightGBM] [Warning] No further splits with positive gain, best gain: -inf\n",
      "[LightGBM] [Warning] No further splits with positive gain, best gain: -inf\n"
     ]
    },
    {
     "name": "stdout",
     "output_type": "stream",
     "text": [
      "[LightGBM] [Warning] No further splits with positive gain, best gain: -inf\n",
      "[LightGBM] [Warning] No further splits with positive gain, best gain: -inf\n",
      "[LightGBM] [Warning] No further splits with positive gain, best gain: -inf\n",
      "[LightGBM] [Warning] No further splits with positive gain, best gain: -inf\n",
      "[LightGBM] [Warning] No further splits with positive gain, best gain: -inf\n",
      "[LightGBM] [Warning] No further splits with positive gain, best gain: -inf\n",
      "[LightGBM] [Warning] No further splits with positive gain, best gain: -inf\n",
      "[LightGBM] [Warning] No further splits with positive gain, best gain: -inf\n",
      "[LightGBM] [Warning] No further splits with positive gain, best gain: -inf\n",
      "[LightGBM] [Warning] No further splits with positive gain, best gain: -inf\n",
      "[LightGBM] [Warning] No further splits with positive gain, best gain: -inf\n",
      "[LightGBM] [Warning] No further splits with positive gain, best gain: -inf\n",
      "[LightGBM] [Warning] No further splits with positive gain, best gain: -inf\n",
      "[LightGBM] [Warning] No further splits with positive gain, best gain: -inf\n",
      "[LightGBM] [Warning] No further splits with positive gain, best gain: -inf\n",
      "[LightGBM] [Warning] No further splits with positive gain, best gain: -inf\n",
      "[LightGBM] [Warning] No further splits with positive gain, best gain: -inf\n",
      "[LightGBM] [Warning] No further splits with positive gain, best gain: -inf\n",
      "[LightGBM] [Warning] No further splits with positive gain, best gain: -inf\n",
      "[LightGBM] [Warning] No further splits with positive gain, best gain: -inf\n",
      "[LightGBM] [Warning] No further splits with positive gain, best gain: -inf\n",
      "[LightGBM] [Warning] No further splits with positive gain, best gain: -inf\n",
      "[LightGBM] [Warning] No further splits with positive gain, best gain: -inf\n",
      "[LightGBM] [Warning] No further splits with positive gain, best gain: -inf\n",
      "[LightGBM] [Warning] No further splits with positive gain, best gain: -inf\n",
      "[LightGBM] [Warning] No further splits with positive gain, best gain: -inf\n",
      "[LightGBM] [Warning] No further splits with positive gain, best gain: -inf\n",
      "[LightGBM] [Warning] No further splits with positive gain, best gain: -inf\n",
      "[LightGBM] [Warning] No further splits with positive gain, best gain: -inf\n",
      "[LightGBM] [Warning] No further splits with positive gain, best gain: -inf\n",
      "[LightGBM] [Warning] No further splits with positive gain, best gain: -inf\n",
      "[LightGBM] [Warning] No further splits with positive gain, best gain: -inf\n",
      "[LightGBM] [Warning] No further splits with positive gain, best gain: -inf\n",
      "[LightGBM] [Warning] No further splits with positive gain, best gain: -inf\n",
      "[LightGBM] [Warning] No further splits with positive gain, best gain: -inf\n",
      "[LightGBM] [Warning] No further splits with positive gain, best gain: -inf\n",
      "[LightGBM] [Warning] No further splits with positive gain, best gain: -inf\n",
      "[LightGBM] [Warning] No further splits with positive gain, best gain: -inf\n",
      "[LightGBM] [Warning] No further splits with positive gain, best gain: -inf\n",
      "[LightGBM] [Warning] No further splits with positive gain, best gain: -inf\n",
      "[LightGBM] [Warning] No further splits with positive gain, best gain: -inf\n",
      "[LightGBM] [Warning] No further splits with positive gain, best gain: -inf\n",
      "[LightGBM] [Warning] No further splits with positive gain, best gain: -inf\n",
      "[LightGBM] [Warning] No further splits with positive gain, best gain: -inf\n",
      "[LightGBM] [Warning] No further splits with positive gain, best gain: -inf\n",
      "[LightGBM] [Warning] No further splits with positive gain, best gain: -inf\n",
      "[LightGBM] [Warning] No further splits with positive gain, best gain: -inf\n",
      "[LightGBM] [Warning] No further splits with positive gain, best gain: -inf\n",
      "[LightGBM] [Warning] No further splits with positive gain, best gain: -inf\n",
      "[LightGBM] [Warning] No further splits with positive gain, best gain: -inf\n",
      "[LightGBM] [Warning] No further splits with positive gain, best gain: -inf\n",
      "[LightGBM] [Warning] No further splits with positive gain, best gain: -inf\n",
      "[LightGBM] [Warning] No further splits with positive gain, best gain: -inf\n",
      "[LightGBM] [Warning] No further splits with positive gain, best gain: -inf\n",
      "[LightGBM] [Warning] No further splits with positive gain, best gain: -inf\n",
      "[LightGBM] [Warning] No further splits with positive gain, best gain: -inf\n",
      "[LightGBM] [Warning] No further splits with positive gain, best gain: -inf\n",
      "[LightGBM] [Warning] No further splits with positive gain, best gain: -inf\n",
      "[LightGBM] [Warning] No further splits with positive gain, best gain: -inf\n",
      "[LightGBM] [Warning] No further splits with positive gain, best gain: -inf\n",
      "[LightGBM] [Warning] No further splits with positive gain, best gain: -inf\n",
      "[LightGBM] [Warning] No further splits with positive gain, best gain: -inf\n",
      "[LightGBM] [Warning] No further splits with positive gain, best gain: -inf\n",
      "[LightGBM] [Warning] No further splits with positive gain, best gain: -inf\n",
      "[LightGBM] [Warning] No further splits with positive gain, best gain: -inf\n",
      "[LightGBM] [Warning] No further splits with positive gain, best gain: -inf\n",
      "[LightGBM] [Warning] No further splits with positive gain, best gain: -inf\n",
      "[LightGBM] [Warning] No further splits with positive gain, best gain: -inf\n",
      "[LightGBM] [Warning] No further splits with positive gain, best gain: -inf\n",
      "[LightGBM] [Warning] No further splits with positive gain, best gain: -inf\n",
      "[LightGBM] [Warning] No further splits with positive gain, best gain: -inf\n",
      "[LightGBM] [Warning] No further splits with positive gain, best gain: -inf\n",
      "[LightGBM] [Warning] No further splits with positive gain, best gain: -inf\n",
      "[LightGBM] [Warning] No further splits with positive gain, best gain: -inf\n",
      "[LightGBM] [Warning] No further splits with positive gain, best gain: -inf\n",
      "[LightGBM] [Warning] No further splits with positive gain, best gain: -inf\n",
      "[LightGBM] [Warning] No further splits with positive gain, best gain: -inf\n",
      "[LightGBM] [Warning] No further splits with positive gain, best gain: -inf\n",
      "[LightGBM] [Warning] No further splits with positive gain, best gain: -inf\n",
      "[LightGBM] [Warning] No further splits with positive gain, best gain: -inf\n",
      "[LightGBM] [Warning] No further splits with positive gain, best gain: -inf\n",
      "[LightGBM] [Warning] No further splits with positive gain, best gain: -inf\n",
      "[LightGBM] [Warning] No further splits with positive gain, best gain: -inf\n",
      "[LightGBM] [Warning] No further splits with positive gain, best gain: -inf\n",
      "[LightGBM] [Warning] No further splits with positive gain, best gain: -inf\n",
      "[LightGBM] [Warning] No further splits with positive gain, best gain: -inf\n",
      "[LightGBM] [Warning] No further splits with positive gain, best gain: -inf\n",
      "[LightGBM] [Warning] No further splits with positive gain, best gain: -inf\n",
      "[LightGBM] [Warning] No further splits with positive gain, best gain: -inf\n",
      "[LightGBM] [Warning] No further splits with positive gain, best gain: -inf\n",
      "[LightGBM] [Warning] No further splits with positive gain, best gain: -inf\n",
      "[LightGBM] [Warning] No further splits with positive gain, best gain: -inf\n",
      "[LightGBM] [Warning] No further splits with positive gain, best gain: -inf\n",
      "[LightGBM] [Warning] No further splits with positive gain, best gain: -inf\n",
      "[LightGBM] [Warning] No further splits with positive gain, best gain: -inf\n",
      "[LightGBM] [Warning] No further splits with positive gain, best gain: -inf\n",
      "[LightGBM] [Warning] No further splits with positive gain, best gain: -inf\n",
      "[LightGBM] [Warning] No further splits with positive gain, best gain: -inf\n",
      "[LightGBM] [Warning] No further splits with positive gain, best gain: -inf\n",
      "[LightGBM] [Warning] No further splits with positive gain, best gain: -inf\n",
      "[LightGBM] [Warning] No further splits with positive gain, best gain: -inf\n",
      "[LightGBM] [Warning] No further splits with positive gain, best gain: -inf\n",
      "[LightGBM] [Warning] No further splits with positive gain, best gain: -inf\n",
      "[LightGBM] [Warning] No further splits with positive gain, best gain: -inf\n",
      "[LightGBM] [Warning] No further splits with positive gain, best gain: -inf\n",
      "[LightGBM] [Warning] No further splits with positive gain, best gain: -inf\n",
      "[LightGBM] [Warning] No further splits with positive gain, best gain: -inf\n",
      "[LightGBM] [Warning] No further splits with positive gain, best gain: -inf\n",
      "[LightGBM] [Warning] No further splits with positive gain, best gain: -inf\n",
      "[LightGBM] [Warning] No further splits with positive gain, best gain: -inf\n",
      "[LightGBM] [Warning] No further splits with positive gain, best gain: -inf\n",
      "[LightGBM] [Warning] No further splits with positive gain, best gain: -inf\n",
      "[LightGBM] [Warning] No further splits with positive gain, best gain: -inf\n",
      "[LightGBM] [Warning] No further splits with positive gain, best gain: -inf\n",
      "[LightGBM] [Warning] No further splits with positive gain, best gain: -inf\n",
      "[LightGBM] [Warning] No further splits with positive gain, best gain: -inf\n",
      "[LightGBM] [Warning] No further splits with positive gain, best gain: -inf\n",
      "[LightGBM] [Warning] No further splits with positive gain, best gain: -inf\n",
      "[LightGBM] [Warning] No further splits with positive gain, best gain: -inf\n",
      "[LightGBM] [Warning] No further splits with positive gain, best gain: -inf\n",
      "[LightGBM] [Warning] No further splits with positive gain, best gain: -inf\n",
      "[LightGBM] [Warning] No further splits with positive gain, best gain: -inf\n",
      "[LightGBM] [Warning] No further splits with positive gain, best gain: -inf\n",
      "[LightGBM] [Warning] No further splits with positive gain, best gain: -inf\n",
      "[LightGBM] [Warning] No further splits with positive gain, best gain: -inf\n",
      "[LightGBM] [Warning] No further splits with positive gain, best gain: -inf\n",
      "[LightGBM] [Warning] No further splits with positive gain, best gain: -inf\n",
      "[LightGBM] [Warning] No further splits with positive gain, best gain: -inf\n",
      "[LightGBM] [Warning] No further splits with positive gain, best gain: -inf\n",
      "[LightGBM] [Warning] No further splits with positive gain, best gain: -inf\n",
      "[LightGBM] [Warning] No further splits with positive gain, best gain: -inf\n",
      "[LightGBM] [Warning] No further splits with positive gain, best gain: -inf\n",
      "[LightGBM] [Warning] No further splits with positive gain, best gain: -inf\n",
      "[LightGBM] [Warning] No further splits with positive gain, best gain: -inf\n",
      "[LightGBM] [Warning] No further splits with positive gain, best gain: -inf\n",
      "[LightGBM] [Warning] No further splits with positive gain, best gain: -inf\n",
      "[LightGBM] [Warning] No further splits with positive gain, best gain: -inf\n",
      "[LightGBM] [Warning] No further splits with positive gain, best gain: -inf\n",
      "[LightGBM] [Warning] No further splits with positive gain, best gain: -inf\n",
      "[LightGBM] [Warning] No further splits with positive gain, best gain: -inf\n",
      "[LightGBM] [Warning] No further splits with positive gain, best gain: -inf\n",
      "[LightGBM] [Warning] No further splits with positive gain, best gain: -inf\n",
      "[LightGBM] [Warning] No further splits with positive gain, best gain: -inf\n",
      "[LightGBM] [Warning] No further splits with positive gain, best gain: -inf\n",
      "[LightGBM] [Warning] No further splits with positive gain, best gain: -inf\n",
      "[LightGBM] [Warning] No further splits with positive gain, best gain: -inf\n",
      "[LightGBM] [Warning] No further splits with positive gain, best gain: -inf\n",
      "[LightGBM] [Warning] No further splits with positive gain, best gain: -inf\n",
      "[LightGBM] [Warning] No further splits with positive gain, best gain: -inf\n",
      "[LightGBM] [Warning] No further splits with positive gain, best gain: -inf\n",
      "[LightGBM] [Warning] No further splits with positive gain, best gain: -inf\n",
      "[LightGBM] [Warning] No further splits with positive gain, best gain: -inf\n",
      "[LightGBM] [Warning] No further splits with positive gain, best gain: -inf\n",
      "[LightGBM] [Warning] No further splits with positive gain, best gain: -inf\n",
      "[LightGBM] [Warning] No further splits with positive gain, best gain: -inf\n",
      "[LightGBM] [Warning] No further splits with positive gain, best gain: -inf\n",
      "[LightGBM] [Warning] No further splits with positive gain, best gain: -inf\n",
      "[LightGBM] [Warning] No further splits with positive gain, best gain: -inf\n",
      "[LightGBM] [Warning] No further splits with positive gain, best gain: -inf\n",
      "[LightGBM] [Warning] No further splits with positive gain, best gain: -inf\n",
      "[LightGBM] [Warning] No further splits with positive gain, best gain: -inf\n",
      "[LightGBM] [Warning] No further splits with positive gain, best gain: -inf\n",
      "[LightGBM] [Warning] No further splits with positive gain, best gain: -inf\n",
      "[LightGBM] [Warning] No further splits with positive gain, best gain: -inf\n",
      "[LightGBM] [Warning] No further splits with positive gain, best gain: -inf\n",
      "[LightGBM] [Warning] No further splits with positive gain, best gain: -inf\n",
      "[LightGBM] [Warning] No further splits with positive gain, best gain: -inf\n",
      "[LightGBM] [Warning] No further splits with positive gain, best gain: -inf\n",
      "[LightGBM] [Warning] No further splits with positive gain, best gain: -inf\n",
      "[LightGBM] [Warning] No further splits with positive gain, best gain: -inf\n",
      "[LightGBM] [Warning] No further splits with positive gain, best gain: -inf\n",
      "[LightGBM] [Warning] No further splits with positive gain, best gain: -inf\n",
      "[LightGBM] [Warning] No further splits with positive gain, best gain: -inf\n",
      "[LightGBM] [Warning] No further splits with positive gain, best gain: -inf\n",
      "[LightGBM] [Warning] No further splits with positive gain, best gain: -inf\n",
      "[LightGBM] [Warning] No further splits with positive gain, best gain: -inf\n",
      "[LightGBM] [Warning] No further splits with positive gain, best gain: -inf\n",
      "[LightGBM] [Warning] No further splits with positive gain, best gain: -inf\n",
      "[LightGBM] [Warning] No further splits with positive gain, best gain: -inf\n",
      "[LightGBM] [Warning] No further splits with positive gain, best gain: -inf\n",
      "[LightGBM] [Warning] No further splits with positive gain, best gain: -inf\n",
      "[LightGBM] [Warning] No further splits with positive gain, best gain: -inf\n",
      "[LightGBM] [Warning] No further splits with positive gain, best gain: -inf\n",
      "[LightGBM] [Warning] No further splits with positive gain, best gain: -inf\n",
      "[LightGBM] [Warning] No further splits with positive gain, best gain: -inf\n",
      "[LightGBM] [Warning] No further splits with positive gain, best gain: -inf\n",
      "[LightGBM] [Warning] No further splits with positive gain, best gain: -inf\n",
      "[LightGBM] [Warning] No further splits with positive gain, best gain: -inf\n",
      "[LightGBM] [Warning] No further splits with positive gain, best gain: -inf\n",
      "[LightGBM] [Warning] No further splits with positive gain, best gain: -inf\n",
      "[LightGBM] [Warning] No further splits with positive gain, best gain: -inf\n",
      "[LightGBM] [Warning] No further splits with positive gain, best gain: -inf\n",
      "[LightGBM] [Warning] No further splits with positive gain, best gain: -inf\n",
      "[LightGBM] [Warning] No further splits with positive gain, best gain: -inf\n",
      "[LightGBM] [Warning] No further splits with positive gain, best gain: -inf\n",
      "[LightGBM] [Warning] No further splits with positive gain, best gain: -inf\n",
      "[LightGBM] [Warning] No further splits with positive gain, best gain: -inf\n",
      "[LightGBM] [Warning] No further splits with positive gain, best gain: -inf\n",
      "[LightGBM] [Warning] No further splits with positive gain, best gain: -inf\n",
      "[LightGBM] [Warning] No further splits with positive gain, best gain: -inf\n",
      "[LightGBM] [Warning] No further splits with positive gain, best gain: -inf\n",
      "[LightGBM] [Warning] No further splits with positive gain, best gain: -inf\n",
      "[LightGBM] [Warning] No further splits with positive gain, best gain: -inf\n",
      "[LightGBM] [Warning] No further splits with positive gain, best gain: -inf\n",
      "[LightGBM] [Warning] No further splits with positive gain, best gain: -inf\n",
      "[LightGBM] [Warning] No further splits with positive gain, best gain: -inf\n",
      "[LightGBM] [Warning] No further splits with positive gain, best gain: -inf\n",
      "[LightGBM] [Warning] No further splits with positive gain, best gain: -inf\n"
     ]
    },
    {
     "name": "stdout",
     "output_type": "stream",
     "text": [
      "[LightGBM] [Warning] No further splits with positive gain, best gain: -inf\n",
      "[LightGBM] [Warning] No further splits with positive gain, best gain: -inf\n",
      "[LightGBM] [Warning] No further splits with positive gain, best gain: -inf\n",
      "[LightGBM] [Warning] No further splits with positive gain, best gain: -inf\n",
      "[LightGBM] [Warning] No further splits with positive gain, best gain: -inf\n",
      "[LightGBM] [Warning] No further splits with positive gain, best gain: -inf\n",
      "[LightGBM] [Warning] No further splits with positive gain, best gain: -inf\n",
      "[LightGBM] [Warning] No further splits with positive gain, best gain: -inf\n",
      "[LightGBM] [Warning] No further splits with positive gain, best gain: -inf\n",
      "[LightGBM] [Warning] No further splits with positive gain, best gain: -inf\n",
      "[LightGBM] [Warning] No further splits with positive gain, best gain: -inf\n",
      "[LightGBM] [Warning] No further splits with positive gain, best gain: -inf\n",
      "[LightGBM] [Warning] No further splits with positive gain, best gain: -inf\n",
      "[LightGBM] [Warning] No further splits with positive gain, best gain: -inf\n",
      "[LightGBM] [Warning] No further splits with positive gain, best gain: -inf\n",
      "[LightGBM] [Warning] No further splits with positive gain, best gain: -inf\n",
      "[LightGBM] [Warning] No further splits with positive gain, best gain: -inf\n",
      "[LightGBM] [Warning] No further splits with positive gain, best gain: -inf\n",
      "[LightGBM] [Warning] No further splits with positive gain, best gain: -inf\n",
      "[LightGBM] [Warning] No further splits with positive gain, best gain: -inf\n",
      "[LightGBM] [Warning] No further splits with positive gain, best gain: -inf\n",
      "[LightGBM] [Warning] No further splits with positive gain, best gain: -inf\n",
      "[LightGBM] [Warning] No further splits with positive gain, best gain: -inf\n",
      "[LightGBM] [Warning] No further splits with positive gain, best gain: -inf\n",
      "[LightGBM] [Warning] No further splits with positive gain, best gain: -inf\n",
      "[LightGBM] [Warning] No further splits with positive gain, best gain: -inf\n",
      "[LightGBM] [Warning] No further splits with positive gain, best gain: -inf\n",
      "[LightGBM] [Warning] No further splits with positive gain, best gain: -inf\n",
      "[LightGBM] [Warning] No further splits with positive gain, best gain: -inf\n",
      "[LightGBM] [Warning] No further splits with positive gain, best gain: -inf\n",
      "[LightGBM] [Warning] No further splits with positive gain, best gain: -inf\n",
      "[LightGBM] [Warning] No further splits with positive gain, best gain: -inf\n",
      "[LightGBM] [Warning] No further splits with positive gain, best gain: -inf\n",
      "[LightGBM] [Warning] No further splits with positive gain, best gain: -inf\n",
      "[LightGBM] [Warning] No further splits with positive gain, best gain: -inf\n",
      "[LightGBM] [Warning] No further splits with positive gain, best gain: -inf\n",
      "[LightGBM] [Warning] No further splits with positive gain, best gain: -inf\n",
      "[LightGBM] [Warning] No further splits with positive gain, best gain: -inf\n",
      "[LightGBM] [Warning] No further splits with positive gain, best gain: -inf\n",
      "[LightGBM] [Warning] No further splits with positive gain, best gain: -inf\n",
      "[LightGBM] [Warning] No further splits with positive gain, best gain: -inf\n",
      "[LightGBM] [Warning] No further splits with positive gain, best gain: -inf\n",
      "[LightGBM] [Warning] No further splits with positive gain, best gain: -inf\n",
      "[LightGBM] [Warning] No further splits with positive gain, best gain: -inf\n",
      "[LightGBM] [Warning] No further splits with positive gain, best gain: -inf\n",
      "[LightGBM] [Warning] No further splits with positive gain, best gain: -inf\n",
      "[LightGBM] [Warning] No further splits with positive gain, best gain: -inf\n",
      "[LightGBM] [Warning] No further splits with positive gain, best gain: -inf\n",
      "[LightGBM] [Warning] No further splits with positive gain, best gain: -inf\n",
      "[LightGBM] [Warning] No further splits with positive gain, best gain: -inf\n",
      "[LightGBM] [Warning] No further splits with positive gain, best gain: -inf\n",
      "[LightGBM] [Warning] No further splits with positive gain, best gain: -inf\n",
      "[LightGBM] [Warning] No further splits with positive gain, best gain: -inf\n",
      "[LightGBM] [Warning] No further splits with positive gain, best gain: -inf\n",
      "[LightGBM] [Warning] No further splits with positive gain, best gain: -inf\n",
      "[LightGBM] [Warning] No further splits with positive gain, best gain: -inf\n",
      "[LightGBM] [Warning] No further splits with positive gain, best gain: -inf\n",
      "[LightGBM] [Warning] No further splits with positive gain, best gain: -inf\n",
      "[LightGBM] [Warning] No further splits with positive gain, best gain: -inf\n",
      "[LightGBM] [Warning] No further splits with positive gain, best gain: -inf\n",
      "[LightGBM] [Warning] No further splits with positive gain, best gain: -inf\n",
      "[LightGBM] [Warning] No further splits with positive gain, best gain: -inf\n",
      "[LightGBM] [Warning] No further splits with positive gain, best gain: -inf\n",
      "[LightGBM] [Warning] No further splits with positive gain, best gain: -inf\n",
      "[LightGBM] [Warning] No further splits with positive gain, best gain: -inf\n",
      "[LightGBM] [Warning] No further splits with positive gain, best gain: -inf\n",
      "[LightGBM] [Warning] No further splits with positive gain, best gain: -inf\n",
      "[LightGBM] [Warning] No further splits with positive gain, best gain: -inf\n",
      "[LightGBM] [Warning] No further splits with positive gain, best gain: -inf\n",
      "[LightGBM] [Warning] No further splits with positive gain, best gain: -inf\n",
      "[LightGBM] [Warning] No further splits with positive gain, best gain: -inf\n",
      "[LightGBM] [Warning] No further splits with positive gain, best gain: -inf\n",
      "[LightGBM] [Warning] No further splits with positive gain, best gain: -inf\n",
      "[LightGBM] [Warning] No further splits with positive gain, best gain: -inf\n",
      "[LightGBM] [Warning] No further splits with positive gain, best gain: -inf\n",
      "[LightGBM] [Warning] No further splits with positive gain, best gain: -inf\n",
      "[LightGBM] [Warning] No further splits with positive gain, best gain: -inf\n",
      "[LightGBM] [Warning] No further splits with positive gain, best gain: -inf\n",
      "[LightGBM] [Warning] No further splits with positive gain, best gain: -inf\n",
      "[LightGBM] [Warning] No further splits with positive gain, best gain: -inf\n",
      "[LightGBM] [Warning] No further splits with positive gain, best gain: -inf\n",
      "[LightGBM] [Warning] No further splits with positive gain, best gain: -inf\n",
      "[LightGBM] [Warning] No further splits with positive gain, best gain: -inf\n",
      "[LightGBM] [Warning] No further splits with positive gain, best gain: -inf\n",
      "[LightGBM] [Warning] No further splits with positive gain, best gain: -inf\n",
      "[LightGBM] [Warning] No further splits with positive gain, best gain: -inf\n",
      "[LightGBM] [Warning] No further splits with positive gain, best gain: -inf\n",
      "[LightGBM] [Warning] No further splits with positive gain, best gain: -inf\n",
      "[LightGBM] [Warning] No further splits with positive gain, best gain: -inf\n",
      "[LightGBM] [Warning] No further splits with positive gain, best gain: -inf\n",
      "[LightGBM] [Warning] No further splits with positive gain, best gain: -inf\n",
      "[LightGBM] [Warning] No further splits with positive gain, best gain: -inf\n",
      "[LightGBM] [Warning] No further splits with positive gain, best gain: -inf\n",
      "[LightGBM] [Warning] No further splits with positive gain, best gain: -inf\n",
      "[LightGBM] [Warning] No further splits with positive gain, best gain: -inf\n",
      "[LightGBM] [Warning] No further splits with positive gain, best gain: -inf\n",
      "[LightGBM] [Warning] No further splits with positive gain, best gain: -inf\n",
      "[LightGBM] [Warning] No further splits with positive gain, best gain: -inf\n",
      "[LightGBM] [Warning] No further splits with positive gain, best gain: -inf\n",
      "[LightGBM] [Warning] No further splits with positive gain, best gain: -inf\n",
      "[LightGBM] [Warning] No further splits with positive gain, best gain: -inf\n",
      "[LightGBM] [Warning] No further splits with positive gain, best gain: -inf\n",
      "[LightGBM] [Warning] No further splits with positive gain, best gain: -inf\n",
      "[LightGBM] [Warning] No further splits with positive gain, best gain: -inf\n",
      "[LightGBM] [Warning] No further splits with positive gain, best gain: -inf\n",
      "[LightGBM] [Warning] No further splits with positive gain, best gain: -inf\n",
      "[LightGBM] [Warning] No further splits with positive gain, best gain: -inf\n",
      "[LightGBM] [Warning] No further splits with positive gain, best gain: -inf\n",
      "[LightGBM] [Warning] No further splits with positive gain, best gain: -inf\n",
      "[LightGBM] [Warning] No further splits with positive gain, best gain: -inf\n",
      "[LightGBM] [Warning] No further splits with positive gain, best gain: -inf\n"
     ]
    },
    {
     "name": "stdout",
     "output_type": "stream",
     "text": [
      "[LightGBM] [Warning] No further splits with positive gain, best gain: -inf\n",
      "[LightGBM] [Warning] No further splits with positive gain, best gain: -inf\n",
      "[LightGBM] [Warning] No further splits with positive gain, best gain: -inf\n",
      "[LightGBM] [Warning] No further splits with positive gain, best gain: -inf\n",
      "[LightGBM] [Warning] No further splits with positive gain, best gain: -inf\n",
      "[LightGBM] [Warning] No further splits with positive gain, best gain: -inf\n",
      "[LightGBM] [Warning] No further splits with positive gain, best gain: -inf\n",
      "[LightGBM] [Warning] No further splits with positive gain, best gain: -inf\n",
      "[LightGBM] [Warning] No further splits with positive gain, best gain: -inf\n",
      "[LightGBM] [Warning] No further splits with positive gain, best gain: -inf\n",
      "[LightGBM] [Warning] No further splits with positive gain, best gain: -inf\n",
      "[LightGBM] [Warning] No further splits with positive gain, best gain: -inf\n",
      "[LightGBM] [Warning] No further splits with positive gain, best gain: -inf\n",
      "[LightGBM] [Warning] No further splits with positive gain, best gain: -inf\n",
      "[LightGBM] [Warning] No further splits with positive gain, best gain: -inf\n",
      "[LightGBM] [Warning] No further splits with positive gain, best gain: -inf\n",
      "[LightGBM] [Warning] No further splits with positive gain, best gain: -inf\n",
      "[LightGBM] [Warning] No further splits with positive gain, best gain: -inf\n",
      "[LightGBM] [Warning] No further splits with positive gain, best gain: -inf\n",
      "[LightGBM] [Warning] No further splits with positive gain, best gain: -inf\n",
      "[LightGBM] [Warning] No further splits with positive gain, best gain: -inf\n",
      "[LightGBM] [Warning] No further splits with positive gain, best gain: -inf\n",
      "[LightGBM] [Warning] No further splits with positive gain, best gain: -inf\n",
      "[LightGBM] [Warning] No further splits with positive gain, best gain: -inf\n",
      "[LightGBM] [Warning] No further splits with positive gain, best gain: -inf\n",
      "[LightGBM] [Warning] No further splits with positive gain, best gain: -inf\n",
      "[LightGBM] [Warning] No further splits with positive gain, best gain: -inf\n",
      "[LightGBM] [Warning] No further splits with positive gain, best gain: -inf\n",
      "[LightGBM] [Warning] No further splits with positive gain, best gain: -inf\n",
      "[LightGBM] [Warning] No further splits with positive gain, best gain: -inf\n",
      "[LightGBM] [Warning] No further splits with positive gain, best gain: -inf\n",
      "[LightGBM] [Warning] No further splits with positive gain, best gain: -inf\n",
      "[LightGBM] [Warning] No further splits with positive gain, best gain: -inf\n",
      "[LightGBM] [Warning] No further splits with positive gain, best gain: -inf\n",
      "[LightGBM] [Warning] No further splits with positive gain, best gain: -inf\n",
      "[LightGBM] [Warning] No further splits with positive gain, best gain: -inf\n",
      "[LightGBM] [Warning] No further splits with positive gain, best gain: -inf\n",
      "[LightGBM] [Warning] No further splits with positive gain, best gain: -inf\n",
      "[LightGBM] [Warning] No further splits with positive gain, best gain: -inf\n",
      "[LightGBM] [Warning] No further splits with positive gain, best gain: -inf\n",
      "[LightGBM] [Warning] No further splits with positive gain, best gain: -inf\n",
      "[LightGBM] [Warning] No further splits with positive gain, best gain: -inf\n",
      "[LightGBM] [Warning] No further splits with positive gain, best gain: -inf\n",
      "[LightGBM] [Warning] No further splits with positive gain, best gain: -inf\n",
      "[LightGBM] [Warning] No further splits with positive gain, best gain: -inf\n",
      "[LightGBM] [Warning] No further splits with positive gain, best gain: -inf\n",
      "[LightGBM] [Warning] No further splits with positive gain, best gain: -inf\n",
      "[LightGBM] [Warning] No further splits with positive gain, best gain: -inf\n",
      "[LightGBM] [Warning] No further splits with positive gain, best gain: -inf\n",
      "[LightGBM] [Warning] No further splits with positive gain, best gain: -inf\n",
      "[LightGBM] [Warning] No further splits with positive gain, best gain: -inf\n",
      "[LightGBM] [Warning] No further splits with positive gain, best gain: -inf\n",
      "[LightGBM] [Warning] No further splits with positive gain, best gain: -inf\n",
      "[LightGBM] [Warning] No further splits with positive gain, best gain: -inf\n",
      "[LightGBM] [Warning] No further splits with positive gain, best gain: -inf\n",
      "[LightGBM] [Warning] No further splits with positive gain, best gain: -inf\n",
      "[LightGBM] [Warning] No further splits with positive gain, best gain: -inf\n",
      "[LightGBM] [Warning] No further splits with positive gain, best gain: -inf\n",
      "[LightGBM] [Warning] No further splits with positive gain, best gain: -inf\n",
      "[LightGBM] [Warning] No further splits with positive gain, best gain: -inf\n",
      "[LightGBM] [Warning] No further splits with positive gain, best gain: -inf\n",
      "[LightGBM] [Warning] No further splits with positive gain, best gain: -inf\n",
      "[LightGBM] [Warning] No further splits with positive gain, best gain: -inf\n",
      "[LightGBM] [Warning] No further splits with positive gain, best gain: -inf\n",
      "[LightGBM] [Warning] No further splits with positive gain, best gain: -inf\n",
      "[LightGBM] [Warning] No further splits with positive gain, best gain: -inf\n",
      "[LightGBM] [Warning] No further splits with positive gain, best gain: -inf\n",
      "[LightGBM] [Warning] No further splits with positive gain, best gain: -inf\n",
      "[LightGBM] [Warning] No further splits with positive gain, best gain: -inf\n",
      "[LightGBM] [Warning] No further splits with positive gain, best gain: -inf\n",
      "[LightGBM] [Warning] No further splits with positive gain, best gain: -inf\n",
      "[LightGBM] [Warning] No further splits with positive gain, best gain: -inf\n",
      "[LightGBM] [Warning] No further splits with positive gain, best gain: -inf\n",
      "[LightGBM] [Warning] No further splits with positive gain, best gain: -inf\n",
      "[LightGBM] [Warning] No further splits with positive gain, best gain: -inf\n",
      "[LightGBM] [Warning] No further splits with positive gain, best gain: -inf\n",
      "[LightGBM] [Warning] No further splits with positive gain, best gain: -inf\n",
      "[LightGBM] [Warning] No further splits with positive gain, best gain: -inf\n",
      "[LightGBM] [Warning] No further splits with positive gain, best gain: -inf\n",
      "[LightGBM] [Warning] No further splits with positive gain, best gain: -inf\n",
      "[LightGBM] [Warning] No further splits with positive gain, best gain: -inf\n",
      "[LightGBM] [Warning] No further splits with positive gain, best gain: -inf\n",
      "[LightGBM] [Warning] Found boosting=goss. For backwards compatibility reasons, LightGBM interprets this as boosting=gbdt, data_sample_strategy=goss.To suppress this warning, set data_sample_strategy=goss instead.\n"
     ]
    },
    {
     "data": {
      "text/html": [
       "<div>\n",
       "<style scoped>\n",
       "    .dataframe tbody tr th:only-of-type {\n",
       "        vertical-align: middle;\n",
       "    }\n",
       "\n",
       "    .dataframe tbody tr th {\n",
       "        vertical-align: top;\n",
       "    }\n",
       "\n",
       "    .dataframe thead th {\n",
       "        text-align: right;\n",
       "    }\n",
       "</style>\n",
       "<table border=\"1\" class=\"dataframe\">\n",
       "  <thead>\n",
       "    <tr style=\"text-align: right;\">\n",
       "      <th></th>\n",
       "      <th>Model</th>\n",
       "      <th>Accuracy</th>\n",
       "    </tr>\n",
       "  </thead>\n",
       "  <tbody>\n",
       "    <tr>\n",
       "      <th>0</th>\n",
       "      <td>CatBoostClassifier</td>\n",
       "      <td>0.878205</td>\n",
       "    </tr>\n",
       "    <tr>\n",
       "      <th>1</th>\n",
       "      <td>LGBMClassifier</td>\n",
       "      <td>0.865385</td>\n",
       "    </tr>\n",
       "    <tr>\n",
       "      <th>2</th>\n",
       "      <td>XGBClassifier</td>\n",
       "      <td>0.882479</td>\n",
       "    </tr>\n",
       "  </tbody>\n",
       "</table>\n",
       "</div>"
      ],
      "text/plain": [
       "                Model  Accuracy\n",
       "0  CatBoostClassifier  0.878205\n",
       "1      LGBMClassifier  0.865385\n",
       "2       XGBClassifier  0.882479"
      ]
     },
     "execution_count": 15,
     "metadata": {},
     "output_type": "execute_result"
    }
   ],
   "source": [
    "def train_models(X: pd.DataFrame, y: pd.Series, cat_features: List[str]) -> pd.DataFrame:\n",
    "    # Преобразование категориальных признаков в строки\n",
    "    X[cat_features] = X[cat_features].astype(str)\n",
    "    \n",
    "    label_encoder = LabelEncoder()\n",
    "    y = label_encoder.fit_transform(y)\n",
    "    \n",
    "    # Разбиение данных на обучающую и валидационную выборки\n",
    "    X_train, X_val, y_train, y_val = train_test_split(X, y, test_size=0.2, random_state=42)\n",
    "    \n",
    "    # Создание моделей с базовыми параметрами\n",
    "    models = {\n",
    "        \"CatBoostClassifier\": CatBoostClassifier(loss_function='MultiClass', cat_features=cat_features, verbose=False),\n",
    "        \"LGBMClassifier\": LGBMClassifier(boosting_type='goss', objective='multiclass'),\n",
    "        \"XGBClassifier\": XGBClassifier(booster='dart', objective='multi:softprob', enable_categorical=True)\n",
    "    }\n",
    "    \n",
    "    results = []\n",
    "\n",
    "    # Обучение каждой модели и оценка ее точности на валидационной выборке\n",
    "    for name, model in models.items():\n",
    "        if name == \"LGBMClassifier\":\n",
    "            # Для LGBM преобразовываем категориальные признаки в 'category' после разделения на выборки\n",
    "            X_train[cat_features] = X_train[cat_features].apply(lambda x: x.astype('category'))\n",
    "            X_val[cat_features] = X_val[cat_features].apply(lambda x: x.astype('category'))\n",
    "        model.fit(X_train, y_train)\n",
    "        y_pred = model.predict(X_val)\n",
    "        accuracy = accuracy_score(y_val, y_pred)\n",
    "        results.append({\"Model\": name, \"Accuracy\": accuracy})\n",
    "    \n",
    "    # Возвращение результатов в виде DataFrame\n",
    "    return pd.DataFrame(results)\n",
    "\n",
    "# Замените X и y на ваши реальные данные и cat_features на список ваших категориальных признаков\n",
    "results_df = train_models(X, y, cat_features)\n",
    "results_df"
   ]
  },
  {
   "cell_type": "code",
   "execution_count": 16,
   "metadata": {},
   "outputs": [],
   "source": [
    "def preprocess_data(X, y, cat_features):\n",
    "    # Преобразование категориальных признаков из типа object в category\n",
    "    for feature in cat_features:\n",
    "        X[feature] = X[feature].astype('category')\n",
    "    \n",
    "    # Кодирование целевой переменной\n",
    "    label_encoder = LabelEncoder()\n",
    "    y_encoded = label_encoder.fit_transform(y)\n",
    "    \n",
    "    # Разбиение данных на обучающую и валидационную выборки\n",
    "    X_train, X_val, y_train, y_val = train_test_split(X, y_encoded, test_size=0.2, random_state=42)\n",
    "    \n",
    "    return X_train, X_val, y_train, y_val\n",
    "\n",
    "def objective_catboost(trial):\n",
    "    param = {\n",
    "        'iterations': trial.suggest_int('iterations', 100, 1000),\n",
    "        'depth': trial.suggest_int('depth', 4, 10),\n",
    "        'learning_rate': trial.suggest_uniform('learning_rate', 0.01, 0.3),\n",
    "        'l2_leaf_reg': trial.suggest_loguniform('l2_leaf_reg', 1e-8, 10.0),\n",
    "        'task_type': 'GPU',\n",
    "        'loss_function': 'MultiClass'\n",
    "    }\n",
    "    model = CatBoostClassifier(**param, cat_features=cat_features, verbose=False)\n",
    "    model.fit(X_train, y_train, eval_set=[(X_val, y_val)], early_stopping_rounds=50, verbose=False)\n",
    "    preds = model.predict(X_val)\n",
    "    accuracy = accuracy_score(y_val, preds)\n",
    "    return accuracy\n",
    "\n",
    "def objective_lgbm(trial):\n",
    "    param = {\n",
    "        'objective': 'multiclass',\n",
    "        'metric': 'multi_logloss',\n",
    "        'num_class': len(np.unique(y)),\n",
    "        'boosting_type': 'goss',\n",
    "        'num_leaves': trial.suggest_int('num_leaves', 31, 256),\n",
    "        'learning_rate': trial.suggest_uniform('learning_rate', 0.01, 0.3),\n",
    "        'feature_fraction': trial.suggest_uniform('feature_fraction', 0.5, 1.0),\n",
    "    }\n",
    "    model = LGBMClassifier(**param)\n",
    "    model.fit(X_train, y_train, eval_set=[(X_val, y_val)])\n",
    "    preds = model.predict(X_val)\n",
    "    accuracy = accuracy_score(y_val, preds)\n",
    "    return accuracy\n",
    "\n",
    "def objective_xgb(trial):\n",
    "    param = {\n",
    "        'booster': 'dart',\n",
    "        'lambda': trial.suggest_loguniform('lambda', 1e-8, 10.0),\n",
    "        'alpha': trial.suggest_loguniform('alpha', 1e-8, 10.0),\n",
    "        'max_depth': trial.suggest_int('max_depth', 3, 9),\n",
    "        'eta': trial.suggest_loguniform('eta', 1e-8, 1.0),\n",
    "        'subsample': trial.suggest_discrete_uniform('subsample', 0.5, 1, 0.1),\n",
    "        'min_child_weight': trial.suggest_int('min_child_weight', 1, 10),\n",
    "        'learning_rate': trial.suggest_float('learning_rate', 0.01, 0.3),\n",
    "        'objective': 'multi:softprob',\n",
    "        'eval_metric': 'mlogloss',\n",
    "        'tree_method': 'gpu_hist',\n",
    "        'enable_categorical': True,\n",
    "        'n_estimators': 1000\n",
    "    }\n",
    "    model = XGBClassifier(**param)\n",
    "    model.fit(X_train, y_train, early_stopping_rounds=50, eval_set=[(X_val, y_val)], verbose=False)\n",
    "    preds = model.predict(X_val)\n",
    "    accuracy = accuracy_score(y_val, preds)\n",
    "    return accuracy"
   ]
  },
  {
   "cell_type": "code",
   "execution_count": null,
   "metadata": {},
   "outputs": [
    {
     "name": "stderr",
     "output_type": "stream",
     "text": [
      "C:\\Users\\NeKonn\\AppData\\Local\\Temp\\ipykernel_23980\\2728705623.py:4: SettingWithCopyWarning: \n",
      "A value is trying to be set on a copy of a slice from a DataFrame.\n",
      "Try using .loc[row_indexer,col_indexer] = value instead\n",
      "\n",
      "See the caveats in the documentation: https://pandas.pydata.org/pandas-docs/stable/user_guide/indexing.html#returning-a-view-versus-a-copy\n",
      "  X[feature] = X[feature].astype('category')\n",
      "C:\\Users\\NeKonn\\AppData\\Local\\Temp\\ipykernel_23980\\2728705623.py:4: SettingWithCopyWarning: \n",
      "A value is trying to be set on a copy of a slice from a DataFrame.\n",
      "Try using .loc[row_indexer,col_indexer] = value instead\n",
      "\n",
      "See the caveats in the documentation: https://pandas.pydata.org/pandas-docs/stable/user_guide/indexing.html#returning-a-view-versus-a-copy\n",
      "  X[feature] = X[feature].astype('category')\n",
      "C:\\Users\\NeKonn\\AppData\\Local\\Temp\\ipykernel_23980\\2728705623.py:4: SettingWithCopyWarning: \n",
      "A value is trying to be set on a copy of a slice from a DataFrame.\n",
      "Try using .loc[row_indexer,col_indexer] = value instead\n",
      "\n",
      "See the caveats in the documentation: https://pandas.pydata.org/pandas-docs/stable/user_guide/indexing.html#returning-a-view-versus-a-copy\n",
      "  X[feature] = X[feature].astype('category')\n",
      "C:\\Users\\NeKonn\\AppData\\Local\\Temp\\ipykernel_23980\\2728705623.py:4: SettingWithCopyWarning: \n",
      "A value is trying to be set on a copy of a slice from a DataFrame.\n",
      "Try using .loc[row_indexer,col_indexer] = value instead\n",
      "\n",
      "See the caveats in the documentation: https://pandas.pydata.org/pandas-docs/stable/user_guide/indexing.html#returning-a-view-versus-a-copy\n",
      "  X[feature] = X[feature].astype('category')\n",
      "[I 2024-04-01 13:10:03,563] A new study created in memory with name: no-name-e9813ff7-17b9-4ac0-bb57-f56c87de87cd\n",
      "C:\\Users\\NeKonn\\AppData\\Local\\Temp\\ipykernel_23980\\2728705623.py:19: FutureWarning: suggest_uniform has been deprecated in v3.0.0. This feature will be removed in v6.0.0. See https://github.com/optuna/optuna/releases/tag/v3.0.0. Use suggest_float instead.\n",
      "  'learning_rate': trial.suggest_uniform('learning_rate', 0.01, 0.3),\n",
      "C:\\Users\\NeKonn\\AppData\\Local\\Temp\\ipykernel_23980\\2728705623.py:20: FutureWarning: suggest_loguniform has been deprecated in v3.0.0. This feature will be removed in v6.0.0. See https://github.com/optuna/optuna/releases/tag/v3.0.0. Use suggest_float(..., log=True) instead.\n",
      "  'l2_leaf_reg': trial.suggest_loguniform('l2_leaf_reg', 1e-8, 10.0),\n",
      "[I 2024-04-01 13:10:05,716] Trial 0 finished with value: 0.8867521367521367 and parameters: {'iterations': 369, 'depth': 8, 'learning_rate': 0.12945130283970935, 'l2_leaf_reg': 1.7208110526650856e-05}. Best is trial 0 with value: 0.8867521367521367.\n",
      "C:\\Users\\NeKonn\\AppData\\Local\\Temp\\ipykernel_23980\\2728705623.py:19: FutureWarning: suggest_uniform has been deprecated in v3.0.0. This feature will be removed in v6.0.0. See https://github.com/optuna/optuna/releases/tag/v3.0.0. Use suggest_float instead.\n",
      "  'learning_rate': trial.suggest_uniform('learning_rate', 0.01, 0.3),\n",
      "C:\\Users\\NeKonn\\AppData\\Local\\Temp\\ipykernel_23980\\2728705623.py:20: FutureWarning: suggest_loguniform has been deprecated in v3.0.0. This feature will be removed in v6.0.0. See https://github.com/optuna/optuna/releases/tag/v3.0.0. Use suggest_float(..., log=True) instead.\n",
      "  'l2_leaf_reg': trial.suggest_loguniform('l2_leaf_reg', 1e-8, 10.0),\n",
      "[I 2024-04-01 13:10:06,875] Trial 1 finished with value: 0.8205128205128205 and parameters: {'iterations': 235, 'depth': 4, 'learning_rate': 0.04216435414479504, 'l2_leaf_reg': 4.148858826376033e-08}. Best is trial 0 with value: 0.8867521367521367.\n",
      "C:\\Users\\NeKonn\\AppData\\Local\\Temp\\ipykernel_23980\\2728705623.py:19: FutureWarning: suggest_uniform has been deprecated in v3.0.0. This feature will be removed in v6.0.0. See https://github.com/optuna/optuna/releases/tag/v3.0.0. Use suggest_float instead.\n",
      "  'learning_rate': trial.suggest_uniform('learning_rate', 0.01, 0.3),\n",
      "C:\\Users\\NeKonn\\AppData\\Local\\Temp\\ipykernel_23980\\2728705623.py:20: FutureWarning: suggest_loguniform has been deprecated in v3.0.0. This feature will be removed in v6.0.0. See https://github.com/optuna/optuna/releases/tag/v3.0.0. Use suggest_float(..., log=True) instead.\n",
      "  'l2_leaf_reg': trial.suggest_loguniform('l2_leaf_reg', 1e-8, 10.0),\n",
      "[I 2024-04-01 13:10:07,624] Trial 2 finished with value: 0.7051282051282052 and parameters: {'iterations': 798, 'depth': 5, 'learning_rate': 0.09852819998337897, 'l2_leaf_reg': 2.4580448061893406e-07}. Best is trial 0 with value: 0.8867521367521367.\n",
      "C:\\Users\\NeKonn\\AppData\\Local\\Temp\\ipykernel_23980\\2728705623.py:19: FutureWarning: suggest_uniform has been deprecated in v3.0.0. This feature will be removed in v6.0.0. See https://github.com/optuna/optuna/releases/tag/v3.0.0. Use suggest_float instead.\n",
      "  'learning_rate': trial.suggest_uniform('learning_rate', 0.01, 0.3),\n",
      "C:\\Users\\NeKonn\\AppData\\Local\\Temp\\ipykernel_23980\\2728705623.py:20: FutureWarning: suggest_loguniform has been deprecated in v3.0.0. This feature will be removed in v6.0.0. See https://github.com/optuna/optuna/releases/tag/v3.0.0. Use suggest_float(..., log=True) instead.\n",
      "  'l2_leaf_reg': trial.suggest_loguniform('l2_leaf_reg', 1e-8, 10.0),\n",
      "[I 2024-04-01 13:10:13,858] Trial 3 finished with value: 0.8952991452991453 and parameters: {'iterations': 244, 'depth': 9, 'learning_rate': 0.053703745460189495, 'l2_leaf_reg': 0.6702497320113533}. Best is trial 3 with value: 0.8952991452991453.\n",
      "C:\\Users\\NeKonn\\AppData\\Local\\Temp\\ipykernel_23980\\2728705623.py:19: FutureWarning: suggest_uniform has been deprecated in v3.0.0. This feature will be removed in v6.0.0. See https://github.com/optuna/optuna/releases/tag/v3.0.0. Use suggest_float instead.\n",
      "  'learning_rate': trial.suggest_uniform('learning_rate', 0.01, 0.3),\n",
      "C:\\Users\\NeKonn\\AppData\\Local\\Temp\\ipykernel_23980\\2728705623.py:20: FutureWarning: suggest_loguniform has been deprecated in v3.0.0. This feature will be removed in v6.0.0. See https://github.com/optuna/optuna/releases/tag/v3.0.0. Use suggest_float(..., log=True) instead.\n",
      "  'l2_leaf_reg': trial.suggest_loguniform('l2_leaf_reg', 1e-8, 10.0),\n",
      "[I 2024-04-01 13:10:16,165] Trial 4 finished with value: 0.8547008547008547 and parameters: {'iterations': 307, 'depth': 10, 'learning_rate': 0.221280827484825, 'l2_leaf_reg': 3.986307852628071e-08}. Best is trial 3 with value: 0.8952991452991453.\n",
      "C:\\Users\\NeKonn\\AppData\\Local\\Temp\\ipykernel_23980\\2728705623.py:19: FutureWarning: suggest_uniform has been deprecated in v3.0.0. This feature will be removed in v6.0.0. See https://github.com/optuna/optuna/releases/tag/v3.0.0. Use suggest_float instead.\n",
      "  'learning_rate': trial.suggest_uniform('learning_rate', 0.01, 0.3),\n",
      "C:\\Users\\NeKonn\\AppData\\Local\\Temp\\ipykernel_23980\\2728705623.py:20: FutureWarning: suggest_loguniform has been deprecated in v3.0.0. This feature will be removed in v6.0.0. See https://github.com/optuna/optuna/releases/tag/v3.0.0. Use suggest_float(..., log=True) instead.\n",
      "  'l2_leaf_reg': trial.suggest_loguniform('l2_leaf_reg', 1e-8, 10.0),\n",
      "[I 2024-04-01 13:10:20,122] Trial 5 finished with value: 0.8867521367521367 and parameters: {'iterations': 673, 'depth': 6, 'learning_rate': 0.054434671330470315, 'l2_leaf_reg': 0.3695876004589932}. Best is trial 3 with value: 0.8952991452991453.\n",
      "C:\\Users\\NeKonn\\AppData\\Local\\Temp\\ipykernel_23980\\2728705623.py:19: FutureWarning: suggest_uniform has been deprecated in v3.0.0. This feature will be removed in v6.0.0. See https://github.com/optuna/optuna/releases/tag/v3.0.0. Use suggest_float instead.\n",
      "  'learning_rate': trial.suggest_uniform('learning_rate', 0.01, 0.3),\n",
      "C:\\Users\\NeKonn\\AppData\\Local\\Temp\\ipykernel_23980\\2728705623.py:20: FutureWarning: suggest_loguniform has been deprecated in v3.0.0. This feature will be removed in v6.0.0. See https://github.com/optuna/optuna/releases/tag/v3.0.0. Use suggest_float(..., log=True) instead.\n",
      "  'l2_leaf_reg': trial.suggest_loguniform('l2_leaf_reg', 1e-8, 10.0),\n",
      "[I 2024-04-01 13:10:23,882] Trial 6 finished with value: 0.8824786324786325 and parameters: {'iterations': 389, 'depth': 10, 'learning_rate': 0.16536657853720682, 'l2_leaf_reg': 0.05901195858467507}. Best is trial 3 with value: 0.8952991452991453.\n",
      "C:\\Users\\NeKonn\\AppData\\Local\\Temp\\ipykernel_23980\\2728705623.py:19: FutureWarning: suggest_uniform has been deprecated in v3.0.0. This feature will be removed in v6.0.0. See https://github.com/optuna/optuna/releases/tag/v3.0.0. Use suggest_float instead.\n",
      "  'learning_rate': trial.suggest_uniform('learning_rate', 0.01, 0.3),\n",
      "C:\\Users\\NeKonn\\AppData\\Local\\Temp\\ipykernel_23980\\2728705623.py:20: FutureWarning: suggest_loguniform has been deprecated in v3.0.0. This feature will be removed in v6.0.0. See https://github.com/optuna/optuna/releases/tag/v3.0.0. Use suggest_float(..., log=True) instead.\n",
      "  'l2_leaf_reg': trial.suggest_loguniform('l2_leaf_reg', 1e-8, 10.0),\n"
     ]
    },
    {
     "name": "stderr",
     "output_type": "stream",
     "text": [
      "[I 2024-04-01 13:10:24,869] Trial 7 finished with value: 0.811965811965812 and parameters: {'iterations': 644, 'depth': 7, 'learning_rate': 0.14870790126284367, 'l2_leaf_reg': 8.329298932520695e-08}. Best is trial 3 with value: 0.8952991452991453.\n",
      "C:\\Users\\NeKonn\\AppData\\Local\\Temp\\ipykernel_23980\\2728705623.py:19: FutureWarning: suggest_uniform has been deprecated in v3.0.0. This feature will be removed in v6.0.0. See https://github.com/optuna/optuna/releases/tag/v3.0.0. Use suggest_float instead.\n",
      "  'learning_rate': trial.suggest_uniform('learning_rate', 0.01, 0.3),\n",
      "C:\\Users\\NeKonn\\AppData\\Local\\Temp\\ipykernel_23980\\2728705623.py:20: FutureWarning: suggest_loguniform has been deprecated in v3.0.0. This feature will be removed in v6.0.0. See https://github.com/optuna/optuna/releases/tag/v3.0.0. Use suggest_float(..., log=True) instead.\n",
      "  'l2_leaf_reg': trial.suggest_loguniform('l2_leaf_reg', 1e-8, 10.0),\n",
      "[I 2024-04-01 13:10:26,390] Trial 8 finished with value: 0.8760683760683761 and parameters: {'iterations': 188, 'depth': 5, 'learning_rate': 0.20629366621309125, 'l2_leaf_reg': 0.0015664745993884638}. Best is trial 3 with value: 0.8952991452991453.\n",
      "C:\\Users\\NeKonn\\AppData\\Local\\Temp\\ipykernel_23980\\2728705623.py:19: FutureWarning: suggest_uniform has been deprecated in v3.0.0. This feature will be removed in v6.0.0. See https://github.com/optuna/optuna/releases/tag/v3.0.0. Use suggest_float instead.\n",
      "  'learning_rate': trial.suggest_uniform('learning_rate', 0.01, 0.3),\n",
      "C:\\Users\\NeKonn\\AppData\\Local\\Temp\\ipykernel_23980\\2728705623.py:20: FutureWarning: suggest_loguniform has been deprecated in v3.0.0. This feature will be removed in v6.0.0. See https://github.com/optuna/optuna/releases/tag/v3.0.0. Use suggest_float(..., log=True) instead.\n",
      "  'l2_leaf_reg': trial.suggest_loguniform('l2_leaf_reg', 1e-8, 10.0),\n",
      "[I 2024-04-01 13:10:28,037] Trial 9 finished with value: 0.8867521367521367 and parameters: {'iterations': 925, 'depth': 4, 'learning_rate': 0.19082054271218646, 'l2_leaf_reg': 0.0001761941247845925}. Best is trial 3 with value: 0.8952991452991453.\n",
      "C:\\Users\\NeKonn\\AppData\\Local\\Temp\\ipykernel_23980\\2728705623.py:19: FutureWarning: suggest_uniform has been deprecated in v3.0.0. This feature will be removed in v6.0.0. See https://github.com/optuna/optuna/releases/tag/v3.0.0. Use suggest_float instead.\n",
      "  'learning_rate': trial.suggest_uniform('learning_rate', 0.01, 0.3),\n",
      "C:\\Users\\NeKonn\\AppData\\Local\\Temp\\ipykernel_23980\\2728705623.py:20: FutureWarning: suggest_loguniform has been deprecated in v3.0.0. This feature will be removed in v6.0.0. See https://github.com/optuna/optuna/releases/tag/v3.0.0. Use suggest_float(..., log=True) instead.\n",
      "  'l2_leaf_reg': trial.suggest_loguniform('l2_leaf_reg', 1e-8, 10.0),\n",
      "[I 2024-04-01 13:10:31,778] Trial 10 finished with value: 0.8867521367521367 and parameters: {'iterations': 491, 'depth': 8, 'learning_rate': 0.29498508699934933, 'l2_leaf_reg': 9.945166070235386}. Best is trial 3 with value: 0.8952991452991453.\n",
      "C:\\Users\\NeKonn\\AppData\\Local\\Temp\\ipykernel_23980\\2728705623.py:19: FutureWarning: suggest_uniform has been deprecated in v3.0.0. This feature will be removed in v6.0.0. See https://github.com/optuna/optuna/releases/tag/v3.0.0. Use suggest_float instead.\n",
      "  'learning_rate': trial.suggest_uniform('learning_rate', 0.01, 0.3),\n",
      "C:\\Users\\NeKonn\\AppData\\Local\\Temp\\ipykernel_23980\\2728705623.py:20: FutureWarning: suggest_loguniform has been deprecated in v3.0.0. This feature will be removed in v6.0.0. See https://github.com/optuna/optuna/releases/tag/v3.0.0. Use suggest_float(..., log=True) instead.\n",
      "  'l2_leaf_reg': trial.suggest_loguniform('l2_leaf_reg', 1e-8, 10.0),\n",
      "[I 2024-04-01 13:10:34,248] Trial 11 finished with value: 0.8632478632478633 and parameters: {'iterations': 134, 'depth': 8, 'learning_rate': 0.011968226836809925, 'l2_leaf_reg': 1.810395470193753e-05}. Best is trial 3 with value: 0.8952991452991453.\n",
      "C:\\Users\\NeKonn\\AppData\\Local\\Temp\\ipykernel_23980\\2728705623.py:19: FutureWarning: suggest_uniform has been deprecated in v3.0.0. This feature will be removed in v6.0.0. See https://github.com/optuna/optuna/releases/tag/v3.0.0. Use suggest_float instead.\n",
      "  'learning_rate': trial.suggest_uniform('learning_rate', 0.01, 0.3),\n",
      "C:\\Users\\NeKonn\\AppData\\Local\\Temp\\ipykernel_23980\\2728705623.py:20: FutureWarning: suggest_loguniform has been deprecated in v3.0.0. This feature will be removed in v6.0.0. See https://github.com/optuna/optuna/releases/tag/v3.0.0. Use suggest_float(..., log=True) instead.\n",
      "  'l2_leaf_reg': trial.suggest_loguniform('l2_leaf_reg', 1e-8, 10.0),\n",
      "[I 2024-04-01 13:10:37,171] Trial 12 finished with value: 0.8910256410256411 and parameters: {'iterations': 411, 'depth': 9, 'learning_rate': 0.09881005632208477, 'l2_leaf_reg': 4.758913591997992e-06}. Best is trial 3 with value: 0.8952991452991453.\n",
      "C:\\Users\\NeKonn\\AppData\\Local\\Temp\\ipykernel_23980\\2728705623.py:19: FutureWarning: suggest_uniform has been deprecated in v3.0.0. This feature will be removed in v6.0.0. See https://github.com/optuna/optuna/releases/tag/v3.0.0. Use suggest_float instead.\n",
      "  'learning_rate': trial.suggest_uniform('learning_rate', 0.01, 0.3),\n",
      "C:\\Users\\NeKonn\\AppData\\Local\\Temp\\ipykernel_23980\\2728705623.py:20: FutureWarning: suggest_loguniform has been deprecated in v3.0.0. This feature will be removed in v6.0.0. See https://github.com/optuna/optuna/releases/tag/v3.0.0. Use suggest_float(..., log=True) instead.\n",
      "  'l2_leaf_reg': trial.suggest_loguniform('l2_leaf_reg', 1e-8, 10.0),\n"
     ]
    }
   ],
   "source": [
    "# Определите X_train, X_val, y_train, y_val с использованием вашей функции preprocess_data\n",
    "X_train, X_val, y_train, y_val = preprocess_data(X, y, cat_features)\n",
    "\n",
    "# Создание и оптимизация моделей\n",
    "study_cat = optuna.create_study(direction='maximize')\n",
    "study_cat.optimize(objective_catboost, n_trials=15)\n",
    "\n",
    "study_lgbm = optuna.create_study(direction='maximize')\n",
    "study_lgbm.optimize(objective_lgbm, n_trials=15)\n",
    "\n",
    "study_xgb = optuna.create_study(direction='maximize')\n",
    "study_xgb.optimize(objective_xgb, n_trials=15)"
   ]
  },
  {
   "cell_type": "code",
   "execution_count": null,
   "metadata": {},
   "outputs": [],
   "source": [
    "# Создание моделей с лучшими параметрами\n",
    "model_cat = CatBoostClassifier(**study_cat.best_params, cat_features=cat_features, verbose=False)\n",
    "model_lgbm = LGBMClassifier(**study_lgbm.best_params)\n",
    "model_xgb = XGBClassifier(**study_xgb.best_params)\n",
    "\n",
    "# Добавление моделей в список для ансамблирования\n",
    "models = [\n",
    "    ('catboost', model_cat),\n",
    "    ('lgbm', model_lgbm),\n",
    "    ('xgb', model_xgb)\n",
    "]\n",
    "\n",
    "# Создание и обучение ансамбля\n",
    "voting_clf = VotingClassifier(estimators=models, voting='hard')\n",
    "voting_clf.fit(X_train, y_train)\n",
    "\n",
    "# Оценка ансамбля\n",
    "y_pred = voting_clf.predict(X_val)\n",
    "accuracy = accuracy_score(y_val, y_pred)\n",
    "print(f\"Accuracy of the voting ensemble: {accuracy}\")"
   ]
  }
 ],
 "metadata": {
  "accelerator": "GPU",
  "colab": {
   "gpuType": "V100",
   "machine_shape": "hm",
   "provenance": []
  },
  "kernelspec": {
   "display_name": "Python 3 (ipykernel)",
   "language": "python",
   "name": "python3"
  },
  "language_info": {
   "codemirror_mode": {
    "name": "ipython",
    "version": 3
   },
   "file_extension": ".py",
   "mimetype": "text/x-python",
   "name": "python",
   "nbconvert_exporter": "python",
   "pygments_lexer": "ipython3",
   "version": "3.11.5"
  },
  "widgets": {
   "application/vnd.jupyter.widget-state+json": {
    "2967c2b5178c4bce85f5deed87ffb2ba": {
     "model_module": "catboost-widget",
     "model_module_version": "^1.0.0",
     "model_name": "CatboostWidgetModel",
     "state": {
      "_dom_classes": [],
      "_model_module": "catboost-widget",
      "_model_module_version": "^1.0.0",
      "_model_name": "CatboostWidgetModel",
      "_view_count": null,
      "_view_module": "catboost-widget",
      "_view_module_version": "^1.0.0",
      "_view_name": "CatboostWidgetView",
      "data": {
       "catboost_info": {
        "content": {
         "data": {
          "iterations": [
           {
            "iteration": 0,
            "learn": [
             0.7269631333
            ],
            "passed_time": 0.1841505113,
            "remaining_time": 14.73204091,
            "test": [
             0.7271052635
            ]
           },
           {
            "iteration": 1,
            "learn": [
             0.5313802301
            ],
            "passed_time": 0.3605816262,
            "remaining_time": 14.24297423,
            "test": [
             0.5315174393
            ]
           },
           {
            "iteration": 2,
            "learn": [
             0.4097024633
            ],
            "passed_time": 0.5240056256,
            "remaining_time": 13.62414627,
            "test": [
             0.4098495146
            ]
           },
           {
            "iteration": 3,
            "learn": [
             0.3301584871
            ],
            "passed_time": 0.6915140241,
            "remaining_time": 13.31164496,
            "test": [
             0.3303031897
            ]
           },
           {
            "iteration": 4,
            "learn": [
             0.2696586897
            ],
            "passed_time": 0.8614059695,
            "remaining_time": 13.09337074,
            "test": [
             0.2697959659
            ]
           },
           {
            "iteration": 5,
            "learn": [
             0.225137831
            ],
            "passed_time": 1.026601354,
            "remaining_time": 12.83251693,
            "test": [
             0.2252200581
            ]
           },
           {
            "iteration": 6,
            "learn": [
             0.1910964054
            ],
            "passed_time": 1.19914232,
            "remaining_time": 12.67664738,
            "test": [
             0.1912136841
            ]
           },
           {
            "iteration": 7,
            "learn": [
             0.1642176376
            ],
            "passed_time": 1.375005823,
            "remaining_time": 12.54692813,
            "test": [
             0.1643173122
            ]
           },
           {
            "iteration": 8,
            "learn": [
             0.1458533085
            ],
            "passed_time": 1.538209065,
            "remaining_time": 12.30567252,
            "test": [
             0.1459557121
            ]
           },
           {
            "iteration": 9,
            "learn": [
             0.1300885493
            ],
            "passed_time": 1.710950056,
            "remaining_time": 12.1477454,
            "test": [
             0.1301581829
            ]
           },
           {
            "iteration": 10,
            "learn": [
             0.1178272427
            ],
            "passed_time": 1.881432558,
            "remaining_time": 11.97275264,
            "test": [
             0.1179019987
            ]
           },
           {
            "iteration": 11,
            "learn": [
             0.1016892518
            ],
            "passed_time": 2.065724995,
            "remaining_time": 11.87791872,
            "test": [
             0.1017071579
            ]
           },
           {
            "iteration": 12,
            "learn": [
             0.0869107086
            ],
            "passed_time": 2.240934284,
            "remaining_time": 11.7218101,
            "test": [
             0.08691645175
            ]
           },
           {
            "iteration": 13,
            "learn": [
             0.07810473402
            ],
            "passed_time": 2.426214471,
            "remaining_time": 11.61116926,
            "test": [
             0.07807461467
            ]
           },
           {
            "iteration": 14,
            "learn": [
             0.07140224915
            ],
            "passed_time": 2.600093334,
            "remaining_time": 11.44041067,
            "test": [
             0.07137399757
            ]
           },
           {
            "iteration": 15,
            "learn": [
             0.06577268103
            ],
            "passed_time": 2.787689631,
            "remaining_time": 11.32498913,
            "test": [
             0.0657023317
            ]
           },
           {
            "iteration": 16,
            "learn": [
             0.05878325141
            ],
            "passed_time": 2.96987047,
            "remaining_time": 11.18068883,
            "test": [
             0.0586838676
            ]
           },
           {
            "iteration": 17,
            "learn": [
             0.05547757107
            ],
            "passed_time": 3.143751434,
            "remaining_time": 11.00313002,
            "test": [
             0.05538545706
            ]
           },
           {
            "iteration": 18,
            "learn": [
             0.05212908836
            ],
            "passed_time": 3.310877186,
            "remaining_time": 10.80391503,
            "test": [
             0.05203968655
            ]
           },
           {
            "iteration": 19,
            "learn": [
             0.04720833727
            ],
            "passed_time": 3.48715546,
            "remaining_time": 10.63582415,
            "test": [
             0.04711358936
            ]
           },
           {
            "iteration": 20,
            "learn": [
             0.04386903968
            ],
            "passed_time": 3.665451101,
            "remaining_time": 10.47271743,
            "test": [
             0.04377792387
            ]
           },
           {
            "iteration": 21,
            "learn": [
             0.04246662746
            ],
            "passed_time": 3.826313648,
            "remaining_time": 10.26147751,
            "test": [
             0.04239762864
            ]
           },
           {
            "iteration": 22,
            "learn": [
             0.0403508434
            ],
            "passed_time": 3.996163585,
            "remaining_time": 10.07728208,
            "test": [
             0.04027387017
            ]
           },
           {
            "iteration": 23,
            "learn": [
             0.03745833396
            ],
            "passed_time": 4.180812405,
            "remaining_time": 9.929429462,
            "test": [
             0.03738332077
            ]
           },
           {
            "iteration": 24,
            "learn": [
             0.03523996179
            ],
            "passed_time": 4.351995115,
            "remaining_time": 9.748469057,
            "test": [
             0.03516287671
            ]
           },
           {
            "iteration": 25,
            "learn": [
             0.03316272167
            ],
            "passed_time": 4.52649856,
            "remaining_time": 9.575285416,
            "test": [
             0.03308364857
            ]
           },
           {
            "iteration": 26,
            "learn": [
             0.03182169176
            ],
            "passed_time": 4.683454426,
            "remaining_time": 9.366908851,
            "test": [
             0.03174409779
            ]
           },
           {
            "iteration": 27,
            "learn": [
             0.02981307859
            ],
            "passed_time": 4.851616673,
            "remaining_time": 9.183417275,
            "test": [
             0.02972519785
            ]
           },
           {
            "iteration": 28,
            "learn": [
             0.02816301772
            ],
            "passed_time": 5.029416797,
            "remaining_time": 9.018264601,
            "test": [
             0.02806405891
            ]
           },
           {
            "iteration": 29,
            "learn": [
             0.02658051849
            ],
            "passed_time": 5.204723186,
            "remaining_time": 8.848029416,
            "test": [
             0.02648153172
            ]
           },
           {
            "iteration": 30,
            "learn": [
             0.02534646374
            ],
            "passed_time": 5.373692029,
            "remaining_time": 8.667245209,
            "test": [
             0.02525328163
            ]
           },
           {
            "iteration": 31,
            "learn": [
             0.02344120341
            ],
            "passed_time": 5.54266185,
            "remaining_time": 8.487200958,
            "test": [
             0.02334186434
            ]
           },
           {
            "iteration": 32,
            "learn": [
             0.02174376579
            ],
            "passed_time": 5.735341218,
            "remaining_time": 8.342314499,
            "test": [
             0.02164330409
            ]
           },
           {
            "iteration": 33,
            "learn": [
             0.0211376543
            ],
            "passed_time": 5.884748224,
            "remaining_time": 8.134799015,
            "test": [
             0.0210379825
            ]
           },
           {
            "iteration": 34,
            "learn": [
             0.0205215706
            ],
            "passed_time": 6.035726278,
            "remaining_time": 7.932668822,
            "test": [
             0.02042223992
            ]
           },
           {
            "iteration": 35,
            "learn": [
             0.01949064116
            ],
            "passed_time": 6.201121278,
            "remaining_time": 7.751401597,
            "test": [
             0.01939141533
            ]
           },
           {
            "iteration": 36,
            "learn": [
             0.01805813056
            ],
            "passed_time": 6.383568622,
            "remaining_time": 7.591270794,
            "test": [
             0.01795911164
            ]
           },
           {
            "iteration": 37,
            "learn": [
             0.01737184852
            ],
            "passed_time": 6.548623999,
            "remaining_time": 7.410285052,
            "test": [
             0.0172741158
            ]
           },
           {
            "iteration": 38,
            "learn": [
             0.01647438008
            ],
            "passed_time": 6.725316895,
            "remaining_time": 7.242648964,
            "test": [
             0.01638223952
            ]
           },
           {
            "iteration": 39,
            "learn": [
             0.01572642914
            ],
            "passed_time": 6.880346726,
            "remaining_time": 7.052355394,
            "test": [
             0.01563831353
            ]
           },
           {
            "iteration": 40,
            "learn": [
             0.01517789869
            ],
            "passed_time": 7.032105873,
            "remaining_time": 6.860591096,
            "test": [
             0.0150944721
            ]
           },
           {
            "iteration": 41,
            "learn": [
             0.01463340019
            ],
            "passed_time": 7.196158402,
            "remaining_time": 6.682147087,
            "test": [
             0.01455299477
            ]
           },
           {
            "iteration": 42,
            "learn": [
             0.01373762199
            ],
            "passed_time": 7.357027769,
            "remaining_time": 6.501559423,
            "test": [
             0.01367001561
            ]
           },
           {
            "iteration": 43,
            "learn": [
             0.01311409373
            ],
            "passed_time": 7.526509718,
            "remaining_time": 6.329110445,
            "test": [
             0.01304724229
            ]
           },
           {
            "iteration": 44,
            "learn": [
             0.01250013225
            ],
            "passed_time": 7.693423642,
            "remaining_time": 6.154738913,
            "test": [
             0.01242956902
            ]
           },
           {
            "iteration": 45,
            "learn": [
             0.01179606156
            ],
            "passed_time": 7.879922139,
            "remaining_time": 5.995592932,
            "test": [
             0.01171727367
            ]
           },
           {
            "iteration": 46,
            "learn": [
             0.01146662552
            ],
            "passed_time": 8.054551591,
            "remaining_time": 5.826696895,
            "test": [
             0.01139107689
            ]
           },
           {
            "iteration": 47,
            "learn": [
             0.01086073493
            ],
            "passed_time": 8.230581366,
            "remaining_time": 5.658524689,
            "test": [
             0.01078999764
            ]
           },
           {
            "iteration": 48,
            "learn": [
             0.01065338056
            ],
            "passed_time": 8.405826361,
            "remaining_time": 5.489519256,
            "test": [
             0.01058765664
            ]
           },
           {
            "iteration": 49,
            "learn": [
             0.01002804883
            ],
            "passed_time": 8.58527829,
            "remaining_time": 5.32287254,
            "test": [
             0.009965759197
            ]
           },
           {
            "iteration": 50,
            "learn": [
             0.009528645481
            ],
            "passed_time": 8.759972744,
            "remaining_time": 5.152925144,
            "test": [
             0.009472070332
            ]
           },
           {
            "iteration": 51,
            "learn": [
             0.009021550818
            ],
            "passed_time": 8.938906269,
            "remaining_time": 4.985159265,
            "test": [
             0.008964064846
            ]
           },
           {
            "iteration": 52,
            "learn": [
             0.008647607501
            ],
            "passed_time": 9.105920574,
            "remaining_time": 4.81067502,
            "test": [
             0.008594043728
            ]
           },
           {
            "iteration": 53,
            "learn": [
             0.008356998501
            ],
            "passed_time": 9.262765558,
            "remaining_time": 4.631382779,
            "test": [
             0.00830557932
            ]
           },
           {
            "iteration": 54,
            "learn": [
             0.007826677515
            ],
            "passed_time": 9.43925955,
            "remaining_time": 4.462195424,
            "test": [
             0.007779215484
            ]
           },
           {
            "iteration": 55,
            "learn": [
             0.007515412487
            ],
            "passed_time": 9.609115326,
            "remaining_time": 4.289783628,
            "test": [
             0.00746930236
            ]
           },
           {
            "iteration": 56,
            "learn": [
             0.00719281006
            ],
            "passed_time": 9.780584594,
            "remaining_time": 4.118140882,
            "test": [
             0.007144379188
            ]
           },
           {
            "iteration": 57,
            "learn": [
             0.006877101365
            ],
            "passed_time": 9.968821782,
            "remaining_time": 3.953153465,
            "test": [
             0.006829581315
            ]
           },
           {
            "iteration": 58,
            "learn": [
             0.006616129397
            ],
            "passed_time": 10.12833389,
            "remaining_time": 3.776666876,
            "test": [
             0.006567676156
            ]
           },
           {
            "iteration": 59,
            "learn": [
             0.006411455767
            ],
            "passed_time": 10.30083003,
            "remaining_time": 3.605290511,
            "test": [
             0.006364366313
            ]
           },
           {
            "iteration": 60,
            "learn": [
             0.006044630566
            ],
            "passed_time": 10.47954066,
            "remaining_time": 3.435914969,
            "test": [
             0.00600189181
            ]
           },
           {
            "iteration": 61,
            "learn": [
             0.005930603697
            ],
            "passed_time": 10.64559297,
            "remaining_time": 3.262359136,
            "test": [
             0.005888657629
            ]
           },
           {
            "iteration": 62,
            "learn": [
             0.005576812415
            ],
            "passed_time": 10.8342469,
            "remaining_time": 3.095499115,
            "test": [
             0.005534915628
            ]
           },
           {
            "iteration": 63,
            "learn": [
             0.005325686487
            ],
            "passed_time": 11.00729718,
            "remaining_time": 2.923813313,
            "test": [
             0.005284486972
            ]
           },
           {
            "iteration": 64,
            "learn": [
             0.00502115861
            ],
            "passed_time": 11.18463754,
            "remaining_time": 2.753141549,
            "test": [
             0.00498113205
            ]
           },
           {
            "iteration": 65,
            "learn": [
             0.004840803171
            ],
            "passed_time": 11.34915335,
            "remaining_time": 2.579353033,
            "test": [
             0.004800030058
            ]
           },
           {
            "iteration": 66,
            "learn": [
             0.004628492053
            ],
            "passed_time": 11.52238114,
            "remaining_time": 2.407661731,
            "test": [
             0.004587361741
            ]
           },
           {
            "iteration": 67,
            "learn": [
             0.004406453029
            ],
            "passed_time": 11.69561596,
            "remaining_time": 2.23592658,
            "test": [
             0.004365693197
            ]
           },
           {
            "iteration": 68,
            "learn": [
             0.004219206306
            ],
            "passed_time": 11.88135743,
            "remaining_time": 2.066323032,
            "test": [
             0.004179620128
            ]
           },
           {
            "iteration": 69,
            "learn": [
             0.004135597623
            ],
            "passed_time": 12.03093688,
            "remaining_time": 1.890575795,
            "test": [
             0.00409716378
            ]
           },
           {
            "iteration": 70,
            "learn": [
             0.004029084865
            ],
            "passed_time": 12.18947269,
            "remaining_time": 1.71682714,
            "test": [
             0.00399119416
            ]
           },
           {
            "iteration": 71,
            "learn": [
             0.003920603318
            ],
            "passed_time": 12.36271065,
            "remaining_time": 1.545338831,
            "test": [
             0.003882267687
            ]
           },
           {
            "iteration": 72,
            "learn": [
             0.003694234218
            ],
            "passed_time": 12.53500547,
            "remaining_time": 1.373699229,
            "test": [
             0.003659266462
            ]
           },
           {
            "iteration": 73,
            "learn": [
             0.003532849471
            ],
            "passed_time": 12.72008547,
            "remaining_time": 1.203251329,
            "test": [
             0.00349849196
            ]
           },
           {
            "iteration": 74,
            "learn": [
             0.003454302389
            ],
            "passed_time": 12.87062277,
            "remaining_time": 1.029649821,
            "test": [
             0.003419442283
            ]
           },
           {
            "iteration": 75,
            "learn": [
             0.003337821263
            ],
            "passed_time": 13.02896388,
            "remaining_time": 0.8571686761,
            "test": [
             0.003303182396
            ]
           },
           {
            "iteration": 76,
            "learn": [
             0.003166496458
            ],
            "passed_time": 13.2052605,
            "remaining_time": 0.6859875584,
            "test": [
             0.003133365027
            ]
           },
           {
            "iteration": 77,
            "learn": [
             0.003061591096
            ],
            "passed_time": 13.38940826,
            "remaining_time": 0.5149772406,
            "test": [
             0.003028476441
            ]
           },
           {
            "iteration": 78,
            "learn": [
             0.002982429925
            ],
            "passed_time": 13.57858216,
            "remaining_time": 0.3437615737,
            "test": [
             0.002949407192
            ]
           },
           {
            "iteration": 79,
            "learn": [
             0.002809517123
            ],
            "passed_time": 13.75093185,
            "remaining_time": 0.1718866481,
            "test": [
             0.002777553055
            ]
           },
           {
            "iteration": 80,
            "learn": [
             0.002658066843
            ],
            "passed_time": 13.92972007,
            "remaining_time": 0,
            "test": [
             0.002627339865
            ]
           }
          ],
          "meta": {
           "iteration_count": 81,
           "launch_mode": "Train",
           "learn_metrics": [
            {
             "best_value": "Min",
             "name": "MultiClass"
            }
           ],
           "learn_sets": [
            "learn"
           ],
           "name": "experiment",
           "parameters": "",
           "test_metrics": [
            {
             "best_value": "Min",
             "name": "MultiClass"
            }
           ],
           "test_sets": [
            "test"
           ]
          }
         },
         "passed_iterations": 80,
         "total_iterations": 81
        },
        "name": "catboost_info",
        "path": "catboost_info"
       }
      },
      "layout": "IPY_MODEL_f5ecc0e9b6f74a528faed3e9af884838"
     }
    }
   }
  }
 },
 "nbformat": 4,
 "nbformat_minor": 1
}
