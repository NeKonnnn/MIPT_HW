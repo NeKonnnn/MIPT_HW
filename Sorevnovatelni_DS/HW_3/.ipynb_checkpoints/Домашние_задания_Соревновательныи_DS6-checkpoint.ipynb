{
 "cells": [
  {
   "cell_type": "markdown",
   "metadata": {
    "id": "_Yx1Mi7abuht"
   },
   "source": [
    "# План домашних заданий"
   ]
  },
  {
   "cell_type": "markdown",
   "metadata": {
    "id": "_HK3X8tveQhH"
   },
   "source": [
    "\n",
    "- Описание задачи и знакомство с данными\n",
    "- Домашнее задание 1. Генерация и фильтрация признаков\n",
    "- Домашнее задание 2. Прогноз времени и вида поломки машин, настройка ML-модели\n",
    "- Дополнительное задание. Визуализация прогнозов, ошибок модели и важности признаков\n",
    "- Домашнее задание 3. Оптимизация. Тюнинг гиперпараметров с помощью `Optuna`\n",
    "- Домашнее задание 4. Блендинг\n",
    "- Домашнее задание 5. Парсинг внешних данных и оптимизация памяти\n",
    "- Отправка финального решения на лидерборд на Kaggle"
   ]
  },
  {
   "cell_type": "code",
   "execution_count": 2,
   "metadata": {
    "id": "cfomgq3Sbuht",
    "tags": []
   },
   "outputs": [],
   "source": [
    "import pandas as pd\n",
    "import numpy as np\n",
    "import matplotlib.pyplot as plt\n",
    "import seaborn as sns"
   ]
  },
  {
   "cell_type": "markdown",
   "metadata": {
    "id": "fkeIBE5Kbuht"
   },
   "source": [
    "# <center id=\"part0\"> Описание задачи"
   ]
  },
  {
   "cell_type": "markdown",
   "metadata": {
    "id": "MKmknPZbbuht"
   },
   "source": [
    "**Предыстория:**  мы работаем с каршеринговой компанией, которая управляет крупным автопарком машин. Наша цель — предотвратить длительные периоды простоя машин из-за поломок через своевременное обслуживание и ремонт.\n",
    "\n",
    "\n",
    "**Идея для решения проблемы:** создать приоритизированный список обхода машин. Этот список поможет технической бригаде сосредоточиться на автомобилях, которые наиболее вероятно выйдут из строя в ближайшее время.\n",
    "\n",
    "\n",
    "**Как компания решает задачу:**\n",
    "\n",
    "* Собирает данные о поездках и состоянии машин до поломок.\n",
    "\n",
    "* Нанимает Data Scientist, чтобы он смог использовать эти данные для анализа и прогнозирования характера поломок.\n",
    "\n",
    "**Важный момент**: задачи этого специалиста (Data Scientist) предстоит выполнять вам."
   ]
  },
  {
   "cell_type": "markdown",
   "metadata": {
    "id": "-VMB1MVpbuhu"
   },
   "source": [
    "## <center> Знакомство с данными"
   ]
  },
  {
   "cell_type": "markdown",
   "metadata": {
    "id": "TtZE_Frrbuhu"
   },
   "source": [
    "### Информация про машины с таргетом (основной датасет)"
   ]
  },
  {
   "cell_type": "code",
   "execution_count": 3,
   "metadata": {
    "colab": {
     "base_uri": "https://localhost:8080/",
     "height": 206
    },
    "id": "DhA6zYqebuhu",
    "outputId": "b8d8dac3-3c58-4a26-aed0-786851a5d429",
    "tags": []
   },
   "outputs": [
    {
     "data": {
      "application/vnd.google.colaboratory.intrinsic+json": {
       "summary": "{\n  \"name\": \"car_train\",\n  \"rows\": 5,\n  \"fields\": [\n    {\n      \"column\": \"car_id\",\n      \"properties\": {\n        \"dtype\": \"string\",\n        \"num_unique_values\": 5,\n        \"samples\": [\n          \"X-2098906t\",\n          \"U19913900a\",\n          \"H-4546747T\"\n        ],\n        \"semantic_type\": \"\",\n        \"description\": \"\"\n      }\n    },\n    {\n      \"column\": \"model\",\n      \"properties\": {\n        \"dtype\": \"string\",\n        \"num_unique_values\": 4,\n        \"samples\": [\n          \"Smart Coupe\",\n          \"Kia Rio\",\n          \"Skoda Rapid\"\n        ],\n        \"semantic_type\": \"\",\n        \"description\": \"\"\n      }\n    },\n    {\n      \"column\": \"car_type\",\n      \"properties\": {\n        \"dtype\": \"category\",\n        \"num_unique_values\": 1,\n        \"samples\": [\n          \"economy\"\n        ],\n        \"semantic_type\": \"\",\n        \"description\": \"\"\n      }\n    },\n    {\n      \"column\": \"fuel_type\",\n      \"properties\": {\n        \"dtype\": \"category\",\n        \"num_unique_values\": 1,\n        \"samples\": [\n          \"petrol\"\n        ],\n        \"semantic_type\": \"\",\n        \"description\": \"\"\n      }\n    },\n    {\n      \"column\": \"car_rating\",\n      \"properties\": {\n        \"dtype\": \"number\",\n        \"std\": 0.6799117589805312,\n        \"min\": 3.58,\n        \"max\": 5.36,\n        \"num_unique_values\": 5,\n        \"samples\": [\n          5.36\n        ],\n        \"semantic_type\": \"\",\n        \"description\": \"\"\n      }\n    },\n    {\n      \"column\": \"year_to_start\",\n      \"properties\": {\n        \"dtype\": \"number\",\n        \"std\": 2,\n        \"min\": 2012,\n        \"max\": 2017,\n        \"num_unique_values\": 4,\n        \"samples\": [\n          2017\n        ],\n        \"semantic_type\": \"\",\n        \"description\": \"\"\n      }\n    },\n    {\n      \"column\": \"riders\",\n      \"properties\": {\n        \"dtype\": \"number\",\n        \"std\": 47284,\n        \"min\": 21139,\n        \"max\": 125562,\n        \"num_unique_values\": 5,\n        \"samples\": [\n          125562\n        ],\n        \"semantic_type\": \"\",\n        \"description\": \"\"\n      }\n    },\n    {\n      \"column\": \"year_to_work\",\n      \"properties\": {\n        \"dtype\": \"number\",\n        \"std\": 1,\n        \"min\": 2015,\n        \"max\": 2019,\n        \"num_unique_values\": 4,\n        \"samples\": [\n          2017\n        ],\n        \"semantic_type\": \"\",\n        \"description\": \"\"\n      }\n    },\n    {\n      \"column\": \"target_reg\",\n      \"properties\": {\n        \"dtype\": \"number\",\n        \"std\": 8.640034722152452,\n        \"min\": 34.2,\n        \"max\": 55.0,\n        \"num_unique_values\": 5,\n        \"samples\": [\n          42.1\n        ],\n        \"semantic_type\": \"\",\n        \"description\": \"\"\n      }\n    },\n    {\n      \"column\": \"target_class\",\n      \"properties\": {\n        \"dtype\": \"string\",\n        \"num_unique_values\": 5,\n        \"samples\": [\n          \"gear_stick\"\n        ],\n        \"semantic_type\": \"\",\n        \"description\": \"\"\n      }\n    }\n  ]\n}",
       "type": "dataframe"
      },
      "text/html": [
       "\n",
       "  <div id=\"df-ced567fa-4d55-4b80-bac1-c7227f839add\" class=\"colab-df-container\">\n",
       "    <div>\n",
       "<style scoped>\n",
       "    .dataframe tbody tr th:only-of-type {\n",
       "        vertical-align: middle;\n",
       "    }\n",
       "\n",
       "    .dataframe tbody tr th {\n",
       "        vertical-align: top;\n",
       "    }\n",
       "\n",
       "    .dataframe thead th {\n",
       "        text-align: right;\n",
       "    }\n",
       "</style>\n",
       "<table border=\"1\" class=\"dataframe\">\n",
       "  <thead>\n",
       "    <tr style=\"text-align: right;\">\n",
       "      <th></th>\n",
       "      <th>car_id</th>\n",
       "      <th>model</th>\n",
       "      <th>car_type</th>\n",
       "      <th>fuel_type</th>\n",
       "      <th>car_rating</th>\n",
       "      <th>year_to_start</th>\n",
       "      <th>riders</th>\n",
       "      <th>year_to_work</th>\n",
       "      <th>target_reg</th>\n",
       "      <th>target_class</th>\n",
       "    </tr>\n",
       "  </thead>\n",
       "  <tbody>\n",
       "    <tr>\n",
       "      <th>1326</th>\n",
       "      <td>i12582651H</td>\n",
       "      <td>Skoda Rapid</td>\n",
       "      <td>economy</td>\n",
       "      <td>petrol</td>\n",
       "      <td>3.98</td>\n",
       "      <td>2016</td>\n",
       "      <td>106360</td>\n",
       "      <td>2019</td>\n",
       "      <td>55.00</td>\n",
       "      <td>another_bug</td>\n",
       "    </tr>\n",
       "    <tr>\n",
       "      <th>2324</th>\n",
       "      <td>X-2098906t</td>\n",
       "      <td>Smart Coupe</td>\n",
       "      <td>economy</td>\n",
       "      <td>petrol</td>\n",
       "      <td>5.36</td>\n",
       "      <td>2017</td>\n",
       "      <td>125562</td>\n",
       "      <td>2019</td>\n",
       "      <td>42.10</td>\n",
       "      <td>gear_stick</td>\n",
       "    </tr>\n",
       "    <tr>\n",
       "      <th>1169</th>\n",
       "      <td>H-4546747T</td>\n",
       "      <td>Kia Rio X</td>\n",
       "      <td>economy</td>\n",
       "      <td>petrol</td>\n",
       "      <td>4.68</td>\n",
       "      <td>2015</td>\n",
       "      <td>73109</td>\n",
       "      <td>2017</td>\n",
       "      <td>47.62</td>\n",
       "      <td>engine_check</td>\n",
       "    </tr>\n",
       "    <tr>\n",
       "      <th>1693</th>\n",
       "      <td>z20009031Q</td>\n",
       "      <td>Kia Rio X</td>\n",
       "      <td>economy</td>\n",
       "      <td>petrol</td>\n",
       "      <td>3.58</td>\n",
       "      <td>2012</td>\n",
       "      <td>23772</td>\n",
       "      <td>2015</td>\n",
       "      <td>53.88</td>\n",
       "      <td>engine_overheat</td>\n",
       "    </tr>\n",
       "    <tr>\n",
       "      <th>1392</th>\n",
       "      <td>U19913900a</td>\n",
       "      <td>Kia Rio</td>\n",
       "      <td>economy</td>\n",
       "      <td>petrol</td>\n",
       "      <td>4.38</td>\n",
       "      <td>2012</td>\n",
       "      <td>21139</td>\n",
       "      <td>2018</td>\n",
       "      <td>34.20</td>\n",
       "      <td>break_bug</td>\n",
       "    </tr>\n",
       "  </tbody>\n",
       "</table>\n",
       "</div>\n",
       "    <div class=\"colab-df-buttons\">\n",
       "\n",
       "  <div class=\"colab-df-container\">\n",
       "    <button class=\"colab-df-convert\" onclick=\"convertToInteractive('df-ced567fa-4d55-4b80-bac1-c7227f839add')\"\n",
       "            title=\"Convert this dataframe to an interactive table.\"\n",
       "            style=\"display:none;\">\n",
       "\n",
       "  <svg xmlns=\"http://www.w3.org/2000/svg\" height=\"24px\" viewBox=\"0 -960 960 960\">\n",
       "    <path d=\"M120-120v-720h720v720H120Zm60-500h600v-160H180v160Zm220 220h160v-160H400v160Zm0 220h160v-160H400v160ZM180-400h160v-160H180v160Zm440 0h160v-160H620v160ZM180-180h160v-160H180v160Zm440 0h160v-160H620v160Z\"/>\n",
       "  </svg>\n",
       "    </button>\n",
       "\n",
       "  <style>\n",
       "    .colab-df-container {\n",
       "      display:flex;\n",
       "      gap: 12px;\n",
       "    }\n",
       "\n",
       "    .colab-df-convert {\n",
       "      background-color: #E8F0FE;\n",
       "      border: none;\n",
       "      border-radius: 50%;\n",
       "      cursor: pointer;\n",
       "      display: none;\n",
       "      fill: #1967D2;\n",
       "      height: 32px;\n",
       "      padding: 0 0 0 0;\n",
       "      width: 32px;\n",
       "    }\n",
       "\n",
       "    .colab-df-convert:hover {\n",
       "      background-color: #E2EBFA;\n",
       "      box-shadow: 0px 1px 2px rgba(60, 64, 67, 0.3), 0px 1px 3px 1px rgba(60, 64, 67, 0.15);\n",
       "      fill: #174EA6;\n",
       "    }\n",
       "\n",
       "    .colab-df-buttons div {\n",
       "      margin-bottom: 4px;\n",
       "    }\n",
       "\n",
       "    [theme=dark] .colab-df-convert {\n",
       "      background-color: #3B4455;\n",
       "      fill: #D2E3FC;\n",
       "    }\n",
       "\n",
       "    [theme=dark] .colab-df-convert:hover {\n",
       "      background-color: #434B5C;\n",
       "      box-shadow: 0px 1px 3px 1px rgba(0, 0, 0, 0.15);\n",
       "      filter: drop-shadow(0px 1px 2px rgba(0, 0, 0, 0.3));\n",
       "      fill: #FFFFFF;\n",
       "    }\n",
       "  </style>\n",
       "\n",
       "    <script>\n",
       "      const buttonEl =\n",
       "        document.querySelector('#df-ced567fa-4d55-4b80-bac1-c7227f839add button.colab-df-convert');\n",
       "      buttonEl.style.display =\n",
       "        google.colab.kernel.accessAllowed ? 'block' : 'none';\n",
       "\n",
       "      async function convertToInteractive(key) {\n",
       "        const element = document.querySelector('#df-ced567fa-4d55-4b80-bac1-c7227f839add');\n",
       "        const dataTable =\n",
       "          await google.colab.kernel.invokeFunction('convertToInteractive',\n",
       "                                                    [key], {});\n",
       "        if (!dataTable) return;\n",
       "\n",
       "        const docLinkHtml = 'Like what you see? Visit the ' +\n",
       "          '<a target=\"_blank\" href=https://colab.research.google.com/notebooks/data_table.ipynb>data table notebook</a>'\n",
       "          + ' to learn more about interactive tables.';\n",
       "        element.innerHTML = '';\n",
       "        dataTable['output_type'] = 'display_data';\n",
       "        await google.colab.output.renderOutput(dataTable, element);\n",
       "        const docLink = document.createElement('div');\n",
       "        docLink.innerHTML = docLinkHtml;\n",
       "        element.appendChild(docLink);\n",
       "      }\n",
       "    </script>\n",
       "  </div>\n",
       "\n",
       "\n",
       "<div id=\"df-151bfba3-0425-4644-83b4-c2ea653e61b0\">\n",
       "  <button class=\"colab-df-quickchart\" onclick=\"quickchart('df-151bfba3-0425-4644-83b4-c2ea653e61b0')\"\n",
       "            title=\"Suggest charts\"\n",
       "            style=\"display:none;\">\n",
       "\n",
       "<svg xmlns=\"http://www.w3.org/2000/svg\" height=\"24px\"viewBox=\"0 0 24 24\"\n",
       "     width=\"24px\">\n",
       "    <g>\n",
       "        <path d=\"M19 3H5c-1.1 0-2 .9-2 2v14c0 1.1.9 2 2 2h14c1.1 0 2-.9 2-2V5c0-1.1-.9-2-2-2zM9 17H7v-7h2v7zm4 0h-2V7h2v10zm4 0h-2v-4h2v4z\"/>\n",
       "    </g>\n",
       "</svg>\n",
       "  </button>\n",
       "\n",
       "<style>\n",
       "  .colab-df-quickchart {\n",
       "      --bg-color: #E8F0FE;\n",
       "      --fill-color: #1967D2;\n",
       "      --hover-bg-color: #E2EBFA;\n",
       "      --hover-fill-color: #174EA6;\n",
       "      --disabled-fill-color: #AAA;\n",
       "      --disabled-bg-color: #DDD;\n",
       "  }\n",
       "\n",
       "  [theme=dark] .colab-df-quickchart {\n",
       "      --bg-color: #3B4455;\n",
       "      --fill-color: #D2E3FC;\n",
       "      --hover-bg-color: #434B5C;\n",
       "      --hover-fill-color: #FFFFFF;\n",
       "      --disabled-bg-color: #3B4455;\n",
       "      --disabled-fill-color: #666;\n",
       "  }\n",
       "\n",
       "  .colab-df-quickchart {\n",
       "    background-color: var(--bg-color);\n",
       "    border: none;\n",
       "    border-radius: 50%;\n",
       "    cursor: pointer;\n",
       "    display: none;\n",
       "    fill: var(--fill-color);\n",
       "    height: 32px;\n",
       "    padding: 0;\n",
       "    width: 32px;\n",
       "  }\n",
       "\n",
       "  .colab-df-quickchart:hover {\n",
       "    background-color: var(--hover-bg-color);\n",
       "    box-shadow: 0 1px 2px rgba(60, 64, 67, 0.3), 0 1px 3px 1px rgba(60, 64, 67, 0.15);\n",
       "    fill: var(--button-hover-fill-color);\n",
       "  }\n",
       "\n",
       "  .colab-df-quickchart-complete:disabled,\n",
       "  .colab-df-quickchart-complete:disabled:hover {\n",
       "    background-color: var(--disabled-bg-color);\n",
       "    fill: var(--disabled-fill-color);\n",
       "    box-shadow: none;\n",
       "  }\n",
       "\n",
       "  .colab-df-spinner {\n",
       "    border: 2px solid var(--fill-color);\n",
       "    border-color: transparent;\n",
       "    border-bottom-color: var(--fill-color);\n",
       "    animation:\n",
       "      spin 1s steps(1) infinite;\n",
       "  }\n",
       "\n",
       "  @keyframes spin {\n",
       "    0% {\n",
       "      border-color: transparent;\n",
       "      border-bottom-color: var(--fill-color);\n",
       "      border-left-color: var(--fill-color);\n",
       "    }\n",
       "    20% {\n",
       "      border-color: transparent;\n",
       "      border-left-color: var(--fill-color);\n",
       "      border-top-color: var(--fill-color);\n",
       "    }\n",
       "    30% {\n",
       "      border-color: transparent;\n",
       "      border-left-color: var(--fill-color);\n",
       "      border-top-color: var(--fill-color);\n",
       "      border-right-color: var(--fill-color);\n",
       "    }\n",
       "    40% {\n",
       "      border-color: transparent;\n",
       "      border-right-color: var(--fill-color);\n",
       "      border-top-color: var(--fill-color);\n",
       "    }\n",
       "    60% {\n",
       "      border-color: transparent;\n",
       "      border-right-color: var(--fill-color);\n",
       "    }\n",
       "    80% {\n",
       "      border-color: transparent;\n",
       "      border-right-color: var(--fill-color);\n",
       "      border-bottom-color: var(--fill-color);\n",
       "    }\n",
       "    90% {\n",
       "      border-color: transparent;\n",
       "      border-bottom-color: var(--fill-color);\n",
       "    }\n",
       "  }\n",
       "</style>\n",
       "\n",
       "  <script>\n",
       "    async function quickchart(key) {\n",
       "      const quickchartButtonEl =\n",
       "        document.querySelector('#' + key + ' button');\n",
       "      quickchartButtonEl.disabled = true;  // To prevent multiple clicks.\n",
       "      quickchartButtonEl.classList.add('colab-df-spinner');\n",
       "      try {\n",
       "        const charts = await google.colab.kernel.invokeFunction(\n",
       "            'suggestCharts', [key], {});\n",
       "      } catch (error) {\n",
       "        console.error('Error during call to suggestCharts:', error);\n",
       "      }\n",
       "      quickchartButtonEl.classList.remove('colab-df-spinner');\n",
       "      quickchartButtonEl.classList.add('colab-df-quickchart-complete');\n",
       "    }\n",
       "    (() => {\n",
       "      let quickchartButtonEl =\n",
       "        document.querySelector('#df-151bfba3-0425-4644-83b4-c2ea653e61b0 button');\n",
       "      quickchartButtonEl.style.display =\n",
       "        google.colab.kernel.accessAllowed ? 'block' : 'none';\n",
       "    })();\n",
       "  </script>\n",
       "</div>\n",
       "    </div>\n",
       "  </div>\n"
      ],
      "text/plain": [
       "          car_id        model car_type fuel_type  car_rating  year_to_start  \\\n",
       "1326  i12582651H  Skoda Rapid  economy    petrol        3.98           2016   \n",
       "2324  X-2098906t  Smart Coupe  economy    petrol        5.36           2017   \n",
       "1169  H-4546747T    Kia Rio X  economy    petrol        4.68           2015   \n",
       "1693  z20009031Q    Kia Rio X  economy    petrol        3.58           2012   \n",
       "1392  U19913900a      Kia Rio  economy    petrol        4.38           2012   \n",
       "\n",
       "      riders  year_to_work  target_reg     target_class  \n",
       "1326  106360          2019       55.00      another_bug  \n",
       "2324  125562          2019       42.10       gear_stick  \n",
       "1169   73109          2017       47.62     engine_check  \n",
       "1693   23772          2015       53.88  engine_overheat  \n",
       "1392   21139          2018       34.20        break_bug  "
      ]
     },
     "execution_count": 3,
     "metadata": {},
     "output_type": "execute_result"
    }
   ],
   "source": [
    "car_train = pd.read_csv('https://raw.githubusercontent.com/a-milenkin/Competitive_Data_Science/main/data/car_train.csv')\n",
    "car_train.sample(5)"
   ]
  },
  {
   "cell_type": "markdown",
   "metadata": {
    "id": "AWvQSnafbuhu"
   },
   "source": [
    "- `car_id` — идентификатор машины\n",
    "- `model` / `car_type` / `fuel_type` — марка, класс и тип топлива машины\n",
    "- `car_rating` / `riders` — общий рейтинг и общее число поездок к концу 2021 года\n",
    "- `year_to_start` / `year_to_work` — год выпуска машины и год начала работы в автопарке\n",
    "- `target_reg` — количество дней до поломки\n",
    "- `target_class` — класс поломки (всего 9 видов)"
   ]
  },
  {
   "cell_type": "markdown",
   "metadata": {
    "id": "6KWf2LgObuhu"
   },
   "source": [
    "### Информация про поездки"
   ]
  },
  {
   "cell_type": "code",
   "execution_count": 4,
   "metadata": {
    "colab": {
     "base_uri": "https://localhost:8080/",
     "height": 226
    },
    "id": "pDc5gXzbbuhu",
    "outputId": "03734bff-6399-4c99-ca93-f1954895a1c2",
    "tags": []
   },
   "outputs": [
    {
     "data": {
      "application/vnd.google.colaboratory.intrinsic+json": {
       "repr_error": "0",
       "type": "dataframe"
      },
      "text/html": [
       "\n",
       "  <div id=\"df-1e65bac3-4e00-4b85-9017-0c906c6dd73e\" class=\"colab-df-container\">\n",
       "    <div>\n",
       "<style scoped>\n",
       "    .dataframe tbody tr th:only-of-type {\n",
       "        vertical-align: middle;\n",
       "    }\n",
       "\n",
       "    .dataframe tbody tr th {\n",
       "        vertical-align: top;\n",
       "    }\n",
       "\n",
       "    .dataframe thead th {\n",
       "        text-align: right;\n",
       "    }\n",
       "</style>\n",
       "<table border=\"1\" class=\"dataframe\">\n",
       "  <thead>\n",
       "    <tr style=\"text-align: right;\">\n",
       "      <th></th>\n",
       "      <th>user_id</th>\n",
       "      <th>car_id</th>\n",
       "      <th>ride_id</th>\n",
       "      <th>ride_date</th>\n",
       "      <th>rating</th>\n",
       "      <th>ride_duration</th>\n",
       "      <th>ride_cost</th>\n",
       "      <th>speed_avg</th>\n",
       "      <th>speed_max</th>\n",
       "      <th>stop_times</th>\n",
       "      <th>distance</th>\n",
       "      <th>refueling</th>\n",
       "      <th>user_ride_quality</th>\n",
       "      <th>deviation_normal</th>\n",
       "    </tr>\n",
       "  </thead>\n",
       "  <tbody>\n",
       "    <tr>\n",
       "      <th>173408</th>\n",
       "      <td>N28409857V</td>\n",
       "      <td>M10208049m</td>\n",
       "      <td>L1c</td>\n",
       "      <td>2020-02-25</td>\n",
       "      <td>6.77</td>\n",
       "      <td>73</td>\n",
       "      <td>944</td>\n",
       "      <td>46</td>\n",
       "      <td>61.000000</td>\n",
       "      <td>0</td>\n",
       "      <td>1783.562120</td>\n",
       "      <td>0</td>\n",
       "      <td>18.283603</td>\n",
       "      <td>13.261</td>\n",
       "    </tr>\n",
       "    <tr>\n",
       "      <th>654967</th>\n",
       "      <td>o10630947W</td>\n",
       "      <td>u-2045579o</td>\n",
       "      <td>l1O</td>\n",
       "      <td>2020-01-17</td>\n",
       "      <td>3.38</td>\n",
       "      <td>12</td>\n",
       "      <td>128</td>\n",
       "      <td>47</td>\n",
       "      <td>52.000000</td>\n",
       "      <td>0</td>\n",
       "      <td>605.872071</td>\n",
       "      <td>0</td>\n",
       "      <td>2.683461</td>\n",
       "      <td>-28.664</td>\n",
       "    </tr>\n",
       "    <tr>\n",
       "      <th>385755</th>\n",
       "      <td>r80226248T</td>\n",
       "      <td>b-4023465w</td>\n",
       "      <td>O1o</td>\n",
       "      <td>2020-03-31</td>\n",
       "      <td>5.28</td>\n",
       "      <td>13</td>\n",
       "      <td>202</td>\n",
       "      <td>31</td>\n",
       "      <td>51.000000</td>\n",
       "      <td>2</td>\n",
       "      <td>340.141043</td>\n",
       "      <td>0</td>\n",
       "      <td>22.592657</td>\n",
       "      <td>-5.001</td>\n",
       "    </tr>\n",
       "    <tr>\n",
       "      <th>313983</th>\n",
       "      <td>n15468226e</td>\n",
       "      <td>W-2145474K</td>\n",
       "      <td>L1k</td>\n",
       "      <td>2020-02-16</td>\n",
       "      <td>2.31</td>\n",
       "      <td>54</td>\n",
       "      <td>479</td>\n",
       "      <td>36</td>\n",
       "      <td>87.258478</td>\n",
       "      <td>2</td>\n",
       "      <td>1130.174865</td>\n",
       "      <td>0</td>\n",
       "      <td>-17.969260</td>\n",
       "      <td>-0.000</td>\n",
       "    </tr>\n",
       "    <tr>\n",
       "      <th>680694</th>\n",
       "      <td>z12615767B</td>\n",
       "      <td>v77404713z</td>\n",
       "      <td>v1r</td>\n",
       "      <td>2020-01-04</td>\n",
       "      <td>4.93</td>\n",
       "      <td>15</td>\n",
       "      <td>128</td>\n",
       "      <td>69</td>\n",
       "      <td>98.835560</td>\n",
       "      <td>0</td>\n",
       "      <td>1075.032710</td>\n",
       "      <td>0</td>\n",
       "      <td>-3.987191</td>\n",
       "      <td>0.000</td>\n",
       "    </tr>\n",
       "  </tbody>\n",
       "</table>\n",
       "</div>\n",
       "    <div class=\"colab-df-buttons\">\n",
       "\n",
       "  <div class=\"colab-df-container\">\n",
       "    <button class=\"colab-df-convert\" onclick=\"convertToInteractive('df-1e65bac3-4e00-4b85-9017-0c906c6dd73e')\"\n",
       "            title=\"Convert this dataframe to an interactive table.\"\n",
       "            style=\"display:none;\">\n",
       "\n",
       "  <svg xmlns=\"http://www.w3.org/2000/svg\" height=\"24px\" viewBox=\"0 -960 960 960\">\n",
       "    <path d=\"M120-120v-720h720v720H120Zm60-500h600v-160H180v160Zm220 220h160v-160H400v160Zm0 220h160v-160H400v160ZM180-400h160v-160H180v160Zm440 0h160v-160H620v160ZM180-180h160v-160H180v160Zm440 0h160v-160H620v160Z\"/>\n",
       "  </svg>\n",
       "    </button>\n",
       "\n",
       "  <style>\n",
       "    .colab-df-container {\n",
       "      display:flex;\n",
       "      gap: 12px;\n",
       "    }\n",
       "\n",
       "    .colab-df-convert {\n",
       "      background-color: #E8F0FE;\n",
       "      border: none;\n",
       "      border-radius: 50%;\n",
       "      cursor: pointer;\n",
       "      display: none;\n",
       "      fill: #1967D2;\n",
       "      height: 32px;\n",
       "      padding: 0 0 0 0;\n",
       "      width: 32px;\n",
       "    }\n",
       "\n",
       "    .colab-df-convert:hover {\n",
       "      background-color: #E2EBFA;\n",
       "      box-shadow: 0px 1px 2px rgba(60, 64, 67, 0.3), 0px 1px 3px 1px rgba(60, 64, 67, 0.15);\n",
       "      fill: #174EA6;\n",
       "    }\n",
       "\n",
       "    .colab-df-buttons div {\n",
       "      margin-bottom: 4px;\n",
       "    }\n",
       "\n",
       "    [theme=dark] .colab-df-convert {\n",
       "      background-color: #3B4455;\n",
       "      fill: #D2E3FC;\n",
       "    }\n",
       "\n",
       "    [theme=dark] .colab-df-convert:hover {\n",
       "      background-color: #434B5C;\n",
       "      box-shadow: 0px 1px 3px 1px rgba(0, 0, 0, 0.15);\n",
       "      filter: drop-shadow(0px 1px 2px rgba(0, 0, 0, 0.3));\n",
       "      fill: #FFFFFF;\n",
       "    }\n",
       "  </style>\n",
       "\n",
       "    <script>\n",
       "      const buttonEl =\n",
       "        document.querySelector('#df-1e65bac3-4e00-4b85-9017-0c906c6dd73e button.colab-df-convert');\n",
       "      buttonEl.style.display =\n",
       "        google.colab.kernel.accessAllowed ? 'block' : 'none';\n",
       "\n",
       "      async function convertToInteractive(key) {\n",
       "        const element = document.querySelector('#df-1e65bac3-4e00-4b85-9017-0c906c6dd73e');\n",
       "        const dataTable =\n",
       "          await google.colab.kernel.invokeFunction('convertToInteractive',\n",
       "                                                    [key], {});\n",
       "        if (!dataTable) return;\n",
       "\n",
       "        const docLinkHtml = 'Like what you see? Visit the ' +\n",
       "          '<a target=\"_blank\" href=https://colab.research.google.com/notebooks/data_table.ipynb>data table notebook</a>'\n",
       "          + ' to learn more about interactive tables.';\n",
       "        element.innerHTML = '';\n",
       "        dataTable['output_type'] = 'display_data';\n",
       "        await google.colab.output.renderOutput(dataTable, element);\n",
       "        const docLink = document.createElement('div');\n",
       "        docLink.innerHTML = docLinkHtml;\n",
       "        element.appendChild(docLink);\n",
       "      }\n",
       "    </script>\n",
       "  </div>\n",
       "\n",
       "\n",
       "<div id=\"df-a4de71a9-7f50-4d24-84f3-69eb45a478cc\">\n",
       "  <button class=\"colab-df-quickchart\" onclick=\"quickchart('df-a4de71a9-7f50-4d24-84f3-69eb45a478cc')\"\n",
       "            title=\"Suggest charts\"\n",
       "            style=\"display:none;\">\n",
       "\n",
       "<svg xmlns=\"http://www.w3.org/2000/svg\" height=\"24px\"viewBox=\"0 0 24 24\"\n",
       "     width=\"24px\">\n",
       "    <g>\n",
       "        <path d=\"M19 3H5c-1.1 0-2 .9-2 2v14c0 1.1.9 2 2 2h14c1.1 0 2-.9 2-2V5c0-1.1-.9-2-2-2zM9 17H7v-7h2v7zm4 0h-2V7h2v10zm4 0h-2v-4h2v4z\"/>\n",
       "    </g>\n",
       "</svg>\n",
       "  </button>\n",
       "\n",
       "<style>\n",
       "  .colab-df-quickchart {\n",
       "      --bg-color: #E8F0FE;\n",
       "      --fill-color: #1967D2;\n",
       "      --hover-bg-color: #E2EBFA;\n",
       "      --hover-fill-color: #174EA6;\n",
       "      --disabled-fill-color: #AAA;\n",
       "      --disabled-bg-color: #DDD;\n",
       "  }\n",
       "\n",
       "  [theme=dark] .colab-df-quickchart {\n",
       "      --bg-color: #3B4455;\n",
       "      --fill-color: #D2E3FC;\n",
       "      --hover-bg-color: #434B5C;\n",
       "      --hover-fill-color: #FFFFFF;\n",
       "      --disabled-bg-color: #3B4455;\n",
       "      --disabled-fill-color: #666;\n",
       "  }\n",
       "\n",
       "  .colab-df-quickchart {\n",
       "    background-color: var(--bg-color);\n",
       "    border: none;\n",
       "    border-radius: 50%;\n",
       "    cursor: pointer;\n",
       "    display: none;\n",
       "    fill: var(--fill-color);\n",
       "    height: 32px;\n",
       "    padding: 0;\n",
       "    width: 32px;\n",
       "  }\n",
       "\n",
       "  .colab-df-quickchart:hover {\n",
       "    background-color: var(--hover-bg-color);\n",
       "    box-shadow: 0 1px 2px rgba(60, 64, 67, 0.3), 0 1px 3px 1px rgba(60, 64, 67, 0.15);\n",
       "    fill: var(--button-hover-fill-color);\n",
       "  }\n",
       "\n",
       "  .colab-df-quickchart-complete:disabled,\n",
       "  .colab-df-quickchart-complete:disabled:hover {\n",
       "    background-color: var(--disabled-bg-color);\n",
       "    fill: var(--disabled-fill-color);\n",
       "    box-shadow: none;\n",
       "  }\n",
       "\n",
       "  .colab-df-spinner {\n",
       "    border: 2px solid var(--fill-color);\n",
       "    border-color: transparent;\n",
       "    border-bottom-color: var(--fill-color);\n",
       "    animation:\n",
       "      spin 1s steps(1) infinite;\n",
       "  }\n",
       "\n",
       "  @keyframes spin {\n",
       "    0% {\n",
       "      border-color: transparent;\n",
       "      border-bottom-color: var(--fill-color);\n",
       "      border-left-color: var(--fill-color);\n",
       "    }\n",
       "    20% {\n",
       "      border-color: transparent;\n",
       "      border-left-color: var(--fill-color);\n",
       "      border-top-color: var(--fill-color);\n",
       "    }\n",
       "    30% {\n",
       "      border-color: transparent;\n",
       "      border-left-color: var(--fill-color);\n",
       "      border-top-color: var(--fill-color);\n",
       "      border-right-color: var(--fill-color);\n",
       "    }\n",
       "    40% {\n",
       "      border-color: transparent;\n",
       "      border-right-color: var(--fill-color);\n",
       "      border-top-color: var(--fill-color);\n",
       "    }\n",
       "    60% {\n",
       "      border-color: transparent;\n",
       "      border-right-color: var(--fill-color);\n",
       "    }\n",
       "    80% {\n",
       "      border-color: transparent;\n",
       "      border-right-color: var(--fill-color);\n",
       "      border-bottom-color: var(--fill-color);\n",
       "    }\n",
       "    90% {\n",
       "      border-color: transparent;\n",
       "      border-bottom-color: var(--fill-color);\n",
       "    }\n",
       "  }\n",
       "</style>\n",
       "\n",
       "  <script>\n",
       "    async function quickchart(key) {\n",
       "      const quickchartButtonEl =\n",
       "        document.querySelector('#' + key + ' button');\n",
       "      quickchartButtonEl.disabled = true;  // To prevent multiple clicks.\n",
       "      quickchartButtonEl.classList.add('colab-df-spinner');\n",
       "      try {\n",
       "        const charts = await google.colab.kernel.invokeFunction(\n",
       "            'suggestCharts', [key], {});\n",
       "      } catch (error) {\n",
       "        console.error('Error during call to suggestCharts:', error);\n",
       "      }\n",
       "      quickchartButtonEl.classList.remove('colab-df-spinner');\n",
       "      quickchartButtonEl.classList.add('colab-df-quickchart-complete');\n",
       "    }\n",
       "    (() => {\n",
       "      let quickchartButtonEl =\n",
       "        document.querySelector('#df-a4de71a9-7f50-4d24-84f3-69eb45a478cc button');\n",
       "      quickchartButtonEl.style.display =\n",
       "        google.colab.kernel.accessAllowed ? 'block' : 'none';\n",
       "    })();\n",
       "  </script>\n",
       "</div>\n",
       "    </div>\n",
       "  </div>\n"
      ],
      "text/plain": [
       "           user_id      car_id ride_id   ride_date  rating  ride_duration  \\\n",
       "173408  N28409857V  M10208049m     L1c  2020-02-25    6.77             73   \n",
       "654967  o10630947W  u-2045579o     l1O  2020-01-17    3.38             12   \n",
       "385755  r80226248T  b-4023465w     O1o  2020-03-31    5.28             13   \n",
       "313983  n15468226e  W-2145474K     L1k  2020-02-16    2.31             54   \n",
       "680694  z12615767B  v77404713z     v1r  2020-01-04    4.93             15   \n",
       "\n",
       "        ride_cost  speed_avg  speed_max  stop_times     distance  refueling  \\\n",
       "173408        944         46  61.000000           0  1783.562120          0   \n",
       "654967        128         47  52.000000           0   605.872071          0   \n",
       "385755        202         31  51.000000           2   340.141043          0   \n",
       "313983        479         36  87.258478           2  1130.174865          0   \n",
       "680694        128         69  98.835560           0  1075.032710          0   \n",
       "\n",
       "        user_ride_quality  deviation_normal  \n",
       "173408          18.283603            13.261  \n",
       "654967           2.683461           -28.664  \n",
       "385755          22.592657            -5.001  \n",
       "313983         -17.969260            -0.000  \n",
       "680694          -3.987191             0.000  "
      ]
     },
     "execution_count": 4,
     "metadata": {},
     "output_type": "execute_result"
    }
   ],
   "source": [
    "rides_info = pd.read_csv('https://raw.githubusercontent.com/a-milenkin/Competitive_Data_Science/main/data/rides_info.csv')\n",
    "rides_info.sample(5)"
   ]
  },
  {
   "cell_type": "markdown",
   "metadata": {
    "id": "ZAn8S24sbuhv"
   },
   "source": [
    "- `user_id` / `car_id` / `ride_id` — идентификаторы водителя, машины, поездки соответственно\n",
    "- `ride_date` / `rating` — дата поездки и рейтинг, поставленный водителем\n",
    "- `ride_duration` / `distance` / `ride_cost` —  длительность (время),  пройденное расстояние, стоимость поездки\n",
    "- `speed_avg` / `speed_max` — средняя и максимальная скорости поездки соответственно\n",
    "- `stop_times` / `refueling` — количество остановок (паузы) и флаг: была ли дозаправка\n",
    "- `user_ride_quality` — оценка манеры вождения водителя машины, определенная скоринговой ML-системой сервиса\n",
    "- `deviation_normal` — общий показатель датчиков о состоянии машины, относительно эталонных показателей (нормы)"
   ]
  },
  {
   "cell_type": "markdown",
   "metadata": {
    "id": "O0Onuz4ybuhv"
   },
   "source": [
    "### Информация про водителей"
   ]
  },
  {
   "cell_type": "code",
   "execution_count": 5,
   "metadata": {
    "colab": {
     "base_uri": "https://localhost:8080/",
     "height": 206
    },
    "id": "WBEvQXhxbuhv",
    "outputId": "30f58d49-8495-448b-d20d-07266fe5d3ad",
    "tags": []
   },
   "outputs": [
    {
     "data": {
      "application/vnd.google.colaboratory.intrinsic+json": {
       "repr_error": "0",
       "type": "dataframe"
      },
      "text/html": [
       "\n",
       "  <div id=\"df-eddbee78-8170-4a95-ba16-11ebf6cbfed4\" class=\"colab-df-container\">\n",
       "    <div>\n",
       "<style scoped>\n",
       "    .dataframe tbody tr th:only-of-type {\n",
       "        vertical-align: middle;\n",
       "    }\n",
       "\n",
       "    .dataframe tbody tr th {\n",
       "        vertical-align: top;\n",
       "    }\n",
       "\n",
       "    .dataframe thead th {\n",
       "        text-align: right;\n",
       "    }\n",
       "</style>\n",
       "<table border=\"1\" class=\"dataframe\">\n",
       "  <thead>\n",
       "    <tr style=\"text-align: right;\">\n",
       "      <th></th>\n",
       "      <th>age</th>\n",
       "      <th>user_rating</th>\n",
       "      <th>user_rides</th>\n",
       "      <th>user_time_accident</th>\n",
       "      <th>user_id</th>\n",
       "      <th>sex</th>\n",
       "      <th>first_ride_date</th>\n",
       "    </tr>\n",
       "  </thead>\n",
       "  <tbody>\n",
       "    <tr>\n",
       "      <th>622</th>\n",
       "      <td>38</td>\n",
       "      <td>7.3</td>\n",
       "      <td>664</td>\n",
       "      <td>0.0</td>\n",
       "      <td>g12880392X</td>\n",
       "      <td>0</td>\n",
       "      <td>2019-5-22</td>\n",
       "    </tr>\n",
       "    <tr>\n",
       "      <th>2818</th>\n",
       "      <td>28</td>\n",
       "      <td>8.1</td>\n",
       "      <td>1668</td>\n",
       "      <td>9.0</td>\n",
       "      <td>x21824746x</td>\n",
       "      <td>1</td>\n",
       "      <td>2018-6-6</td>\n",
       "    </tr>\n",
       "    <tr>\n",
       "      <th>8325</th>\n",
       "      <td>30</td>\n",
       "      <td>8.2</td>\n",
       "      <td>459</td>\n",
       "      <td>15.0</td>\n",
       "      <td>I14721582x</td>\n",
       "      <td>1</td>\n",
       "      <td>2019-7-16</td>\n",
       "    </tr>\n",
       "    <tr>\n",
       "      <th>3210</th>\n",
       "      <td>47</td>\n",
       "      <td>8.1</td>\n",
       "      <td>1749</td>\n",
       "      <td>9.0</td>\n",
       "      <td>z10764411r</td>\n",
       "      <td>0</td>\n",
       "      <td>2021-8-14</td>\n",
       "    </tr>\n",
       "    <tr>\n",
       "      <th>3879</th>\n",
       "      <td>25</td>\n",
       "      <td>8.4</td>\n",
       "      <td>881</td>\n",
       "      <td>5.0</td>\n",
       "      <td>P34855850Q</td>\n",
       "      <td>1</td>\n",
       "      <td>2020-10-3</td>\n",
       "    </tr>\n",
       "  </tbody>\n",
       "</table>\n",
       "</div>\n",
       "    <div class=\"colab-df-buttons\">\n",
       "\n",
       "  <div class=\"colab-df-container\">\n",
       "    <button class=\"colab-df-convert\" onclick=\"convertToInteractive('df-eddbee78-8170-4a95-ba16-11ebf6cbfed4')\"\n",
       "            title=\"Convert this dataframe to an interactive table.\"\n",
       "            style=\"display:none;\">\n",
       "\n",
       "  <svg xmlns=\"http://www.w3.org/2000/svg\" height=\"24px\" viewBox=\"0 -960 960 960\">\n",
       "    <path d=\"M120-120v-720h720v720H120Zm60-500h600v-160H180v160Zm220 220h160v-160H400v160Zm0 220h160v-160H400v160ZM180-400h160v-160H180v160Zm440 0h160v-160H620v160ZM180-180h160v-160H180v160Zm440 0h160v-160H620v160Z\"/>\n",
       "  </svg>\n",
       "    </button>\n",
       "\n",
       "  <style>\n",
       "    .colab-df-container {\n",
       "      display:flex;\n",
       "      gap: 12px;\n",
       "    }\n",
       "\n",
       "    .colab-df-convert {\n",
       "      background-color: #E8F0FE;\n",
       "      border: none;\n",
       "      border-radius: 50%;\n",
       "      cursor: pointer;\n",
       "      display: none;\n",
       "      fill: #1967D2;\n",
       "      height: 32px;\n",
       "      padding: 0 0 0 0;\n",
       "      width: 32px;\n",
       "    }\n",
       "\n",
       "    .colab-df-convert:hover {\n",
       "      background-color: #E2EBFA;\n",
       "      box-shadow: 0px 1px 2px rgba(60, 64, 67, 0.3), 0px 1px 3px 1px rgba(60, 64, 67, 0.15);\n",
       "      fill: #174EA6;\n",
       "    }\n",
       "\n",
       "    .colab-df-buttons div {\n",
       "      margin-bottom: 4px;\n",
       "    }\n",
       "\n",
       "    [theme=dark] .colab-df-convert {\n",
       "      background-color: #3B4455;\n",
       "      fill: #D2E3FC;\n",
       "    }\n",
       "\n",
       "    [theme=dark] .colab-df-convert:hover {\n",
       "      background-color: #434B5C;\n",
       "      box-shadow: 0px 1px 3px 1px rgba(0, 0, 0, 0.15);\n",
       "      filter: drop-shadow(0px 1px 2px rgba(0, 0, 0, 0.3));\n",
       "      fill: #FFFFFF;\n",
       "    }\n",
       "  </style>\n",
       "\n",
       "    <script>\n",
       "      const buttonEl =\n",
       "        document.querySelector('#df-eddbee78-8170-4a95-ba16-11ebf6cbfed4 button.colab-df-convert');\n",
       "      buttonEl.style.display =\n",
       "        google.colab.kernel.accessAllowed ? 'block' : 'none';\n",
       "\n",
       "      async function convertToInteractive(key) {\n",
       "        const element = document.querySelector('#df-eddbee78-8170-4a95-ba16-11ebf6cbfed4');\n",
       "        const dataTable =\n",
       "          await google.colab.kernel.invokeFunction('convertToInteractive',\n",
       "                                                    [key], {});\n",
       "        if (!dataTable) return;\n",
       "\n",
       "        const docLinkHtml = 'Like what you see? Visit the ' +\n",
       "          '<a target=\"_blank\" href=https://colab.research.google.com/notebooks/data_table.ipynb>data table notebook</a>'\n",
       "          + ' to learn more about interactive tables.';\n",
       "        element.innerHTML = '';\n",
       "        dataTable['output_type'] = 'display_data';\n",
       "        await google.colab.output.renderOutput(dataTable, element);\n",
       "        const docLink = document.createElement('div');\n",
       "        docLink.innerHTML = docLinkHtml;\n",
       "        element.appendChild(docLink);\n",
       "      }\n",
       "    </script>\n",
       "  </div>\n",
       "\n",
       "\n",
       "<div id=\"df-f07687fc-007c-46c5-9df7-00929aa1c699\">\n",
       "  <button class=\"colab-df-quickchart\" onclick=\"quickchart('df-f07687fc-007c-46c5-9df7-00929aa1c699')\"\n",
       "            title=\"Suggest charts\"\n",
       "            style=\"display:none;\">\n",
       "\n",
       "<svg xmlns=\"http://www.w3.org/2000/svg\" height=\"24px\"viewBox=\"0 0 24 24\"\n",
       "     width=\"24px\">\n",
       "    <g>\n",
       "        <path d=\"M19 3H5c-1.1 0-2 .9-2 2v14c0 1.1.9 2 2 2h14c1.1 0 2-.9 2-2V5c0-1.1-.9-2-2-2zM9 17H7v-7h2v7zm4 0h-2V7h2v10zm4 0h-2v-4h2v4z\"/>\n",
       "    </g>\n",
       "</svg>\n",
       "  </button>\n",
       "\n",
       "<style>\n",
       "  .colab-df-quickchart {\n",
       "      --bg-color: #E8F0FE;\n",
       "      --fill-color: #1967D2;\n",
       "      --hover-bg-color: #E2EBFA;\n",
       "      --hover-fill-color: #174EA6;\n",
       "      --disabled-fill-color: #AAA;\n",
       "      --disabled-bg-color: #DDD;\n",
       "  }\n",
       "\n",
       "  [theme=dark] .colab-df-quickchart {\n",
       "      --bg-color: #3B4455;\n",
       "      --fill-color: #D2E3FC;\n",
       "      --hover-bg-color: #434B5C;\n",
       "      --hover-fill-color: #FFFFFF;\n",
       "      --disabled-bg-color: #3B4455;\n",
       "      --disabled-fill-color: #666;\n",
       "  }\n",
       "\n",
       "  .colab-df-quickchart {\n",
       "    background-color: var(--bg-color);\n",
       "    border: none;\n",
       "    border-radius: 50%;\n",
       "    cursor: pointer;\n",
       "    display: none;\n",
       "    fill: var(--fill-color);\n",
       "    height: 32px;\n",
       "    padding: 0;\n",
       "    width: 32px;\n",
       "  }\n",
       "\n",
       "  .colab-df-quickchart:hover {\n",
       "    background-color: var(--hover-bg-color);\n",
       "    box-shadow: 0 1px 2px rgba(60, 64, 67, 0.3), 0 1px 3px 1px rgba(60, 64, 67, 0.15);\n",
       "    fill: var(--button-hover-fill-color);\n",
       "  }\n",
       "\n",
       "  .colab-df-quickchart-complete:disabled,\n",
       "  .colab-df-quickchart-complete:disabled:hover {\n",
       "    background-color: var(--disabled-bg-color);\n",
       "    fill: var(--disabled-fill-color);\n",
       "    box-shadow: none;\n",
       "  }\n",
       "\n",
       "  .colab-df-spinner {\n",
       "    border: 2px solid var(--fill-color);\n",
       "    border-color: transparent;\n",
       "    border-bottom-color: var(--fill-color);\n",
       "    animation:\n",
       "      spin 1s steps(1) infinite;\n",
       "  }\n",
       "\n",
       "  @keyframes spin {\n",
       "    0% {\n",
       "      border-color: transparent;\n",
       "      border-bottom-color: var(--fill-color);\n",
       "      border-left-color: var(--fill-color);\n",
       "    }\n",
       "    20% {\n",
       "      border-color: transparent;\n",
       "      border-left-color: var(--fill-color);\n",
       "      border-top-color: var(--fill-color);\n",
       "    }\n",
       "    30% {\n",
       "      border-color: transparent;\n",
       "      border-left-color: var(--fill-color);\n",
       "      border-top-color: var(--fill-color);\n",
       "      border-right-color: var(--fill-color);\n",
       "    }\n",
       "    40% {\n",
       "      border-color: transparent;\n",
       "      border-right-color: var(--fill-color);\n",
       "      border-top-color: var(--fill-color);\n",
       "    }\n",
       "    60% {\n",
       "      border-color: transparent;\n",
       "      border-right-color: var(--fill-color);\n",
       "    }\n",
       "    80% {\n",
       "      border-color: transparent;\n",
       "      border-right-color: var(--fill-color);\n",
       "      border-bottom-color: var(--fill-color);\n",
       "    }\n",
       "    90% {\n",
       "      border-color: transparent;\n",
       "      border-bottom-color: var(--fill-color);\n",
       "    }\n",
       "  }\n",
       "</style>\n",
       "\n",
       "  <script>\n",
       "    async function quickchart(key) {\n",
       "      const quickchartButtonEl =\n",
       "        document.querySelector('#' + key + ' button');\n",
       "      quickchartButtonEl.disabled = true;  // To prevent multiple clicks.\n",
       "      quickchartButtonEl.classList.add('colab-df-spinner');\n",
       "      try {\n",
       "        const charts = await google.colab.kernel.invokeFunction(\n",
       "            'suggestCharts', [key], {});\n",
       "      } catch (error) {\n",
       "        console.error('Error during call to suggestCharts:', error);\n",
       "      }\n",
       "      quickchartButtonEl.classList.remove('colab-df-spinner');\n",
       "      quickchartButtonEl.classList.add('colab-df-quickchart-complete');\n",
       "    }\n",
       "    (() => {\n",
       "      let quickchartButtonEl =\n",
       "        document.querySelector('#df-f07687fc-007c-46c5-9df7-00929aa1c699 button');\n",
       "      quickchartButtonEl.style.display =\n",
       "        google.colab.kernel.accessAllowed ? 'block' : 'none';\n",
       "    })();\n",
       "  </script>\n",
       "</div>\n",
       "    </div>\n",
       "  </div>\n"
      ],
      "text/plain": [
       "      age  user_rating  user_rides  user_time_accident     user_id  sex  \\\n",
       "622    38          7.3         664                 0.0  g12880392X    0   \n",
       "2818   28          8.1        1668                 9.0  x21824746x    1   \n",
       "8325   30          8.2         459                15.0  I14721582x    1   \n",
       "3210   47          8.1        1749                 9.0  z10764411r    0   \n",
       "3879   25          8.4         881                 5.0  P34855850Q    1   \n",
       "\n",
       "     first_ride_date  \n",
       "622        2019-5-22  \n",
       "2818        2018-6-6  \n",
       "8325       2019-7-16  \n",
       "3210       2021-8-14  \n",
       "3879       2020-10-3  "
      ]
     },
     "execution_count": 5,
     "metadata": {},
     "output_type": "execute_result"
    }
   ],
   "source": [
    "driver_info = pd.read_csv('https://raw.githubusercontent.com/a-milenkin/Competitive_Data_Science/main/data/driver_info.csv')\n",
    "driver_info.sample(5)"
   ]
  },
  {
   "cell_type": "markdown",
   "metadata": {
    "id": "ubFE8w-Kbuhv"
   },
   "source": [
    "- `user_id` / `age` / `sex` — идентификатор, возраст и пол водителя, соответственно\n",
    "- `user_rating` — общий рейтинг пользователя за все поездки к концу 2021 года\n",
    "- `user_rides` — общее количество поездок к концу 2021 года\n",
    "- `user_time_accident` — число инцидентов (это могли быть аварии/штрафы/эвакуация машины)  \n",
    "- `first_ride_date` — дата первой поездки"
   ]
  },
  {
   "cell_type": "markdown",
   "metadata": {
    "id": "cXDdvlHYbuhv"
   },
   "source": [
    "### Информация про ремонт машин"
   ]
  },
  {
   "cell_type": "code",
   "execution_count": 6,
   "metadata": {
    "colab": {
     "base_uri": "https://localhost:8080/",
     "height": 206
    },
    "id": "eVTjvBspbuhv",
    "outputId": "7f9970ee-d566-4d5a-bdaf-90259339fcf9",
    "tags": []
   },
   "outputs": [
    {
     "data": {
      "application/vnd.google.colaboratory.intrinsic+json": {
       "repr_error": "0",
       "type": "dataframe"
      },
      "text/html": [
       "\n",
       "  <div id=\"df-5d11f5b2-4cb2-4f73-bbb7-5b1cc7fb390d\" class=\"colab-df-container\">\n",
       "    <div>\n",
       "<style scoped>\n",
       "    .dataframe tbody tr th:only-of-type {\n",
       "        vertical-align: middle;\n",
       "    }\n",
       "\n",
       "    .dataframe tbody tr th {\n",
       "        vertical-align: top;\n",
       "    }\n",
       "\n",
       "    .dataframe thead th {\n",
       "        text-align: right;\n",
       "    }\n",
       "</style>\n",
       "<table border=\"1\" class=\"dataframe\">\n",
       "  <thead>\n",
       "    <tr style=\"text-align: right;\">\n",
       "      <th></th>\n",
       "      <th>car_id</th>\n",
       "      <th>worker_id</th>\n",
       "      <th>fix_date</th>\n",
       "      <th>work_type</th>\n",
       "      <th>destroy_degree</th>\n",
       "      <th>work_duration</th>\n",
       "    </tr>\n",
       "  </thead>\n",
       "  <tbody>\n",
       "    <tr>\n",
       "      <th>57248</th>\n",
       "      <td>e46251116n</td>\n",
       "      <td>JL</td>\n",
       "      <td>2018-3-28 22:18</td>\n",
       "      <td>repair</td>\n",
       "      <td>5.4</td>\n",
       "      <td>17</td>\n",
       "    </tr>\n",
       "    <tr>\n",
       "      <th>42808</th>\n",
       "      <td>P10499796W</td>\n",
       "      <td>BR</td>\n",
       "      <td>2020-10-9 12:38</td>\n",
       "      <td>reparking</td>\n",
       "      <td>1.0</td>\n",
       "      <td>29</td>\n",
       "    </tr>\n",
       "    <tr>\n",
       "      <th>144861</th>\n",
       "      <td>E16896376o</td>\n",
       "      <td>NO</td>\n",
       "      <td>2020-8-12 12:7</td>\n",
       "      <td>repair</td>\n",
       "      <td>4.8</td>\n",
       "      <td>4</td>\n",
       "    </tr>\n",
       "    <tr>\n",
       "      <th>34791</th>\n",
       "      <td>p33048720U</td>\n",
       "      <td>GV</td>\n",
       "      <td>2019-11-8 5:44</td>\n",
       "      <td>repair</td>\n",
       "      <td>5.3</td>\n",
       "      <td>21</td>\n",
       "    </tr>\n",
       "    <tr>\n",
       "      <th>113454</th>\n",
       "      <td>d-1898242x</td>\n",
       "      <td>VB</td>\n",
       "      <td>2019-3-13 4:31</td>\n",
       "      <td>refuel_check</td>\n",
       "      <td>1.0</td>\n",
       "      <td>23</td>\n",
       "    </tr>\n",
       "  </tbody>\n",
       "</table>\n",
       "</div>\n",
       "    <div class=\"colab-df-buttons\">\n",
       "\n",
       "  <div class=\"colab-df-container\">\n",
       "    <button class=\"colab-df-convert\" onclick=\"convertToInteractive('df-5d11f5b2-4cb2-4f73-bbb7-5b1cc7fb390d')\"\n",
       "            title=\"Convert this dataframe to an interactive table.\"\n",
       "            style=\"display:none;\">\n",
       "\n",
       "  <svg xmlns=\"http://www.w3.org/2000/svg\" height=\"24px\" viewBox=\"0 -960 960 960\">\n",
       "    <path d=\"M120-120v-720h720v720H120Zm60-500h600v-160H180v160Zm220 220h160v-160H400v160Zm0 220h160v-160H400v160ZM180-400h160v-160H180v160Zm440 0h160v-160H620v160ZM180-180h160v-160H180v160Zm440 0h160v-160H620v160Z\"/>\n",
       "  </svg>\n",
       "    </button>\n",
       "\n",
       "  <style>\n",
       "    .colab-df-container {\n",
       "      display:flex;\n",
       "      gap: 12px;\n",
       "    }\n",
       "\n",
       "    .colab-df-convert {\n",
       "      background-color: #E8F0FE;\n",
       "      border: none;\n",
       "      border-radius: 50%;\n",
       "      cursor: pointer;\n",
       "      display: none;\n",
       "      fill: #1967D2;\n",
       "      height: 32px;\n",
       "      padding: 0 0 0 0;\n",
       "      width: 32px;\n",
       "    }\n",
       "\n",
       "    .colab-df-convert:hover {\n",
       "      background-color: #E2EBFA;\n",
       "      box-shadow: 0px 1px 2px rgba(60, 64, 67, 0.3), 0px 1px 3px 1px rgba(60, 64, 67, 0.15);\n",
       "      fill: #174EA6;\n",
       "    }\n",
       "\n",
       "    .colab-df-buttons div {\n",
       "      margin-bottom: 4px;\n",
       "    }\n",
       "\n",
       "    [theme=dark] .colab-df-convert {\n",
       "      background-color: #3B4455;\n",
       "      fill: #D2E3FC;\n",
       "    }\n",
       "\n",
       "    [theme=dark] .colab-df-convert:hover {\n",
       "      background-color: #434B5C;\n",
       "      box-shadow: 0px 1px 3px 1px rgba(0, 0, 0, 0.15);\n",
       "      filter: drop-shadow(0px 1px 2px rgba(0, 0, 0, 0.3));\n",
       "      fill: #FFFFFF;\n",
       "    }\n",
       "  </style>\n",
       "\n",
       "    <script>\n",
       "      const buttonEl =\n",
       "        document.querySelector('#df-5d11f5b2-4cb2-4f73-bbb7-5b1cc7fb390d button.colab-df-convert');\n",
       "      buttonEl.style.display =\n",
       "        google.colab.kernel.accessAllowed ? 'block' : 'none';\n",
       "\n",
       "      async function convertToInteractive(key) {\n",
       "        const element = document.querySelector('#df-5d11f5b2-4cb2-4f73-bbb7-5b1cc7fb390d');\n",
       "        const dataTable =\n",
       "          await google.colab.kernel.invokeFunction('convertToInteractive',\n",
       "                                                    [key], {});\n",
       "        if (!dataTable) return;\n",
       "\n",
       "        const docLinkHtml = 'Like what you see? Visit the ' +\n",
       "          '<a target=\"_blank\" href=https://colab.research.google.com/notebooks/data_table.ipynb>data table notebook</a>'\n",
       "          + ' to learn more about interactive tables.';\n",
       "        element.innerHTML = '';\n",
       "        dataTable['output_type'] = 'display_data';\n",
       "        await google.colab.output.renderOutput(dataTable, element);\n",
       "        const docLink = document.createElement('div');\n",
       "        docLink.innerHTML = docLinkHtml;\n",
       "        element.appendChild(docLink);\n",
       "      }\n",
       "    </script>\n",
       "  </div>\n",
       "\n",
       "\n",
       "<div id=\"df-7ca9bfd2-8c04-4013-9439-7033ca831e4b\">\n",
       "  <button class=\"colab-df-quickchart\" onclick=\"quickchart('df-7ca9bfd2-8c04-4013-9439-7033ca831e4b')\"\n",
       "            title=\"Suggest charts\"\n",
       "            style=\"display:none;\">\n",
       "\n",
       "<svg xmlns=\"http://www.w3.org/2000/svg\" height=\"24px\"viewBox=\"0 0 24 24\"\n",
       "     width=\"24px\">\n",
       "    <g>\n",
       "        <path d=\"M19 3H5c-1.1 0-2 .9-2 2v14c0 1.1.9 2 2 2h14c1.1 0 2-.9 2-2V5c0-1.1-.9-2-2-2zM9 17H7v-7h2v7zm4 0h-2V7h2v10zm4 0h-2v-4h2v4z\"/>\n",
       "    </g>\n",
       "</svg>\n",
       "  </button>\n",
       "\n",
       "<style>\n",
       "  .colab-df-quickchart {\n",
       "      --bg-color: #E8F0FE;\n",
       "      --fill-color: #1967D2;\n",
       "      --hover-bg-color: #E2EBFA;\n",
       "      --hover-fill-color: #174EA6;\n",
       "      --disabled-fill-color: #AAA;\n",
       "      --disabled-bg-color: #DDD;\n",
       "  }\n",
       "\n",
       "  [theme=dark] .colab-df-quickchart {\n",
       "      --bg-color: #3B4455;\n",
       "      --fill-color: #D2E3FC;\n",
       "      --hover-bg-color: #434B5C;\n",
       "      --hover-fill-color: #FFFFFF;\n",
       "      --disabled-bg-color: #3B4455;\n",
       "      --disabled-fill-color: #666;\n",
       "  }\n",
       "\n",
       "  .colab-df-quickchart {\n",
       "    background-color: var(--bg-color);\n",
       "    border: none;\n",
       "    border-radius: 50%;\n",
       "    cursor: pointer;\n",
       "    display: none;\n",
       "    fill: var(--fill-color);\n",
       "    height: 32px;\n",
       "    padding: 0;\n",
       "    width: 32px;\n",
       "  }\n",
       "\n",
       "  .colab-df-quickchart:hover {\n",
       "    background-color: var(--hover-bg-color);\n",
       "    box-shadow: 0 1px 2px rgba(60, 64, 67, 0.3), 0 1px 3px 1px rgba(60, 64, 67, 0.15);\n",
       "    fill: var(--button-hover-fill-color);\n",
       "  }\n",
       "\n",
       "  .colab-df-quickchart-complete:disabled,\n",
       "  .colab-df-quickchart-complete:disabled:hover {\n",
       "    background-color: var(--disabled-bg-color);\n",
       "    fill: var(--disabled-fill-color);\n",
       "    box-shadow: none;\n",
       "  }\n",
       "\n",
       "  .colab-df-spinner {\n",
       "    border: 2px solid var(--fill-color);\n",
       "    border-color: transparent;\n",
       "    border-bottom-color: var(--fill-color);\n",
       "    animation:\n",
       "      spin 1s steps(1) infinite;\n",
       "  }\n",
       "\n",
       "  @keyframes spin {\n",
       "    0% {\n",
       "      border-color: transparent;\n",
       "      border-bottom-color: var(--fill-color);\n",
       "      border-left-color: var(--fill-color);\n",
       "    }\n",
       "    20% {\n",
       "      border-color: transparent;\n",
       "      border-left-color: var(--fill-color);\n",
       "      border-top-color: var(--fill-color);\n",
       "    }\n",
       "    30% {\n",
       "      border-color: transparent;\n",
       "      border-left-color: var(--fill-color);\n",
       "      border-top-color: var(--fill-color);\n",
       "      border-right-color: var(--fill-color);\n",
       "    }\n",
       "    40% {\n",
       "      border-color: transparent;\n",
       "      border-right-color: var(--fill-color);\n",
       "      border-top-color: var(--fill-color);\n",
       "    }\n",
       "    60% {\n",
       "      border-color: transparent;\n",
       "      border-right-color: var(--fill-color);\n",
       "    }\n",
       "    80% {\n",
       "      border-color: transparent;\n",
       "      border-right-color: var(--fill-color);\n",
       "      border-bottom-color: var(--fill-color);\n",
       "    }\n",
       "    90% {\n",
       "      border-color: transparent;\n",
       "      border-bottom-color: var(--fill-color);\n",
       "    }\n",
       "  }\n",
       "</style>\n",
       "\n",
       "  <script>\n",
       "    async function quickchart(key) {\n",
       "      const quickchartButtonEl =\n",
       "        document.querySelector('#' + key + ' button');\n",
       "      quickchartButtonEl.disabled = true;  // To prevent multiple clicks.\n",
       "      quickchartButtonEl.classList.add('colab-df-spinner');\n",
       "      try {\n",
       "        const charts = await google.colab.kernel.invokeFunction(\n",
       "            'suggestCharts', [key], {});\n",
       "      } catch (error) {\n",
       "        console.error('Error during call to suggestCharts:', error);\n",
       "      }\n",
       "      quickchartButtonEl.classList.remove('colab-df-spinner');\n",
       "      quickchartButtonEl.classList.add('colab-df-quickchart-complete');\n",
       "    }\n",
       "    (() => {\n",
       "      let quickchartButtonEl =\n",
       "        document.querySelector('#df-7ca9bfd2-8c04-4013-9439-7033ca831e4b button');\n",
       "      quickchartButtonEl.style.display =\n",
       "        google.colab.kernel.accessAllowed ? 'block' : 'none';\n",
       "    })();\n",
       "  </script>\n",
       "</div>\n",
       "    </div>\n",
       "  </div>\n"
      ],
      "text/plain": [
       "            car_id worker_id         fix_date     work_type  destroy_degree  \\\n",
       "57248   e46251116n        JL  2018-3-28 22:18        repair             5.4   \n",
       "42808   P10499796W        BR  2020-10-9 12:38     reparking             1.0   \n",
       "144861  E16896376o        NO   2020-8-12 12:7        repair             4.8   \n",
       "34791   p33048720U        GV   2019-11-8 5:44        repair             5.3   \n",
       "113454  d-1898242x        VB   2019-3-13 4:31  refuel_check             1.0   \n",
       "\n",
       "        work_duration  \n",
       "57248              17  \n",
       "42808              29  \n",
       "144861              4  \n",
       "34791              21  \n",
       "113454             23  "
      ]
     },
     "execution_count": 6,
     "metadata": {},
     "output_type": "execute_result"
    }
   ],
   "source": [
    "fix_info = pd.read_csv('https://raw.githubusercontent.com/a-milenkin/Competitive_Data_Science/main/data/fix_info.csv')\n",
    "fix_info.sample(5)"
   ]
  },
  {
   "cell_type": "markdown",
   "metadata": {
    "id": "H01U-FFAbuhv"
   },
   "source": [
    "- `worker_id` / `car_id` — идентификатор работника и машины\n",
    "- `work_type` / `work_duration` — тип и длительность (в часах) проводимой работы\n",
    "- `destroy_degree` — степень износа/поврежденности машины в случае поломки\n",
    "- `fix_date` — время начала ремонта (снятия машины с линии)"
   ]
  },
  {
   "cell_type": "markdown",
   "metadata": {
    "id": "qY-lAjlhbuhv"
   },
   "source": [
    "# Домашнее задание 1. Генерация и фильтрация признаков"
   ]
  },
  {
   "cell_type": "markdown",
   "metadata": {
    "id": "9E2N9m5Cbuhv"
   },
   "source": [
    "<center> <img src=\"https://ucarecdn.com/bf4c772d-b67a-42ae-a48b-cfd83910b0a2/\" width=700>"
   ]
  },
  {
   "cell_type": "markdown",
   "metadata": {
    "id": "HaroHWSBbuhw"
   },
   "source": [
    "<div class=\"alert alert-info\">\n",
    "\n",
    "**Цель блока** — сгенерировать признаки из дополнительных датасетов и добавить их к основному датасету, произвести фильтрацию признаков."
   ]
  },
  {
   "cell_type": "markdown",
   "metadata": {
    "id": "wev7E_qlbuhw"
   },
   "source": [
    "    \n",
    "## Задание 1. Генерация признаков из дополнительных датасетов (6 баллов)"
   ]
  },
  {
   "cell_type": "markdown",
   "metadata": {
    "id": "CSX4pA5Kbuhw"
   },
   "source": [
    "<div class=\"alert alert-info\">\n",
    "\n",
    "1. Возьмите датасет `rides_info` с информацией о поездках и проведите группировку по каждой машине отдельно.\n",
    "\n",
    "2. Для каждой машины (то есть для каждого `car_id`) подсчитайте несколько признаков:\n",
    "  - минимальный рейтинг за все поездки;\n",
    "  - средний рейтинг за все поездки;\n",
    "  - общее количество километров, которое машина проехала;\n",
    "  - максимальная скорость;\n",
    "  - общее количество поездок для каждой машины.\n",
    "\n",
    "3. Добавьте минимум 3 признака на свой выбор.\n",
    "\n",
    "4. Сделайте соединение таблиц — вспомните про методы соединения и выберите подходящий для этого случая.\n",
    "\n",
    "5. Подключите информацию про водителей (`driver_info`) и про ремонт машин (`fix_info`). Добавьте минимум 3 любых признака с каждого датасета.\n",
    "\n",
    "\n",
    "<h4> Критерии оценивания </h4>\n",
    "    \n",
    "- Добавлены 5 обязательных и минимум 3 любых признака из датасета `rides_info` — 2 балла.\n",
    "- Добавлены минимум 3 любых признака из датасета `driver_info` — 2 балла.\n",
    "- Добавлены минимум 3 любых признака из датасета `fix_info` — 2 балла.\n",
    "\n",
    "</div>"
   ]
  },
  {
   "cell_type": "markdown",
   "metadata": {
    "id": "kfAs9dZHbuhw"
   },
   "source": [
    "<div class=\"alert alert-success\">\n",
    "    \n",
    "<h4> Советы по Feature Engineering</h4>\n",
    "    \n",
    "- Начинайте с сырых данных.\n",
    "- Используйте все доступные данные. Покрывайте признаками всю имеющуюся информацию в данных.\n",
    "- Формулируйте предположения: от чего зависит таргет?\n",
    "- Смотрите визуально на классы/ошибки и делайте предположения. Какие полезны?\n",
    "- Помните, что слишком много признаков может быть вредно. Потом придется отфильтровывать.\n",
    "    \n",
    "<h4> Полезные источники </h4>\n",
    "    \n",
    "- Занятие про Feature Engineering.\n",
    "- Занятие про Feature Selection.\n",
    "- [Max Kuhn and Kjell Johnson. Feature Engineering and Selection: A Practical Approach for Predictive Models](http://www.feat.engineering/)."
   ]
  },
  {
   "cell_type": "markdown",
   "metadata": {
    "id": "P2-BQ9Sah44N"
   },
   "source": [
    "#Выполнение задания"
   ]
  },
  {
   "cell_type": "markdown",
   "metadata": {
    "id": "7rK0OtpykaUf"
   },
   "source": [
    "**1. Возьмите датасет rides_info с информацией о поездках и проведите группировку по каждой машине отдельно.**"
   ]
  },
  {
   "cell_type": "markdown",
   "metadata": {
    "id": "9uDi1Sf7DkWU"
   },
   "source": [
    "**2. Для каждой машины (то есть для каждого car_id) подсчитайте несколько признаков:**\n",
    "\n",
    "минимальный рейтинг за все поездки;\n",
    "средний рейтинг за все поездки;\n",
    "общее количество километров, которое машина проехала;\n",
    "максимальная скорость;\n",
    "общее количество поездок для каждой машины."
   ]
  },
  {
   "cell_type": "code",
   "execution_count": 7,
   "metadata": {
    "colab": {
     "base_uri": "https://localhost:8080/",
     "height": 81
    },
    "id": "6605bce5",
    "outputId": "19f4a025-9cbc-4dcb-ad4f-e285975457ff"
   },
   "outputs": [
    {
     "data": {
      "application/vnd.google.colaboratory.intrinsic+json": {
       "summary": "{\n  \"name\": \"grouped_rides\",\n  \"rows\": 4250,\n  \"fields\": [\n    {\n      \"column\": \"car_id\",\n      \"properties\": {\n        \"dtype\": \"string\",\n        \"num_unique_values\": 4250,\n        \"samples\": [\n          \"M22148410M\",\n          \"b-1050475p\",\n          \"R15749283D\"\n        ],\n        \"semantic_type\": \"\",\n        \"description\": \"\"\n      }\n    },\n    {\n      \"column\": \"min_rating\",\n      \"properties\": {\n        \"dtype\": \"number\",\n        \"std\": 0.16721240795251452,\n        \"min\": 0.0,\n        \"max\": 1.5,\n        \"num_unique_values\": 107,\n        \"samples\": [\n          0.73,\n          0.38,\n          0.34\n        ],\n        \"semantic_type\": \"\",\n        \"description\": \"\"\n      }\n    },\n    {\n      \"column\": \"avg_rating\",\n      \"properties\": {\n        \"dtype\": \"number\",\n        \"std\": 0.42196425473707544,\n        \"min\": 3.529885057471265,\n        \"max\": 5.768793103448275,\n        \"num_unique_values\": 3892,\n        \"samples\": [\n          3.98367816091954,\n          4.307241379310345,\n          3.931551724137931\n        ],\n        \"semantic_type\": \"\",\n        \"description\": \"\"\n      }\n    },\n    {\n      \"column\": \"total_distance\",\n      \"properties\": {\n        \"dtype\": \"number\",\n        \"std\": 4207363.123978569,\n        \"min\": 1478866.3194710591,\n        \"max\": 32563653.0931651,\n        \"num_unique_values\": 4250,\n        \"samples\": [\n          8774392.789613284,\n          8423997.057547713,\n          16368396.940277258\n        ],\n        \"semantic_type\": \"\",\n        \"description\": \"\"\n      }\n    },\n    {\n      \"column\": \"max_speed\",\n      \"properties\": {\n        \"dtype\": \"number\",\n        \"std\": 32.909557285136536,\n        \"min\": 91.17291258259658,\n        \"max\": 209.98283950882248,\n        \"num_unique_values\": 3495,\n        \"samples\": [\n          180.13207820463953,\n          118.2603093332132,\n          182.69967588622168\n        ],\n        \"semantic_type\": \"\",\n        \"description\": \"\"\n      }\n    },\n    {\n      \"column\": \"total_rides\",\n      \"properties\": {\n        \"dtype\": \"number\",\n        \"std\": 0,\n        \"min\": 174,\n        \"max\": 174,\n        \"num_unique_values\": 1,\n        \"samples\": [\n          174\n        ],\n        \"semantic_type\": \"\",\n        \"description\": \"\"\n      }\n    }\n  ]\n}",
       "type": "dataframe",
       "variable_name": "grouped_rides"
      },
      "text/html": [
       "\n",
       "  <div id=\"df-557d34c4-353b-4d42-9d56-e1bc0ca1587b\" class=\"colab-df-container\">\n",
       "    <div>\n",
       "<style scoped>\n",
       "    .dataframe tbody tr th:only-of-type {\n",
       "        vertical-align: middle;\n",
       "    }\n",
       "\n",
       "    .dataframe tbody tr th {\n",
       "        vertical-align: top;\n",
       "    }\n",
       "\n",
       "    .dataframe thead th {\n",
       "        text-align: right;\n",
       "    }\n",
       "</style>\n",
       "<table border=\"1\" class=\"dataframe\">\n",
       "  <thead>\n",
       "    <tr style=\"text-align: right;\">\n",
       "      <th></th>\n",
       "      <th>car_id</th>\n",
       "      <th>min_rating</th>\n",
       "      <th>avg_rating</th>\n",
       "      <th>total_distance</th>\n",
       "      <th>max_speed</th>\n",
       "      <th>total_rides</th>\n",
       "    </tr>\n",
       "  </thead>\n",
       "  <tbody>\n",
       "    <tr>\n",
       "      <th>0</th>\n",
       "      <td>A-1049127W</td>\n",
       "      <td>0.1</td>\n",
       "      <td>4.255172</td>\n",
       "      <td>1.125753e+07</td>\n",
       "      <td>179.729652</td>\n",
       "      <td>174</td>\n",
       "    </tr>\n",
       "  </tbody>\n",
       "</table>\n",
       "</div>\n",
       "    <div class=\"colab-df-buttons\">\n",
       "\n",
       "  <div class=\"colab-df-container\">\n",
       "    <button class=\"colab-df-convert\" onclick=\"convertToInteractive('df-557d34c4-353b-4d42-9d56-e1bc0ca1587b')\"\n",
       "            title=\"Convert this dataframe to an interactive table.\"\n",
       "            style=\"display:none;\">\n",
       "\n",
       "  <svg xmlns=\"http://www.w3.org/2000/svg\" height=\"24px\" viewBox=\"0 -960 960 960\">\n",
       "    <path d=\"M120-120v-720h720v720H120Zm60-500h600v-160H180v160Zm220 220h160v-160H400v160Zm0 220h160v-160H400v160ZM180-400h160v-160H180v160Zm440 0h160v-160H620v160ZM180-180h160v-160H180v160Zm440 0h160v-160H620v160Z\"/>\n",
       "  </svg>\n",
       "    </button>\n",
       "\n",
       "  <style>\n",
       "    .colab-df-container {\n",
       "      display:flex;\n",
       "      gap: 12px;\n",
       "    }\n",
       "\n",
       "    .colab-df-convert {\n",
       "      background-color: #E8F0FE;\n",
       "      border: none;\n",
       "      border-radius: 50%;\n",
       "      cursor: pointer;\n",
       "      display: none;\n",
       "      fill: #1967D2;\n",
       "      height: 32px;\n",
       "      padding: 0 0 0 0;\n",
       "      width: 32px;\n",
       "    }\n",
       "\n",
       "    .colab-df-convert:hover {\n",
       "      background-color: #E2EBFA;\n",
       "      box-shadow: 0px 1px 2px rgba(60, 64, 67, 0.3), 0px 1px 3px 1px rgba(60, 64, 67, 0.15);\n",
       "      fill: #174EA6;\n",
       "    }\n",
       "\n",
       "    .colab-df-buttons div {\n",
       "      margin-bottom: 4px;\n",
       "    }\n",
       "\n",
       "    [theme=dark] .colab-df-convert {\n",
       "      background-color: #3B4455;\n",
       "      fill: #D2E3FC;\n",
       "    }\n",
       "\n",
       "    [theme=dark] .colab-df-convert:hover {\n",
       "      background-color: #434B5C;\n",
       "      box-shadow: 0px 1px 3px 1px rgba(0, 0, 0, 0.15);\n",
       "      filter: drop-shadow(0px 1px 2px rgba(0, 0, 0, 0.3));\n",
       "      fill: #FFFFFF;\n",
       "    }\n",
       "  </style>\n",
       "\n",
       "    <script>\n",
       "      const buttonEl =\n",
       "        document.querySelector('#df-557d34c4-353b-4d42-9d56-e1bc0ca1587b button.colab-df-convert');\n",
       "      buttonEl.style.display =\n",
       "        google.colab.kernel.accessAllowed ? 'block' : 'none';\n",
       "\n",
       "      async function convertToInteractive(key) {\n",
       "        const element = document.querySelector('#df-557d34c4-353b-4d42-9d56-e1bc0ca1587b');\n",
       "        const dataTable =\n",
       "          await google.colab.kernel.invokeFunction('convertToInteractive',\n",
       "                                                    [key], {});\n",
       "        if (!dataTable) return;\n",
       "\n",
       "        const docLinkHtml = 'Like what you see? Visit the ' +\n",
       "          '<a target=\"_blank\" href=https://colab.research.google.com/notebooks/data_table.ipynb>data table notebook</a>'\n",
       "          + ' to learn more about interactive tables.';\n",
       "        element.innerHTML = '';\n",
       "        dataTable['output_type'] = 'display_data';\n",
       "        await google.colab.output.renderOutput(dataTable, element);\n",
       "        const docLink = document.createElement('div');\n",
       "        docLink.innerHTML = docLinkHtml;\n",
       "        element.appendChild(docLink);\n",
       "      }\n",
       "    </script>\n",
       "  </div>\n",
       "\n",
       "    </div>\n",
       "  </div>\n"
      ],
      "text/plain": [
       "       car_id  min_rating  avg_rating  total_distance   max_speed  total_rides\n",
       "0  A-1049127W         0.1    4.255172    1.125753e+07  179.729652          174"
      ]
     },
     "execution_count": 7,
     "metadata": {},
     "output_type": "execute_result"
    }
   ],
   "source": [
    "# 1-2. Группировка по каждой машине отдельно (car_id) и вывод обязательных признаков из задания\n",
    "grouped_rides = rides_info.groupby('car_id').agg(\n",
    "\n",
    "    min_rating=('rating', 'min'),\n",
    "    avg_rating=('rating', 'mean'),\n",
    "    total_distance=('distance', 'sum'),\n",
    "    max_speed=('speed_max', 'max'),\n",
    "    total_rides=('ride_id', 'count')\n",
    ").reset_index()\n",
    "\n",
    "grouped_rides.head(1)"
   ]
  },
  {
   "cell_type": "markdown",
   "metadata": {
    "id": "qf12daI5mT7b"
   },
   "source": [
    "**3. Добавьте минимум 3 признака на свой выбор.**"
   ]
  },
  {
   "cell_type": "code",
   "execution_count": 8,
   "metadata": {
    "colab": {
     "base_uri": "https://localhost:8080/",
     "height": 101
    },
    "id": "SrDPS34IyCeu",
    "outputId": "e8a5fe4f-7e5a-4b88-dd33-32131d59d699"
   },
   "outputs": [
    {
     "data": {
      "application/vnd.google.colaboratory.intrinsic+json": {
       "summary": "{\n  \"name\": \"enhanced_grouped_rides\",\n  \"rows\": 4250,\n  \"fields\": [\n    {\n      \"column\": \"car_id\",\n      \"properties\": {\n        \"dtype\": \"string\",\n        \"num_unique_values\": 4250,\n        \"samples\": [\n          \"M22148410M\",\n          \"b-1050475p\",\n          \"R15749283D\"\n        ],\n        \"semantic_type\": \"\",\n        \"description\": \"\"\n      }\n    },\n    {\n      \"column\": \"min_rating\",\n      \"properties\": {\n        \"dtype\": \"number\",\n        \"std\": 0.16721240795251452,\n        \"min\": 0.0,\n        \"max\": 1.5,\n        \"num_unique_values\": 107,\n        \"samples\": [\n          0.73,\n          0.38,\n          0.34\n        ],\n        \"semantic_type\": \"\",\n        \"description\": \"\"\n      }\n    },\n    {\n      \"column\": \"avg_rating\",\n      \"properties\": {\n        \"dtype\": \"number\",\n        \"std\": 0.42196425473707544,\n        \"min\": 3.529885057471265,\n        \"max\": 5.768793103448275,\n        \"num_unique_values\": 3892,\n        \"samples\": [\n          3.98367816091954,\n          4.307241379310345,\n          3.931551724137931\n        ],\n        \"semantic_type\": \"\",\n        \"description\": \"\"\n      }\n    },\n    {\n      \"column\": \"total_distance\",\n      \"properties\": {\n        \"dtype\": \"number\",\n        \"std\": 4207363.123978569,\n        \"min\": 1478866.3194710591,\n        \"max\": 32563653.0931651,\n        \"num_unique_values\": 4250,\n        \"samples\": [\n          8774392.789613284,\n          8423997.057547713,\n          16368396.940277258\n        ],\n        \"semantic_type\": \"\",\n        \"description\": \"\"\n      }\n    },\n    {\n      \"column\": \"max_speed\",\n      \"properties\": {\n        \"dtype\": \"number\",\n        \"std\": 32.909557285136536,\n        \"min\": 91.17291258259658,\n        \"max\": 209.98283950882248,\n        \"num_unique_values\": 3495,\n        \"samples\": [\n          180.13207820463953,\n          118.2603093332132,\n          182.69967588622168\n        ],\n        \"semantic_type\": \"\",\n        \"description\": \"\"\n      }\n    },\n    {\n      \"column\": \"total_rides\",\n      \"properties\": {\n        \"dtype\": \"number\",\n        \"std\": 0,\n        \"min\": 174,\n        \"max\": 174,\n        \"num_unique_values\": 1,\n        \"samples\": [\n          174\n        ],\n        \"semantic_type\": \"\",\n        \"description\": \"\"\n      }\n    },\n    {\n      \"column\": \"speed_variance\",\n      \"properties\": {\n        \"dtype\": \"number\",\n        \"std\": 55.12050541441452,\n        \"min\": 64.92166633446283,\n        \"max\": 300.7138396119858,\n        \"num_unique_values\": 4244,\n        \"samples\": [\n          94.41276327154337\n        ],\n        \"semantic_type\": \"\",\n        \"description\": \"\"\n      }\n    },\n    {\n      \"column\": \"high_speed_ride_ratio\",\n      \"properties\": {\n        \"dtype\": \"number\",\n        \"std\": 0.1482998260767008,\n        \"min\": 0.0,\n        \"max\": 0.5459770114942529,\n        \"num_unique_values\": 93,\n        \"samples\": [\n          0.22988505747126436\n        ],\n        \"semantic_type\": \"\",\n        \"description\": \"\"\n      }\n    },\n    {\n      \"column\": \"percentage_high_rated_rides\",\n      \"properties\": {\n        \"dtype\": \"number\",\n        \"std\": 8.938447764229817,\n        \"min\": 38.50574712643678,\n        \"max\": 85.63218390804597,\n        \"num_unique_values\": 81,\n        \"samples\": [\n          51.14942528735632\n        ],\n        \"semantic_type\": \"\",\n        \"description\": \"\"\n      }\n    }\n  ]\n}",
       "type": "dataframe",
       "variable_name": "enhanced_grouped_rides"
      },
      "text/html": [
       "\n",
       "  <div id=\"df-f434a9c2-f6eb-4153-b3e3-fc665af8bf47\" class=\"colab-df-container\">\n",
       "    <div>\n",
       "<style scoped>\n",
       "    .dataframe tbody tr th:only-of-type {\n",
       "        vertical-align: middle;\n",
       "    }\n",
       "\n",
       "    .dataframe tbody tr th {\n",
       "        vertical-align: top;\n",
       "    }\n",
       "\n",
       "    .dataframe thead th {\n",
       "        text-align: right;\n",
       "    }\n",
       "</style>\n",
       "<table border=\"1\" class=\"dataframe\">\n",
       "  <thead>\n",
       "    <tr style=\"text-align: right;\">\n",
       "      <th></th>\n",
       "      <th>car_id</th>\n",
       "      <th>min_rating</th>\n",
       "      <th>avg_rating</th>\n",
       "      <th>total_distance</th>\n",
       "      <th>max_speed</th>\n",
       "      <th>total_rides</th>\n",
       "      <th>speed_variance</th>\n",
       "      <th>high_speed_ride_ratio</th>\n",
       "      <th>percentage_high_rated_rides</th>\n",
       "    </tr>\n",
       "  </thead>\n",
       "  <tbody>\n",
       "    <tr>\n",
       "      <th>0</th>\n",
       "      <td>A-1049127W</td>\n",
       "      <td>0.1</td>\n",
       "      <td>4.255172</td>\n",
       "      <td>1.125753e+07</td>\n",
       "      <td>179.729652</td>\n",
       "      <td>174</td>\n",
       "      <td>230.087968</td>\n",
       "      <td>0.37931</td>\n",
       "      <td>54.022989</td>\n",
       "    </tr>\n",
       "  </tbody>\n",
       "</table>\n",
       "</div>\n",
       "    <div class=\"colab-df-buttons\">\n",
       "\n",
       "  <div class=\"colab-df-container\">\n",
       "    <button class=\"colab-df-convert\" onclick=\"convertToInteractive('df-f434a9c2-f6eb-4153-b3e3-fc665af8bf47')\"\n",
       "            title=\"Convert this dataframe to an interactive table.\"\n",
       "            style=\"display:none;\">\n",
       "\n",
       "  <svg xmlns=\"http://www.w3.org/2000/svg\" height=\"24px\" viewBox=\"0 -960 960 960\">\n",
       "    <path d=\"M120-120v-720h720v720H120Zm60-500h600v-160H180v160Zm220 220h160v-160H400v160Zm0 220h160v-160H400v160ZM180-400h160v-160H180v160Zm440 0h160v-160H620v160ZM180-180h160v-160H180v160Zm440 0h160v-160H620v160Z\"/>\n",
       "  </svg>\n",
       "    </button>\n",
       "\n",
       "  <style>\n",
       "    .colab-df-container {\n",
       "      display:flex;\n",
       "      gap: 12px;\n",
       "    }\n",
       "\n",
       "    .colab-df-convert {\n",
       "      background-color: #E8F0FE;\n",
       "      border: none;\n",
       "      border-radius: 50%;\n",
       "      cursor: pointer;\n",
       "      display: none;\n",
       "      fill: #1967D2;\n",
       "      height: 32px;\n",
       "      padding: 0 0 0 0;\n",
       "      width: 32px;\n",
       "    }\n",
       "\n",
       "    .colab-df-convert:hover {\n",
       "      background-color: #E2EBFA;\n",
       "      box-shadow: 0px 1px 2px rgba(60, 64, 67, 0.3), 0px 1px 3px 1px rgba(60, 64, 67, 0.15);\n",
       "      fill: #174EA6;\n",
       "    }\n",
       "\n",
       "    .colab-df-buttons div {\n",
       "      margin-bottom: 4px;\n",
       "    }\n",
       "\n",
       "    [theme=dark] .colab-df-convert {\n",
       "      background-color: #3B4455;\n",
       "      fill: #D2E3FC;\n",
       "    }\n",
       "\n",
       "    [theme=dark] .colab-df-convert:hover {\n",
       "      background-color: #434B5C;\n",
       "      box-shadow: 0px 1px 3px 1px rgba(0, 0, 0, 0.15);\n",
       "      filter: drop-shadow(0px 1px 2px rgba(0, 0, 0, 0.3));\n",
       "      fill: #FFFFFF;\n",
       "    }\n",
       "  </style>\n",
       "\n",
       "    <script>\n",
       "      const buttonEl =\n",
       "        document.querySelector('#df-f434a9c2-f6eb-4153-b3e3-fc665af8bf47 button.colab-df-convert');\n",
       "      buttonEl.style.display =\n",
       "        google.colab.kernel.accessAllowed ? 'block' : 'none';\n",
       "\n",
       "      async function convertToInteractive(key) {\n",
       "        const element = document.querySelector('#df-f434a9c2-f6eb-4153-b3e3-fc665af8bf47');\n",
       "        const dataTable =\n",
       "          await google.colab.kernel.invokeFunction('convertToInteractive',\n",
       "                                                    [key], {});\n",
       "        if (!dataTable) return;\n",
       "\n",
       "        const docLinkHtml = 'Like what you see? Visit the ' +\n",
       "          '<a target=\"_blank\" href=https://colab.research.google.com/notebooks/data_table.ipynb>data table notebook</a>'\n",
       "          + ' to learn more about interactive tables.';\n",
       "        element.innerHTML = '';\n",
       "        dataTable['output_type'] = 'display_data';\n",
       "        await google.colab.output.renderOutput(dataTable, element);\n",
       "        const docLink = document.createElement('div');\n",
       "        docLink.innerHTML = docLinkHtml;\n",
       "        element.appendChild(docLink);\n",
       "      }\n",
       "    </script>\n",
       "  </div>\n",
       "\n",
       "    </div>\n",
       "  </div>\n"
      ],
      "text/plain": [
       "       car_id  min_rating  avg_rating  total_distance   max_speed  \\\n",
       "0  A-1049127W         0.1    4.255172    1.125753e+07  179.729652   \n",
       "\n",
       "   total_rides  speed_variance  high_speed_ride_ratio  \\\n",
       "0          174      230.087968                0.37931   \n",
       "\n",
       "   percentage_high_rated_rides  \n",
       "0                    54.022989  "
      ]
     },
     "execution_count": 8,
     "metadata": {},
     "output_type": "execute_result"
    }
   ],
   "source": [
    "# Агрегирование новых признаков для каждого car_id в rides_info\n",
    "new_features = rides_info.groupby('car_id').agg(\n",
    "    speed_variance=('speed_avg', 'var'),  # Дисперсия средней скорости поездок, показывает изменчивость скорости (высокая изменчивость скорости нагружает двигатель и трансмиссию)\n",
    "    high_speed_ride_ratio=('speed_max', lambda x: (x > 100).mean()),  # Доля поездок с максимальной скоростью более 100 км/ч\n",
    "    percentage_high_rated_rides=('rating', lambda x: (x > 4).mean() * 100)  # Процент поездок с рейтингом выше 4\n",
    ").reset_index()\n",
    "\n",
    "# Объединяем с уже агрегированными данными в grouped_rides\n",
    "enhanced_grouped_rides = pd.merge(grouped_rides, new_features, on='car_id')\n",
    "\n",
    "# Вывод первой строки для проверки новых признаков\n",
    "enhanced_grouped_rides.head(1)\n"
   ]
  },
  {
   "cell_type": "markdown",
   "metadata": {
    "id": "l_L7hGSenE_s"
   },
   "source": [
    "**4. Сделайте соединение таблиц — вспомните про методы соединения и выберите подходящий для этого случая.**\n",
    "\n",
    "\n"
   ]
  },
  {
   "cell_type": "code",
   "execution_count": 9,
   "metadata": {
    "colab": {
     "base_uri": "https://localhost:8080/",
     "height": 136
    },
    "id": "eTPBtg76sHBZ",
    "outputId": "245570b6-bcdc-4d4e-f6aa-ee0e04a8a053"
   },
   "outputs": [
    {
     "data": {
      "application/vnd.google.colaboratory.intrinsic+json": {
       "summary": "{\n  \"name\": \"merged_car_info\",\n  \"rows\": 2337,\n  \"fields\": [\n    {\n      \"column\": \"car_id\",\n      \"properties\": {\n        \"dtype\": \"string\",\n        \"num_unique_values\": 2337,\n        \"samples\": [\n          \"z14411100u\",\n          \"n-6604555n\",\n          \"d-1051262p\"\n        ],\n        \"semantic_type\": \"\",\n        \"description\": \"\"\n      }\n    },\n    {\n      \"column\": \"model\",\n      \"properties\": {\n        \"dtype\": \"category\",\n        \"num_unique_values\": 26,\n        \"samples\": [\n          \"Smart ForFour\",\n          \"Renault Kaptur\",\n          \"Kia Rio X-line\"\n        ],\n        \"semantic_type\": \"\",\n        \"description\": \"\"\n      }\n    },\n    {\n      \"column\": \"car_type\",\n      \"properties\": {\n        \"dtype\": \"category\",\n        \"num_unique_values\": 4,\n        \"samples\": [\n          \"standart\",\n          \"premium\",\n          \"economy\"\n        ],\n        \"semantic_type\": \"\",\n        \"description\": \"\"\n      }\n    },\n    {\n      \"column\": \"fuel_type\",\n      \"properties\": {\n        \"dtype\": \"category\",\n        \"num_unique_values\": 2,\n        \"samples\": [\n          \"electro\",\n          \"petrol\"\n        ],\n        \"semantic_type\": \"\",\n        \"description\": \"\"\n      }\n    },\n    {\n      \"column\": \"car_rating\",\n      \"properties\": {\n        \"dtype\": \"number\",\n        \"std\": 0.9969539766615568,\n        \"min\": 0.98,\n        \"max\": 8.9,\n        \"num_unique_values\": 269,\n        \"samples\": [\n          2.78,\n          2.1\n        ],\n        \"semantic_type\": \"\",\n        \"description\": \"\"\n      }\n    },\n    {\n      \"column\": \"year_to_start\",\n      \"properties\": {\n        \"dtype\": \"number\",\n        \"std\": 1,\n        \"min\": 2011,\n        \"max\": 2017,\n        \"num_unique_values\": 7,\n        \"samples\": [\n          2015,\n          2012\n        ],\n        \"semantic_type\": \"\",\n        \"description\": \"\"\n      }\n    },\n    {\n      \"column\": \"riders\",\n      \"properties\": {\n        \"dtype\": \"number\",\n        \"std\": 33755,\n        \"min\": 23,\n        \"max\": 142862,\n        \"num_unique_values\": 2306,\n        \"samples\": [\n          61719,\n          100108\n        ],\n        \"semantic_type\": \"\",\n        \"description\": \"\"\n      }\n    },\n    {\n      \"column\": \"year_to_work\",\n      \"properties\": {\n        \"dtype\": \"number\",\n        \"std\": 2,\n        \"min\": 2014,\n        \"max\": 2022,\n        \"num_unique_values\": 9,\n        \"samples\": [\n          2022,\n          2017\n        ],\n        \"semantic_type\": \"\",\n        \"description\": \"\"\n      }\n    },\n    {\n      \"column\": \"target_reg\",\n      \"properties\": {\n        \"dtype\": \"number\",\n        \"std\": 17.579568125863787,\n        \"min\": 18.92,\n        \"max\": 141.63,\n        \"num_unique_values\": 1891,\n        \"samples\": [\n          37.98,\n          58.11\n        ],\n        \"semantic_type\": \"\",\n        \"description\": \"\"\n      }\n    },\n    {\n      \"column\": \"target_class\",\n      \"properties\": {\n        \"dtype\": \"category\",\n        \"num_unique_values\": 9,\n        \"samples\": [\n          \"wheel_shake\",\n          \"electro_bug\"\n        ],\n        \"semantic_type\": \"\",\n        \"description\": \"\"\n      }\n    },\n    {\n      \"column\": \"min_rating\",\n      \"properties\": {\n        \"dtype\": \"number\",\n        \"std\": 0.16397828346003004,\n        \"min\": 0.0,\n        \"max\": 1.5,\n        \"num_unique_values\": 91,\n        \"samples\": [\n          0.67,\n          0.5\n        ],\n        \"semantic_type\": \"\",\n        \"description\": \"\"\n      }\n    },\n    {\n      \"column\": \"avg_rating\",\n      \"properties\": {\n        \"dtype\": \"number\",\n        \"std\": 0.4185875181615076,\n        \"min\": 3.529885057471265,\n        \"max\": 5.700747126436782,\n        \"num_unique_values\": 2223,\n        \"samples\": [\n          4.938505747126436,\n          4.750402298850575\n        ],\n        \"semantic_type\": \"\",\n        \"description\": \"\"\n      }\n    },\n    {\n      \"column\": \"total_distance\",\n      \"properties\": {\n        \"dtype\": \"number\",\n        \"std\": 4253208.772370099,\n        \"min\": 1478866.3194710591,\n        \"max\": 31197854.66144909,\n        \"num_unique_values\": 2337,\n        \"samples\": [\n          11634739.066408757,\n          17976546.948301077\n        ],\n        \"semantic_type\": \"\",\n        \"description\": \"\"\n      }\n    },\n    {\n      \"column\": \"max_speed\",\n      \"properties\": {\n        \"dtype\": \"number\",\n        \"std\": 33.211160987028705,\n        \"min\": 91.4235081222183,\n        \"max\": 209.98283950882248,\n        \"num_unique_values\": 1938,\n        \"samples\": [\n          109.38343955827206,\n          196.76859522747992\n        ],\n        \"semantic_type\": \"\",\n        \"description\": \"\"\n      }\n    },\n    {\n      \"column\": \"total_rides\",\n      \"properties\": {\n        \"dtype\": \"number\",\n        \"std\": 0,\n        \"min\": 174,\n        \"max\": 174,\n        \"num_unique_values\": 1,\n        \"samples\": [\n          174\n        ],\n        \"semantic_type\": \"\",\n        \"description\": \"\"\n      }\n    },\n    {\n      \"column\": \"speed_variance\",\n      \"properties\": {\n        \"dtype\": \"number\",\n        \"std\": 55.08900719958781,\n        \"min\": 64.92166633446283,\n        \"max\": 297.0175071423825,\n        \"num_unique_values\": 2334,\n        \"samples\": [\n          188.0106305228887\n        ],\n        \"semantic_type\": \"\",\n        \"description\": \"\"\n      }\n    },\n    {\n      \"column\": \"high_speed_ride_ratio\",\n      \"properties\": {\n        \"dtype\": \"number\",\n        \"std\": 0.14958921198671046,\n        \"min\": 0.0,\n        \"max\": 0.5344827586206896,\n        \"num_unique_values\": 92,\n        \"samples\": [\n          0.10919540229885058\n        ],\n        \"semantic_type\": \"\",\n        \"description\": \"\"\n      }\n    },\n    {\n      \"column\": \"percentage_high_rated_rides\",\n      \"properties\": {\n        \"dtype\": \"number\",\n        \"std\": 8.83481231958106,\n        \"min\": 38.50574712643678,\n        \"max\": 85.0574712643678,\n        \"num_unique_values\": 76,\n        \"samples\": [\n          54.02298850574713\n        ],\n        \"semantic_type\": \"\",\n        \"description\": \"\"\n      }\n    }\n  ]\n}",
       "type": "dataframe",
       "variable_name": "merged_car_info"
      },
      "text/html": [
       "\n",
       "  <div id=\"df-172719ab-51e6-4dc9-b156-5c427a014f73\" class=\"colab-df-container\">\n",
       "    <div>\n",
       "<style scoped>\n",
       "    .dataframe tbody tr th:only-of-type {\n",
       "        vertical-align: middle;\n",
       "    }\n",
       "\n",
       "    .dataframe tbody tr th {\n",
       "        vertical-align: top;\n",
       "    }\n",
       "\n",
       "    .dataframe thead th {\n",
       "        text-align: right;\n",
       "    }\n",
       "</style>\n",
       "<table border=\"1\" class=\"dataframe\">\n",
       "  <thead>\n",
       "    <tr style=\"text-align: right;\">\n",
       "      <th></th>\n",
       "      <th>car_id</th>\n",
       "      <th>model</th>\n",
       "      <th>car_type</th>\n",
       "      <th>fuel_type</th>\n",
       "      <th>car_rating</th>\n",
       "      <th>year_to_start</th>\n",
       "      <th>riders</th>\n",
       "      <th>year_to_work</th>\n",
       "      <th>target_reg</th>\n",
       "      <th>target_class</th>\n",
       "      <th>min_rating</th>\n",
       "      <th>avg_rating</th>\n",
       "      <th>total_distance</th>\n",
       "      <th>max_speed</th>\n",
       "      <th>total_rides</th>\n",
       "      <th>speed_variance</th>\n",
       "      <th>high_speed_ride_ratio</th>\n",
       "      <th>percentage_high_rated_rides</th>\n",
       "    </tr>\n",
       "  </thead>\n",
       "  <tbody>\n",
       "    <tr>\n",
       "      <th>0</th>\n",
       "      <td>y13744087j</td>\n",
       "      <td>Kia Rio X-line</td>\n",
       "      <td>economy</td>\n",
       "      <td>petrol</td>\n",
       "      <td>3.78</td>\n",
       "      <td>2015</td>\n",
       "      <td>76163</td>\n",
       "      <td>2021</td>\n",
       "      <td>108.53</td>\n",
       "      <td>another_bug</td>\n",
       "      <td>0.1</td>\n",
       "      <td>4.737759</td>\n",
       "      <td>1.214131e+07</td>\n",
       "      <td>180.855726</td>\n",
       "      <td>174</td>\n",
       "      <td>94.803435</td>\n",
       "      <td>0.264368</td>\n",
       "      <td>64.367816</td>\n",
       "    </tr>\n",
       "  </tbody>\n",
       "</table>\n",
       "</div>\n",
       "    <div class=\"colab-df-buttons\">\n",
       "\n",
       "  <div class=\"colab-df-container\">\n",
       "    <button class=\"colab-df-convert\" onclick=\"convertToInteractive('df-172719ab-51e6-4dc9-b156-5c427a014f73')\"\n",
       "            title=\"Convert this dataframe to an interactive table.\"\n",
       "            style=\"display:none;\">\n",
       "\n",
       "  <svg xmlns=\"http://www.w3.org/2000/svg\" height=\"24px\" viewBox=\"0 -960 960 960\">\n",
       "    <path d=\"M120-120v-720h720v720H120Zm60-500h600v-160H180v160Zm220 220h160v-160H400v160Zm0 220h160v-160H400v160ZM180-400h160v-160H180v160Zm440 0h160v-160H620v160ZM180-180h160v-160H180v160Zm440 0h160v-160H620v160Z\"/>\n",
       "  </svg>\n",
       "    </button>\n",
       "\n",
       "  <style>\n",
       "    .colab-df-container {\n",
       "      display:flex;\n",
       "      gap: 12px;\n",
       "    }\n",
       "\n",
       "    .colab-df-convert {\n",
       "      background-color: #E8F0FE;\n",
       "      border: none;\n",
       "      border-radius: 50%;\n",
       "      cursor: pointer;\n",
       "      display: none;\n",
       "      fill: #1967D2;\n",
       "      height: 32px;\n",
       "      padding: 0 0 0 0;\n",
       "      width: 32px;\n",
       "    }\n",
       "\n",
       "    .colab-df-convert:hover {\n",
       "      background-color: #E2EBFA;\n",
       "      box-shadow: 0px 1px 2px rgba(60, 64, 67, 0.3), 0px 1px 3px 1px rgba(60, 64, 67, 0.15);\n",
       "      fill: #174EA6;\n",
       "    }\n",
       "\n",
       "    .colab-df-buttons div {\n",
       "      margin-bottom: 4px;\n",
       "    }\n",
       "\n",
       "    [theme=dark] .colab-df-convert {\n",
       "      background-color: #3B4455;\n",
       "      fill: #D2E3FC;\n",
       "    }\n",
       "\n",
       "    [theme=dark] .colab-df-convert:hover {\n",
       "      background-color: #434B5C;\n",
       "      box-shadow: 0px 1px 3px 1px rgba(0, 0, 0, 0.15);\n",
       "      filter: drop-shadow(0px 1px 2px rgba(0, 0, 0, 0.3));\n",
       "      fill: #FFFFFF;\n",
       "    }\n",
       "  </style>\n",
       "\n",
       "    <script>\n",
       "      const buttonEl =\n",
       "        document.querySelector('#df-172719ab-51e6-4dc9-b156-5c427a014f73 button.colab-df-convert');\n",
       "      buttonEl.style.display =\n",
       "        google.colab.kernel.accessAllowed ? 'block' : 'none';\n",
       "\n",
       "      async function convertToInteractive(key) {\n",
       "        const element = document.querySelector('#df-172719ab-51e6-4dc9-b156-5c427a014f73');\n",
       "        const dataTable =\n",
       "          await google.colab.kernel.invokeFunction('convertToInteractive',\n",
       "                                                    [key], {});\n",
       "        if (!dataTable) return;\n",
       "\n",
       "        const docLinkHtml = 'Like what you see? Visit the ' +\n",
       "          '<a target=\"_blank\" href=https://colab.research.google.com/notebooks/data_table.ipynb>data table notebook</a>'\n",
       "          + ' to learn more about interactive tables.';\n",
       "        element.innerHTML = '';\n",
       "        dataTable['output_type'] = 'display_data';\n",
       "        await google.colab.output.renderOutput(dataTable, element);\n",
       "        const docLink = document.createElement('div');\n",
       "        docLink.innerHTML = docLinkHtml;\n",
       "        element.appendChild(docLink);\n",
       "      }\n",
       "    </script>\n",
       "  </div>\n",
       "\n",
       "    </div>\n",
       "  </div>\n"
      ],
      "text/plain": [
       "       car_id           model car_type fuel_type  car_rating  year_to_start  \\\n",
       "0  y13744087j  Kia Rio X-line  economy    petrol        3.78           2015   \n",
       "\n",
       "   riders  year_to_work  target_reg target_class  min_rating  avg_rating  \\\n",
       "0   76163          2021      108.53  another_bug         0.1    4.737759   \n",
       "\n",
       "   total_distance   max_speed  total_rides  speed_variance  \\\n",
       "0    1.214131e+07  180.855726          174       94.803435   \n",
       "\n",
       "   high_speed_ride_ratio  percentage_high_rated_rides  \n",
       "0               0.264368                    64.367816  "
      ]
     },
     "execution_count": 9,
     "metadata": {},
     "output_type": "execute_result"
    }
   ],
   "source": [
    "# Используем merge для соединения car_train и grouped_rides по car_id\n",
    "merged_car_info = pd.merge(car_train, enhanced_grouped_rides, on='car_id', how='left')\n",
    "\n",
    "merged_car_info.head(1)"
   ]
  },
  {
   "cell_type": "code",
   "execution_count": null,
   "metadata": {
    "cellView": "form",
    "colab": {
     "base_uri": "https://localhost:8080/",
     "height": 452
    },
    "id": "091QC4AfOHOf",
    "outputId": "5e935555-8829-4986-8aad-6b8b7459ac97"
   },
   "outputs": [
    {
     "data": {
      "image/png": "[encoded data removed]",
      "text/plain": [
       "<Figure size 640x480 with 1 Axes>"
      ]
     },
     "metadata": {},
     "output_type": "display_data"
    }
   ],
   "source": [
    "# @title car_rating\n",
    "\n",
    "from matplotlib import pyplot as plt\n",
    "merged_car_info['car_rating'].plot(kind='hist', bins=20, title='car_rating')\n",
    "plt.gca().spines[['top', 'right',]].set_visible(False)"
   ]
  },
  {
   "cell_type": "code",
   "execution_count": null,
   "metadata": {
    "colab": {
     "base_uri": "https://localhost:8080/",
     "height": 430
    },
    "id": "Xx8-JGtrsUlA",
    "outputId": "63c17549-d161-4319-c66e-67c0b70ff9c6"
   },
   "outputs": [
    {
     "data": {
      "image/png": "[encoded data removed]",
      "text/plain": [
       "<Figure size 640x480 with 1 Axes>"
      ]
     },
     "metadata": {},
     "output_type": "display_data"
    }
   ],
   "source": [
    "# @title fuel_type\n",
    "\n",
    "from matplotlib import pyplot as plt\n",
    "import seaborn as sns\n",
    "merged_car_info.groupby('fuel_type').size().plot(kind='barh', color=sns.palettes.mpl_palette('Dark2'))\n",
    "plt.gca().spines[['top', 'right',]].set_visible(False)"
   ]
  },
  {
   "cell_type": "markdown",
   "metadata": {
    "id": "-5GvTmMAsojt"
   },
   "source": [
    "**5. Подключите информацию про водителей (driver_info) и про ремонт машин (fix_info). Добавьте минимум 3 любых признака с каждого датасета.**\n"
   ]
  },
  {
   "cell_type": "code",
   "execution_count": 10,
   "metadata": {
    "colab": {
     "base_uri": "https://localhost:8080/"
    },
    "id": "0YPFBL3ZtCzs",
    "outputId": "85fd288f-9d04-4d6f-d2a2-b86d60dcad5a"
   },
   "outputs": [
    {
     "name": "stdout",
     "output_type": "stream",
     "text": [
      "Index(['car_id', 'model', 'car_type', 'fuel_type', 'car_rating',\n",
      "       'year_to_start', 'riders', 'year_to_work', 'target_reg', 'target_class',\n",
      "       'min_rating', 'avg_rating', 'total_distance', 'max_speed',\n",
      "       'total_rides', 'speed_variance', 'high_speed_ride_ratio',\n",
      "       'percentage_high_rated_rides', 'user_id', 'ride_id', 'ride_date',\n",
      "       'rating', 'ride_duration', 'ride_cost', 'speed_avg', 'speed_max',\n",
      "       'stop_times', 'distance', 'refueling', 'user_ride_quality',\n",
      "       'deviation_normal'],\n",
      "      dtype='object')\n"
     ]
    }
   ],
   "source": [
    "# Присоединяем rides_info к merged_car_info по car_id\n",
    "merged_car_and_rides = pd.merge(merged_car_info, rides_info, on='car_id', how='left')\n",
    "print(merged_car_and_rides.columns)"
   ]
  },
  {
   "cell_type": "code",
   "execution_count": 11,
   "metadata": {
    "colab": {
     "base_uri": "https://localhost:8080/"
    },
    "id": "4hQmV9rlsp4d",
    "outputId": "307d6b8e-5d89-4d82-910e-c92eca2d1d9d"
   },
   "outputs": [
    {
     "name": "stdout",
     "output_type": "stream",
     "text": [
      "Index(['car_id', 'model', 'car_type', 'fuel_type', 'car_rating',\n",
      "       'year_to_start', 'riders', 'year_to_work', 'target_reg', 'target_class',\n",
      "       'min_rating', 'avg_rating', 'total_distance', 'max_speed',\n",
      "       'total_rides', 'speed_variance', 'high_speed_ride_ratio',\n",
      "       'percentage_high_rated_rides', 'user_id', 'ride_id', 'ride_date',\n",
      "       'rating', 'ride_duration', 'ride_cost', 'speed_avg', 'speed_max',\n",
      "       'stop_times', 'distance', 'refueling', 'user_ride_quality',\n",
      "       'deviation_normal', 'age', 'user_rating', 'sex'],\n",
      "      dtype='object')\n"
     ]
    }
   ],
   "source": [
    "# Присоединяем driver_info к merged_car_and_rides по user_id\n",
    "merged_car_and_drivers = pd.merge(merged_car_and_rides, driver_info[['user_id', 'age', 'user_rating', 'sex']], on='user_id', how='left')\n",
    "print(merged_car_and_drivers.columns)"
   ]
  },
  {
   "cell_type": "code",
   "execution_count": null,
   "metadata": {
    "colab": {
     "base_uri": "https://localhost:8080/"
    },
    "id": "89-0n8XZuPz2",
    "outputId": "bd10a6b6-01ae-4901-e3b9-7a134fa68dbe"
   },
   "outputs": [
    {
     "name": "stdout",
     "output_type": "stream",
     "text": [
      "Index(['car_id', 'worker_id', 'fix_date', 'work_type', 'destroy_degree',\n",
      "       'work_duration'],\n",
      "      dtype='object')\n"
     ]
    }
   ],
   "source": [
    "print(fix_info.columns)"
   ]
  },
  {
   "cell_type": "code",
   "execution_count": 12,
   "metadata": {
    "id": "n3qmCORrtvDX"
   },
   "outputs": [],
   "source": [
    "# Присоединяем fix_info к full_car_drivers по car_id, выбирая нужные столбцы\n",
    "final_df = pd.merge(merged_car_and_drivers, fix_info[['car_id', 'fix_date', 'destroy_degree', 'work_duration']], on='car_id', how='left', suffixes=('', '_fix'))"
   ]
  },
  {
   "cell_type": "code",
   "execution_count": 13,
   "metadata": {
    "colab": {
     "base_uri": "https://localhost:8080/",
     "height": 165
    },
    "id": "0P1FRvqWF4na",
    "outputId": "12f4fd6e-0173-4caf-f305-3c3244b5782a"
   },
   "outputs": [
    {
     "data": {
      "application/vnd.google.colaboratory.intrinsic+json": {
       "type": "dataframe",
       "variable_name": "final_df"
      },
      "text/html": [
       "\n",
       "  <div id=\"df-8daeb8e7-727f-4475-acc9-0a0734615970\" class=\"colab-df-container\">\n",
       "    <div>\n",
       "<style scoped>\n",
       "    .dataframe tbody tr th:only-of-type {\n",
       "        vertical-align: middle;\n",
       "    }\n",
       "\n",
       "    .dataframe tbody tr th {\n",
       "        vertical-align: top;\n",
       "    }\n",
       "\n",
       "    .dataframe thead th {\n",
       "        text-align: right;\n",
       "    }\n",
       "</style>\n",
       "<table border=\"1\" class=\"dataframe\">\n",
       "  <thead>\n",
       "    <tr style=\"text-align: right;\">\n",
       "      <th></th>\n",
       "      <th>car_id</th>\n",
       "      <th>model</th>\n",
       "      <th>car_type</th>\n",
       "      <th>fuel_type</th>\n",
       "      <th>car_rating</th>\n",
       "      <th>year_to_start</th>\n",
       "      <th>riders</th>\n",
       "      <th>year_to_work</th>\n",
       "      <th>target_reg</th>\n",
       "      <th>target_class</th>\n",
       "      <th>...</th>\n",
       "      <th>distance</th>\n",
       "      <th>refueling</th>\n",
       "      <th>user_ride_quality</th>\n",
       "      <th>deviation_normal</th>\n",
       "      <th>age</th>\n",
       "      <th>user_rating</th>\n",
       "      <th>sex</th>\n",
       "      <th>fix_date</th>\n",
       "      <th>destroy_degree</th>\n",
       "      <th>work_duration</th>\n",
       "    </tr>\n",
       "  </thead>\n",
       "  <tbody>\n",
       "    <tr>\n",
       "      <th>0</th>\n",
       "      <td>y13744087j</td>\n",
       "      <td>Kia Rio X-line</td>\n",
       "      <td>economy</td>\n",
       "      <td>petrol</td>\n",
       "      <td>3.78</td>\n",
       "      <td>2015</td>\n",
       "      <td>76163</td>\n",
       "      <td>2021</td>\n",
       "      <td>108.53</td>\n",
       "      <td>another_bug</td>\n",
       "      <td>...</td>\n",
       "      <td>1682.556402</td>\n",
       "      <td>0</td>\n",
       "      <td>0.52475</td>\n",
       "      <td>0.0</td>\n",
       "      <td>38</td>\n",
       "      <td>7.4</td>\n",
       "      <td>0</td>\n",
       "      <td>2019-8-10 9:29</td>\n",
       "      <td>1.0</td>\n",
       "      <td>28</td>\n",
       "    </tr>\n",
       "  </tbody>\n",
       "</table>\n",
       "<p>1 rows × 37 columns</p>\n",
       "</div>\n",
       "    <div class=\"colab-df-buttons\">\n",
       "\n",
       "  <div class=\"colab-df-container\">\n",
       "    <button class=\"colab-df-convert\" onclick=\"convertToInteractive('df-8daeb8e7-727f-4475-acc9-0a0734615970')\"\n",
       "            title=\"Convert this dataframe to an interactive table.\"\n",
       "            style=\"display:none;\">\n",
       "\n",
       "  <svg xmlns=\"http://www.w3.org/2000/svg\" height=\"24px\" viewBox=\"0 -960 960 960\">\n",
       "    <path d=\"M120-120v-720h720v720H120Zm60-500h600v-160H180v160Zm220 220h160v-160H400v160Zm0 220h160v-160H400v160ZM180-400h160v-160H180v160Zm440 0h160v-160H620v160ZM180-180h160v-160H180v160Zm440 0h160v-160H620v160Z\"/>\n",
       "  </svg>\n",
       "    </button>\n",
       "\n",
       "  <style>\n",
       "    .colab-df-container {\n",
       "      display:flex;\n",
       "      gap: 12px;\n",
       "    }\n",
       "\n",
       "    .colab-df-convert {\n",
       "      background-color: #E8F0FE;\n",
       "      border: none;\n",
       "      border-radius: 50%;\n",
       "      cursor: pointer;\n",
       "      display: none;\n",
       "      fill: #1967D2;\n",
       "      height: 32px;\n",
       "      padding: 0 0 0 0;\n",
       "      width: 32px;\n",
       "    }\n",
       "\n",
       "    .colab-df-convert:hover {\n",
       "      background-color: #E2EBFA;\n",
       "      box-shadow: 0px 1px 2px rgba(60, 64, 67, 0.3), 0px 1px 3px 1px rgba(60, 64, 67, 0.15);\n",
       "      fill: #174EA6;\n",
       "    }\n",
       "\n",
       "    .colab-df-buttons div {\n",
       "      margin-bottom: 4px;\n",
       "    }\n",
       "\n",
       "    [theme=dark] .colab-df-convert {\n",
       "      background-color: #3B4455;\n",
       "      fill: #D2E3FC;\n",
       "    }\n",
       "\n",
       "    [theme=dark] .colab-df-convert:hover {\n",
       "      background-color: #434B5C;\n",
       "      box-shadow: 0px 1px 3px 1px rgba(0, 0, 0, 0.15);\n",
       "      filter: drop-shadow(0px 1px 2px rgba(0, 0, 0, 0.3));\n",
       "      fill: #FFFFFF;\n",
       "    }\n",
       "  </style>\n",
       "\n",
       "    <script>\n",
       "      const buttonEl =\n",
       "        document.querySelector('#df-8daeb8e7-727f-4475-acc9-0a0734615970 button.colab-df-convert');\n",
       "      buttonEl.style.display =\n",
       "        google.colab.kernel.accessAllowed ? 'block' : 'none';\n",
       "\n",
       "      async function convertToInteractive(key) {\n",
       "        const element = document.querySelector('#df-8daeb8e7-727f-4475-acc9-0a0734615970');\n",
       "        const dataTable =\n",
       "          await google.colab.kernel.invokeFunction('convertToInteractive',\n",
       "                                                    [key], {});\n",
       "        if (!dataTable) return;\n",
       "\n",
       "        const docLinkHtml = 'Like what you see? Visit the ' +\n",
       "          '<a target=\"_blank\" href=https://colab.research.google.com/notebooks/data_table.ipynb>data table notebook</a>'\n",
       "          + ' to learn more about interactive tables.';\n",
       "        element.innerHTML = '';\n",
       "        dataTable['output_type'] = 'display_data';\n",
       "        await google.colab.output.renderOutput(dataTable, element);\n",
       "        const docLink = document.createElement('div');\n",
       "        docLink.innerHTML = docLinkHtml;\n",
       "        element.appendChild(docLink);\n",
       "      }\n",
       "    </script>\n",
       "  </div>\n",
       "\n",
       "    </div>\n",
       "  </div>\n"
      ],
      "text/plain": [
       "       car_id           model car_type fuel_type  car_rating  year_to_start  \\\n",
       "0  y13744087j  Kia Rio X-line  economy    petrol        3.78           2015   \n",
       "\n",
       "   riders  year_to_work  target_reg target_class  ...     distance  refueling  \\\n",
       "0   76163          2021      108.53  another_bug  ...  1682.556402          0   \n",
       "\n",
       "   user_ride_quality  deviation_normal  age  user_rating  sex        fix_date  \\\n",
       "0            0.52475               0.0   38          7.4    0  2019-8-10 9:29   \n",
       "\n",
       "  destroy_degree work_duration  \n",
       "0            1.0            28  \n",
       "\n",
       "[1 rows x 37 columns]"
      ]
     },
     "execution_count": 13,
     "metadata": {},
     "output_type": "execute_result"
    }
   ],
   "source": [
    "final_df.head(1)"
   ]
  },
  {
   "cell_type": "code",
   "execution_count": null,
   "metadata": {
    "colab": {
     "base_uri": "https://localhost:8080/"
    },
    "id": "GSIuRprTKWXT",
    "outputId": "3c003380-ea08-42a2-8458-857ff94a8922"
   },
   "outputs": [
    {
     "name": "stdout",
     "output_type": "stream",
     "text": [
      "<class 'pandas.core.frame.DataFrame'>\n",
      "Int64Index: 13970460 entries, 0 to 13970459\n",
      "Data columns (total 37 columns):\n",
      " #   Column                       Dtype  \n",
      "---  ------                       -----  \n",
      " 0   car_id                       object \n",
      " 1   model                        object \n",
      " 2   car_type                     object \n",
      " 3   fuel_type                    object \n",
      " 4   car_rating                   float64\n",
      " 5   year_to_start                int64  \n",
      " 6   riders                       int64  \n",
      " 7   year_to_work                 int64  \n",
      " 8   target_reg                   float64\n",
      " 9   target_class                 object \n",
      " 10  min_rating                   float64\n",
      " 11  avg_rating                   float64\n",
      " 12  total_distance               float64\n",
      " 13  max_speed                    float64\n",
      " 14  total_rides                  int64  \n",
      " 15  speed_variance               float64\n",
      " 16  high_speed_ride_ratio        float64\n",
      " 17  percentage_high_rated_rides  float64\n",
      " 18  user_id                      object \n",
      " 19  ride_id                      object \n",
      " 20  ride_date                    object \n",
      " 21  rating                       float64\n",
      " 22  ride_duration                int64  \n",
      " 23  ride_cost                    int64  \n",
      " 24  speed_avg                    int64  \n",
      " 25  speed_max                    float64\n",
      " 26  stop_times                   int64  \n",
      " 27  distance                     float64\n",
      " 28  refueling                    int64  \n",
      " 29  user_ride_quality            float64\n",
      " 30  deviation_normal             float64\n",
      " 31  age                          int64  \n",
      " 32  user_rating                  float64\n",
      " 33  sex                          int64  \n",
      " 34  fix_date                     object \n",
      " 35  destroy_degree               float64\n",
      " 36  work_duration                int64  \n",
      "dtypes: float64(16), int64(12), object(9)\n",
      "memory usage: 4.0+ GB\n"
     ]
    }
   ],
   "source": [
    "final_df.info()"
   ]
  },
  {
   "cell_type": "markdown",
   "metadata": {
    "id": "Q6Fa0zupbuhw"
   },
   "source": [
    "## Задание 2. Применение методов фильтрации признаков (4 балла)\n",
    "\n",
    "<center> <img src=\"https://ucarecdn.com/d1b4bc78-fd04-44fb-bdbf-0a63355b7384/\" width=700>"
   ]
  },
  {
   "cell_type": "markdown",
   "metadata": {
    "id": "c910L9jubuhx"
   },
   "source": [
    "1. Выберите и примените любые 3 (можно и больше) метода фильтрации, которые указаны выше или в ноутбуке по фильтрации из полезных ссылок.\n",
    "2. Проинтерпретируйте результаты и сделайте выводы.\n",
    "\n",
    "\n",
    "<h4> Критерии оценивания </h4>\n",
    "    \n",
    "- Применены методы фильтрации — 1 балл за каждый метод, максимум 3 балла.\n",
    "- Сделаны выводы на основе примененных методов —1 балл.\n",
    "</div>"
   ]
  },
  {
   "cell_type": "markdown",
   "metadata": {
    "id": "9flWgKVxf9Q1"
   },
   "source": [
    "### Советы по Feature Selection"
   ]
  },
  {
   "cell_type": "markdown",
   "metadata": {
    "id": "vYr9VNS5buhw"
   },
   "source": [
    "<div class=\"alert alert-info\">\n",
    "\n",
    "<h3><center>Зачем отбирать признаки</center></h3>\n",
    "    \n",
    "**Основные причины**:\n",
    "    \n",
    "- Главная причина: с увеличением количества признаков часто падает точность предсказания модели, а некоторые модели и вовсе перестают адекватно работать. Так происходит, если в данных большое количество мусорных фичей (почти не коррелирующих с таргетом).\n",
    "\n",
    "- Если фичей очень много, то данные перестают помещаться в память и существенно увеличивают время обучения модели, особенно если мы тестируем несколько алгоритмов или ансамбль. Также важно учитывать, что платформы имеют ограничения на длительность одной сессии (в Kaggle — 12 часов) и лимиты по потребляемой памяти.\n",
    "\n",
    "- Даже если точность не снижается, есть риск, что модель опирается на шумные фичи, что снизит стабильность прогноза на приватной выборке.\n"
   ]
  },
  {
   "cell_type": "markdown",
   "metadata": {
    "id": "P4JQwUS3buhw"
   },
   "source": [
    "<b>Что удалить сразу:</b>\n",
    "    \n",
    "- константы;\n",
    "- уникальные значения (в том числе в тесте; как правило, это ID-шники по типу `car_id`).\n",
    "    \n",
    "<b>Какие методы использовать:</b>\n",
    "    \n",
    "- `Линейная корреляция`.\n",
    "- `Phik` — тоже корреляция, но на стероидах ([туториал на Medium](https://towardsdatascience.com/phik-k-get-familiar-with-the-latest-correlation-coefficient-9ba0032b37e7)).\n",
    "- `Permutation importance` (из `scikit-learn`).\n",
    "- `SHAP values` (из библиотеки `shap`).\n",
    "- `CatBoost Feature Selection` (рекурсивные методы).\n",
    "    "
   ]
  },
  {
   "cell_type": "code",
   "execution_count": null,
   "metadata": {
    "colab": {
     "base_uri": "https://localhost:8080/"
    },
    "id": "dku2IuGBG7w9",
    "outputId": "fc520925-62c7-4299-e63c-8908aebc2ad7"
   },
   "outputs": [
    {
     "name": "stdout",
     "output_type": "stream",
     "text": [
      "Index(['car_id', 'model', 'car_type', 'fuel_type', 'car_rating',\n",
      "       'year_to_start', 'riders', 'year_to_work', 'target_reg', 'target_class',\n",
      "       'min_rating', 'avg_rating', 'total_distance', 'max_speed',\n",
      "       'total_rides', 'average_speed', 'max_ride_cost',\n",
      "       'percentage_high_rated_rides', 'user_id', 'ride_id', 'ride_date',\n",
      "       'rating', 'ride_duration', 'ride_cost', 'speed_avg', 'speed_max',\n",
      "       'stop_times', 'distance', 'refueling', 'user_ride_quality',\n",
      "       'deviation_normal', 'age', 'user_rating', 'sex', 'fix_date',\n",
      "       'destroy_degree', 'work_duration'],\n",
      "      dtype='object')\n"
     ]
    }
   ],
   "source": [
    "print(final_df.columns)"
   ]
  },
  {
   "cell_type": "markdown",
   "metadata": {
    "id": "lE9vxZG3JLXk"
   },
   "source": [
    "**1. Выберите и примените любые 3 (можно и больше) метода фильтрации, которые указаны выше или в ноутбуке по фильтрации из полезных ссылок.**"
   ]
  },
  {
   "cell_type": "markdown",
   "metadata": {
    "id": "ugcbxykBLEAv"
   },
   "source": [
    "Я сразу удалю все столбцы, содержащие id (так как они уникальны и не несут смысла для обучения), а также найду столбцы с константными значениями и также их удалю"
   ]
  },
  {
   "cell_type": "code",
   "execution_count": null,
   "metadata": {
    "colab": {
     "base_uri": "https://localhost:8080/"
    },
    "id": "2PTXgB6XJIjm",
    "outputId": "f0c2a52b-90e6-4578-e7c5-d17540e9941b"
   },
   "outputs": [
    {
     "name": "stdout",
     "output_type": "stream",
     "text": [
      "Константные столбцы: ['total_rides']\n"
     ]
    }
   ],
   "source": [
    "constant_columns = []\n",
    "\n",
    "for column in final_df.columns:\n",
    "    unique_values = final_df[column].unique()\n",
    "    if len(unique_values) == 1:\n",
    "        constant_columns.append(column)\n",
    "    elif len(unique_values) == len(final_df):\n",
    "        unique_value_columns.append(column)\n",
    "\n",
    "print(\"Константные столбцы:\", constant_columns)\n"
   ]
  },
  {
   "cell_type": "code",
   "execution_count": 14,
   "metadata": {
    "id": "lyTndDh6LgzN"
   },
   "outputs": [],
   "source": [
    "final_df.drop(columns=['car_id', 'user_id', 'ride_id', 'total_rides'], inplace=True) #дропну id-шные и константные столбцы"
   ]
  },
  {
   "cell_type": "code",
   "execution_count": 15,
   "metadata": {
    "colab": {
     "base_uri": "https://localhost:8080/"
    },
    "id": "oyo_yn6gLpB1",
    "outputId": "0ce889b0-62de-4751-d4fa-e1150a56573d"
   },
   "outputs": [
    {
     "name": "stdout",
     "output_type": "stream",
     "text": [
      "Index(['model', 'car_type', 'fuel_type', 'car_rating', 'year_to_start',\n",
      "       'riders', 'year_to_work', 'target_reg', 'target_class', 'min_rating',\n",
      "       'avg_rating', 'total_distance', 'max_speed', 'speed_variance',\n",
      "       'high_speed_ride_ratio', 'percentage_high_rated_rides', 'ride_date',\n",
      "       'rating', 'ride_duration', 'ride_cost', 'speed_avg', 'speed_max',\n",
      "       'stop_times', 'distance', 'refueling', 'user_ride_quality',\n",
      "       'deviation_normal', 'age', 'user_rating', 'sex', 'fix_date',\n",
      "       'destroy_degree', 'work_duration'],\n",
      "      dtype='object')\n"
     ]
    }
   ],
   "source": [
    "print(final_df.columns)"
   ]
  },
  {
   "cell_type": "markdown",
   "metadata": {
    "id": "Oltr3fYqOv3e"
   },
   "source": [
    "##Линейная корреляция"
   ]
  },
  {
   "cell_type": "markdown",
   "metadata": {
    "id": "YhSqL3jiOzlk"
   },
   "source": [
    "Для фильтрации признаков на основе линейной корреляции я буду использовать использовать корреляционную матрицу. Корреляционная матрица покажет, как каждый признак связан с каждым другим, и поможет идентифицировать признаки, которые сильно коррелируют друг с другом. Сильно коррелирующие признаки могут нести избыточную информацию, что может привести к проблемам мультиколлинеарности в некоторых моделях машинного обучения. Обычно используется пороговое значение корреляции (я возьму 0.8), чтобы определить, какие признаки следует рассмотреть к удалению или дополнительному анализу.\n"
   ]
  },
  {
   "cell_type": "code",
   "execution_count": null,
   "metadata": {
    "colab": {
     "base_uri": "https://localhost:8080/"
    },
    "id": "i_gkep3JPwOC",
    "outputId": "ca8d02d2-8c7e-4e94-cff6-92a57fedf9bf"
   },
   "outputs": [
    {
     "name": "stderr",
     "output_type": "stream",
     "text": [
      "<ipython-input-47-03161e86c57e>:2: FutureWarning: The default value of numeric_only in DataFrame.corr is deprecated. In a future version, it will default to False. Select only valid columns or specify the value of numeric_only to silence this warning.\n",
      "  corr_matrix = final_df.corr()\n"
     ]
    },
    {
     "name": "stdout",
     "output_type": "stream",
     "text": [
      "Пары признаков с высокой корреляцией и их корреляционные коэффициенты:\n",
      "riders и year_to_start: 0.9867577416440495\n",
      "high_speed_ride_ratio и max_speed: 0.9199258741018111\n",
      "percentage_high_rated_rides и avg_rating: 0.9559441442592234\n",
      "ride_cost и ride_duration: 0.9150797040991698\n",
      "distance и ride_duration: 0.9645640740722876\n",
      "distance и ride_cost: 0.8830040465323358\n"
     ]
    }
   ],
   "source": [
    "# Вычисляем корреляционную матрицу\n",
    "corr_matrix = final_df.corr()\n",
    "\n",
    "# Ищем пары признаков с высокой корреляцией\n",
    "high_corr_pairs = []\n",
    "threshold = 0.8  # Задаем порог для определения \"высокой\" корреляции\n",
    "\n",
    "for i in range(len(corr_matrix.columns)):\n",
    "    for j in range(i):\n",
    "        if abs(corr_matrix.iloc[i, j]) > threshold:\n",
    "            high_corr_pairs.append((corr_matrix.columns[i], corr_matrix.columns[j], abs(corr_matrix.iloc[i, j])))\n",
    "\n",
    "# Выводим пары признаков с корреляцией выше порогового значения\n",
    "print(\"Пары признаков с высокой корреляцией и их корреляционные коэффициенты:\")\n",
    "for pair in high_corr_pairs:\n",
    "    print(f\"{pair[0]} и {pair[1]}: {pair[2]}\")\n"
   ]
  },
  {
   "cell_type": "markdown",
   "metadata": {
    "id": "xZ9HGaRwG1Kx"
   },
   "source": [
    "###Выводы:\n",
    "riders и year_to_start: логичная корреляция - чем старше машина, тем больше поездок было совершено\n",
    "\n",
    "high_speed_ride_ratio и max_speed: интересная находка, получается, что максимальная скорость коррелирует с долей поездок с максимальной скоростью более 100 км/ч\n",
    "\n",
    "percentage_high_rated_rides и avg_rating: логичная корреляция\n",
    "\n",
    "Три связанных между собой признака с тесной корреляцией (что тоже понятно, стоимость, время и расстояние каждой поездки должны быть связаны):\n",
    "\n",
    "ride_cost и ride_duration: 0.9150797040991698\n",
    "distance и ride_duration: 0.9645640740722876\n",
    "distance и ride_cost: 0.8830040465323358\n",
    "\n",
    "**Посмотрю еще два метода фильтрации, прежде чем финально удалять столбцы**"
   ]
  },
  {
   "cell_type": "markdown",
   "metadata": {
    "id": "t8XxafSNcWCo"
   },
   "source": [
    "## Phik"
   ]
  },
  {
   "cell_type": "markdown",
   "metadata": {
    "id": "PGnnsbZtsgXk"
   },
   "source": [
    "Phik корреляция рассчитывается на основе нелинейной корреляции между переменными и может эффективно работать с категориальными и числовыми данными. Расчет Phik корреляции может потребовать меньше памяти, чем методы, основанные на более сложных моделях машинного обучения. Подходит для анализа взаимосвязей между всеми типами переменных.\n",
    "\n"
   ]
  },
  {
   "cell_type": "code",
   "execution_count": null,
   "metadata": {
    "colab": {
     "base_uri": "https://localhost:8080/"
    },
    "id": "P3vEt56acYRo",
    "outputId": "a99ecf86-be26-48c0-9cb3-601bda89c0df"
   },
   "outputs": [
    {
     "name": "stdout",
     "output_type": "stream",
     "text": [
      "Collecting phik\n",
      "  Downloading phik-0.12.4-cp310-cp310-manylinux_2_17_x86_64.manylinux2014_x86_64.whl (686 kB)\n",
      "\u001b[?25l     \u001b[90m━━━━━━━━━━━━━━━━━━━━━━━━━━━━━━━━━━━━━━━━\u001b[0m \u001b[32m0.0/686.1 kB\u001b[0m \u001b[31m?\u001b[0m eta \u001b[36m-:--:--\u001b[0m\r",
      "\u001b[2K     \u001b[91m━━━━━\u001b[0m\u001b[90m╺\u001b[0m\u001b[90m━━━━━━━━━━━━━━━━━━━━━━━━━━━━━━━━━━\u001b[0m \u001b[32m92.2/686.1 kB\u001b[0m \u001b[31m2.7 MB/s\u001b[0m eta \u001b[36m0:00:01\u001b[0m\r",
      "\u001b[2K     \u001b[91m━━━━━━━━━━━━━━━━━━\u001b[0m\u001b[91m╸\u001b[0m\u001b[90m━━━━━━━━━━━━━━━━━━━━━\u001b[0m \u001b[32m317.4/686.1 kB\u001b[0m \u001b[31m4.5 MB/s\u001b[0m eta \u001b[36m0:00:01\u001b[0m\r",
      "\u001b[2K     \u001b[91m━━━━━━━━━━━━━━━━━━━━━━━━━━━━━━━━\u001b[0m\u001b[91m╸\u001b[0m\u001b[90m━━━━━━━\u001b[0m \u001b[32m563.2/686.1 kB\u001b[0m \u001b[31m5.3 MB/s\u001b[0m eta \u001b[36m0:00:01\u001b[0m\r",
      "\u001b[2K     \u001b[90m━━━━━━━━━━━━━━━━━━━━━━━━━━━━━━━━━━━━━━━━\u001b[0m \u001b[32m686.1/686.1 kB\u001b[0m \u001b[31m5.1 MB/s\u001b[0m eta \u001b[36m0:00:00\u001b[0m\n",
      "\u001b[?25hRequirement already satisfied: numpy>=1.18.0 in /usr/local/lib/python3.10/dist-packages (from phik) (1.25.2)\n",
      "Requirement already satisfied: scipy>=1.5.2 in /usr/local/lib/python3.10/dist-packages (from phik) (1.11.4)\n",
      "Requirement already satisfied: pandas>=0.25.1 in /usr/local/lib/python3.10/dist-packages (from phik) (1.5.3)\n",
      "Requirement already satisfied: matplotlib>=2.2.3 in /usr/local/lib/python3.10/dist-packages (from phik) (3.7.1)\n",
      "Requirement already satisfied: joblib>=0.14.1 in /usr/local/lib/python3.10/dist-packages (from phik) (1.3.2)\n",
      "Requirement already satisfied: contourpy>=1.0.1 in /usr/local/lib/python3.10/dist-packages (from matplotlib>=2.2.3->phik) (1.2.0)\n",
      "Requirement already satisfied: cycler>=0.10 in /usr/local/lib/python3.10/dist-packages (from matplotlib>=2.2.3->phik) (0.12.1)\n",
      "Requirement already satisfied: fonttools>=4.22.0 in /usr/local/lib/python3.10/dist-packages (from matplotlib>=2.2.3->phik) (4.49.0)\n",
      "Requirement already satisfied: kiwisolver>=1.0.1 in /usr/local/lib/python3.10/dist-packages (from matplotlib>=2.2.3->phik) (1.4.5)\n",
      "Requirement already satisfied: packaging>=20.0 in /usr/local/lib/python3.10/dist-packages (from matplotlib>=2.2.3->phik) (24.0)\n",
      "Requirement already satisfied: pillow>=6.2.0 in /usr/local/lib/python3.10/dist-packages (from matplotlib>=2.2.3->phik) (9.4.0)\n",
      "Requirement already satisfied: pyparsing>=2.3.1 in /usr/local/lib/python3.10/dist-packages (from matplotlib>=2.2.3->phik) (3.1.2)\n",
      "Requirement already satisfied: python-dateutil>=2.7 in /usr/local/lib/python3.10/dist-packages (from matplotlib>=2.2.3->phik) (2.8.2)\n",
      "Requirement already satisfied: pytz>=2020.1 in /usr/local/lib/python3.10/dist-packages (from pandas>=0.25.1->phik) (2023.4)\n",
      "Requirement already satisfied: six>=1.5 in /usr/local/lib/python3.10/dist-packages (from python-dateutil>=2.7->matplotlib>=2.2.3->phik) (1.16.0)\n",
      "Installing collected packages: phik\n",
      "Successfully installed phik-0.12.4\n"
     ]
    }
   ],
   "source": [
    "pip install phik"
   ]
  },
  {
   "cell_type": "code",
   "execution_count": null,
   "metadata": {
    "colab": {
     "base_uri": "https://localhost:8080/",
     "height": 1000
    },
    "id": "a9wADafoG33u",
    "outputId": "9ebad6d8-88d5-4bc4-bfee-5d993c3da176"
   },
   "outputs": [
    {
     "name": "stdout",
     "output_type": "stream",
     "text": [
      "interval columns not set, guessing: ['car_rating', 'year_to_start', 'riders', 'year_to_work', 'target_reg', 'min_rating', 'avg_rating', 'total_distance', 'max_speed', 'speed_variance', 'high_speed_ride_ratio', 'percentage_high_rated_rides', 'rating', 'ride_duration', 'ride_cost', 'speed_avg', 'speed_max', 'stop_times', 'distance', 'refueling', 'user_ride_quality', 'deviation_normal', 'age', 'user_rating', 'sex', 'destroy_degree', 'work_duration']\n",
      "                                model  car_type  fuel_type  car_rating  \\\n",
      "model                        1.000000  1.000000   1.000000    0.249718   \n",
      "car_type                     1.000000  1.000000   0.694427    0.090503   \n",
      "fuel_type                    1.000000  0.694427   1.000000    0.073095   \n",
      "car_rating                   0.249718  0.090503   0.073095    1.000000   \n",
      "year_to_start                0.578220  0.281361   0.025406    0.132854   \n",
      "riders                       0.550906  0.312185   0.057774    0.218532   \n",
      "year_to_work                 0.317306  0.137838   0.054148    0.136937   \n",
      "target_reg                   0.423454  0.229485   0.405376    0.173593   \n",
      "target_class                 0.311372  0.203310   0.050828    0.135708   \n",
      "min_rating                   0.285254  0.102444   0.122980    0.232693   \n",
      "avg_rating                   0.299863  0.129722   0.057953    0.207927   \n",
      "total_distance               0.281252  0.090530   0.095416    0.171688   \n",
      "max_speed                    0.285323  0.131838   0.104178    0.166425   \n",
      "speed_variance               0.293216  0.114708   0.097770    0.176400   \n",
      "high_speed_ride_ratio        0.327009  0.200253   0.061712    0.174874   \n",
      "percentage_high_rated_rides  0.296592  0.143742   0.068302    0.196177   \n",
      "ride_date                    0.011034  0.005247   0.002535    0.005970   \n",
      "rating                       0.039936  0.020456   0.005031    0.027463   \n",
      "ride_duration                0.022645  0.007639   0.008027    0.015845   \n",
      "ride_cost                    0.111772  0.109658   0.069594    0.013879   \n",
      "speed_avg                    0.037538  0.020988   0.008148    0.023814   \n",
      "speed_max                    0.053723  0.032832   0.009621    0.028081   \n",
      "stop_times                   0.080062  0.059660   0.006848    0.034476   \n",
      "distance                     0.020294  0.008247   0.005111    0.013671   \n",
      "refueling                    0.006863  0.002863   0.000206    0.004462   \n",
      "user_ride_quality            0.176093  0.072847   0.032464    0.115716   \n",
      "deviation_normal             0.144249  0.052965   0.042832    0.115756   \n",
      "age                          0.094838  0.060768   0.060821    0.017029   \n",
      "user_rating                  0.261916  0.155162   0.266044    0.024364   \n",
      "sex                          0.048682  0.018750   0.002922    0.010303   \n",
      "destroy_degree               0.067286  0.024690   0.022222    0.038725   \n",
      "work_duration                0.054264  0.023515   0.015674    0.034807   \n",
      "\n",
      "                             year_to_start    riders  year_to_work  \\\n",
      "model                             0.578220  0.550906      0.317306   \n",
      "car_type                          0.281361  0.312185      0.137838   \n",
      "fuel_type                         0.025406  0.057774      0.054148   \n",
      "car_rating                        0.132854  0.218532      0.136937   \n",
      "year_to_start                     1.000000  0.956550      0.100902   \n",
      "riders                            0.956550  1.000000      0.130009   \n",
      "year_to_work                      0.100902  0.130009      1.000000   \n",
      "target_reg                        0.121701  0.186264      0.133136   \n",
      "target_class                      0.112042  0.127224      0.163130   \n",
      "min_rating                        0.107369  0.192783      0.136704   \n",
      "avg_rating                        0.130682  0.213400      0.133864   \n",
      "total_distance                    0.099568  0.175195      0.143952   \n",
      "max_speed                         0.142928  0.217232      0.138605   \n",
      "speed_variance                    0.115193  0.225106      0.145545   \n",
      "high_speed_ride_ratio             0.135794  0.201648      0.140804   \n",
      "percentage_high_rated_rides       0.127081  0.186294      0.128624   \n",
      "ride_date                         0.004822  0.006060      0.006243   \n",
      "rating                            0.014018  0.023941      0.017065   \n",
      "ride_duration                     0.009187  0.014006      0.009653   \n",
      "ride_cost                         0.012817  0.018336      0.013846   \n",
      "speed_avg                         0.012494  0.022161      0.018181   \n",
      "speed_max                         0.022777  0.031597      0.021527   \n",
      "stop_times                        0.017652  0.026219      0.036349   \n",
      "distance                          0.007913  0.014887      0.010816   \n",
      "refueling                         0.002596  0.005231      0.004888   \n",
      "user_ride_quality                 0.063328  0.100785      0.072263   \n",
      "deviation_normal                  0.054374  0.090859      0.069514   \n",
      "age                               0.024745  0.033017      0.018547   \n",
      "user_rating                       0.021926  0.029932      0.021756   \n",
      "sex                               0.010727  0.014797      0.007971   \n",
      "destroy_degree                    0.021693  0.034670      0.026458   \n",
      "work_duration                     0.023654  0.039002      0.026064   \n",
      "\n",
      "                             target_reg  target_class  min_rating  ...  \\\n",
      "model                          0.423454      0.311372    0.285254  ...   \n",
      "car_type                       0.229485      0.203310    0.102444  ...   \n",
      "fuel_type                      0.405376      0.050828    0.122980  ...   \n",
      "car_rating                     0.173593      0.135708    0.232693  ...   \n",
      "year_to_start                  0.121701      0.112042    0.107369  ...   \n",
      "riders                         0.186264      0.127224    0.192783  ...   \n",
      "year_to_work                   0.133136      0.163130    0.136704  ...   \n",
      "target_reg                     1.000000      0.645159    0.202686  ...   \n",
      "target_class                   0.645159      1.000000    0.320609  ...   \n",
      "min_rating                     0.202686      0.320609    1.000000  ...   \n",
      "avg_rating                     0.494160      0.774554    0.452864  ...   \n",
      "total_distance                 0.189497      0.179203    0.167928  ...   \n",
      "max_speed                      0.514984      0.785274    0.321520  ...   \n",
      "speed_variance                 0.290941      0.637441    0.387597  ...   \n",
      "high_speed_ride_ratio          0.540892      0.851051    0.341225  ...   \n",
      "percentage_high_rated_rides    0.468013      0.757252    0.487617  ...   \n",
      "ride_date                      0.005869      0.006455    0.006534  ...   \n",
      "rating                         0.072716      0.209825    0.102898  ...   \n",
      "ride_duration                  0.015057      0.008804    0.015992  ...   \n",
      "ride_cost                      0.032935      0.012461    0.017650  ...   \n",
      "speed_avg                      0.051078      0.174108    0.087035  ...   \n",
      "speed_max                      0.176692      0.307309    0.117600  ...   \n",
      "stop_times                     0.266627      0.376720    0.089610  ...   \n",
      "distance                       0.017333      0.025456    0.016049  ...   \n",
      "refueling                      0.002748      0.004136    0.005357  ...   \n",
      "user_ride_quality              0.110319      0.107336    0.068801  ...   \n",
      "deviation_normal               0.176040      0.299142    0.130616  ...   \n",
      "age                            0.028742      0.042321    0.018341  ...   \n",
      "user_rating                    0.115877      0.135135    0.038935  ...   \n",
      "sex                            0.013157      0.061345    0.009966  ...   \n",
      "destroy_degree                 0.297807      0.319764    0.052153  ...   \n",
      "work_duration                  0.071126      0.104201    0.038868  ...   \n",
      "\n",
      "                             stop_times  distance  refueling  \\\n",
      "model                          0.080062  0.020294   0.006863   \n",
      "car_type                       0.059660  0.008247   0.002863   \n",
      "fuel_type                      0.006848  0.005111   0.000206   \n",
      "car_rating                     0.034476  0.013671   0.004462   \n",
      "year_to_start                  0.017652  0.007913   0.002596   \n",
      "riders                         0.026219  0.014887   0.005231   \n",
      "year_to_work                   0.036349  0.010816   0.004888   \n",
      "target_reg                     0.266627  0.017333   0.002748   \n",
      "target_class                   0.376720  0.025456   0.004136   \n",
      "min_rating                     0.089610  0.016049   0.005357   \n",
      "avg_rating                     0.338291  0.031617   0.004400   \n",
      "total_distance                 0.044165  0.084850   0.003107   \n",
      "max_speed                      0.200009  0.027796   0.005103   \n",
      "speed_variance                 0.237411  0.036805   0.005188   \n",
      "high_speed_ride_ratio          0.292357  0.029869   0.005945   \n",
      "percentage_high_rated_rides    0.334841  0.031410   0.005725   \n",
      "ride_date                      0.044032  0.045092   0.018180   \n",
      "rating                         0.135176  0.026729   0.004786   \n",
      "ride_duration                  0.019373  0.878145   0.021359   \n",
      "ride_cost                      0.036125  0.750381   0.010612   \n",
      "speed_avg                      0.087158  0.201216   0.004498   \n",
      "speed_max                      0.143134  0.084385   0.002353   \n",
      "stop_times                     1.000000  0.015908   0.000502   \n",
      "distance                       0.015908  1.000000   0.011454   \n",
      "refueling                      0.000502  0.011454   1.000000   \n",
      "user_ride_quality              0.031018  0.015906   0.002454   \n",
      "deviation_normal               0.027336  0.014661   0.002451   \n",
      "age                            0.018407  0.012457   0.005541   \n",
      "user_rating                    0.047042  0.014975   0.005256   \n",
      "sex                            0.011416  0.004823   0.003971   \n",
      "destroy_degree                 0.061252  0.003011   0.000000   \n",
      "work_duration                  0.010697  0.001862   0.000000   \n",
      "\n",
      "                             user_ride_quality  deviation_normal       age  \\\n",
      "model                                 0.176093          0.144249  0.094838   \n",
      "car_type                              0.072847          0.052965  0.060768   \n",
      "fuel_type                             0.032464          0.042832  0.060821   \n",
      "car_rating                            0.115716          0.115756  0.017029   \n",
      "year_to_start                         0.063328          0.054374  0.024745   \n",
      "riders                                0.100785          0.090859  0.033017   \n",
      "year_to_work                          0.072263          0.069514  0.018547   \n",
      "target_reg                            0.110319          0.176040  0.028742   \n",
      "target_class                          0.107336          0.299142  0.042321   \n",
      "min_rating                            0.068801          0.130616  0.018341   \n",
      "avg_rating                            0.106417          0.261765  0.035466   \n",
      "total_distance                        0.093386          0.108669  0.015673   \n",
      "max_speed                             0.094747          0.329567  0.022500   \n",
      "speed_variance                        0.103929          0.218585  0.023962   \n",
      "high_speed_ride_ratio                 0.094568          0.359194  0.037115   \n",
      "percentage_high_rated_rides           0.118097          0.255068  0.035399   \n",
      "ride_date                             0.349224          0.177485  0.043582   \n",
      "rating                                0.021125          0.055275  0.014256   \n",
      "ride_duration                         0.014931          0.015166  0.014466   \n",
      "ride_cost                             0.026505          0.017517  0.014866   \n",
      "speed_avg                             0.018666          0.049126  0.016512   \n",
      "speed_max                             0.021023          0.105359  0.013728   \n",
      "stop_times                            0.031018          0.027336  0.018407   \n",
      "distance                              0.015906          0.014661  0.012457   \n",
      "refueling                             0.002454          0.002451  0.005541   \n",
      "user_ride_quality                     1.000000          0.109569  0.015047   \n",
      "deviation_normal                      0.109569          1.000000  0.017787   \n",
      "age                                   0.015047          0.017787  1.000000   \n",
      "user_rating                           0.016794          0.034559  0.154387   \n",
      "sex                                   0.007691          0.004920  0.938632   \n",
      "destroy_degree                        0.027412          0.095629  0.005599   \n",
      "work_duration                         0.016760          0.021367  0.003554   \n",
      "\n",
      "                             user_rating       sex  destroy_degree  \\\n",
      "model                           0.261916  0.048682        0.067286   \n",
      "car_type                        0.155162  0.018750        0.024690   \n",
      "fuel_type                       0.266044  0.002922        0.022222   \n",
      "car_rating                      0.024364  0.010303        0.038725   \n",
      "year_to_start                   0.021926  0.010727        0.021693   \n",
      "riders                          0.029932  0.014797        0.034670   \n",
      "year_to_work                    0.021756  0.007971        0.026458   \n",
      "target_reg                      0.115877  0.013157        0.297807   \n",
      "target_class                    0.135135  0.061345        0.319764   \n",
      "min_rating                      0.038935  0.009966        0.052153   \n",
      "avg_rating                      0.070930  0.041347        0.107367   \n",
      "total_distance                  0.029888  0.009320        0.042632   \n",
      "max_speed                       0.105715  0.017114        0.222967   \n",
      "speed_variance                  0.036609  0.022909        0.050536   \n",
      "high_speed_ride_ratio           0.131263  0.035110        0.236688   \n",
      "percentage_high_rated_rides     0.074640  0.043080        0.107149   \n",
      "ride_date                       0.044331  0.019206        0.000000   \n",
      "rating                          0.016855  0.009677        0.018537   \n",
      "ride_duration                   0.013127  0.005141        0.001699   \n",
      "ride_cost                       0.019848  0.004885        0.002209   \n",
      "speed_avg                       0.016424  0.004827        0.008616   \n",
      "speed_max                       0.021403  0.006494        0.040359   \n",
      "stop_times                      0.047042  0.011416        0.061252   \n",
      "distance                        0.014975  0.004823        0.003011   \n",
      "refueling                       0.005256  0.003971        0.000000   \n",
      "user_ride_quality               0.016794  0.007691        0.027412   \n",
      "deviation_normal                0.034559  0.004920        0.095629   \n",
      "age                             0.154387  0.938632        0.005599   \n",
      "user_rating                     1.000000  0.202940        0.018806   \n",
      "sex                             0.202940  1.000000        0.008279   \n",
      "destroy_degree                  0.018806  0.008279        1.000000   \n",
      "work_duration                   0.005177  0.005512        0.896363   \n",
      "\n",
      "                             work_duration  \n",
      "model                             0.054264  \n",
      "car_type                          0.023515  \n",
      "fuel_type                         0.015674  \n",
      "car_rating                        0.034807  \n",
      "year_to_start                     0.023654  \n",
      "riders                            0.039002  \n",
      "year_to_work                      0.026064  \n",
      "target_reg                        0.071126  \n",
      "target_class                      0.104201  \n",
      "min_rating                        0.038868  \n",
      "avg_rating                        0.043937  \n",
      "total_distance                    0.040912  \n",
      "max_speed                         0.056157  \n",
      "speed_variance                    0.060396  \n",
      "high_speed_ride_ratio             0.065596  \n",
      "percentage_high_rated_rides       0.046919  \n",
      "ride_date                         0.000000  \n",
      "rating                            0.017535  \n",
      "ride_duration                     0.000419  \n",
      "ride_cost                         0.001230  \n",
      "speed_avg                         0.011099  \n",
      "speed_max                         0.011175  \n",
      "stop_times                        0.010697  \n",
      "distance                          0.001862  \n",
      "refueling                         0.000000  \n",
      "user_ride_quality                 0.016760  \n",
      "deviation_normal                  0.021367  \n",
      "age                               0.003554  \n",
      "user_rating                       0.005177  \n",
      "sex                               0.005512  \n",
      "destroy_degree                    0.896363  \n",
      "work_duration                     1.000000  \n",
      "\n",
      "[32 rows x 32 columns]\n"
     ]
    },
    {
     "data": {
      "image/png": "[encoded data removed]",
      "text/plain": [
       "<Figure size 1200x1000 with 2 Axes>"
      ]
     },
     "metadata": {},
     "output_type": "display_data"
    }
   ],
   "source": [
    "import pandas as pd\n",
    "import phik\n",
    "from phik import resources, report\n",
    "import seaborn as sns\n",
    "import matplotlib.pyplot as plt\n",
    "\n",
    "# Исключаем столбец 'fix_date' из анализа, так как код выдавал предупреждение, что там слишком много уникальных значений\n",
    "final_df_filtered = final_df.drop(columns=['fix_date'])\n",
    "\n",
    "# Вычисляем корреляцию Phik для отфильтрованного DataFrame\n",
    "phik_matrix = final_df_filtered.phik_matrix()\n",
    "\n",
    "# Отображение корреляционной матрицы Phik\n",
    "print(phik_matrix)\n",
    "\n",
    "# Визуализация корреляционной матрицы с использованием seaborn\n",
    "plt.figure(figsize=(12, 10))\n",
    "sns.heatmap(phik_matrix, annot=True, fmt=\".2f\", cmap=\"viridis\")\n",
    "plt.title(\"Phik Correlation Matrix\")\n",
    "plt.show()"
   ]
  },
  {
   "cell_type": "markdown",
   "metadata": {
    "id": "98uwLNAzs50s"
   },
   "source": [
    "Хороший, наглядный вариант для всего пространства признаков. Видно, что результаты схожи в результатами от линейной корреляции. Видна сильная корреляция, например, между ride_duration и distance, между ride_cost и distance. При этом выявились и новые корреляции: например, target_reg и high_speed_ratio или target_reg и percentage_high_rated_rides"
   ]
  },
  {
   "cell_type": "markdown",
   "metadata": {
    "id": "7TGV9rrCvCs4"
   },
   "source": [
    "#CatBoost Feature Selection"
   ]
  },
  {
   "cell_type": "code",
   "execution_count": null,
   "metadata": {
    "colab": {
     "base_uri": "https://localhost:8080/"
    },
    "id": "N6ttBYEyvbja",
    "outputId": "b0189359-67ac-40aa-df13-a4cc777fd297"
   },
   "outputs": [
    {
     "name": "stdout",
     "output_type": "stream",
     "text": [
      "Collecting catboost\n",
      "  Downloading catboost-1.2.3-cp310-cp310-manylinux2014_x86_64.whl (98.5 MB)\n",
      "\u001b[2K     \u001b[90m━━━━━━━━━━━━━━━━━━━━━━━━━━━━━━━━━━━━━━━━\u001b[0m \u001b[32m98.5/98.5 MB\u001b[0m \u001b[31m13.9 MB/s\u001b[0m eta \u001b[36m0:00:00\u001b[0m\n",
      "\u001b[?25hRequirement already satisfied: graphviz in /usr/local/lib/python3.10/dist-packages (from catboost) (0.20.1)\n",
      "Requirement already satisfied: matplotlib in /usr/local/lib/python3.10/dist-packages (from catboost) (3.7.1)\n",
      "Requirement already satisfied: numpy>=1.16.0 in /usr/local/lib/python3.10/dist-packages (from catboost) (1.25.2)\n",
      "Requirement already satisfied: pandas>=0.24 in /usr/local/lib/python3.10/dist-packages (from catboost) (1.5.3)\n",
      "Requirement already satisfied: scipy in /usr/local/lib/python3.10/dist-packages (from catboost) (1.11.4)\n",
      "Requirement already satisfied: plotly in /usr/local/lib/python3.10/dist-packages (from catboost) (5.15.0)\n",
      "Requirement already satisfied: six in /usr/local/lib/python3.10/dist-packages (from catboost) (1.16.0)\n",
      "Requirement already satisfied: python-dateutil>=2.8.1 in /usr/local/lib/python3.10/dist-packages (from pandas>=0.24->catboost) (2.8.2)\n",
      "Requirement already satisfied: pytz>=2020.1 in /usr/local/lib/python3.10/dist-packages (from pandas>=0.24->catboost) (2023.4)\n",
      "Requirement already satisfied: contourpy>=1.0.1 in /usr/local/lib/python3.10/dist-packages (from matplotlib->catboost) (1.2.0)\n",
      "Requirement already satisfied: cycler>=0.10 in /usr/local/lib/python3.10/dist-packages (from matplotlib->catboost) (0.12.1)\n",
      "Requirement already satisfied: fonttools>=4.22.0 in /usr/local/lib/python3.10/dist-packages (from matplotlib->catboost) (4.49.0)\n",
      "Requirement already satisfied: kiwisolver>=1.0.1 in /usr/local/lib/python3.10/dist-packages (from matplotlib->catboost) (1.4.5)\n",
      "Requirement already satisfied: packaging>=20.0 in /usr/local/lib/python3.10/dist-packages (from matplotlib->catboost) (24.0)\n",
      "Requirement already satisfied: pillow>=6.2.0 in /usr/local/lib/python3.10/dist-packages (from matplotlib->catboost) (9.4.0)\n",
      "Requirement already satisfied: pyparsing>=2.3.1 in /usr/local/lib/python3.10/dist-packages (from matplotlib->catboost) (3.1.2)\n",
      "Requirement already satisfied: tenacity>=6.2.0 in /usr/local/lib/python3.10/dist-packages (from plotly->catboost) (8.2.3)\n",
      "Installing collected packages: catboost\n",
      "Successfully installed catboost-1.2.3\n"
     ]
    }
   ],
   "source": [
    " pip install catboost"
   ]
  },
  {
   "cell_type": "code",
   "execution_count": null,
   "metadata": {
    "colab": {
     "base_uri": "https://localhost:8080/"
    },
    "id": "ru3cjw7FMzq2",
    "outputId": "d87d8b5c-55eb-481c-d4eb-fc252e1352ef"
   },
   "outputs": [
    {
     "name": "stdout",
     "output_type": "stream",
     "text": [
      "0:\tlearn: 16.1287224\ttest: 16.1355047\tbest: 16.1355047 (0)\ttotal: 18.6s\tremaining: 5h 9m 48s\n",
      "200:\tlearn: 1.2232894\ttest: 1.1862867\tbest: 1.1862867 (200)\ttotal: 34m 52s\tremaining: 2h 18m 36s\n",
      "400:\tlearn: 0.5182369\ttest: 0.4526164\tbest: 0.4526164 (400)\ttotal: 1h 9m 43s\tremaining: 1h 44m 9s\n",
      "600:\tlearn: 0.3301337\ttest: 0.2734171\tbest: 0.2734171 (600)\ttotal: 1h 46m 20s\tremaining: 1h 10m 35s\n",
      "800:\tlearn: 0.2471594\ttest: 0.2065028\tbest: 0.2065028 (800)\ttotal: 2h 24m 3s\tremaining: 35m 47s\n",
      "999:\tlearn: 0.2048811\ttest: 0.1721659\tbest: 0.1721659 (999)\ttotal: 3h 3m 44s\tremaining: 0us\n",
      "\n",
      "bestTest = 0.1721659002\n",
      "bestIteration = 999\n",
      "\n",
      "                        feature  importance\n",
      "7                  target_class   18.768006\n",
      "10               total_distance    9.564335\n",
      "12               speed_variance    9.389338\n",
      "13        high_speed_ride_ratio    8.450156\n",
      "5                        riders    8.137749\n",
      "3                    car_rating    7.778853\n",
      "14  percentage_high_rated_rides    6.273457\n",
      "0                         model    5.671020\n",
      "6                  year_to_work    5.076936\n",
      "9                    avg_rating    5.005835\n",
      "11                    max_speed    5.002161\n",
      "29                     fix_date    4.446623\n",
      "1                      car_type    1.804475\n",
      "2                     fuel_type    1.511300\n",
      "15                    ride_date    1.263131\n",
      "8                    min_rating    1.184139\n",
      "30               destroy_degree    0.446141\n",
      "24            user_ride_quality    0.111115\n",
      "4                 year_to_start    0.055624\n",
      "25             deviation_normal    0.038030\n",
      "31                work_duration    0.021463\n",
      "16                       rating    0.000039\n",
      "22                     distance    0.000023\n",
      "20                    speed_max    0.000018\n",
      "19                    speed_avg    0.000009\n",
      "27                  user_rating    0.000009\n",
      "18                    ride_cost    0.000007\n",
      "26                          age    0.000004\n",
      "21                   stop_times    0.000003\n",
      "23                    refueling    0.000000\n",
      "28                          sex    0.000000\n",
      "17                ride_duration    0.000000\n"
     ]
    }
   ],
   "source": [
    "from catboost import CatBoostRegressor, Pool\n",
    "from sklearn.model_selection import train_test_split\n",
    "\n",
    "y = final_df['target_reg']\n",
    "X = final_df.drop(columns=['target_reg'])\n",
    "\n",
    "categorical_features = ['model', 'car_type', 'fuel_type', 'target_class', 'ride_date', 'fix_date']\n",
    "\n",
    "# Разделение данных на обучающую и тестовую выборки\n",
    "X_train, X_test, y_train, y_test = train_test_split(X, y, test_size=0.2, random_state=42)\n",
    "\n",
    "# Создание объектов Pool, указывая категориальные признаки\n",
    "train_pool = Pool(X_train, y_train, cat_features=categorical_features)\n",
    "test_pool = Pool(X_test, y_test, cat_features=categorical_features)\n",
    "\n",
    "# Инициализация и обучение модели CatBoost\n",
    "model = CatBoostRegressor(\n",
    "    iterations=1000,\n",
    "    learning_rate=0.1,\n",
    "    depth=10,\n",
    "    loss_function='RMSE',\n",
    "    eval_metric='RMSE',\n",
    "    cat_features=categorical_features,\n",
    "    verbose=200,\n",
    "    random_seed=42\n",
    ")\n",
    "\n",
    "model.fit(train_pool, eval_set=test_pool, use_best_model=True)\n",
    "\n",
    "# Оценка важности признаков\n",
    "feature_importances = model.get_feature_importance()\n",
    "feature_names = X_train.columns\n",
    "importance_df = pd.DataFrame({'feature': feature_names, 'importance': feature_importances}).sort_values(by='importance', ascending=False)\n",
    "\n",
    "print(importance_df)"
   ]
  },
  {
   "cell_type": "code",
   "execution_count": null,
   "metadata": {
    "id": "aNicL6yVM1mM"
   },
   "outputs": [],
   "source": []
  },
  {
   "cell_type": "markdown",
   "metadata": {
    "id": "zKG4JdOLySEr"
   },
   "source": [
    "Этот код демонстрирует процесс обучения и оценки модели регрессии с использованием библиотеки CatBoost, а также анализ важности признаков для прогнозируемой переменной (target_reg - количество дней до поломки, так как для нашей задачи это крайне важная информация).\n",
    "\n",
    "После обучения модели можно получить важность каждого признака для target_reg. Это позволяет понять, какие признаки вносят наибольший вклад в прогноз и могут быть использованы для интерпретации модели.\n",
    "\n",
    "Интересный вывод: после типа поломки (target_class) наибольшее влияние пройденное расстояние (total_distance). Это выглядит логичным и подтверждает интуитивные выводы, что ломаться машина должна чем чаще, чем больше она проехала. При этом мои новые признаки также значимы для таргета - speed_variance, high_speed_ride_ratio и percentage_high_rated_rides."
   ]
  },
  {
   "cell_type": "markdown",
   "metadata": {
    "id": "G8hTYmf0zsyH"
   },
   "source": [
    "#**Общие выводы по второй части**"
   ]
  },
  {
   "cell_type": "markdown",
   "metadata": {
    "id": "ulGX_KyR0EC7"
   },
   "source": [
    "Итак, я использовала три метода фильтрации: линейная корреляция, phik и catboost feature selection. Все три метода хорошо дополняют друг друга и мне стало понятнее, что из себя представляют мои признаки в данных.\n",
    "\n",
    "**Выводы после линейной корреляции**\n",
    "1. riders и year_to_start: логичная корреляция - чем старше машина, тем больше поездок было совершено\n",
    "\n",
    "2. high_speed_ride_ratio и max_speed: интересная находка, получается, что максимальная скорость коррелирует с долей поездок с максимальной скоростью более 100 км/ч\n",
    "\n",
    "3. percentage_high_rated_rides и avg_rating: логичная корреляция\n",
    "\n",
    "4. Три связанных между собой признака с тесной корреляцией (что тоже понятно, стоимость, время и расстояние каждой поездки должны быть связаны):\n",
    "\n",
    "ride_cost и ride_duration: 0.9150797040991698\n",
    "distance и ride_duration: 0.9645640740722876\n",
    "distance и ride_cost: 0.8830040465323358\n",
    "\n",
    "**Выводы после phik**\n",
    "Видна сильная корреляция, например, между ride_duration и distance, между ride_cost и distance. При этом выявились и новые корреляции: например, target_reg и high_speed_ratio или target_reg и percentage_high_rated_rides\n",
    "\n",
    "**Выводы после CatBoost**\n",
    "Интересный вывод: после типа поломки (target_class) наибольшее влияние пройденное расстояние (total_distance). Это выглядит логичным и подтверждает интуитивные выводы, что ломаться машина должна чем чаще, чем больше она проехала. При этом мои новые признаки также значимы для таргета - speed_variance, high_speed_ride_ratio и percentage_high_rated_rides.\n",
    "\n",
    "**Преобразования:**\n",
    "Теперь мне наглядно видно, какие признаки будут мне только мешать (в плане качества модели, и в плане памяти).\n",
    "\n",
    "Удалю: 'rating', 'speed_avg', 'age', 'ride_cost', 'distance', 'ride_duration', 'speed_max', 'user rating', 'sex', 'stop_times', 'refueling'.\n"
   ]
  },
  {
   "cell_type": "code",
   "execution_count": 16,
   "metadata": {
    "id": "lUvZWxhxzq_S"
   },
   "outputs": [],
   "source": [
    "final_df.drop(columns=['user_rating', 'speed_avg', 'age', 'ride_cost', 'distance', 'ride_duration', 'speed_max', 'rating', 'sex', 'stop_times', 'refueling'], inplace=True)"
   ]
  },
  {
   "cell_type": "code",
   "execution_count": 17,
   "metadata": {
    "colab": {
     "base_uri": "https://localhost:8080/"
    },
    "id": "HH6bnQ3k8Sd7",
    "outputId": "3c1752ec-3aa2-4ca0-e576-38599d61ec21"
   },
   "outputs": [
    {
     "data": {
      "text/plain": [
       "Index(['model', 'car_type', 'fuel_type', 'car_rating', 'year_to_start',\n",
       "       'riders', 'year_to_work', 'target_reg', 'target_class', 'min_rating',\n",
       "       'avg_rating', 'total_distance', 'max_speed', 'speed_variance',\n",
       "       'high_speed_ride_ratio', 'percentage_high_rated_rides', 'ride_date',\n",
       "       'user_ride_quality', 'deviation_normal', 'fix_date', 'destroy_degree',\n",
       "       'work_duration'],\n",
       "      dtype='object')"
      ]
     },
     "execution_count": 17,
     "metadata": {},
     "output_type": "execute_result"
    }
   ],
   "source": [
    "final_df.columns"
   ]
  },
  {
   "cell_type": "code",
   "execution_count": 18,
   "metadata": {
    "colab": {
     "base_uri": "https://localhost:8080/",
     "height": 165
    },
    "id": "q3Y6avuM8WC4",
    "outputId": "f0b29f83-852d-4119-b274-00213986dde9"
   },
   "outputs": [
    {
     "data": {
      "application/vnd.google.colaboratory.intrinsic+json": {
       "type": "dataframe",
       "variable_name": "final_df"
      },
      "text/html": [
       "\n",
       "  <div id=\"df-a5efbe1a-e42e-4303-b346-9db4aab2da04\" class=\"colab-df-container\">\n",
       "    <div>\n",
       "<style scoped>\n",
       "    .dataframe tbody tr th:only-of-type {\n",
       "        vertical-align: middle;\n",
       "    }\n",
       "\n",
       "    .dataframe tbody tr th {\n",
       "        vertical-align: top;\n",
       "    }\n",
       "\n",
       "    .dataframe thead th {\n",
       "        text-align: right;\n",
       "    }\n",
       "</style>\n",
       "<table border=\"1\" class=\"dataframe\">\n",
       "  <thead>\n",
       "    <tr style=\"text-align: right;\">\n",
       "      <th></th>\n",
       "      <th>model</th>\n",
       "      <th>car_type</th>\n",
       "      <th>fuel_type</th>\n",
       "      <th>car_rating</th>\n",
       "      <th>year_to_start</th>\n",
       "      <th>riders</th>\n",
       "      <th>year_to_work</th>\n",
       "      <th>target_reg</th>\n",
       "      <th>target_class</th>\n",
       "      <th>min_rating</th>\n",
       "      <th>...</th>\n",
       "      <th>max_speed</th>\n",
       "      <th>speed_variance</th>\n",
       "      <th>high_speed_ride_ratio</th>\n",
       "      <th>percentage_high_rated_rides</th>\n",
       "      <th>ride_date</th>\n",
       "      <th>user_ride_quality</th>\n",
       "      <th>deviation_normal</th>\n",
       "      <th>fix_date</th>\n",
       "      <th>destroy_degree</th>\n",
       "      <th>work_duration</th>\n",
       "    </tr>\n",
       "  </thead>\n",
       "  <tbody>\n",
       "    <tr>\n",
       "      <th>0</th>\n",
       "      <td>Kia Rio X-line</td>\n",
       "      <td>economy</td>\n",
       "      <td>petrol</td>\n",
       "      <td>3.78</td>\n",
       "      <td>2015</td>\n",
       "      <td>76163</td>\n",
       "      <td>2021</td>\n",
       "      <td>108.53</td>\n",
       "      <td>another_bug</td>\n",
       "      <td>0.1</td>\n",
       "      <td>...</td>\n",
       "      <td>180.855726</td>\n",
       "      <td>94.803435</td>\n",
       "      <td>0.264368</td>\n",
       "      <td>64.367816</td>\n",
       "      <td>2020-01-01</td>\n",
       "      <td>0.52475</td>\n",
       "      <td>0.0</td>\n",
       "      <td>2019-8-10 9:29</td>\n",
       "      <td>1.0</td>\n",
       "      <td>28</td>\n",
       "    </tr>\n",
       "  </tbody>\n",
       "</table>\n",
       "<p>1 rows × 22 columns</p>\n",
       "</div>\n",
       "    <div class=\"colab-df-buttons\">\n",
       "\n",
       "  <div class=\"colab-df-container\">\n",
       "    <button class=\"colab-df-convert\" onclick=\"convertToInteractive('df-a5efbe1a-e42e-4303-b346-9db4aab2da04')\"\n",
       "            title=\"Convert this dataframe to an interactive table.\"\n",
       "            style=\"display:none;\">\n",
       "\n",
       "  <svg xmlns=\"http://www.w3.org/2000/svg\" height=\"24px\" viewBox=\"0 -960 960 960\">\n",
       "    <path d=\"M120-120v-720h720v720H120Zm60-500h600v-160H180v160Zm220 220h160v-160H400v160Zm0 220h160v-160H400v160ZM180-400h160v-160H180v160Zm440 0h160v-160H620v160ZM180-180h160v-160H180v160Zm440 0h160v-160H620v160Z\"/>\n",
       "  </svg>\n",
       "    </button>\n",
       "\n",
       "  <style>\n",
       "    .colab-df-container {\n",
       "      display:flex;\n",
       "      gap: 12px;\n",
       "    }\n",
       "\n",
       "    .colab-df-convert {\n",
       "      background-color: #E8F0FE;\n",
       "      border: none;\n",
       "      border-radius: 50%;\n",
       "      cursor: pointer;\n",
       "      display: none;\n",
       "      fill: #1967D2;\n",
       "      height: 32px;\n",
       "      padding: 0 0 0 0;\n",
       "      width: 32px;\n",
       "    }\n",
       "\n",
       "    .colab-df-convert:hover {\n",
       "      background-color: #E2EBFA;\n",
       "      box-shadow: 0px 1px 2px rgba(60, 64, 67, 0.3), 0px 1px 3px 1px rgba(60, 64, 67, 0.15);\n",
       "      fill: #174EA6;\n",
       "    }\n",
       "\n",
       "    .colab-df-buttons div {\n",
       "      margin-bottom: 4px;\n",
       "    }\n",
       "\n",
       "    [theme=dark] .colab-df-convert {\n",
       "      background-color: #3B4455;\n",
       "      fill: #D2E3FC;\n",
       "    }\n",
       "\n",
       "    [theme=dark] .colab-df-convert:hover {\n",
       "      background-color: #434B5C;\n",
       "      box-shadow: 0px 1px 3px 1px rgba(0, 0, 0, 0.15);\n",
       "      filter: drop-shadow(0px 1px 2px rgba(0, 0, 0, 0.3));\n",
       "      fill: #FFFFFF;\n",
       "    }\n",
       "  </style>\n",
       "\n",
       "    <script>\n",
       "      const buttonEl =\n",
       "        document.querySelector('#df-a5efbe1a-e42e-4303-b346-9db4aab2da04 button.colab-df-convert');\n",
       "      buttonEl.style.display =\n",
       "        google.colab.kernel.accessAllowed ? 'block' : 'none';\n",
       "\n",
       "      async function convertToInteractive(key) {\n",
       "        const element = document.querySelector('#df-a5efbe1a-e42e-4303-b346-9db4aab2da04');\n",
       "        const dataTable =\n",
       "          await google.colab.kernel.invokeFunction('convertToInteractive',\n",
       "                                                    [key], {});\n",
       "        if (!dataTable) return;\n",
       "\n",
       "        const docLinkHtml = 'Like what you see? Visit the ' +\n",
       "          '<a target=\"_blank\" href=https://colab.research.google.com/notebooks/data_table.ipynb>data table notebook</a>'\n",
       "          + ' to learn more about interactive tables.';\n",
       "        element.innerHTML = '';\n",
       "        dataTable['output_type'] = 'display_data';\n",
       "        await google.colab.output.renderOutput(dataTable, element);\n",
       "        const docLink = document.createElement('div');\n",
       "        docLink.innerHTML = docLinkHtml;\n",
       "        element.appendChild(docLink);\n",
       "      }\n",
       "    </script>\n",
       "  </div>\n",
       "\n",
       "    </div>\n",
       "  </div>\n"
      ],
      "text/plain": [
       "            model car_type fuel_type  car_rating  year_to_start  riders  \\\n",
       "0  Kia Rio X-line  economy    petrol        3.78           2015   76163   \n",
       "\n",
       "   year_to_work  target_reg target_class  min_rating  ...   max_speed  \\\n",
       "0          2021      108.53  another_bug         0.1  ...  180.855726   \n",
       "\n",
       "   speed_variance  high_speed_ride_ratio  percentage_high_rated_rides  \\\n",
       "0       94.803435               0.264368                    64.367816   \n",
       "\n",
       "    ride_date  user_ride_quality deviation_normal        fix_date  \\\n",
       "0  2020-01-01            0.52475              0.0  2019-8-10 9:29   \n",
       "\n",
       "   destroy_degree work_duration  \n",
       "0             1.0            28  \n",
       "\n",
       "[1 rows x 22 columns]"
      ]
     },
     "execution_count": 18,
     "metadata": {},
     "output_type": "execute_result"
    }
   ],
   "source": [
    "final_df.head(1)"
   ]
  },
  {
   "cell_type": "markdown",
   "metadata": {
    "id": "iSjuXdlcbuhx"
   },
   "source": [
    "# Домашнее задание 2. Прогноз времени и вида поломки машин. Настройка ML-модели"
   ]
  },
  {
   "cell_type": "markdown",
   "metadata": {
    "id": "2qoVlxvUbuhx"
   },
   "source": [
    "<div class=\"alert alert-info\">\n",
    "\n",
    "**Цель блока** — составить тренировочную и валидационную выборки, произвести обучение модели `CatBoostClassifier` на тренировочной части и оценить качество на валидационной."
   ]
  },
  {
   "cell_type": "markdown",
   "metadata": {
    "id": "OfqcanLLbuhx"
   },
   "source": [
    "##Обучение первой модели (5 баллов)\n",
    "\n",
    "1.   Новый пункт\n",
    "2.   Новый пункт\n",
    "\n"
   ]
  },
  {
   "cell_type": "markdown",
   "metadata": {
    "id": "ZXhXYJt6buhx"
   },
   "source": [
    "1. Классифицируйте признаки на типы (категориальные, числовые, таргеты).\n",
    "\n",
    "2. Выделите в `X` только признаки, а в `Y` — таргет (для задачи классификации).\n",
    "\n",
    "3. Сделайте разделение данных на *обучающую* и *валидационную* выборки (не забывайте про воспроизводимость результатов).\n",
    "\n",
    "4. Создайте и обучите `CatBoostClassifier` модель (настраивать гиперпараметры сейчас не обязательно).\n",
    "\n",
    "5. Проведите оценку вашей модели, используя метрику `accuracy`.\n",
    "\n",
    "\n",
    "<h4> Критерии оценивания </h4>\n",
    "    \n",
    "- По 1 баллу за каждый корректно выполненный пункт.\n",
    "\n",
    "</div>"
   ]
  },
  {
   "cell_type": "code",
   "execution_count": 19,
   "metadata": {
    "colab": {
     "base_uri": "https://localhost:8080/"
    },
    "id": "DYrSzKUQVY6t",
    "outputId": "4555c234-0a7a-49a2-b622-6e8fc742dced"
   },
   "outputs": [
    {
     "name": "stdout",
     "output_type": "stream",
     "text": [
      "Requirement already satisfied: catboost in /usr/local/lib/python3.10/dist-packages (1.2.3)\n",
      "Requirement already satisfied: graphviz in /usr/local/lib/python3.10/dist-packages (from catboost) (0.20.1)\n",
      "Requirement already satisfied: matplotlib in /usr/local/lib/python3.10/dist-packages (from catboost) (3.7.1)\n",
      "Requirement already satisfied: numpy>=1.16.0 in /usr/local/lib/python3.10/dist-packages (from catboost) (1.25.2)\n",
      "Requirement already satisfied: pandas>=0.24 in /usr/local/lib/python3.10/dist-packages (from catboost) (1.5.3)\n",
      "Requirement already satisfied: scipy in /usr/local/lib/python3.10/dist-packages (from catboost) (1.11.4)\n",
      "Requirement already satisfied: plotly in /usr/local/lib/python3.10/dist-packages (from catboost) (5.15.0)\n",
      "Requirement already satisfied: six in /usr/local/lib/python3.10/dist-packages (from catboost) (1.16.0)\n",
      "Requirement already satisfied: python-dateutil>=2.8.1 in /usr/local/lib/python3.10/dist-packages (from pandas>=0.24->catboost) (2.8.2)\n",
      "Requirement already satisfied: pytz>=2020.1 in /usr/local/lib/python3.10/dist-packages (from pandas>=0.24->catboost) (2023.4)\n",
      "Requirement already satisfied: contourpy>=1.0.1 in /usr/local/lib/python3.10/dist-packages (from matplotlib->catboost) (1.2.0)\n",
      "Requirement already satisfied: cycler>=0.10 in /usr/local/lib/python3.10/dist-packages (from matplotlib->catboost) (0.12.1)\n",
      "Requirement already satisfied: fonttools>=4.22.0 in /usr/local/lib/python3.10/dist-packages (from matplotlib->catboost) (4.49.0)\n",
      "Requirement already satisfied: kiwisolver>=1.0.1 in /usr/local/lib/python3.10/dist-packages (from matplotlib->catboost) (1.4.5)\n",
      "Requirement already satisfied: packaging>=20.0 in /usr/local/lib/python3.10/dist-packages (from matplotlib->catboost) (24.0)\n",
      "Requirement already satisfied: pillow>=6.2.0 in /usr/local/lib/python3.10/dist-packages (from matplotlib->catboost) (9.4.0)\n",
      "Requirement already satisfied: pyparsing>=2.3.1 in /usr/local/lib/python3.10/dist-packages (from matplotlib->catboost) (3.1.2)\n",
      "Requirement already satisfied: tenacity>=6.2.0 in /usr/local/lib/python3.10/dist-packages (from plotly->catboost) (8.2.3)\n"
     ]
    }
   ],
   "source": [
    "pip install catboost"
   ]
  },
  {
   "cell_type": "code",
   "execution_count": 19,
   "metadata": {
    "id": "klrOFoVpbuhx"
   },
   "outputs": [],
   "source": [
    "from catboost import CatBoostClassifier\n",
    "from sklearn.model_selection import train_test_split\n",
    "from sklearn.metrics import accuracy_score"
   ]
  },
  {
   "cell_type": "code",
   "execution_count": null,
   "metadata": {
    "id": "lqwlTU2gbuhz"
   },
   "outputs": [],
   "source": [
    "features2drop = [...] # то, что надо выбросить\n",
    "targets = [...] # таргеты\n",
    "cat_features = [...] # категориальные признаки\n",
    "\n",
    "num_features = [...] # числовые признаки\n",
    "\n",
    "print('Категориальные признаки:', len(cat_features), cat_features)\n",
    "print('Числовые признаки:', len(num_features), num_features)\n",
    "print('Целевые переменные', targets)"
   ]
  },
  {
   "cell_type": "code",
   "execution_count": 20,
   "metadata": {
    "colab": {
     "base_uri": "https://localhost:8080/"
    },
    "id": "L0URFSJUXRb0",
    "outputId": "ef165dfc-39e2-4899-ed09-e176e7907451"
   },
   "outputs": [
    {
     "name": "stdout",
     "output_type": "stream",
     "text": [
      "Категориальные признаки: ['model', 'car_type', 'fuel_type', 'ride_date', 'fix_date']\n",
      "Числовые признаки: ['car_rating', 'year_to_start', 'riders', 'year_to_work', 'target_reg', 'min_rating', 'avg_rating', 'total_distance', 'max_speed', 'speed_variance', 'high_speed_ride_ratio', 'percentage_high_rated_rides', 'user_ride_quality', 'deviation_normal', 'destroy_degree', 'work_duration']\n",
      "Целевые признаки: ['target_class']\n"
     ]
    }
   ],
   "source": [
    "# Определение типов признаков\n",
    "def classify_features(df):\n",
    "    categorical_features = []\n",
    "    numerical_features = []\n",
    "    target_features = ['target_class']  # Указываем названия таргетов\n",
    "\n",
    "    for column in df.columns:\n",
    "        # Классификация таргетов\n",
    "        if column in target_features:\n",
    "            continue  # Таргеты уже классифицированы\n",
    "\n",
    "        # Определение категориальных и числовых признаков\n",
    "        if df[column].dtype == 'object':\n",
    "            categorical_features.append(column)\n",
    "        else:\n",
    "            # В противном случае считаем признак числовым\n",
    "            numerical_features.append(column)\n",
    "\n",
    "    return categorical_features, numerical_features, target_features\n",
    "\n",
    "categorical_features, numerical_features, target_features = classify_features(final_df)\n",
    "\n",
    "print(\"Категориальные признаки:\", categorical_features)\n",
    "print(\"Числовые признаки:\", numerical_features)\n",
    "print(\"Целевые признаки:\", target_features)"
   ]
  },
  {
   "cell_type": "code",
   "execution_count": 31,
   "metadata": {
    "colab": {
     "base_uri": "https://localhost:8080/"
    },
    "id": "va1FFsWocWyt",
    "outputId": "6a829a26-1bc0-4666-aa49-bf772ae285ce"
   },
   "outputs": [
    {
     "name": "stdout",
     "output_type": "stream",
     "text": [
      "<class 'pandas.core.frame.DataFrame'>\n",
      "Int64Index: 13970460 entries, 0 to 13970459\n",
      "Data columns (total 22 columns):\n",
      " #   Column                       Dtype  \n",
      "---  ------                       -----  \n",
      " 0   model                        object \n",
      " 1   car_type                     object \n",
      " 2   fuel_type                    object \n",
      " 3   car_rating                   float64\n",
      " 4   year_to_start                int64  \n",
      " 5   riders                       int64  \n",
      " 6   year_to_work                 int64  \n",
      " 7   target_reg                   float64\n",
      " 8   target_class                 object \n",
      " 9   min_rating                   float64\n",
      " 10  avg_rating                   float64\n",
      " 11  total_distance               float64\n",
      " 12  max_speed                    float64\n",
      " 13  speed_variance               float64\n",
      " 14  high_speed_ride_ratio        float64\n",
      " 15  percentage_high_rated_rides  float64\n",
      " 16  ride_date                    object \n",
      " 17  user_ride_quality            float64\n",
      " 18  deviation_normal             float64\n",
      " 19  fix_date                     object \n",
      " 20  destroy_degree               float64\n",
      " 21  work_duration                int64  \n",
      "dtypes: float64(12), int64(4), object(6)\n",
      "memory usage: 2.4+ GB\n"
     ]
    }
   ],
   "source": [
    "final_df.info()"
   ]
  },
  {
   "cell_type": "code",
   "execution_count": 21,
   "metadata": {
    "colab": {
     "base_uri": "https://localhost:8080/"
    },
    "id": "PSFqh7bzXm8m",
    "outputId": "32ffb5e2-b07a-4ae8-c98c-8243c611b388"
   },
   "outputs": [
    {
     "name": "stdout",
     "output_type": "stream",
     "text": [
      "0:\tlearn: 1.6143813\ttotal: 35.9s\tremaining: 59m 15s\n",
      "1:\tlearn: 1.3255820\ttotal: 1m 13s\tremaining: 59m 41s\n",
      "2:\tlearn: 1.1401384\ttotal: 1m 49s\tremaining: 58m 46s\n",
      "3:\tlearn: 0.9941787\ttotal: 2m 26s\tremaining: 58m 28s\n",
      "4:\tlearn: 0.8804646\ttotal: 3m 1s\tremaining: 57m 33s\n",
      "5:\tlearn: 0.7858650\ttotal: 3m 37s\tremaining: 56m 46s\n",
      "6:\tlearn: 0.7104801\ttotal: 4m 12s\tremaining: 55m 59s\n",
      "7:\tlearn: 0.6455957\ttotal: 4m 48s\tremaining: 55m 17s\n",
      "8:\tlearn: 0.5888133\ttotal: 5m 24s\tremaining: 54m 38s\n",
      "9:\tlearn: 0.5155532\ttotal: 6m 1s\tremaining: 54m 9s\n",
      "10:\tlearn: 0.4498641\ttotal: 6m 36s\tremaining: 53m 28s\n",
      "11:\tlearn: 0.3966908\ttotal: 7m 12s\tremaining: 52m 50s\n",
      "12:\tlearn: 0.3514951\ttotal: 7m 48s\tremaining: 52m 13s\n",
      "13:\tlearn: 0.3127115\ttotal: 8m 23s\tremaining: 51m 34s\n",
      "14:\tlearn: 0.2793491\ttotal: 8m 59s\tremaining: 50m 58s\n",
      "15:\tlearn: 0.2502065\ttotal: 9m 35s\tremaining: 50m 22s\n",
      "16:\tlearn: 0.2248201\ttotal: 10m 11s\tremaining: 49m 44s\n",
      "17:\tlearn: 0.2028954\ttotal: 10m 47s\tremaining: 49m 10s\n",
      "18:\tlearn: 0.1832302\ttotal: 11m 22s\tremaining: 48m 30s\n",
      "19:\tlearn: 0.1659163\ttotal: 11m 58s\tremaining: 47m 52s\n",
      "20:\tlearn: 0.1504833\ttotal: 12m 38s\tremaining: 47m 33s\n",
      "21:\tlearn: 0.1363797\ttotal: 13m 14s\tremaining: 46m 57s\n",
      "22:\tlearn: 0.1239514\ttotal: 13m 50s\tremaining: 46m 21s\n",
      "23:\tlearn: 0.1129754\ttotal: 14m 26s\tremaining: 45m 43s\n",
      "24:\tlearn: 0.1028950\ttotal: 15m 1s\tremaining: 45m 4s\n",
      "25:\tlearn: 0.0939844\ttotal: 15m 37s\tremaining: 44m 28s\n",
      "26:\tlearn: 0.0858573\ttotal: 16m 12s\tremaining: 43m 49s\n",
      "27:\tlearn: 0.0787665\ttotal: 16m 48s\tremaining: 43m 13s\n",
      "28:\tlearn: 0.0721577\ttotal: 17m 24s\tremaining: 42m 37s\n",
      "29:\tlearn: 0.0661323\ttotal: 17m 59s\tremaining: 41m 59s\n",
      "30:\tlearn: 0.0607619\ttotal: 18m 36s\tremaining: 41m 24s\n",
      "31:\tlearn: 0.0558035\ttotal: 19m 11s\tremaining: 40m 47s\n",
      "32:\tlearn: 0.0513118\ttotal: 19m 46s\tremaining: 40m 9s\n",
      "33:\tlearn: 0.0473112\ttotal: 20m 23s\tremaining: 39m 35s\n",
      "34:\tlearn: 0.0434688\ttotal: 20m 58s\tremaining: 38m 58s\n",
      "35:\tlearn: 0.0400507\ttotal: 21m 35s\tremaining: 38m 22s\n",
      "36:\tlearn: 0.0369903\ttotal: 22m 11s\tremaining: 37m 47s\n",
      "37:\tlearn: 0.0342605\ttotal: 22m 48s\tremaining: 37m 13s\n",
      "38:\tlearn: 0.0318296\ttotal: 23m 25s\tremaining: 36m 37s\n",
      "39:\tlearn: 0.0295589\ttotal: 24m 1s\tremaining: 36m 2s\n",
      "40:\tlearn: 0.0275181\ttotal: 24m 38s\tremaining: 35m 26s\n",
      "41:\tlearn: 0.0257277\ttotal: 25m 14s\tremaining: 34m 51s\n",
      "42:\tlearn: 0.0240722\ttotal: 25m 51s\tremaining: 34m 16s\n",
      "43:\tlearn: 0.0224999\ttotal: 26m 28s\tremaining: 33m 41s\n",
      "44:\tlearn: 0.0210998\ttotal: 27m 4s\tremaining: 33m 5s\n",
      "45:\tlearn: 0.0198147\ttotal: 27m 40s\tremaining: 32m 29s\n",
      "46:\tlearn: 0.0186278\ttotal: 28m 15s\tremaining: 31m 52s\n",
      "47:\tlearn: 0.0175423\ttotal: 28m 51s\tremaining: 31m 16s\n",
      "48:\tlearn: 0.0164956\ttotal: 29m 27s\tremaining: 30m 39s\n",
      "49:\tlearn: 0.0155934\ttotal: 30m 2s\tremaining: 30m 2s\n",
      "50:\tlearn: 0.0146956\ttotal: 30m 38s\tremaining: 29m 26s\n",
      "51:\tlearn: 0.0138065\ttotal: 31m 13s\tremaining: 28m 49s\n",
      "52:\tlearn: 0.0130206\ttotal: 31m 48s\tremaining: 28m 12s\n",
      "53:\tlearn: 0.0123503\ttotal: 32m 23s\tremaining: 27m 35s\n",
      "54:\tlearn: 0.0117520\ttotal: 32m 58s\tremaining: 26m 58s\n",
      "55:\tlearn: 0.0112435\ttotal: 33m 33s\tremaining: 26m 22s\n",
      "56:\tlearn: 0.0107207\ttotal: 34m 9s\tremaining: 25m 45s\n",
      "57:\tlearn: 0.0101528\ttotal: 34m 43s\tremaining: 25m 9s\n",
      "58:\tlearn: 0.0097122\ttotal: 35m 18s\tremaining: 24m 32s\n",
      "59:\tlearn: 0.0092187\ttotal: 35m 53s\tremaining: 23m 55s\n",
      "60:\tlearn: 0.0088086\ttotal: 36m 29s\tremaining: 23m 19s\n",
      "61:\tlearn: 0.0085005\ttotal: 37m 12s\tremaining: 22m 48s\n",
      "62:\tlearn: 0.0081736\ttotal: 37m 47s\tremaining: 22m 11s\n",
      "63:\tlearn: 0.0078515\ttotal: 38m 23s\tremaining: 21m 35s\n",
      "64:\tlearn: 0.0075556\ttotal: 38m 58s\tremaining: 20m 59s\n",
      "65:\tlearn: 0.0072452\ttotal: 39m 32s\tremaining: 20m 22s\n",
      "66:\tlearn: 0.0069653\ttotal: 40m 7s\tremaining: 19m 45s\n",
      "67:\tlearn: 0.0067626\ttotal: 40m 42s\tremaining: 19m 9s\n",
      "68:\tlearn: 0.0065266\ttotal: 41m 18s\tremaining: 18m 33s\n",
      "69:\tlearn: 0.0062632\ttotal: 41m 53s\tremaining: 17m 57s\n",
      "70:\tlearn: 0.0060460\ttotal: 42m 28s\tremaining: 17m 21s\n",
      "71:\tlearn: 0.0058980\ttotal: 43m 4s\tremaining: 16m 45s\n",
      "72:\tlearn: 0.0057369\ttotal: 43m 39s\tremaining: 16m 8s\n",
      "73:\tlearn: 0.0055436\ttotal: 44m 14s\tremaining: 15m 32s\n",
      "74:\tlearn: 0.0053690\ttotal: 44m 50s\tremaining: 14m 56s\n",
      "75:\tlearn: 0.0052069\ttotal: 45m 25s\tremaining: 14m 20s\n",
      "76:\tlearn: 0.0050252\ttotal: 46m\tremaining: 13m 44s\n",
      "77:\tlearn: 0.0049055\ttotal: 46m 35s\tremaining: 13m 8s\n",
      "78:\tlearn: 0.0047775\ttotal: 47m 10s\tremaining: 12m 32s\n",
      "79:\tlearn: 0.0046971\ttotal: 47m 44s\tremaining: 11m 56s\n",
      "80:\tlearn: 0.0045696\ttotal: 48m 19s\tremaining: 11m 20s\n",
      "81:\tlearn: 0.0044517\ttotal: 48m 58s\tremaining: 10m 45s\n",
      "82:\tlearn: 0.0042903\ttotal: 49m 35s\tremaining: 10m 9s\n",
      "83:\tlearn: 0.0041926\ttotal: 50m 11s\tremaining: 9m 33s\n",
      "84:\tlearn: 0.0040373\ttotal: 50m 46s\tremaining: 8m 57s\n",
      "85:\tlearn: 0.0039215\ttotal: 51m 21s\tremaining: 8m 21s\n",
      "86:\tlearn: 0.0038558\ttotal: 51m 55s\tremaining: 7m 45s\n",
      "87:\tlearn: 0.0037532\ttotal: 52m 30s\tremaining: 7m 9s\n",
      "88:\tlearn: 0.0036857\ttotal: 53m 7s\tremaining: 6m 33s\n",
      "89:\tlearn: 0.0036524\ttotal: 53m 42s\tremaining: 5m 58s\n",
      "90:\tlearn: 0.0035946\ttotal: 54m 16s\tremaining: 5m 22s\n",
      "91:\tlearn: 0.0035441\ttotal: 54m 51s\tremaining: 4m 46s\n",
      "92:\tlearn: 0.0034774\ttotal: 55m 26s\tremaining: 4m 10s\n",
      "93:\tlearn: 0.0034261\ttotal: 56m\tremaining: 3m 34s\n",
      "94:\tlearn: 0.0033282\ttotal: 56m 34s\tremaining: 2m 58s\n",
      "95:\tlearn: 0.0032549\ttotal: 57m 10s\tremaining: 2m 22s\n",
      "96:\tlearn: 0.0031775\ttotal: 57m 46s\tremaining: 1m 47s\n",
      "97:\tlearn: 0.0031273\ttotal: 58m 21s\tremaining: 1m 11s\n",
      "98:\tlearn: 0.0030745\ttotal: 58m 55s\tremaining: 35.7s\n",
      "99:\tlearn: 0.0030268\ttotal: 59m 31s\tremaining: 0us\n",
      "Точность (Accuracy) модели CatBoostClassifier: 0.9998518302189048\n"
     ]
    }
   ],
   "source": [
    "# Выделение признаков и целевой переменной для задачи классификации\n",
    "X = final_df.drop(['target_class'], axis=1)  # Удаление целевых переменных из данных признаков\n",
    "y = final_df['target_class']  # Выделение целевой переменной для задачи классификации\n",
    "\n",
    "# Разделение данных на обучающую и валидационную выборки\n",
    "X_train, X_test, y_train, y_test = train_test_split(X, y, test_size=0.2, random_state=42)\n",
    "\n",
    "# Создание и обучение модели CatBoostClassifier\n",
    "#model = CatBoostClassifier(verbose=0,  cat_features = ['model', 'car_type', 'fuel_type', 'ride_date', 'fix_date'], random_state=42)\n",
    "\n",
    "model = CatBoostClassifier(\n",
    "    iterations=100,\n",
    "    depth=6,\n",
    "    learning_rate=0.1,\n",
    "    verbose=1,\n",
    "    early_stopping_rounds=10,  # Ранняя остановка для предотвращения переобучения\n",
    "    cat_features = ['model', 'car_type', 'fuel_type', 'ride_date', 'fix_date'],\n",
    "    random_state=42\n",
    ")\n",
    "\n",
    "model.fit(X_train, y_train)\n",
    "\n",
    "# Проведение оценки модели\n",
    "predictions = model.predict(X_test)\n",
    "accuracy = accuracy_score(y_test, predictions)\n",
    "\n",
    "print(\"Точность (Accuracy) модели CatBoostClassifier:\", accuracy)"
   ]
  },
  {
   "cell_type": "code",
   "execution_count": 20,
   "metadata": {
    "colab": {
     "base_uri": "https://localhost:8080/"
    },
    "id": "q2qHQjiL2fkw",
    "outputId": "a3b49eb4-ff80-4db5-8e90-4820a8f98eb8"
   },
   "outputs": [
    {
     "name": "stdout",
     "output_type": "stream",
     "text": [
      "0:\tlearn: 1.6143813\ttotal: 38.8s\tremaining: 5m 48s\n",
      "1:\tlearn: 1.3255820\ttotal: 1m 15s\tremaining: 5m 2s\n",
      "2:\tlearn: 1.1401384\ttotal: 1m 51s\tremaining: 4m 20s\n",
      "3:\tlearn: 0.9941787\ttotal: 2m 29s\tremaining: 3m 44s\n",
      "4:\tlearn: 0.8804646\ttotal: 3m 11s\tremaining: 3m 11s\n",
      "5:\tlearn: 0.7858650\ttotal: 3m 52s\tremaining: 2m 34s\n",
      "6:\tlearn: 0.7104801\ttotal: 4m 27s\tremaining: 1m 54s\n",
      "7:\tlearn: 0.6455957\ttotal: 5m 3s\tremaining: 1m 15s\n",
      "8:\tlearn: 0.5888133\ttotal: 5m 39s\tremaining: 37.7s\n",
      "9:\tlearn: 0.5155532\ttotal: 6m 16s\tremaining: 0us\n",
      "Точность (Accuracy) модели CatBoostClassifier: 0.9406268655434395\n"
     ]
    }
   ],
   "source": [
    "# Выделение признаков и целевой переменной для задачи классификации\n",
    "X = final_df.drop(['target_class'], axis=1)  # Удаление целевых переменных из данных признаков\n",
    "y = final_df['target_class']  # Выделение целевой переменной для задачи классификации\n",
    "\n",
    "# Разделение данных на обучающую и валидационную выборки\n",
    "X_train, X_test, y_train, y_test = train_test_split(X, y, test_size=0.2, random_state=42)\n",
    "\n",
    "# Создание и обучение модели CatBoostClassifier\n",
    "#model = CatBoostClassifier(verbose=0,  cat_features = ['model', 'car_type', 'fuel_type', 'ride_date', 'fix_date'], random_state=42)\n",
    "\n",
    "model = CatBoostClassifier(\n",
    "    iterations=10,\n",
    "    depth=6,\n",
    "    learning_rate=0.1,\n",
    "    verbose=1,\n",
    "    early_stopping_rounds=10,  # Ранняя остановка для предотвращения переобучения\n",
    "    cat_features = ['model', 'car_type', 'fuel_type', 'ride_date', 'fix_date'],\n",
    "    random_state=42\n",
    ")\n",
    "\n",
    "model.fit(X_train, y_train)\n",
    "\n",
    "# Проведение оценки модели\n",
    "predictions = model.predict(X_test)\n",
    "accuracy = accuracy_score(y_test, predictions)\n",
    "\n",
    "print(\"Точность (Accuracy) модели CatBoostClassifier:\", accuracy)\n"
   ]
  },
  {
   "cell_type": "code",
   "execution_count": 22,
   "metadata": {
    "id": "3gPvBMOi2pdc"
   },
   "outputs": [],
   "source": [
    "model.save_model('model_cars.cbm')"
   ]
  },
  {
   "cell_type": "code",
   "execution_count": 23,
   "metadata": {
    "colab": {
     "base_uri": "https://localhost:8080/",
     "height": 17
    },
    "id": "GA1JaVqR4OrV",
    "outputId": "048de7d0-4749-4db4-c110-0ac659eec0f4"
   },
   "outputs": [
    {
     "data": {
      "application/javascript": [
       "\n",
       "    async function download(id, filename, size) {\n",
       "      if (!google.colab.kernel.accessAllowed) {\n",
       "        return;\n",
       "      }\n",
       "      const div = document.createElement('div');\n",
       "      const label = document.createElement('label');\n",
       "      label.textContent = `Downloading \"${filename}\": `;\n",
       "      div.appendChild(label);\n",
       "      const progress = document.createElement('progress');\n",
       "      progress.max = size;\n",
       "      div.appendChild(progress);\n",
       "      document.body.appendChild(div);\n",
       "\n",
       "      const buffers = [];\n",
       "      let downloaded = 0;\n",
       "\n",
       "      const channel = await google.colab.kernel.comms.open(id);\n",
       "      // Send a message to notify the kernel that we're ready.\n",
       "      channel.send({})\n",
       "\n",
       "      for await (const message of channel.messages) {\n",
       "        // Send a message to notify the kernel that we're ready.\n",
       "        channel.send({})\n",
       "        if (message.buffers) {\n",
       "          for (const buffer of message.buffers) {\n",
       "            buffers.push(buffer);\n",
       "            downloaded += buffer.byteLength;\n",
       "            progress.value = downloaded;\n",
       "          }\n",
       "        }\n",
       "      }\n",
       "      const blob = new Blob(buffers, {type: 'application/binary'});\n",
       "      const a = document.createElement('a');\n",
       "      a.href = window.URL.createObjectURL(blob);\n",
       "      a.download = filename;\n",
       "      div.appendChild(a);\n",
       "      a.click();\n",
       "      div.remove();\n",
       "    }\n",
       "  "
      ],
      "text/plain": [
       "<IPython.core.display.Javascript object>"
      ]
     },
     "metadata": {},
     "output_type": "display_data"
    },
    {
     "data": {
      "application/javascript": [
       "download(\"download_69ef3326-5e88-41cf-b070-800dc6c897ca\", \"model_cars.cbm\", 9951564)"
      ],
      "text/plain": [
       "<IPython.core.display.Javascript object>"
      ]
     },
     "metadata": {},
     "output_type": "display_data"
    }
   ],
   "source": [
    "from google.colab import files\n",
    "\n",
    "files.download('model_cars.cbm')"
   ]
  },
  {
   "cell_type": "code",
   "execution_count": 22,
   "metadata": {
    "id": "tGK5sgaQbuhz"
   },
   "outputs": [],
   "source": [
    "# YOUR CODE HERE"
   ]
  },
  {
   "cell_type": "markdown",
   "metadata": {
    "id": "WaYonLsLy790"
   },
   "source": [
    "# Дополнительное задание. Визуализация прогнозов, ошибок модели и важности признаков"
   ]
  },
  {
   "cell_type": "markdown",
   "metadata": {
    "id": "X-kX4smYzBtQ"
   },
   "source": [
    "<div class=\"alert alert-info\">\n",
    "\n",
    "**Цель блока** — визуализировать результаты прогнозирования, ошибки модели и важность признаков для лучшего понимания и анализа модели."
   ]
  },
  {
   "cell_type": "markdown",
   "metadata": {
    "id": "UKCHT2jOzEFz"
   },
   "source": [
    "## Визуализация (5 баллов)"
   ]
  },
  {
   "cell_type": "markdown",
   "metadata": {
    "id": "7Yk4d16vzGcW"
   },
   "source": [
    "   \n",
    "1. Визуализируйте важность признаков встроенным методом в `CatBoost`  (помните, что не стоит сильно доверять этому рейтингу важности, т. к. для сильно скоррелированных признаков важность делится пополам — оба признака могут улететь вниз).\n",
    "\n",
    "2. Постройте `waterfall_plot` из библиотеки `SHAP` (подробнее во втором ноутбуке из полезных ссылок ниже).\n",
    "    \n",
    "3. Постройте `classification_report` из библиотеки `scikit-learn`.\n",
    "\n",
    "4. Постройте и визуализируйте матрицу смежности (`confusion_matrix`), посмотрите, в каких классах модель больше всего ошибается.\n",
    "    \n",
    "5. Для каждого графика/примененного метода проинтерпретируйте результаты и сделайте выводы.\n",
    "\n",
    "\n",
    "<h4> Критерии оценивания </h4>\n",
    "    \n",
    "- По 1 баллу за каждый корректно выполненный пункт.\n",
    "    \n",
    "</div>\n",
    "\n",
    "<div class=\"alert alert-success\">\n",
    "\n",
    "Визуализация может помочь даже после того, как мы **уже обучили** какую-нибудь модель. Например:\n",
    "\n",
    "- Понять, что мешает модели или чего не хватает, чтобы не допускать ошибки.\n",
    "- Сделать выводы, как можно улучшить точность в последующих экспериментах.\n",
    "- Визуализировать ошибки модели.\n",
    "- Отсеять лишние признаки.\n",
    "- Найти идеи для новых признаков.\n",
    "- Все зависит от типа ваших данных.\n",
    "\n",
    "<h3> Полезные источники </h3>\n",
    "    \n",
    "- Занятие про визуализацию и Seaborn.\n",
    "- Занятие про продвинутую визуализацию и анализ ошибок модели.\n",
    "\n",
    "</div>    "
   ]
  },
  {
   "cell_type": "markdown",
   "metadata": {
    "id": "wlW61aJJyAFo"
   },
   "source": [
    "### 1. Визуализация важности признаков"
   ]
  },
  {
   "cell_type": "code",
   "execution_count": 24,
   "metadata": {
    "colab": {
     "base_uri": "https://localhost:8080/",
     "height": 699
    },
    "id": "01hFaTo4xuDC",
    "outputId": "a00de3cf-9e22-4415-ab53-28c72a082797"
   },
   "outputs": [
    {
     "data": {
      "image/png": "[encoded data removed]",
      "text/plain": [
       "<Figure size 1000x800 with 1 Axes>"
      ]
     },
     "metadata": {},
     "output_type": "display_data"
    }
   ],
   "source": [
    "import matplotlib.pyplot as plt\n",
    "\n",
    "feature_importances = model.get_feature_importance()\n",
    "sorted_idx = feature_importances.argsort()\n",
    "\n",
    "plt.figure(figsize=(10, 8))\n",
    "plt.barh(range(len(sorted_idx)), feature_importances[sorted_idx], align='center')\n",
    "plt.yticks(range(len(sorted_idx)), [X_train.columns[i] for i in sorted_idx])\n",
    "plt.title('Важность признаков (Feature Importances)')\n",
    "plt.show()"
   ]
  },
  {
   "cell_type": "markdown",
   "metadata": {
    "id": "zpQ0BhAqyGcP"
   },
   "source": [
    "### 2. Построение waterfall_plot с использованием SHAP"
   ]
  },
  {
   "cell_type": "code",
   "execution_count": 25,
   "metadata": {
    "colab": {
     "base_uri": "https://localhost:8080/"
    },
    "id": "pQ9fVb6hyMva",
    "outputId": "781525f3-3a09-427b-c82b-405387adc154"
   },
   "outputs": [
    {
     "name": "stdout",
     "output_type": "stream",
     "text": [
      "Requirement already satisfied: shap in /usr/local/lib/python3.10/dist-packages (0.45.0)\n",
      "Requirement already satisfied: numpy in /usr/local/lib/python3.10/dist-packages (from shap) (1.25.2)\n",
      "Requirement already satisfied: scipy in /usr/local/lib/python3.10/dist-packages (from shap) (1.11.4)\n",
      "Requirement already satisfied: scikit-learn in /usr/local/lib/python3.10/dist-packages (from shap) (1.2.2)\n",
      "Requirement already satisfied: pandas in /usr/local/lib/python3.10/dist-packages (from shap) (1.5.3)\n",
      "Requirement already satisfied: tqdm>=4.27.0 in /usr/local/lib/python3.10/dist-packages (from shap) (4.66.2)\n",
      "Requirement already satisfied: packaging>20.9 in /usr/local/lib/python3.10/dist-packages (from shap) (24.0)\n",
      "Requirement already satisfied: slicer==0.0.7 in /usr/local/lib/python3.10/dist-packages (from shap) (0.0.7)\n",
      "Requirement already satisfied: numba in /usr/local/lib/python3.10/dist-packages (from shap) (0.58.1)\n",
      "Requirement already satisfied: cloudpickle in /usr/local/lib/python3.10/dist-packages (from shap) (2.2.1)\n",
      "Requirement already satisfied: llvmlite<0.42,>=0.41.0dev0 in /usr/local/lib/python3.10/dist-packages (from numba->shap) (0.41.1)\n",
      "Requirement already satisfied: python-dateutil>=2.8.1 in /usr/local/lib/python3.10/dist-packages (from pandas->shap) (2.8.2)\n",
      "Requirement already satisfied: pytz>=2020.1 in /usr/local/lib/python3.10/dist-packages (from pandas->shap) (2023.4)\n",
      "Requirement already satisfied: joblib>=1.1.1 in /usr/local/lib/python3.10/dist-packages (from scikit-learn->shap) (1.3.2)\n",
      "Requirement already satisfied: threadpoolctl>=2.0.0 in /usr/local/lib/python3.10/dist-packages (from scikit-learn->shap) (3.3.0)\n",
      "Requirement already satisfied: six>=1.5 in /usr/local/lib/python3.10/dist-packages (from python-dateutil>=2.8.1->pandas->shap) (1.16.0)\n"
     ]
    }
   ],
   "source": [
    "pip install shap"
   ]
  },
  {
   "cell_type": "code",
   "execution_count": 31,
   "metadata": {
    "colab": {
     "base_uri": "https://localhost:8080/"
    },
    "id": "VVWLpWV8L2MM",
    "outputId": "3a96d877-5112-4978-b1c4-395d80f690d4"
   },
   "outputs": [
    {
     "name": "stdout",
     "output_type": "stream",
     "text": [
      "Requirement already satisfied: shap in /usr/local/lib/python3.10/dist-packages (0.45.0)\n",
      "Requirement already satisfied: numpy in /usr/local/lib/python3.10/dist-packages (from shap) (1.25.2)\n",
      "Requirement already satisfied: scipy in /usr/local/lib/python3.10/dist-packages (from shap) (1.11.4)\n",
      "Requirement already satisfied: scikit-learn in /usr/local/lib/python3.10/dist-packages (from shap) (1.2.2)\n",
      "Requirement already satisfied: pandas in /usr/local/lib/python3.10/dist-packages (from shap) (1.5.3)\n",
      "Requirement already satisfied: tqdm>=4.27.0 in /usr/local/lib/python3.10/dist-packages (from shap) (4.66.2)\n",
      "Requirement already satisfied: packaging>20.9 in /usr/local/lib/python3.10/dist-packages (from shap) (24.0)\n",
      "Requirement already satisfied: slicer==0.0.7 in /usr/local/lib/python3.10/dist-packages (from shap) (0.0.7)\n",
      "Requirement already satisfied: numba in /usr/local/lib/python3.10/dist-packages (from shap) (0.58.1)\n",
      "Requirement already satisfied: cloudpickle in /usr/local/lib/python3.10/dist-packages (from shap) (2.2.1)\n",
      "Requirement already satisfied: llvmlite<0.42,>=0.41.0dev0 in /usr/local/lib/python3.10/dist-packages (from numba->shap) (0.41.1)\n",
      "Requirement already satisfied: python-dateutil>=2.8.1 in /usr/local/lib/python3.10/dist-packages (from pandas->shap) (2.8.2)\n",
      "Requirement already satisfied: pytz>=2020.1 in /usr/local/lib/python3.10/dist-packages (from pandas->shap) (2023.4)\n",
      "Requirement already satisfied: joblib>=1.1.1 in /usr/local/lib/python3.10/dist-packages (from scikit-learn->shap) (1.3.2)\n",
      "Requirement already satisfied: threadpoolctl>=2.0.0 in /usr/local/lib/python3.10/dist-packages (from scikit-learn->shap) (3.3.0)\n",
      "Requirement already satisfied: six>=1.5 in /usr/local/lib/python3.10/dist-packages (from python-dateutil>=2.8.1->pandas->shap) (1.16.0)\n"
     ]
    }
   ],
   "source": [
    "pip install --upgrade shap"
   ]
  },
  {
   "cell_type": "code",
   "execution_count": 32,
   "metadata": {
    "colab": {
     "base_uri": "https://localhost:8080/",
     "height": 491
    },
    "id": "BiRbra4e1Dx1",
    "outputId": "d701ac0e-e52e-4cba-c0b0-90eb691a1546"
   },
   "outputs": [
    {
     "ename": "ExplainerError",
     "evalue": "Currently TreeExplainer can only handle models with categorical splits when feature_perturbation=\"tree_path_dependent\" and no background data is passed. Please try again using shap.TreeExplainer(model, feature_perturbation=\"tree_path_dependent\").",
     "output_type": "error",
     "traceback": [
      "\u001b[0;31m---------------------------------------------------------------------------\u001b[0m",
      "\u001b[0;31mValueError\u001b[0m                                Traceback (most recent call last)",
      "\u001b[0;32m/usr/local/lib/python3.10/dist-packages/shap/explainers/_tree.py\u001b[0m in \u001b[0;36m__init__\u001b[0;34m(self, model, data, model_output, feature_perturbation, feature_names, approximate, link, linearize_link)\u001b[0m\n\u001b[1;32m    228\u001b[0m             \u001b[0;32mtry\u001b[0m\u001b[0;34m:\u001b[0m\u001b[0;34m\u001b[0m\u001b[0;34m\u001b[0m\u001b[0m\n\u001b[0;32m--> 229\u001b[0;31m                 \u001b[0mself\u001b[0m\u001b[0;34m.\u001b[0m\u001b[0mexpected_value\u001b[0m \u001b[0;34m=\u001b[0m \u001b[0mself\u001b[0m\u001b[0;34m.\u001b[0m\u001b[0mmodel\u001b[0m\u001b[0;34m.\u001b[0m\u001b[0mpredict\u001b[0m\u001b[0;34m(\u001b[0m\u001b[0mself\u001b[0m\u001b[0;34m.\u001b[0m\u001b[0mdata\u001b[0m\u001b[0;34m)\u001b[0m\u001b[0;34m.\u001b[0m\u001b[0mmean\u001b[0m\u001b[0;34m(\u001b[0m\u001b[0;36m0\u001b[0m\u001b[0;34m)\u001b[0m\u001b[0;34m\u001b[0m\u001b[0;34m\u001b[0m\u001b[0m\n\u001b[0m\u001b[1;32m    230\u001b[0m             \u001b[0;32mexcept\u001b[0m \u001b[0mValueError\u001b[0m\u001b[0;34m:\u001b[0m\u001b[0;34m\u001b[0m\u001b[0;34m\u001b[0m\u001b[0m\n",
      "\u001b[0;32m/usr/local/lib/python3.10/dist-packages/shap/explainers/_tree.py\u001b[0m in \u001b[0;36mpredict\u001b[0;34m(self, X, y, output, tree_limit)\u001b[0m\n\u001b[1;32m   1423\u001b[0m         \u001b[0;32mif\u001b[0m \u001b[0mX\u001b[0m\u001b[0;34m.\u001b[0m\u001b[0mdtype\u001b[0m\u001b[0;34m.\u001b[0m\u001b[0mtype\u001b[0m \u001b[0;34m!=\u001b[0m \u001b[0mself\u001b[0m\u001b[0;34m.\u001b[0m\u001b[0minput_dtype\u001b[0m\u001b[0;34m:\u001b[0m\u001b[0;34m\u001b[0m\u001b[0;34m\u001b[0m\u001b[0m\n\u001b[0;32m-> 1424\u001b[0;31m             \u001b[0mX\u001b[0m \u001b[0;34m=\u001b[0m \u001b[0mX\u001b[0m\u001b[0;34m.\u001b[0m\u001b[0mastype\u001b[0m\u001b[0;34m(\u001b[0m\u001b[0mself\u001b[0m\u001b[0;34m.\u001b[0m\u001b[0minput_dtype\u001b[0m\u001b[0;34m)\u001b[0m\u001b[0;34m\u001b[0m\u001b[0;34m\u001b[0m\u001b[0m\n\u001b[0m\u001b[1;32m   1425\u001b[0m         \u001b[0mX_missing\u001b[0m \u001b[0;34m=\u001b[0m \u001b[0mnp\u001b[0m\u001b[0;34m.\u001b[0m\u001b[0misnan\u001b[0m\u001b[0;34m(\u001b[0m\u001b[0mX\u001b[0m\u001b[0;34m,\u001b[0m \u001b[0mdtype\u001b[0m\u001b[0;34m=\u001b[0m\u001b[0mbool\u001b[0m\u001b[0;34m)\u001b[0m\u001b[0;34m\u001b[0m\u001b[0;34m\u001b[0m\u001b[0m\n",
      "\u001b[0;31mValueError\u001b[0m: could not convert string to float: 'Smart ForFour'",
      "\nDuring handling of the above exception, another exception occurred:\n",
      "\u001b[0;31mExplainerError\u001b[0m                            Traceback (most recent call last)",
      "\u001b[0;32m<ipython-input-32-1859f6e3fff4>\u001b[0m in \u001b[0;36m<cell line: 4>\u001b[0;34m()\u001b[0m\n\u001b[1;32m      2\u001b[0m \u001b[0;34m\u001b[0m\u001b[0m\n\u001b[1;32m      3\u001b[0m \u001b[0;31m# Инициализация Explainer\u001b[0m\u001b[0;34m\u001b[0m\u001b[0;34m\u001b[0m\u001b[0m\n\u001b[0;32m----> 4\u001b[0;31m \u001b[0mexplainer\u001b[0m \u001b[0;34m=\u001b[0m \u001b[0mshap\u001b[0m\u001b[0;34m.\u001b[0m\u001b[0mExplainer\u001b[0m\u001b[0;34m(\u001b[0m\u001b[0mmodel\u001b[0m\u001b[0;34m,\u001b[0m \u001b[0mX_train\u001b[0m\u001b[0;34m)\u001b[0m\u001b[0;34m\u001b[0m\u001b[0;34m\u001b[0m\u001b[0m\n\u001b[0m\u001b[1;32m      5\u001b[0m \u001b[0;34m\u001b[0m\u001b[0m\n\u001b[1;32m      6\u001b[0m \u001b[0;31m# Вычисление SHAP-значений для тестового набора данных\u001b[0m\u001b[0;34m\u001b[0m\u001b[0;34m\u001b[0m\u001b[0m\n",
      "\u001b[0;32m/usr/local/lib/python3.10/dist-packages/shap/explainers/_explainer.py\u001b[0m in \u001b[0;36m__init__\u001b[0;34m(self, model, masker, link, algorithm, output_names, feature_names, linearize_link, seed, **kwargs)\u001b[0m\n\u001b[1;32m    186\u001b[0m             \u001b[0;32melif\u001b[0m \u001b[0malgorithm\u001b[0m \u001b[0;34m==\u001b[0m \u001b[0;34m\"tree\"\u001b[0m\u001b[0;34m:\u001b[0m\u001b[0;34m\u001b[0m\u001b[0;34m\u001b[0m\u001b[0m\n\u001b[1;32m    187\u001b[0m                 \u001b[0mself\u001b[0m\u001b[0;34m.\u001b[0m\u001b[0m__class__\u001b[0m \u001b[0;34m=\u001b[0m \u001b[0mexplainers\u001b[0m\u001b[0;34m.\u001b[0m\u001b[0mTreeExplainer\u001b[0m\u001b[0;34m\u001b[0m\u001b[0;34m\u001b[0m\u001b[0m\n\u001b[0;32m--> 188\u001b[0;31m                 \u001b[0mexplainers\u001b[0m\u001b[0;34m.\u001b[0m\u001b[0mTreeExplainer\u001b[0m\u001b[0;34m.\u001b[0m\u001b[0m__init__\u001b[0m\u001b[0;34m(\u001b[0m\u001b[0mself\u001b[0m\u001b[0;34m,\u001b[0m \u001b[0mself\u001b[0m\u001b[0;34m.\u001b[0m\u001b[0mmodel\u001b[0m\u001b[0;34m,\u001b[0m \u001b[0mself\u001b[0m\u001b[0;34m.\u001b[0m\u001b[0mmasker\u001b[0m\u001b[0;34m,\u001b[0m \u001b[0mlink\u001b[0m\u001b[0;34m=\u001b[0m\u001b[0mself\u001b[0m\u001b[0;34m.\u001b[0m\u001b[0mlink\u001b[0m\u001b[0;34m,\u001b[0m \u001b[0mfeature_names\u001b[0m\u001b[0;34m=\u001b[0m\u001b[0mself\u001b[0m\u001b[0;34m.\u001b[0m\u001b[0mfeature_names\u001b[0m\u001b[0;34m,\u001b[0m \u001b[0mlinearize_link\u001b[0m\u001b[0;34m=\u001b[0m\u001b[0mlinearize_link\u001b[0m\u001b[0;34m,\u001b[0m \u001b[0;34m**\u001b[0m\u001b[0mkwargs\u001b[0m\u001b[0;34m)\u001b[0m\u001b[0;34m\u001b[0m\u001b[0;34m\u001b[0m\u001b[0m\n\u001b[0m\u001b[1;32m    189\u001b[0m             \u001b[0;32melif\u001b[0m \u001b[0malgorithm\u001b[0m \u001b[0;34m==\u001b[0m \u001b[0;34m\"additive\"\u001b[0m\u001b[0;34m:\u001b[0m\u001b[0;34m\u001b[0m\u001b[0;34m\u001b[0m\u001b[0m\n\u001b[1;32m    190\u001b[0m                 \u001b[0mself\u001b[0m\u001b[0;34m.\u001b[0m\u001b[0m__class__\u001b[0m \u001b[0;34m=\u001b[0m \u001b[0mexplainers\u001b[0m\u001b[0;34m.\u001b[0m\u001b[0mAdditiveExplainer\u001b[0m\u001b[0;34m\u001b[0m\u001b[0;34m\u001b[0m\u001b[0m\n",
      "\u001b[0;32m/usr/local/lib/python3.10/dist-packages/shap/explainers/_tree.py\u001b[0m in \u001b[0;36m__init__\u001b[0;34m(self, model, data, model_output, feature_perturbation, feature_names, approximate, link, linearize_link)\u001b[0m\n\u001b[1;32m    229\u001b[0m                 \u001b[0mself\u001b[0m\u001b[0;34m.\u001b[0m\u001b[0mexpected_value\u001b[0m \u001b[0;34m=\u001b[0m \u001b[0mself\u001b[0m\u001b[0;34m.\u001b[0m\u001b[0mmodel\u001b[0m\u001b[0;34m.\u001b[0m\u001b[0mpredict\u001b[0m\u001b[0;34m(\u001b[0m\u001b[0mself\u001b[0m\u001b[0;34m.\u001b[0m\u001b[0mdata\u001b[0m\u001b[0;34m)\u001b[0m\u001b[0;34m.\u001b[0m\u001b[0mmean\u001b[0m\u001b[0;34m(\u001b[0m\u001b[0;36m0\u001b[0m\u001b[0;34m)\u001b[0m\u001b[0;34m\u001b[0m\u001b[0;34m\u001b[0m\u001b[0m\n\u001b[1;32m    230\u001b[0m             \u001b[0;32mexcept\u001b[0m \u001b[0mValueError\u001b[0m\u001b[0;34m:\u001b[0m\u001b[0;34m\u001b[0m\u001b[0;34m\u001b[0m\u001b[0m\n\u001b[0;32m--> 231\u001b[0;31m                 raise ExplainerError(\"Currently TreeExplainer can only handle models with categorical splits when \" \\\n\u001b[0m\u001b[1;32m    232\u001b[0m                                 \u001b[0;34m\"feature_perturbation=\\\"tree_path_dependent\\\" and no background data is passed. Please try again using \"\u001b[0m\u001b[0;31m \u001b[0m\u001b[0;31m\\\u001b[0m\u001b[0;34m\u001b[0m\u001b[0;34m\u001b[0m\u001b[0m\n\u001b[1;32m    233\u001b[0m                                 \"shap.TreeExplainer(model, feature_perturbation=\\\"tree_path_dependent\\\").\")\n",
      "\u001b[0;31mExplainerError\u001b[0m: Currently TreeExplainer can only handle models with categorical splits when feature_perturbation=\"tree_path_dependent\" and no background data is passed. Please try again using shap.TreeExplainer(model, feature_perturbation=\"tree_path_dependent\")."
     ]
    }
   ],
   "source": [
    "import shap\n",
    "\n",
    "# Инициализация Explainer\n",
    "explainer = shap.Explainer(model, X_train)\n",
    "\n",
    "# Вычисление SHAP-значений для тестового набора данных\n",
    "shap_values = explainer(X_test)\n",
    "\n",
    "explainer = shap.Explainer(model, X_train)\n",
    "shap_values = explainer(X_test)\n",
    "\n",
    "# Для отображения Waterfall plot SHAP\n",
    "shap.plots.waterfall(shap_values[0], max_display=14)"
   ]
  },
  {
   "cell_type": "markdown",
   "metadata": {
    "id": "Ya8cgMf0yemJ"
   },
   "source": [
    "### 3. classification_report из scikit-learn"
   ]
  },
  {
   "cell_type": "code",
   "execution_count": 27,
   "metadata": {
    "colab": {
     "base_uri": "https://localhost:8080/"
    },
    "id": "g57opmeayig_",
    "outputId": "e023ce42-dd41-4d7c-abf4-0d7231830028"
   },
   "outputs": [
    {
     "name": "stdout",
     "output_type": "stream",
     "text": [
      "                 precision    recall  f1-score   support\n",
      "\n",
      "    another_bug       1.00      1.00      1.00    333363\n",
      "      break_bug       1.00      1.00      1.00    322445\n",
      "    electro_bug       1.00      1.00      1.00    297113\n",
      "   engine_check       1.00      1.00      1.00    323555\n",
      "    engine_fuel       1.00      1.00      1.00    313367\n",
      "engine_ignition       1.00      1.00      1.00    322703\n",
      "engine_overheat       1.00      1.00      1.00    345290\n",
      "     gear_stick       1.00      1.00      1.00    339085\n",
      "    wheel_shake       1.00      1.00      1.00    197171\n",
      "\n",
      "       accuracy                           1.00   2794092\n",
      "      macro avg       1.00      1.00      1.00   2794092\n",
      "   weighted avg       1.00      1.00      1.00   2794092\n",
      "\n"
     ]
    }
   ],
   "source": [
    "from sklearn.metrics import classification_report\n",
    "\n",
    "print(classification_report(y_test, predictions))"
   ]
  },
  {
   "cell_type": "markdown",
   "metadata": {
    "id": "cUSbeyvYykxY"
   },
   "source": [
    "### 4. Визуализация матрицы смежности"
   ]
  },
  {
   "cell_type": "code",
   "execution_count": 28,
   "metadata": {
    "colab": {
     "base_uri": "https://localhost:8080/"
    },
    "id": "kLENU787yopo",
    "outputId": "f2c4a326-d263-4a08-9094-ce5be1a1ee08"
   },
   "outputs": [
    {
     "data": {
      "image/png": "[encoded data removed]",
      "text/plain": [
       "<Figure size 640x480 with 2 Axes>"
      ]
     },
     "metadata": {},
     "output_type": "display_data"
    }
   ],
   "source": [
    "from sklearn.metrics import confusion_matrix\n",
    "import seaborn as sns\n",
    "\n",
    "conf_matrix = confusion_matrix(y_test, predictions)\n",
    "sns.heatmap(conf_matrix, annot=True, fmt='d', cmap='Blues')\n",
    "plt.xlabel('Предсказанные значения')\n",
    "plt.ylabel('Истинные значения')\n",
    "plt.title('Матрица смежности')\n",
    "plt.show()"
   ]
  },
  {
   "cell_type": "markdown",
   "metadata": {
    "id": "XB2zMMefyqyB"
   },
   "source": [
    "### Интерпретация результатов"
   ]
  },
  {
   "cell_type": "markdown",
   "metadata": {
    "id": "ETSyT_j-ywu9"
   },
   "source": [
    "- Важность признаков: Этот график поможет понять, какие признаки оказывают наибольшее влияние на предсказания модели. Однако следует помнить о том, что высокая корреляция между признаками может исказить эти показатели.\n",
    "  \n",
    "- Waterfall plot с использованием SHAP: Дает детальное представление о том, как каждый признак влияет на вероятность принадлежности к определенному классу для конкретного наблюдения. Позволяет глубже понять принцип работы модели.\n",
    "\n",
    "- Classification report: Предоставляет ключевые метрики качества модели, включая точность, полноту и F1-счет для каждого класса. Это помогает оценить, насколько хорошо модель работает для различных классов.\n",
    "\n",
    "- Матрица смежности: Показывает, как часто предсказания модели соответствуют истинным классам. Можно увидеть, с какими классами модель справляется лучше, а с какими хуже, что полезно для дальнейшего улучшения модели."
   ]
  },
  {
   "cell_type": "markdown",
   "metadata": {
    "id": "pWAOjGCIbuhz"
   },
   "source": [
    "# Дополнительное задание. Визуализация прогнозов, ошибок модели и важности признаков"
   ]
  },
  {
   "cell_type": "markdown",
   "metadata": {
    "id": "oCvZU_ksbuhz"
   },
   "source": [
    "<div class=\"alert alert-info\">\n",
    "\n",
    "**Цель блока** — визуализировать результаты прогнозирования, ошибки модели и важность признаков для лучшего понимания и анализа модели."
   ]
  },
  {
   "cell_type": "markdown",
   "metadata": {
    "id": "onsptUygbuhz"
   },
   "source": [
    "## Визуализация (5 баллов)"
   ]
  },
  {
   "cell_type": "markdown",
   "metadata": {
    "id": "t3gAT3YHbuhz"
   },
   "source": [
    "   \n",
    "1. Визуализируйте важность признаков встроенным методом в `CatBoost`  (помните, что не стоит сильно доверять этому рейтингу важности, т. к. для сильно скоррелированных признаков важность делится пополам — оба признака могут улететь вниз).\n",
    "\n",
    "2. Постройте `waterfall_plot` из библиотеки `SHAP` (подробнее во втором ноутбуке из полезных ссылок ниже).\n",
    "    \n",
    "3. Постройте `classification_report` из библиотеки `scikit-learn`.\n",
    "\n",
    "4. Постройте и визуализируйте матрицу смежности (`confusion_matrix`), посмотрите, в каких классах модель больше всего ошибается.\n",
    "    \n",
    "5. Для каждого графика/примененного метода проинтерпретируйте результаты и сделайте выводы.\n",
    "\n",
    "\n",
    "<h4> Критерии оценивания </h4>\n",
    "    \n",
    "- По 1 баллу за каждый корректно выполненный пункт.\n",
    "    \n",
    "</div>\n",
    "\n",
    "<div class=\"alert alert-success\">\n",
    "\n",
    "Визуализация может помочь даже после того, как мы **уже обучили** какую-нибудь модель. Например:\n",
    "\n",
    "- Понять, что мешает модели или чего не хватает, чтобы не допускать ошибки.\n",
    "- Сделать выводы, как можно улучшить точность в последующих экспериментах.\n",
    "- Визуализировать ошибки модели.\n",
    "- Отсеять лишние признаки.\n",
    "- Найти идеи для новых признаков.\n",
    "- Все зависит от типа ваших данных.\n",
    "\n",
    "<h3> Полезные источники </h3>\n",
    "    \n",
    "- Занятие про визуализацию и Seaborn.\n",
    "- Занятие про продвинутую визуализацию и анализ ошибок модели.\n",
    "\n",
    "</div>    "
   ]
  },
  {
   "cell_type": "code",
   "execution_count": null,
   "metadata": {
    "id": "EYvkiOcrbuh0"
   },
   "outputs": [],
   "source": [
    "# YOUR CODE HERE"
   ]
  },
  {
   "cell_type": "markdown",
   "metadata": {
    "id": "pL8evJIMbuh0"
   },
   "source": [
    "# Домашнее задание 3. Оптимизация. Тюнинг гиперпараметров с помощью `Optuna`"
   ]
  },
  {
   "cell_type": "markdown",
   "metadata": {
    "id": "ZmanV8V8buh0"
   },
   "source": [
    "<div class=\"alert alert-info\">\n",
    "\n",
    "**Цель блока** — улучшить качество предсказания, произведя подбор гиперпараметров для модели с помощью `Optuna`."
   ]
  },
  {
   "cell_type": "markdown",
   "metadata": {
    "id": "qEbxkZf8buh1"
   },
   "source": [
    "## Подбор гиперпараметров (3 балла)"
   ]
  },
  {
   "cell_type": "markdown",
   "metadata": {
    "id": "XogayH7Hbuh1"
   },
   "source": [
    "1. Напишите `objective` функцию и запустите `Optuna`.\n",
    "2. Подберите гиперпараметры для `CatBoostClassifier` (минимум 3).\n",
    "3. Обучите модель с новыми гиперпараметрами, сравните качество и сделайте выводы.\n",
    "\n",
    "    \n",
    "<h4> Критерии оценивания </h4>\n",
    "    \n",
    "- 1 балл за каждый корректно выполненный пункт.\n",
    "    \n",
    "</div>"
   ]
  },
  {
   "cell_type": "code",
   "execution_count": null,
   "metadata": {
    "id": "UrNbom9qbuh1"
   },
   "outputs": [],
   "source": [
    "# YOUR CODE HERE"
   ]
  },
  {
   "cell_type": "markdown",
   "metadata": {
    "id": "ayIdErsgjayi"
   },
   "source": [
    "### Общая информация по `Optuna`"
   ]
  },
  {
   "cell_type": "markdown",
   "metadata": {
    "id": "a6Y35ioqbuh0",
    "tags": []
   },
   "source": [
    "#### Ключевые особенности <code>Optuna</code>\n",
    "\n"
   ]
  },
  {
   "cell_type": "markdown",
   "metadata": {
    "id": "EFwQ3_NStdFY"
   },
   "source": [
    "- Легковесность и универсальность — можно подбирать оптимальные параметры под любые функции и метрики.\n",
    "- SOTA-алгоритмы, адаптированные для поиска гиперпараметров.\n",
    "- Параллелизация и различные методы прунинга.\n",
    "- Встроенная визуализация.\n",
    "- Интеграция со множеством популярных библиотек (бустинги, sklearn, PyTorch, W&B и другие).\n",
    "\n",
    "Разберем Optuna по частям, чтобы понять, как ее использовать."
   ]
  },
  {
   "cell_type": "markdown",
   "metadata": {
    "id": "GIT2J4INtxaf"
   },
   "source": [
    "#### <code>Study</code>: оптимизация, базирующаяся на <code>Objective</code> функции"
   ]
  },
  {
   "cell_type": "markdown",
   "metadata": {
    "id": "wqPh6XVybuh0"
   },
   "source": [
    "\n",
    "\n",
    "В `Objective`-функцию нужно написать код подсчета метрики, которую возвращаем. `Objective` вызывается Optuna много раз для подбора лучших параметров.\n",
    "```python\n",
    "def objective(trial, ...):\n",
    "    # calculate score...\n",
    "    return score\n",
    "```\n",
    "\n",
    "<h4> <code>Trial</code> — одно выполнение <code>Objective</code>-функции</h4>\n",
    "\n",
    "В `trial`-объекте мы передаем параметры для «перебора», используя для каждого типа свой метод. Например:\n",
    "\n",
    "```python\n",
    "# метод `suggest_float` показывает, что перебираем `float` значения, от 0 и до 1.5 границы\n",
    "param = trial.suggest_float('param', 0, 1.5)\n",
    "\n",
    "# Категориальное значение\n",
    "loss_function = trial.suggest_categorical('loss', ['Logloss', 'CrossEntropy'])\n",
    "\n",
    "# Целочисленное значение\n",
    "depth = trial.suggest_int('depth', 5, 8)\n",
    "\n",
    "# Равномерное распределение\n",
    "learning_rate = trial.suggest_uniform('learning_rate', 0.0, 1.0)\n",
    "```"
   ]
  },
  {
   "cell_type": "markdown",
   "metadata": {
    "id": "4huC_vW7uI4o"
   },
   "source": [
    "#### `Study` parameters"
   ]
  },
  {
   "cell_type": "markdown",
   "metadata": {
    "id": "Cq94BjhWbuh0"
   },
   "source": [
    "Инициализируем объект `study`, который начнет перебор и сохранит в себе историю результатов.\n",
    "Если мы стараемся увеличить метрику, а не уменьшить ошибку, то используем `create_study(direction='maximize')`.\n",
    "```python\n",
    "study = optuna.create_study()\n",
    "study.optimize(objective, n_trials=10)\n",
    "```"
   ]
  },
  {
   "cell_type": "markdown",
   "metadata": {
    "id": "x9AvfTv4buh0"
   },
   "source": [
    "<div class=\"alert alert-info\">\n",
    "    \n",
    "В [`Optuna`](https://optuna.readthedocs.io/en/stable/index.html) реализовано несколько методов (`sampler`) подбора параметров (в том числе классические):\n",
    "* `GridSampler`\n",
    "* `RandomSampler`\n",
    "* `Tree-Structed Parzen Estimator` (`TPESampler` — самый популярный, дефолтный)\n",
    "* `BruteForceSampler`\n",
    "* [Другие 4 метода](https://optuna.readthedocs.io/en/stable/reference/samplers/index.html#module-optuna.samplers) (можно написать собственный семплер)"
   ]
  },
  {
   "cell_type": "markdown",
   "metadata": {
    "id": "3g4-aEHabuh0",
    "tags": []
   },
   "source": [
    "### Советы по перебору параметров"
   ]
  },
  {
   "cell_type": "markdown",
   "metadata": {
    "id": "g3b8cs4Mt7pq"
   },
   "source": [
    "- Иметь понимание важности параметров.\n",
    "- Число `iterations` лучше взять с запасом и зафиксировать, при этом ограничив через `early_stopping_rounds`.\n",
    "- Подсмотреть или чувствовать диапазоны и шаг значений.\n",
    "- Исключить то, что перебирать не нужно (`random_seed` , `eval_metric`, `thread_count` и прочее).\n",
    "- Используйте информацию с прошлых попыток."
   ]
  },
  {
   "cell_type": "markdown",
   "metadata": {
    "id": "dXv8NCp_buh1"
   },
   "source": [
    "# Домашнее задание 4. Блендинг"
   ]
  },
  {
   "cell_type": "markdown",
   "metadata": {
    "id": "8-bhQKWGbuh1"
   },
   "source": [
    "<div class=\"alert alert-info\">\n",
    "\n",
    "**Цель блока** — улучшить качество предсказания, объединив несколько моделей вместе методом блендинга."
   ]
  },
  {
   "cell_type": "markdown",
   "metadata": {
    "id": "ZtI-eK3xbuh1"
   },
   "source": [
    "## Задание 6. Блендинг (10 баллов)"
   ]
  },
  {
   "cell_type": "markdown",
   "metadata": {
    "id": "8v9Onoo9buh1"
   },
   "source": [
    "1. Построить и обучить модели:\n",
    "    - `CatBoostClassifier`,\n",
    "    - `LightGBMClassifier (goss)`,\n",
    "    - `XGBoostClassifier (dart)`,\n",
    "    - `RandomForestClassifier`.\n",
    "2. Сделать предсказания каждой моделью, оценить качество.\n",
    "3. Реализовать блендинг двумя способами, оценить качество и сравнить с предыдущим пунктом:\n",
    "    - `Hard Voting` —  метод, при котором делаем голосование всех моделей и выбираем самый популярный класс.\n",
    "    - `Soft Voting` —  метод, при котором мы складываем вероятности предсказания всех моделей по каждому классу и потом выбираем самый класс с максимальной суммой.\n",
    "    \n",
    "<h4> Критерии оценивания </h4>\n",
    "    \n",
    "- Обучены 4 модели — 1 балл за каждую обученную модель, всего 4 балла.\n",
    "- Для модели проведен подбор гиперпараметров — 0,5 балла за каждый параметр, всего 2 балла.\n",
    "- Сделаны предсказания каждой модели и оценено качество — 1 балл.\n",
    "- Реализован `Hard Voting` — 1 балл.\n",
    "- Реализован `Soft Voting` — 1 балл.\n",
    "- Сделаны выводы — 1 балл.\n",
    "    \n",
    "</div>"
   ]
  },
  {
   "cell_type": "code",
   "execution_count": null,
   "metadata": {
    "id": "Mfi_sxnjbuh2"
   },
   "outputs": [],
   "source": [
    "# YOUR CODE HERE"
   ]
  },
  {
   "cell_type": "markdown",
   "metadata": {
    "id": "O2utYsm3mShl"
   },
   "source": [
    "### Общая информация о блендинге"
   ]
  },
  {
   "cell_type": "markdown",
   "metadata": {
    "id": "-JNyyolfbuh1"
   },
   "source": [
    "**Основная идея** — взять от каждого алгоритма лучшее и совместить несколько разных ML-моделей в одну.\n",
    "\n",
    "Что это дает:\n",
    "- Увеличивается обобщающая способность финальной модели и качество улучшается.\n",
    "- Модель становится более стабильной, что позволяет не слететь на приватном лидерборде.\n",
    "\n",
    "Особенно хорошо накидывает блендинг, если смешиваемые модели имеют разную природу — например, нейронные сети, kNN и решающие деревья. Они выучивают разные зависимости и хорошо дополняют друг друга.\n",
    "\n",
    "</div>"
   ]
  },
  {
   "cell_type": "markdown",
   "metadata": {
    "id": "C5w0RwnYbuh3"
   },
   "source": [
    "# <center id=\"part6\"> Отправка финального решения на лидерборд на Kaggle"
   ]
  },
  {
   "cell_type": "markdown",
   "metadata": {
    "id": "wpt2Bdimbuh3"
   },
   "source": [
    "<div class=\"alert alert-info\">\n",
    "\n",
    "**Цель блока** — сделать предсказание с помощью блендинга для тестовой части датасета, отправить результат [в соревнование на Kaggle](https://www.kaggle.com/competitions/competative-data-science-course-by-data-feeling/overview)."
   ]
  },
  {
   "cell_type": "markdown",
   "metadata": {
    "id": "gfYqF37Cbuh3"
   },
   "source": [
    "## Задание 8. Предсказание на тестовом датасете и отправка на Kaggle"
   ]
  },
  {
   "cell_type": "markdown",
   "metadata": {
    "id": "m_ExuGjabuh3"
   },
   "source": [
    "1. Сделать предобработку для тестового датасета, присоединить к нему информацию из других датасетов и добавить признаки, которые генерировали для тренировочного датасета.\n",
    "2. Сделать предсказания каждой моделью, которую хотите включить в ансамбль, но минимум их должно быть 3.\n",
    "3. Сделать блендинг с помощью `Hard Voting` или `Soft Voting` на ваш выбор.\n",
    "4. Сохранить результат предсказания в `csv` файл и отправить решение на Kaggle.\n",
    "    \n",
    "<h4> Критерии оценивания </h4>\n",
    "    \n",
    "- 0 баллов за задание, если итоговый скор на лидерборде меньше чем `0.9`.\n",
    "- 1 балл за каждый выполненный пункт.\n",
    "\n",
    "</div>"
   ]
  },
  {
   "cell_type": "code",
   "execution_count": null,
   "metadata": {
    "id": "Cnp6usAybuh4"
   },
   "outputs": [],
   "source": [
    "car_test = pd.read_csv('https://raw.githubusercontent.com/a-milenkin/Competitive_Data_Science/main/data/car_test.csv')\n",
    "car_test.head(3)"
   ]
  },
  {
   "cell_type": "code",
   "execution_count": null,
   "metadata": {
    "id": "ZEZhf8gabuh4"
   },
   "outputs": [],
   "source": [
    "# YOUR CODE HERE"
   ]
  },
  {
   "cell_type": "markdown",
   "metadata": {
    "id": "cUuphISJbuh4"
   },
   "source": [
    "### Советы по отправке кода на Kaggle\n"
   ]
  },
  {
   "cell_type": "markdown",
   "metadata": {
    "id": "ZAQLSpKWu4aI"
   },
   "source": [
    "\n",
    "Если пишете код на `Kaggle`, то для отправки решения:\n",
    "\n",
    "1. Нажать Save Version.\n",
    "2. Проверить, что в Advanced Settings выбрано «Всегда сохранять результаты ноутбука».\n",
    "3. Выбрать тип сохранения Save & Run All (Commit).\n",
    "4. Нажать кнопку Save."
   ]
  }
 ],
 "metadata": {
  "colab": {
   "machine_shape": "hm",
   "provenance": []
  },
  "kernelspec": {
   "display_name": "Python 3 (ipykernel)",
   "language": "python",
   "name": "python3"
  },
  "language_info": {
   "codemirror_mode": {
    "name": "ipython",
    "version": 3
   },
   "file_extension": ".py",
   "mimetype": "text/x-python",
   "name": "python",
   "nbconvert_exporter": "python",
   "pygments_lexer": "ipython3",
   "version": "3.11.5"
  }
 },
 "nbformat": 4,
 "nbformat_minor": 1
}
