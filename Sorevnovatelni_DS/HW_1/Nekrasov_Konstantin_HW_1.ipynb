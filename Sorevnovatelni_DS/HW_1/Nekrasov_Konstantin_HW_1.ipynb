{
 "cells": [
  {
   "cell_type": "markdown",
   "metadata": {
    "id": "_Yx1Mi7abuht"
   },
   "source": [
    "# План домашних заданий"
   ]
  },
  {
   "cell_type": "markdown",
   "metadata": {
    "id": "_HK3X8tveQhH"
   },
   "source": [
    "\n",
    "- Описание задачи и знакомство с данными\n",
    "- Домашнее задание 1. Генерация и фильтрация признаков\n",
    "- Домашнее задание 2. Прогноз времени и вида поломки машин, настройка ML-модели\n",
    "- Дополнительное задание. Визуализация прогнозов, ошибок модели и важности признаков\n",
    "- Домашнее задание 3. Оптимизация. Тюнинг гиперпараметров с помощью `Optuna`\n",
    "- Домашнее задание 4. Блендинг\n",
    "- Домашнее задание 5. Парсинг внешних данных и оптимизация памяти\n",
    "- Отправка финального решения на лидерборд на Kaggle"
   ]
  },
  {
   "cell_type": "code",
   "execution_count": 1,
   "metadata": {
    "id": "cfomgq3Sbuht",
    "tags": []
   },
   "outputs": [],
   "source": [
    "import pandas as pd\n",
    "import numpy as np\n",
    "import matplotlib.pyplot as plt\n",
    "import seaborn as sns"
   ]
  },
  {
   "cell_type": "markdown",
   "metadata": {
    "id": "fkeIBE5Kbuht"
   },
   "source": [
    "# <center id=\"part0\"> Описание задачи"
   ]
  },
  {
   "cell_type": "markdown",
   "metadata": {
    "id": "MKmknPZbbuht"
   },
   "source": [
    "**Предыстория:**  мы работаем с каршеринговой компанией, которая управляет крупным автопарком машин. Наша цель — предотвратить длительные периоды простоя машин из-за поломок через своевременное обслуживание и ремонт.\n",
    "\n",
    "\n",
    "**Идея для решения проблемы:** создать приоритизированный список обхода машин. Этот список поможет технической бригаде сосредоточиться на автомобилях, которые наиболее вероятно выйдут из строя в ближайшее время.\n",
    "\n",
    "\n",
    "**Как компания решает задачу:**\n",
    "\n",
    "* Собирает данные о поездках и состоянии машин до поломок.\n",
    "\n",
    "* Нанимает Data Scientist, чтобы он смог использовать эти данные для анализа и прогнозирования характера поломок.\n",
    "\n",
    "**Важный момент**: задачи этого специалиста (Data Scientist) предстоит выполнять вам."
   ]
  },
  {
   "cell_type": "markdown",
   "metadata": {
    "id": "-VMB1MVpbuhu"
   },
   "source": [
    "## <center> Знакомство с данными"
   ]
  },
  {
   "cell_type": "markdown",
   "metadata": {
    "id": "TtZE_Frrbuhu"
   },
   "source": [
    "### Информация про машины с таргетом (основной датасет)"
   ]
  },
  {
   "cell_type": "code",
   "execution_count": 2,
   "metadata": {
    "id": "DhA6zYqebuhu",
    "outputId": "6d64cd41-646a-4d14-b9cb-63330516265c",
    "tags": []
   },
   "outputs": [
    {
     "data": {
      "text/html": [
       "<div>\n",
       "<style scoped>\n",
       "    .dataframe tbody tr th:only-of-type {\n",
       "        vertical-align: middle;\n",
       "    }\n",
       "\n",
       "    .dataframe tbody tr th {\n",
       "        vertical-align: top;\n",
       "    }\n",
       "\n",
       "    .dataframe thead th {\n",
       "        text-align: right;\n",
       "    }\n",
       "</style>\n",
       "<table border=\"1\" class=\"dataframe\">\n",
       "  <thead>\n",
       "    <tr style=\"text-align: right;\">\n",
       "      <th></th>\n",
       "      <th>car_id</th>\n",
       "      <th>model</th>\n",
       "      <th>car_type</th>\n",
       "      <th>fuel_type</th>\n",
       "      <th>car_rating</th>\n",
       "      <th>year_to_start</th>\n",
       "      <th>riders</th>\n",
       "      <th>year_to_work</th>\n",
       "      <th>target_reg</th>\n",
       "      <th>target_class</th>\n",
       "    </tr>\n",
       "  </thead>\n",
       "  <tbody>\n",
       "    <tr>\n",
       "      <th>1635</th>\n",
       "      <td>L85244434f</td>\n",
       "      <td>Renault Kaptur</td>\n",
       "      <td>standart</td>\n",
       "      <td>petrol</td>\n",
       "      <td>3.04</td>\n",
       "      <td>2012</td>\n",
       "      <td>21873</td>\n",
       "      <td>2018</td>\n",
       "      <td>37.42</td>\n",
       "      <td>engine_overheat</td>\n",
       "    </tr>\n",
       "    <tr>\n",
       "      <th>2245</th>\n",
       "      <td>w33168720l</td>\n",
       "      <td>VW Tiguan</td>\n",
       "      <td>economy</td>\n",
       "      <td>petrol</td>\n",
       "      <td>3.66</td>\n",
       "      <td>2015</td>\n",
       "      <td>94430</td>\n",
       "      <td>2017</td>\n",
       "      <td>58.34</td>\n",
       "      <td>engine_check</td>\n",
       "    </tr>\n",
       "    <tr>\n",
       "      <th>1393</th>\n",
       "      <td>X88728094G</td>\n",
       "      <td>Renault Sandero</td>\n",
       "      <td>standart</td>\n",
       "      <td>petrol</td>\n",
       "      <td>3.90</td>\n",
       "      <td>2015</td>\n",
       "      <td>75874</td>\n",
       "      <td>2020</td>\n",
       "      <td>28.52</td>\n",
       "      <td>engine_overheat</td>\n",
       "    </tr>\n",
       "    <tr>\n",
       "      <th>756</th>\n",
       "      <td>k14397227n</td>\n",
       "      <td>Hyundai Solaris</td>\n",
       "      <td>economy</td>\n",
       "      <td>petrol</td>\n",
       "      <td>1.60</td>\n",
       "      <td>2012</td>\n",
       "      <td>28604</td>\n",
       "      <td>2020</td>\n",
       "      <td>30.24</td>\n",
       "      <td>wheel_shake</td>\n",
       "    </tr>\n",
       "    <tr>\n",
       "      <th>769</th>\n",
       "      <td>y10620904U</td>\n",
       "      <td>Kia Sportage</td>\n",
       "      <td>standart</td>\n",
       "      <td>petrol</td>\n",
       "      <td>3.24</td>\n",
       "      <td>2013</td>\n",
       "      <td>40935</td>\n",
       "      <td>2014</td>\n",
       "      <td>31.65</td>\n",
       "      <td>electro_bug</td>\n",
       "    </tr>\n",
       "  </tbody>\n",
       "</table>\n",
       "</div>"
      ],
      "text/plain": [
       "          car_id            model  car_type fuel_type  car_rating  \\\n",
       "1635  L85244434f   Renault Kaptur  standart    petrol        3.04   \n",
       "2245  w33168720l        VW Tiguan   economy    petrol        3.66   \n",
       "1393  X88728094G  Renault Sandero  standart    petrol        3.90   \n",
       "756   k14397227n  Hyundai Solaris   economy    petrol        1.60   \n",
       "769   y10620904U     Kia Sportage  standart    petrol        3.24   \n",
       "\n",
       "      year_to_start  riders  year_to_work  target_reg     target_class  \n",
       "1635           2012   21873          2018       37.42  engine_overheat  \n",
       "2245           2015   94430          2017       58.34     engine_check  \n",
       "1393           2015   75874          2020       28.52  engine_overheat  \n",
       "756            2012   28604          2020       30.24      wheel_shake  \n",
       "769            2013   40935          2014       31.65      electro_bug  "
      ]
     },
     "execution_count": 2,
     "metadata": {},
     "output_type": "execute_result"
    }
   ],
   "source": [
    "car_train = pd.read_csv('https://raw.githubusercontent.com/a-milenkin/Competitive_Data_Science/main/data/car_train.csv')\n",
    "car_train.sample(5)"
   ]
  },
  {
   "cell_type": "markdown",
   "metadata": {
    "id": "AWvQSnafbuhu"
   },
   "source": [
    "- `car_id` — идентификатор машины\n",
    "- `model` / `car_type` / `fuel_type` — марка, класс и тип топлива машины\n",
    "- `car_rating` / `riders` — общий рейтинг и общее число поездок к концу 2021 года\n",
    "- `year_to_start` / `year_to_work` — год выпуска машины и год начала работы в автопарке\n",
    "- `target_reg` — количество дней до поломки\n",
    "- `target_class` — класс поломки (всего 9 видов)"
   ]
  },
  {
   "cell_type": "markdown",
   "metadata": {
    "id": "6KWf2LgObuhu"
   },
   "source": [
    "### Информация про поездки"
   ]
  },
  {
   "cell_type": "code",
   "execution_count": 3,
   "metadata": {
    "id": "pDc5gXzbbuhu",
    "outputId": "53849f03-cf5e-4773-e68e-7d4ba6ed5e37",
    "tags": []
   },
   "outputs": [
    {
     "data": {
      "text/html": [
       "<div>\n",
       "<style scoped>\n",
       "    .dataframe tbody tr th:only-of-type {\n",
       "        vertical-align: middle;\n",
       "    }\n",
       "\n",
       "    .dataframe tbody tr th {\n",
       "        vertical-align: top;\n",
       "    }\n",
       "\n",
       "    .dataframe thead th {\n",
       "        text-align: right;\n",
       "    }\n",
       "</style>\n",
       "<table border=\"1\" class=\"dataframe\">\n",
       "  <thead>\n",
       "    <tr style=\"text-align: right;\">\n",
       "      <th></th>\n",
       "      <th>user_id</th>\n",
       "      <th>car_id</th>\n",
       "      <th>ride_id</th>\n",
       "      <th>ride_date</th>\n",
       "      <th>rating</th>\n",
       "      <th>ride_duration</th>\n",
       "      <th>ride_cost</th>\n",
       "      <th>speed_avg</th>\n",
       "      <th>speed_max</th>\n",
       "      <th>stop_times</th>\n",
       "      <th>distance</th>\n",
       "      <th>refueling</th>\n",
       "      <th>user_ride_quality</th>\n",
       "      <th>deviation_normal</th>\n",
       "    </tr>\n",
       "  </thead>\n",
       "  <tbody>\n",
       "    <tr>\n",
       "      <th>715797</th>\n",
       "      <td>D87990456A</td>\n",
       "      <td>y-6871732c</td>\n",
       "      <td>e1u</td>\n",
       "      <td>2020-03-12</td>\n",
       "      <td>2.03</td>\n",
       "      <td>123</td>\n",
       "      <td>981</td>\n",
       "      <td>38</td>\n",
       "      <td>109.000000</td>\n",
       "      <td>1</td>\n",
       "      <td>2134.991162</td>\n",
       "      <td>0</td>\n",
       "      <td>2.071142</td>\n",
       "      <td>15.693</td>\n",
       "    </tr>\n",
       "    <tr>\n",
       "      <th>115886</th>\n",
       "      <td>N17236478p</td>\n",
       "      <td>I-2277221J</td>\n",
       "      <td>Y1x</td>\n",
       "      <td>2020-01-02</td>\n",
       "      <td>5.18</td>\n",
       "      <td>78</td>\n",
       "      <td>1242</td>\n",
       "      <td>54</td>\n",
       "      <td>78.006088</td>\n",
       "      <td>0</td>\n",
       "      <td>2593.100564</td>\n",
       "      <td>0</td>\n",
       "      <td>-0.339663</td>\n",
       "      <td>-4.454</td>\n",
       "    </tr>\n",
       "    <tr>\n",
       "      <th>12931</th>\n",
       "      <td>t49820456p</td>\n",
       "      <td>A31292617m</td>\n",
       "      <td>u1n</td>\n",
       "      <td>2020-01-30</td>\n",
       "      <td>4.35</td>\n",
       "      <td>96</td>\n",
       "      <td>860</td>\n",
       "      <td>49</td>\n",
       "      <td>80.100000</td>\n",
       "      <td>5</td>\n",
       "      <td>3523.441895</td>\n",
       "      <td>0</td>\n",
       "      <td>-11.488241</td>\n",
       "      <td>27.111</td>\n",
       "    </tr>\n",
       "    <tr>\n",
       "      <th>271993</th>\n",
       "      <td>J89726771S</td>\n",
       "      <td>S56454866u</td>\n",
       "      <td>D1X</td>\n",
       "      <td>2020-01-17</td>\n",
       "      <td>4.11</td>\n",
       "      <td>25</td>\n",
       "      <td>194</td>\n",
       "      <td>43</td>\n",
       "      <td>119.000000</td>\n",
       "      <td>3</td>\n",
       "      <td>720.397581</td>\n",
       "      <td>0</td>\n",
       "      <td>2.752763</td>\n",
       "      <td>0.000</td>\n",
       "    </tr>\n",
       "    <tr>\n",
       "      <th>114671</th>\n",
       "      <td>U37267527L</td>\n",
       "      <td>I-2073229s</td>\n",
       "      <td>I1A</td>\n",
       "      <td>2020-01-03</td>\n",
       "      <td>2.62</td>\n",
       "      <td>39</td>\n",
       "      <td>578</td>\n",
       "      <td>54</td>\n",
       "      <td>88.000000</td>\n",
       "      <td>2</td>\n",
       "      <td>2013.898886</td>\n",
       "      <td>0</td>\n",
       "      <td>-0.975276</td>\n",
       "      <td>0.000</td>\n",
       "    </tr>\n",
       "  </tbody>\n",
       "</table>\n",
       "</div>"
      ],
      "text/plain": [
       "           user_id      car_id ride_id   ride_date  rating  ride_duration  \\\n",
       "715797  D87990456A  y-6871732c     e1u  2020-03-12    2.03            123   \n",
       "115886  N17236478p  I-2277221J     Y1x  2020-01-02    5.18             78   \n",
       "12931   t49820456p  A31292617m     u1n  2020-01-30    4.35             96   \n",
       "271993  J89726771S  S56454866u     D1X  2020-01-17    4.11             25   \n",
       "114671  U37267527L  I-2073229s     I1A  2020-01-03    2.62             39   \n",
       "\n",
       "        ride_cost  speed_avg   speed_max  stop_times     distance  refueling  \\\n",
       "715797        981         38  109.000000           1  2134.991162          0   \n",
       "115886       1242         54   78.006088           0  2593.100564          0   \n",
       "12931         860         49   80.100000           5  3523.441895          0   \n",
       "271993        194         43  119.000000           3   720.397581          0   \n",
       "114671        578         54   88.000000           2  2013.898886          0   \n",
       "\n",
       "        user_ride_quality  deviation_normal  \n",
       "715797           2.071142            15.693  \n",
       "115886          -0.339663            -4.454  \n",
       "12931          -11.488241            27.111  \n",
       "271993           2.752763             0.000  \n",
       "114671          -0.975276             0.000  "
      ]
     },
     "execution_count": 3,
     "metadata": {},
     "output_type": "execute_result"
    }
   ],
   "source": [
    "rides_info = pd.read_csv('https://raw.githubusercontent.com/a-milenkin/Competitive_Data_Science/main/data/rides_info.csv')\n",
    "rides_info.sample(5)"
   ]
  },
  {
   "cell_type": "markdown",
   "metadata": {
    "id": "ZAn8S24sbuhv"
   },
   "source": [
    "- `user_id` / `car_id` / `ride_id` — идентификаторы водителя, машины, поездки соответственно\n",
    "- `ride_date` / `rating` — дата поездки и рейтинг, поставленный водителем\n",
    "- `ride_duration` / `distance` / `ride_cost` —  длительность (время),  пройденное расстояние, стоимость поездки\n",
    "- `speed_avg` / `speed_max` — средняя и максимальная скорости поездки соответственно\n",
    "- `stop_times` / `refueling` — количество остановок (паузы) и флаг: была ли дозаправка\n",
    "- `user_ride_quality` — оценка манеры вождения водителя машины, определенная скоринговой ML-системой сервиса\n",
    "- `deviation_normal` — общий показатель датчиков о состоянии машины, относительно эталонных показателей (нормы)"
   ]
  },
  {
   "cell_type": "markdown",
   "metadata": {
    "id": "O0Onuz4ybuhv"
   },
   "source": [
    "### Информация про водителей"
   ]
  },
  {
   "cell_type": "code",
   "execution_count": 4,
   "metadata": {
    "id": "WBEvQXhxbuhv",
    "outputId": "80c61226-f3e4-445c-e122-d019200a5fbb",
    "tags": []
   },
   "outputs": [
    {
     "data": {
      "text/html": [
       "<div>\n",
       "<style scoped>\n",
       "    .dataframe tbody tr th:only-of-type {\n",
       "        vertical-align: middle;\n",
       "    }\n",
       "\n",
       "    .dataframe tbody tr th {\n",
       "        vertical-align: top;\n",
       "    }\n",
       "\n",
       "    .dataframe thead th {\n",
       "        text-align: right;\n",
       "    }\n",
       "</style>\n",
       "<table border=\"1\" class=\"dataframe\">\n",
       "  <thead>\n",
       "    <tr style=\"text-align: right;\">\n",
       "      <th></th>\n",
       "      <th>age</th>\n",
       "      <th>user_rating</th>\n",
       "      <th>user_rides</th>\n",
       "      <th>user_time_accident</th>\n",
       "      <th>user_id</th>\n",
       "      <th>sex</th>\n",
       "      <th>first_ride_date</th>\n",
       "    </tr>\n",
       "  </thead>\n",
       "  <tbody>\n",
       "    <tr>\n",
       "      <th>336</th>\n",
       "      <td>25</td>\n",
       "      <td>6.4</td>\n",
       "      <td>1515</td>\n",
       "      <td>5.0</td>\n",
       "      <td>T11749796S</td>\n",
       "      <td>1</td>\n",
       "      <td>2018-7-15</td>\n",
       "    </tr>\n",
       "    <tr>\n",
       "      <th>867</th>\n",
       "      <td>18</td>\n",
       "      <td>8.5</td>\n",
       "      <td>472</td>\n",
       "      <td>17.0</td>\n",
       "      <td>W11461062Z</td>\n",
       "      <td>1</td>\n",
       "      <td>2019-7-13</td>\n",
       "    </tr>\n",
       "    <tr>\n",
       "      <th>701</th>\n",
       "      <td>29</td>\n",
       "      <td>8.5</td>\n",
       "      <td>1655</td>\n",
       "      <td>16.0</td>\n",
       "      <td>x95119368m</td>\n",
       "      <td>1</td>\n",
       "      <td>2018-6-9</td>\n",
       "    </tr>\n",
       "    <tr>\n",
       "      <th>14103</th>\n",
       "      <td>26</td>\n",
       "      <td>8.8</td>\n",
       "      <td>23</td>\n",
       "      <td>22.0</td>\n",
       "      <td>H18345596j</td>\n",
       "      <td>1</td>\n",
       "      <td>2019-11-10</td>\n",
       "    </tr>\n",
       "    <tr>\n",
       "      <th>1696</th>\n",
       "      <td>18</td>\n",
       "      <td>7.8</td>\n",
       "      <td>1206</td>\n",
       "      <td>0.0</td>\n",
       "      <td>v32660806n</td>\n",
       "      <td>1</td>\n",
       "      <td>2020-12-25</td>\n",
       "    </tr>\n",
       "  </tbody>\n",
       "</table>\n",
       "</div>"
      ],
      "text/plain": [
       "       age  user_rating  user_rides  user_time_accident     user_id  sex  \\\n",
       "336     25          6.4        1515                 5.0  T11749796S    1   \n",
       "867     18          8.5         472                17.0  W11461062Z    1   \n",
       "701     29          8.5        1655                16.0  x95119368m    1   \n",
       "14103   26          8.8          23                22.0  H18345596j    1   \n",
       "1696    18          7.8        1206                 0.0  v32660806n    1   \n",
       "\n",
       "      first_ride_date  \n",
       "336         2018-7-15  \n",
       "867         2019-7-13  \n",
       "701          2018-6-9  \n",
       "14103      2019-11-10  \n",
       "1696       2020-12-25  "
      ]
     },
     "execution_count": 4,
     "metadata": {},
     "output_type": "execute_result"
    }
   ],
   "source": [
    "driver_info = pd.read_csv('https://raw.githubusercontent.com/a-milenkin/Competitive_Data_Science/main/data/driver_info.csv')\n",
    "driver_info.sample(5)"
   ]
  },
  {
   "cell_type": "markdown",
   "metadata": {
    "id": "ubFE8w-Kbuhv"
   },
   "source": [
    "- `user_id` / `age` / `sex` — идентификатор, возраст и пол водителя, соответственно\n",
    "- `user_rating` — общий рейтинг пользователя за все поездки к концу 2021 года\n",
    "- `user_rides` — общее количество поездок к концу 2021 года\n",
    "- `user_time_accident` — число инцидентов (это могли быть аварии/штрафы/эвакуация машины)  \n",
    "- `first_ride_date` — дата первой поездки"
   ]
  },
  {
   "cell_type": "markdown",
   "metadata": {
    "id": "cXDdvlHYbuhv"
   },
   "source": [
    "### Информация про ремонт машин"
   ]
  },
  {
   "cell_type": "code",
   "execution_count": 5,
   "metadata": {
    "id": "eVTjvBspbuhv",
    "outputId": "6ac51c57-542d-45d3-9465-5e4da7a4e4ae",
    "tags": []
   },
   "outputs": [
    {
     "data": {
      "text/html": [
       "<div>\n",
       "<style scoped>\n",
       "    .dataframe tbody tr th:only-of-type {\n",
       "        vertical-align: middle;\n",
       "    }\n",
       "\n",
       "    .dataframe tbody tr th {\n",
       "        vertical-align: top;\n",
       "    }\n",
       "\n",
       "    .dataframe thead th {\n",
       "        text-align: right;\n",
       "    }\n",
       "</style>\n",
       "<table border=\"1\" class=\"dataframe\">\n",
       "  <thead>\n",
       "    <tr style=\"text-align: right;\">\n",
       "      <th></th>\n",
       "      <th>car_id</th>\n",
       "      <th>worker_id</th>\n",
       "      <th>fix_date</th>\n",
       "      <th>work_type</th>\n",
       "      <th>destroy_degree</th>\n",
       "      <th>work_duration</th>\n",
       "    </tr>\n",
       "  </thead>\n",
       "  <tbody>\n",
       "    <tr>\n",
       "      <th>4566</th>\n",
       "      <td>g13957568L</td>\n",
       "      <td>IK</td>\n",
       "      <td>2018-8-23 11:17</td>\n",
       "      <td>repair</td>\n",
       "      <td>6.7</td>\n",
       "      <td>26</td>\n",
       "    </tr>\n",
       "    <tr>\n",
       "      <th>131486</th>\n",
       "      <td>N-1526726d</td>\n",
       "      <td>CF</td>\n",
       "      <td>2019-6-5 5:2</td>\n",
       "      <td>repair</td>\n",
       "      <td>5.0</td>\n",
       "      <td>16</td>\n",
       "    </tr>\n",
       "    <tr>\n",
       "      <th>66521</th>\n",
       "      <td>v-1950459j</td>\n",
       "      <td>UF</td>\n",
       "      <td>2019-8-28 11:57</td>\n",
       "      <td>reparking</td>\n",
       "      <td>1.0</td>\n",
       "      <td>31</td>\n",
       "    </tr>\n",
       "    <tr>\n",
       "      <th>29638</th>\n",
       "      <td>G-1577332Q</td>\n",
       "      <td>CS</td>\n",
       "      <td>2019-3-27 18:32</td>\n",
       "      <td>reparking</td>\n",
       "      <td>1.0</td>\n",
       "      <td>28</td>\n",
       "    </tr>\n",
       "    <tr>\n",
       "      <th>6844</th>\n",
       "      <td>a97165984P</td>\n",
       "      <td>VB</td>\n",
       "      <td>2021-11-10 23:3</td>\n",
       "      <td>reparking</td>\n",
       "      <td>1.0</td>\n",
       "      <td>24</td>\n",
       "    </tr>\n",
       "  </tbody>\n",
       "</table>\n",
       "</div>"
      ],
      "text/plain": [
       "            car_id worker_id         fix_date  work_type  destroy_degree  \\\n",
       "4566    g13957568L        IK  2018-8-23 11:17     repair             6.7   \n",
       "131486  N-1526726d        CF     2019-6-5 5:2     repair             5.0   \n",
       "66521   v-1950459j        UF  2019-8-28 11:57  reparking             1.0   \n",
       "29638   G-1577332Q        CS  2019-3-27 18:32  reparking             1.0   \n",
       "6844    a97165984P        VB  2021-11-10 23:3  reparking             1.0   \n",
       "\n",
       "        work_duration  \n",
       "4566               26  \n",
       "131486             16  \n",
       "66521              31  \n",
       "29638              28  \n",
       "6844               24  "
      ]
     },
     "execution_count": 5,
     "metadata": {},
     "output_type": "execute_result"
    }
   ],
   "source": [
    "fix_info = pd.read_csv('https://raw.githubusercontent.com/a-milenkin/Competitive_Data_Science/main/data/fix_info.csv')\n",
    "fix_info.sample(5)"
   ]
  },
  {
   "cell_type": "markdown",
   "metadata": {
    "id": "H01U-FFAbuhv"
   },
   "source": [
    "- `worker_id` / `car_id` — идентификатор работника и машины\n",
    "- `work_type` / `work_duration` — тип и длительность (в часах) проводимой работы\n",
    "- `destroy_degree` — степень износа/поврежденности машины в случае поломки\n",
    "- `fix_date` — время начала ремонта (снятия машины с линии)"
   ]
  },
  {
   "cell_type": "markdown",
   "metadata": {
    "id": "qY-lAjlhbuhv"
   },
   "source": [
    "# Домашнее задание 1. Генерация и фильтрация признаков"
   ]
  },
  {
   "cell_type": "markdown",
   "metadata": {
    "id": "9E2N9m5Cbuhv"
   },
   "source": [
    "<center> <img src=\"https://ucarecdn.com/bf4c772d-b67a-42ae-a48b-cfd83910b0a2/\" width=700>"
   ]
  },
  {
   "cell_type": "markdown",
   "metadata": {
    "id": "HaroHWSBbuhw"
   },
   "source": [
    "<div class=\"alert alert-info\">\n",
    "\n",
    "**Цель блока** — сгенерировать признаки из дополнительных датасетов и добавить их к основному датасету, произвести фильтрацию признаков."
   ]
  },
  {
   "cell_type": "markdown",
   "metadata": {
    "id": "wev7E_qlbuhw"
   },
   "source": [
    "    \n",
    "## Задание 1. Генерация признаков из дополнительных датасетов (6 баллов)"
   ]
  },
  {
   "cell_type": "markdown",
   "metadata": {
    "id": "CSX4pA5Kbuhw"
   },
   "source": [
    "<div class=\"alert alert-info\">\n",
    "\n",
    "1. Возьмите датасет `rides_info` с информацией о поездках и проведите группировку по каждой машине отдельно.\n",
    "\n",
    "2. Для каждой машины (то есть для каждого `car_id`) подсчитайте несколько признаков:\n",
    "  - минимальный рейтинг за все поездки;\n",
    "  - средний рейтинг за все поездки;\n",
    "  - общее количество километров, которое машина проехала;\n",
    "  - максимальная скорость;\n",
    "  - общее количество поездок для каждой машины.\n",
    "\n",
    "3. Добавьте минимум 3 признака на свой выбор.\n",
    "\n",
    "4. Сделайте соединение таблиц — вспомните про методы соединения и выберите подходящий для этого случая.\n",
    "\n",
    "5. Подключите информацию про водителей (`driver_info`) и про ремонт машин (`fix_info`). Добавьте минимум 3 любых признака с каждого датасета.\n",
    "\n",
    "\n",
    "<h4> Критерии оценивания </h4>\n",
    "    \n",
    "- Добавлены 5 обязательных и минимум 3 любых признака из датасета `rides_info` — 2 балла.\n",
    "- Добавлены минимум 3 любых признака из датасета `driver_info` — 2 балла.\n",
    "- Добавлены минимум 3 любых признака из датасета `fix_info` — 2 балла.\n",
    "\n",
    "</div>"
   ]
  },
  {
   "cell_type": "markdown",
   "metadata": {
    "id": "kfAs9dZHbuhw"
   },
   "source": [
    "<div class=\"alert alert-success\">\n",
    "    \n",
    "<h4> Советы по Feature Engineering</h4>\n",
    "    \n",
    "- Начинайте с сырых данных.\n",
    "- Используйте все доступные данные. Покрывайте признаками всю имеющуюся информацию в данных.\n",
    "- Формулируйте предположения: от чего зависит таргет?\n",
    "- Смотрите визуально на классы/ошибки и делайте предположения. Какие полезны?\n",
    "- Помните, что слишком много признаков может быть вредно. Потом придется отфильтровывать.\n",
    "    \n",
    "<h4> Полезные источники </h4>\n",
    "    \n",
    "- Занятие про Feature Engineering.\n",
    "- Занятие про Feature Selection.\n",
    "- [Max Kuhn and Kjell Johnson. Feature Engineering and Selection: A Practical Approach for Predictive Models](http://www.feat.engineering/)."
   ]
  },
  {
   "cell_type": "markdown",
   "metadata": {
    "id": "n5pkVaw0eszI"
   },
   "source": [
    "### Пример расчета признака"
   ]
  },
  {
   "cell_type": "markdown",
   "metadata": {
    "id": "7_jt9yAabuhw",
    "tags": []
   },
   "source": [
    "### Идеи для новых признаков\n",
    "\n",
    "1.   Новый пункт\n",
    "2.   Новый пункт\n",
    "\n"
   ]
  },
  {
   "cell_type": "markdown",
   "metadata": {
    "id": "kLgu7UaofIyr"
   },
   "source": [
    "* `feature_min_max_diff` — разница между максимальным и минимальным значениями `deviation_normal` для каждой машины\n",
    "* `feature_corner` — угол наклона по признаку `user_ride_quality` для каждой машины\n",
    "* `feature_mean` — среднее значение `deviation_normal` для каждой машины\n",
    "* `feature_shift` — точка перегиба/сдвига для `deviation_normal`\n",
    "* `feature_start` — значение точки старта для `deviation_normal`\n",
    "* `feature_nans` — сумма пропусков для столбца `...` для каждой машины\n",
    "* `feature_quant` — `X %` квантиль для столбца `...` для каждой машины\n",
    "\n",
    "Подумайте, какие из признаков могут оказаться самыми полезными?"
   ]
  },
  {
   "cell_type": "markdown",
   "metadata": {},
   "source": [
    "## 1.Возьмите датасет rides_info с информацией о поездках и проведите группировку по каждой машине отдельно.\n",
    "## 2.Для каждой машины (то есть для каждого car_id) подсчитайте несколько признаков:\n",
    "- минимальный рейтинг за все поездки;\n",
    "- средний рейтинг за все поездки;\n",
    "- общее количество километров, которое машина проехала;\n",
    "- максимальная скорость;\n",
    "- общее количество поездок для каждой машины."
   ]
  },
  {
   "cell_type": "code",
   "execution_count": 6,
   "metadata": {},
   "outputs": [
    {
     "data": {
      "text/html": [
       "<div>\n",
       "<style scoped>\n",
       "    .dataframe tbody tr th:only-of-type {\n",
       "        vertical-align: middle;\n",
       "    }\n",
       "\n",
       "    .dataframe tbody tr th {\n",
       "        vertical-align: top;\n",
       "    }\n",
       "\n",
       "    .dataframe thead th {\n",
       "        text-align: right;\n",
       "    }\n",
       "</style>\n",
       "<table border=\"1\" class=\"dataframe\">\n",
       "  <thead>\n",
       "    <tr style=\"text-align: right;\">\n",
       "      <th></th>\n",
       "      <th>car_id</th>\n",
       "      <th>min_rating</th>\n",
       "      <th>avg_rating</th>\n",
       "      <th>total_distance</th>\n",
       "      <th>max_speed</th>\n",
       "      <th>total_rides</th>\n",
       "    </tr>\n",
       "  </thead>\n",
       "  <tbody>\n",
       "    <tr>\n",
       "      <th>0</th>\n",
       "      <td>A-1049127W</td>\n",
       "      <td>0.1</td>\n",
       "      <td>4.255172</td>\n",
       "      <td>1.125753e+07</td>\n",
       "      <td>179.729652</td>\n",
       "      <td>174</td>\n",
       "    </tr>\n",
       "  </tbody>\n",
       "</table>\n",
       "</div>"
      ],
      "text/plain": [
       "       car_id  min_rating  avg_rating  total_distance   max_speed  total_rides\n",
       "0  A-1049127W         0.1    4.255172    1.125753e+07  179.729652          174"
      ]
     },
     "execution_count": 6,
     "metadata": {},
     "output_type": "execute_result"
    }
   ],
   "source": [
    "# Группировка по каждой машине и расчет статистик\n",
    "grouped_rides = rides_info.groupby('car_id').agg(\n",
    "    \n",
    "    min_rating=('rating', 'min'),\n",
    "    avg_rating=('rating', 'mean'),\n",
    "    total_distance=('distance', 'sum'),\n",
    "    max_speed=('speed_max', 'max'),\n",
    "    total_rides=('ride_id', 'count')\n",
    ").reset_index()\n",
    "\n",
    "grouped_rides.head(1)"
   ]
  },
  {
   "cell_type": "markdown",
   "metadata": {},
   "source": [
    "## 3. Добавьте минимум 3 признака на свой выбор"
   ]
  },
  {
   "cell_type": "code",
   "execution_count": 7,
   "metadata": {},
   "outputs": [
    {
     "data": {
      "text/html": [
       "<div>\n",
       "<style scoped>\n",
       "    .dataframe tbody tr th:only-of-type {\n",
       "        vertical-align: middle;\n",
       "    }\n",
       "\n",
       "    .dataframe tbody tr th {\n",
       "        vertical-align: top;\n",
       "    }\n",
       "\n",
       "    .dataframe thead th {\n",
       "        text-align: right;\n",
       "    }\n",
       "</style>\n",
       "<table border=\"1\" class=\"dataframe\">\n",
       "  <thead>\n",
       "    <tr style=\"text-align: right;\">\n",
       "      <th></th>\n",
       "      <th>car_id</th>\n",
       "      <th>min_rating</th>\n",
       "      <th>avg_rating</th>\n",
       "      <th>total_distance</th>\n",
       "      <th>max_speed</th>\n",
       "      <th>total_rides</th>\n",
       "      <th>avg_stop_times</th>\n",
       "      <th>refueling_percentage</th>\n",
       "      <th>avg_deviation_normal</th>\n",
       "    </tr>\n",
       "  </thead>\n",
       "  <tbody>\n",
       "    <tr>\n",
       "      <th>0</th>\n",
       "      <td>A-1049127W</td>\n",
       "      <td>0.1</td>\n",
       "      <td>4.255172</td>\n",
       "      <td>1.125753e+07</td>\n",
       "      <td>179.729652</td>\n",
       "      <td>174</td>\n",
       "      <td>0.816092</td>\n",
       "      <td>0.0</td>\n",
       "      <td>-6.136672</td>\n",
       "    </tr>\n",
       "  </tbody>\n",
       "</table>\n",
       "</div>"
      ],
      "text/plain": [
       "       car_id  min_rating  avg_rating  total_distance   max_speed  \\\n",
       "0  A-1049127W         0.1    4.255172    1.125753e+07  179.729652   \n",
       "\n",
       "   total_rides  avg_stop_times  refueling_percentage  avg_deviation_normal  \n",
       "0          174        0.816092                   0.0             -6.136672  "
      ]
     },
     "execution_count": 7,
     "metadata": {},
     "output_type": "execute_result"
    }
   ],
   "source": [
    "additional_features = rides_info.groupby('car_id').agg(\n",
    "    avg_stop_times=('stop_times', 'mean'),\n",
    "    refueling_percentage=('refueling', lambda x: (x.sum() / len(x)) * 100),\n",
    "    avg_deviation_normal=('deviation_normal', 'mean')\n",
    ").reset_index()\n",
    "\n",
    "# Объединяем\n",
    "enhanced_grouped_rides = pd.merge(grouped_rides, additional_features, on='car_id')\n",
    "\n",
    "enhanced_grouped_rides.head(1)"
   ]
  },
  {
   "cell_type": "markdown",
   "metadata": {},
   "source": [
    "- 1. Среднее количество остановок на поездку - это может указывать на стиль вождения или типы маршрутов, которые выбирает водитель.\n",
    "- 2. Процент поездок с дозаправкой - это может дать представление о дальности поездок или о необходимости в частых дозаправках, что может быть связано с эффективностью использования топлива.\n",
    "- 3. Среднее отклонение от нормы - это может показывать, насколько типичны поездки для данной машины по сравнению с общим распределением, указывая на возможные аномалии или особенности использования."
   ]
  },
  {
   "cell_type": "markdown",
   "metadata": {},
   "source": [
    "# 4. Сделайте соединение таблиц — вспомните про методы соединения и выберите подходящий для этого случая."
   ]
  },
  {
   "cell_type": "code",
   "execution_count": 8,
   "metadata": {},
   "outputs": [
    {
     "data": {
      "text/html": [
       "<div>\n",
       "<style scoped>\n",
       "    .dataframe tbody tr th:only-of-type {\n",
       "        vertical-align: middle;\n",
       "    }\n",
       "\n",
       "    .dataframe tbody tr th {\n",
       "        vertical-align: top;\n",
       "    }\n",
       "\n",
       "    .dataframe thead th {\n",
       "        text-align: right;\n",
       "    }\n",
       "</style>\n",
       "<table border=\"1\" class=\"dataframe\">\n",
       "  <thead>\n",
       "    <tr style=\"text-align: right;\">\n",
       "      <th></th>\n",
       "      <th>car_id</th>\n",
       "      <th>model</th>\n",
       "      <th>car_type</th>\n",
       "      <th>fuel_type</th>\n",
       "      <th>car_rating</th>\n",
       "      <th>year_to_start</th>\n",
       "      <th>riders</th>\n",
       "      <th>year_to_work</th>\n",
       "      <th>target_reg</th>\n",
       "      <th>target_class</th>\n",
       "      <th>min_rating</th>\n",
       "      <th>avg_rating</th>\n",
       "      <th>total_distance</th>\n",
       "      <th>max_speed</th>\n",
       "      <th>total_rides</th>\n",
       "      <th>avg_stop_times</th>\n",
       "      <th>refueling_percentage</th>\n",
       "      <th>avg_deviation_normal</th>\n",
       "    </tr>\n",
       "  </thead>\n",
       "  <tbody>\n",
       "    <tr>\n",
       "      <th>0</th>\n",
       "      <td>y13744087j</td>\n",
       "      <td>Kia Rio X-line</td>\n",
       "      <td>economy</td>\n",
       "      <td>petrol</td>\n",
       "      <td>3.78</td>\n",
       "      <td>2015</td>\n",
       "      <td>76163</td>\n",
       "      <td>2021</td>\n",
       "      <td>108.53</td>\n",
       "      <td>another_bug</td>\n",
       "      <td>0.1</td>\n",
       "      <td>4.737759</td>\n",
       "      <td>1.214131e+07</td>\n",
       "      <td>180.855726</td>\n",
       "      <td>174</td>\n",
       "      <td>3.62069</td>\n",
       "      <td>0.0</td>\n",
       "      <td>-0.120391</td>\n",
       "    </tr>\n",
       "  </tbody>\n",
       "</table>\n",
       "</div>"
      ],
      "text/plain": [
       "       car_id           model car_type fuel_type  car_rating  year_to_start  \\\n",
       "0  y13744087j  Kia Rio X-line  economy    petrol        3.78           2015   \n",
       "\n",
       "   riders  year_to_work  target_reg target_class  min_rating  avg_rating  \\\n",
       "0   76163          2021      108.53  another_bug         0.1    4.737759   \n",
       "\n",
       "   total_distance   max_speed  total_rides  avg_stop_times  \\\n",
       "0    1.214131e+07  180.855726          174         3.62069   \n",
       "\n",
       "   refueling_percentage  avg_deviation_normal  \n",
       "0                   0.0             -0.120391  "
      ]
     },
     "execution_count": 8,
     "metadata": {},
     "output_type": "execute_result"
    }
   ],
   "source": [
    "# Используем merge для соединения car_train и enhanced_grouped_rides по car_id\n",
    "full_car_info = pd.merge(car_train, enhanced_grouped_rides, on='car_id', how='left')\n",
    "\n",
    "full_car_info.head(1)"
   ]
  },
  {
   "cell_type": "markdown",
   "metadata": {},
   "source": [
    "## 5.Подключите информацию про водителей (driver_info) и про ремонт машин (fix_info).  Добавьте минимум 3 любых признака с каждого датасета\n",
    "\n",
    "Я буду использовать метод merge() для объединения датасетов по соответствующим ключам. \n"
   ]
  },
  {
   "cell_type": "code",
   "execution_count": 9,
   "metadata": {},
   "outputs": [
    {
     "data": {
      "text/html": [
       "<div>\n",
       "<style scoped>\n",
       "    .dataframe tbody tr th:only-of-type {\n",
       "        vertical-align: middle;\n",
       "    }\n",
       "\n",
       "    .dataframe tbody tr th {\n",
       "        vertical-align: top;\n",
       "    }\n",
       "\n",
       "    .dataframe thead th {\n",
       "        text-align: right;\n",
       "    }\n",
       "</style>\n",
       "<table border=\"1\" class=\"dataframe\">\n",
       "  <thead>\n",
       "    <tr style=\"text-align: right;\">\n",
       "      <th></th>\n",
       "      <th>car_id</th>\n",
       "      <th>model</th>\n",
       "      <th>car_type</th>\n",
       "      <th>fuel_type</th>\n",
       "      <th>car_rating</th>\n",
       "      <th>year_to_start</th>\n",
       "      <th>riders</th>\n",
       "      <th>year_to_work</th>\n",
       "      <th>target_reg</th>\n",
       "      <th>target_class</th>\n",
       "      <th>...</th>\n",
       "      <th>distance</th>\n",
       "      <th>refueling</th>\n",
       "      <th>user_ride_quality</th>\n",
       "      <th>deviation_normal</th>\n",
       "      <th>age</th>\n",
       "      <th>user_rating</th>\n",
       "      <th>sex</th>\n",
       "      <th>fix_date</th>\n",
       "      <th>work_type</th>\n",
       "      <th>destroy_degree</th>\n",
       "    </tr>\n",
       "  </thead>\n",
       "  <tbody>\n",
       "    <tr>\n",
       "      <th>0</th>\n",
       "      <td>y13744087j</td>\n",
       "      <td>Kia Rio X-line</td>\n",
       "      <td>economy</td>\n",
       "      <td>petrol</td>\n",
       "      <td>3.78</td>\n",
       "      <td>2015</td>\n",
       "      <td>76163</td>\n",
       "      <td>2021</td>\n",
       "      <td>108.53</td>\n",
       "      <td>another_bug</td>\n",
       "      <td>...</td>\n",
       "      <td>1682.556402</td>\n",
       "      <td>0</td>\n",
       "      <td>0.52475</td>\n",
       "      <td>0.0</td>\n",
       "      <td>38</td>\n",
       "      <td>7.4</td>\n",
       "      <td>0</td>\n",
       "      <td>2019-8-10 9:29</td>\n",
       "      <td>reparking</td>\n",
       "      <td>1.0</td>\n",
       "    </tr>\n",
       "  </tbody>\n",
       "</table>\n",
       "<p>1 rows × 37 columns</p>\n",
       "</div>"
      ],
      "text/plain": [
       "       car_id           model car_type fuel_type  car_rating  year_to_start  \\\n",
       "0  y13744087j  Kia Rio X-line  economy    petrol        3.78           2015   \n",
       "\n",
       "   riders  year_to_work  target_reg target_class  ...     distance  refueling  \\\n",
       "0   76163          2021      108.53  another_bug  ...  1682.556402          0   \n",
       "\n",
       "   user_ride_quality  deviation_normal  age  user_rating  sex        fix_date  \\\n",
       "0            0.52475               0.0   38          7.4    0  2019-8-10 9:29   \n",
       "\n",
       "   work_type destroy_degree  \n",
       "0  reparking            1.0  \n",
       "\n",
       "[1 rows x 37 columns]"
      ]
     },
     "execution_count": 9,
     "metadata": {},
     "output_type": "execute_result"
    }
   ],
   "source": [
    "# Присоединяем rides_info к full_car_info по car_id\n",
    "full_car_rides = pd.merge(full_car_info, rides_info, on='car_id', how='left')\n",
    "\n",
    "# Присоединяем driver_info к full_car_rides по user_id\n",
    "full_car_drivers = pd.merge(full_car_rides, driver_info[['user_id', 'age', 'user_rating', 'sex']], on='user_id', how='left')\n",
    "\n",
    "# Присоединяем fix_info к full_car_drivers по car_id, выбирая нужные столбцы\n",
    "final_df = pd.merge(full_car_drivers, fix_info[['car_id', 'fix_date', 'work_type', 'destroy_degree']], on='car_id', how='left', suffixes=('', '_fix'))\n",
    "\n",
    "final_df.head(1)"
   ]
  },
  {
   "cell_type": "markdown",
   "metadata": {},
   "source": [
    "Метод был выбран с учётом необходимости объединения информации из различных источников для получения полной картины состояния автопарка, включая характеристики водителей и историю обслуживания каждого автомобиля. В данном случае, ключевой элемент связи — `rides_info`, который позволяет связать информацию о водителях `driver_info` и информацию о ремонтах `fix_info` с конкретными автомобилями `full_car_info` через поездки. Выбор такого подхода направлен на создание основы для комплексного анализа, который может включать изучение взаимосвязи между характеристиками водителя и состоянием автомобиля, анализ влияния ремонтов на общую оценку автомобилей, и др. аспекты, важные для управления автопарком и повышения качества обслуживания клиентов.\n",
    "\n",
    "Из `driver_info` выбраны колонки: `age`, `user_rating`, `sex`\n",
    "\n",
    "- `age`: Возраст водителя может быть важным фактором, влияющим на стиль вождения, опыт и, потенциально, на безопасность поездок.\n",
    "- `user_rating`: Рейтинг водителя напрямую отражает удовлетворенность клиентов услугами водителя. Это ключевой показатель качества сервиса.\n",
    "- `sex`: Предполагаю, что пол водителя включён в анализ, возможно, для исследования статистических различий в показателях вождения или предпочтениях клиентов.\n",
    "\n",
    "Из `fix_info`выбраны колонки: `fix_date`, `work_type`, `destroy_degree`\n",
    "\n",
    "`fix_date`: Дата последнего ремонта может помочь оценить текущее техническое состояние автомобиля и планировать будущее обслуживание.\n",
    "`work_type`: Тип проведённых работ дает понимание о характере вмешательства в автомобиль, будь то регулярное техобслуживание или устранение неисправности.\n",
    "`destroy_degree`: Степень повреждения автомобиля при последнем ремонте может указывать на серьёзность происшествий или износа, с которыми автомобиль сталкивался в прошлом."
   ]
  },
  {
   "cell_type": "markdown",
   "metadata": {
    "id": "Q6Fa0zupbuhw"
   },
   "source": [
    "## Задание 2. Применение методов фильтрации признаков (4 балла)\n",
    "\n",
    "<center> <img src=\"https://ucarecdn.com/d1b4bc78-fd04-44fb-bdbf-0a63355b7384/\" width=700>"
   ]
  },
  {
   "cell_type": "markdown",
   "metadata": {
    "id": "c910L9jubuhx"
   },
   "source": [
    "1. Выберите и примените любые 3 (можно и больше) метода фильтрации, которые указаны выше или в ноутбуке по фильтрации из полезных ссылок.\n",
    "2. Проинтерпретируйте результаты и сделайте выводы.\n",
    "\n",
    "\n",
    "<h4> Критерии оценивания </h4>\n",
    "    \n",
    "- Применены методы фильтрации — 1 балл за каждый метод, максимум 3 балла.\n",
    "- Сделаны выводы на основе примененных методов —1 балл.\n",
    "</div>"
   ]
  },
  {
   "cell_type": "markdown",
   "metadata": {
    "id": "9flWgKVxf9Q1"
   },
   "source": [
    "### Советы по Feature Selection"
   ]
  },
  {
   "cell_type": "markdown",
   "metadata": {
    "id": "vYr9VNS5buhw"
   },
   "source": [
    "<div class=\"alert alert-info\">\n",
    "\n",
    "<h3><center>Зачем отбирать признаки</center></h3>\n",
    "    \n",
    "**Основные причины**:\n",
    "    \n",
    "- Главная причина: с увеличением количества признаков часто падает точность предсказания модели, а некоторые модели и вовсе перестают адекватно работать. Так происходит, если в данных большое количество мусорных фичей (почти не коррелирующих с таргетом).\n",
    "\n",
    "- Если фичей очень много, то данные перестают помещаться в память и существенно увеличивают время обучения модели, особенно если мы тестируем несколько алгоритмов или ансамбль. Также важно учитывать, что платформы имеют ограничения на длительность одной сессии (в Kaggle — 12 часов) и лимиты по потребляемой памяти.\n",
    "\n",
    "- Даже если точность не снижается, есть риск, что модель опирается на шумные фичи, что снизит стабильность прогноза на приватной выборке.\n"
   ]
  },
  {
   "cell_type": "markdown",
   "metadata": {
    "id": "P4JQwUS3buhw"
   },
   "source": [
    "<b>Что удалить сразу:</b>\n",
    "    \n",
    "- константы;\n",
    "- уникальные значения (в том числе в тесте; как правило, это ID-шники по типу `car_id`).\n",
    "    \n",
    "<b>Какие методы использовать:</b>\n",
    "    \n",
    "- `Линейная корреляция`.\n",
    "- `Phik` — тоже корреляция, но на стероидах ([туториал на Medium](https://towardsdatascience.com/phik-k-get-familiar-with-the-latest-correlation-coefficient-9ba0032b37e7)).\n",
    "- `Permutation importance` (из `scikit-learn`).\n",
    "- `SHAP values` (из библиотеки `shap`).\n",
    "- `CatBoost Feature Selection` (рекурсивные методы).\n",
    "    "
   ]
  },
  {
   "cell_type": "code",
   "execution_count": 10,
   "metadata": {
    "id": "UT2ndUSHbuhx"
   },
   "outputs": [],
   "source": [
    "#!pip install catboost shap -q"
   ]
  },
  {
   "cell_type": "code",
   "execution_count": 11,
   "metadata": {},
   "outputs": [
    {
     "name": "stdout",
     "output_type": "stream",
     "text": [
      "Удалены столбцы: ['ride_id', 'total_rides', 'user_id', 'car_id']\n"
     ]
    },
    {
     "data": {
      "text/html": [
       "<div>\n",
       "<style scoped>\n",
       "    .dataframe tbody tr th:only-of-type {\n",
       "        vertical-align: middle;\n",
       "    }\n",
       "\n",
       "    .dataframe tbody tr th {\n",
       "        vertical-align: top;\n",
       "    }\n",
       "\n",
       "    .dataframe thead th {\n",
       "        text-align: right;\n",
       "    }\n",
       "</style>\n",
       "<table border=\"1\" class=\"dataframe\">\n",
       "  <thead>\n",
       "    <tr style=\"text-align: right;\">\n",
       "      <th></th>\n",
       "      <th>model</th>\n",
       "      <th>car_type</th>\n",
       "      <th>fuel_type</th>\n",
       "      <th>car_rating</th>\n",
       "      <th>year_to_start</th>\n",
       "      <th>riders</th>\n",
       "      <th>year_to_work</th>\n",
       "      <th>target_reg</th>\n",
       "      <th>target_class</th>\n",
       "      <th>min_rating</th>\n",
       "      <th>avg_rating</th>\n",
       "      <th>total_distance</th>\n",
       "      <th>max_speed</th>\n",
       "      <th>avg_stop_times</th>\n",
       "      <th>refueling_percentage</th>\n",
       "      <th>avg_deviation_normal</th>\n",
       "      <th>ride_date</th>\n",
       "      <th>rating</th>\n",
       "      <th>ride_duration</th>\n",
       "      <th>ride_cost</th>\n",
       "      <th>speed_avg</th>\n",
       "      <th>speed_max</th>\n",
       "      <th>stop_times</th>\n",
       "      <th>distance</th>\n",
       "      <th>refueling</th>\n",
       "      <th>user_ride_quality</th>\n",
       "      <th>deviation_normal</th>\n",
       "      <th>age</th>\n",
       "      <th>user_rating</th>\n",
       "      <th>sex</th>\n",
       "      <th>fix_date</th>\n",
       "      <th>work_type</th>\n",
       "      <th>destroy_degree</th>\n",
       "    </tr>\n",
       "  </thead>\n",
       "  <tbody>\n",
       "    <tr>\n",
       "      <th>0</th>\n",
       "      <td>Kia Rio X-line</td>\n",
       "      <td>economy</td>\n",
       "      <td>petrol</td>\n",
       "      <td>3.78</td>\n",
       "      <td>2015</td>\n",
       "      <td>76163</td>\n",
       "      <td>2021</td>\n",
       "      <td>108.53</td>\n",
       "      <td>another_bug</td>\n",
       "      <td>0.1</td>\n",
       "      <td>4.737759</td>\n",
       "      <td>1.214131e+07</td>\n",
       "      <td>180.855726</td>\n",
       "      <td>3.62069</td>\n",
       "      <td>0.0</td>\n",
       "      <td>-0.120391</td>\n",
       "      <td>2020-01-01</td>\n",
       "      <td>5.72</td>\n",
       "      <td>220</td>\n",
       "      <td>3514</td>\n",
       "      <td>42</td>\n",
       "      <td>NaN</td>\n",
       "      <td>6</td>\n",
       "      <td>1682.556402</td>\n",
       "      <td>0</td>\n",
       "      <td>0.52475</td>\n",
       "      <td>0.0</td>\n",
       "      <td>38</td>\n",
       "      <td>7.4</td>\n",
       "      <td>0</td>\n",
       "      <td>2019-8-10 9:29</td>\n",
       "      <td>reparking</td>\n",
       "      <td>1.0</td>\n",
       "    </tr>\n",
       "  </tbody>\n",
       "</table>\n",
       "</div>"
      ],
      "text/plain": [
       "            model car_type fuel_type  car_rating  year_to_start  riders  \\\n",
       "0  Kia Rio X-line  economy    petrol        3.78           2015   76163   \n",
       "\n",
       "   year_to_work  target_reg target_class  min_rating  avg_rating  \\\n",
       "0          2021      108.53  another_bug         0.1    4.737759   \n",
       "\n",
       "   total_distance   max_speed  avg_stop_times  refueling_percentage  \\\n",
       "0    1.214131e+07  180.855726         3.62069                   0.0   \n",
       "\n",
       "   avg_deviation_normal   ride_date  rating  ride_duration  ride_cost  \\\n",
       "0             -0.120391  2020-01-01    5.72            220       3514   \n",
       "\n",
       "   speed_avg  speed_max  stop_times     distance  refueling  \\\n",
       "0         42        NaN           6  1682.556402          0   \n",
       "\n",
       "   user_ride_quality  deviation_normal  age  user_rating  sex        fix_date  \\\n",
       "0            0.52475               0.0   38          7.4    0  2019-8-10 9:29   \n",
       "\n",
       "   work_type  destroy_degree  \n",
       "0  reparking             1.0  "
      ]
     },
     "execution_count": 11,
     "metadata": {},
     "output_type": "execute_result"
    }
   ],
   "source": [
    "# Сразу дропаем \n",
    "# - константы;\n",
    "# - уникальные значения (в том числе в тесте; как правило, это ID-шники по типу car_id).\n",
    "\n",
    "## Определение столбцов с константными значениями\n",
    "constant_columns = [col for col in final_df.columns if final_df[col].nunique() == 1]\n",
    "\n",
    "# Определение столбцов с уникальными значениями (исключая NaN)\n",
    "unique_value_columns = [col for col in final_df.columns if final_df[col].nunique() == final_df.shape[0]]\n",
    "\n",
    "# Уникальные значения\n",
    "id_columns = ['user_id', 'car_id', 'ride_id']\n",
    "\n",
    "# Объединение списков столбцов для удаления\n",
    "columns_to_drop = list(set(constant_columns + unique_value_columns + id_columns))\n",
    "\n",
    "# Удаление столбцов из final_df\n",
    "final_df_cleaned = final_df.drop(columns=columns_to_drop)\n",
    "\n",
    "print(f\"Удалены столбцы: {columns_to_drop}\")\n",
    "\n",
    "pd.set_option('display.max_columns', None)\n",
    "final_df_cleaned.head(1)"
   ]
  },
  {
   "cell_type": "markdown",
   "metadata": {},
   "source": [
    "### Способ № 1 Feature importance (CatBoost)"
   ]
  },
  {
   "cell_type": "code",
   "execution_count": 12,
   "metadata": {},
   "outputs": [],
   "source": [
    "from catboost import CatBoostRegressor, Pool, CatBoostClassifier\n",
    "from sklearn.metrics import classification_report, accuracy_score\n",
    "from sklearn.model_selection import train_test_split\n",
    "\n",
    "# Подготовка данных\n",
    "X = final_df_cleaned.drop(['target_reg'], axis=1, errors='ignore')  # Удаляем только целевую переменную\n",
    "y = final_df_cleaned['target_reg'].fillna(0)\n",
    "\n",
    "# Ваши категориальные колонки\n",
    "cat_features = ['model', 'car_type', 'fuel_type', 'target_class', 'ride_date', 'fix_date', 'work_type']\n",
    "\n",
    "# Разделение данных на обучающую и тестовую выборки\n",
    "X_train, X_test, y_train, y_test = train_test_split(X, y, test_size=0.2, random_state=42)"
   ]
  },
  {
   "cell_type": "code",
   "execution_count": 13,
   "metadata": {},
   "outputs": [
    {
     "name": "stdout",
     "output_type": "stream",
     "text": [
      "0:\tlearn: 16.2330212\ttest: 16.2397590\tbest: 16.2397590 (0)\ttotal: 1.35s\tremaining: 2m 13s\n",
      "99:\tlearn: 2.9225192\ttest: 2.9314333\tbest: 2.9314333 (99)\ttotal: 1m 28s\tremaining: 0us\n",
      "\n",
      "bestTest = 2.931433328\n",
      "bestIteration = 99\n",
      "\n"
     ]
    },
    {
     "data": {
      "text/html": [
       "<div>\n",
       "<style scoped>\n",
       "    .dataframe tbody tr th:only-of-type {\n",
       "        vertical-align: middle;\n",
       "    }\n",
       "\n",
       "    .dataframe tbody tr th {\n",
       "        vertical-align: top;\n",
       "    }\n",
       "\n",
       "    .dataframe thead th {\n",
       "        text-align: right;\n",
       "    }\n",
       "</style>\n",
       "<table border=\"1\" class=\"dataframe\">\n",
       "  <thead>\n",
       "    <tr style=\"text-align: right;\">\n",
       "      <th></th>\n",
       "      <th>Importance</th>\n",
       "    </tr>\n",
       "  </thead>\n",
       "  <tbody>\n",
       "    <tr>\n",
       "      <th>target_class</th>\n",
       "      <td>22.520021</td>\n",
       "    </tr>\n",
       "    <tr>\n",
       "      <th>avg_stop_times</th>\n",
       "      <td>16.693846</td>\n",
       "    </tr>\n",
       "    <tr>\n",
       "      <th>total_distance</th>\n",
       "      <td>8.504284</td>\n",
       "    </tr>\n",
       "    <tr>\n",
       "      <th>car_rating</th>\n",
       "      <td>6.528463</td>\n",
       "    </tr>\n",
       "    <tr>\n",
       "      <th>avg_deviation_normal</th>\n",
       "      <td>6.413973</td>\n",
       "    </tr>\n",
       "    <tr>\n",
       "      <th>riders</th>\n",
       "      <td>6.381172</td>\n",
       "    </tr>\n",
       "    <tr>\n",
       "      <th>max_speed</th>\n",
       "      <td>5.813413</td>\n",
       "    </tr>\n",
       "    <tr>\n",
       "      <th>avg_rating</th>\n",
       "      <td>5.743672</td>\n",
       "    </tr>\n",
       "    <tr>\n",
       "      <th>fix_date</th>\n",
       "      <td>5.534976</td>\n",
       "    </tr>\n",
       "    <tr>\n",
       "      <th>model</th>\n",
       "      <td>4.866480</td>\n",
       "    </tr>\n",
       "    <tr>\n",
       "      <th>year_to_work</th>\n",
       "      <td>4.406510</td>\n",
       "    </tr>\n",
       "    <tr>\n",
       "      <th>car_type</th>\n",
       "      <td>4.292707</td>\n",
       "    </tr>\n",
       "    <tr>\n",
       "      <th>min_rating</th>\n",
       "      <td>1.420247</td>\n",
       "    </tr>\n",
       "    <tr>\n",
       "      <th>fuel_type</th>\n",
       "      <td>0.429006</td>\n",
       "    </tr>\n",
       "    <tr>\n",
       "      <th>year_to_start</th>\n",
       "      <td>0.324239</td>\n",
       "    </tr>\n",
       "    <tr>\n",
       "      <th>destroy_degree</th>\n",
       "      <td>0.088160</td>\n",
       "    </tr>\n",
       "    <tr>\n",
       "      <th>user_ride_quality</th>\n",
       "      <td>0.016605</td>\n",
       "    </tr>\n",
       "    <tr>\n",
       "      <th>work_type</th>\n",
       "      <td>0.012624</td>\n",
       "    </tr>\n",
       "    <tr>\n",
       "      <th>refueling_percentage</th>\n",
       "      <td>0.009602</td>\n",
       "    </tr>\n",
       "    <tr>\n",
       "      <th>ride_date</th>\n",
       "      <td>0.000000</td>\n",
       "    </tr>\n",
       "    <tr>\n",
       "      <th>ride_duration</th>\n",
       "      <td>0.000000</td>\n",
       "    </tr>\n",
       "    <tr>\n",
       "      <th>ride_cost</th>\n",
       "      <td>0.000000</td>\n",
       "    </tr>\n",
       "    <tr>\n",
       "      <th>speed_avg</th>\n",
       "      <td>0.000000</td>\n",
       "    </tr>\n",
       "    <tr>\n",
       "      <th>speed_max</th>\n",
       "      <td>0.000000</td>\n",
       "    </tr>\n",
       "    <tr>\n",
       "      <th>stop_times</th>\n",
       "      <td>0.000000</td>\n",
       "    </tr>\n",
       "    <tr>\n",
       "      <th>distance</th>\n",
       "      <td>0.000000</td>\n",
       "    </tr>\n",
       "    <tr>\n",
       "      <th>refueling</th>\n",
       "      <td>0.000000</td>\n",
       "    </tr>\n",
       "    <tr>\n",
       "      <th>deviation_normal</th>\n",
       "      <td>0.000000</td>\n",
       "    </tr>\n",
       "    <tr>\n",
       "      <th>age</th>\n",
       "      <td>0.000000</td>\n",
       "    </tr>\n",
       "    <tr>\n",
       "      <th>user_rating</th>\n",
       "      <td>0.000000</td>\n",
       "    </tr>\n",
       "    <tr>\n",
       "      <th>sex</th>\n",
       "      <td>0.000000</td>\n",
       "    </tr>\n",
       "    <tr>\n",
       "      <th>rating</th>\n",
       "      <td>0.000000</td>\n",
       "    </tr>\n",
       "  </tbody>\n",
       "</table>\n",
       "</div>"
      ],
      "text/plain": [
       "                      Importance\n",
       "target_class           22.520021\n",
       "avg_stop_times         16.693846\n",
       "total_distance          8.504284\n",
       "car_rating              6.528463\n",
       "avg_deviation_normal    6.413973\n",
       "riders                  6.381172\n",
       "max_speed               5.813413\n",
       "avg_rating              5.743672\n",
       "fix_date                5.534976\n",
       "model                   4.866480\n",
       "year_to_work            4.406510\n",
       "car_type                4.292707\n",
       "min_rating              1.420247\n",
       "fuel_type               0.429006\n",
       "year_to_start           0.324239\n",
       "destroy_degree          0.088160\n",
       "user_ride_quality       0.016605\n",
       "work_type               0.012624\n",
       "refueling_percentage    0.009602\n",
       "ride_date               0.000000\n",
       "ride_duration           0.000000\n",
       "ride_cost               0.000000\n",
       "speed_avg               0.000000\n",
       "speed_max               0.000000\n",
       "stop_times              0.000000\n",
       "distance                0.000000\n",
       "refueling               0.000000\n",
       "deviation_normal        0.000000\n",
       "age                     0.000000\n",
       "user_rating             0.000000\n",
       "sex                     0.000000\n",
       "rating                  0.000000"
      ]
     },
     "execution_count": 13,
     "metadata": {},
     "output_type": "execute_result"
    }
   ],
   "source": [
    "# Создание объектов Pool\n",
    "pool_train = Pool(X_train, y_train, cat_features=cat_features)\n",
    "pool_test = Pool(X_test, y_test, cat_features=cat_features)\n",
    "\n",
    "# Инициализация и обучение модели CatBoost\n",
    "model = CatBoostRegressor(\n",
    "    iterations=100,\n",
    "    learning_rate=0.1,\n",
    "    depth=10,\n",
    "    cat_features=cat_features,\n",
    "    verbose=100,\n",
    "    early_stopping_rounds=100,\n",
    "    random_seed=42\n",
    ")\n",
    "\n",
    "model.fit(pool_train, eval_set=pool_test, use_best_model=True)\n",
    "\n",
    "# Вывод важности признаков\n",
    "feature_importances = model.get_feature_importance()\n",
    "importance_df = pd.DataFrame(feature_importances, index=X_train.columns, columns=[\"Importance\"]).sort_values(by=\"Importance\", ascending=False)\n",
    "importance_df"
   ]
  },
  {
   "cell_type": "code",
   "execution_count": 14,
   "metadata": {},
   "outputs": [
    {
     "data": {
      "image/png": "[encoded data removed]",
      "text/plain": [
       "<Figure size 1000x800 with 1 Axes>"
      ]
     },
     "metadata": {},
     "output_type": "display_data"
    }
   ],
   "source": [
    "# Сортировка значений важности признаков по убыванию\n",
    "importance_df_sorted = importance_df.sort_values(by=\"Importance\", ascending=True)\n",
    "\n",
    "# Создание горизонтальной столбчатой диаграммы\n",
    "plt.figure(figsize=(10, 8))\n",
    "bars = plt.barh(importance_df_sorted.index, importance_df_sorted['Importance'], color='skyblue')\n",
    "\n",
    "# Добавление значений на диаграмме\n",
    "for bar in bars:\n",
    "    plt.text(bar.get_width(), bar.get_y() + bar.get_height()/2,\n",
    "             f\"{bar.get_width():.2f}\", \n",
    "             va='center', ha='left')\n",
    "\n",
    "plt.xlabel('Важность признака')\n",
    "plt.ylabel('Признаки')\n",
    "plt.title('Важность признаков модели CatBoost')\n",
    "plt.show()"
   ]
  },
  {
   "cell_type": "markdown",
   "metadata": {},
   "source": [
    "### Способ № 2 Phink"
   ]
  },
  {
   "cell_type": "code",
   "execution_count": 15,
   "metadata": {},
   "outputs": [],
   "source": [
    "# !pip install phik -q"
   ]
  },
  {
   "cell_type": "code",
   "execution_count": 16,
   "metadata": {},
   "outputs": [],
   "source": [
    "import phik\n",
    "from phik import resources, report\n",
    "import seaborn as sns\n",
    "\n",
    "# Вычисляем корреляцию Phik \n",
    "phik_matrix = final_df_cleaned.phik_matrix()\n",
    "\n",
    "# Отображение корреляционной матрицы Phik\n",
    "print(phik_matrix)\n",
    "\n",
    "# Визуализация корреляционной матрицы \n",
    "plt.figure(figsize=(12, 10))\n",
    "sns.heatmap(phik_matrix, annot=True, fmt=\".2f\", cmap=\"viridis\")\n",
    "plt.title(\"Phik Correlation Matrix\")\n",
    "plt.show()"
   ]
  },
  {
   "cell_type": "markdown",
   "metadata": {},
   "source": [
    "‪![ошибка](1.jpg)\n",
    "Способ мне не понравился, т.к., на мой взгляд, он пораждает различного рода проблемы, основной из которых является необходимость решить что-то с колонкой `fix_date`. Самым разумным представляется использовать какие-то конкретные данные из нее, например день или время поломки, а не всю дату целиком. Можно еще и дропнуть ее, но в таком случае, мы можем потерять потенциальный признак, который может быть важным для нашего анализа. Чтобы выполнить задание и не терять время, я дропнул эту колонку, но на самом деле, не будь это частью задания и будь у меня больше времени на исследование, я бы так не поступил!"
   ]
  },
  {
   "cell_type": "code",
   "execution_count": 17,
   "metadata": {},
   "outputs": [
    {
     "name": "stdout",
     "output_type": "stream",
     "text": [
      "interval columns not set, guessing: ['car_rating', 'year_to_start', 'riders', 'year_to_work', 'target_reg', 'min_rating', 'avg_rating', 'total_distance', 'max_speed', 'avg_stop_times', 'refueling_percentage', 'avg_deviation_normal', 'rating', 'ride_duration', 'ride_cost', 'speed_avg', 'speed_max', 'stop_times', 'distance', 'refueling', 'user_ride_quality', 'deviation_normal', 'age', 'user_rating', 'sex', 'destroy_degree']\n",
      "                         model  car_type  fuel_type  car_rating  \\\n",
      "model                 1.000000  1.000000   1.000000    0.249718   \n",
      "car_type              1.000000  1.000000   0.694427    0.090503   \n",
      "fuel_type             1.000000  0.694427   1.000000    0.073095   \n",
      "car_rating            0.249718  0.090503   0.073095    1.000000   \n",
      "year_to_start         0.578220  0.281361   0.025406    0.132854   \n",
      "riders                0.550906  0.312185   0.057774    0.218532   \n",
      "year_to_work          0.317306  0.137838   0.054148    0.136937   \n",
      "target_reg            0.423454  0.229485   0.405376    0.173593   \n",
      "target_class          0.311372  0.203310   0.050828    0.135708   \n",
      "min_rating            0.285254  0.102444   0.122980    0.232693   \n",
      "avg_rating            0.299863  0.129722   0.057953    0.207927   \n",
      "total_distance        0.281252  0.090530   0.095416    0.171688   \n",
      "max_speed             0.285323  0.131838   0.104178    0.166425   \n",
      "avg_stop_times        0.246366  0.109380   0.026921    0.126906   \n",
      "refueling_percentage  0.093292  0.038908   0.008098    0.060503   \n",
      "avg_deviation_normal  0.296048  0.115786   0.101322    0.243232   \n",
      "ride_date             0.011034  0.005247   0.002535    0.005970   \n",
      "rating                0.039936  0.020456   0.005031    0.027463   \n",
      "ride_duration         0.022645  0.007639   0.008027    0.015845   \n",
      "ride_cost             0.111772  0.109658   0.069594    0.013879   \n",
      "speed_avg             0.037538  0.020988   0.008148    0.023814   \n",
      "speed_max             0.053723  0.032832   0.009621    0.028081   \n",
      "stop_times            0.080062  0.059660   0.006848    0.034476   \n",
      "distance              0.020294  0.008247   0.005111    0.013671   \n",
      "refueling             0.006863  0.002863   0.000206    0.004462   \n",
      "user_ride_quality     0.176093  0.072847   0.032464    0.115716   \n",
      "deviation_normal      0.144249  0.052965   0.042832    0.115756   \n",
      "age                   0.094838  0.060768   0.060821    0.017029   \n",
      "user_rating           0.261916  0.155162   0.266044    0.024364   \n",
      "sex                   0.048682  0.018750   0.002922    0.010303   \n",
      "work_type             0.038810  0.009587   0.016191    0.022562   \n",
      "destroy_degree        0.067286  0.024690   0.022222    0.038725   \n",
      "\n",
      "                      year_to_start    riders  year_to_work  target_reg  \\\n",
      "model                      0.578220  0.550906      0.317306    0.423454   \n",
      "car_type                   0.281361  0.312185      0.137838    0.229485   \n",
      "fuel_type                  0.025406  0.057774      0.054148    0.405376   \n",
      "car_rating                 0.132854  0.218532      0.136937    0.173593   \n",
      "year_to_start              1.000000  0.956550      0.100902    0.121701   \n",
      "riders                     0.956550  1.000000      0.130009    0.186264   \n",
      "year_to_work               0.100902  0.130009      1.000000    0.133136   \n",
      "target_reg                 0.121701  0.186264      0.133136    1.000000   \n",
      "target_class               0.112042  0.127224      0.163130    0.645159   \n",
      "min_rating                 0.107369  0.192783      0.136704    0.202686   \n",
      "avg_rating                 0.130682  0.213400      0.133864    0.494160   \n",
      "total_distance             0.099568  0.175195      0.143952    0.189497   \n",
      "max_speed                  0.142928  0.217232      0.138605    0.514984   \n",
      "avg_stop_times             0.150669  0.122450      0.136948    0.412322   \n",
      "refueling_percentage       0.035196  0.070407      0.065288    0.038806   \n",
      "avg_deviation_normal       0.125364  0.212303      0.140171    0.275927   \n",
      "ride_date                  0.004822  0.006060      0.006243    0.005869   \n",
      "rating                     0.014018  0.023941      0.017065    0.072716   \n",
      "ride_duration              0.009187  0.014006      0.009653    0.015057   \n",
      "ride_cost                  0.012817  0.018336      0.013846    0.032935   \n",
      "speed_avg                  0.012494  0.022161      0.018181    0.051078   \n",
      "speed_max                  0.022777  0.031597      0.021527    0.176692   \n",
      "stop_times                 0.017652  0.026219      0.036349    0.266627   \n",
      "distance                   0.007913  0.014887      0.010816    0.017333   \n",
      "refueling                  0.002596  0.005231      0.004888    0.002748   \n",
      "user_ride_quality          0.063328  0.100785      0.072263    0.110319   \n",
      "deviation_normal           0.054374  0.090859      0.069514    0.176040   \n",
      "age                        0.024745  0.033017      0.018547    0.028742   \n",
      "user_rating                0.021926  0.029932      0.021756    0.115877   \n",
      "sex                        0.010727  0.014797      0.007971    0.013157   \n",
      "work_type                  0.012905  0.018044      0.017758    0.038706   \n",
      "destroy_degree             0.021693  0.034670      0.026458    0.297807   \n",
      "\n",
      "                      target_class  min_rating  avg_rating  total_distance  \\\n",
      "model                     0.311372    0.285254    0.299863        0.281252   \n",
      "car_type                  0.203310    0.102444    0.129722        0.090530   \n",
      "fuel_type                 0.050828    0.122980    0.057953        0.095416   \n",
      "car_rating                0.135708    0.232693    0.207927        0.171688   \n",
      "year_to_start             0.112042    0.107369    0.130682        0.099568   \n",
      "riders                    0.127224    0.192783    0.213400        0.175195   \n",
      "year_to_work              0.163130    0.136704    0.133864        0.143952   \n",
      "target_reg                0.645159    0.202686    0.494160        0.189497   \n",
      "target_class              1.000000    0.320609    0.774554        0.179203   \n",
      "min_rating                0.320609    1.000000    0.452864        0.167928   \n",
      "avg_rating                0.774554    0.452864    1.000000        0.229460   \n",
      "total_distance            0.179203    0.167928    0.229460        1.000000   \n",
      "max_speed                 0.785274    0.321520    0.680446        0.230986   \n",
      "avg_stop_times            0.646102    0.146257    0.491566        0.098978   \n",
      "refueling_percentage      0.055516    0.072042    0.059712        0.043260   \n",
      "avg_deviation_normal      0.423901    0.197282    0.392846        0.202488   \n",
      "ride_date                 0.006455    0.006534    0.006154        0.005037   \n",
      "rating                    0.209825    0.102898    0.258819        0.047498   \n",
      "ride_duration             0.008804    0.015992    0.015690        0.079662   \n",
      "ride_cost                 0.012461    0.017650    0.015988        0.071917   \n",
      "speed_avg                 0.174108    0.087035    0.209214        0.049321   \n",
      "speed_max                 0.307309    0.117600    0.301627        0.060595   \n",
      "stop_times                0.376720    0.089610    0.338291        0.044165   \n",
      "distance                  0.025456    0.016049    0.031617        0.084850   \n",
      "refueling                 0.004136    0.005357    0.004400        0.003107   \n",
      "user_ride_quality         0.107336    0.068801    0.106417        0.093386   \n",
      "deviation_normal          0.299142    0.130616    0.261765        0.108669   \n",
      "age                       0.042321    0.018341    0.035466        0.015673   \n",
      "user_rating               0.135135    0.038935    0.070930        0.029888   \n",
      "sex                       0.061345    0.009966    0.041347        0.009320   \n",
      "work_type                 0.022636    0.019873    0.020630        0.027557   \n",
      "destroy_degree            0.319764    0.052153    0.107367        0.042632   \n",
      "\n",
      "                      max_speed  avg_stop_times  refueling_percentage  \\\n",
      "model                  0.285323        0.246366              0.093292   \n",
      "car_type               0.131838        0.109380              0.038908   \n",
      "fuel_type              0.104178        0.026921              0.008098   \n",
      "car_rating             0.166425        0.126906              0.060503   \n",
      "year_to_start          0.142928        0.150669              0.035196   \n",
      "riders                 0.217232        0.122450              0.070407   \n",
      "year_to_work           0.138605        0.136948              0.065288   \n",
      "target_reg             0.514984        0.412322              0.038806   \n",
      "target_class           0.785274        0.646102              0.055516   \n",
      "min_rating             0.321520        0.146257              0.072042   \n",
      "avg_rating             0.680446        0.491566              0.059712   \n",
      "total_distance         0.230986        0.098978              0.043260   \n",
      "max_speed              1.000000        0.315668              0.068756   \n",
      "avg_stop_times         0.315668        1.000000              0.051307   \n",
      "refueling_percentage   0.068756        0.051307              1.000000   \n",
      "avg_deviation_normal   0.476170        0.151458              0.030138   \n",
      "ride_date              0.008233        0.005632              0.003427   \n",
      "rating                 0.176806        0.088391              0.010889   \n",
      "ride_duration          0.015056        0.009175              0.003134   \n",
      "ride_cost              0.016633        0.009739              0.002157   \n",
      "speed_avg              0.172317        0.082685              0.009709   \n",
      "speed_max              0.383864        0.077346              0.010949   \n",
      "stop_times             0.200009        0.393211              0.031392   \n",
      "distance               0.027796        0.012789              0.003583   \n",
      "refueling              0.005103        0.003837              0.118144   \n",
      "user_ride_quality      0.094747        0.056269              0.023101   \n",
      "deviation_normal       0.329567        0.060610              0.030616   \n",
      "age                    0.022500        0.016414              0.006138   \n",
      "user_rating            0.105715        0.061306              0.004667   \n",
      "sex                    0.017114        0.012858              0.000000   \n",
      "work_type              0.018026        0.011674              0.027159   \n",
      "destroy_degree         0.222967        0.092605              0.007777   \n",
      "\n",
      "                      avg_deviation_normal  ride_date    rating  \\\n",
      "model                             0.296048   0.011034  0.039936   \n",
      "car_type                          0.115786   0.005247  0.020456   \n",
      "fuel_type                         0.101322   0.002535  0.005031   \n",
      "car_rating                        0.243232   0.005970  0.027463   \n",
      "year_to_start                     0.125364   0.004822  0.014018   \n",
      "riders                            0.212303   0.006060  0.023941   \n",
      "year_to_work                      0.140171   0.006243  0.017065   \n",
      "target_reg                        0.275927   0.005869  0.072716   \n",
      "target_class                      0.423901   0.006455  0.209825   \n",
      "min_rating                        0.197282   0.006534  0.102898   \n",
      "avg_rating                        0.392846   0.006154  0.258819   \n",
      "total_distance                    0.202488   0.005037  0.047498   \n",
      "max_speed                         0.476170   0.008233  0.176806   \n",
      "avg_stop_times                    0.151458   0.005632  0.088391   \n",
      "refueling_percentage              0.030138   0.003427  0.010889   \n",
      "avg_deviation_normal              1.000000   0.005713  0.076904   \n",
      "ride_date                         0.005713   1.000000  0.043306   \n",
      "rating                            0.076904   0.043306  1.000000   \n",
      "ride_duration                     0.012770   0.044205  0.014059   \n",
      "ride_cost                         0.015531   0.043993  0.015128   \n",
      "speed_avg                         0.067292   0.040717  0.185459   \n",
      "speed_max                         0.165266   0.043678  0.265184   \n",
      "stop_times                        0.086916   0.044032  0.135176   \n",
      "distance                          0.015847   0.045092  0.026729   \n",
      "refueling                         0.002033   0.018180  0.004786   \n",
      "user_ride_quality                 0.109207   0.349224  0.021125   \n",
      "deviation_normal                  0.840734   0.177485  0.055275   \n",
      "age                               0.017286   0.043582  0.014256   \n",
      "user_rating                       0.054065   0.044331  0.016855   \n",
      "sex                               0.006784   0.019206  0.009677   \n",
      "work_type                         0.018904   0.000000  0.001479   \n",
      "destroy_degree                    0.121410   0.000000  0.018537   \n",
      "\n",
      "                      ride_duration  ride_cost  speed_avg  speed_max  \\\n",
      "model                      0.022645   0.111772   0.037538   0.053723   \n",
      "car_type                   0.007639   0.109658   0.020988   0.032832   \n",
      "fuel_type                  0.008027   0.069594   0.008148   0.009621   \n",
      "car_rating                 0.015845   0.013879   0.023814   0.028081   \n",
      "year_to_start              0.009187   0.012817   0.012494   0.022777   \n",
      "riders                     0.014006   0.018336   0.022161   0.031597   \n",
      "year_to_work               0.009653   0.013846   0.018181   0.021527   \n",
      "target_reg                 0.015057   0.032935   0.051078   0.176692   \n",
      "target_class               0.008804   0.012461   0.174108   0.307309   \n",
      "min_rating                 0.015992   0.017650   0.087035   0.117600   \n",
      "avg_rating                 0.015690   0.015988   0.209214   0.301627   \n",
      "total_distance             0.079662   0.071917   0.049321   0.060595   \n",
      "max_speed                  0.015056   0.016633   0.172317   0.383864   \n",
      "avg_stop_times             0.009175   0.009739   0.082685   0.077346   \n",
      "refueling_percentage       0.003134   0.002157   0.009709   0.010949   \n",
      "avg_deviation_normal       0.012770   0.015531   0.067292   0.165266   \n",
      "ride_date                  0.044205   0.043993   0.040717   0.043678   \n",
      "rating                     0.014059   0.015128   0.185459   0.265184   \n",
      "ride_duration              1.000000   0.790738   0.016508   0.014637   \n",
      "ride_cost                  0.790738   1.000000   0.014810   0.013950   \n",
      "speed_avg                  0.016508   0.014810   1.000000   0.581907   \n",
      "speed_max                  0.014637   0.013950   0.581907   1.000000   \n",
      "stop_times                 0.019373   0.036125   0.087158   0.143134   \n",
      "distance                   0.878145   0.750381   0.201216   0.084385   \n",
      "refueling                  0.021359   0.010612   0.004498   0.002353   \n",
      "user_ride_quality          0.014931   0.026505   0.018666   0.021023   \n",
      "deviation_normal           0.015166   0.017517   0.049126   0.105359   \n",
      "age                        0.014466   0.014866   0.016512   0.013728   \n",
      "user_rating                0.013127   0.019848   0.016424   0.021403   \n",
      "sex                        0.005141   0.004885   0.004827   0.006494   \n",
      "work_type                  0.000737   0.000956   0.001445   0.002355   \n",
      "destroy_degree             0.001699   0.002209   0.008616   0.040359   \n",
      "\n",
      "                      stop_times  distance  refueling  user_ride_quality  \\\n",
      "model                   0.080062  0.020294   0.006863           0.176093   \n",
      "car_type                0.059660  0.008247   0.002863           0.072847   \n",
      "fuel_type               0.006848  0.005111   0.000206           0.032464   \n",
      "car_rating              0.034476  0.013671   0.004462           0.115716   \n",
      "year_to_start           0.017652  0.007913   0.002596           0.063328   \n",
      "riders                  0.026219  0.014887   0.005231           0.100785   \n",
      "year_to_work            0.036349  0.010816   0.004888           0.072263   \n",
      "target_reg              0.266627  0.017333   0.002748           0.110319   \n",
      "target_class            0.376720  0.025456   0.004136           0.107336   \n",
      "min_rating              0.089610  0.016049   0.005357           0.068801   \n",
      "avg_rating              0.338291  0.031617   0.004400           0.106417   \n",
      "total_distance          0.044165  0.084850   0.003107           0.093386   \n",
      "max_speed               0.200009  0.027796   0.005103           0.094747   \n",
      "avg_stop_times          0.393211  0.012789   0.003837           0.056269   \n",
      "refueling_percentage    0.031392  0.003583   0.118144           0.023101   \n",
      "avg_deviation_normal    0.086916  0.015847   0.002033           0.109207   \n",
      "ride_date               0.044032  0.045092   0.018180           0.349224   \n",
      "rating                  0.135176  0.026729   0.004786           0.021125   \n",
      "ride_duration           0.019373  0.878145   0.021359           0.014931   \n",
      "ride_cost               0.036125  0.750381   0.010612           0.026505   \n",
      "speed_avg               0.087158  0.201216   0.004498           0.018666   \n",
      "speed_max               0.143134  0.084385   0.002353           0.021023   \n",
      "stop_times              1.000000  0.015908   0.000502           0.031018   \n",
      "distance                0.015908  1.000000   0.011454           0.015906   \n",
      "refueling               0.000502  0.011454   1.000000           0.002454   \n",
      "user_ride_quality       0.031018  0.015906   0.002454           1.000000   \n",
      "deviation_normal        0.027336  0.014661   0.002451           0.109569   \n",
      "age                     0.018407  0.012457   0.005541           0.015047   \n",
      "user_rating             0.047042  0.014975   0.005256           0.016794   \n",
      "sex                     0.011416  0.004823   0.003971           0.007691   \n",
      "work_type               0.003355  0.000000   0.001885           0.009910   \n",
      "destroy_degree          0.061252  0.003011   0.000000           0.027412   \n",
      "\n",
      "                      deviation_normal       age  user_rating       sex  \\\n",
      "model                         0.144249  0.094838     0.261916  0.048682   \n",
      "car_type                      0.052965  0.060768     0.155162  0.018750   \n",
      "fuel_type                     0.042832  0.060821     0.266044  0.002922   \n",
      "car_rating                    0.115756  0.017029     0.024364  0.010303   \n",
      "year_to_start                 0.054374  0.024745     0.021926  0.010727   \n",
      "riders                        0.090859  0.033017     0.029932  0.014797   \n",
      "year_to_work                  0.069514  0.018547     0.021756  0.007971   \n",
      "target_reg                    0.176040  0.028742     0.115877  0.013157   \n",
      "target_class                  0.299142  0.042321     0.135135  0.061345   \n",
      "min_rating                    0.130616  0.018341     0.038935  0.009966   \n",
      "avg_rating                    0.261765  0.035466     0.070930  0.041347   \n",
      "total_distance                0.108669  0.015673     0.029888  0.009320   \n",
      "max_speed                     0.329567  0.022500     0.105715  0.017114   \n",
      "avg_stop_times                0.060610  0.016414     0.061306  0.012858   \n",
      "refueling_percentage          0.030616  0.006138     0.004667  0.000000   \n",
      "avg_deviation_normal          0.840734  0.017286     0.054065  0.006784   \n",
      "ride_date                     0.177485  0.043582     0.044331  0.019206   \n",
      "rating                        0.055275  0.014256     0.016855  0.009677   \n",
      "ride_duration                 0.015166  0.014466     0.013127  0.005141   \n",
      "ride_cost                     0.017517  0.014866     0.019848  0.004885   \n",
      "speed_avg                     0.049126  0.016512     0.016424  0.004827   \n",
      "speed_max                     0.105359  0.013728     0.021403  0.006494   \n",
      "stop_times                    0.027336  0.018407     0.047042  0.011416   \n",
      "distance                      0.014661  0.012457     0.014975  0.004823   \n",
      "refueling                     0.002451  0.005541     0.005256  0.003971   \n",
      "user_ride_quality             0.109569  0.015047     0.016794  0.007691   \n",
      "deviation_normal              1.000000  0.017787     0.034559  0.004920   \n",
      "age                           0.017787  1.000000     0.154387  0.938632   \n",
      "user_rating                   0.034559  0.154387     1.000000  0.202940   \n",
      "sex                           0.004920  0.938632     0.202940  1.000000   \n",
      "work_type                     0.009035  0.000000     0.002663  0.000580   \n",
      "destroy_degree                0.095629  0.005599     0.018806  0.008279   \n",
      "\n",
      "                      work_type  destroy_degree  \n",
      "model                  0.038810        0.067286  \n",
      "car_type               0.009587        0.024690  \n",
      "fuel_type              0.016191        0.022222  \n",
      "car_rating             0.022562        0.038725  \n",
      "year_to_start          0.012905        0.021693  \n",
      "riders                 0.018044        0.034670  \n",
      "year_to_work           0.017758        0.026458  \n",
      "target_reg             0.038706        0.297807  \n",
      "target_class           0.022636        0.319764  \n",
      "min_rating             0.019873        0.052153  \n",
      "avg_rating             0.020630        0.107367  \n",
      "total_distance         0.027557        0.042632  \n",
      "max_speed              0.018026        0.222967  \n",
      "avg_stop_times         0.011674        0.092605  \n",
      "refueling_percentage   0.027159        0.007777  \n",
      "avg_deviation_normal   0.018904        0.121410  \n",
      "ride_date              0.000000        0.000000  \n",
      "rating                 0.001479        0.018537  \n",
      "ride_duration          0.000737        0.001699  \n",
      "ride_cost              0.000956        0.002209  \n",
      "speed_avg              0.001445        0.008616  \n",
      "speed_max              0.002355        0.040359  \n",
      "stop_times             0.003355        0.061252  \n",
      "distance               0.000000        0.003011  \n",
      "refueling              0.001885        0.000000  \n",
      "user_ride_quality      0.009910        0.027412  \n",
      "deviation_normal       0.009035        0.095629  \n",
      "age                    0.000000        0.005599  \n",
      "user_rating            0.002663        0.018806  \n",
      "sex                    0.000580        0.008279  \n",
      "work_type              1.000000        0.657162  \n",
      "destroy_degree         0.657162        1.000000  \n"
     ]
    },
    {
     "data": {
      "image/png": "[encoded data removed]",
      "text/plain": [
       "<Figure size 1200x1000 with 2 Axes>"
      ]
     },
     "metadata": {},
     "output_type": "display_data"
    }
   ],
   "source": [
    "import phik\n",
    "from phik import resources, report\n",
    "import seaborn as sns\n",
    "\n",
    "# Дропаю 'fix_date'\n",
    "final_df_drop = final_df_cleaned.drop(columns=['fix_date'])\n",
    "\n",
    "# Вычисляем корреляцию Phik \n",
    "phik_matrix = final_df_drop.phik_matrix()\n",
    "\n",
    "# Отображение корреляционной матрицы Phik\n",
    "print(phik_matrix)\n",
    "\n",
    "# Визуализация корреляционной матрицы \n",
    "plt.figure(figsize=(12, 10))\n",
    "sns.heatmap(phik_matrix, annot=True, fmt=\".2f\", cmap=\"viridis\")\n",
    "plt.title(\"Phik Correlation Matrix\")\n",
    "plt.show()"
   ]
  },
  {
   "cell_type": "markdown",
   "metadata": {},
   "source": [
    "### Способ № 3 Shap"
   ]
  },
  {
   "cell_type": "code",
   "execution_count": 18,
   "metadata": {},
   "outputs": [
    {
     "data": {
      "image/png": "[encoded data removed]",
      "text/plain": [
       "<Figure size 800x1150 with 2 Axes>"
      ]
     },
     "metadata": {},
     "output_type": "display_data"
    }
   ],
   "source": [
    "import shap\n",
    "# Создание объекта TreeExplainer \n",
    "explainer = shap.TreeExplainer(model)\n",
    "\n",
    "# Вычисление SHAP values\n",
    "shap_values = explainer.shap_values(pool_test)\n",
    "\n",
    "# Визуализация средней абсолютной величины значений SHAP для каждого признака\n",
    "shap.summary_plot(shap_values, X_test, max_display=25)"
   ]
  },
  {
   "cell_type": "markdown",
   "metadata": {},
   "source": [
    "**Вывод**: На мой взгляд, лучше всего показал себя метод с Catboost feature importance. Он более прост в использовании, не нужна и устойчив к различному типу данных. Также более наглядный и показательный, по моему мнению. "
   ]
  },
  {
   "cell_type": "markdown",
   "metadata": {
    "id": "iSjuXdlcbuhx"
   },
   "source": [
    "# Домашнее задание 2. Прогноз времени и вида поломки машин. Настройка ML-модели"
   ]
  },
  {
   "cell_type": "markdown",
   "metadata": {
    "id": "2qoVlxvUbuhx"
   },
   "source": [
    "<div class=\"alert alert-info\">\n",
    "\n",
    "**Цель блока** — составить тренировочную и валидационную выборки, произвести обучение модели `CatBoostClassifier` на тренировочной части и оценить качество на валидационной."
   ]
  },
  {
   "cell_type": "markdown",
   "metadata": {
    "id": "OfqcanLLbuhx"
   },
   "source": [
    "##Обучение первой модели (5 баллов)\n",
    "\n",
    "1.   Новый пункт\n",
    "2.   Новый пункт\n",
    "\n"
   ]
  },
  {
   "cell_type": "markdown",
   "metadata": {
    "id": "ZXhXYJt6buhx"
   },
   "source": [
    "1. Классифицируйте признаки на типы (категориальные, числовые, таргеты).\n",
    "\n",
    "2. Выделите в `X` только признаки, а в `Y` — таргет (для задачи классификации).\n",
    "\n",
    "3. Сделайте разделение данных на *обучающую* и *валидационную* выборки (не забывайте про воспроизводимость результатов).\n",
    "\n",
    "4. Создайте и обучите `CatBoostClassifier` модель (настраивать гиперпараметры сейчас не обязательно).\n",
    "\n",
    "5. Проведите оценку вашей модели, используя метрику `accuracy`.\n",
    "\n",
    "\n",
    "<h4> Критерии оценивания </h4>\n",
    "    \n",
    "- По 1 баллу за каждый корректно выполненный пункт.\n",
    "\n",
    "</div>"
   ]
  },
  {
   "cell_type": "code",
   "execution_count": null,
   "metadata": {
    "id": "klrOFoVpbuhx"
   },
   "outputs": [],
   "source": [
    "from catboost import CatBoostClassifier\n",
    "from sklearn.model_selection import train_test_split\n",
    "from sklearn.metrics import accuracy_score"
   ]
  },
  {
   "cell_type": "code",
   "execution_count": null,
   "metadata": {
    "id": "lqwlTU2gbuhz"
   },
   "outputs": [],
   "source": [
    "features2drop = [...] # то, что надо выбросить\n",
    "targets = [...] # таргеты\n",
    "cat_features = [...] # категориальные признаки\n",
    "\n",
    "num_features = [...] # числовые признаки\n",
    "\n",
    "print('Категориальные признаки:', len(cat_features), cat_features)\n",
    "print('Числовые признаки:', len(num_features), num_features)\n",
    "print('Целевые переменные', targets)"
   ]
  },
  {
   "cell_type": "code",
   "execution_count": null,
   "metadata": {
    "id": "tGK5sgaQbuhz"
   },
   "outputs": [],
   "source": [
    "# YOUR CODE HERE"
   ]
  },
  {
   "cell_type": "markdown",
   "metadata": {
    "id": "pWAOjGCIbuhz"
   },
   "source": [
    "# Дополнительное задание. Визуализация прогнозов, ошибок модели и важности признаков"
   ]
  },
  {
   "cell_type": "markdown",
   "metadata": {
    "id": "oCvZU_ksbuhz"
   },
   "source": [
    "<div class=\"alert alert-info\">\n",
    "\n",
    "**Цель блока** — визуализировать результаты прогнозирования, ошибки модели и важность признаков для лучшего понимания и анализа модели."
   ]
  },
  {
   "cell_type": "markdown",
   "metadata": {
    "id": "onsptUygbuhz"
   },
   "source": [
    "## Визуализация (5 баллов)"
   ]
  },
  {
   "cell_type": "markdown",
   "metadata": {
    "id": "t3gAT3YHbuhz"
   },
   "source": [
    "   \n",
    "1. Визуализируйте важность признаков встроенным методом в `CatBoost`  (помните, что не стоит сильно доверять этому рейтингу важности, т. к. для сильно скоррелированных признаков важность делится пополам — оба признака могут улететь вниз).\n",
    "\n",
    "2. Постройте `waterfall_plot` из библиотеки `SHAP` (подробнее во втором ноутбуке из полезных ссылок ниже).\n",
    "    \n",
    "3. Постройте `classification_report` из библиотеки `scikit-learn`.\n",
    "\n",
    "4. Постройте и визуализируйте матрицу смежности (`confusion_matrix`), посмотрите, в каких классах модель больше всего ошибается.\n",
    "    \n",
    "5. Для каждого графика/примененного метода проинтерпретируйте результаты и сделайте выводы.\n",
    "\n",
    "\n",
    "<h4> Критерии оценивания </h4>\n",
    "    \n",
    "- По 1 баллу за каждый корректно выполненный пункт.\n",
    "    \n",
    "</div>\n",
    "\n",
    "<div class=\"alert alert-success\">\n",
    "\n",
    "Визуализация может помочь даже после того, как мы **уже обучили** какую-нибудь модель. Например:\n",
    "\n",
    "- Понять, что мешает модели или чего не хватает, чтобы не допускать ошибки.\n",
    "- Сделать выводы, как можно улучшить точность в последующих экспериментах.\n",
    "- Визуализировать ошибки модели.\n",
    "- Отсеять лишние признаки.\n",
    "- Найти идеи для новых признаков.\n",
    "- Все зависит от типа ваших данных.\n",
    "\n",
    "<h3> Полезные источники </h3>\n",
    "    \n",
    "- Занятие про визуализацию и Seaborn.\n",
    "- Занятие про продвинутую визуализацию и анализ ошибок модели.\n",
    "\n",
    "</div>    "
   ]
  },
  {
   "cell_type": "code",
   "execution_count": null,
   "metadata": {
    "id": "EYvkiOcrbuh0"
   },
   "outputs": [],
   "source": [
    "# YOUR CODE HERE"
   ]
  },
  {
   "cell_type": "markdown",
   "metadata": {
    "id": "pL8evJIMbuh0"
   },
   "source": [
    "# Домашнее задание 3. Оптимизация. Тюнинг гиперпараметров с помощью `Optuna`"
   ]
  },
  {
   "cell_type": "markdown",
   "metadata": {
    "id": "ZmanV8V8buh0"
   },
   "source": [
    "<div class=\"alert alert-info\">\n",
    "\n",
    "**Цель блока** — улучшить качество предсказания, произведя подбор гиперпараметров для модели с помощью `Optuna`."
   ]
  },
  {
   "cell_type": "markdown",
   "metadata": {
    "id": "qEbxkZf8buh1"
   },
   "source": [
    "## Подбор гиперпараметров (3 балла)"
   ]
  },
  {
   "cell_type": "markdown",
   "metadata": {
    "id": "XogayH7Hbuh1"
   },
   "source": [
    "1. Напишите `objective` функцию и запустите `Optuna`.\n",
    "2. Подберите гиперпараметры для `CatBoostClassifier` (минимум 3).\n",
    "3. Обучите модель с новыми гиперпараметрами, сравните качество и сделайте выводы.\n",
    "\n",
    "    \n",
    "<h4> Критерии оценивания </h4>\n",
    "    \n",
    "- 1 балл за каждый корректно выполненный пункт.\n",
    "    \n",
    "</div>"
   ]
  },
  {
   "cell_type": "code",
   "execution_count": null,
   "metadata": {
    "id": "UrNbom9qbuh1"
   },
   "outputs": [],
   "source": [
    "# YOUR CODE HERE"
   ]
  },
  {
   "cell_type": "markdown",
   "metadata": {
    "id": "ayIdErsgjayi"
   },
   "source": [
    "### Общая информация по `Optuna`"
   ]
  },
  {
   "cell_type": "markdown",
   "metadata": {
    "id": "a6Y35ioqbuh0",
    "tags": []
   },
   "source": [
    "#### Ключевые особенности <code>Optuna</code>\n",
    "\n"
   ]
  },
  {
   "cell_type": "markdown",
   "metadata": {
    "id": "EFwQ3_NStdFY"
   },
   "source": [
    "- Легковесность и универсальность — можно подбирать оптимальные параметры под любые функции и метрики.\n",
    "- SOTA-алгоритмы, адаптированные для поиска гиперпараметров.\n",
    "- Параллелизация и различные методы прунинга.\n",
    "- Встроенная визуализация.\n",
    "- Интеграция со множеством популярных библиотек (бустинги, sklearn, PyTorch, W&B и другие).\n",
    "\n",
    "Разберем Optuna по частям, чтобы понять, как ее использовать."
   ]
  },
  {
   "cell_type": "markdown",
   "metadata": {
    "id": "GIT2J4INtxaf"
   },
   "source": [
    "#### <code>Study</code>: оптимизация, базирующаяся на <code>Objective</code> функции"
   ]
  },
  {
   "cell_type": "markdown",
   "metadata": {
    "id": "wqPh6XVybuh0"
   },
   "source": [
    "\n",
    "\n",
    "В `Objective`-функцию нужно написать код подсчета метрики, которую возвращаем. `Objective` вызывается Optuna много раз для подбора лучших параметров.\n",
    "```python\n",
    "def objective(trial, ...):\n",
    "    # calculate score...\n",
    "    return score\n",
    "```\n",
    "\n",
    "<h4> <code>Trial</code> — одно выполнение <code>Objective</code>-функции</h4>\n",
    "\n",
    "В `trial`-объекте мы передаем параметры для «перебора», используя для каждого типа свой метод. Например:\n",
    "\n",
    "```python\n",
    "# метод `suggest_float` показывает, что перебираем `float` значения, от 0 и до 1.5 границы\n",
    "param = trial.suggest_float('param', 0, 1.5)\n",
    "\n",
    "# Категориальное значение\n",
    "loss_function = trial.suggest_categorical('loss', ['Logloss', 'CrossEntropy'])\n",
    "\n",
    "# Целочисленное значение\n",
    "depth = trial.suggest_int('depth', 5, 8)\n",
    "\n",
    "# Равномерное распределение\n",
    "learning_rate = trial.suggest_uniform('learning_rate', 0.0, 1.0)\n",
    "```"
   ]
  },
  {
   "cell_type": "markdown",
   "metadata": {
    "id": "4huC_vW7uI4o"
   },
   "source": [
    "#### `Study` parameters"
   ]
  },
  {
   "cell_type": "markdown",
   "metadata": {
    "id": "Cq94BjhWbuh0"
   },
   "source": [
    "Инициализируем объект `study`, который начнет перебор и сохранит в себе историю результатов.\n",
    "Если мы стараемся увеличить метрику, а не уменьшить ошибку, то используем `create_study(direction='maximize')`.\n",
    "```python\n",
    "study = optuna.create_study()\n",
    "study.optimize(objective, n_trials=10)\n",
    "```"
   ]
  },
  {
   "cell_type": "markdown",
   "metadata": {
    "id": "x9AvfTv4buh0"
   },
   "source": [
    "<div class=\"alert alert-info\">\n",
    "    \n",
    "В [`Optuna`](https://optuna.readthedocs.io/en/stable/index.html) реализовано несколько методов (`sampler`) подбора параметров (в том числе классические):\n",
    "* `GridSampler`\n",
    "* `RandomSampler`\n",
    "* `Tree-Structed Parzen Estimator` (`TPESampler` — самый популярный, дефолтный)\n",
    "* `BruteForceSampler`\n",
    "* [Другие 4 метода](https://optuna.readthedocs.io/en/stable/reference/samplers/index.html#module-optuna.samplers) (можно написать собственный семплер)"
   ]
  },
  {
   "cell_type": "markdown",
   "metadata": {
    "id": "3g4-aEHabuh0",
    "tags": []
   },
   "source": [
    "### Советы по перебору параметров"
   ]
  },
  {
   "cell_type": "markdown",
   "metadata": {
    "id": "g3b8cs4Mt7pq"
   },
   "source": [
    "- Иметь понимание важности параметров.\n",
    "- Число `iterations` лучше взять с запасом и зафиксировать, при этом ограничив через `early_stopping_rounds`.\n",
    "- Подсмотреть или чувствовать диапазоны и шаг значений.\n",
    "- Исключить то, что перебирать не нужно (`random_seed` , `eval_metric`, `thread_count` и прочее).\n",
    "- Используйте информацию с прошлых попыток."
   ]
  },
  {
   "cell_type": "markdown",
   "metadata": {
    "id": "dXv8NCp_buh1"
   },
   "source": [
    "# Домашнее задание 4. Блендинг"
   ]
  },
  {
   "cell_type": "markdown",
   "metadata": {
    "id": "8-bhQKWGbuh1"
   },
   "source": [
    "<div class=\"alert alert-info\">\n",
    "\n",
    "**Цель блока** — улучшить качество предсказания, объединив несколько моделей вместе методом блендинга."
   ]
  },
  {
   "cell_type": "markdown",
   "metadata": {
    "id": "ZtI-eK3xbuh1"
   },
   "source": [
    "## Задание 6. Блендинг (10 баллов)"
   ]
  },
  {
   "cell_type": "markdown",
   "metadata": {
    "id": "8v9Onoo9buh1"
   },
   "source": [
    "1. Построить и обучить модели:\n",
    "    - `CatBoostClassifier`,\n",
    "    - `LightGBMClassifier (goss)`,\n",
    "    - `XGBoostClassifier (dart)`,\n",
    "    - `RandomForestClassifier`.\n",
    "2. Сделать предсказания каждой моделью, оценить качество.\n",
    "3. Реализовать блендинг двумя способами, оценить качество и сравнить с предыдущим пунктом:\n",
    "    - `Hard Voting` —  метод, при котором делаем голосование всех моделей и выбираем самый популярный класс.\n",
    "    - `Soft Voting` —  метод, при котором мы складываем вероятности предсказания всех моделей по каждому классу и потом выбираем самый класс с максимальной суммой.\n",
    "    \n",
    "<h4> Критерии оценивания </h4>\n",
    "    \n",
    "- Обучены 4 модели — 1 балл за каждую обученную модель, всего 4 балла.\n",
    "- Для модели проведен подбор гиперпараметров — 0,5 балла за каждый параметр, всего 2 балла.\n",
    "- Сделаны предсказания каждой модели и оценено качество — 1 балл.\n",
    "- Реализован `Hard Voting` — 1 балл.\n",
    "- Реализован `Soft Voting` — 1 балл.\n",
    "- Сделаны выводы — 1 балл.\n",
    "    \n",
    "</div>"
   ]
  },
  {
   "cell_type": "code",
   "execution_count": null,
   "metadata": {
    "id": "Mfi_sxnjbuh2"
   },
   "outputs": [],
   "source": [
    "# YOUR CODE HERE"
   ]
  },
  {
   "cell_type": "markdown",
   "metadata": {
    "id": "O2utYsm3mShl"
   },
   "source": [
    "### Общая информация о блендинге"
   ]
  },
  {
   "cell_type": "markdown",
   "metadata": {
    "id": "-JNyyolfbuh1"
   },
   "source": [
    "**Основная идея** — взять от каждого алгоритма лучшее и совместить несколько разных ML-моделей в одну.\n",
    "\n",
    "Что это дает:\n",
    "- Увеличивается обобщающая способность финальной модели и качество улучшается.\n",
    "- Модель становится более стабильной, что позволяет не слететь на приватном лидерборде.\n",
    "\n",
    "Особенно хорошо накидывает блендинг, если смешиваемые модели имеют разную природу — например, нейронные сети, kNN и решающие деревья. Они выучивают разные зависимости и хорошо дополняют друг друга.\n",
    "\n",
    "</div>"
   ]
  },
  {
   "cell_type": "markdown",
   "metadata": {
    "id": "C5w0RwnYbuh3"
   },
   "source": [
    "# <center id=\"part6\"> Отправка финального решения на лидерборд на Kaggle"
   ]
  },
  {
   "cell_type": "markdown",
   "metadata": {
    "id": "wpt2Bdimbuh3"
   },
   "source": [
    "<div class=\"alert alert-info\">\n",
    "\n",
    "**Цель блока** — сделать предсказание с помощью блендинга для тестовой части датасета, отправить результат [в соревнование на Kaggle](https://www.kaggle.com/competitions/competative-data-science-course-by-data-feeling/overview)."
   ]
  },
  {
   "cell_type": "markdown",
   "metadata": {
    "id": "gfYqF37Cbuh3"
   },
   "source": [
    "## Задание 8. Предсказание на тестовом датасете и отправка на Kaggle"
   ]
  },
  {
   "cell_type": "markdown",
   "metadata": {
    "id": "m_ExuGjabuh3"
   },
   "source": [
    "1. Сделать предобработку для тестового датасета, присоединить к нему информацию из других датасетов и добавить признаки, которые генерировали для тренировочного датасета.\n",
    "2. Сделать предсказания каждой моделью, которую хотите включить в ансамбль, но минимум их должно быть 3.\n",
    "3. Сделать блендинг с помощью `Hard Voting` или `Soft Voting` на ваш выбор.\n",
    "4. Сохранить результат предсказания в `csv` файл и отправить решение на Kaggle.\n",
    "    \n",
    "<h4> Критерии оценивания </h4>\n",
    "    \n",
    "- 0 баллов за задание, если итоговый скор на лидерборде меньше чем `0.9`.\n",
    "- 1 балл за каждый выполненный пункт.\n",
    "\n",
    "</div>"
   ]
  },
  {
   "cell_type": "code",
   "execution_count": null,
   "metadata": {
    "id": "Cnp6usAybuh4"
   },
   "outputs": [],
   "source": [
    "car_test = pd.read_csv('https://raw.githubusercontent.com/a-milenkin/Competitive_Data_Science/main/data/car_test.csv')\n",
    "car_test.head(3)"
   ]
  },
  {
   "cell_type": "code",
   "execution_count": null,
   "metadata": {
    "id": "ZEZhf8gabuh4"
   },
   "outputs": [],
   "source": [
    "# YOUR CODE HERE"
   ]
  },
  {
   "cell_type": "markdown",
   "metadata": {
    "id": "cUuphISJbuh4"
   },
   "source": [
    "### Советы по отправке кода на Kaggle\n"
   ]
  },
  {
   "cell_type": "markdown",
   "metadata": {
    "id": "ZAQLSpKWu4aI"
   },
   "source": [
    "\n",
    "Если пишете код на `Kaggle`, то для отправки решения:\n",
    "\n",
    "1. Нажать Save Version.\n",
    "2. Проверить, что в Advanced Settings выбрано «Всегда сохранять результаты ноутбука».\n",
    "3. Выбрать тип сохранения Save & Run All (Commit).\n",
    "4. Нажать кнопку Save."
   ]
  }
 ],
 "metadata": {
  "colab": {
   "provenance": []
  },
  "kernelspec": {
   "display_name": "Python 3 (ipykernel)",
   "language": "python",
   "name": "python3"
  },
  "language_info": {
   "codemirror_mode": {
    "name": "ipython",
    "version": 3
   },
   "file_extension": ".py",
   "mimetype": "text/x-python",
   "name": "python",
   "nbconvert_exporter": "python",
   "pygments_lexer": "ipython3",
   "version": "3.11.5"
  }
 },
 "nbformat": 4,
 "nbformat_minor": 1
}
